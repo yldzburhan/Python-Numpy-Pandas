{
 "cells": [
  {
   "cell_type": "markdown",
   "id": "f5e39f04",
   "metadata": {
    "papermill": {
     "duration": 0.059136,
     "end_time": "2023-10-11T14:44:18.867603",
     "exception": false,
     "start_time": "2023-10-11T14:44:18.808467",
     "status": "completed"
    },
    "tags": []
   },
   "source": [
    "<h1 style=\"background-color:#fbb714;font-family:courier;font-size:350%;font-style: oblique;font-weight: bold;font-variant: small-caps;text-align:center;border-radius: 15px 50px;\"> Data Manipulation: NumPy & Pandas Tutorial  </h1>"
   ]
  },
  {
   "cell_type": "markdown",
   "id": "9d4a2c37",
   "metadata": {
    "papermill": {
     "duration": 0.064134,
     "end_time": "2023-10-11T14:44:18.992922",
     "exception": false,
     "start_time": "2023-10-11T14:44:18.928788",
     "status": "completed"
    },
    "tags": []
   },
   "source": [
    "# Content:\n",
    "\n",
    "1. [NumPy](#1)\n",
    "    * [Introduction](#2)\n",
    "    * [What is an Array?](#3)\n",
    "    * [Creating Array](#4)\n",
    "    * [Array Features](#5)\n",
    "    * [ReShape](#6)\n",
    "    * [Concatenation](#7)\n",
    "    * [Splitting](#8)\n",
    "    * [Sorting](#9)\n",
    "    * [Index Operations](#10)\n",
    "    * [Subsets](#11)\n",
    "    * [Conditional Element Operations](#12)\n",
    "    * [Mathematical Operations](#13)\n",
    "1. [Pandas](#14)\n",
    "    * [Introduction](#15)\n",
    "    * [Creating Series](#16)\n",
    "    * [Creating DataFrame](#17)\n",
    "    * [DataFrame Operations](#18)\n",
    "    * [loc - iloc](#19)\n",
    "    * [Conditional Element Operations](#20)\n",
    "    * [Merging](#21)\n",
    "    * [Aggregation & Grouping](#22)\n",
    "    * [Pivot Table](#23)\n",
    "    * [Reading Data](#24)\n",
    "    * [Rule Based Classification](#25)"
   ]
  },
  {
   "cell_type": "markdown",
   "id": "14345b80",
   "metadata": {
    "papermill": {
     "duration": 0.05876,
     "end_time": "2023-10-11T14:44:19.113904",
     "exception": false,
     "start_time": "2023-10-11T14:44:19.055144",
     "status": "completed"
    },
    "tags": []
   },
   "source": [
    "<a id = \"1\"></a><br>\n",
    "<h1 style=\"background-color:#3d85c6;font-family:courier;font-size:300%;font-style: oblique;font-weight: bold;font-variant: small-caps;text-align:center;border-radius: 15px 50px;\"> NumPy </h1>"
   ]
  },
  {
   "cell_type": "markdown",
   "id": "5462b64b",
   "metadata": {
    "papermill": {
     "duration": 0.056109,
     "end_time": "2023-10-11T14:44:19.234312",
     "exception": false,
     "start_time": "2023-10-11T14:44:19.178203",
     "status": "completed"
    },
    "tags": []
   },
   "source": [
    "<a id = \"2\"></a><br>\n",
    "<h1 style=\"background-color:#98AFC7;font-family:courier;font-size:250%;font-style: oblique;font-weight: bold;font-variant: small-caps;text-align:center;border-radius: 15px 50px;\"> Introduction </h1>\n",
    "\n",
    "NumPy (Numerical Python) is a powerful library in Python used for scientific computing and data processing. It provides a fundamental data structure called ndarray (N-dimensional array) for high-performance multi-dimensional arrays and mathematical functions. Consequently, NumPy is a preferred tool for scientific and engineering applications dealing with large amounts of data.\n",
    "\n",
    "The key features of NumPy are as follows:\n",
    "\n",
    "* **Numpy Array:** NumPy utilizes ndarray as its fundamental data structure for multi-dimensional arrays. These arrays offer faster and more efficient data storage and processing compared to Python's built-in lists. NumPy arrays can be used for vectors, matrices, and more complex data structures.\n",
    "\n",
    "* **Broadcasting:** NumPy's broadcasting feature enables performing mathematical operations on arrays with different shapes by automatically handling dimension mismatches. This makes programming more straightforward and flexible.\n",
    "\n",
    "* **Fast and Efficient:** NumPy performs high-performance mathematical operations using low-level code written in C. This leads to improved performance in applications dealing with large datasets and complex mathematical calculations.\n",
    "\n",
    "* **Mathematical Functions:** NumPy provides a comprehensive mathematical library containing functions for mathematics, statistics, random number generation, linear algebra, integration, and differentiation.\n",
    "\n",
    "* **Data Array Operations:** NumPy offers rich functions for data processing and manipulation. You can perform operations such as filtering, sorting, reshaping, rotation, and merging on data arrays.\n",
    "\n",
    "NumPy is widely used in various fields, from scientific computations to data analysis, machine learning, and image processing. It is a fundamental tool for most data scientists and researchers, providing them with powerful and efficient capabilities for data manipulation and analysis."
   ]
  },
  {
   "cell_type": "markdown",
   "id": "d688eed8",
   "metadata": {
    "papermill": {
     "duration": 0.072799,
     "end_time": "2023-10-11T14:44:19.363097",
     "exception": false,
     "start_time": "2023-10-11T14:44:19.290298",
     "status": "completed"
    },
    "tags": []
   },
   "source": [
    "<a id = \"3\"></a><br>\n",
    "<h1 style=\"background-color:#98AFC7;font-family:courier;font-size:250%;font-style: oblique;font-weight: bold;font-variant: small-caps;text-align:center;border-radius: 15px 50px;\"> What is an Array? </h1>\n",
    "\n",
    "An array is a data structure that stores a collection of elements, all of the same data type, in a contiguous block of memory. Arrays are used to represent multiple values or data items under a single name. Each element in an array is identified by an index, which is an integer value that specifies the element's position within the array.\n",
    "\n",
    "In programming, arrays are essential for efficiently storing and accessing a group of elements of the same type. They are widely used in various programming languages to handle collections of data, perform mathematical computations, and organize information in a structured manner.\n",
    "\n",
    "* In Python, there are different types of arrays:\n",
    "\n",
    "    1. Lists: Lists are a built-in Python data type that can hold elements of different data types. They are flexible and can be resized dynamically, making them suitable for handling collections of heterogeneous data.\n",
    "\n",
    "    2. NumPy Arrays: NumPy arrays, also known as ndarray (N-dimensional array), are a data structure provided by the NumPy library. Unlike Python lists, NumPy arrays are homogeneous and can efficiently handle large sets of numerical data. They offer faster array operations and are widely used for scientific computing, data analysis, and numerical computations.\n",
    "\n",
    "* Arrays have many advantages, including:\n",
    "\n",
    "    * Efficient memory usage: Arrays store elements in contiguous memory locations, reducing memory overhead and enabling fast access to elements.\n",
    "\n",
    "    * Fast element access: Elements in an array can be accessed directly using their index, making array access faster than searching through elements in other data structures.\n",
    "     \n",
    "    * Efficient mathematical operations: Arrays allow vectorized operations, enabling mathematical operations to be performed on entire arrays at once, which improves performance for numerical computations.\n",
    "     \n",
    "    * Simplified data manipulation: Arrays support advanced indexing and slicing techniques, making it easy to extract subsets of data or perform operations on specific elements.\n",
    "     \n",
    "    * Better performance: The ability to perform operations on multiple elements simultaneously and the efficient memory layout of arrays contribute to improved overall performance.\n",
    "\n",
    "In summary, an array is a data structure used to store a collection of elements of the same data type in a contiguous block of memory. It offers advantages such as efficient memory usage, fast element access, and support for mathematical operations, making it a fundamental tool in programming and data manipulation tasks."
   ]
  },
  {
   "cell_type": "markdown",
   "id": "f5483bcb",
   "metadata": {
    "papermill": {
     "duration": 0.05729,
     "end_time": "2023-10-11T14:44:19.479264",
     "exception": false,
     "start_time": "2023-10-11T14:44:19.421974",
     "status": "completed"
    },
    "tags": []
   },
   "source": [
    "<a id = \"4\"></a><br>\n",
    "<h1 style=\"background-color:#98AFC7;font-family:courier;font-size:250%;font-style: oblique;font-weight: bold;font-variant: small-caps;text-align:center;border-radius: 15px 50px;\"> Creating Array </h1>\n",
    "\n",
    "To create a NumPy array, you can use the numpy.array() function or other NumPy functions that generate specific arrays. \n",
    "\n",
    "Some common methods to create NumPy arrays:"
   ]
  },
  {
   "cell_type": "markdown",
   "id": "02273db2",
   "metadata": {
    "papermill": {
     "duration": 0.059404,
     "end_time": "2023-10-11T14:44:19.597115",
     "exception": false,
     "start_time": "2023-10-11T14:44:19.537711",
     "status": "completed"
    },
    "tags": []
   },
   "source": [
    "* Using **numpy.array()** function: You can create a NumPy array by passing a Python list or tuple to the numpy.array() function."
   ]
  },
  {
   "cell_type": "code",
   "execution_count": 1,
   "id": "87e3755d",
   "metadata": {
    "execution": {
     "iopub.execute_input": "2023-10-11T14:44:19.718789Z",
     "iopub.status.busy": "2023-10-11T14:44:19.717825Z",
     "iopub.status.idle": "2023-10-11T14:44:19.737070Z",
     "shell.execute_reply": "2023-10-11T14:44:19.735253Z"
    },
    "papermill": {
     "duration": 0.08277,
     "end_time": "2023-10-11T14:44:19.739597",
     "exception": false,
     "start_time": "2023-10-11T14:44:19.656827",
     "status": "completed"
    },
    "tags": []
   },
   "outputs": [
    {
     "name": "stdout",
     "output_type": "stream",
     "text": [
      "[1 2 3 4 5]\n"
     ]
    }
   ],
   "source": [
    "import numpy as np\n",
    "\n",
    "# From a list:\n",
    "\n",
    "data_list = [1, 2, 3, 4, 5]\n",
    "numpy_array = np.array(data_list)\n",
    "\n",
    "print(numpy_array)"
   ]
  },
  {
   "cell_type": "code",
   "execution_count": 2,
   "id": "e6d5dde4",
   "metadata": {
    "execution": {
     "iopub.execute_input": "2023-10-11T14:44:19.858647Z",
     "iopub.status.busy": "2023-10-11T14:44:19.857672Z",
     "iopub.status.idle": "2023-10-11T14:44:19.865849Z",
     "shell.execute_reply": "2023-10-11T14:44:19.864094Z"
    },
    "papermill": {
     "duration": 0.071415,
     "end_time": "2023-10-11T14:44:19.868867",
     "exception": false,
     "start_time": "2023-10-11T14:44:19.797452",
     "status": "completed"
    },
    "tags": []
   },
   "outputs": [
    {
     "name": "stdout",
     "output_type": "stream",
     "text": [
      "[ 6  7  8  9 10]\n"
     ]
    }
   ],
   "source": [
    "# From a tuple:\n",
    "\n",
    "data_tuple = (6, 7, 8, 9, 10)\n",
    "numpy_array = np.array(data_tuple)\n",
    "\n",
    "print(numpy_array)"
   ]
  },
  {
   "cell_type": "markdown",
   "id": "eec740e7",
   "metadata": {
    "papermill": {
     "duration": 0.056028,
     "end_time": "2023-10-11T14:44:19.986769",
     "exception": false,
     "start_time": "2023-10-11T14:44:19.930741",
     "status": "completed"
    },
    "tags": []
   },
   "source": [
    "* Using NumPy functions: NumPy provides functions like **numpy.zeros(), numpy.ones(), numpy.arange(),** etc., to create arrays with specific values."
   ]
  },
  {
   "cell_type": "code",
   "execution_count": 3,
   "id": "e8933af4",
   "metadata": {
    "execution": {
     "iopub.execute_input": "2023-10-11T14:44:20.105265Z",
     "iopub.status.busy": "2023-10-11T14:44:20.104467Z",
     "iopub.status.idle": "2023-10-11T14:44:20.110398Z",
     "shell.execute_reply": "2023-10-11T14:44:20.109112Z"
    },
    "papermill": {
     "duration": 0.067053,
     "end_time": "2023-10-11T14:44:20.113691",
     "exception": false,
     "start_time": "2023-10-11T14:44:20.046638",
     "status": "completed"
    },
    "tags": []
   },
   "outputs": [
    {
     "name": "stdout",
     "output_type": "stream",
     "text": [
      "[0. 0. 0. 0. 0.]\n"
     ]
    }
   ],
   "source": [
    "# Create an array of zeros:\n",
    "\n",
    "zeros_array = np.zeros(5)\n",
    "\n",
    "print(zeros_array)"
   ]
  },
  {
   "cell_type": "code",
   "execution_count": 4,
   "id": "d814d7ff",
   "metadata": {
    "execution": {
     "iopub.execute_input": "2023-10-11T14:44:20.230903Z",
     "iopub.status.busy": "2023-10-11T14:44:20.230567Z",
     "iopub.status.idle": "2023-10-11T14:44:20.236010Z",
     "shell.execute_reply": "2023-10-11T14:44:20.235181Z"
    },
    "papermill": {
     "duration": 0.065527,
     "end_time": "2023-10-11T14:44:20.238267",
     "exception": false,
     "start_time": "2023-10-11T14:44:20.172740",
     "status": "completed"
    },
    "tags": []
   },
   "outputs": [
    {
     "name": "stdout",
     "output_type": "stream",
     "text": [
      "[1. 1. 1.]\n"
     ]
    }
   ],
   "source": [
    "# Create an array of ones:\n",
    "\n",
    "ones_array = np.ones(3)\n",
    "\n",
    "print(ones_array)"
   ]
  },
  {
   "cell_type": "code",
   "execution_count": 5,
   "id": "b64d0e67",
   "metadata": {
    "execution": {
     "iopub.execute_input": "2023-10-11T14:44:20.357853Z",
     "iopub.status.busy": "2023-10-11T14:44:20.357411Z",
     "iopub.status.idle": "2023-10-11T14:44:20.363605Z",
     "shell.execute_reply": "2023-10-11T14:44:20.362343Z"
    },
    "papermill": {
     "duration": 0.069322,
     "end_time": "2023-10-11T14:44:20.366166",
     "exception": false,
     "start_time": "2023-10-11T14:44:20.296844",
     "status": "completed"
    },
    "tags": []
   },
   "outputs": [
    {
     "name": "stdout",
     "output_type": "stream",
     "text": [
      "[1 2 3 4 5]\n"
     ]
    }
   ],
   "source": [
    "# Create a range of values:\n",
    "\n",
    "range_array = np.arange(1, 6)\n",
    "\n",
    "print(range_array)"
   ]
  },
  {
   "cell_type": "markdown",
   "id": "537e3f8c",
   "metadata": {
    "papermill": {
     "duration": 0.056787,
     "end_time": "2023-10-11T14:44:20.552716",
     "exception": false,
     "start_time": "2023-10-11T14:44:20.495929",
     "status": "completed"
    },
    "tags": []
   },
   "source": [
    "* Using random number generation: NumPy provides functions to create arrays with random values using the **numpy.random** module."
   ]
  },
  {
   "cell_type": "code",
   "execution_count": 6,
   "id": "62f42cdb",
   "metadata": {
    "execution": {
     "iopub.execute_input": "2023-10-11T14:44:20.665758Z",
     "iopub.status.busy": "2023-10-11T14:44:20.665417Z",
     "iopub.status.idle": "2023-10-11T14:44:20.671660Z",
     "shell.execute_reply": "2023-10-11T14:44:20.670781Z"
    },
    "papermill": {
     "duration": 0.067096,
     "end_time": "2023-10-11T14:44:20.674692",
     "exception": false,
     "start_time": "2023-10-11T14:44:20.607596",
     "status": "completed"
    },
    "tags": []
   },
   "outputs": [
    {
     "name": "stdout",
     "output_type": "stream",
     "text": [
      "[0.21659563 0.89628898 0.33528761 0.10891849 0.89372779 0.5340989 ]\n"
     ]
    }
   ],
   "source": [
    "# Create an array of random values between 0 and 1:\n",
    "\n",
    "random_array = np.random.random(6)\n",
    "\n",
    "print(random_array)"
   ]
  },
  {
   "cell_type": "markdown",
   "id": "a3d33d23",
   "metadata": {
    "papermill": {
     "duration": 0.057549,
     "end_time": "2023-10-11T14:44:20.789907",
     "exception": false,
     "start_time": "2023-10-11T14:44:20.732358",
     "status": "completed"
    },
    "tags": []
   },
   "source": [
    "* **randint()** method is a function within the numpy.random module of the NumPy library. This method is used to create a NumPy array containing random integers."
   ]
  },
  {
   "cell_type": "code",
   "execution_count": 7,
   "id": "d26f12b6",
   "metadata": {
    "execution": {
     "iopub.execute_input": "2023-10-11T14:44:20.908010Z",
     "iopub.status.busy": "2023-10-11T14:44:20.907608Z",
     "iopub.status.idle": "2023-10-11T14:44:20.914882Z",
     "shell.execute_reply": "2023-10-11T14:44:20.913988Z"
    },
    "papermill": {
     "duration": 0.068939,
     "end_time": "2023-10-11T14:44:20.917279",
     "exception": false,
     "start_time": "2023-10-11T14:44:20.848340",
     "status": "completed"
    },
    "tags": []
   },
   "outputs": [
    {
     "name": "stdout",
     "output_type": "stream",
     "text": [
      "[8 8 7 7 2]\n"
     ]
    }
   ],
   "source": [
    "# Creating a 1-dimensional array of random integers between 1 and 10:\n",
    "\n",
    "random_int_array = np.random.randint(1, 11, size=5)\n",
    "\n",
    "print(random_int_array)"
   ]
  },
  {
   "cell_type": "code",
   "execution_count": 8,
   "id": "b23c1a3a",
   "metadata": {
    "execution": {
     "iopub.execute_input": "2023-10-11T14:44:21.036173Z",
     "iopub.status.busy": "2023-10-11T14:44:21.035806Z",
     "iopub.status.idle": "2023-10-11T14:44:21.042521Z",
     "shell.execute_reply": "2023-10-11T14:44:21.041187Z"
    },
    "papermill": {
     "duration": 0.06854,
     "end_time": "2023-10-11T14:44:21.044969",
     "exception": false,
     "start_time": "2023-10-11T14:44:20.976429",
     "status": "completed"
    },
    "tags": []
   },
   "outputs": [
    {
     "name": "stdout",
     "output_type": "stream",
     "text": [
      "[[14 90 78]\n",
      " [85  8 98]\n",
      " [ 7  4 66]]\n"
     ]
    }
   ],
   "source": [
    "# Creating a 2-dimensional array of random integers between 1 and 100 (3x3):\n",
    "\n",
    "random_matrix = np.random.randint(1, 101, size=(3, 3))\n",
    "\n",
    "print(random_matrix)"
   ]
  },
  {
   "cell_type": "markdown",
   "id": "7d347539",
   "metadata": {
    "papermill": {
     "duration": 0.057089,
     "end_time": "2023-10-11T14:44:21.157834",
     "exception": false,
     "start_time": "2023-10-11T14:44:21.100745",
     "status": "completed"
    },
    "tags": []
   },
   "source": [
    "* Using other NumPy functions: NumPy provides functions like **numpy.linspace(), numpy.full(),** etc., to create arrays with specific properties."
   ]
  },
  {
   "cell_type": "code",
   "execution_count": 9,
   "id": "217bd5d1",
   "metadata": {
    "execution": {
     "iopub.execute_input": "2023-10-11T14:44:21.271459Z",
     "iopub.status.busy": "2023-10-11T14:44:21.271067Z",
     "iopub.status.idle": "2023-10-11T14:44:21.276888Z",
     "shell.execute_reply": "2023-10-11T14:44:21.275869Z"
    },
    "papermill": {
     "duration": 0.065326,
     "end_time": "2023-10-11T14:44:21.279040",
     "exception": false,
     "start_time": "2023-10-11T14:44:21.213714",
     "status": "completed"
    },
    "tags": []
   },
   "outputs": [
    {
     "name": "stdout",
     "output_type": "stream",
     "text": [
      "[0.   0.25 0.5  0.75 1.  ]\n"
     ]
    }
   ],
   "source": [
    "# Create an array with equally spaced values:\n",
    "\n",
    "linspace_array = np.linspace(0, 1, num=5)\n",
    "\n",
    "print(linspace_array)"
   ]
  },
  {
   "cell_type": "code",
   "execution_count": 10,
   "id": "401a0b0b",
   "metadata": {
    "execution": {
     "iopub.execute_input": "2023-10-11T14:44:21.395524Z",
     "iopub.status.busy": "2023-10-11T14:44:21.395144Z",
     "iopub.status.idle": "2023-10-11T14:44:21.400682Z",
     "shell.execute_reply": "2023-10-11T14:44:21.399862Z"
    },
    "papermill": {
     "duration": 0.067596,
     "end_time": "2023-10-11T14:44:21.402866",
     "exception": false,
     "start_time": "2023-10-11T14:44:21.335270",
     "status": "completed"
    },
    "tags": []
   },
   "outputs": [
    {
     "name": "stdout",
     "output_type": "stream",
     "text": [
      "[[5 5]\n",
      " [5 5]]\n"
     ]
    }
   ],
   "source": [
    "# Create a 2x2 array with a specific value (e.g., 5):\n",
    "\n",
    "full_array = np.full((2, 2), 5)\n",
    "\n",
    "print(full_array)"
   ]
  },
  {
   "cell_type": "markdown",
   "id": "99230451",
   "metadata": {
    "papermill": {
     "duration": 0.058225,
     "end_time": "2023-10-11T14:44:21.520282",
     "exception": false,
     "start_time": "2023-10-11T14:44:21.462057",
     "status": "completed"
    },
    "tags": []
   },
   "source": [
    "<a id = \"5\"></a><br>\n",
    "<h1 style=\"background-color:#98AFC7;font-family:courier;font-size:250%;font-style: oblique;font-weight: bold;font-variant: small-caps;text-align:center;border-radius: 15px 50px;\"> Array Features </h1>\n",
    "\n",
    "* **ndim:** is a built-in function in NumPy that is used to determine the number of dimensions (axes) of a NumPy array. It provides information about the size of the array in terms of its dimensions. The ndim method is called on a NumPy array and does not take any arguments. It returns an integer value representing the number of dimensions in the array.\n",
    "\n",
    "* **shape:**  method is a built-in function in NumPy that is used to determine the shape of a NumPy array. It provides information about the dimensions and size of the array. The shape method is called on a NumPy array and does not take any arguments. It returns a tuple of integers representing the size of the array along each axis.\n",
    "\n",
    "* **size:** to get the size of a NumPy array, you can use the size attribute without calling it as a method. It returns an integer representing the total number of elements in the array.\n",
    "\n",
    "* **dtype:** method is a built-in function in NumPy that is used to determine the data type of elements in a NumPy array. It provides information about the type of data that the array holds. The dtype method is called on a NumPy array and does not take any arguments. It returns a NumPy data type object, which represents the data type of the elements in the array. NumPy data types include integers, floating-point numbers, complex numbers, and other specialized data types.\n"
   ]
  },
  {
   "cell_type": "markdown",
   "id": "f57dd0f4",
   "metadata": {
    "papermill": {
     "duration": 0.057947,
     "end_time": "2023-10-11T14:44:21.636191",
     "exception": false,
     "start_time": "2023-10-11T14:44:21.578244",
     "status": "completed"
    },
    "tags": []
   },
   "source": [
    "---"
   ]
  },
  {
   "cell_type": "code",
   "execution_count": 11,
   "id": "41323fdc",
   "metadata": {
    "execution": {
     "iopub.execute_input": "2023-10-11T14:44:21.754895Z",
     "iopub.status.busy": "2023-10-11T14:44:21.754558Z",
     "iopub.status.idle": "2023-10-11T14:44:21.759658Z",
     "shell.execute_reply": "2023-10-11T14:44:21.758526Z"
    },
    "papermill": {
     "duration": 0.069408,
     "end_time": "2023-10-11T14:44:21.762368",
     "exception": false,
     "start_time": "2023-10-11T14:44:21.692960",
     "status": "completed"
    },
    "tags": []
   },
   "outputs": [
    {
     "name": "stdout",
     "output_type": "stream",
     "text": [
      "1\n"
     ]
    }
   ],
   "source": [
    "import numpy as np\n",
    "\n",
    "# 1D NumPy array:\n",
    "\n",
    "arr_1d = np.array([1, 2, 3, 4, 5])\n",
    "\n",
    "print(arr_1d.ndim)"
   ]
  },
  {
   "cell_type": "code",
   "execution_count": 12,
   "id": "2a70eda4",
   "metadata": {
    "execution": {
     "iopub.execute_input": "2023-10-11T14:44:21.878124Z",
     "iopub.status.busy": "2023-10-11T14:44:21.877782Z",
     "iopub.status.idle": "2023-10-11T14:44:21.884032Z",
     "shell.execute_reply": "2023-10-11T14:44:21.882551Z"
    },
    "papermill": {
     "duration": 0.067792,
     "end_time": "2023-10-11T14:44:21.886368",
     "exception": false,
     "start_time": "2023-10-11T14:44:21.818576",
     "status": "completed"
    },
    "tags": []
   },
   "outputs": [
    {
     "name": "stdout",
     "output_type": "stream",
     "text": [
      "2\n"
     ]
    }
   ],
   "source": [
    "# 2D NumPy array (matrix):\n",
    "\n",
    "arr_2d = np.array([[1, 2, 3], [4, 5, 6]])\n",
    "\n",
    "print(arr_2d.ndim)"
   ]
  },
  {
   "cell_type": "code",
   "execution_count": 13,
   "id": "a51e5b4e",
   "metadata": {
    "execution": {
     "iopub.execute_input": "2023-10-11T14:44:22.003460Z",
     "iopub.status.busy": "2023-10-11T14:44:22.002988Z",
     "iopub.status.idle": "2023-10-11T14:44:22.009399Z",
     "shell.execute_reply": "2023-10-11T14:44:22.008254Z"
    },
    "papermill": {
     "duration": 0.067828,
     "end_time": "2023-10-11T14:44:22.011571",
     "exception": false,
     "start_time": "2023-10-11T14:44:21.943743",
     "status": "completed"
    },
    "tags": []
   },
   "outputs": [
    {
     "name": "stdout",
     "output_type": "stream",
     "text": [
      "3\n"
     ]
    }
   ],
   "source": [
    "# 3D NumPy array (3-dimensional tensor):\n",
    "\n",
    "arr_3d = np.array([[[1, 2], [3, 4]], [[5, 6], [7, 8]]])\n",
    "\n",
    "print(arr_3d.ndim)"
   ]
  },
  {
   "cell_type": "code",
   "execution_count": 14,
   "id": "3c15426a",
   "metadata": {
    "execution": {
     "iopub.execute_input": "2023-10-11T14:44:22.126104Z",
     "iopub.status.busy": "2023-10-11T14:44:22.125709Z",
     "iopub.status.idle": "2023-10-11T14:44:22.131837Z",
     "shell.execute_reply": "2023-10-11T14:44:22.130666Z"
    },
    "papermill": {
     "duration": 0.066302,
     "end_time": "2023-10-11T14:44:22.134031",
     "exception": false,
     "start_time": "2023-10-11T14:44:22.067729",
     "status": "completed"
    },
    "tags": []
   },
   "outputs": [
    {
     "name": "stdout",
     "output_type": "stream",
     "text": [
      "(5,)\n"
     ]
    }
   ],
   "source": [
    "import numpy as np\n",
    "\n",
    "# 1D NumPy array:\n",
    "\n",
    "arr_1d = np.array([1, 2, 3, 4, 5])\n",
    "\n",
    "print(arr_1d.shape)"
   ]
  },
  {
   "cell_type": "code",
   "execution_count": 15,
   "id": "ec92294e",
   "metadata": {
    "execution": {
     "iopub.execute_input": "2023-10-11T14:44:22.248657Z",
     "iopub.status.busy": "2023-10-11T14:44:22.248314Z",
     "iopub.status.idle": "2023-10-11T14:44:22.253185Z",
     "shell.execute_reply": "2023-10-11T14:44:22.252352Z"
    },
    "papermill": {
     "duration": 0.064734,
     "end_time": "2023-10-11T14:44:22.255324",
     "exception": false,
     "start_time": "2023-10-11T14:44:22.190590",
     "status": "completed"
    },
    "tags": []
   },
   "outputs": [
    {
     "name": "stdout",
     "output_type": "stream",
     "text": [
      "(2, 3)\n"
     ]
    }
   ],
   "source": [
    "# 2D NumPy array (matrix):\n",
    "\n",
    "arr_2d = np.array([[1, 2, 3], [4, 5, 6]])\n",
    "\n",
    "print(arr_2d.shape)"
   ]
  },
  {
   "cell_type": "code",
   "execution_count": 16,
   "id": "2526123a",
   "metadata": {
    "execution": {
     "iopub.execute_input": "2023-10-11T14:44:22.374095Z",
     "iopub.status.busy": "2023-10-11T14:44:22.373730Z",
     "iopub.status.idle": "2023-10-11T14:44:22.379578Z",
     "shell.execute_reply": "2023-10-11T14:44:22.378303Z"
    },
    "papermill": {
     "duration": 0.069288,
     "end_time": "2023-10-11T14:44:22.382502",
     "exception": false,
     "start_time": "2023-10-11T14:44:22.313214",
     "status": "completed"
    },
    "tags": []
   },
   "outputs": [
    {
     "name": "stdout",
     "output_type": "stream",
     "text": [
      "(2, 2, 2)\n"
     ]
    }
   ],
   "source": [
    "# 3D NumPy array (3-dimensional tensor):\n",
    "\n",
    "arr_3d = np.array([[[1, 2], [3, 4]], [[5, 6], [7, 8]]])\n",
    "\n",
    "print(arr_3d.shape)"
   ]
  },
  {
   "cell_type": "markdown",
   "id": "e96b6cb2",
   "metadata": {
    "papermill": {
     "duration": 0.058418,
     "end_time": "2023-10-11T14:44:22.499796",
     "exception": false,
     "start_time": "2023-10-11T14:44:22.441378",
     "status": "completed"
    },
    "tags": []
   },
   "source": [
    "* This indicates that the arr_3d array is three-dimensional and contains 2 elements in each dimension, in the order of 2, 2, and 2. So, this array contains a total of 2 x 2 x 2 = 8 elements."
   ]
  },
  {
   "cell_type": "code",
   "execution_count": 17,
   "id": "ccc582b6",
   "metadata": {
    "execution": {
     "iopub.execute_input": "2023-10-11T14:44:22.617217Z",
     "iopub.status.busy": "2023-10-11T14:44:22.616872Z",
     "iopub.status.idle": "2023-10-11T14:44:22.622243Z",
     "shell.execute_reply": "2023-10-11T14:44:22.621035Z"
    },
    "papermill": {
     "duration": 0.06768,
     "end_time": "2023-10-11T14:44:22.625300",
     "exception": false,
     "start_time": "2023-10-11T14:44:22.557620",
     "status": "completed"
    },
    "tags": []
   },
   "outputs": [
    {
     "name": "stdout",
     "output_type": "stream",
     "text": [
      "5\n"
     ]
    }
   ],
   "source": [
    "# Creating a 1D NumPy array:\n",
    "\n",
    "arr_1d = np.array([1, 2, 3, 4, 5])\n",
    "\n",
    "print(arr_1d.size)"
   ]
  },
  {
   "cell_type": "code",
   "execution_count": 18,
   "id": "ff94d01d",
   "metadata": {
    "execution": {
     "iopub.execute_input": "2023-10-11T14:44:22.810350Z",
     "iopub.status.busy": "2023-10-11T14:44:22.809151Z",
     "iopub.status.idle": "2023-10-11T14:44:22.815515Z",
     "shell.execute_reply": "2023-10-11T14:44:22.814344Z"
    },
    "papermill": {
     "duration": 0.134028,
     "end_time": "2023-10-11T14:44:22.817531",
     "exception": false,
     "start_time": "2023-10-11T14:44:22.683503",
     "status": "completed"
    },
    "tags": []
   },
   "outputs": [
    {
     "name": "stdout",
     "output_type": "stream",
     "text": [
      "6\n"
     ]
    }
   ],
   "source": [
    "# Creating a 2D NumPy array:\n",
    "\n",
    "arr_2d = np.array([[1, 2, 3], [4, 5, 6]])\n",
    "\n",
    "print(arr_2d.size)"
   ]
  },
  {
   "cell_type": "code",
   "execution_count": 19,
   "id": "0c758d72",
   "metadata": {
    "execution": {
     "iopub.execute_input": "2023-10-11T14:44:22.933303Z",
     "iopub.status.busy": "2023-10-11T14:44:22.932885Z",
     "iopub.status.idle": "2023-10-11T14:44:22.938571Z",
     "shell.execute_reply": "2023-10-11T14:44:22.937385Z"
    },
    "papermill": {
     "duration": 0.067179,
     "end_time": "2023-10-11T14:44:22.941385",
     "exception": false,
     "start_time": "2023-10-11T14:44:22.874206",
     "status": "completed"
    },
    "tags": []
   },
   "outputs": [
    {
     "name": "stdout",
     "output_type": "stream",
     "text": [
      "8\n"
     ]
    }
   ],
   "source": [
    "# Creating a 3D NumPy array:\n",
    "\n",
    "arr_3d = np.array([[[1, 2], [3, 4]], [[5, 6], [7, 8]]])\n",
    "\n",
    "print(arr_3d.size)"
   ]
  },
  {
   "cell_type": "code",
   "execution_count": 20,
   "id": "3358094b",
   "metadata": {
    "execution": {
     "iopub.execute_input": "2023-10-11T14:44:23.060075Z",
     "iopub.status.busy": "2023-10-11T14:44:23.059689Z",
     "iopub.status.idle": "2023-10-11T14:44:23.065430Z",
     "shell.execute_reply": "2023-10-11T14:44:23.064500Z"
    },
    "papermill": {
     "duration": 0.06689,
     "end_time": "2023-10-11T14:44:23.067815",
     "exception": false,
     "start_time": "2023-10-11T14:44:23.000925",
     "status": "completed"
    },
    "tags": []
   },
   "outputs": [
    {
     "name": "stdout",
     "output_type": "stream",
     "text": [
      "int64\n"
     ]
    }
   ],
   "source": [
    "# Creating a NumPy array with integers:\n",
    "\n",
    "arr_int = np.array([1, 2, 3, 4, 5])\n",
    "\n",
    "print(arr_int.dtype)"
   ]
  },
  {
   "cell_type": "code",
   "execution_count": 21,
   "id": "8495f330",
   "metadata": {
    "execution": {
     "iopub.execute_input": "2023-10-11T14:44:23.185500Z",
     "iopub.status.busy": "2023-10-11T14:44:23.185041Z",
     "iopub.status.idle": "2023-10-11T14:44:23.190513Z",
     "shell.execute_reply": "2023-10-11T14:44:23.189681Z"
    },
    "papermill": {
     "duration": 0.067623,
     "end_time": "2023-10-11T14:44:23.192828",
     "exception": false,
     "start_time": "2023-10-11T14:44:23.125205",
     "status": "completed"
    },
    "tags": []
   },
   "outputs": [
    {
     "name": "stdout",
     "output_type": "stream",
     "text": [
      "float64\n"
     ]
    }
   ],
   "source": [
    "# Creating a NumPy array with floating-point numbers:\n",
    "\n",
    "arr_float = np.array([1.1, 2.2, 3.3])\n",
    "\n",
    "print(arr_float.dtype)"
   ]
  },
  {
   "cell_type": "code",
   "execution_count": 22,
   "id": "a1501c7a",
   "metadata": {
    "execution": {
     "iopub.execute_input": "2023-10-11T14:44:23.307740Z",
     "iopub.status.busy": "2023-10-11T14:44:23.307103Z",
     "iopub.status.idle": "2023-10-11T14:44:23.313599Z",
     "shell.execute_reply": "2023-10-11T14:44:23.312709Z"
    },
    "papermill": {
     "duration": 0.066165,
     "end_time": "2023-10-11T14:44:23.315712",
     "exception": false,
     "start_time": "2023-10-11T14:44:23.249547",
     "status": "completed"
    },
    "tags": []
   },
   "outputs": [
    {
     "name": "stdout",
     "output_type": "stream",
     "text": [
      "complex128\n"
     ]
    }
   ],
   "source": [
    "# Creating a NumPy array with complex numbers:\n",
    "\n",
    "arr_complex = np.array([1 + 2j, 3 + 4j])\n",
    "\n",
    "print(arr_complex.dtype)"
   ]
  },
  {
   "cell_type": "markdown",
   "id": "c634d653",
   "metadata": {
    "papermill": {
     "duration": 0.060312,
     "end_time": "2023-10-11T14:44:23.434765",
     "exception": false,
     "start_time": "2023-10-11T14:44:23.374453",
     "status": "completed"
    },
    "tags": []
   },
   "source": [
    "* Data type of the elements in the array is 128-bit complex number."
   ]
  },
  {
   "cell_type": "markdown",
   "id": "7fc49fcc",
   "metadata": {
    "papermill": {
     "duration": 0.05717,
     "end_time": "2023-10-11T14:44:23.550333",
     "exception": false,
     "start_time": "2023-10-11T14:44:23.493163",
     "status": "completed"
    },
    "tags": []
   },
   "source": [
    "<a id = \"6\"></a><br>\n",
    "<h1 style=\"background-color:#98AFC7;font-family:courier;font-size:250%;font-style: oblique;font-weight: bold;font-variant: small-caps;text-align:center;border-radius: 15px 50px;\"> ReShape </h1>\n",
    "\n",
    "In NumPy,**reshape()** method is used to change the shape of a NumPy array without modifying its data. It allows you to reorganize the elements of the array into a new shape while preserving the original data.\n",
    "\n",
    "**reshape()** method takes a tuple as its argument, representing the new shape that you want to give to the array. The elements in the tuple specify the dimensions along each axis of the new shape. The total number of elements in the original array must be equal to the total number of elements in the new shape; otherwise, a **ValueError** will be raised."
   ]
  },
  {
   "cell_type": "markdown",
   "id": "20d7ece6",
   "metadata": {
    "papermill": {
     "duration": 0.063918,
     "end_time": "2023-10-11T14:44:23.671860",
     "exception": false,
     "start_time": "2023-10-11T14:44:23.607942",
     "status": "completed"
    },
    "tags": []
   },
   "source": [
    "---"
   ]
  },
  {
   "cell_type": "code",
   "execution_count": 23,
   "id": "0b97b9e3",
   "metadata": {
    "execution": {
     "iopub.execute_input": "2023-10-11T14:44:23.794484Z",
     "iopub.status.busy": "2023-10-11T14:44:23.794141Z",
     "iopub.status.idle": "2023-10-11T14:44:23.799908Z",
     "shell.execute_reply": "2023-10-11T14:44:23.798576Z"
    },
    "papermill": {
     "duration": 0.071385,
     "end_time": "2023-10-11T14:44:23.801783",
     "exception": false,
     "start_time": "2023-10-11T14:44:23.730398",
     "status": "completed"
    },
    "tags": []
   },
   "outputs": [
    {
     "name": "stdout",
     "output_type": "stream",
     "text": [
      "[ 1  2  3  4  5  6  7  8  9 10 11 12]\n"
     ]
    }
   ],
   "source": [
    "import numpy as np\n",
    "\n",
    "# Creating a 1D NumPy array with 12 elements:\n",
    "\n",
    "arr_1d = np.arange(1, 13)\n",
    "\n",
    "print(arr_1d)"
   ]
  },
  {
   "cell_type": "code",
   "execution_count": 24,
   "id": "62e477bd",
   "metadata": {
    "execution": {
     "iopub.execute_input": "2023-10-11T14:44:23.937003Z",
     "iopub.status.busy": "2023-10-11T14:44:23.936670Z",
     "iopub.status.idle": "2023-10-11T14:44:23.941640Z",
     "shell.execute_reply": "2023-10-11T14:44:23.940741Z"
    },
    "papermill": {
     "duration": 0.06726,
     "end_time": "2023-10-11T14:44:23.943564",
     "exception": false,
     "start_time": "2023-10-11T14:44:23.876304",
     "status": "completed"
    },
    "tags": []
   },
   "outputs": [
    {
     "name": "stdout",
     "output_type": "stream",
     "text": [
      "[[ 1  2  3  4]\n",
      " [ 5  6  7  8]\n",
      " [ 9 10 11 12]]\n"
     ]
    }
   ],
   "source": [
    "# Reshaping the 1D array into a 3x4 2D array:\n",
    "\n",
    "arr_2d = arr_1d.reshape((3, 4))\n",
    "\n",
    "print(arr_2d)"
   ]
  },
  {
   "cell_type": "code",
   "execution_count": 25,
   "id": "2825afdd",
   "metadata": {
    "execution": {
     "iopub.execute_input": "2023-10-11T14:44:24.060456Z",
     "iopub.status.busy": "2023-10-11T14:44:24.059957Z",
     "iopub.status.idle": "2023-10-11T14:44:24.066138Z",
     "shell.execute_reply": "2023-10-11T14:44:24.064855Z"
    },
    "papermill": {
     "duration": 0.066766,
     "end_time": "2023-10-11T14:44:24.068595",
     "exception": false,
     "start_time": "2023-10-11T14:44:24.001829",
     "status": "completed"
    },
    "tags": []
   },
   "outputs": [
    {
     "name": "stdout",
     "output_type": "stream",
     "text": [
      "[ 1  2  3  4  5  6  7  8  9 10 11 12 13 14 15 16 17 18 19 20]\n"
     ]
    }
   ],
   "source": [
    "# Creating a 1D NumPy array with 20 elements:\n",
    "\n",
    "arr_1d_2 = np.arange(1, 21)\n",
    "\n",
    "print(arr_1d_2)"
   ]
  },
  {
   "cell_type": "code",
   "execution_count": 26,
   "id": "4b4c7e72",
   "metadata": {
    "execution": {
     "iopub.execute_input": "2023-10-11T14:44:24.185267Z",
     "iopub.status.busy": "2023-10-11T14:44:24.184882Z",
     "iopub.status.idle": "2023-10-11T14:44:24.191108Z",
     "shell.execute_reply": "2023-10-11T14:44:24.189850Z"
    },
    "papermill": {
     "duration": 0.067806,
     "end_time": "2023-10-11T14:44:24.193260",
     "exception": false,
     "start_time": "2023-10-11T14:44:24.125454",
     "status": "completed"
    },
    "tags": []
   },
   "outputs": [
    {
     "name": "stdout",
     "output_type": "stream",
     "text": [
      "[[ 1  2  3  4  5]\n",
      " [ 6  7  8  9 10]\n",
      " [11 12 13 14 15]\n",
      " [16 17 18 19 20]]\n"
     ]
    }
   ],
   "source": [
    "# Reshaping the 1D array into a 4x5 2D array:\n",
    "\n",
    "arr_2d_2 = arr_1d_2.reshape((4, 5))\n",
    "\n",
    "print(arr_2d_2)"
   ]
  },
  {
   "cell_type": "markdown",
   "id": "6c172c9c",
   "metadata": {
    "papermill": {
     "duration": 0.057926,
     "end_time": "2023-10-11T14:44:24.308433",
     "exception": false,
     "start_time": "2023-10-11T14:44:24.250507",
     "status": "completed"
    },
    "tags": []
   },
   "source": [
    "* In these examples, we created 1D NumPy arrays using **np.arange()** and then used **reshape()** method to transform them into 2D arrays of different shapes. The total number of elements in each array remains the same; only the organization of the elements changes based on the new shape specified in **reshape()** method."
   ]
  },
  {
   "cell_type": "markdown",
   "id": "6af90b24",
   "metadata": {
    "papermill": {
     "duration": 0.056937,
     "end_time": "2023-10-11T14:44:24.422812",
     "exception": false,
     "start_time": "2023-10-11T14:44:24.365875",
     "status": "completed"
    },
    "tags": []
   },
   "source": [
    "<a id = \"7\"></a><br>\n",
    "<h1 style=\"background-color:#98AFC7;font-family:courier;font-size:250%;font-style: oblique;font-weight: bold;font-variant: small-caps;text-align:center;border-radius: 15px 50px;\"> Concatenation </h1>\n",
    "\n",
    "In NumPy, the concatenate() function is used to concatenate arrays along a specified axis. Concatenation means combining multiple arrays to form a single array.\n",
    "\n",
    "NumPy provides several functions to concatenate arrays, including **numpy.concatenate(), numpy.stack(), numpy.hstack(), and numpy.vstack()**. Each of these functions has different behavior when it comes to the shape and dimensions of the input arrays.\n",
    "\n",
    "* **numpy.concatenate():** This function is used to concatenate arrays along a specified axis. It takes a sequence of arrays as input and returns a new array formed by joining them along the specified axis. The arrays being concatenated must have the same shape along the axis of concatenation.\n",
    "\n",
    "* **numpy.stack():** This function is used to stack arrays along a new axis. It takes a sequence of arrays as input and returns a new array with an additional dimension. This is useful when you want to combine arrays along a new axis.\n",
    "\n",
    "* **numpy.hstack():** This function is used to stack arrays horizontally (along columns). It takes a sequence of arrays as input and returns a new array with the same number of rows but with the columns of the input arrays concatenated.\n",
    "\n",
    "* **numpy.vstack():** This function is used to stack arrays vertically (along rows). It takes a sequence of arrays as input and returns a new array with the same number of columns but with the rows of the input arrays concatenated."
   ]
  },
  {
   "cell_type": "markdown",
   "id": "ecdfee26",
   "metadata": {
    "papermill": {
     "duration": 0.055914,
     "end_time": "2023-10-11T14:44:24.536811",
     "exception": false,
     "start_time": "2023-10-11T14:44:24.480897",
     "status": "completed"
    },
    "tags": []
   },
   "source": [
    "---"
   ]
  },
  {
   "cell_type": "markdown",
   "id": "58ea2eff",
   "metadata": {
    "papermill": {
     "duration": 0.057374,
     "end_time": "2023-10-11T14:44:24.651816",
     "exception": false,
     "start_time": "2023-10-11T14:44:24.594442",
     "status": "completed"
    },
    "tags": []
   },
   "source": [
    "<div style=\"border-radius:10px; border:#DEB887 solid; padding: 15px; background-color: #FFFAF0; font-size:100%; text-align:left\">\n",
    "\n",
    "<h3 align=\"left\"><font color='#DEB887'>💡 Notes: </font></h3>\n",
    "\n",
    "* Detailed explanation of numpy.concatenate() and the axis parameter:\n",
    "\n",
    "    1. **numpy.concatenate():** This function is used to concatenate two or more arrays into a single array. It takes a sequence of arrays as input and returns a new array that results from concatenating those arrays. The arrays being concatenated must have the same shape along the axis of concatenation, except for the dimension on which they are being concatenated.\n",
    "\n",
    "    2. **axis parameter:** The axis parameter is an optional argument in numpy.concatenate() function, and it specifies the axis along which the concatenation will take place. It determines how the arrays will be joined. The axis parameter should be an integer value, where:\n",
    "\n",
    "        * **axis=0:** Specifies vertical concatenation (along rows). It stacks arrays on top of each other.\n",
    "        * **axis=1:** Specifies horizontal concatenation (along columns). It concatenates arrays side by side."
   ]
  },
  {
   "cell_type": "markdown",
   "id": "791f857a",
   "metadata": {
    "papermill": {
     "duration": 0.06049,
     "end_time": "2023-10-11T14:44:24.768890",
     "exception": false,
     "start_time": "2023-10-11T14:44:24.708400",
     "status": "completed"
    },
    "tags": []
   },
   "source": [
    "---"
   ]
  },
  {
   "cell_type": "code",
   "execution_count": 27,
   "id": "db46922a",
   "metadata": {
    "execution": {
     "iopub.execute_input": "2023-10-11T14:44:24.883487Z",
     "iopub.status.busy": "2023-10-11T14:44:24.883108Z",
     "iopub.status.idle": "2023-10-11T14:44:24.886944Z",
     "shell.execute_reply": "2023-10-11T14:44:24.886246Z"
    },
    "papermill": {
     "duration": 0.064266,
     "end_time": "2023-10-11T14:44:24.889051",
     "exception": false,
     "start_time": "2023-10-11T14:44:24.824785",
     "status": "completed"
    },
    "tags": []
   },
   "outputs": [],
   "source": [
    "# Example arrays:\n",
    "\n",
    "arr1 = np.array([[1, 2], [3, 4]])\n",
    "arr2 = np.array([[5, 6]])"
   ]
  },
  {
   "cell_type": "code",
   "execution_count": 28,
   "id": "620b94c6",
   "metadata": {
    "execution": {
     "iopub.execute_input": "2023-10-11T14:44:25.008599Z",
     "iopub.status.busy": "2023-10-11T14:44:25.008208Z",
     "iopub.status.idle": "2023-10-11T14:44:25.015383Z",
     "shell.execute_reply": "2023-10-11T14:44:25.013940Z"
    },
    "papermill": {
     "duration": 0.071493,
     "end_time": "2023-10-11T14:44:25.017682",
     "exception": false,
     "start_time": "2023-10-11T14:44:24.946189",
     "status": "completed"
    },
    "tags": []
   },
   "outputs": [
    {
     "name": "stdout",
     "output_type": "stream",
     "text": [
      "Vertical concatenation:\n",
      "[[1 2]\n",
      " [3 4]\n",
      " [5 6]]\n"
     ]
    }
   ],
   "source": [
    "# Vertical concatenation (along rows) using axis=0:\n",
    "\n",
    "result_vertical = np.concatenate((arr1, arr2), axis=0)\n",
    "\n",
    "print(\"Vertical concatenation:\")\n",
    "\n",
    "print(result_vertical)"
   ]
  },
  {
   "cell_type": "code",
   "execution_count": 29,
   "id": "43bd917b",
   "metadata": {
    "execution": {
     "iopub.execute_input": "2023-10-11T14:44:25.133344Z",
     "iopub.status.busy": "2023-10-11T14:44:25.132943Z",
     "iopub.status.idle": "2023-10-11T14:44:25.139639Z",
     "shell.execute_reply": "2023-10-11T14:44:25.137909Z"
    },
    "papermill": {
     "duration": 0.06749,
     "end_time": "2023-10-11T14:44:25.141863",
     "exception": false,
     "start_time": "2023-10-11T14:44:25.074373",
     "status": "completed"
    },
    "tags": []
   },
   "outputs": [
    {
     "name": "stdout",
     "output_type": "stream",
     "text": [
      "\n",
      "Horizontal concatenation:\n",
      "[[1 2 7]\n",
      " [3 4 8]]\n"
     ]
    }
   ],
   "source": [
    "# Horizontal concatenation (along columns) using axis=1:\n",
    "\n",
    "arr3 = np.array([[7], [8]])\n",
    "result_horizontal = np.concatenate((arr1, arr3), axis=1)\n",
    "\n",
    "print(\"\\nHorizontal concatenation:\")\n",
    "\n",
    "print(result_horizontal)"
   ]
  },
  {
   "cell_type": "code",
   "execution_count": 30,
   "id": "5c694da8",
   "metadata": {
    "execution": {
     "iopub.execute_input": "2023-10-11T14:44:25.260886Z",
     "iopub.status.busy": "2023-10-11T14:44:25.260541Z",
     "iopub.status.idle": "2023-10-11T14:44:25.266434Z",
     "shell.execute_reply": "2023-10-11T14:44:25.265374Z"
    },
    "papermill": {
     "duration": 0.067671,
     "end_time": "2023-10-11T14:44:25.269007",
     "exception": false,
     "start_time": "2023-10-11T14:44:25.201336",
     "status": "completed"
    },
    "tags": []
   },
   "outputs": [
    {
     "name": "stdout",
     "output_type": "stream",
     "text": [
      "[1 2 3 4 5 6]\n"
     ]
    }
   ],
   "source": [
    "# Concatenate two 1D arrays:\n",
    "\n",
    "arr1 = np.array([1, 2, 3])\n",
    "arr2 = np.array([4, 5, 6])\n",
    "result = np.concatenate((arr1, arr2))\n",
    "\n",
    "print(result)"
   ]
  },
  {
   "cell_type": "code",
   "execution_count": 31,
   "id": "403da47b",
   "metadata": {
    "execution": {
     "iopub.execute_input": "2023-10-11T14:44:25.453842Z",
     "iopub.status.busy": "2023-10-11T14:44:25.453496Z",
     "iopub.status.idle": "2023-10-11T14:44:25.459696Z",
     "shell.execute_reply": "2023-10-11T14:44:25.458071Z"
    },
    "papermill": {
     "duration": 0.069016,
     "end_time": "2023-10-11T14:44:25.462319",
     "exception": false,
     "start_time": "2023-10-11T14:44:25.393303",
     "status": "completed"
    },
    "tags": []
   },
   "outputs": [
    {
     "name": "stdout",
     "output_type": "stream",
     "text": [
      "[[1 2 3]\n",
      " [4 5 6]]\n"
     ]
    }
   ],
   "source": [
    "# Stack two 1D arrays along a new axis:\n",
    "\n",
    "result = np.stack((arr1, arr2))\n",
    "\n",
    "print(result)"
   ]
  },
  {
   "cell_type": "code",
   "execution_count": 32,
   "id": "83f081d8",
   "metadata": {
    "execution": {
     "iopub.execute_input": "2023-10-11T14:44:25.580209Z",
     "iopub.status.busy": "2023-10-11T14:44:25.579868Z",
     "iopub.status.idle": "2023-10-11T14:44:25.586048Z",
     "shell.execute_reply": "2023-10-11T14:44:25.584451Z"
    },
    "papermill": {
     "duration": 0.067756,
     "end_time": "2023-10-11T14:44:25.588743",
     "exception": false,
     "start_time": "2023-10-11T14:44:25.520987",
     "status": "completed"
    },
    "tags": []
   },
   "outputs": [
    {
     "name": "stdout",
     "output_type": "stream",
     "text": [
      "[1 2 3 4 5 6]\n"
     ]
    }
   ],
   "source": [
    "# Stack two 1D arrays horizontally:\n",
    "\n",
    "result = np.hstack((arr1, arr2))\n",
    "\n",
    "print(result)"
   ]
  },
  {
   "cell_type": "code",
   "execution_count": 33,
   "id": "9e134909",
   "metadata": {
    "execution": {
     "iopub.execute_input": "2023-10-11T14:44:25.708473Z",
     "iopub.status.busy": "2023-10-11T14:44:25.708070Z",
     "iopub.status.idle": "2023-10-11T14:44:25.713331Z",
     "shell.execute_reply": "2023-10-11T14:44:25.712296Z"
    },
    "papermill": {
     "duration": 0.067983,
     "end_time": "2023-10-11T14:44:25.715593",
     "exception": false,
     "start_time": "2023-10-11T14:44:25.647610",
     "status": "completed"
    },
    "tags": []
   },
   "outputs": [
    {
     "name": "stdout",
     "output_type": "stream",
     "text": [
      "[[1 2 3]\n",
      " [4 5 6]]\n"
     ]
    }
   ],
   "source": [
    "# Stack two 1D arrays vertically:\n",
    "\n",
    "result = np.vstack((arr1, arr2))\n",
    "\n",
    "print(result)"
   ]
  },
  {
   "cell_type": "markdown",
   "id": "53447321",
   "metadata": {
    "papermill": {
     "duration": 0.057005,
     "end_time": "2023-10-11T14:44:25.836445",
     "exception": false,
     "start_time": "2023-10-11T14:44:25.779440",
     "status": "completed"
    },
    "tags": []
   },
   "source": [
    "<a id = \"8\"></a><br>\n",
    "<h1 style=\"background-color:#98AFC7;font-family:courier;font-size:250%;font-style: oblique;font-weight: bold;font-variant: small-caps;text-align:center;border-radius: 15px 50px;\"> Splitting </h1>\n",
    "\n",
    "In NumPy, splitting refers to the process of breaking a single array into multiple smaller arrays along a specified axis. It allows you to partition an array into smaller chunks based on a specific criterion. NumPy provides several functions for splitting arrays, including **numpy.split(), numpy.array_split(), numpy.hsplit(), and numpy.vsplit()**.\n",
    "\n",
    "* **numpy.split():** This function splits an array into multiple sub-arrays along a specified axis. It takes three arguments: the array to be split, the number of equally-sized sub-arrays to create, and the axis along which the split will occur. The array must have a size that is evenly divisible by the number of sub-arrays, otherwise, a ValueError will be raised.\n",
    "\n",
    "* **numpy.array_split():** This function is similar to numpy.split(), but it allows you to specify the number of sub-arrays explicitly without requiring that the array size be evenly divisible by that number. The sub-arrays may have different sizes.\n",
    "\n",
    "* **numpy.hsplit():** This function splits an array horizontally (along columns) into multiple sub-arrays. It takes two arguments: the array to be split and the number of equally-sized sub-arrays to create.\n",
    "\n",
    "* **numpy.vsplit():** This function splits an array vertically (along rows) into multiple sub-arrays. It takes two arguments: the array to be split and the number of equally-sized sub-arrays to create."
   ]
  },
  {
   "cell_type": "markdown",
   "id": "4466e94a",
   "metadata": {
    "papermill": {
     "duration": 0.058689,
     "end_time": "2023-10-11T14:44:25.951841",
     "exception": false,
     "start_time": "2023-10-11T14:44:25.893152",
     "status": "completed"
    },
    "tags": []
   },
   "source": [
    "---"
   ]
  },
  {
   "cell_type": "code",
   "execution_count": 34,
   "id": "af7a873a",
   "metadata": {
    "execution": {
     "iopub.execute_input": "2023-10-11T14:44:26.069858Z",
     "iopub.status.busy": "2023-10-11T14:44:26.069514Z",
     "iopub.status.idle": "2023-10-11T14:44:26.076163Z",
     "shell.execute_reply": "2023-10-11T14:44:26.074947Z"
    },
    "papermill": {
     "duration": 0.067714,
     "end_time": "2023-10-11T14:44:26.078472",
     "exception": false,
     "start_time": "2023-10-11T14:44:26.010758",
     "status": "completed"
    },
    "tags": []
   },
   "outputs": [
    {
     "name": "stdout",
     "output_type": "stream",
     "text": [
      "numpy.split() result:\n",
      "[array([1, 2]), array([3, 4]), array([5, 6]), array([7, 8]), array([ 9, 10])]\n"
     ]
    }
   ],
   "source": [
    "import numpy as np\n",
    "\n",
    "# Example array:\n",
    "\n",
    "arr = np.array([1, 2, 3, 4, 5, 6, 7, 8, 9, 10])\n",
    "\n",
    "# Using numpy.split():\n",
    "\n",
    "result_split = np.split(arr, 5)\n",
    "\n",
    "print(\"numpy.split() result:\")\n",
    "\n",
    "print(result_split)"
   ]
  },
  {
   "cell_type": "code",
   "execution_count": 35,
   "id": "900a2a2b",
   "metadata": {
    "execution": {
     "iopub.execute_input": "2023-10-11T14:44:26.194310Z",
     "iopub.status.busy": "2023-10-11T14:44:26.193961Z",
     "iopub.status.idle": "2023-10-11T14:44:26.199292Z",
     "shell.execute_reply": "2023-10-11T14:44:26.198283Z"
    },
    "papermill": {
     "duration": 0.06624,
     "end_time": "2023-10-11T14:44:26.201591",
     "exception": false,
     "start_time": "2023-10-11T14:44:26.135351",
     "status": "completed"
    },
    "tags": []
   },
   "outputs": [
    {
     "name": "stdout",
     "output_type": "stream",
     "text": [
      "\n",
      "numpy.array_split() result:\n",
      "[array([1, 2, 3, 4]), array([5, 6, 7]), array([ 8,  9, 10])]\n"
     ]
    }
   ],
   "source": [
    "# Using numpy.array_split():\n",
    "\n",
    "result_array_split = np.array_split(arr, 3)\n",
    "\n",
    "print(\"\\nnumpy.array_split() result:\")\n",
    "\n",
    "print(result_array_split)"
   ]
  },
  {
   "cell_type": "code",
   "execution_count": 36,
   "id": "cebf5953",
   "metadata": {
    "execution": {
     "iopub.execute_input": "2023-10-11T14:44:26.318503Z",
     "iopub.status.busy": "2023-10-11T14:44:26.318130Z",
     "iopub.status.idle": "2023-10-11T14:44:26.324707Z",
     "shell.execute_reply": "2023-10-11T14:44:26.323720Z"
    },
    "papermill": {
     "duration": 0.069045,
     "end_time": "2023-10-11T14:44:26.326901",
     "exception": false,
     "start_time": "2023-10-11T14:44:26.257856",
     "status": "completed"
    },
    "tags": []
   },
   "outputs": [
    {
     "name": "stdout",
     "output_type": "stream",
     "text": [
      "\n",
      "numpy.hsplit() result:\n",
      "[array([[ 1],\n",
      "       [ 4],\n",
      "       [ 7],\n",
      "       [10]]), array([[ 2],\n",
      "       [ 5],\n",
      "       [ 8],\n",
      "       [11]]), array([[ 3],\n",
      "       [ 6],\n",
      "       [ 9],\n",
      "       [12]])]\n"
     ]
    }
   ],
   "source": [
    "# Example 2D array:\n",
    "\n",
    "arr_2d = np.array([[1, 2, 3], [4, 5, 6], [7, 8, 9], [10, 11, 12]])\n",
    "\n",
    "# Using numpy.hsplit():\n",
    "\n",
    "result_hsplit = np.hsplit(arr_2d, 3)\n",
    "\n",
    "print(\"\\nnumpy.hsplit() result:\")\n",
    "\n",
    "print(result_hsplit)"
   ]
  },
  {
   "cell_type": "code",
   "execution_count": 37,
   "id": "5a057063",
   "metadata": {
    "execution": {
     "iopub.execute_input": "2023-10-11T14:44:26.446402Z",
     "iopub.status.busy": "2023-10-11T14:44:26.445678Z",
     "iopub.status.idle": "2023-10-11T14:44:26.451192Z",
     "shell.execute_reply": "2023-10-11T14:44:26.450324Z"
    },
    "papermill": {
     "duration": 0.067604,
     "end_time": "2023-10-11T14:44:26.453197",
     "exception": false,
     "start_time": "2023-10-11T14:44:26.385593",
     "status": "completed"
    },
    "tags": []
   },
   "outputs": [
    {
     "name": "stdout",
     "output_type": "stream",
     "text": [
      "\n",
      "numpy.vsplit() result:\n",
      "[array([[1, 2, 3],\n",
      "       [4, 5, 6]]), array([[ 7,  8,  9],\n",
      "       [10, 11, 12]])]\n"
     ]
    }
   ],
   "source": [
    "# Using numpy.vsplit():\n",
    "\n",
    "result_vsplit = np.vsplit(arr_2d, 2)\n",
    "\n",
    "print(\"\\nnumpy.vsplit() result:\")\n",
    "\n",
    "print(result_vsplit)"
   ]
  },
  {
   "cell_type": "markdown",
   "id": "5b5970fb",
   "metadata": {
    "papermill": {
     "duration": 0.057634,
     "end_time": "2023-10-11T14:44:26.573633",
     "exception": false,
     "start_time": "2023-10-11T14:44:26.515999",
     "status": "completed"
    },
    "tags": []
   },
   "source": [
    "<a id = \"9\"></a><br>\n",
    "<h1 style=\"background-color:#98AFC7;font-family:courier;font-size:250%;font-style: oblique;font-weight: bold;font-variant: small-caps;text-align:center;border-radius: 15px 50px;\"> Sorting </h1>\n",
    "\n",
    "In NumPy, sorting refers to the process of arranging the elements of an array in a particular order, either in ascending or descending order. Sorting arrays is a common operation in data analysis and processing tasks. NumPy provides several functions to perform sorting operations on arrays.\n",
    "\n",
    "The main sorting functions in NumPy are:\n",
    "\n",
    "* **numpy.sort():** This function returns a sorted copy of an array. By default, it sorts the array in ascending order along the last axis.\n",
    "\n",
    "* **numpy.argsort()**: This function returns the indices that would sort an array. Instead of returning the sorted array, it returns an array of indices that would sort the original array.\n",
    "\n",
    "* **numpy.lexsort():** This function performs an indirect sort using a sequence of keys. It sorts the array based on multiple keys, considering each key in the order specified.\n",
    "\n",
    "* **numpy.msort():** This function is similar to numpy.sort(), but it is stable, meaning it maintains the relative order of elements that compare equal.\n",
    "\n",
    "* **numpy.sort_complex():** This function sorts complex numbers based on their magnitudes."
   ]
  },
  {
   "cell_type": "markdown",
   "id": "ae25be35",
   "metadata": {
    "papermill": {
     "duration": 0.058432,
     "end_time": "2023-10-11T14:44:26.691467",
     "exception": false,
     "start_time": "2023-10-11T14:44:26.633035",
     "status": "completed"
    },
    "tags": []
   },
   "source": [
    "---"
   ]
  },
  {
   "cell_type": "code",
   "execution_count": 38,
   "id": "ae714c35",
   "metadata": {
    "execution": {
     "iopub.execute_input": "2023-10-11T14:44:26.811376Z",
     "iopub.status.busy": "2023-10-11T14:44:26.811006Z",
     "iopub.status.idle": "2023-10-11T14:44:26.818525Z",
     "shell.execute_reply": "2023-10-11T14:44:26.817405Z"
    },
    "papermill": {
     "duration": 0.069007,
     "end_time": "2023-10-11T14:44:26.820487",
     "exception": false,
     "start_time": "2023-10-11T14:44:26.751480",
     "status": "completed"
    },
    "tags": []
   },
   "outputs": [
    {
     "name": "stdout",
     "output_type": "stream",
     "text": [
      "Sorted array:\n",
      "[1 1 2 3 4 5 5 6 9]\n"
     ]
    }
   ],
   "source": [
    "import numpy as np\n",
    "\n",
    "# Example array:\n",
    "\n",
    "arr = np.array([3, 1, 4, 1, 5, 9, 2, 6, 5])\n",
    "\n",
    "# Using numpy.sort():\n",
    "\n",
    "sorted_arr = np.sort(arr)\n",
    "\n",
    "print(\"Sorted array:\")\n",
    "\n",
    "print(sorted_arr)"
   ]
  },
  {
   "cell_type": "code",
   "execution_count": 39,
   "id": "1fc07495",
   "metadata": {
    "execution": {
     "iopub.execute_input": "2023-10-11T14:44:26.938980Z",
     "iopub.status.busy": "2023-10-11T14:44:26.938659Z",
     "iopub.status.idle": "2023-10-11T14:44:26.944101Z",
     "shell.execute_reply": "2023-10-11T14:44:26.943017Z"
    },
    "papermill": {
     "duration": 0.068486,
     "end_time": "2023-10-11T14:44:26.947135",
     "exception": false,
     "start_time": "2023-10-11T14:44:26.878649",
     "status": "completed"
    },
    "tags": []
   },
   "outputs": [
    {
     "name": "stdout",
     "output_type": "stream",
     "text": [
      "\n",
      "Sorted indices:\n",
      "[1 3 6 0 2 4 8 7 5]\n"
     ]
    }
   ],
   "source": [
    "# Using numpy.argsort():\n",
    "\n",
    "sorted_indices = np.argsort(arr)\n",
    "\n",
    "print(\"\\nSorted indices:\")\n",
    "print(sorted_indices)"
   ]
  },
  {
   "cell_type": "code",
   "execution_count": 40,
   "id": "6aea55b9",
   "metadata": {
    "execution": {
     "iopub.execute_input": "2023-10-11T14:44:27.067786Z",
     "iopub.status.busy": "2023-10-11T14:44:27.067014Z",
     "iopub.status.idle": "2023-10-11T14:44:27.076288Z",
     "shell.execute_reply": "2023-10-11T14:44:27.075092Z"
    },
    "papermill": {
     "duration": 0.071691,
     "end_time": "2023-10-11T14:44:27.078521",
     "exception": false,
     "start_time": "2023-10-11T14:44:27.006830",
     "status": "completed"
    },
    "tags": []
   },
   "outputs": [
    {
     "name": "stdout",
     "output_type": "stream",
     "text": [
      "\n",
      "Sorted indices using lexsort:\n",
      "[1 0 4 2 3]\n"
     ]
    }
   ],
   "source": [
    "# Using numpy.lexsort():\n",
    "\n",
    "names = np.array(['Alice', 'Bob', 'Cathy', 'David', 'Eva'])\n",
    "ages = np.array([25, 22, 29, 32, 28])\n",
    "sorted_indices_lex = np.lexsort((names, ages))\n",
    "\n",
    "print(\"\\nSorted indices using lexsort:\")\n",
    "\n",
    "print(sorted_indices_lex)"
   ]
  },
  {
   "cell_type": "code",
   "execution_count": 41,
   "id": "d38d4f8f",
   "metadata": {
    "execution": {
     "iopub.execute_input": "2023-10-11T14:44:27.196479Z",
     "iopub.status.busy": "2023-10-11T14:44:27.196100Z",
     "iopub.status.idle": "2023-10-11T14:44:27.202581Z",
     "shell.execute_reply": "2023-10-11T14:44:27.201090Z"
    },
    "papermill": {
     "duration": 0.069178,
     "end_time": "2023-10-11T14:44:27.205535",
     "exception": false,
     "start_time": "2023-10-11T14:44:27.136357",
     "status": "completed"
    },
    "tags": []
   },
   "outputs": [
    {
     "name": "stdout",
     "output_type": "stream",
     "text": [
      "\n",
      "Stable sorted array:\n",
      "[1 1 2 3 4 5 5 6 9]\n"
     ]
    }
   ],
   "source": [
    "# Using numpy.msort():\n",
    "\n",
    "arr2 = np.array([3, 1, 4, 1, 5, 9, 2, 6, 5])\n",
    "stable_sorted_arr = np.msort(arr2)\n",
    "\n",
    "print(\"\\nStable sorted array:\")\n",
    "\n",
    "print(stable_sorted_arr)"
   ]
  },
  {
   "cell_type": "markdown",
   "id": "650190c9",
   "metadata": {
    "papermill": {
     "duration": 0.05686,
     "end_time": "2023-10-11T14:44:27.321499",
     "exception": false,
     "start_time": "2023-10-11T14:44:27.264639",
     "status": "completed"
    },
    "tags": []
   },
   "source": [
    "<a id = \"10\"></a><br>\n",
    "<h1 style=\"background-color:#98AFC7;font-family:courier;font-size:250%;font-style: oblique;font-weight: bold;font-variant: small-caps;text-align:center;border-radius: 15px 50px;\"> Index Operations </h1>\n",
    "\n",
    "In NumPy, there are various index methods and operations to access specific elements or subarrays of NumPy arrays. Here are some commonly used index methods and operations in NumPy:\n",
    "\n",
    "* **Integer Indexing:** You can use integers as indices to access specific elements of the array.\n",
    "\n",
    "* **Slicing:** Slicing allows you to extract a specific portion (subarray) of an array by specifying a range of indices.\n",
    "\n",
    "* **Boolean Indexing:** Boolean indexing allows you to filter elements from an array based on a specified condition using a boolean mask.\n",
    "\n",
    "* **Fancy Indexing:** Fancy indexing allows you to access specific elements or subarrays by providing an array of indices.\n",
    "\n",
    "* **Two-Dimensional Indexing:** In two-dimensional arrays, you can access specific elements or subarrays using row and column indices.\n",
    "\n",
    "* **Changing Indices:** You can rearrange the elements of an array by changing their indices.\n",
    "\n",
    "Below are some examples of using each index method:"
   ]
  },
  {
   "cell_type": "markdown",
   "id": "e7712fb1",
   "metadata": {
    "papermill": {
     "duration": 0.058184,
     "end_time": "2023-10-11T14:44:27.437068",
     "exception": false,
     "start_time": "2023-10-11T14:44:27.378884",
     "status": "completed"
    },
    "tags": []
   },
   "source": [
    "---"
   ]
  },
  {
   "cell_type": "code",
   "execution_count": 42,
   "id": "a1068adf",
   "metadata": {
    "execution": {
     "iopub.execute_input": "2023-10-11T14:44:27.560633Z",
     "iopub.status.busy": "2023-10-11T14:44:27.559981Z",
     "iopub.status.idle": "2023-10-11T14:44:27.568269Z",
     "shell.execute_reply": "2023-10-11T14:44:27.567414Z"
    },
    "papermill": {
     "duration": 0.073785,
     "end_time": "2023-10-11T14:44:27.570698",
     "exception": false,
     "start_time": "2023-10-11T14:44:27.496913",
     "status": "completed"
    },
    "tags": []
   },
   "outputs": [
    {
     "data": {
      "text/plain": [
       "30"
      ]
     },
     "execution_count": 42,
     "metadata": {},
     "output_type": "execute_result"
    }
   ],
   "source": [
    "import numpy as np\n",
    "\n",
    "# Example array:\n",
    "\n",
    "arr = np.array([10, 20, 30, 40, 50])\n",
    "\n",
    "# Integer Indexing:\n",
    "\n",
    "arr[2]"
   ]
  },
  {
   "cell_type": "code",
   "execution_count": 43,
   "id": "f55d6663",
   "metadata": {
    "execution": {
     "iopub.execute_input": "2023-10-11T14:44:27.689293Z",
     "iopub.status.busy": "2023-10-11T14:44:27.688878Z",
     "iopub.status.idle": "2023-10-11T14:44:27.695807Z",
     "shell.execute_reply": "2023-10-11T14:44:27.694607Z"
    },
    "papermill": {
     "duration": 0.067929,
     "end_time": "2023-10-11T14:44:27.698333",
     "exception": false,
     "start_time": "2023-10-11T14:44:27.630404",
     "status": "completed"
    },
    "tags": []
   },
   "outputs": [
    {
     "data": {
      "text/plain": [
       "array([20, 30, 40])"
      ]
     },
     "execution_count": 43,
     "metadata": {},
     "output_type": "execute_result"
    }
   ],
   "source": [
    "# Slicing:\n",
    "\n",
    "arr[1:4]"
   ]
  },
  {
   "cell_type": "code",
   "execution_count": 44,
   "id": "3b727bbd",
   "metadata": {
    "execution": {
     "iopub.execute_input": "2023-10-11T14:44:27.832154Z",
     "iopub.status.busy": "2023-10-11T14:44:27.831441Z",
     "iopub.status.idle": "2023-10-11T14:44:27.837477Z",
     "shell.execute_reply": "2023-10-11T14:44:27.836486Z"
    },
    "papermill": {
     "duration": 0.069292,
     "end_time": "2023-10-11T14:44:27.839736",
     "exception": false,
     "start_time": "2023-10-11T14:44:27.770444",
     "status": "completed"
    },
    "tags": []
   },
   "outputs": [
    {
     "data": {
      "text/plain": [
       "array([40, 50])"
      ]
     },
     "execution_count": 44,
     "metadata": {},
     "output_type": "execute_result"
    }
   ],
   "source": [
    "# Boolean Indexing:\n",
    "\n",
    "mask = arr > 30\n",
    "arr[mask]"
   ]
  },
  {
   "cell_type": "code",
   "execution_count": 45,
   "id": "59b3a1da",
   "metadata": {
    "execution": {
     "iopub.execute_input": "2023-10-11T14:44:27.959393Z",
     "iopub.status.busy": "2023-10-11T14:44:27.958625Z",
     "iopub.status.idle": "2023-10-11T14:44:27.964564Z",
     "shell.execute_reply": "2023-10-11T14:44:27.963662Z"
    },
    "papermill": {
     "duration": 0.06949,
     "end_time": "2023-10-11T14:44:27.967302",
     "exception": false,
     "start_time": "2023-10-11T14:44:27.897812",
     "status": "completed"
    },
    "tags": []
   },
   "outputs": [
    {
     "data": {
      "text/plain": [
       "array([10, 30, 50])"
      ]
     },
     "execution_count": 45,
     "metadata": {},
     "output_type": "execute_result"
    }
   ],
   "source": [
    "# Fancy Indexing:\n",
    "\n",
    "indices = [0, 2, 4]\n",
    "arr[indices]"
   ]
  },
  {
   "cell_type": "code",
   "execution_count": 46,
   "id": "7f30ba7a",
   "metadata": {
    "execution": {
     "iopub.execute_input": "2023-10-11T14:44:28.092221Z",
     "iopub.status.busy": "2023-10-11T14:44:28.091660Z",
     "iopub.status.idle": "2023-10-11T14:44:28.099468Z",
     "shell.execute_reply": "2023-10-11T14:44:28.098385Z"
    },
    "papermill": {
     "duration": 0.071158,
     "end_time": "2023-10-11T14:44:28.102052",
     "exception": false,
     "start_time": "2023-10-11T14:44:28.030894",
     "status": "completed"
    },
    "tags": []
   },
   "outputs": [
    {
     "data": {
      "text/plain": [
       "6"
      ]
     },
     "execution_count": 46,
     "metadata": {},
     "output_type": "execute_result"
    }
   ],
   "source": [
    "# Two-Dimensional Indexing:\n",
    "\n",
    "arr_2d = np.array([[1, 2, 3], [4, 5, 6], [7, 8, 9]])\n",
    "arr_2d[1, 2]"
   ]
  },
  {
   "cell_type": "code",
   "execution_count": 47,
   "id": "feeb0866",
   "metadata": {
    "execution": {
     "iopub.execute_input": "2023-10-11T14:44:28.219839Z",
     "iopub.status.busy": "2023-10-11T14:44:28.219468Z",
     "iopub.status.idle": "2023-10-11T14:44:28.225370Z",
     "shell.execute_reply": "2023-10-11T14:44:28.224433Z"
    },
    "papermill": {
     "duration": 0.06755,
     "end_time": "2023-10-11T14:44:28.227472",
     "exception": false,
     "start_time": "2023-10-11T14:44:28.159922",
     "status": "completed"
    },
    "tags": []
   },
   "outputs": [
    {
     "data": {
      "text/plain": [
       "array([10, 40, 30, 20, 50])"
      ]
     },
     "execution_count": 47,
     "metadata": {},
     "output_type": "execute_result"
    }
   ],
   "source": [
    "# Changing Indices:\n",
    "\n",
    "arr[1], arr[3] = arr[3], arr[1]\n",
    "arr"
   ]
  },
  {
   "cell_type": "code",
   "execution_count": 48,
   "id": "c831633b",
   "metadata": {
    "execution": {
     "iopub.execute_input": "2023-10-11T14:44:28.348087Z",
     "iopub.status.busy": "2023-10-11T14:44:28.347669Z",
     "iopub.status.idle": "2023-10-11T14:44:28.355181Z",
     "shell.execute_reply": "2023-10-11T14:44:28.353972Z"
    },
    "papermill": {
     "duration": 0.072162,
     "end_time": "2023-10-11T14:44:28.357823",
     "exception": false,
     "start_time": "2023-10-11T14:44:28.285661",
     "status": "completed"
    },
    "tags": []
   },
   "outputs": [
    {
     "data": {
      "text/plain": [
       "array([[1, 2, 3],\n",
       "       [4, 5, 6],\n",
       "       [7, 8, 9]])"
      ]
     },
     "execution_count": 48,
     "metadata": {},
     "output_type": "execute_result"
    }
   ],
   "source": [
    "import numpy as np\n",
    "\n",
    "# Example 2D array:\n",
    "\n",
    "arr_2d = np.array([[1, 2, 3], [4, 5, 6], [7, 8, 9]])\n",
    "\n",
    "arr_2d"
   ]
  },
  {
   "cell_type": "code",
   "execution_count": 49,
   "id": "7dd03485",
   "metadata": {
    "execution": {
     "iopub.execute_input": "2023-10-11T14:44:28.478296Z",
     "iopub.status.busy": "2023-10-11T14:44:28.477878Z",
     "iopub.status.idle": "2023-10-11T14:44:28.484818Z",
     "shell.execute_reply": "2023-10-11T14:44:28.483660Z"
    },
    "papermill": {
     "duration": 0.070446,
     "end_time": "2023-10-11T14:44:28.487216",
     "exception": false,
     "start_time": "2023-10-11T14:44:28.416770",
     "status": "completed"
    },
    "tags": []
   },
   "outputs": [
    {
     "data": {
      "text/plain": [
       "6"
      ]
     },
     "execution_count": 49,
     "metadata": {},
     "output_type": "execute_result"
    }
   ],
   "source": [
    "# Selecting a single element:\n",
    "\n",
    "arr_2d[1, 2]"
   ]
  },
  {
   "cell_type": "code",
   "execution_count": 50,
   "id": "3f4ccdab",
   "metadata": {
    "execution": {
     "iopub.execute_input": "2023-10-11T14:44:28.610602Z",
     "iopub.status.busy": "2023-10-11T14:44:28.610213Z",
     "iopub.status.idle": "2023-10-11T14:44:28.616397Z",
     "shell.execute_reply": "2023-10-11T14:44:28.615171Z"
    },
    "papermill": {
     "duration": 0.070835,
     "end_time": "2023-10-11T14:44:28.618653",
     "exception": false,
     "start_time": "2023-10-11T14:44:28.547818",
     "status": "completed"
    },
    "tags": []
   },
   "outputs": [
    {
     "data": {
      "text/plain": [
       "array([4, 5, 6])"
      ]
     },
     "execution_count": 50,
     "metadata": {},
     "output_type": "execute_result"
    }
   ],
   "source": [
    "# Selecting a row:\n",
    "\n",
    "arr_2d[1, :]"
   ]
  },
  {
   "cell_type": "code",
   "execution_count": 51,
   "id": "fdc91fc3",
   "metadata": {
    "execution": {
     "iopub.execute_input": "2023-10-11T14:44:28.740042Z",
     "iopub.status.busy": "2023-10-11T14:44:28.739688Z",
     "iopub.status.idle": "2023-10-11T14:44:28.746407Z",
     "shell.execute_reply": "2023-10-11T14:44:28.745301Z"
    },
    "papermill": {
     "duration": 0.070472,
     "end_time": "2023-10-11T14:44:28.748828",
     "exception": false,
     "start_time": "2023-10-11T14:44:28.678356",
     "status": "completed"
    },
    "tags": []
   },
   "outputs": [
    {
     "data": {
      "text/plain": [
       "array([[1, 2, 3],\n",
       "       [7, 8, 9]])"
      ]
     },
     "execution_count": 51,
     "metadata": {},
     "output_type": "execute_result"
    }
   ],
   "source": [
    "# Selecting multiple rows:\n",
    "\n",
    "arr_2d[[0, 2], :]"
   ]
  },
  {
   "cell_type": "code",
   "execution_count": 52,
   "id": "23375c9b",
   "metadata": {
    "execution": {
     "iopub.execute_input": "2023-10-11T14:44:28.871766Z",
     "iopub.status.busy": "2023-10-11T14:44:28.871382Z",
     "iopub.status.idle": "2023-10-11T14:44:28.878028Z",
     "shell.execute_reply": "2023-10-11T14:44:28.877271Z"
    },
    "papermill": {
     "duration": 0.069762,
     "end_time": "2023-10-11T14:44:28.880308",
     "exception": false,
     "start_time": "2023-10-11T14:44:28.810546",
     "status": "completed"
    },
    "tags": []
   },
   "outputs": [
    {
     "data": {
      "text/plain": [
       "array([1, 4, 7])"
      ]
     },
     "execution_count": 52,
     "metadata": {},
     "output_type": "execute_result"
    }
   ],
   "source": [
    "# Selecting a column:\n",
    "\n",
    "arr_2d[:, 0]"
   ]
  },
  {
   "cell_type": "code",
   "execution_count": 53,
   "id": "ee40d040",
   "metadata": {
    "execution": {
     "iopub.execute_input": "2023-10-11T14:44:29.070174Z",
     "iopub.status.busy": "2023-10-11T14:44:29.069840Z",
     "iopub.status.idle": "2023-10-11T14:44:29.076409Z",
     "shell.execute_reply": "2023-10-11T14:44:29.075313Z"
    },
    "papermill": {
     "duration": 0.138737,
     "end_time": "2023-10-11T14:44:29.078629",
     "exception": false,
     "start_time": "2023-10-11T14:44:28.939892",
     "status": "completed"
    },
    "tags": []
   },
   "outputs": [
    {
     "data": {
      "text/plain": [
       "array([[1, 3],\n",
       "       [4, 6],\n",
       "       [7, 9]])"
      ]
     },
     "execution_count": 53,
     "metadata": {},
     "output_type": "execute_result"
    }
   ],
   "source": [
    "# Selecting multiple columns:\n",
    "\n",
    "arr_2d[:, [0, 2]]"
   ]
  },
  {
   "cell_type": "code",
   "execution_count": 54,
   "id": "9dd34049",
   "metadata": {
    "execution": {
     "iopub.execute_input": "2023-10-11T14:44:29.202185Z",
     "iopub.status.busy": "2023-10-11T14:44:29.201827Z",
     "iopub.status.idle": "2023-10-11T14:44:29.207712Z",
     "shell.execute_reply": "2023-10-11T14:44:29.206855Z"
    },
    "papermill": {
     "duration": 0.071414,
     "end_time": "2023-10-11T14:44:29.210144",
     "exception": false,
     "start_time": "2023-10-11T14:44:29.138730",
     "status": "completed"
    },
    "tags": []
   },
   "outputs": [
    {
     "data": {
      "text/plain": [
       "array([[2, 3],\n",
       "       [5, 6]])"
      ]
     },
     "execution_count": 54,
     "metadata": {},
     "output_type": "execute_result"
    }
   ],
   "source": [
    "# Selecting a subarray:\n",
    "\n",
    "arr_2d[0:2, 1:3]"
   ]
  },
  {
   "cell_type": "markdown",
   "id": "b05db55d",
   "metadata": {
    "papermill": {
     "duration": 0.058712,
     "end_time": "2023-10-11T14:44:29.328796",
     "exception": false,
     "start_time": "2023-10-11T14:44:29.270084",
     "status": "completed"
    },
    "tags": []
   },
   "source": [
    "<a id = \"11\"></a><br>\n",
    "<h1 style=\"background-color:#98AFC7;font-family:courier;font-size:250%;font-style: oblique;font-weight: bold;font-variant: small-caps;text-align:center;border-radius: 15px 50px;\"> Subsets </h1>\n",
    "\n",
    "To perform operations on NumPy subsets, you can directly apply NumPy operations on the selected subsets. NumPy supports common types of operations while working with subsets, and these operations can often be more efficient and faster.\n",
    "\n",
    "To work with subsets, you first need to select the subset, and then apply the desired operation on that subset. NumPy subsets can be selected using methods such as slicing or boolean indexing.\n",
    "\n",
    "Here's an example of accessing a subset of a NumPy array and performing some operations:"
   ]
  },
  {
   "cell_type": "markdown",
   "id": "809e52c9",
   "metadata": {
    "papermill": {
     "duration": 0.059974,
     "end_time": "2023-10-11T14:44:29.448628",
     "exception": false,
     "start_time": "2023-10-11T14:44:29.388654",
     "status": "completed"
    },
    "tags": []
   },
   "source": [
    "---"
   ]
  },
  {
   "cell_type": "code",
   "execution_count": 55,
   "id": "ceb8b802",
   "metadata": {
    "execution": {
     "iopub.execute_input": "2023-10-11T14:44:29.570607Z",
     "iopub.status.busy": "2023-10-11T14:44:29.570162Z",
     "iopub.status.idle": "2023-10-11T14:44:29.577291Z",
     "shell.execute_reply": "2023-10-11T14:44:29.576195Z"
    },
    "papermill": {
     "duration": 0.072472,
     "end_time": "2023-10-11T14:44:29.579865",
     "exception": false,
     "start_time": "2023-10-11T14:44:29.507393",
     "status": "completed"
    },
    "tags": []
   },
   "outputs": [
    {
     "data": {
      "text/plain": [
       "array([ 1,  2,  3,  4,  5,  6,  7,  8,  9, 10])"
      ]
     },
     "execution_count": 55,
     "metadata": {},
     "output_type": "execute_result"
    }
   ],
   "source": [
    "# Example array:\n",
    "\n",
    "arr = np.array([1, 2, 3, 4, 5, 6, 7, 8, 9, 10])\n",
    "\n",
    "arr"
   ]
  },
  {
   "cell_type": "code",
   "execution_count": 56,
   "id": "4f8c28dd",
   "metadata": {
    "execution": {
     "iopub.execute_input": "2023-10-11T14:44:29.699197Z",
     "iopub.status.busy": "2023-10-11T14:44:29.698797Z",
     "iopub.status.idle": "2023-10-11T14:44:29.705786Z",
     "shell.execute_reply": "2023-10-11T14:44:29.704539Z"
    },
    "papermill": {
     "duration": 0.069343,
     "end_time": "2023-10-11T14:44:29.708171",
     "exception": false,
     "start_time": "2023-10-11T14:44:29.638828",
     "status": "completed"
    },
    "tags": []
   },
   "outputs": [
    {
     "data": {
      "text/plain": [
       "array([3, 4, 5, 6])"
      ]
     },
     "execution_count": 56,
     "metadata": {},
     "output_type": "execute_result"
    }
   ],
   "source": [
    "# Selecting a subset (using slicing):\n",
    "\n",
    "subset = arr[2:6]\n",
    "\n",
    "subset"
   ]
  },
  {
   "cell_type": "code",
   "execution_count": 57,
   "id": "08d2b9d7",
   "metadata": {
    "execution": {
     "iopub.execute_input": "2023-10-11T14:44:29.833847Z",
     "iopub.status.busy": "2023-10-11T14:44:29.833460Z",
     "iopub.status.idle": "2023-10-11T14:44:29.840448Z",
     "shell.execute_reply": "2023-10-11T14:44:29.839266Z"
    },
    "papermill": {
     "duration": 0.071375,
     "end_time": "2023-10-11T14:44:29.842684",
     "exception": false,
     "start_time": "2023-10-11T14:44:29.771309",
     "status": "completed"
    },
    "tags": []
   },
   "outputs": [
    {
     "data": {
      "text/plain": [
       "4.5"
      ]
     },
     "execution_count": 57,
     "metadata": {},
     "output_type": "execute_result"
    }
   ],
   "source": [
    "# Performing an operation on the subset:\n",
    "\n",
    "mean_value = np.mean(subset)\n",
    "\n",
    "mean_value"
   ]
  },
  {
   "cell_type": "code",
   "execution_count": 58,
   "id": "c4736d0b",
   "metadata": {
    "execution": {
     "iopub.execute_input": "2023-10-11T14:44:29.964175Z",
     "iopub.status.busy": "2023-10-11T14:44:29.963770Z",
     "iopub.status.idle": "2023-10-11T14:44:29.970125Z",
     "shell.execute_reply": "2023-10-11T14:44:29.968922Z"
    },
    "papermill": {
     "duration": 0.070054,
     "end_time": "2023-10-11T14:44:29.972399",
     "exception": false,
     "start_time": "2023-10-11T14:44:29.902345",
     "status": "completed"
    },
    "tags": []
   },
   "outputs": [
    {
     "data": {
      "text/plain": [
       "array([ 1,  2, 10, 10, 10, 10,  7,  8,  9, 10])"
      ]
     },
     "execution_count": 58,
     "metadata": {},
     "output_type": "execute_result"
    }
   ],
   "source": [
    "# Assigning values to the subset:\n",
    "\n",
    "arr[2:6] = 10 \n",
    "\n",
    "arr"
   ]
  },
  {
   "cell_type": "markdown",
   "id": "1a9dc488",
   "metadata": {
    "papermill": {
     "duration": 0.061668,
     "end_time": "2023-10-11T14:44:30.096953",
     "exception": false,
     "start_time": "2023-10-11T14:44:30.035285",
     "status": "completed"
    },
    "tags": []
   },
   "source": [
    "* The **copy()** method in NumPy subsets is used to create an independent copy of a subset of an array. This method is very useful when you want to perform operations related to the subset without altering the original array. The **copy()** method creates a copy of the subset, allowing you to perform operations on this copy without affecting the original array."
   ]
  },
  {
   "cell_type": "code",
   "execution_count": 59,
   "id": "170a20f0",
   "metadata": {
    "execution": {
     "iopub.execute_input": "2023-10-11T14:44:30.222102Z",
     "iopub.status.busy": "2023-10-11T14:44:30.221700Z",
     "iopub.status.idle": "2023-10-11T14:44:30.229961Z",
     "shell.execute_reply": "2023-10-11T14:44:30.228768Z"
    },
    "papermill": {
     "duration": 0.074674,
     "end_time": "2023-10-11T14:44:30.232472",
     "exception": false,
     "start_time": "2023-10-11T14:44:30.157798",
     "status": "completed"
    },
    "tags": []
   },
   "outputs": [
    {
     "data": {
      "text/plain": [
       "array([1, 2, 3, 4, 5])"
      ]
     },
     "execution_count": 59,
     "metadata": {},
     "output_type": "execute_result"
    }
   ],
   "source": [
    "# Example array:\n",
    "\n",
    "arr = np.array([1, 2, 3, 4, 5])\n",
    "\n",
    "arr"
   ]
  },
  {
   "cell_type": "code",
   "execution_count": 60,
   "id": "07f06f0c",
   "metadata": {
    "execution": {
     "iopub.execute_input": "2023-10-11T14:44:30.359966Z",
     "iopub.status.busy": "2023-10-11T14:44:30.358845Z",
     "iopub.status.idle": "2023-10-11T14:44:30.365925Z",
     "shell.execute_reply": "2023-10-11T14:44:30.364863Z"
    },
    "papermill": {
     "duration": 0.071693,
     "end_time": "2023-10-11T14:44:30.368278",
     "exception": false,
     "start_time": "2023-10-11T14:44:30.296585",
     "status": "completed"
    },
    "tags": []
   },
   "outputs": [
    {
     "data": {
      "text/plain": [
       "array([2, 3, 4])"
      ]
     },
     "execution_count": 60,
     "metadata": {},
     "output_type": "execute_result"
    }
   ],
   "source": [
    "# Selecting a subset using slicing:\n",
    "\n",
    "subset = arr[1:4]\n",
    "\n",
    "subset"
   ]
  },
  {
   "cell_type": "code",
   "execution_count": 61,
   "id": "bc604178",
   "metadata": {
    "execution": {
     "iopub.execute_input": "2023-10-11T14:44:30.497053Z",
     "iopub.status.busy": "2023-10-11T14:44:30.496693Z",
     "iopub.status.idle": "2023-10-11T14:44:30.503490Z",
     "shell.execute_reply": "2023-10-11T14:44:30.502321Z"
    },
    "papermill": {
     "duration": 0.076133,
     "end_time": "2023-10-11T14:44:30.505705",
     "exception": false,
     "start_time": "2023-10-11T14:44:30.429572",
     "status": "completed"
    },
    "tags": []
   },
   "outputs": [
    {
     "data": {
      "text/plain": [
       "array([2, 3, 4])"
      ]
     },
     "execution_count": 61,
     "metadata": {},
     "output_type": "execute_result"
    }
   ],
   "source": [
    "# Creating a copy of the subset:\n",
    "\n",
    "subset_copy = subset.copy()\n",
    "\n",
    "subset_copy"
   ]
  },
  {
   "cell_type": "code",
   "execution_count": 62,
   "id": "df9ff3aa",
   "metadata": {
    "execution": {
     "iopub.execute_input": "2023-10-11T14:44:30.633708Z",
     "iopub.status.busy": "2023-10-11T14:44:30.632615Z",
     "iopub.status.idle": "2023-10-11T14:44:30.640187Z",
     "shell.execute_reply": "2023-10-11T14:44:30.639257Z"
    },
    "papermill": {
     "duration": 0.071177,
     "end_time": "2023-10-11T14:44:30.642280",
     "exception": false,
     "start_time": "2023-10-11T14:44:30.571103",
     "status": "completed"
    },
    "tags": []
   },
   "outputs": [
    {
     "data": {
      "text/plain": [
       "array([ 2, 20,  4])"
      ]
     },
     "execution_count": 62,
     "metadata": {},
     "output_type": "execute_result"
    }
   ],
   "source": [
    "# Modifying the subset and its copy:\n",
    "\n",
    "subset[0] = 10\n",
    "subset_copy[1] = 20\n",
    "\n",
    "subset_copy"
   ]
  },
  {
   "cell_type": "markdown",
   "id": "087e7f18",
   "metadata": {
    "papermill": {
     "duration": 0.065776,
     "end_time": "2023-10-11T14:44:30.769299",
     "exception": false,
     "start_time": "2023-10-11T14:44:30.703523",
     "status": "completed"
    },
    "tags": []
   },
   "source": [
    "<a id = \"12\"></a><br>\n",
    "<h1 style=\"background-color:#98AFC7;font-family:courier;font-size:250%;font-style: oblique;font-weight: bold;font-variant: small-caps;text-align:center;border-radius: 15px 50px;\"> Conditional Element Operations </h1>\n",
    "\n",
    "NumPy provides several powerful functions and methods for conditional element operations. These operations can be used to filter or modify elements in a NumPy array based on certain conditions. Conditional element operations are commonly used for data analysis and transformations on NumPy arrays.\n",
    "\n",
    "* **Boolean Indexing:** It is used to filter elements in an array using boolean arrays.\n",
    "\n",
    "* **np.where():** It is used to select elements that satisfy a particular condition or replace elements with another value.\n",
    "\n",
    "* **np.logical_and() and np.logical_or():** These functions are used to combine multiple conditions.\n",
    "\n",
    "* **np.any() and np.all():** They return True if at least one or all elements in an array satisfy a specific condition."
   ]
  },
  {
   "cell_type": "markdown",
   "id": "287d9c7e",
   "metadata": {
    "papermill": {
     "duration": 0.063624,
     "end_time": "2023-10-11T14:44:30.894456",
     "exception": false,
     "start_time": "2023-10-11T14:44:30.830832",
     "status": "completed"
    },
    "tags": []
   },
   "source": [
    "---"
   ]
  },
  {
   "cell_type": "code",
   "execution_count": 63,
   "id": "6047cdce",
   "metadata": {
    "execution": {
     "iopub.execute_input": "2023-10-11T14:44:31.016683Z",
     "iopub.status.busy": "2023-10-11T14:44:31.015770Z",
     "iopub.status.idle": "2023-10-11T14:44:31.023516Z",
     "shell.execute_reply": "2023-10-11T14:44:31.022348Z"
    },
    "papermill": {
     "duration": 0.071571,
     "end_time": "2023-10-11T14:44:31.025874",
     "exception": false,
     "start_time": "2023-10-11T14:44:30.954303",
     "status": "completed"
    },
    "tags": []
   },
   "outputs": [
    {
     "data": {
      "text/plain": [
       "array([1, 2, 3, 4, 5])"
      ]
     },
     "execution_count": 63,
     "metadata": {},
     "output_type": "execute_result"
    }
   ],
   "source": [
    "# Example array:\n",
    "\n",
    "arr = np.array([1, 2, 3, 4, 5])\n",
    "\n",
    "arr"
   ]
  },
  {
   "cell_type": "code",
   "execution_count": 64,
   "id": "2230d562",
   "metadata": {
    "execution": {
     "iopub.execute_input": "2023-10-11T14:44:31.150737Z",
     "iopub.status.busy": "2023-10-11T14:44:31.150360Z",
     "iopub.status.idle": "2023-10-11T14:44:31.156851Z",
     "shell.execute_reply": "2023-10-11T14:44:31.155813Z"
    },
    "papermill": {
     "duration": 0.071618,
     "end_time": "2023-10-11T14:44:31.159201",
     "exception": false,
     "start_time": "2023-10-11T14:44:31.087583",
     "status": "completed"
    },
    "tags": []
   },
   "outputs": [
    {
     "data": {
      "text/plain": [
       "array([4, 5])"
      ]
     },
     "execution_count": 64,
     "metadata": {},
     "output_type": "execute_result"
    }
   ],
   "source": [
    "# Boolean Indexing for filtering:\n",
    "\n",
    "arr[arr > 3]"
   ]
  },
  {
   "cell_type": "code",
   "execution_count": 65,
   "id": "94f0990f",
   "metadata": {
    "execution": {
     "iopub.execute_input": "2023-10-11T14:44:31.283271Z",
     "iopub.status.busy": "2023-10-11T14:44:31.282807Z",
     "iopub.status.idle": "2023-10-11T14:44:31.289126Z",
     "shell.execute_reply": "2023-10-11T14:44:31.288334Z"
    },
    "papermill": {
     "duration": 0.069838,
     "end_time": "2023-10-11T14:44:31.291327",
     "exception": false,
     "start_time": "2023-10-11T14:44:31.221489",
     "status": "completed"
    },
    "tags": []
   },
   "outputs": [
    {
     "data": {
      "text/plain": [
       "array([ 1,  2,  3, 10, 10])"
      ]
     },
     "execution_count": 65,
     "metadata": {},
     "output_type": "execute_result"
    }
   ],
   "source": [
    "# np.where() for value replacement:\n",
    "\n",
    "arr2 = np.where(arr > 3, 10, arr)\n",
    "\n",
    "arr2"
   ]
  },
  {
   "cell_type": "code",
   "execution_count": 66,
   "id": "9cbe763c",
   "metadata": {
    "execution": {
     "iopub.execute_input": "2023-10-11T14:44:31.419073Z",
     "iopub.status.busy": "2023-10-11T14:44:31.418474Z",
     "iopub.status.idle": "2023-10-11T14:44:31.424611Z",
     "shell.execute_reply": "2023-10-11T14:44:31.423780Z"
    },
    "papermill": {
     "duration": 0.074576,
     "end_time": "2023-10-11T14:44:31.426576",
     "exception": false,
     "start_time": "2023-10-11T14:44:31.352000",
     "status": "completed"
    },
    "tags": []
   },
   "outputs": [
    {
     "data": {
      "text/plain": [
       "array([3, 4])"
      ]
     },
     "execution_count": 66,
     "metadata": {},
     "output_type": "execute_result"
    }
   ],
   "source": [
    "# Combining multiple conditions with np.logical_and() and np.logical_or():\n",
    "\n",
    "mask1 = arr > 2\n",
    "mask2 = arr < 5\n",
    "\n",
    "arr[np.logical_and(mask1, mask2)]"
   ]
  },
  {
   "cell_type": "code",
   "execution_count": 67,
   "id": "4313d73c",
   "metadata": {
    "execution": {
     "iopub.execute_input": "2023-10-11T14:44:31.553039Z",
     "iopub.status.busy": "2023-10-11T14:44:31.551785Z",
     "iopub.status.idle": "2023-10-11T14:44:31.558626Z",
     "shell.execute_reply": "2023-10-11T14:44:31.557717Z"
    },
    "papermill": {
     "duration": 0.070579,
     "end_time": "2023-10-11T14:44:31.560846",
     "exception": false,
     "start_time": "2023-10-11T14:44:31.490267",
     "status": "completed"
    },
    "tags": []
   },
   "outputs": [
    {
     "data": {
      "text/plain": [
       "True"
      ]
     },
     "execution_count": 67,
     "metadata": {},
     "output_type": "execute_result"
    }
   ],
   "source": [
    "# Conditional evaluation with np.any() and np.all():\n",
    "\n",
    "np.any(arr > 3)"
   ]
  },
  {
   "cell_type": "code",
   "execution_count": 68,
   "id": "b9ecb810",
   "metadata": {
    "execution": {
     "iopub.execute_input": "2023-10-11T14:44:31.690912Z",
     "iopub.status.busy": "2023-10-11T14:44:31.690523Z",
     "iopub.status.idle": "2023-10-11T14:44:31.697077Z",
     "shell.execute_reply": "2023-10-11T14:44:31.695976Z"
    },
    "papermill": {
     "duration": 0.072104,
     "end_time": "2023-10-11T14:44:31.699573",
     "exception": false,
     "start_time": "2023-10-11T14:44:31.627469",
     "status": "completed"
    },
    "tags": []
   },
   "outputs": [
    {
     "data": {
      "text/plain": [
       "False"
      ]
     },
     "execution_count": 68,
     "metadata": {},
     "output_type": "execute_result"
    }
   ],
   "source": [
    "np.all(arr > 3)"
   ]
  },
  {
   "cell_type": "markdown",
   "id": "379d510d",
   "metadata": {
    "papermill": {
     "duration": 0.062531,
     "end_time": "2023-10-11T14:44:31.826741",
     "exception": false,
     "start_time": "2023-10-11T14:44:31.764210",
     "status": "completed"
    },
    "tags": []
   },
   "source": [
    "<a id = \"13\"></a><br>\n",
    "<h1 style=\"background-color:#98AFC7;font-family:courier;font-size:250%;font-style: oblique;font-weight: bold;font-variant: small-caps;text-align:center;border-radius: 15px 50px;\"> Mathematical Operations </h1>\n",
    "\n",
    "In Python, NumPy provides a wide range of functions and methods for mathematical operations. NumPy offers fast and efficient tools for mathematical computations and is commonly used in scientific calculations.\n",
    "\n",
    "* **Basic Arithmetic Operations:** You can perform basic arithmetic operations such as addition, subtraction, multiplication, and division.\n",
    "\n",
    "* **Matrix Operations:** NumPy allows matrix addition, matrix multiplication, and finding the inverse of a matrix, among other matrix operations.\n",
    "\n",
    "* **Trigonometric Operations:** You can calculate trigonometric functions such as sine, cosine, and tangent using NumPy trigonometric functions.\n",
    "\n",
    "* **Logarithmic and Exponential Operations:** NumPy provides functions for logarithmic and exponential operations.\n",
    "\n",
    "* **Statistical Operations:** You can calculate statistics like mean, standard deviation, and median using NumPy statistical functions.\n",
    "\n",
    "* **Distance and Norm Operations:** NumPy allows you to calculate the distance between two points and the norm of a vector.\n",
    "\n",
    "* **Random Number Generation:** NumPy provides functions to generate random numbers.\n",
    "\n",
    "* **Linear Algebra Operations:** You can perform linear algebra operations such as vector dot product, matrix multiplication, and finding the determinant using NumPy."
   ]
  },
  {
   "cell_type": "markdown",
   "id": "cd08d315",
   "metadata": {
    "papermill": {
     "duration": 0.063657,
     "end_time": "2023-10-11T14:44:31.951351",
     "exception": false,
     "start_time": "2023-10-11T14:44:31.887694",
     "status": "completed"
    },
    "tags": []
   },
   "source": [
    "---"
   ]
  },
  {
   "cell_type": "code",
   "execution_count": 69,
   "id": "6e5a5ee5",
   "metadata": {
    "execution": {
     "iopub.execute_input": "2023-10-11T14:44:32.077732Z",
     "iopub.status.busy": "2023-10-11T14:44:32.077391Z",
     "iopub.status.idle": "2023-10-11T14:44:32.082147Z",
     "shell.execute_reply": "2023-10-11T14:44:32.080975Z"
    },
    "papermill": {
     "duration": 0.07139,
     "end_time": "2023-10-11T14:44:32.084599",
     "exception": false,
     "start_time": "2023-10-11T14:44:32.013209",
     "status": "completed"
    },
    "tags": []
   },
   "outputs": [],
   "source": [
    "# Basic arithmetic operations:\n",
    "\n",
    "x = 5\n",
    "y = 3"
   ]
  },
  {
   "cell_type": "code",
   "execution_count": 70,
   "id": "1a23e162",
   "metadata": {
    "execution": {
     "iopub.execute_input": "2023-10-11T14:44:32.212521Z",
     "iopub.status.busy": "2023-10-11T14:44:32.212147Z",
     "iopub.status.idle": "2023-10-11T14:44:32.219319Z",
     "shell.execute_reply": "2023-10-11T14:44:32.218322Z"
    },
    "papermill": {
     "duration": 0.071891,
     "end_time": "2023-10-11T14:44:32.221664",
     "exception": false,
     "start_time": "2023-10-11T14:44:32.149773",
     "status": "completed"
    },
    "tags": []
   },
   "outputs": [
    {
     "data": {
      "text/plain": [
       "8"
      ]
     },
     "execution_count": 70,
     "metadata": {},
     "output_type": "execute_result"
    }
   ],
   "source": [
    "np.add(x, y)"
   ]
  },
  {
   "cell_type": "code",
   "execution_count": 71,
   "id": "5ae1970f",
   "metadata": {
    "execution": {
     "iopub.execute_input": "2023-10-11T14:44:32.347674Z",
     "iopub.status.busy": "2023-10-11T14:44:32.347322Z",
     "iopub.status.idle": "2023-10-11T14:44:32.353770Z",
     "shell.execute_reply": "2023-10-11T14:44:32.352487Z"
    },
    "papermill": {
     "duration": 0.072794,
     "end_time": "2023-10-11T14:44:32.356153",
     "exception": false,
     "start_time": "2023-10-11T14:44:32.283359",
     "status": "completed"
    },
    "tags": []
   },
   "outputs": [
    {
     "data": {
      "text/plain": [
       "2"
      ]
     },
     "execution_count": 71,
     "metadata": {},
     "output_type": "execute_result"
    }
   ],
   "source": [
    "np.subtract(x, y)"
   ]
  },
  {
   "cell_type": "code",
   "execution_count": 72,
   "id": "021d37cb",
   "metadata": {
    "execution": {
     "iopub.execute_input": "2023-10-11T14:44:32.491021Z",
     "iopub.status.busy": "2023-10-11T14:44:32.490340Z",
     "iopub.status.idle": "2023-10-11T14:44:32.496619Z",
     "shell.execute_reply": "2023-10-11T14:44:32.495329Z"
    },
    "papermill": {
     "duration": 0.077346,
     "end_time": "2023-10-11T14:44:32.498871",
     "exception": false,
     "start_time": "2023-10-11T14:44:32.421525",
     "status": "completed"
    },
    "tags": []
   },
   "outputs": [
    {
     "data": {
      "text/plain": [
       "15"
      ]
     },
     "execution_count": 72,
     "metadata": {},
     "output_type": "execute_result"
    }
   ],
   "source": [
    "np.multiply(x, y)"
   ]
  },
  {
   "cell_type": "code",
   "execution_count": 73,
   "id": "67b6b47b",
   "metadata": {
    "execution": {
     "iopub.execute_input": "2023-10-11T14:44:32.631617Z",
     "iopub.status.busy": "2023-10-11T14:44:32.630935Z",
     "iopub.status.idle": "2023-10-11T14:44:32.638207Z",
     "shell.execute_reply": "2023-10-11T14:44:32.637097Z"
    },
    "papermill": {
     "duration": 0.075987,
     "end_time": "2023-10-11T14:44:32.640540",
     "exception": false,
     "start_time": "2023-10-11T14:44:32.564553",
     "status": "completed"
    },
    "tags": []
   },
   "outputs": [
    {
     "data": {
      "text/plain": [
       "1.6666666666666667"
      ]
     },
     "execution_count": 73,
     "metadata": {},
     "output_type": "execute_result"
    }
   ],
   "source": [
    "np.divide(x, y)"
   ]
  },
  {
   "cell_type": "code",
   "execution_count": 74,
   "id": "28ce9eef",
   "metadata": {
    "execution": {
     "iopub.execute_input": "2023-10-11T14:44:32.772688Z",
     "iopub.status.busy": "2023-10-11T14:44:32.771931Z",
     "iopub.status.idle": "2023-10-11T14:44:32.776897Z",
     "shell.execute_reply": "2023-10-11T14:44:32.775804Z"
    },
    "papermill": {
     "duration": 0.073296,
     "end_time": "2023-10-11T14:44:32.779691",
     "exception": false,
     "start_time": "2023-10-11T14:44:32.706395",
     "status": "completed"
    },
    "tags": []
   },
   "outputs": [],
   "source": [
    "# Trigonometric operations:\n",
    "\n",
    "angle = np.pi / 4"
   ]
  },
  {
   "cell_type": "code",
   "execution_count": 75,
   "id": "97748653",
   "metadata": {
    "execution": {
     "iopub.execute_input": "2023-10-11T14:44:32.908406Z",
     "iopub.status.busy": "2023-10-11T14:44:32.907562Z",
     "iopub.status.idle": "2023-10-11T14:44:32.918676Z",
     "shell.execute_reply": "2023-10-11T14:44:32.917762Z"
    },
    "papermill": {
     "duration": 0.078308,
     "end_time": "2023-10-11T14:44:32.920775",
     "exception": false,
     "start_time": "2023-10-11T14:44:32.842467",
     "status": "completed"
    },
    "tags": []
   },
   "outputs": [
    {
     "data": {
      "text/plain": [
       "0.7071067811865475"
      ]
     },
     "execution_count": 75,
     "metadata": {},
     "output_type": "execute_result"
    }
   ],
   "source": [
    "np.sin(angle)"
   ]
  },
  {
   "cell_type": "code",
   "execution_count": 76,
   "id": "a4e18df6",
   "metadata": {
    "execution": {
     "iopub.execute_input": "2023-10-11T14:44:33.050487Z",
     "iopub.status.busy": "2023-10-11T14:44:33.049834Z",
     "iopub.status.idle": "2023-10-11T14:44:33.055769Z",
     "shell.execute_reply": "2023-10-11T14:44:33.054905Z"
    },
    "papermill": {
     "duration": 0.072127,
     "end_time": "2023-10-11T14:44:33.057952",
     "exception": false,
     "start_time": "2023-10-11T14:44:32.985825",
     "status": "completed"
    },
    "tags": []
   },
   "outputs": [
    {
     "data": {
      "text/plain": [
       "0.7071067811865476"
      ]
     },
     "execution_count": 76,
     "metadata": {},
     "output_type": "execute_result"
    }
   ],
   "source": [
    "np.cos(angle)"
   ]
  },
  {
   "cell_type": "code",
   "execution_count": 77,
   "id": "a5f11dc8",
   "metadata": {
    "execution": {
     "iopub.execute_input": "2023-10-11T14:44:33.187283Z",
     "iopub.status.busy": "2023-10-11T14:44:33.186876Z",
     "iopub.status.idle": "2023-10-11T14:44:33.192552Z",
     "shell.execute_reply": "2023-10-11T14:44:33.191584Z"
    },
    "papermill": {
     "duration": 0.072985,
     "end_time": "2023-10-11T14:44:33.194775",
     "exception": false,
     "start_time": "2023-10-11T14:44:33.121790",
     "status": "completed"
    },
    "tags": []
   },
   "outputs": [
    {
     "data": {
      "text/plain": [
       "0.9999999999999999"
      ]
     },
     "execution_count": 77,
     "metadata": {},
     "output_type": "execute_result"
    }
   ],
   "source": [
    "np.tan(angle)"
   ]
  },
  {
   "cell_type": "code",
   "execution_count": 78,
   "id": "04309bd0",
   "metadata": {
    "execution": {
     "iopub.execute_input": "2023-10-11T14:44:33.321522Z",
     "iopub.status.busy": "2023-10-11T14:44:33.321124Z",
     "iopub.status.idle": "2023-10-11T14:44:33.325251Z",
     "shell.execute_reply": "2023-10-11T14:44:33.324479Z"
    },
    "papermill": {
     "duration": 0.070454,
     "end_time": "2023-10-11T14:44:33.327183",
     "exception": false,
     "start_time": "2023-10-11T14:44:33.256729",
     "status": "completed"
    },
    "tags": []
   },
   "outputs": [],
   "source": [
    "# Logarithmic and exponential operations:\n",
    "\n",
    "num = 10"
   ]
  },
  {
   "cell_type": "code",
   "execution_count": 79,
   "id": "366fdef7",
   "metadata": {
    "execution": {
     "iopub.execute_input": "2023-10-11T14:44:33.454798Z",
     "iopub.status.busy": "2023-10-11T14:44:33.454065Z",
     "iopub.status.idle": "2023-10-11T14:44:33.461830Z",
     "shell.execute_reply": "2023-10-11T14:44:33.460207Z"
    },
    "papermill": {
     "duration": 0.074809,
     "end_time": "2023-10-11T14:44:33.464417",
     "exception": false,
     "start_time": "2023-10-11T14:44:33.389608",
     "status": "completed"
    },
    "tags": []
   },
   "outputs": [
    {
     "data": {
      "text/plain": [
       "2.302585092994046"
      ]
     },
     "execution_count": 79,
     "metadata": {},
     "output_type": "execute_result"
    }
   ],
   "source": [
    "np.log(num)"
   ]
  },
  {
   "cell_type": "code",
   "execution_count": 80,
   "id": "c4e458b4",
   "metadata": {
    "execution": {
     "iopub.execute_input": "2023-10-11T14:44:33.590294Z",
     "iopub.status.busy": "2023-10-11T14:44:33.589890Z",
     "iopub.status.idle": "2023-10-11T14:44:33.596075Z",
     "shell.execute_reply": "2023-10-11T14:44:33.595210Z"
    },
    "papermill": {
     "duration": 0.071298,
     "end_time": "2023-10-11T14:44:33.598362",
     "exception": false,
     "start_time": "2023-10-11T14:44:33.527064",
     "status": "completed"
    },
    "tags": []
   },
   "outputs": [
    {
     "data": {
      "text/plain": [
       "22026.465794806718"
      ]
     },
     "execution_count": 80,
     "metadata": {},
     "output_type": "execute_result"
    }
   ],
   "source": [
    "np.exp(num)"
   ]
  },
  {
   "cell_type": "code",
   "execution_count": 81,
   "id": "0c9f539f",
   "metadata": {
    "execution": {
     "iopub.execute_input": "2023-10-11T14:44:33.723592Z",
     "iopub.status.busy": "2023-10-11T14:44:33.723219Z",
     "iopub.status.idle": "2023-10-11T14:44:33.727848Z",
     "shell.execute_reply": "2023-10-11T14:44:33.726828Z"
    },
    "papermill": {
     "duration": 0.069165,
     "end_time": "2023-10-11T14:44:33.729947",
     "exception": false,
     "start_time": "2023-10-11T14:44:33.660782",
     "status": "completed"
    },
    "tags": []
   },
   "outputs": [],
   "source": [
    "# Statistical operations:\n",
    "\n",
    "data = np.array([2, 5, 7, 3, 9])"
   ]
  },
  {
   "cell_type": "code",
   "execution_count": 82,
   "id": "512a75fc",
   "metadata": {
    "execution": {
     "iopub.execute_input": "2023-10-11T14:44:33.877714Z",
     "iopub.status.busy": "2023-10-11T14:44:33.876984Z",
     "iopub.status.idle": "2023-10-11T14:44:33.884964Z",
     "shell.execute_reply": "2023-10-11T14:44:33.883333Z"
    },
    "papermill": {
     "duration": 0.08726,
     "end_time": "2023-10-11T14:44:33.887417",
     "exception": false,
     "start_time": "2023-10-11T14:44:33.800157",
     "status": "completed"
    },
    "tags": []
   },
   "outputs": [
    {
     "data": {
      "text/plain": [
       "5.2"
      ]
     },
     "execution_count": 82,
     "metadata": {},
     "output_type": "execute_result"
    }
   ],
   "source": [
    "np.mean(data)"
   ]
  },
  {
   "cell_type": "code",
   "execution_count": 83,
   "id": "0a5803a4",
   "metadata": {
    "execution": {
     "iopub.execute_input": "2023-10-11T14:44:34.012883Z",
     "iopub.status.busy": "2023-10-11T14:44:34.012515Z",
     "iopub.status.idle": "2023-10-11T14:44:34.019809Z",
     "shell.execute_reply": "2023-10-11T14:44:34.018663Z"
    },
    "papermill": {
     "duration": 0.072632,
     "end_time": "2023-10-11T14:44:34.022112",
     "exception": false,
     "start_time": "2023-10-11T14:44:33.949480",
     "status": "completed"
    },
    "tags": []
   },
   "outputs": [
    {
     "data": {
      "text/plain": [
       "2.5612496949731396"
      ]
     },
     "execution_count": 83,
     "metadata": {},
     "output_type": "execute_result"
    }
   ],
   "source": [
    "np.std(data)"
   ]
  },
  {
   "cell_type": "code",
   "execution_count": 84,
   "id": "291be3b5",
   "metadata": {
    "execution": {
     "iopub.execute_input": "2023-10-11T14:44:34.147635Z",
     "iopub.status.busy": "2023-10-11T14:44:34.147216Z",
     "iopub.status.idle": "2023-10-11T14:44:34.154719Z",
     "shell.execute_reply": "2023-10-11T14:44:34.153789Z"
    },
    "papermill": {
     "duration": 0.073463,
     "end_time": "2023-10-11T14:44:34.157061",
     "exception": false,
     "start_time": "2023-10-11T14:44:34.083598",
     "status": "completed"
    },
    "tags": []
   },
   "outputs": [
    {
     "data": {
      "text/plain": [
       "5.0"
      ]
     },
     "execution_count": 84,
     "metadata": {},
     "output_type": "execute_result"
    }
   ],
   "source": [
    "np.median(data)"
   ]
  },
  {
   "cell_type": "code",
   "execution_count": 85,
   "id": "cf4ed7c7",
   "metadata": {
    "execution": {
     "iopub.execute_input": "2023-10-11T14:44:34.284726Z",
     "iopub.status.busy": "2023-10-11T14:44:34.283444Z",
     "iopub.status.idle": "2023-10-11T14:44:34.291199Z",
     "shell.execute_reply": "2023-10-11T14:44:34.289696Z"
    },
    "papermill": {
     "duration": 0.074229,
     "end_time": "2023-10-11T14:44:34.293503",
     "exception": false,
     "start_time": "2023-10-11T14:44:34.219274",
     "status": "completed"
    },
    "tags": []
   },
   "outputs": [
    {
     "data": {
      "text/plain": [
       "0.2719856652941176"
      ]
     },
     "execution_count": 85,
     "metadata": {},
     "output_type": "execute_result"
    }
   ],
   "source": [
    "# Random number generation:\n",
    "\n",
    "np.random.rand()"
   ]
  },
  {
   "cell_type": "code",
   "execution_count": 86,
   "id": "fa3cddb3",
   "metadata": {
    "execution": {
     "iopub.execute_input": "2023-10-11T14:44:34.420490Z",
     "iopub.status.busy": "2023-10-11T14:44:34.420099Z",
     "iopub.status.idle": "2023-10-11T14:44:34.427934Z",
     "shell.execute_reply": "2023-10-11T14:44:34.426463Z"
    },
    "papermill": {
     "duration": 0.073994,
     "end_time": "2023-10-11T14:44:34.430406",
     "exception": false,
     "start_time": "2023-10-11T14:44:34.356412",
     "status": "completed"
    },
    "tags": []
   },
   "outputs": [
    {
     "data": {
      "text/plain": [
       "6"
      ]
     },
     "execution_count": 86,
     "metadata": {},
     "output_type": "execute_result"
    }
   ],
   "source": [
    "np.random.randint(1, 10)"
   ]
  },
  {
   "cell_type": "code",
   "execution_count": 87,
   "id": "93953909",
   "metadata": {
    "execution": {
     "iopub.execute_input": "2023-10-11T14:44:34.564596Z",
     "iopub.status.busy": "2023-10-11T14:44:34.564134Z",
     "iopub.status.idle": "2023-10-11T14:44:34.570199Z",
     "shell.execute_reply": "2023-10-11T14:44:34.569476Z"
    },
    "papermill": {
     "duration": 0.075123,
     "end_time": "2023-10-11T14:44:34.572141",
     "exception": false,
     "start_time": "2023-10-11T14:44:34.497018",
     "status": "completed"
    },
    "tags": []
   },
   "outputs": [
    {
     "data": {
      "text/plain": [
       "32"
      ]
     },
     "execution_count": 87,
     "metadata": {},
     "output_type": "execute_result"
    }
   ],
   "source": [
    "# Linear algebra operations:\n",
    "\n",
    "vector1 = np.array([1, 2, 3])\n",
    "vector2 = np.array([4, 5, 6])\n",
    "\n",
    "np.dot(vector1, vector2)"
   ]
  },
  {
   "cell_type": "code",
   "execution_count": 88,
   "id": "1f9a9c3a",
   "metadata": {
    "execution": {
     "iopub.execute_input": "2023-10-11T14:44:34.771164Z",
     "iopub.status.busy": "2023-10-11T14:44:34.770476Z",
     "iopub.status.idle": "2023-10-11T14:44:34.776996Z",
     "shell.execute_reply": "2023-10-11T14:44:34.776176Z"
    },
    "papermill": {
     "duration": 0.142553,
     "end_time": "2023-10-11T14:44:34.779136",
     "exception": false,
     "start_time": "2023-10-11T14:44:34.636583",
     "status": "completed"
    },
    "tags": []
   },
   "outputs": [
    {
     "data": {
      "text/plain": [
       "array([[19, 22],\n",
       "       [43, 50]])"
      ]
     },
     "execution_count": 88,
     "metadata": {},
     "output_type": "execute_result"
    }
   ],
   "source": [
    "matrix1 = np.array([[1, 2], [3, 4]])\n",
    "matrix2 = np.array([[5, 6], [7, 8]])\n",
    "\n",
    "np.matmul(matrix1, matrix2)"
   ]
  },
  {
   "cell_type": "code",
   "execution_count": 89,
   "id": "6013cbeb",
   "metadata": {
    "execution": {
     "iopub.execute_input": "2023-10-11T14:44:34.911257Z",
     "iopub.status.busy": "2023-10-11T14:44:34.910520Z",
     "iopub.status.idle": "2023-10-11T14:44:34.918132Z",
     "shell.execute_reply": "2023-10-11T14:44:34.917007Z"
    },
    "papermill": {
     "duration": 0.078541,
     "end_time": "2023-10-11T14:44:34.920599",
     "exception": false,
     "start_time": "2023-10-11T14:44:34.842058",
     "status": "completed"
    },
    "tags": []
   },
   "outputs": [
    {
     "data": {
      "text/plain": [
       "-2.0000000000000004"
      ]
     },
     "execution_count": 89,
     "metadata": {},
     "output_type": "execute_result"
    }
   ],
   "source": [
    "np.linalg.det(matrix1)"
   ]
  },
  {
   "cell_type": "code",
   "execution_count": 90,
   "id": "f3da24ed",
   "metadata": {
    "execution": {
     "iopub.execute_input": "2023-10-11T14:44:35.050618Z",
     "iopub.status.busy": "2023-10-11T14:44:35.049506Z",
     "iopub.status.idle": "2023-10-11T14:44:35.060631Z",
     "shell.execute_reply": "2023-10-11T14:44:35.059776Z"
    },
    "papermill": {
     "duration": 0.079346,
     "end_time": "2023-10-11T14:44:35.062869",
     "exception": false,
     "start_time": "2023-10-11T14:44:34.983523",
     "status": "completed"
    },
    "tags": []
   },
   "outputs": [
    {
     "data": {
      "text/plain": [
       "array([1.85714286, 2.71428571])"
      ]
     },
     "execution_count": 90,
     "metadata": {},
     "output_type": "execute_result"
    }
   ],
   "source": [
    "# Solving an Equation with Two Unknowns with NumPy\n",
    "\n",
    "a = np.array([[5, 1], [1, 3]])\n",
    "b = np.array([12, 10])\n",
    "\n",
    "np.linalg.solve(a, b)"
   ]
  },
  {
   "cell_type": "markdown",
   "id": "85b306a1",
   "metadata": {
    "papermill": {
     "duration": 0.064922,
     "end_time": "2023-10-11T14:44:35.191547",
     "exception": false,
     "start_time": "2023-10-11T14:44:35.126625",
     "status": "completed"
    },
    "tags": []
   },
   "source": [
    "<a id = \"14\"></a><br>\n",
    "<h1 style=\"background-color:#F75D59;font-family:courier;font-size:300%;font-style: oblique;font-weight: bold;font-variant: small-caps;text-align:center;border-radius: 15px 50px;\"> Pandas </h1>"
   ]
  },
  {
   "cell_type": "markdown",
   "id": "7fe1fd72",
   "metadata": {
    "papermill": {
     "duration": 0.062604,
     "end_time": "2023-10-11T14:44:35.317115",
     "exception": false,
     "start_time": "2023-10-11T14:44:35.254511",
     "status": "completed"
    },
    "tags": []
   },
   "source": [
    "<a id = \"15\"></a><br>\n",
    "<h1 style=\"background-color:#77BFC7;font-family:courier;font-size:250%;font-style: oblique;font-weight: bold;font-variant: small-caps;text-align:center;border-radius: 15px 50px;\"> Introduction </h1>\n",
    "\n",
    "Pandas is an open-source library in the Python programming language used for data analysis and data manipulation. It provides powerful and flexible data structures and data analysis tools, allowing you to process and analyze your data effectively. Pandas is specifically designed for high-performance and easy operations on table-like data structures called DataFrames.\n",
    "\n",
    "Pandas has the following core structures:\n",
    "\n",
    "* **DataFrame:** It is a two-dimensional data structure used to store and manipulate data in a tabular format. DataFrame represents a table with columns and rows, and it allows you to organize and analyze data in a labeled format.\n",
    "\n",
    "* **Series:** It is a one-dimensional labeled data array. A Series can be thought of as a labeled array of data points, similar to a one-dimensional array. Columns or rows within a DataFrame are represented as Series.\n",
    "\n",
    "Pandas can be used for various operations, such as data loading, filtering, transformation, merging, grouping, and statistical computations. It also provides extensive support for reading and writing data in different formats (CSV, Excel, SQL, etc.).\n",
    "\n",
    "Pandas is widely used by data scientists, analysts, and data engineers. You can use Pandas to efficiently process and analyze your data, making it a valuable tool in the field of data analysis."
   ]
  },
  {
   "cell_type": "markdown",
   "id": "35b9a09f",
   "metadata": {
    "papermill": {
     "duration": 0.062076,
     "end_time": "2023-10-11T14:44:35.446904",
     "exception": false,
     "start_time": "2023-10-11T14:44:35.384828",
     "status": "completed"
    },
    "tags": []
   },
   "source": [
    "<a id = \"16\"></a><br>\n",
    "<h1 style=\"background-color:#77BFC7;font-family:courier;font-size:250%;font-style: oblique;font-weight: bold;font-variant: small-caps;text-align:center;border-radius: 15px 50px;\"> Creating Series </h1>\n",
    "\n",
    "You can create a Pandas Series in Python using the pd.Series() constructor. The Series is a one-dimensional labeled array that can hold data of any data type. It is similar to a NumPy array but comes with additional features, such as labeled indexing. To create a Pandas Series, you need to import the Pandas library first using import pandas as pd, and then you can use the pd.Series() constructor to create the Series."
   ]
  },
  {
   "cell_type": "code",
   "execution_count": 91,
   "id": "95a5b16f",
   "metadata": {
    "execution": {
     "iopub.execute_input": "2023-10-11T14:44:35.579004Z",
     "iopub.status.busy": "2023-10-11T14:44:35.578336Z",
     "iopub.status.idle": "2023-10-11T14:44:35.592419Z",
     "shell.execute_reply": "2023-10-11T14:44:35.590639Z"
    },
    "papermill": {
     "duration": 0.083943,
     "end_time": "2023-10-11T14:44:35.595044",
     "exception": false,
     "start_time": "2023-10-11T14:44:35.511101",
     "status": "completed"
    },
    "tags": []
   },
   "outputs": [
    {
     "data": {
      "text/plain": [
       "0    10\n",
       "1    20\n",
       "2    30\n",
       "3    40\n",
       "4    50\n",
       "dtype: int64"
      ]
     },
     "execution_count": 91,
     "metadata": {},
     "output_type": "execute_result"
    }
   ],
   "source": [
    "import pandas as pd\n",
    "\n",
    "# Create a Series from a Python list:\n",
    "\n",
    "data = [10, 20, 30, 40, 50]\n",
    "series1 = pd.Series(data)\n",
    "\n",
    "series1"
   ]
  },
  {
   "cell_type": "code",
   "execution_count": 92,
   "id": "b0efbef3",
   "metadata": {
    "execution": {
     "iopub.execute_input": "2023-10-11T14:44:35.724163Z",
     "iopub.status.busy": "2023-10-11T14:44:35.723019Z",
     "iopub.status.idle": "2023-10-11T14:44:35.732505Z",
     "shell.execute_reply": "2023-10-11T14:44:35.731507Z"
    },
    "papermill": {
     "duration": 0.074174,
     "end_time": "2023-10-11T14:44:35.734792",
     "exception": false,
     "start_time": "2023-10-11T14:44:35.660618",
     "status": "completed"
    },
    "tags": []
   },
   "outputs": [
    {
     "data": {
      "text/plain": [
       "0    0.1\n",
       "1    0.2\n",
       "2    0.3\n",
       "3    0.4\n",
       "4    0.5\n",
       "dtype: float64"
      ]
     },
     "execution_count": 92,
     "metadata": {},
     "output_type": "execute_result"
    }
   ],
   "source": [
    "# Create a Series from a NumPy array:\n",
    "\n",
    "data_np = np.array([0.1, 0.2, 0.3, 0.4, 0.5])\n",
    "series2 = pd.Series(data_np)\n",
    "\n",
    "series2"
   ]
  },
  {
   "cell_type": "code",
   "execution_count": 93,
   "id": "7f54dfa8",
   "metadata": {
    "execution": {
     "iopub.execute_input": "2023-10-11T14:44:35.864124Z",
     "iopub.status.busy": "2023-10-11T14:44:35.863761Z",
     "iopub.status.idle": "2023-10-11T14:44:35.878028Z",
     "shell.execute_reply": "2023-10-11T14:44:35.877273Z"
    },
    "papermill": {
     "duration": 0.079661,
     "end_time": "2023-10-11T14:44:35.879991",
     "exception": false,
     "start_time": "2023-10-11T14:44:35.800330",
     "status": "completed"
    },
    "tags": []
   },
   "outputs": [
    {
     "data": {
      "text/plain": [
       "A    10\n",
       "B    20\n",
       "C    30\n",
       "D    40\n",
       "E    50\n",
       "dtype: int64"
      ]
     },
     "execution_count": 93,
     "metadata": {},
     "output_type": "execute_result"
    }
   ],
   "source": [
    "# Create a Series with custom index labels:\n",
    "\n",
    "data_dict = {'A': 10, 'B': 20, 'C': 30, 'D': 40, 'E': 50}\n",
    "series3 = pd.Series(data_dict)\n",
    "\n",
    "series3"
   ]
  },
  {
   "cell_type": "markdown",
   "id": "2d419464",
   "metadata": {
    "papermill": {
     "duration": 0.065858,
     "end_time": "2023-10-11T14:44:36.007557",
     "exception": false,
     "start_time": "2023-10-11T14:44:35.941699",
     "status": "completed"
    },
    "tags": []
   },
   "source": [
    "<div style=\"border-radius:10px; border:#DEB887 solid; padding: 15px; background-color: #FFFAF0; font-size:100%; text-align:left\">\n",
    "\n",
    "<h3 align=\"left\"><font color='#DEB887'>💡 Notes: </font></h3>\n",
    "\n",
    "* Some commonly used commands for Pandas Series:\n",
    "\n",
    "**pd.Series():** Used to create a new Pandas Series.\n",
    "\n",
    "**head():** Used to view the first few rows of the Series.\n",
    "\n",
    "**tail():** Used to view the last few rows of the Series.\n",
    "\n",
    "**shape:** Returns the dimension of the Series as a tuple (rows, columns).\n",
    "\n",
    "**size:** Returns the total number of elements in the Series.\n",
    "\n",
    "**index:** Returns the index labels of the Series.\n",
    "\n",
    "**values:** Returns the values (data) of the Series.\n",
    "\n",
    "**describe():** Used to view basic statistical information about the Series (count, mean, std, min, 25%, 50%, 75%, max).\n",
    "\n",
    "**unique():** Returns the unique values in the Series.\n",
    "\n",
    "**nunique():** Returns the number of unique values in the Series.\n",
    "\n",
    "**count():** Returns the total number of elements in the Series (excluding NaN values).\n",
    "\n",
    "**sum():** Returns the sum of the values in the Series.\n",
    "\n",
    "**mean():** Returns the mean (average) of the values in the Series.\n",
    "\n",
    "**median():** Returns the median value of the values in the Series.\n",
    "\n",
    "**min():** Returns the minimum value in the Series.\n",
    "\n",
    "**max():** Returns the maximum value in the Series.\n",
    "\n",
    "**std():** Returns the standard deviation of the values in the Series.\n",
    "\n",
    "**var():** Returns the variance of the values in the Series.\n",
    "\n",
    "**sort_values():** Sorts the Series by values.\n",
    "\n",
    "**sort_index():** Sorts the Series by index labels.\n",
    "\n",
    "**isnull():** Checks if each element is NaN and returns the results as a boolean Series.\n",
    "\n",
    "**fillna():** Used to fill NaN values with another value.\n",
    "\n",
    "**dropna():** Used to remove rows containing NaN values.\n",
    "\n",
    "**apply():** Used to apply a function to each element of the Series.\n",
    "\n",
    "**map():** Used to apply a dictionary or another Series to each element.\n",
    "\n",
    "**replace():** Used to replace specific values with another value.\n",
    "\n",
    "**iloc[]:** Used to access elements in the Series by positional index.\n",
    "\n",
    "**loc[]:** Used to access elements in the Series by label index.\n",
    "\n",
    "**astype():** Used to change the data type of the Series.\n",
    "\n",
    "**copy():** Used to create a copy of the Series when you want to make changes without affecting the original Series."
   ]
  },
  {
   "cell_type": "code",
   "execution_count": 94,
   "id": "8f5b8c97",
   "metadata": {
    "execution": {
     "iopub.execute_input": "2023-10-11T14:44:36.136463Z",
     "iopub.status.busy": "2023-10-11T14:44:36.135827Z",
     "iopub.status.idle": "2023-10-11T14:44:36.141996Z",
     "shell.execute_reply": "2023-10-11T14:44:36.141208Z"
    },
    "papermill": {
     "duration": 0.07219,
     "end_time": "2023-10-11T14:44:36.144090",
     "exception": false,
     "start_time": "2023-10-11T14:44:36.071900",
     "status": "completed"
    },
    "tags": []
   },
   "outputs": [
    {
     "data": {
      "text/plain": [
       "RangeIndex(start=0, stop=5, step=1)"
      ]
     },
     "execution_count": 94,
     "metadata": {},
     "output_type": "execute_result"
    }
   ],
   "source": [
    "series1.index"
   ]
  },
  {
   "cell_type": "code",
   "execution_count": 95,
   "id": "ec9cd1a2",
   "metadata": {
    "execution": {
     "iopub.execute_input": "2023-10-11T14:44:36.270372Z",
     "iopub.status.busy": "2023-10-11T14:44:36.269745Z",
     "iopub.status.idle": "2023-10-11T14:44:36.275720Z",
     "shell.execute_reply": "2023-10-11T14:44:36.274859Z"
    },
    "papermill": {
     "duration": 0.071429,
     "end_time": "2023-10-11T14:44:36.277638",
     "exception": false,
     "start_time": "2023-10-11T14:44:36.206209",
     "status": "completed"
    },
    "tags": []
   },
   "outputs": [
    {
     "data": {
      "text/plain": [
       "dtype('int64')"
      ]
     },
     "execution_count": 95,
     "metadata": {},
     "output_type": "execute_result"
    }
   ],
   "source": [
    "series1.dtype"
   ]
  },
  {
   "cell_type": "code",
   "execution_count": 96,
   "id": "5787f799",
   "metadata": {
    "execution": {
     "iopub.execute_input": "2023-10-11T14:44:36.410864Z",
     "iopub.status.busy": "2023-10-11T14:44:36.410500Z",
     "iopub.status.idle": "2023-10-11T14:44:36.416263Z",
     "shell.execute_reply": "2023-10-11T14:44:36.415388Z"
    },
    "papermill": {
     "duration": 0.075339,
     "end_time": "2023-10-11T14:44:36.418456",
     "exception": false,
     "start_time": "2023-10-11T14:44:36.343117",
     "status": "completed"
    },
    "tags": []
   },
   "outputs": [
    {
     "data": {
      "text/plain": [
       "5"
      ]
     },
     "execution_count": 96,
     "metadata": {},
     "output_type": "execute_result"
    }
   ],
   "source": [
    "series1.size"
   ]
  },
  {
   "cell_type": "code",
   "execution_count": 97,
   "id": "d780eb2a",
   "metadata": {
    "execution": {
     "iopub.execute_input": "2023-10-11T14:44:36.547058Z",
     "iopub.status.busy": "2023-10-11T14:44:36.546485Z",
     "iopub.status.idle": "2023-10-11T14:44:36.552056Z",
     "shell.execute_reply": "2023-10-11T14:44:36.551276Z"
    },
    "papermill": {
     "duration": 0.072751,
     "end_time": "2023-10-11T14:44:36.554392",
     "exception": false,
     "start_time": "2023-10-11T14:44:36.481641",
     "status": "completed"
    },
    "tags": []
   },
   "outputs": [
    {
     "data": {
      "text/plain": [
       "1"
      ]
     },
     "execution_count": 97,
     "metadata": {},
     "output_type": "execute_result"
    }
   ],
   "source": [
    "series1.ndim"
   ]
  },
  {
   "cell_type": "code",
   "execution_count": 98,
   "id": "84df52e0",
   "metadata": {
    "execution": {
     "iopub.execute_input": "2023-10-11T14:44:36.683958Z",
     "iopub.status.busy": "2023-10-11T14:44:36.683252Z",
     "iopub.status.idle": "2023-10-11T14:44:36.690589Z",
     "shell.execute_reply": "2023-10-11T14:44:36.689513Z"
    },
    "papermill": {
     "duration": 0.075182,
     "end_time": "2023-10-11T14:44:36.692797",
     "exception": false,
     "start_time": "2023-10-11T14:44:36.617615",
     "status": "completed"
    },
    "tags": []
   },
   "outputs": [
    {
     "data": {
      "text/plain": [
       "array([10, 20, 30, 40, 50])"
      ]
     },
     "execution_count": 98,
     "metadata": {},
     "output_type": "execute_result"
    }
   ],
   "source": [
    "series1.values"
   ]
  },
  {
   "cell_type": "code",
   "execution_count": 99,
   "id": "ba70b5e0",
   "metadata": {
    "execution": {
     "iopub.execute_input": "2023-10-11T14:44:36.827810Z",
     "iopub.status.busy": "2023-10-11T14:44:36.827175Z",
     "iopub.status.idle": "2023-10-11T14:44:36.834376Z",
     "shell.execute_reply": "2023-10-11T14:44:36.833186Z"
    },
    "papermill": {
     "duration": 0.078863,
     "end_time": "2023-10-11T14:44:36.837005",
     "exception": false,
     "start_time": "2023-10-11T14:44:36.758142",
     "status": "completed"
    },
    "tags": []
   },
   "outputs": [
    {
     "data": {
      "text/plain": [
       "numpy.ndarray"
      ]
     },
     "execution_count": 99,
     "metadata": {},
     "output_type": "execute_result"
    }
   ],
   "source": [
    "type(series1.values)"
   ]
  },
  {
   "cell_type": "code",
   "execution_count": 100,
   "id": "9a632faf",
   "metadata": {
    "execution": {
     "iopub.execute_input": "2023-10-11T14:44:36.969336Z",
     "iopub.status.busy": "2023-10-11T14:44:36.968892Z",
     "iopub.status.idle": "2023-10-11T14:44:36.975384Z",
     "shell.execute_reply": "2023-10-11T14:44:36.974458Z"
    },
    "papermill": {
     "duration": 0.073757,
     "end_time": "2023-10-11T14:44:36.977570",
     "exception": false,
     "start_time": "2023-10-11T14:44:36.903813",
     "status": "completed"
    },
    "tags": []
   },
   "outputs": [
    {
     "data": {
      "text/plain": [
       "0    10\n",
       "1    20\n",
       "dtype: int64"
      ]
     },
     "execution_count": 100,
     "metadata": {},
     "output_type": "execute_result"
    }
   ],
   "source": [
    "series1.head(2)"
   ]
  },
  {
   "cell_type": "code",
   "execution_count": 101,
   "id": "81a171d6",
   "metadata": {
    "execution": {
     "iopub.execute_input": "2023-10-11T14:44:37.110449Z",
     "iopub.status.busy": "2023-10-11T14:44:37.109776Z",
     "iopub.status.idle": "2023-10-11T14:44:37.117085Z",
     "shell.execute_reply": "2023-10-11T14:44:37.115745Z"
    },
    "papermill": {
     "duration": 0.075945,
     "end_time": "2023-10-11T14:44:37.119462",
     "exception": false,
     "start_time": "2023-10-11T14:44:37.043517",
     "status": "completed"
    },
    "tags": []
   },
   "outputs": [
    {
     "data": {
      "text/plain": [
       "3    40\n",
       "4    50\n",
       "dtype: int64"
      ]
     },
     "execution_count": 101,
     "metadata": {},
     "output_type": "execute_result"
    }
   ],
   "source": [
    "series1.tail(2)"
   ]
  },
  {
   "cell_type": "markdown",
   "id": "5d669e77",
   "metadata": {
    "papermill": {
     "duration": 0.062694,
     "end_time": "2023-10-11T14:44:37.250180",
     "exception": false,
     "start_time": "2023-10-11T14:44:37.187486",
     "status": "completed"
    },
    "tags": []
   },
   "source": [
    "<a id = \"17\"></a><br>\n",
    "<h1 style=\"background-color:#77BFC7;font-family:courier;font-size:250%;font-style: oblique;font-weight: bold;font-variant: small-caps;text-align:center;border-radius: 15px 50px;\"> Creating DataFrame </h1>\n",
    "\n",
    "The examples of creating a DataFrame in pandas:"
   ]
  },
  {
   "cell_type": "code",
   "execution_count": 102,
   "id": "077cc72b",
   "metadata": {
    "execution": {
     "iopub.execute_input": "2023-10-11T14:44:37.381872Z",
     "iopub.status.busy": "2023-10-11T14:44:37.381046Z",
     "iopub.status.idle": "2023-10-11T14:44:37.386527Z",
     "shell.execute_reply": "2023-10-11T14:44:37.385326Z"
    },
    "papermill": {
     "duration": 0.072614,
     "end_time": "2023-10-11T14:44:37.388834",
     "exception": false,
     "start_time": "2023-10-11T14:44:37.316220",
     "status": "completed"
    },
    "tags": []
   },
   "outputs": [],
   "source": [
    "# Create lists containing data:\n",
    "\n",
    "names = ['John', 'Jane', 'Mike']\n",
    "ages = [25, 30, 22]\n",
    "cities = ['New York', 'London', 'Paris']"
   ]
  },
  {
   "cell_type": "code",
   "execution_count": 103,
   "id": "c209ccf2",
   "metadata": {
    "execution": {
     "iopub.execute_input": "2023-10-11T14:44:37.525183Z",
     "iopub.status.busy": "2023-10-11T14:44:37.524125Z",
     "iopub.status.idle": "2023-10-11T14:44:37.538973Z",
     "shell.execute_reply": "2023-10-11T14:44:37.537879Z"
    },
    "papermill": {
     "duration": 0.082913,
     "end_time": "2023-10-11T14:44:37.541245",
     "exception": false,
     "start_time": "2023-10-11T14:44:37.458332",
     "status": "completed"
    },
    "tags": []
   },
   "outputs": [
    {
     "data": {
      "text/html": [
       "<div>\n",
       "<style scoped>\n",
       "    .dataframe tbody tr th:only-of-type {\n",
       "        vertical-align: middle;\n",
       "    }\n",
       "\n",
       "    .dataframe tbody tr th {\n",
       "        vertical-align: top;\n",
       "    }\n",
       "\n",
       "    .dataframe thead th {\n",
       "        text-align: right;\n",
       "    }\n",
       "</style>\n",
       "<table border=\"1\" class=\"dataframe\">\n",
       "  <thead>\n",
       "    <tr style=\"text-align: right;\">\n",
       "      <th></th>\n",
       "      <th>Name</th>\n",
       "      <th>Age</th>\n",
       "      <th>City</th>\n",
       "    </tr>\n",
       "  </thead>\n",
       "  <tbody>\n",
       "    <tr>\n",
       "      <th>0</th>\n",
       "      <td>John</td>\n",
       "      <td>25</td>\n",
       "      <td>New York</td>\n",
       "    </tr>\n",
       "    <tr>\n",
       "      <th>1</th>\n",
       "      <td>Jane</td>\n",
       "      <td>30</td>\n",
       "      <td>London</td>\n",
       "    </tr>\n",
       "    <tr>\n",
       "      <th>2</th>\n",
       "      <td>Mike</td>\n",
       "      <td>22</td>\n",
       "      <td>Paris</td>\n",
       "    </tr>\n",
       "  </tbody>\n",
       "</table>\n",
       "</div>"
      ],
      "text/plain": [
       "   Name  Age      City\n",
       "0  John   25  New York\n",
       "1  Jane   30    London\n",
       "2  Mike   22     Paris"
      ]
     },
     "execution_count": 103,
     "metadata": {},
     "output_type": "execute_result"
    }
   ],
   "source": [
    "# Create a DataFrame from lists:\n",
    "\n",
    "df = pd.DataFrame({'Name': names, 'Age': ages, 'City': cities})\n",
    "\n",
    "df"
   ]
  },
  {
   "cell_type": "code",
   "execution_count": 104,
   "id": "e6aab8e5",
   "metadata": {
    "execution": {
     "iopub.execute_input": "2023-10-11T14:44:37.673296Z",
     "iopub.status.busy": "2023-10-11T14:44:37.672600Z",
     "iopub.status.idle": "2023-10-11T14:44:37.677085Z",
     "shell.execute_reply": "2023-10-11T14:44:37.676208Z"
    },
    "papermill": {
     "duration": 0.071718,
     "end_time": "2023-10-11T14:44:37.679401",
     "exception": false,
     "start_time": "2023-10-11T14:44:37.607683",
     "status": "completed"
    },
    "tags": []
   },
   "outputs": [],
   "source": [
    "# Create a dictionary containing data:\n",
    "\n",
    "data = {\n",
    "    'Name': ['John', 'Jane', 'Mike'],\n",
    "    'Age': [25, 30, 22],\n",
    "    'City': ['New York', 'London', 'Paris']\n",
    "}"
   ]
  },
  {
   "cell_type": "code",
   "execution_count": 105,
   "id": "d2e04d71",
   "metadata": {
    "execution": {
     "iopub.execute_input": "2023-10-11T14:44:37.881019Z",
     "iopub.status.busy": "2023-10-11T14:44:37.880275Z",
     "iopub.status.idle": "2023-10-11T14:44:37.891067Z",
     "shell.execute_reply": "2023-10-11T14:44:37.889999Z"
    },
    "papermill": {
     "duration": 0.078354,
     "end_time": "2023-10-11T14:44:37.893151",
     "exception": false,
     "start_time": "2023-10-11T14:44:37.814797",
     "status": "completed"
    },
    "tags": []
   },
   "outputs": [
    {
     "data": {
      "text/html": [
       "<div>\n",
       "<style scoped>\n",
       "    .dataframe tbody tr th:only-of-type {\n",
       "        vertical-align: middle;\n",
       "    }\n",
       "\n",
       "    .dataframe tbody tr th {\n",
       "        vertical-align: top;\n",
       "    }\n",
       "\n",
       "    .dataframe thead th {\n",
       "        text-align: right;\n",
       "    }\n",
       "</style>\n",
       "<table border=\"1\" class=\"dataframe\">\n",
       "  <thead>\n",
       "    <tr style=\"text-align: right;\">\n",
       "      <th></th>\n",
       "      <th>Name</th>\n",
       "      <th>Age</th>\n",
       "      <th>City</th>\n",
       "    </tr>\n",
       "  </thead>\n",
       "  <tbody>\n",
       "    <tr>\n",
       "      <th>0</th>\n",
       "      <td>John</td>\n",
       "      <td>25</td>\n",
       "      <td>New York</td>\n",
       "    </tr>\n",
       "    <tr>\n",
       "      <th>1</th>\n",
       "      <td>Jane</td>\n",
       "      <td>30</td>\n",
       "      <td>London</td>\n",
       "    </tr>\n",
       "    <tr>\n",
       "      <th>2</th>\n",
       "      <td>Mike</td>\n",
       "      <td>22</td>\n",
       "      <td>Paris</td>\n",
       "    </tr>\n",
       "  </tbody>\n",
       "</table>\n",
       "</div>"
      ],
      "text/plain": [
       "   Name  Age      City\n",
       "0  John   25  New York\n",
       "1  Jane   30    London\n",
       "2  Mike   22     Paris"
      ]
     },
     "execution_count": 105,
     "metadata": {},
     "output_type": "execute_result"
    }
   ],
   "source": [
    "# Create a DataFrame from dictionary:\n",
    "\n",
    "df = pd.DataFrame(data)\n",
    "\n",
    "df"
   ]
  },
  {
   "cell_type": "code",
   "execution_count": 106,
   "id": "f27ee947",
   "metadata": {
    "execution": {
     "iopub.execute_input": "2023-10-11T14:44:38.023473Z",
     "iopub.status.busy": "2023-10-11T14:44:38.023047Z",
     "iopub.status.idle": "2023-10-11T14:44:38.027051Z",
     "shell.execute_reply": "2023-10-11T14:44:38.026349Z"
    },
    "papermill": {
     "duration": 0.071278,
     "end_time": "2023-10-11T14:44:38.029109",
     "exception": false,
     "start_time": "2023-10-11T14:44:37.957831",
     "status": "completed"
    },
    "tags": []
   },
   "outputs": [],
   "source": [
    "# Create a dictionary containing data:\n",
    "\n",
    "data = {\n",
    "    'Name': ['John', 'Jane', 'Mike'],\n",
    "    'Age': [25, 30, 22],\n",
    "    'City': ['New York', 'London', 'Paris']\n",
    "}"
   ]
  },
  {
   "cell_type": "code",
   "execution_count": 107,
   "id": "fba13935",
   "metadata": {
    "execution": {
     "iopub.execute_input": "2023-10-11T14:44:38.164367Z",
     "iopub.status.busy": "2023-10-11T14:44:38.163468Z",
     "iopub.status.idle": "2023-10-11T14:44:38.173684Z",
     "shell.execute_reply": "2023-10-11T14:44:38.172882Z"
    },
    "papermill": {
     "duration": 0.081045,
     "end_time": "2023-10-11T14:44:38.175544",
     "exception": false,
     "start_time": "2023-10-11T14:44:38.094499",
     "status": "completed"
    },
    "tags": []
   },
   "outputs": [
    {
     "data": {
      "text/html": [
       "<div>\n",
       "<style scoped>\n",
       "    .dataframe tbody tr th:only-of-type {\n",
       "        vertical-align: middle;\n",
       "    }\n",
       "\n",
       "    .dataframe tbody tr th {\n",
       "        vertical-align: top;\n",
       "    }\n",
       "\n",
       "    .dataframe thead th {\n",
       "        text-align: right;\n",
       "    }\n",
       "</style>\n",
       "<table border=\"1\" class=\"dataframe\">\n",
       "  <thead>\n",
       "    <tr style=\"text-align: right;\">\n",
       "      <th></th>\n",
       "      <th>Name</th>\n",
       "      <th>Age</th>\n",
       "      <th>City</th>\n",
       "    </tr>\n",
       "  </thead>\n",
       "  <tbody>\n",
       "    <tr>\n",
       "      <th>person1</th>\n",
       "      <td>John</td>\n",
       "      <td>25</td>\n",
       "      <td>New York</td>\n",
       "    </tr>\n",
       "    <tr>\n",
       "      <th>person2</th>\n",
       "      <td>Jane</td>\n",
       "      <td>30</td>\n",
       "      <td>London</td>\n",
       "    </tr>\n",
       "    <tr>\n",
       "      <th>person3</th>\n",
       "      <td>Mike</td>\n",
       "      <td>22</td>\n",
       "      <td>Paris</td>\n",
       "    </tr>\n",
       "  </tbody>\n",
       "</table>\n",
       "</div>"
      ],
      "text/plain": [
       "         Name  Age      City\n",
       "person1  John   25  New York\n",
       "person2  Jane   30    London\n",
       "person3  Mike   22     Paris"
      ]
     },
     "execution_count": 107,
     "metadata": {},
     "output_type": "execute_result"
    }
   ],
   "source": [
    "# Create a DataFrame from dictionary and set index:\n",
    "\n",
    "df = pd.DataFrame(data, index=['person1', 'person2', 'person3'])\n",
    "\n",
    "df"
   ]
  },
  {
   "cell_type": "code",
   "execution_count": 108,
   "id": "f5d01391",
   "metadata": {
    "execution": {
     "iopub.execute_input": "2023-10-11T14:44:38.308279Z",
     "iopub.status.busy": "2023-10-11T14:44:38.307517Z",
     "iopub.status.idle": "2023-10-11T14:44:38.335443Z",
     "shell.execute_reply": "2023-10-11T14:44:38.334198Z"
    },
    "papermill": {
     "duration": 0.095686,
     "end_time": "2023-10-11T14:44:38.337780",
     "exception": false,
     "start_time": "2023-10-11T14:44:38.242094",
     "status": "completed"
    },
    "tags": []
   },
   "outputs": [
    {
     "data": {
      "text/html": [
       "<div>\n",
       "<style scoped>\n",
       "    .dataframe tbody tr th:only-of-type {\n",
       "        vertical-align: middle;\n",
       "    }\n",
       "\n",
       "    .dataframe tbody tr th {\n",
       "        vertical-align: top;\n",
       "    }\n",
       "\n",
       "    .dataframe thead th {\n",
       "        text-align: right;\n",
       "    }\n",
       "</style>\n",
       "<table border=\"1\" class=\"dataframe\">\n",
       "  <thead>\n",
       "    <tr style=\"text-align: right;\">\n",
       "      <th></th>\n",
       "      <th>PassengerId</th>\n",
       "      <th>Survived</th>\n",
       "      <th>Pclass</th>\n",
       "      <th>Name</th>\n",
       "      <th>Sex</th>\n",
       "      <th>Age</th>\n",
       "      <th>SibSp</th>\n",
       "      <th>Parch</th>\n",
       "      <th>Ticket</th>\n",
       "      <th>Fare</th>\n",
       "      <th>Cabin</th>\n",
       "      <th>Embarked</th>\n",
       "    </tr>\n",
       "  </thead>\n",
       "  <tbody>\n",
       "    <tr>\n",
       "      <th>0</th>\n",
       "      <td>1</td>\n",
       "      <td>0</td>\n",
       "      <td>3</td>\n",
       "      <td>Braund, Mr. Owen Harris</td>\n",
       "      <td>male</td>\n",
       "      <td>22.0</td>\n",
       "      <td>1</td>\n",
       "      <td>0</td>\n",
       "      <td>A/5 21171</td>\n",
       "      <td>7.2500</td>\n",
       "      <td>NaN</td>\n",
       "      <td>S</td>\n",
       "    </tr>\n",
       "    <tr>\n",
       "      <th>1</th>\n",
       "      <td>2</td>\n",
       "      <td>1</td>\n",
       "      <td>1</td>\n",
       "      <td>Cumings, Mrs. John Bradley (Florence Briggs Th...</td>\n",
       "      <td>female</td>\n",
       "      <td>38.0</td>\n",
       "      <td>1</td>\n",
       "      <td>0</td>\n",
       "      <td>PC 17599</td>\n",
       "      <td>71.2833</td>\n",
       "      <td>C85</td>\n",
       "      <td>C</td>\n",
       "    </tr>\n",
       "    <tr>\n",
       "      <th>2</th>\n",
       "      <td>3</td>\n",
       "      <td>1</td>\n",
       "      <td>3</td>\n",
       "      <td>Heikkinen, Miss. Laina</td>\n",
       "      <td>female</td>\n",
       "      <td>26.0</td>\n",
       "      <td>0</td>\n",
       "      <td>0</td>\n",
       "      <td>STON/O2. 3101282</td>\n",
       "      <td>7.9250</td>\n",
       "      <td>NaN</td>\n",
       "      <td>S</td>\n",
       "    </tr>\n",
       "    <tr>\n",
       "      <th>3</th>\n",
       "      <td>4</td>\n",
       "      <td>1</td>\n",
       "      <td>1</td>\n",
       "      <td>Futrelle, Mrs. Jacques Heath (Lily May Peel)</td>\n",
       "      <td>female</td>\n",
       "      <td>35.0</td>\n",
       "      <td>1</td>\n",
       "      <td>0</td>\n",
       "      <td>113803</td>\n",
       "      <td>53.1000</td>\n",
       "      <td>C123</td>\n",
       "      <td>S</td>\n",
       "    </tr>\n",
       "    <tr>\n",
       "      <th>4</th>\n",
       "      <td>5</td>\n",
       "      <td>0</td>\n",
       "      <td>3</td>\n",
       "      <td>Allen, Mr. William Henry</td>\n",
       "      <td>male</td>\n",
       "      <td>35.0</td>\n",
       "      <td>0</td>\n",
       "      <td>0</td>\n",
       "      <td>373450</td>\n",
       "      <td>8.0500</td>\n",
       "      <td>NaN</td>\n",
       "      <td>S</td>\n",
       "    </tr>\n",
       "  </tbody>\n",
       "</table>\n",
       "</div>"
      ],
      "text/plain": [
       "   PassengerId  Survived  Pclass  \\\n",
       "0            1         0       3   \n",
       "1            2         1       1   \n",
       "2            3         1       3   \n",
       "3            4         1       1   \n",
       "4            5         0       3   \n",
       "\n",
       "                                                Name     Sex   Age  SibSp  \\\n",
       "0                            Braund, Mr. Owen Harris    male  22.0      1   \n",
       "1  Cumings, Mrs. John Bradley (Florence Briggs Th...  female  38.0      1   \n",
       "2                             Heikkinen, Miss. Laina  female  26.0      0   \n",
       "3       Futrelle, Mrs. Jacques Heath (Lily May Peel)  female  35.0      1   \n",
       "4                           Allen, Mr. William Henry    male  35.0      0   \n",
       "\n",
       "   Parch            Ticket     Fare Cabin Embarked  \n",
       "0      0         A/5 21171   7.2500   NaN        S  \n",
       "1      0          PC 17599  71.2833   C85        C  \n",
       "2      0  STON/O2. 3101282   7.9250   NaN        S  \n",
       "3      0            113803  53.1000  C123        S  \n",
       "4      0            373450   8.0500   NaN        S  "
      ]
     },
     "execution_count": 108,
     "metadata": {},
     "output_type": "execute_result"
    }
   ],
   "source": [
    "# Create a DataFrame by reading from a CSV file:\n",
    "\n",
    "df = pd.read_csv('/kaggle/input/titanic/train.csv')\n",
    "\n",
    "df.head()"
   ]
  },
  {
   "cell_type": "code",
   "execution_count": 109,
   "id": "13e0f36e",
   "metadata": {
    "execution": {
     "iopub.execute_input": "2023-10-11T14:44:38.467793Z",
     "iopub.status.busy": "2023-10-11T14:44:38.467434Z",
     "iopub.status.idle": "2023-10-11T14:44:38.472303Z",
     "shell.execute_reply": "2023-10-11T14:44:38.470712Z"
    },
    "papermill": {
     "duration": 0.072575,
     "end_time": "2023-10-11T14:44:38.474967",
     "exception": false,
     "start_time": "2023-10-11T14:44:38.402392",
     "status": "completed"
    },
    "tags": []
   },
   "outputs": [],
   "source": [
    "# Excel dosyasından DataFrame oluşturma:\n",
    "\n",
    "# df = pd.read_excel('veri.xlsx')"
   ]
  },
  {
   "cell_type": "markdown",
   "id": "3987d07f",
   "metadata": {
    "papermill": {
     "duration": 0.063329,
     "end_time": "2023-10-11T14:44:38.603435",
     "exception": false,
     "start_time": "2023-10-11T14:44:38.540106",
     "status": "completed"
    },
    "tags": []
   },
   "source": [
    "<a id = \"18\"></a><br>\n",
    "<h1 style=\"background-color:#77BFC7;font-family:courier;font-size:250%;font-style: oblique;font-weight: bold;font-variant: small-caps;text-align:center;border-radius: 15px 50px;\"> DataFrame Operations </h1>"
   ]
  },
  {
   "cell_type": "code",
   "execution_count": 110,
   "id": "67049d60",
   "metadata": {
    "execution": {
     "iopub.execute_input": "2023-10-11T14:44:38.733392Z",
     "iopub.status.busy": "2023-10-11T14:44:38.732962Z",
     "iopub.status.idle": "2023-10-11T14:44:40.382302Z",
     "shell.execute_reply": "2023-10-11T14:44:40.381302Z"
    },
    "papermill": {
     "duration": 1.717669,
     "end_time": "2023-10-11T14:44:40.384868",
     "exception": false,
     "start_time": "2023-10-11T14:44:38.667199",
     "status": "completed"
    },
    "tags": []
   },
   "outputs": [
    {
     "name": "stderr",
     "output_type": "stream",
     "text": [
      "/opt/conda/lib/python3.10/site-packages/scipy/__init__.py:146: UserWarning: A NumPy version >=1.16.5 and <1.23.0 is required for this version of SciPy (detected version 1.23.5\n",
      "  warnings.warn(f\"A NumPy version >={np_minversion} and <{np_maxversion}\"\n"
     ]
    }
   ],
   "source": [
    "import pandas as pd\n",
    "import seaborn as sns\n",
    "\n",
    "df = pd.read_csv('/kaggle/input/titanic/train.csv')"
   ]
  },
  {
   "cell_type": "markdown",
   "id": "9e4df34f",
   "metadata": {
    "papermill": {
     "duration": 0.065339,
     "end_time": "2023-10-11T14:44:40.514346",
     "exception": false,
     "start_time": "2023-10-11T14:44:40.449007",
     "status": "completed"
    },
    "tags": []
   },
   "source": [
    "* **Quick Look at Data:**"
   ]
  },
  {
   "cell_type": "code",
   "execution_count": 111,
   "id": "9d984181",
   "metadata": {
    "execution": {
     "iopub.execute_input": "2023-10-11T14:44:40.647864Z",
     "iopub.status.busy": "2023-10-11T14:44:40.647499Z",
     "iopub.status.idle": "2023-10-11T14:44:40.664986Z",
     "shell.execute_reply": "2023-10-11T14:44:40.663833Z"
    },
    "papermill": {
     "duration": 0.086669,
     "end_time": "2023-10-11T14:44:40.667500",
     "exception": false,
     "start_time": "2023-10-11T14:44:40.580831",
     "status": "completed"
    },
    "tags": []
   },
   "outputs": [
    {
     "data": {
      "text/html": [
       "<div>\n",
       "<style scoped>\n",
       "    .dataframe tbody tr th:only-of-type {\n",
       "        vertical-align: middle;\n",
       "    }\n",
       "\n",
       "    .dataframe tbody tr th {\n",
       "        vertical-align: top;\n",
       "    }\n",
       "\n",
       "    .dataframe thead th {\n",
       "        text-align: right;\n",
       "    }\n",
       "</style>\n",
       "<table border=\"1\" class=\"dataframe\">\n",
       "  <thead>\n",
       "    <tr style=\"text-align: right;\">\n",
       "      <th></th>\n",
       "      <th>PassengerId</th>\n",
       "      <th>Survived</th>\n",
       "      <th>Pclass</th>\n",
       "      <th>Name</th>\n",
       "      <th>Sex</th>\n",
       "      <th>Age</th>\n",
       "      <th>SibSp</th>\n",
       "      <th>Parch</th>\n",
       "      <th>Ticket</th>\n",
       "      <th>Fare</th>\n",
       "      <th>Cabin</th>\n",
       "      <th>Embarked</th>\n",
       "    </tr>\n",
       "  </thead>\n",
       "  <tbody>\n",
       "    <tr>\n",
       "      <th>0</th>\n",
       "      <td>1</td>\n",
       "      <td>0</td>\n",
       "      <td>3</td>\n",
       "      <td>Braund, Mr. Owen Harris</td>\n",
       "      <td>male</td>\n",
       "      <td>22.0</td>\n",
       "      <td>1</td>\n",
       "      <td>0</td>\n",
       "      <td>A/5 21171</td>\n",
       "      <td>7.2500</td>\n",
       "      <td>NaN</td>\n",
       "      <td>S</td>\n",
       "    </tr>\n",
       "    <tr>\n",
       "      <th>1</th>\n",
       "      <td>2</td>\n",
       "      <td>1</td>\n",
       "      <td>1</td>\n",
       "      <td>Cumings, Mrs. John Bradley (Florence Briggs Th...</td>\n",
       "      <td>female</td>\n",
       "      <td>38.0</td>\n",
       "      <td>1</td>\n",
       "      <td>0</td>\n",
       "      <td>PC 17599</td>\n",
       "      <td>71.2833</td>\n",
       "      <td>C85</td>\n",
       "      <td>C</td>\n",
       "    </tr>\n",
       "    <tr>\n",
       "      <th>2</th>\n",
       "      <td>3</td>\n",
       "      <td>1</td>\n",
       "      <td>3</td>\n",
       "      <td>Heikkinen, Miss. Laina</td>\n",
       "      <td>female</td>\n",
       "      <td>26.0</td>\n",
       "      <td>0</td>\n",
       "      <td>0</td>\n",
       "      <td>STON/O2. 3101282</td>\n",
       "      <td>7.9250</td>\n",
       "      <td>NaN</td>\n",
       "      <td>S</td>\n",
       "    </tr>\n",
       "    <tr>\n",
       "      <th>3</th>\n",
       "      <td>4</td>\n",
       "      <td>1</td>\n",
       "      <td>1</td>\n",
       "      <td>Futrelle, Mrs. Jacques Heath (Lily May Peel)</td>\n",
       "      <td>female</td>\n",
       "      <td>35.0</td>\n",
       "      <td>1</td>\n",
       "      <td>0</td>\n",
       "      <td>113803</td>\n",
       "      <td>53.1000</td>\n",
       "      <td>C123</td>\n",
       "      <td>S</td>\n",
       "    </tr>\n",
       "    <tr>\n",
       "      <th>4</th>\n",
       "      <td>5</td>\n",
       "      <td>0</td>\n",
       "      <td>3</td>\n",
       "      <td>Allen, Mr. William Henry</td>\n",
       "      <td>male</td>\n",
       "      <td>35.0</td>\n",
       "      <td>0</td>\n",
       "      <td>0</td>\n",
       "      <td>373450</td>\n",
       "      <td>8.0500</td>\n",
       "      <td>NaN</td>\n",
       "      <td>S</td>\n",
       "    </tr>\n",
       "  </tbody>\n",
       "</table>\n",
       "</div>"
      ],
      "text/plain": [
       "   PassengerId  Survived  Pclass  \\\n",
       "0            1         0       3   \n",
       "1            2         1       1   \n",
       "2            3         1       3   \n",
       "3            4         1       1   \n",
       "4            5         0       3   \n",
       "\n",
       "                                                Name     Sex   Age  SibSp  \\\n",
       "0                            Braund, Mr. Owen Harris    male  22.0      1   \n",
       "1  Cumings, Mrs. John Bradley (Florence Briggs Th...  female  38.0      1   \n",
       "2                             Heikkinen, Miss. Laina  female  26.0      0   \n",
       "3       Futrelle, Mrs. Jacques Heath (Lily May Peel)  female  35.0      1   \n",
       "4                           Allen, Mr. William Henry    male  35.0      0   \n",
       "\n",
       "   Parch            Ticket     Fare Cabin Embarked  \n",
       "0      0         A/5 21171   7.2500   NaN        S  \n",
       "1      0          PC 17599  71.2833   C85        C  \n",
       "2      0  STON/O2. 3101282   7.9250   NaN        S  \n",
       "3      0            113803  53.1000  C123        S  \n",
       "4      0            373450   8.0500   NaN        S  "
      ]
     },
     "execution_count": 111,
     "metadata": {},
     "output_type": "execute_result"
    }
   ],
   "source": [
    "df.head()"
   ]
  },
  {
   "cell_type": "code",
   "execution_count": 112,
   "id": "406010bb",
   "metadata": {
    "execution": {
     "iopub.execute_input": "2023-10-11T14:44:40.801405Z",
     "iopub.status.busy": "2023-10-11T14:44:40.801003Z",
     "iopub.status.idle": "2023-10-11T14:44:40.817656Z",
     "shell.execute_reply": "2023-10-11T14:44:40.816214Z"
    },
    "papermill": {
     "duration": 0.088693,
     "end_time": "2023-10-11T14:44:40.819971",
     "exception": false,
     "start_time": "2023-10-11T14:44:40.731278",
     "status": "completed"
    },
    "tags": []
   },
   "outputs": [
    {
     "data": {
      "text/html": [
       "<div>\n",
       "<style scoped>\n",
       "    .dataframe tbody tr th:only-of-type {\n",
       "        vertical-align: middle;\n",
       "    }\n",
       "\n",
       "    .dataframe tbody tr th {\n",
       "        vertical-align: top;\n",
       "    }\n",
       "\n",
       "    .dataframe thead th {\n",
       "        text-align: right;\n",
       "    }\n",
       "</style>\n",
       "<table border=\"1\" class=\"dataframe\">\n",
       "  <thead>\n",
       "    <tr style=\"text-align: right;\">\n",
       "      <th></th>\n",
       "      <th>PassengerId</th>\n",
       "      <th>Survived</th>\n",
       "      <th>Pclass</th>\n",
       "      <th>Name</th>\n",
       "      <th>Sex</th>\n",
       "      <th>Age</th>\n",
       "      <th>SibSp</th>\n",
       "      <th>Parch</th>\n",
       "      <th>Ticket</th>\n",
       "      <th>Fare</th>\n",
       "      <th>Cabin</th>\n",
       "      <th>Embarked</th>\n",
       "    </tr>\n",
       "  </thead>\n",
       "  <tbody>\n",
       "    <tr>\n",
       "      <th>886</th>\n",
       "      <td>887</td>\n",
       "      <td>0</td>\n",
       "      <td>2</td>\n",
       "      <td>Montvila, Rev. Juozas</td>\n",
       "      <td>male</td>\n",
       "      <td>27.0</td>\n",
       "      <td>0</td>\n",
       "      <td>0</td>\n",
       "      <td>211536</td>\n",
       "      <td>13.00</td>\n",
       "      <td>NaN</td>\n",
       "      <td>S</td>\n",
       "    </tr>\n",
       "    <tr>\n",
       "      <th>887</th>\n",
       "      <td>888</td>\n",
       "      <td>1</td>\n",
       "      <td>1</td>\n",
       "      <td>Graham, Miss. Margaret Edith</td>\n",
       "      <td>female</td>\n",
       "      <td>19.0</td>\n",
       "      <td>0</td>\n",
       "      <td>0</td>\n",
       "      <td>112053</td>\n",
       "      <td>30.00</td>\n",
       "      <td>B42</td>\n",
       "      <td>S</td>\n",
       "    </tr>\n",
       "    <tr>\n",
       "      <th>888</th>\n",
       "      <td>889</td>\n",
       "      <td>0</td>\n",
       "      <td>3</td>\n",
       "      <td>Johnston, Miss. Catherine Helen \"Carrie\"</td>\n",
       "      <td>female</td>\n",
       "      <td>NaN</td>\n",
       "      <td>1</td>\n",
       "      <td>2</td>\n",
       "      <td>W./C. 6607</td>\n",
       "      <td>23.45</td>\n",
       "      <td>NaN</td>\n",
       "      <td>S</td>\n",
       "    </tr>\n",
       "    <tr>\n",
       "      <th>889</th>\n",
       "      <td>890</td>\n",
       "      <td>1</td>\n",
       "      <td>1</td>\n",
       "      <td>Behr, Mr. Karl Howell</td>\n",
       "      <td>male</td>\n",
       "      <td>26.0</td>\n",
       "      <td>0</td>\n",
       "      <td>0</td>\n",
       "      <td>111369</td>\n",
       "      <td>30.00</td>\n",
       "      <td>C148</td>\n",
       "      <td>C</td>\n",
       "    </tr>\n",
       "    <tr>\n",
       "      <th>890</th>\n",
       "      <td>891</td>\n",
       "      <td>0</td>\n",
       "      <td>3</td>\n",
       "      <td>Dooley, Mr. Patrick</td>\n",
       "      <td>male</td>\n",
       "      <td>32.0</td>\n",
       "      <td>0</td>\n",
       "      <td>0</td>\n",
       "      <td>370376</td>\n",
       "      <td>7.75</td>\n",
       "      <td>NaN</td>\n",
       "      <td>Q</td>\n",
       "    </tr>\n",
       "  </tbody>\n",
       "</table>\n",
       "</div>"
      ],
      "text/plain": [
       "     PassengerId  Survived  Pclass                                      Name  \\\n",
       "886          887         0       2                     Montvila, Rev. Juozas   \n",
       "887          888         1       1              Graham, Miss. Margaret Edith   \n",
       "888          889         0       3  Johnston, Miss. Catherine Helen \"Carrie\"   \n",
       "889          890         1       1                     Behr, Mr. Karl Howell   \n",
       "890          891         0       3                       Dooley, Mr. Patrick   \n",
       "\n",
       "        Sex   Age  SibSp  Parch      Ticket   Fare Cabin Embarked  \n",
       "886    male  27.0      0      0      211536  13.00   NaN        S  \n",
       "887  female  19.0      0      0      112053  30.00   B42        S  \n",
       "888  female   NaN      1      2  W./C. 6607  23.45   NaN        S  \n",
       "889    male  26.0      0      0      111369  30.00  C148        C  \n",
       "890    male  32.0      0      0      370376   7.75   NaN        Q  "
      ]
     },
     "execution_count": 112,
     "metadata": {},
     "output_type": "execute_result"
    }
   ],
   "source": [
    "df.tail()"
   ]
  },
  {
   "cell_type": "code",
   "execution_count": 113,
   "id": "829914f6",
   "metadata": {
    "execution": {
     "iopub.execute_input": "2023-10-11T14:44:40.952774Z",
     "iopub.status.busy": "2023-10-11T14:44:40.952416Z",
     "iopub.status.idle": "2023-10-11T14:44:40.959696Z",
     "shell.execute_reply": "2023-10-11T14:44:40.958652Z"
    },
    "papermill": {
     "duration": 0.076655,
     "end_time": "2023-10-11T14:44:40.962088",
     "exception": false,
     "start_time": "2023-10-11T14:44:40.885433",
     "status": "completed"
    },
    "tags": []
   },
   "outputs": [
    {
     "data": {
      "text/plain": [
       "(891, 12)"
      ]
     },
     "execution_count": 113,
     "metadata": {},
     "output_type": "execute_result"
    }
   ],
   "source": [
    "df.shape"
   ]
  },
  {
   "cell_type": "code",
   "execution_count": 114,
   "id": "438a189a",
   "metadata": {
    "execution": {
     "iopub.execute_input": "2023-10-11T14:44:41.094794Z",
     "iopub.status.busy": "2023-10-11T14:44:41.094426Z",
     "iopub.status.idle": "2023-10-11T14:44:41.125365Z",
     "shell.execute_reply": "2023-10-11T14:44:41.123328Z"
    },
    "papermill": {
     "duration": 0.099982,
     "end_time": "2023-10-11T14:44:41.127782",
     "exception": false,
     "start_time": "2023-10-11T14:44:41.027800",
     "status": "completed"
    },
    "tags": []
   },
   "outputs": [
    {
     "name": "stdout",
     "output_type": "stream",
     "text": [
      "<class 'pandas.core.frame.DataFrame'>\n",
      "RangeIndex: 891 entries, 0 to 890\n",
      "Data columns (total 12 columns):\n",
      " #   Column       Non-Null Count  Dtype  \n",
      "---  ------       --------------  -----  \n",
      " 0   PassengerId  891 non-null    int64  \n",
      " 1   Survived     891 non-null    int64  \n",
      " 2   Pclass       891 non-null    int64  \n",
      " 3   Name         891 non-null    object \n",
      " 4   Sex          891 non-null    object \n",
      " 5   Age          714 non-null    float64\n",
      " 6   SibSp        891 non-null    int64  \n",
      " 7   Parch        891 non-null    int64  \n",
      " 8   Ticket       891 non-null    object \n",
      " 9   Fare         891 non-null    float64\n",
      " 10  Cabin        204 non-null    object \n",
      " 11  Embarked     889 non-null    object \n",
      "dtypes: float64(2), int64(5), object(5)\n",
      "memory usage: 83.7+ KB\n"
     ]
    }
   ],
   "source": [
    "df.info()"
   ]
  },
  {
   "cell_type": "code",
   "execution_count": 115,
   "id": "b8b236b4",
   "metadata": {
    "execution": {
     "iopub.execute_input": "2023-10-11T14:44:41.260972Z",
     "iopub.status.busy": "2023-10-11T14:44:41.260610Z",
     "iopub.status.idle": "2023-10-11T14:44:41.268911Z",
     "shell.execute_reply": "2023-10-11T14:44:41.267532Z"
    },
    "papermill": {
     "duration": 0.077014,
     "end_time": "2023-10-11T14:44:41.271069",
     "exception": false,
     "start_time": "2023-10-11T14:44:41.194055",
     "status": "completed"
    },
    "tags": []
   },
   "outputs": [
    {
     "data": {
      "text/plain": [
       "Index(['PassengerId', 'Survived', 'Pclass', 'Name', 'Sex', 'Age', 'SibSp',\n",
       "       'Parch', 'Ticket', 'Fare', 'Cabin', 'Embarked'],\n",
       "      dtype='object')"
      ]
     },
     "execution_count": 115,
     "metadata": {},
     "output_type": "execute_result"
    }
   ],
   "source": [
    "df.columns"
   ]
  },
  {
   "cell_type": "code",
   "execution_count": 116,
   "id": "6f06771f",
   "metadata": {
    "execution": {
     "iopub.execute_input": "2023-10-11T14:44:41.402107Z",
     "iopub.status.busy": "2023-10-11T14:44:41.401730Z",
     "iopub.status.idle": "2023-10-11T14:44:41.408680Z",
     "shell.execute_reply": "2023-10-11T14:44:41.407535Z"
    },
    "papermill": {
     "duration": 0.074981,
     "end_time": "2023-10-11T14:44:41.410741",
     "exception": false,
     "start_time": "2023-10-11T14:44:41.335760",
     "status": "completed"
    },
    "tags": []
   },
   "outputs": [
    {
     "data": {
      "text/plain": [
       "RangeIndex(start=0, stop=891, step=1)"
      ]
     },
     "execution_count": 116,
     "metadata": {},
     "output_type": "execute_result"
    }
   ],
   "source": [
    "df.index"
   ]
  },
  {
   "cell_type": "code",
   "execution_count": 117,
   "id": "c372c018",
   "metadata": {
    "execution": {
     "iopub.execute_input": "2023-10-11T14:44:41.545799Z",
     "iopub.status.busy": "2023-10-11T14:44:41.545418Z",
     "iopub.status.idle": "2023-10-11T14:44:41.578408Z",
     "shell.execute_reply": "2023-10-11T14:44:41.577308Z"
    },
    "papermill": {
     "duration": 0.102963,
     "end_time": "2023-10-11T14:44:41.580324",
     "exception": false,
     "start_time": "2023-10-11T14:44:41.477361",
     "status": "completed"
    },
    "tags": []
   },
   "outputs": [
    {
     "data": {
      "text/html": [
       "<div>\n",
       "<style scoped>\n",
       "    .dataframe tbody tr th:only-of-type {\n",
       "        vertical-align: middle;\n",
       "    }\n",
       "\n",
       "    .dataframe tbody tr th {\n",
       "        vertical-align: top;\n",
       "    }\n",
       "\n",
       "    .dataframe thead th {\n",
       "        text-align: right;\n",
       "    }\n",
       "</style>\n",
       "<table border=\"1\" class=\"dataframe\">\n",
       "  <thead>\n",
       "    <tr style=\"text-align: right;\">\n",
       "      <th></th>\n",
       "      <th>count</th>\n",
       "      <th>mean</th>\n",
       "      <th>std</th>\n",
       "      <th>min</th>\n",
       "      <th>25%</th>\n",
       "      <th>50%</th>\n",
       "      <th>75%</th>\n",
       "      <th>max</th>\n",
       "    </tr>\n",
       "  </thead>\n",
       "  <tbody>\n",
       "    <tr>\n",
       "      <th>PassengerId</th>\n",
       "      <td>891.0</td>\n",
       "      <td>446.000000</td>\n",
       "      <td>257.353842</td>\n",
       "      <td>1.00</td>\n",
       "      <td>223.5000</td>\n",
       "      <td>446.0000</td>\n",
       "      <td>668.5</td>\n",
       "      <td>891.0000</td>\n",
       "    </tr>\n",
       "    <tr>\n",
       "      <th>Survived</th>\n",
       "      <td>891.0</td>\n",
       "      <td>0.383838</td>\n",
       "      <td>0.486592</td>\n",
       "      <td>0.00</td>\n",
       "      <td>0.0000</td>\n",
       "      <td>0.0000</td>\n",
       "      <td>1.0</td>\n",
       "      <td>1.0000</td>\n",
       "    </tr>\n",
       "    <tr>\n",
       "      <th>Pclass</th>\n",
       "      <td>891.0</td>\n",
       "      <td>2.308642</td>\n",
       "      <td>0.836071</td>\n",
       "      <td>1.00</td>\n",
       "      <td>2.0000</td>\n",
       "      <td>3.0000</td>\n",
       "      <td>3.0</td>\n",
       "      <td>3.0000</td>\n",
       "    </tr>\n",
       "    <tr>\n",
       "      <th>Age</th>\n",
       "      <td>714.0</td>\n",
       "      <td>29.699118</td>\n",
       "      <td>14.526497</td>\n",
       "      <td>0.42</td>\n",
       "      <td>20.1250</td>\n",
       "      <td>28.0000</td>\n",
       "      <td>38.0</td>\n",
       "      <td>80.0000</td>\n",
       "    </tr>\n",
       "    <tr>\n",
       "      <th>SibSp</th>\n",
       "      <td>891.0</td>\n",
       "      <td>0.523008</td>\n",
       "      <td>1.102743</td>\n",
       "      <td>0.00</td>\n",
       "      <td>0.0000</td>\n",
       "      <td>0.0000</td>\n",
       "      <td>1.0</td>\n",
       "      <td>8.0000</td>\n",
       "    </tr>\n",
       "    <tr>\n",
       "      <th>Parch</th>\n",
       "      <td>891.0</td>\n",
       "      <td>0.381594</td>\n",
       "      <td>0.806057</td>\n",
       "      <td>0.00</td>\n",
       "      <td>0.0000</td>\n",
       "      <td>0.0000</td>\n",
       "      <td>0.0</td>\n",
       "      <td>6.0000</td>\n",
       "    </tr>\n",
       "    <tr>\n",
       "      <th>Fare</th>\n",
       "      <td>891.0</td>\n",
       "      <td>32.204208</td>\n",
       "      <td>49.693429</td>\n",
       "      <td>0.00</td>\n",
       "      <td>7.9104</td>\n",
       "      <td>14.4542</td>\n",
       "      <td>31.0</td>\n",
       "      <td>512.3292</td>\n",
       "    </tr>\n",
       "  </tbody>\n",
       "</table>\n",
       "</div>"
      ],
      "text/plain": [
       "             count        mean         std   min       25%       50%    75%  \\\n",
       "PassengerId  891.0  446.000000  257.353842  1.00  223.5000  446.0000  668.5   \n",
       "Survived     891.0    0.383838    0.486592  0.00    0.0000    0.0000    1.0   \n",
       "Pclass       891.0    2.308642    0.836071  1.00    2.0000    3.0000    3.0   \n",
       "Age          714.0   29.699118   14.526497  0.42   20.1250   28.0000   38.0   \n",
       "SibSp        891.0    0.523008    1.102743  0.00    0.0000    0.0000    1.0   \n",
       "Parch        891.0    0.381594    0.806057  0.00    0.0000    0.0000    0.0   \n",
       "Fare         891.0   32.204208   49.693429  0.00    7.9104   14.4542   31.0   \n",
       "\n",
       "                  max  \n",
       "PassengerId  891.0000  \n",
       "Survived       1.0000  \n",
       "Pclass         3.0000  \n",
       "Age           80.0000  \n",
       "SibSp          8.0000  \n",
       "Parch          6.0000  \n",
       "Fare         512.3292  "
      ]
     },
     "execution_count": 117,
     "metadata": {},
     "output_type": "execute_result"
    }
   ],
   "source": [
    "df.describe().T"
   ]
  },
  {
   "cell_type": "code",
   "execution_count": 118,
   "id": "d2e4ab1c",
   "metadata": {
    "execution": {
     "iopub.execute_input": "2023-10-11T14:44:41.713987Z",
     "iopub.status.busy": "2023-10-11T14:44:41.713616Z",
     "iopub.status.idle": "2023-10-11T14:44:41.721120Z",
     "shell.execute_reply": "2023-10-11T14:44:41.720322Z"
    },
    "papermill": {
     "duration": 0.077789,
     "end_time": "2023-10-11T14:44:41.723417",
     "exception": false,
     "start_time": "2023-10-11T14:44:41.645628",
     "status": "completed"
    },
    "tags": []
   },
   "outputs": [
    {
     "data": {
      "text/plain": [
       "True"
      ]
     },
     "execution_count": 118,
     "metadata": {},
     "output_type": "execute_result"
    }
   ],
   "source": [
    "df.isnull().values.any()"
   ]
  },
  {
   "cell_type": "code",
   "execution_count": 119,
   "id": "46cfa735",
   "metadata": {
    "execution": {
     "iopub.execute_input": "2023-10-11T14:44:41.856972Z",
     "iopub.status.busy": "2023-10-11T14:44:41.856622Z",
     "iopub.status.idle": "2023-10-11T14:44:41.866579Z",
     "shell.execute_reply": "2023-10-11T14:44:41.865329Z"
    },
    "papermill": {
     "duration": 0.077346,
     "end_time": "2023-10-11T14:44:41.868791",
     "exception": false,
     "start_time": "2023-10-11T14:44:41.791445",
     "status": "completed"
    },
    "tags": []
   },
   "outputs": [
    {
     "data": {
      "text/plain": [
       "PassengerId      0\n",
       "Survived         0\n",
       "Pclass           0\n",
       "Name             0\n",
       "Sex              0\n",
       "Age            177\n",
       "SibSp            0\n",
       "Parch            0\n",
       "Ticket           0\n",
       "Fare             0\n",
       "Cabin          687\n",
       "Embarked         2\n",
       "dtype: int64"
      ]
     },
     "execution_count": 119,
     "metadata": {},
     "output_type": "execute_result"
    }
   ],
   "source": [
    "df.isnull().sum()"
   ]
  },
  {
   "cell_type": "code",
   "execution_count": 120,
   "id": "77674d84",
   "metadata": {
    "execution": {
     "iopub.execute_input": "2023-10-11T14:44:42.000754Z",
     "iopub.status.busy": "2023-10-11T14:44:41.999799Z",
     "iopub.status.idle": "2023-10-11T14:44:42.010536Z",
     "shell.execute_reply": "2023-10-11T14:44:42.008491Z"
    },
    "papermill": {
     "duration": 0.080604,
     "end_time": "2023-10-11T14:44:42.013712",
     "exception": false,
     "start_time": "2023-10-11T14:44:41.933108",
     "status": "completed"
    },
    "tags": []
   },
   "outputs": [
    {
     "data": {
      "text/plain": [
       "0                                Braund, Mr. Owen Harris\n",
       "1      Cumings, Mrs. John Bradley (Florence Briggs Th...\n",
       "2                                 Heikkinen, Miss. Laina\n",
       "3           Futrelle, Mrs. Jacques Heath (Lily May Peel)\n",
       "4                               Allen, Mr. William Henry\n",
       "                             ...                        \n",
       "886                                Montvila, Rev. Juozas\n",
       "887                         Graham, Miss. Margaret Edith\n",
       "888             Johnston, Miss. Catherine Helen \"Carrie\"\n",
       "889                                Behr, Mr. Karl Howell\n",
       "890                                  Dooley, Mr. Patrick\n",
       "Name: Name, Length: 891, dtype: object"
      ]
     },
     "execution_count": 120,
     "metadata": {},
     "output_type": "execute_result"
    }
   ],
   "source": [
    "# Accessing a specific header:\n",
    "\n",
    "df['Name']"
   ]
  },
  {
   "cell_type": "code",
   "execution_count": 121,
   "id": "093bdabc",
   "metadata": {
    "execution": {
     "iopub.execute_input": "2023-10-11T14:44:42.145381Z",
     "iopub.status.busy": "2023-10-11T14:44:42.144153Z",
     "iopub.status.idle": "2023-10-11T14:44:42.157816Z",
     "shell.execute_reply": "2023-10-11T14:44:42.156688Z"
    },
    "papermill": {
     "duration": 0.08112,
     "end_time": "2023-10-11T14:44:42.160142",
     "exception": false,
     "start_time": "2023-10-11T14:44:42.079022",
     "status": "completed"
    },
    "tags": []
   },
   "outputs": [
    {
     "data": {
      "text/html": [
       "<div>\n",
       "<style scoped>\n",
       "    .dataframe tbody tr th:only-of-type {\n",
       "        vertical-align: middle;\n",
       "    }\n",
       "\n",
       "    .dataframe tbody tr th {\n",
       "        vertical-align: top;\n",
       "    }\n",
       "\n",
       "    .dataframe thead th {\n",
       "        text-align: right;\n",
       "    }\n",
       "</style>\n",
       "<table border=\"1\" class=\"dataframe\">\n",
       "  <thead>\n",
       "    <tr style=\"text-align: right;\">\n",
       "      <th></th>\n",
       "      <th>Survived</th>\n",
       "      <th>Pclass</th>\n",
       "    </tr>\n",
       "  </thead>\n",
       "  <tbody>\n",
       "    <tr>\n",
       "      <th>0</th>\n",
       "      <td>0</td>\n",
       "      <td>3</td>\n",
       "    </tr>\n",
       "    <tr>\n",
       "      <th>1</th>\n",
       "      <td>1</td>\n",
       "      <td>1</td>\n",
       "    </tr>\n",
       "    <tr>\n",
       "      <th>2</th>\n",
       "      <td>1</td>\n",
       "      <td>3</td>\n",
       "    </tr>\n",
       "    <tr>\n",
       "      <th>3</th>\n",
       "      <td>1</td>\n",
       "      <td>1</td>\n",
       "    </tr>\n",
       "    <tr>\n",
       "      <th>4</th>\n",
       "      <td>0</td>\n",
       "      <td>3</td>\n",
       "    </tr>\n",
       "    <tr>\n",
       "      <th>...</th>\n",
       "      <td>...</td>\n",
       "      <td>...</td>\n",
       "    </tr>\n",
       "    <tr>\n",
       "      <th>886</th>\n",
       "      <td>0</td>\n",
       "      <td>2</td>\n",
       "    </tr>\n",
       "    <tr>\n",
       "      <th>887</th>\n",
       "      <td>1</td>\n",
       "      <td>1</td>\n",
       "    </tr>\n",
       "    <tr>\n",
       "      <th>888</th>\n",
       "      <td>0</td>\n",
       "      <td>3</td>\n",
       "    </tr>\n",
       "    <tr>\n",
       "      <th>889</th>\n",
       "      <td>1</td>\n",
       "      <td>1</td>\n",
       "    </tr>\n",
       "    <tr>\n",
       "      <th>890</th>\n",
       "      <td>0</td>\n",
       "      <td>3</td>\n",
       "    </tr>\n",
       "  </tbody>\n",
       "</table>\n",
       "<p>891 rows × 2 columns</p>\n",
       "</div>"
      ],
      "text/plain": [
       "     Survived  Pclass\n",
       "0           0       3\n",
       "1           1       1\n",
       "2           1       3\n",
       "3           1       1\n",
       "4           0       3\n",
       "..        ...     ...\n",
       "886         0       2\n",
       "887         1       1\n",
       "888         0       3\n",
       "889         1       1\n",
       "890         0       3\n",
       "\n",
       "[891 rows x 2 columns]"
      ]
     },
     "execution_count": 121,
     "metadata": {},
     "output_type": "execute_result"
    }
   ],
   "source": [
    "# Selecting specific columns:\n",
    "\n",
    "df[['Survived', 'Pclass']]"
   ]
  },
  {
   "cell_type": "code",
   "execution_count": 122,
   "id": "2102894d",
   "metadata": {
    "execution": {
     "iopub.execute_input": "2023-10-11T14:44:42.294302Z",
     "iopub.status.busy": "2023-10-11T14:44:42.293468Z",
     "iopub.status.idle": "2023-10-11T14:44:42.301608Z",
     "shell.execute_reply": "2023-10-11T14:44:42.300471Z"
    },
    "papermill": {
     "duration": 0.077024,
     "end_time": "2023-10-11T14:44:42.303681",
     "exception": false,
     "start_time": "2023-10-11T14:44:42.226657",
     "status": "completed"
    },
    "tags": []
   },
   "outputs": [
    {
     "data": {
      "text/plain": [
       "PassengerId                          1\n",
       "Survived                             0\n",
       "Pclass                               3\n",
       "Name           Braund, Mr. Owen Harris\n",
       "Sex                               male\n",
       "Age                               22.0\n",
       "SibSp                                1\n",
       "Parch                                0\n",
       "Ticket                       A/5 21171\n",
       "Fare                              7.25\n",
       "Cabin                              NaN\n",
       "Embarked                             S\n",
       "Name: 0, dtype: object"
      ]
     },
     "execution_count": 122,
     "metadata": {},
     "output_type": "execute_result"
    }
   ],
   "source": [
    "# Accessing a specific row with label index:\n",
    "\n",
    "df.loc[0]"
   ]
  },
  {
   "cell_type": "code",
   "execution_count": 123,
   "id": "c878fe7f",
   "metadata": {
    "execution": {
     "iopub.execute_input": "2023-10-11T14:44:42.435694Z",
     "iopub.status.busy": "2023-10-11T14:44:42.434543Z",
     "iopub.status.idle": "2023-10-11T14:44:42.443427Z",
     "shell.execute_reply": "2023-10-11T14:44:42.442327Z"
    },
    "papermill": {
     "duration": 0.077103,
     "end_time": "2023-10-11T14:44:42.445718",
     "exception": false,
     "start_time": "2023-10-11T14:44:42.368615",
     "status": "completed"
    },
    "tags": []
   },
   "outputs": [
    {
     "data": {
      "text/plain": [
       "PassengerId                          1\n",
       "Survived                             0\n",
       "Pclass                               3\n",
       "Name           Braund, Mr. Owen Harris\n",
       "Sex                               male\n",
       "Age                               22.0\n",
       "SibSp                                1\n",
       "Parch                                0\n",
       "Ticket                       A/5 21171\n",
       "Fare                              7.25\n",
       "Cabin                              NaN\n",
       "Embarked                             S\n",
       "Name: 0, dtype: object"
      ]
     },
     "execution_count": 123,
     "metadata": {},
     "output_type": "execute_result"
    }
   ],
   "source": [
    "# Accessing a specific row with numerical index:\n",
    "\n",
    "df.iloc[0]"
   ]
  },
  {
   "cell_type": "markdown",
   "id": "2efee312",
   "metadata": {
    "papermill": {
     "duration": 0.12973,
     "end_time": "2023-10-11T14:44:42.645278",
     "exception": false,
     "start_time": "2023-10-11T14:44:42.515548",
     "status": "completed"
    },
    "tags": []
   },
   "source": [
    "* **Modifying Data:**"
   ]
  },
  {
   "cell_type": "code",
   "execution_count": 124,
   "id": "5bc883bd",
   "metadata": {
    "execution": {
     "iopub.execute_input": "2023-10-11T14:44:42.776843Z",
     "iopub.status.busy": "2023-10-11T14:44:42.776473Z",
     "iopub.status.idle": "2023-10-11T14:44:42.781898Z",
     "shell.execute_reply": "2023-10-11T14:44:42.781045Z"
    },
    "papermill": {
     "duration": 0.073292,
     "end_time": "2023-10-11T14:44:42.783845",
     "exception": false,
     "start_time": "2023-10-11T14:44:42.710553",
     "status": "completed"
    },
    "tags": []
   },
   "outputs": [],
   "source": [
    "# Modifying column values:\n",
    "\n",
    "df['Age'] = df['Age'] + 1"
   ]
  },
  {
   "cell_type": "markdown",
   "id": "f4a7dfa3",
   "metadata": {
    "papermill": {
     "duration": 0.066004,
     "end_time": "2023-10-11T14:44:42.920414",
     "exception": false,
     "start_time": "2023-10-11T14:44:42.854410",
     "status": "completed"
    },
    "tags": []
   },
   "source": [
    "* **Data Filtering:**"
   ]
  },
  {
   "cell_type": "code",
   "execution_count": 125,
   "id": "096cc812",
   "metadata": {
    "execution": {
     "iopub.execute_input": "2023-10-11T14:44:43.054559Z",
     "iopub.status.busy": "2023-10-11T14:44:43.053878Z",
     "iopub.status.idle": "2023-10-11T14:44:43.069134Z",
     "shell.execute_reply": "2023-10-11T14:44:43.068029Z"
    },
    "papermill": {
     "duration": 0.083459,
     "end_time": "2023-10-11T14:44:43.071186",
     "exception": false,
     "start_time": "2023-10-11T14:44:42.987727",
     "status": "completed"
    },
    "tags": []
   },
   "outputs": [
    {
     "data": {
      "text/html": [
       "<div>\n",
       "<style scoped>\n",
       "    .dataframe tbody tr th:only-of-type {\n",
       "        vertical-align: middle;\n",
       "    }\n",
       "\n",
       "    .dataframe tbody tr th {\n",
       "        vertical-align: top;\n",
       "    }\n",
       "\n",
       "    .dataframe thead th {\n",
       "        text-align: right;\n",
       "    }\n",
       "</style>\n",
       "<table border=\"1\" class=\"dataframe\">\n",
       "  <thead>\n",
       "    <tr style=\"text-align: right;\">\n",
       "      <th></th>\n",
       "      <th>PassengerId</th>\n",
       "      <th>Survived</th>\n",
       "      <th>Pclass</th>\n",
       "      <th>Name</th>\n",
       "      <th>Sex</th>\n",
       "      <th>Age</th>\n",
       "      <th>SibSp</th>\n",
       "      <th>Parch</th>\n",
       "      <th>Ticket</th>\n",
       "      <th>Fare</th>\n",
       "      <th>Cabin</th>\n",
       "      <th>Embarked</th>\n",
       "    </tr>\n",
       "  </thead>\n",
       "  <tbody>\n",
       "    <tr>\n",
       "      <th>1</th>\n",
       "      <td>2</td>\n",
       "      <td>1</td>\n",
       "      <td>1</td>\n",
       "      <td>Cumings, Mrs. John Bradley (Florence Briggs Th...</td>\n",
       "      <td>female</td>\n",
       "      <td>39.0</td>\n",
       "      <td>1</td>\n",
       "      <td>0</td>\n",
       "      <td>PC 17599</td>\n",
       "      <td>71.2833</td>\n",
       "      <td>C85</td>\n",
       "      <td>C</td>\n",
       "    </tr>\n",
       "    <tr>\n",
       "      <th>2</th>\n",
       "      <td>3</td>\n",
       "      <td>1</td>\n",
       "      <td>3</td>\n",
       "      <td>Heikkinen, Miss. Laina</td>\n",
       "      <td>female</td>\n",
       "      <td>27.0</td>\n",
       "      <td>0</td>\n",
       "      <td>0</td>\n",
       "      <td>STON/O2. 3101282</td>\n",
       "      <td>7.9250</td>\n",
       "      <td>NaN</td>\n",
       "      <td>S</td>\n",
       "    </tr>\n",
       "    <tr>\n",
       "      <th>3</th>\n",
       "      <td>4</td>\n",
       "      <td>1</td>\n",
       "      <td>1</td>\n",
       "      <td>Futrelle, Mrs. Jacques Heath (Lily May Peel)</td>\n",
       "      <td>female</td>\n",
       "      <td>36.0</td>\n",
       "      <td>1</td>\n",
       "      <td>0</td>\n",
       "      <td>113803</td>\n",
       "      <td>53.1000</td>\n",
       "      <td>C123</td>\n",
       "      <td>S</td>\n",
       "    </tr>\n",
       "    <tr>\n",
       "      <th>4</th>\n",
       "      <td>5</td>\n",
       "      <td>0</td>\n",
       "      <td>3</td>\n",
       "      <td>Allen, Mr. William Henry</td>\n",
       "      <td>male</td>\n",
       "      <td>36.0</td>\n",
       "      <td>0</td>\n",
       "      <td>0</td>\n",
       "      <td>373450</td>\n",
       "      <td>8.0500</td>\n",
       "      <td>NaN</td>\n",
       "      <td>S</td>\n",
       "    </tr>\n",
       "    <tr>\n",
       "      <th>6</th>\n",
       "      <td>7</td>\n",
       "      <td>0</td>\n",
       "      <td>1</td>\n",
       "      <td>McCarthy, Mr. Timothy J</td>\n",
       "      <td>male</td>\n",
       "      <td>55.0</td>\n",
       "      <td>0</td>\n",
       "      <td>0</td>\n",
       "      <td>17463</td>\n",
       "      <td>51.8625</td>\n",
       "      <td>E46</td>\n",
       "      <td>S</td>\n",
       "    </tr>\n",
       "  </tbody>\n",
       "</table>\n",
       "</div>"
      ],
      "text/plain": [
       "   PassengerId  Survived  Pclass  \\\n",
       "1            2         1       1   \n",
       "2            3         1       3   \n",
       "3            4         1       1   \n",
       "4            5         0       3   \n",
       "6            7         0       1   \n",
       "\n",
       "                                                Name     Sex   Age  SibSp  \\\n",
       "1  Cumings, Mrs. John Bradley (Florence Briggs Th...  female  39.0      1   \n",
       "2                             Heikkinen, Miss. Laina  female  27.0      0   \n",
       "3       Futrelle, Mrs. Jacques Heath (Lily May Peel)  female  36.0      1   \n",
       "4                           Allen, Mr. William Henry    male  36.0      0   \n",
       "6                            McCarthy, Mr. Timothy J    male  55.0      0   \n",
       "\n",
       "   Parch            Ticket     Fare Cabin Embarked  \n",
       "1      0          PC 17599  71.2833   C85        C  \n",
       "2      0  STON/O2. 3101282   7.9250   NaN        S  \n",
       "3      0            113803  53.1000  C123        S  \n",
       "4      0            373450   8.0500   NaN        S  \n",
       "6      0             17463  51.8625   E46        S  "
      ]
     },
     "execution_count": 125,
     "metadata": {},
     "output_type": "execute_result"
    }
   ],
   "source": [
    "# Filtering data based on conditions:\n",
    "\n",
    "df[df['Age'] > 25].head()"
   ]
  },
  {
   "cell_type": "markdown",
   "id": "df34bf3b",
   "metadata": {
    "papermill": {
     "duration": 0.066161,
     "end_time": "2023-10-11T14:44:43.202617",
     "exception": false,
     "start_time": "2023-10-11T14:44:43.136456",
     "status": "completed"
    },
    "tags": []
   },
   "source": [
    "* **Handling NaN Values:**"
   ]
  },
  {
   "cell_type": "code",
   "execution_count": 126,
   "id": "254ffbaa",
   "metadata": {
    "execution": {
     "iopub.execute_input": "2023-10-11T14:44:43.337209Z",
     "iopub.status.busy": "2023-10-11T14:44:43.336866Z",
     "iopub.status.idle": "2023-10-11T14:44:43.355803Z",
     "shell.execute_reply": "2023-10-11T14:44:43.354212Z"
    },
    "papermill": {
     "duration": 0.089127,
     "end_time": "2023-10-11T14:44:43.358258",
     "exception": false,
     "start_time": "2023-10-11T14:44:43.269131",
     "status": "completed"
    },
    "tags": []
   },
   "outputs": [
    {
     "data": {
      "text/html": [
       "<div>\n",
       "<style scoped>\n",
       "    .dataframe tbody tr th:only-of-type {\n",
       "        vertical-align: middle;\n",
       "    }\n",
       "\n",
       "    .dataframe tbody tr th {\n",
       "        vertical-align: top;\n",
       "    }\n",
       "\n",
       "    .dataframe thead th {\n",
       "        text-align: right;\n",
       "    }\n",
       "</style>\n",
       "<table border=\"1\" class=\"dataframe\">\n",
       "  <thead>\n",
       "    <tr style=\"text-align: right;\">\n",
       "      <th></th>\n",
       "      <th>PassengerId</th>\n",
       "      <th>Survived</th>\n",
       "      <th>Pclass</th>\n",
       "      <th>Name</th>\n",
       "      <th>Sex</th>\n",
       "      <th>Age</th>\n",
       "      <th>SibSp</th>\n",
       "      <th>Parch</th>\n",
       "      <th>Ticket</th>\n",
       "      <th>Fare</th>\n",
       "      <th>Cabin</th>\n",
       "      <th>Embarked</th>\n",
       "    </tr>\n",
       "  </thead>\n",
       "  <tbody>\n",
       "    <tr>\n",
       "      <th>1</th>\n",
       "      <td>2</td>\n",
       "      <td>1</td>\n",
       "      <td>1</td>\n",
       "      <td>Cumings, Mrs. John Bradley (Florence Briggs Th...</td>\n",
       "      <td>female</td>\n",
       "      <td>39.0</td>\n",
       "      <td>1</td>\n",
       "      <td>0</td>\n",
       "      <td>PC 17599</td>\n",
       "      <td>71.2833</td>\n",
       "      <td>C85</td>\n",
       "      <td>C</td>\n",
       "    </tr>\n",
       "    <tr>\n",
       "      <th>3</th>\n",
       "      <td>4</td>\n",
       "      <td>1</td>\n",
       "      <td>1</td>\n",
       "      <td>Futrelle, Mrs. Jacques Heath (Lily May Peel)</td>\n",
       "      <td>female</td>\n",
       "      <td>36.0</td>\n",
       "      <td>1</td>\n",
       "      <td>0</td>\n",
       "      <td>113803</td>\n",
       "      <td>53.1000</td>\n",
       "      <td>C123</td>\n",
       "      <td>S</td>\n",
       "    </tr>\n",
       "    <tr>\n",
       "      <th>6</th>\n",
       "      <td>7</td>\n",
       "      <td>0</td>\n",
       "      <td>1</td>\n",
       "      <td>McCarthy, Mr. Timothy J</td>\n",
       "      <td>male</td>\n",
       "      <td>55.0</td>\n",
       "      <td>0</td>\n",
       "      <td>0</td>\n",
       "      <td>17463</td>\n",
       "      <td>51.8625</td>\n",
       "      <td>E46</td>\n",
       "      <td>S</td>\n",
       "    </tr>\n",
       "    <tr>\n",
       "      <th>10</th>\n",
       "      <td>11</td>\n",
       "      <td>1</td>\n",
       "      <td>3</td>\n",
       "      <td>Sandstrom, Miss. Marguerite Rut</td>\n",
       "      <td>female</td>\n",
       "      <td>5.0</td>\n",
       "      <td>1</td>\n",
       "      <td>1</td>\n",
       "      <td>PP 9549</td>\n",
       "      <td>16.7000</td>\n",
       "      <td>G6</td>\n",
       "      <td>S</td>\n",
       "    </tr>\n",
       "    <tr>\n",
       "      <th>11</th>\n",
       "      <td>12</td>\n",
       "      <td>1</td>\n",
       "      <td>1</td>\n",
       "      <td>Bonnell, Miss. Elizabeth</td>\n",
       "      <td>female</td>\n",
       "      <td>59.0</td>\n",
       "      <td>0</td>\n",
       "      <td>0</td>\n",
       "      <td>113783</td>\n",
       "      <td>26.5500</td>\n",
       "      <td>C103</td>\n",
       "      <td>S</td>\n",
       "    </tr>\n",
       "  </tbody>\n",
       "</table>\n",
       "</div>"
      ],
      "text/plain": [
       "    PassengerId  Survived  Pclass  \\\n",
       "1             2         1       1   \n",
       "3             4         1       1   \n",
       "6             7         0       1   \n",
       "10           11         1       3   \n",
       "11           12         1       1   \n",
       "\n",
       "                                                 Name     Sex   Age  SibSp  \\\n",
       "1   Cumings, Mrs. John Bradley (Florence Briggs Th...  female  39.0      1   \n",
       "3        Futrelle, Mrs. Jacques Heath (Lily May Peel)  female  36.0      1   \n",
       "6                             McCarthy, Mr. Timothy J    male  55.0      0   \n",
       "10                    Sandstrom, Miss. Marguerite Rut  female   5.0      1   \n",
       "11                           Bonnell, Miss. Elizabeth  female  59.0      0   \n",
       "\n",
       "    Parch    Ticket     Fare Cabin Embarked  \n",
       "1       0  PC 17599  71.2833   C85        C  \n",
       "3       0    113803  53.1000  C123        S  \n",
       "6       0     17463  51.8625   E46        S  \n",
       "10      1   PP 9549  16.7000    G6        S  \n",
       "11      0    113783  26.5500  C103        S  "
      ]
     },
     "execution_count": 126,
     "metadata": {},
     "output_type": "execute_result"
    }
   ],
   "source": [
    "# Dropping rows with NaN values:\n",
    "\n",
    "df.dropna().head()"
   ]
  },
  {
   "cell_type": "code",
   "execution_count": 127,
   "id": "8597dd75",
   "metadata": {
    "execution": {
     "iopub.execute_input": "2023-10-11T14:44:43.504784Z",
     "iopub.status.busy": "2023-10-11T14:44:43.503630Z",
     "iopub.status.idle": "2023-10-11T14:44:43.521030Z",
     "shell.execute_reply": "2023-10-11T14:44:43.519676Z"
    },
    "papermill": {
     "duration": 0.096065,
     "end_time": "2023-10-11T14:44:43.523602",
     "exception": false,
     "start_time": "2023-10-11T14:44:43.427537",
     "status": "completed"
    },
    "tags": []
   },
   "outputs": [
    {
     "data": {
      "text/html": [
       "<div>\n",
       "<style scoped>\n",
       "    .dataframe tbody tr th:only-of-type {\n",
       "        vertical-align: middle;\n",
       "    }\n",
       "\n",
       "    .dataframe tbody tr th {\n",
       "        vertical-align: top;\n",
       "    }\n",
       "\n",
       "    .dataframe thead th {\n",
       "        text-align: right;\n",
       "    }\n",
       "</style>\n",
       "<table border=\"1\" class=\"dataframe\">\n",
       "  <thead>\n",
       "    <tr style=\"text-align: right;\">\n",
       "      <th></th>\n",
       "      <th>PassengerId</th>\n",
       "      <th>Survived</th>\n",
       "      <th>Pclass</th>\n",
       "      <th>Name</th>\n",
       "      <th>Sex</th>\n",
       "      <th>Age</th>\n",
       "      <th>SibSp</th>\n",
       "      <th>Parch</th>\n",
       "      <th>Ticket</th>\n",
       "      <th>Fare</th>\n",
       "      <th>Cabin</th>\n",
       "      <th>Embarked</th>\n",
       "    </tr>\n",
       "  </thead>\n",
       "  <tbody>\n",
       "    <tr>\n",
       "      <th>0</th>\n",
       "      <td>1</td>\n",
       "      <td>0</td>\n",
       "      <td>3</td>\n",
       "      <td>Braund, Mr. Owen Harris</td>\n",
       "      <td>male</td>\n",
       "      <td>23.0</td>\n",
       "      <td>1</td>\n",
       "      <td>0</td>\n",
       "      <td>A/5 21171</td>\n",
       "      <td>7.2500</td>\n",
       "      <td>0</td>\n",
       "      <td>S</td>\n",
       "    </tr>\n",
       "    <tr>\n",
       "      <th>1</th>\n",
       "      <td>2</td>\n",
       "      <td>1</td>\n",
       "      <td>1</td>\n",
       "      <td>Cumings, Mrs. John Bradley (Florence Briggs Th...</td>\n",
       "      <td>female</td>\n",
       "      <td>39.0</td>\n",
       "      <td>1</td>\n",
       "      <td>0</td>\n",
       "      <td>PC 17599</td>\n",
       "      <td>71.2833</td>\n",
       "      <td>C85</td>\n",
       "      <td>C</td>\n",
       "    </tr>\n",
       "    <tr>\n",
       "      <th>2</th>\n",
       "      <td>3</td>\n",
       "      <td>1</td>\n",
       "      <td>3</td>\n",
       "      <td>Heikkinen, Miss. Laina</td>\n",
       "      <td>female</td>\n",
       "      <td>27.0</td>\n",
       "      <td>0</td>\n",
       "      <td>0</td>\n",
       "      <td>STON/O2. 3101282</td>\n",
       "      <td>7.9250</td>\n",
       "      <td>0</td>\n",
       "      <td>S</td>\n",
       "    </tr>\n",
       "    <tr>\n",
       "      <th>3</th>\n",
       "      <td>4</td>\n",
       "      <td>1</td>\n",
       "      <td>1</td>\n",
       "      <td>Futrelle, Mrs. Jacques Heath (Lily May Peel)</td>\n",
       "      <td>female</td>\n",
       "      <td>36.0</td>\n",
       "      <td>1</td>\n",
       "      <td>0</td>\n",
       "      <td>113803</td>\n",
       "      <td>53.1000</td>\n",
       "      <td>C123</td>\n",
       "      <td>S</td>\n",
       "    </tr>\n",
       "    <tr>\n",
       "      <th>4</th>\n",
       "      <td>5</td>\n",
       "      <td>0</td>\n",
       "      <td>3</td>\n",
       "      <td>Allen, Mr. William Henry</td>\n",
       "      <td>male</td>\n",
       "      <td>36.0</td>\n",
       "      <td>0</td>\n",
       "      <td>0</td>\n",
       "      <td>373450</td>\n",
       "      <td>8.0500</td>\n",
       "      <td>0</td>\n",
       "      <td>S</td>\n",
       "    </tr>\n",
       "  </tbody>\n",
       "</table>\n",
       "</div>"
      ],
      "text/plain": [
       "   PassengerId  Survived  Pclass  \\\n",
       "0            1         0       3   \n",
       "1            2         1       1   \n",
       "2            3         1       3   \n",
       "3            4         1       1   \n",
       "4            5         0       3   \n",
       "\n",
       "                                                Name     Sex   Age  SibSp  \\\n",
       "0                            Braund, Mr. Owen Harris    male  23.0      1   \n",
       "1  Cumings, Mrs. John Bradley (Florence Briggs Th...  female  39.0      1   \n",
       "2                             Heikkinen, Miss. Laina  female  27.0      0   \n",
       "3       Futrelle, Mrs. Jacques Heath (Lily May Peel)  female  36.0      1   \n",
       "4                           Allen, Mr. William Henry    male  36.0      0   \n",
       "\n",
       "   Parch            Ticket     Fare Cabin Embarked  \n",
       "0      0         A/5 21171   7.2500     0        S  \n",
       "1      0          PC 17599  71.2833   C85        C  \n",
       "2      0  STON/O2. 3101282   7.9250     0        S  \n",
       "3      0            113803  53.1000  C123        S  \n",
       "4      0            373450   8.0500     0        S  "
      ]
     },
     "execution_count": 127,
     "metadata": {},
     "output_type": "execute_result"
    }
   ],
   "source": [
    "# Filling NaN values with another value:\n",
    "\n",
    "df.fillna(0).head()"
   ]
  },
  {
   "cell_type": "markdown",
   "id": "1acc74b4",
   "metadata": {
    "papermill": {
     "duration": 0.070587,
     "end_time": "2023-10-11T14:44:43.661929",
     "exception": false,
     "start_time": "2023-10-11T14:44:43.591342",
     "status": "completed"
    },
    "tags": []
   },
   "source": [
    "* **Data Grouping and Statistical Operations:**"
   ]
  },
  {
   "cell_type": "code",
   "execution_count": 128,
   "id": "bfd75c97",
   "metadata": {
    "execution": {
     "iopub.execute_input": "2023-10-11T14:44:43.824302Z",
     "iopub.status.busy": "2023-10-11T14:44:43.823831Z",
     "iopub.status.idle": "2023-10-11T14:44:43.851142Z",
     "shell.execute_reply": "2023-10-11T14:44:43.850336Z"
    },
    "papermill": {
     "duration": 0.122865,
     "end_time": "2023-10-11T14:44:43.853469",
     "exception": false,
     "start_time": "2023-10-11T14:44:43.730604",
     "status": "completed"
    },
    "tags": []
   },
   "outputs": [
    {
     "data": {
      "text/html": [
       "<div>\n",
       "<style scoped>\n",
       "    .dataframe tbody tr th:only-of-type {\n",
       "        vertical-align: middle;\n",
       "    }\n",
       "\n",
       "    .dataframe tbody tr th {\n",
       "        vertical-align: top;\n",
       "    }\n",
       "\n",
       "    .dataframe thead th {\n",
       "        text-align: right;\n",
       "    }\n",
       "</style>\n",
       "<table border=\"1\" class=\"dataframe\">\n",
       "  <thead>\n",
       "    <tr style=\"text-align: right;\">\n",
       "      <th></th>\n",
       "      <th>PassengerId</th>\n",
       "      <th>Survived</th>\n",
       "      <th>Pclass</th>\n",
       "      <th>Name</th>\n",
       "      <th>Sex</th>\n",
       "      <th>Age</th>\n",
       "      <th>SibSp</th>\n",
       "      <th>Parch</th>\n",
       "      <th>Ticket</th>\n",
       "      <th>Fare</th>\n",
       "      <th>Cabin</th>\n",
       "      <th>Embarked</th>\n",
       "    </tr>\n",
       "  </thead>\n",
       "  <tbody>\n",
       "    <tr>\n",
       "      <th>0</th>\n",
       "      <td>1</td>\n",
       "      <td>0</td>\n",
       "      <td>3</td>\n",
       "      <td>Braund, Mr. Owen Harris</td>\n",
       "      <td>male</td>\n",
       "      <td>23.0</td>\n",
       "      <td>1</td>\n",
       "      <td>0</td>\n",
       "      <td>A/5 21171</td>\n",
       "      <td>7.2500</td>\n",
       "      <td>NaN</td>\n",
       "      <td>S</td>\n",
       "    </tr>\n",
       "    <tr>\n",
       "      <th>1</th>\n",
       "      <td>2</td>\n",
       "      <td>1</td>\n",
       "      <td>1</td>\n",
       "      <td>Cumings, Mrs. John Bradley (Florence Briggs Th...</td>\n",
       "      <td>female</td>\n",
       "      <td>39.0</td>\n",
       "      <td>1</td>\n",
       "      <td>0</td>\n",
       "      <td>PC 17599</td>\n",
       "      <td>71.2833</td>\n",
       "      <td>C85</td>\n",
       "      <td>C</td>\n",
       "    </tr>\n",
       "    <tr>\n",
       "      <th>2</th>\n",
       "      <td>3</td>\n",
       "      <td>1</td>\n",
       "      <td>3</td>\n",
       "      <td>Heikkinen, Miss. Laina</td>\n",
       "      <td>female</td>\n",
       "      <td>27.0</td>\n",
       "      <td>0</td>\n",
       "      <td>0</td>\n",
       "      <td>STON/O2. 3101282</td>\n",
       "      <td>7.9250</td>\n",
       "      <td>NaN</td>\n",
       "      <td>S</td>\n",
       "    </tr>\n",
       "    <tr>\n",
       "      <th>3</th>\n",
       "      <td>4</td>\n",
       "      <td>1</td>\n",
       "      <td>1</td>\n",
       "      <td>Futrelle, Mrs. Jacques Heath (Lily May Peel)</td>\n",
       "      <td>female</td>\n",
       "      <td>36.0</td>\n",
       "      <td>1</td>\n",
       "      <td>0</td>\n",
       "      <td>113803</td>\n",
       "      <td>53.1000</td>\n",
       "      <td>C123</td>\n",
       "      <td>S</td>\n",
       "    </tr>\n",
       "    <tr>\n",
       "      <th>4</th>\n",
       "      <td>5</td>\n",
       "      <td>0</td>\n",
       "      <td>3</td>\n",
       "      <td>Allen, Mr. William Henry</td>\n",
       "      <td>male</td>\n",
       "      <td>36.0</td>\n",
       "      <td>0</td>\n",
       "      <td>0</td>\n",
       "      <td>373450</td>\n",
       "      <td>8.0500</td>\n",
       "      <td>NaN</td>\n",
       "      <td>S</td>\n",
       "    </tr>\n",
       "    <tr>\n",
       "      <th>...</th>\n",
       "      <td>...</td>\n",
       "      <td>...</td>\n",
       "      <td>...</td>\n",
       "      <td>...</td>\n",
       "      <td>...</td>\n",
       "      <td>...</td>\n",
       "      <td>...</td>\n",
       "      <td>...</td>\n",
       "      <td>...</td>\n",
       "      <td>...</td>\n",
       "      <td>...</td>\n",
       "      <td>...</td>\n",
       "    </tr>\n",
       "    <tr>\n",
       "      <th>886</th>\n",
       "      <td>887</td>\n",
       "      <td>0</td>\n",
       "      <td>2</td>\n",
       "      <td>Montvila, Rev. Juozas</td>\n",
       "      <td>male</td>\n",
       "      <td>28.0</td>\n",
       "      <td>0</td>\n",
       "      <td>0</td>\n",
       "      <td>211536</td>\n",
       "      <td>13.0000</td>\n",
       "      <td>NaN</td>\n",
       "      <td>S</td>\n",
       "    </tr>\n",
       "    <tr>\n",
       "      <th>887</th>\n",
       "      <td>888</td>\n",
       "      <td>1</td>\n",
       "      <td>1</td>\n",
       "      <td>Graham, Miss. Margaret Edith</td>\n",
       "      <td>female</td>\n",
       "      <td>20.0</td>\n",
       "      <td>0</td>\n",
       "      <td>0</td>\n",
       "      <td>112053</td>\n",
       "      <td>30.0000</td>\n",
       "      <td>B42</td>\n",
       "      <td>S</td>\n",
       "    </tr>\n",
       "    <tr>\n",
       "      <th>888</th>\n",
       "      <td>889</td>\n",
       "      <td>0</td>\n",
       "      <td>3</td>\n",
       "      <td>Johnston, Miss. Catherine Helen \"Carrie\"</td>\n",
       "      <td>female</td>\n",
       "      <td>NaN</td>\n",
       "      <td>1</td>\n",
       "      <td>2</td>\n",
       "      <td>W./C. 6607</td>\n",
       "      <td>23.4500</td>\n",
       "      <td>NaN</td>\n",
       "      <td>S</td>\n",
       "    </tr>\n",
       "    <tr>\n",
       "      <th>889</th>\n",
       "      <td>890</td>\n",
       "      <td>1</td>\n",
       "      <td>1</td>\n",
       "      <td>Behr, Mr. Karl Howell</td>\n",
       "      <td>male</td>\n",
       "      <td>27.0</td>\n",
       "      <td>0</td>\n",
       "      <td>0</td>\n",
       "      <td>111369</td>\n",
       "      <td>30.0000</td>\n",
       "      <td>C148</td>\n",
       "      <td>C</td>\n",
       "    </tr>\n",
       "    <tr>\n",
       "      <th>890</th>\n",
       "      <td>891</td>\n",
       "      <td>0</td>\n",
       "      <td>3</td>\n",
       "      <td>Dooley, Mr. Patrick</td>\n",
       "      <td>male</td>\n",
       "      <td>33.0</td>\n",
       "      <td>0</td>\n",
       "      <td>0</td>\n",
       "      <td>370376</td>\n",
       "      <td>7.7500</td>\n",
       "      <td>NaN</td>\n",
       "      <td>Q</td>\n",
       "    </tr>\n",
       "  </tbody>\n",
       "</table>\n",
       "<p>882 rows × 12 columns</p>\n",
       "</div>"
      ],
      "text/plain": [
       "     PassengerId  Survived  Pclass  \\\n",
       "0              1         0       3   \n",
       "1              2         1       1   \n",
       "2              3         1       3   \n",
       "3              4         1       1   \n",
       "4              5         0       3   \n",
       "..           ...       ...     ...   \n",
       "886          887         0       2   \n",
       "887          888         1       1   \n",
       "888          889         0       3   \n",
       "889          890         1       1   \n",
       "890          891         0       3   \n",
       "\n",
       "                                                  Name     Sex   Age  SibSp  \\\n",
       "0                              Braund, Mr. Owen Harris    male  23.0      1   \n",
       "1    Cumings, Mrs. John Bradley (Florence Briggs Th...  female  39.0      1   \n",
       "2                               Heikkinen, Miss. Laina  female  27.0      0   \n",
       "3         Futrelle, Mrs. Jacques Heath (Lily May Peel)  female  36.0      1   \n",
       "4                             Allen, Mr. William Henry    male  36.0      0   \n",
       "..                                                 ...     ...   ...    ...   \n",
       "886                              Montvila, Rev. Juozas    male  28.0      0   \n",
       "887                       Graham, Miss. Margaret Edith  female  20.0      0   \n",
       "888           Johnston, Miss. Catherine Helen \"Carrie\"  female   NaN      1   \n",
       "889                              Behr, Mr. Karl Howell    male  27.0      0   \n",
       "890                                Dooley, Mr. Patrick    male  33.0      0   \n",
       "\n",
       "     Parch            Ticket     Fare Cabin Embarked  \n",
       "0        0         A/5 21171   7.2500   NaN        S  \n",
       "1        0          PC 17599  71.2833   C85        C  \n",
       "2        0  STON/O2. 3101282   7.9250   NaN        S  \n",
       "3        0            113803  53.1000  C123        S  \n",
       "4        0            373450   8.0500   NaN        S  \n",
       "..     ...               ...      ...   ...      ...  \n",
       "886      0            211536  13.0000   NaN        S  \n",
       "887      0            112053  30.0000   B42        S  \n",
       "888      2        W./C. 6607  23.4500   NaN        S  \n",
       "889      0            111369  30.0000  C148        C  \n",
       "890      0            370376   7.7500   NaN        Q  \n",
       "\n",
       "[882 rows x 12 columns]"
      ]
     },
     "execution_count": 128,
     "metadata": {},
     "output_type": "execute_result"
    }
   ],
   "source": [
    "grouped_df = df.groupby('Ticket')\n",
    "\n",
    "grouped_df.head()"
   ]
  },
  {
   "cell_type": "code",
   "execution_count": 129,
   "id": "de1bc0db",
   "metadata": {
    "execution": {
     "iopub.execute_input": "2023-10-11T14:44:44.002965Z",
     "iopub.status.busy": "2023-10-11T14:44:44.002218Z",
     "iopub.status.idle": "2023-10-11T14:44:44.009959Z",
     "shell.execute_reply": "2023-10-11T14:44:44.008624Z"
    },
    "papermill": {
     "duration": 0.08102,
     "end_time": "2023-10-11T14:44:44.012518",
     "exception": false,
     "start_time": "2023-10-11T14:44:43.931498",
     "status": "completed"
    },
    "tags": []
   },
   "outputs": [],
   "source": [
    "# Calculating mean values for the grouped data:\n",
    "\n",
    "mean_age_by_city = grouped_df['Age'].mean()"
   ]
  },
  {
   "cell_type": "markdown",
   "id": "a36db636",
   "metadata": {
    "papermill": {
     "duration": 0.072238,
     "end_time": "2023-10-11T14:44:44.155591",
     "exception": false,
     "start_time": "2023-10-11T14:44:44.083353",
     "status": "completed"
    },
    "tags": []
   },
   "source": [
    "* **Data Sorting:**"
   ]
  },
  {
   "cell_type": "code",
   "execution_count": 130,
   "id": "acd2bd50",
   "metadata": {
    "execution": {
     "iopub.execute_input": "2023-10-11T14:44:44.306576Z",
     "iopub.status.busy": "2023-10-11T14:44:44.306065Z",
     "iopub.status.idle": "2023-10-11T14:44:44.323396Z",
     "shell.execute_reply": "2023-10-11T14:44:44.322150Z"
    },
    "papermill": {
     "duration": 0.096943,
     "end_time": "2023-10-11T14:44:44.325710",
     "exception": false,
     "start_time": "2023-10-11T14:44:44.228767",
     "status": "completed"
    },
    "tags": []
   },
   "outputs": [
    {
     "data": {
      "text/html": [
       "<div>\n",
       "<style scoped>\n",
       "    .dataframe tbody tr th:only-of-type {\n",
       "        vertical-align: middle;\n",
       "    }\n",
       "\n",
       "    .dataframe tbody tr th {\n",
       "        vertical-align: top;\n",
       "    }\n",
       "\n",
       "    .dataframe thead th {\n",
       "        text-align: right;\n",
       "    }\n",
       "</style>\n",
       "<table border=\"1\" class=\"dataframe\">\n",
       "  <thead>\n",
       "    <tr style=\"text-align: right;\">\n",
       "      <th></th>\n",
       "      <th>PassengerId</th>\n",
       "      <th>Survived</th>\n",
       "      <th>Pclass</th>\n",
       "      <th>Name</th>\n",
       "      <th>Sex</th>\n",
       "      <th>Age</th>\n",
       "      <th>SibSp</th>\n",
       "      <th>Parch</th>\n",
       "      <th>Ticket</th>\n",
       "      <th>Fare</th>\n",
       "      <th>Cabin</th>\n",
       "      <th>Embarked</th>\n",
       "    </tr>\n",
       "  </thead>\n",
       "  <tbody>\n",
       "    <tr>\n",
       "      <th>803</th>\n",
       "      <td>804</td>\n",
       "      <td>1</td>\n",
       "      <td>3</td>\n",
       "      <td>Thomas, Master. Assad Alexander</td>\n",
       "      <td>male</td>\n",
       "      <td>1.42</td>\n",
       "      <td>0</td>\n",
       "      <td>1</td>\n",
       "      <td>2625</td>\n",
       "      <td>8.5167</td>\n",
       "      <td>NaN</td>\n",
       "      <td>C</td>\n",
       "    </tr>\n",
       "    <tr>\n",
       "      <th>755</th>\n",
       "      <td>756</td>\n",
       "      <td>1</td>\n",
       "      <td>2</td>\n",
       "      <td>Hamalainen, Master. Viljo</td>\n",
       "      <td>male</td>\n",
       "      <td>1.67</td>\n",
       "      <td>1</td>\n",
       "      <td>1</td>\n",
       "      <td>250649</td>\n",
       "      <td>14.5000</td>\n",
       "      <td>NaN</td>\n",
       "      <td>S</td>\n",
       "    </tr>\n",
       "    <tr>\n",
       "      <th>644</th>\n",
       "      <td>645</td>\n",
       "      <td>1</td>\n",
       "      <td>3</td>\n",
       "      <td>Baclini, Miss. Eugenie</td>\n",
       "      <td>female</td>\n",
       "      <td>1.75</td>\n",
       "      <td>2</td>\n",
       "      <td>1</td>\n",
       "      <td>2666</td>\n",
       "      <td>19.2583</td>\n",
       "      <td>NaN</td>\n",
       "      <td>C</td>\n",
       "    </tr>\n",
       "    <tr>\n",
       "      <th>469</th>\n",
       "      <td>470</td>\n",
       "      <td>1</td>\n",
       "      <td>3</td>\n",
       "      <td>Baclini, Miss. Helene Barbara</td>\n",
       "      <td>female</td>\n",
       "      <td>1.75</td>\n",
       "      <td>2</td>\n",
       "      <td>1</td>\n",
       "      <td>2666</td>\n",
       "      <td>19.2583</td>\n",
       "      <td>NaN</td>\n",
       "      <td>C</td>\n",
       "    </tr>\n",
       "    <tr>\n",
       "      <th>78</th>\n",
       "      <td>79</td>\n",
       "      <td>1</td>\n",
       "      <td>2</td>\n",
       "      <td>Caldwell, Master. Alden Gates</td>\n",
       "      <td>male</td>\n",
       "      <td>1.83</td>\n",
       "      <td>0</td>\n",
       "      <td>2</td>\n",
       "      <td>248738</td>\n",
       "      <td>29.0000</td>\n",
       "      <td>NaN</td>\n",
       "      <td>S</td>\n",
       "    </tr>\n",
       "  </tbody>\n",
       "</table>\n",
       "</div>"
      ],
      "text/plain": [
       "     PassengerId  Survived  Pclass                             Name     Sex  \\\n",
       "803          804         1       3  Thomas, Master. Assad Alexander    male   \n",
       "755          756         1       2        Hamalainen, Master. Viljo    male   \n",
       "644          645         1       3           Baclini, Miss. Eugenie  female   \n",
       "469          470         1       3    Baclini, Miss. Helene Barbara  female   \n",
       "78            79         1       2    Caldwell, Master. Alden Gates    male   \n",
       "\n",
       "      Age  SibSp  Parch  Ticket     Fare Cabin Embarked  \n",
       "803  1.42      0      1    2625   8.5167   NaN        C  \n",
       "755  1.67      1      1  250649  14.5000   NaN        S  \n",
       "644  1.75      2      1    2666  19.2583   NaN        C  \n",
       "469  1.75      2      1    2666  19.2583   NaN        C  \n",
       "78   1.83      0      2  248738  29.0000   NaN        S  "
      ]
     },
     "execution_count": 130,
     "metadata": {},
     "output_type": "execute_result"
    }
   ],
   "source": [
    "# Sorting data by a column:\n",
    "\n",
    "sorted_df = df.sort_values('Age')\n",
    "\n",
    "sorted_df.head()"
   ]
  },
  {
   "cell_type": "markdown",
   "id": "cf46b3a1",
   "metadata": {
    "papermill": {
     "duration": 0.071037,
     "end_time": "2023-10-11T14:44:44.468478",
     "exception": false,
     "start_time": "2023-10-11T14:44:44.397441",
     "status": "completed"
    },
    "tags": []
   },
   "source": [
    "<div style=\"border-radius:10px; border:#DEB887 solid; padding: 15px; background-color: #FFFAF0; font-size:100%; text-align:left\">\n",
    "\n",
    "<h3 align=\"left\"><font color='#DEB887'>💡 Notes: </font></h3>\n",
    "\n",
    "* The axis parameter in Pandas DataFrame is used to specify which axis to perform an operation on.\n",
    "\n",
    "    * **axis=0**: This specifies that the operation will be performed along the rows (observations) of the DataFrame. So, when you want to perform row-wise operations, you use axis=0. This is the default for most DataFrame operations.\n",
    "    * **axis=1**: This specifies that the operation will be performed along the columns (variables) of the DataFrame. So, when you want to perform column-wise operations, you use axis=1.\n",
    "    \n",
    "* The inplace parameter in Pandas DataFrame is used to determine whether the operation will modify the current DataFrame or not. By default, in most DataFrame operations, **inplace=False**, which means the operation returns the result without modifying the original DataFrame.\n",
    "\n",
    "* However, when **inplace=True**, the operation is applied directly to the current DataFrame, and DataFrame is modified. In this case, the operation doesn't return anything, and the return value is None."
   ]
  },
  {
   "cell_type": "code",
   "execution_count": 131,
   "id": "752a0d5e",
   "metadata": {
    "execution": {
     "iopub.execute_input": "2023-10-11T14:44:44.614906Z",
     "iopub.status.busy": "2023-10-11T14:44:44.614274Z",
     "iopub.status.idle": "2023-10-11T14:44:44.624219Z",
     "shell.execute_reply": "2023-10-11T14:44:44.622473Z"
    },
    "papermill": {
     "duration": 0.084822,
     "end_time": "2023-10-11T14:44:44.627061",
     "exception": false,
     "start_time": "2023-10-11T14:44:44.542239",
     "status": "completed"
    },
    "tags": []
   },
   "outputs": [
    {
     "data": {
      "text/html": [
       "<div>\n",
       "<style scoped>\n",
       "    .dataframe tbody tr th:only-of-type {\n",
       "        vertical-align: middle;\n",
       "    }\n",
       "\n",
       "    .dataframe tbody tr th {\n",
       "        vertical-align: top;\n",
       "    }\n",
       "\n",
       "    .dataframe thead th {\n",
       "        text-align: right;\n",
       "    }\n",
       "</style>\n",
       "<table border=\"1\" class=\"dataframe\">\n",
       "  <thead>\n",
       "    <tr style=\"text-align: right;\">\n",
       "      <th></th>\n",
       "      <th>A</th>\n",
       "      <th>B</th>\n",
       "    </tr>\n",
       "  </thead>\n",
       "  <tbody>\n",
       "    <tr>\n",
       "      <th>0</th>\n",
       "      <td>1</td>\n",
       "      <td>4</td>\n",
       "    </tr>\n",
       "    <tr>\n",
       "      <th>1</th>\n",
       "      <td>2</td>\n",
       "      <td>5</td>\n",
       "    </tr>\n",
       "    <tr>\n",
       "      <th>2</th>\n",
       "      <td>3</td>\n",
       "      <td>6</td>\n",
       "    </tr>\n",
       "  </tbody>\n",
       "</table>\n",
       "</div>"
      ],
      "text/plain": [
       "   A  B\n",
       "0  1  4\n",
       "1  2  5\n",
       "2  3  6"
      ]
     },
     "execution_count": 131,
     "metadata": {},
     "output_type": "execute_result"
    }
   ],
   "source": [
    "import pandas as pd\n",
    "\n",
    "# Let's create a DataFrame:\n",
    "\n",
    "data = {\n",
    "    'A': [1, 2, 3],\n",
    "    'B': [4, 5, 6]\n",
    "}\n",
    "\n",
    "df = pd.DataFrame(data)\n",
    "\n",
    "df"
   ]
  },
  {
   "cell_type": "code",
   "execution_count": 132,
   "id": "43811d8f",
   "metadata": {
    "execution": {
     "iopub.execute_input": "2023-10-11T14:44:44.773076Z",
     "iopub.status.busy": "2023-10-11T14:44:44.772711Z",
     "iopub.status.idle": "2023-10-11T14:44:44.781566Z",
     "shell.execute_reply": "2023-10-11T14:44:44.780099Z"
    },
    "papermill": {
     "duration": 0.085549,
     "end_time": "2023-10-11T14:44:44.783633",
     "exception": false,
     "start_time": "2023-10-11T14:44:44.698084",
     "status": "completed"
    },
    "tags": []
   },
   "outputs": [
    {
     "data": {
      "text/plain": [
       "A     6\n",
       "B    15\n",
       "dtype: int64"
      ]
     },
     "execution_count": 132,
     "metadata": {},
     "output_type": "execute_result"
    }
   ],
   "source": [
    "# Usage of axis (Summing along the rows):\n",
    "\n",
    "data = df.sum(axis=0)\n",
    "\n",
    "data"
   ]
  },
  {
   "cell_type": "code",
   "execution_count": 133,
   "id": "4a5550fb",
   "metadata": {
    "execution": {
     "iopub.execute_input": "2023-10-11T14:44:44.929660Z",
     "iopub.status.busy": "2023-10-11T14:44:44.929267Z",
     "iopub.status.idle": "2023-10-11T14:44:44.937291Z",
     "shell.execute_reply": "2023-10-11T14:44:44.936006Z"
    },
    "papermill": {
     "duration": 0.082173,
     "end_time": "2023-10-11T14:44:44.939435",
     "exception": false,
     "start_time": "2023-10-11T14:44:44.857262",
     "status": "completed"
    },
    "tags": []
   },
   "outputs": [
    {
     "data": {
      "text/plain": [
       "0    5\n",
       "1    7\n",
       "2    9\n",
       "dtype: int64"
      ]
     },
     "execution_count": 133,
     "metadata": {},
     "output_type": "execute_result"
    }
   ],
   "source": [
    "# Usage of axis (Summing along the columns):\n",
    "\n",
    "data = df.sum(axis=1)\n",
    "\n",
    "data"
   ]
  },
  {
   "cell_type": "markdown",
   "id": "3611b0ec",
   "metadata": {
    "papermill": {
     "duration": 0.139534,
     "end_time": "2023-10-11T14:44:45.151432",
     "exception": false,
     "start_time": "2023-10-11T14:44:45.011898",
     "status": "completed"
    },
    "tags": []
   },
   "source": [
    "* **Selection in Pandas:**"
   ]
  },
  {
   "cell_type": "code",
   "execution_count": 134,
   "id": "757ced8d",
   "metadata": {
    "execution": {
     "iopub.execute_input": "2023-10-11T14:44:45.291734Z",
     "iopub.status.busy": "2023-10-11T14:44:45.290780Z",
     "iopub.status.idle": "2023-10-11T14:44:45.301279Z",
     "shell.execute_reply": "2023-10-11T14:44:45.299784Z"
    },
    "papermill": {
     "duration": 0.081761,
     "end_time": "2023-10-11T14:44:45.303888",
     "exception": false,
     "start_time": "2023-10-11T14:44:45.222127",
     "status": "completed"
    },
    "tags": []
   },
   "outputs": [],
   "source": [
    "import pandas as pd\n",
    "import seaborn as sns\n",
    "\n",
    "df = pd.read_csv('/kaggle/input/titanic/train.csv')"
   ]
  },
  {
   "cell_type": "code",
   "execution_count": 135,
   "id": "7fbccff9",
   "metadata": {
    "execution": {
     "iopub.execute_input": "2023-10-11T14:44:45.444728Z",
     "iopub.status.busy": "2023-10-11T14:44:45.444352Z",
     "iopub.status.idle": "2023-10-11T14:44:45.461936Z",
     "shell.execute_reply": "2023-10-11T14:44:45.460655Z"
    },
    "papermill": {
     "duration": 0.091622,
     "end_time": "2023-10-11T14:44:45.464489",
     "exception": false,
     "start_time": "2023-10-11T14:44:45.372867",
     "status": "completed"
    },
    "tags": []
   },
   "outputs": [
    {
     "data": {
      "text/html": [
       "<div>\n",
       "<style scoped>\n",
       "    .dataframe tbody tr th:only-of-type {\n",
       "        vertical-align: middle;\n",
       "    }\n",
       "\n",
       "    .dataframe tbody tr th {\n",
       "        vertical-align: top;\n",
       "    }\n",
       "\n",
       "    .dataframe thead th {\n",
       "        text-align: right;\n",
       "    }\n",
       "</style>\n",
       "<table border=\"1\" class=\"dataframe\">\n",
       "  <thead>\n",
       "    <tr style=\"text-align: right;\">\n",
       "      <th></th>\n",
       "      <th>PassengerId</th>\n",
       "      <th>Survived</th>\n",
       "      <th>Pclass</th>\n",
       "      <th>Name</th>\n",
       "      <th>Sex</th>\n",
       "      <th>Age</th>\n",
       "      <th>SibSp</th>\n",
       "      <th>Parch</th>\n",
       "      <th>Ticket</th>\n",
       "      <th>Fare</th>\n",
       "      <th>Cabin</th>\n",
       "      <th>Embarked</th>\n",
       "    </tr>\n",
       "  </thead>\n",
       "  <tbody>\n",
       "    <tr>\n",
       "      <th>0</th>\n",
       "      <td>1</td>\n",
       "      <td>0</td>\n",
       "      <td>3</td>\n",
       "      <td>Braund, Mr. Owen Harris</td>\n",
       "      <td>male</td>\n",
       "      <td>22.0</td>\n",
       "      <td>1</td>\n",
       "      <td>0</td>\n",
       "      <td>A/5 21171</td>\n",
       "      <td>7.2500</td>\n",
       "      <td>NaN</td>\n",
       "      <td>S</td>\n",
       "    </tr>\n",
       "    <tr>\n",
       "      <th>1</th>\n",
       "      <td>2</td>\n",
       "      <td>1</td>\n",
       "      <td>1</td>\n",
       "      <td>Cumings, Mrs. John Bradley (Florence Briggs Th...</td>\n",
       "      <td>female</td>\n",
       "      <td>38.0</td>\n",
       "      <td>1</td>\n",
       "      <td>0</td>\n",
       "      <td>PC 17599</td>\n",
       "      <td>71.2833</td>\n",
       "      <td>C85</td>\n",
       "      <td>C</td>\n",
       "    </tr>\n",
       "    <tr>\n",
       "      <th>2</th>\n",
       "      <td>3</td>\n",
       "      <td>1</td>\n",
       "      <td>3</td>\n",
       "      <td>Heikkinen, Miss. Laina</td>\n",
       "      <td>female</td>\n",
       "      <td>26.0</td>\n",
       "      <td>0</td>\n",
       "      <td>0</td>\n",
       "      <td>STON/O2. 3101282</td>\n",
       "      <td>7.9250</td>\n",
       "      <td>NaN</td>\n",
       "      <td>S</td>\n",
       "    </tr>\n",
       "    <tr>\n",
       "      <th>3</th>\n",
       "      <td>4</td>\n",
       "      <td>1</td>\n",
       "      <td>1</td>\n",
       "      <td>Futrelle, Mrs. Jacques Heath (Lily May Peel)</td>\n",
       "      <td>female</td>\n",
       "      <td>35.0</td>\n",
       "      <td>1</td>\n",
       "      <td>0</td>\n",
       "      <td>113803</td>\n",
       "      <td>53.1000</td>\n",
       "      <td>C123</td>\n",
       "      <td>S</td>\n",
       "    </tr>\n",
       "    <tr>\n",
       "      <th>4</th>\n",
       "      <td>5</td>\n",
       "      <td>0</td>\n",
       "      <td>3</td>\n",
       "      <td>Allen, Mr. William Henry</td>\n",
       "      <td>male</td>\n",
       "      <td>35.0</td>\n",
       "      <td>0</td>\n",
       "      <td>0</td>\n",
       "      <td>373450</td>\n",
       "      <td>8.0500</td>\n",
       "      <td>NaN</td>\n",
       "      <td>S</td>\n",
       "    </tr>\n",
       "    <tr>\n",
       "      <th>5</th>\n",
       "      <td>6</td>\n",
       "      <td>0</td>\n",
       "      <td>3</td>\n",
       "      <td>Moran, Mr. James</td>\n",
       "      <td>male</td>\n",
       "      <td>NaN</td>\n",
       "      <td>0</td>\n",
       "      <td>0</td>\n",
       "      <td>330877</td>\n",
       "      <td>8.4583</td>\n",
       "      <td>NaN</td>\n",
       "      <td>Q</td>\n",
       "    </tr>\n",
       "    <tr>\n",
       "      <th>6</th>\n",
       "      <td>7</td>\n",
       "      <td>0</td>\n",
       "      <td>1</td>\n",
       "      <td>McCarthy, Mr. Timothy J</td>\n",
       "      <td>male</td>\n",
       "      <td>54.0</td>\n",
       "      <td>0</td>\n",
       "      <td>0</td>\n",
       "      <td>17463</td>\n",
       "      <td>51.8625</td>\n",
       "      <td>E46</td>\n",
       "      <td>S</td>\n",
       "    </tr>\n",
       "    <tr>\n",
       "      <th>7</th>\n",
       "      <td>8</td>\n",
       "      <td>0</td>\n",
       "      <td>3</td>\n",
       "      <td>Palsson, Master. Gosta Leonard</td>\n",
       "      <td>male</td>\n",
       "      <td>2.0</td>\n",
       "      <td>3</td>\n",
       "      <td>1</td>\n",
       "      <td>349909</td>\n",
       "      <td>21.0750</td>\n",
       "      <td>NaN</td>\n",
       "      <td>S</td>\n",
       "    </tr>\n",
       "  </tbody>\n",
       "</table>\n",
       "</div>"
      ],
      "text/plain": [
       "   PassengerId  Survived  Pclass  \\\n",
       "0            1         0       3   \n",
       "1            2         1       1   \n",
       "2            3         1       3   \n",
       "3            4         1       1   \n",
       "4            5         0       3   \n",
       "5            6         0       3   \n",
       "6            7         0       1   \n",
       "7            8         0       3   \n",
       "\n",
       "                                                Name     Sex   Age  SibSp  \\\n",
       "0                            Braund, Mr. Owen Harris    male  22.0      1   \n",
       "1  Cumings, Mrs. John Bradley (Florence Briggs Th...  female  38.0      1   \n",
       "2                             Heikkinen, Miss. Laina  female  26.0      0   \n",
       "3       Futrelle, Mrs. Jacques Heath (Lily May Peel)  female  35.0      1   \n",
       "4                           Allen, Mr. William Henry    male  35.0      0   \n",
       "5                                   Moran, Mr. James    male   NaN      0   \n",
       "6                            McCarthy, Mr. Timothy J    male  54.0      0   \n",
       "7                     Palsson, Master. Gosta Leonard    male   2.0      3   \n",
       "\n",
       "   Parch            Ticket     Fare Cabin Embarked  \n",
       "0      0         A/5 21171   7.2500   NaN        S  \n",
       "1      0          PC 17599  71.2833   C85        C  \n",
       "2      0  STON/O2. 3101282   7.9250   NaN        S  \n",
       "3      0            113803  53.1000  C123        S  \n",
       "4      0            373450   8.0500   NaN        S  \n",
       "5      0            330877   8.4583   NaN        Q  \n",
       "6      0             17463  51.8625   E46        S  \n",
       "7      1            349909  21.0750   NaN        S  "
      ]
     },
     "execution_count": 135,
     "metadata": {},
     "output_type": "execute_result"
    }
   ],
   "source": [
    "df[0:8]"
   ]
  },
  {
   "cell_type": "code",
   "execution_count": 136,
   "id": "600eee86",
   "metadata": {
    "execution": {
     "iopub.execute_input": "2023-10-11T14:44:45.615503Z",
     "iopub.status.busy": "2023-10-11T14:44:45.615026Z",
     "iopub.status.idle": "2023-10-11T14:44:45.631155Z",
     "shell.execute_reply": "2023-10-11T14:44:45.630006Z"
    },
    "papermill": {
     "duration": 0.09557,
     "end_time": "2023-10-11T14:44:45.633436",
     "exception": false,
     "start_time": "2023-10-11T14:44:45.537866",
     "status": "completed"
    },
    "tags": []
   },
   "outputs": [
    {
     "data": {
      "text/html": [
       "<div>\n",
       "<style scoped>\n",
       "    .dataframe tbody tr th:only-of-type {\n",
       "        vertical-align: middle;\n",
       "    }\n",
       "\n",
       "    .dataframe tbody tr th {\n",
       "        vertical-align: top;\n",
       "    }\n",
       "\n",
       "    .dataframe thead th {\n",
       "        text-align: right;\n",
       "    }\n",
       "</style>\n",
       "<table border=\"1\" class=\"dataframe\">\n",
       "  <thead>\n",
       "    <tr style=\"text-align: right;\">\n",
       "      <th></th>\n",
       "      <th>PassengerId</th>\n",
       "      <th>Survived</th>\n",
       "      <th>Pclass</th>\n",
       "      <th>Name</th>\n",
       "      <th>Sex</th>\n",
       "      <th>Age</th>\n",
       "      <th>SibSp</th>\n",
       "      <th>Parch</th>\n",
       "      <th>Ticket</th>\n",
       "      <th>Fare</th>\n",
       "      <th>Cabin</th>\n",
       "      <th>Embarked</th>\n",
       "    </tr>\n",
       "  </thead>\n",
       "  <tbody>\n",
       "    <tr>\n",
       "      <th>1</th>\n",
       "      <td>2</td>\n",
       "      <td>1</td>\n",
       "      <td>1</td>\n",
       "      <td>Cumings, Mrs. John Bradley (Florence Briggs Th...</td>\n",
       "      <td>female</td>\n",
       "      <td>38.0</td>\n",
       "      <td>1</td>\n",
       "      <td>0</td>\n",
       "      <td>PC 17599</td>\n",
       "      <td>71.2833</td>\n",
       "      <td>C85</td>\n",
       "      <td>C</td>\n",
       "    </tr>\n",
       "    <tr>\n",
       "      <th>2</th>\n",
       "      <td>3</td>\n",
       "      <td>1</td>\n",
       "      <td>3</td>\n",
       "      <td>Heikkinen, Miss. Laina</td>\n",
       "      <td>female</td>\n",
       "      <td>26.0</td>\n",
       "      <td>0</td>\n",
       "      <td>0</td>\n",
       "      <td>STON/O2. 3101282</td>\n",
       "      <td>7.9250</td>\n",
       "      <td>NaN</td>\n",
       "      <td>S</td>\n",
       "    </tr>\n",
       "    <tr>\n",
       "      <th>3</th>\n",
       "      <td>4</td>\n",
       "      <td>1</td>\n",
       "      <td>1</td>\n",
       "      <td>Futrelle, Mrs. Jacques Heath (Lily May Peel)</td>\n",
       "      <td>female</td>\n",
       "      <td>35.0</td>\n",
       "      <td>1</td>\n",
       "      <td>0</td>\n",
       "      <td>113803</td>\n",
       "      <td>53.1000</td>\n",
       "      <td>C123</td>\n",
       "      <td>S</td>\n",
       "    </tr>\n",
       "    <tr>\n",
       "      <th>4</th>\n",
       "      <td>5</td>\n",
       "      <td>0</td>\n",
       "      <td>3</td>\n",
       "      <td>Allen, Mr. William Henry</td>\n",
       "      <td>male</td>\n",
       "      <td>35.0</td>\n",
       "      <td>0</td>\n",
       "      <td>0</td>\n",
       "      <td>373450</td>\n",
       "      <td>8.0500</td>\n",
       "      <td>NaN</td>\n",
       "      <td>S</td>\n",
       "    </tr>\n",
       "    <tr>\n",
       "      <th>5</th>\n",
       "      <td>6</td>\n",
       "      <td>0</td>\n",
       "      <td>3</td>\n",
       "      <td>Moran, Mr. James</td>\n",
       "      <td>male</td>\n",
       "      <td>NaN</td>\n",
       "      <td>0</td>\n",
       "      <td>0</td>\n",
       "      <td>330877</td>\n",
       "      <td>8.4583</td>\n",
       "      <td>NaN</td>\n",
       "      <td>Q</td>\n",
       "    </tr>\n",
       "  </tbody>\n",
       "</table>\n",
       "</div>"
      ],
      "text/plain": [
       "   PassengerId  Survived  Pclass  \\\n",
       "1            2         1       1   \n",
       "2            3         1       3   \n",
       "3            4         1       1   \n",
       "4            5         0       3   \n",
       "5            6         0       3   \n",
       "\n",
       "                                                Name     Sex   Age  SibSp  \\\n",
       "1  Cumings, Mrs. John Bradley (Florence Briggs Th...  female  38.0      1   \n",
       "2                             Heikkinen, Miss. Laina  female  26.0      0   \n",
       "3       Futrelle, Mrs. Jacques Heath (Lily May Peel)  female  35.0      1   \n",
       "4                           Allen, Mr. William Henry    male  35.0      0   \n",
       "5                                   Moran, Mr. James    male   NaN      0   \n",
       "\n",
       "   Parch            Ticket     Fare Cabin Embarked  \n",
       "1      0          PC 17599  71.2833   C85        C  \n",
       "2      0  STON/O2. 3101282   7.9250   NaN        S  \n",
       "3      0            113803  53.1000  C123        S  \n",
       "4      0            373450   8.0500   NaN        S  \n",
       "5      0            330877   8.4583   NaN        Q  "
      ]
     },
     "execution_count": 136,
     "metadata": {},
     "output_type": "execute_result"
    }
   ],
   "source": [
    "df.drop(0, axis=0).head()"
   ]
  },
  {
   "cell_type": "code",
   "execution_count": 137,
   "id": "461c6384",
   "metadata": {
    "execution": {
     "iopub.execute_input": "2023-10-11T14:44:45.778620Z",
     "iopub.status.busy": "2023-10-11T14:44:45.777551Z",
     "iopub.status.idle": "2023-10-11T14:44:45.795333Z",
     "shell.execute_reply": "2023-10-11T14:44:45.793998Z"
    },
    "papermill": {
     "duration": 0.093126,
     "end_time": "2023-10-11T14:44:45.799333",
     "exception": false,
     "start_time": "2023-10-11T14:44:45.706207",
     "status": "completed"
    },
    "tags": []
   },
   "outputs": [
    {
     "data": {
      "text/html": [
       "<div>\n",
       "<style scoped>\n",
       "    .dataframe tbody tr th:only-of-type {\n",
       "        vertical-align: middle;\n",
       "    }\n",
       "\n",
       "    .dataframe tbody tr th {\n",
       "        vertical-align: top;\n",
       "    }\n",
       "\n",
       "    .dataframe thead th {\n",
       "        text-align: right;\n",
       "    }\n",
       "</style>\n",
       "<table border=\"1\" class=\"dataframe\">\n",
       "  <thead>\n",
       "    <tr style=\"text-align: right;\">\n",
       "      <th></th>\n",
       "      <th>PassengerId</th>\n",
       "      <th>Survived</th>\n",
       "      <th>Pclass</th>\n",
       "      <th>Name</th>\n",
       "      <th>Sex</th>\n",
       "      <th>Age</th>\n",
       "      <th>SibSp</th>\n",
       "      <th>Parch</th>\n",
       "      <th>Ticket</th>\n",
       "      <th>Fare</th>\n",
       "      <th>Cabin</th>\n",
       "      <th>Embarked</th>\n",
       "    </tr>\n",
       "  </thead>\n",
       "  <tbody>\n",
       "    <tr>\n",
       "      <th>0</th>\n",
       "      <td>1</td>\n",
       "      <td>0</td>\n",
       "      <td>3</td>\n",
       "      <td>Braund, Mr. Owen Harris</td>\n",
       "      <td>male</td>\n",
       "      <td>22.0</td>\n",
       "      <td>1</td>\n",
       "      <td>0</td>\n",
       "      <td>A/5 21171</td>\n",
       "      <td>7.2500</td>\n",
       "      <td>NaN</td>\n",
       "      <td>S</td>\n",
       "    </tr>\n",
       "    <tr>\n",
       "      <th>2</th>\n",
       "      <td>3</td>\n",
       "      <td>1</td>\n",
       "      <td>3</td>\n",
       "      <td>Heikkinen, Miss. Laina</td>\n",
       "      <td>female</td>\n",
       "      <td>26.0</td>\n",
       "      <td>0</td>\n",
       "      <td>0</td>\n",
       "      <td>STON/O2. 3101282</td>\n",
       "      <td>7.9250</td>\n",
       "      <td>NaN</td>\n",
       "      <td>S</td>\n",
       "    </tr>\n",
       "    <tr>\n",
       "      <th>4</th>\n",
       "      <td>5</td>\n",
       "      <td>0</td>\n",
       "      <td>3</td>\n",
       "      <td>Allen, Mr. William Henry</td>\n",
       "      <td>male</td>\n",
       "      <td>35.0</td>\n",
       "      <td>0</td>\n",
       "      <td>0</td>\n",
       "      <td>373450</td>\n",
       "      <td>8.0500</td>\n",
       "      <td>NaN</td>\n",
       "      <td>S</td>\n",
       "    </tr>\n",
       "    <tr>\n",
       "      <th>6</th>\n",
       "      <td>7</td>\n",
       "      <td>0</td>\n",
       "      <td>1</td>\n",
       "      <td>McCarthy, Mr. Timothy J</td>\n",
       "      <td>male</td>\n",
       "      <td>54.0</td>\n",
       "      <td>0</td>\n",
       "      <td>0</td>\n",
       "      <td>17463</td>\n",
       "      <td>51.8625</td>\n",
       "      <td>E46</td>\n",
       "      <td>S</td>\n",
       "    </tr>\n",
       "    <tr>\n",
       "      <th>8</th>\n",
       "      <td>9</td>\n",
       "      <td>1</td>\n",
       "      <td>3</td>\n",
       "      <td>Johnson, Mrs. Oscar W (Elisabeth Vilhelmina Berg)</td>\n",
       "      <td>female</td>\n",
       "      <td>27.0</td>\n",
       "      <td>0</td>\n",
       "      <td>2</td>\n",
       "      <td>347742</td>\n",
       "      <td>11.1333</td>\n",
       "      <td>NaN</td>\n",
       "      <td>S</td>\n",
       "    </tr>\n",
       "    <tr>\n",
       "      <th>9</th>\n",
       "      <td>10</td>\n",
       "      <td>1</td>\n",
       "      <td>2</td>\n",
       "      <td>Nasser, Mrs. Nicholas (Adele Achem)</td>\n",
       "      <td>female</td>\n",
       "      <td>14.0</td>\n",
       "      <td>1</td>\n",
       "      <td>0</td>\n",
       "      <td>237736</td>\n",
       "      <td>30.0708</td>\n",
       "      <td>NaN</td>\n",
       "      <td>C</td>\n",
       "    </tr>\n",
       "    <tr>\n",
       "      <th>10</th>\n",
       "      <td>11</td>\n",
       "      <td>1</td>\n",
       "      <td>3</td>\n",
       "      <td>Sandstrom, Miss. Marguerite Rut</td>\n",
       "      <td>female</td>\n",
       "      <td>4.0</td>\n",
       "      <td>1</td>\n",
       "      <td>1</td>\n",
       "      <td>PP 9549</td>\n",
       "      <td>16.7000</td>\n",
       "      <td>G6</td>\n",
       "      <td>S</td>\n",
       "    </tr>\n",
       "    <tr>\n",
       "      <th>11</th>\n",
       "      <td>12</td>\n",
       "      <td>1</td>\n",
       "      <td>1</td>\n",
       "      <td>Bonnell, Miss. Elizabeth</td>\n",
       "      <td>female</td>\n",
       "      <td>58.0</td>\n",
       "      <td>0</td>\n",
       "      <td>0</td>\n",
       "      <td>113783</td>\n",
       "      <td>26.5500</td>\n",
       "      <td>C103</td>\n",
       "      <td>S</td>\n",
       "    </tr>\n",
       "    <tr>\n",
       "      <th>12</th>\n",
       "      <td>13</td>\n",
       "      <td>0</td>\n",
       "      <td>3</td>\n",
       "      <td>Saundercock, Mr. William Henry</td>\n",
       "      <td>male</td>\n",
       "      <td>20.0</td>\n",
       "      <td>0</td>\n",
       "      <td>0</td>\n",
       "      <td>A/5. 2151</td>\n",
       "      <td>8.0500</td>\n",
       "      <td>NaN</td>\n",
       "      <td>S</td>\n",
       "    </tr>\n",
       "    <tr>\n",
       "      <th>13</th>\n",
       "      <td>14</td>\n",
       "      <td>0</td>\n",
       "      <td>3</td>\n",
       "      <td>Andersson, Mr. Anders Johan</td>\n",
       "      <td>male</td>\n",
       "      <td>39.0</td>\n",
       "      <td>1</td>\n",
       "      <td>5</td>\n",
       "      <td>347082</td>\n",
       "      <td>31.2750</td>\n",
       "      <td>NaN</td>\n",
       "      <td>S</td>\n",
       "    </tr>\n",
       "  </tbody>\n",
       "</table>\n",
       "</div>"
      ],
      "text/plain": [
       "    PassengerId  Survived  Pclass  \\\n",
       "0             1         0       3   \n",
       "2             3         1       3   \n",
       "4             5         0       3   \n",
       "6             7         0       1   \n",
       "8             9         1       3   \n",
       "9            10         1       2   \n",
       "10           11         1       3   \n",
       "11           12         1       1   \n",
       "12           13         0       3   \n",
       "13           14         0       3   \n",
       "\n",
       "                                                 Name     Sex   Age  SibSp  \\\n",
       "0                             Braund, Mr. Owen Harris    male  22.0      1   \n",
       "2                              Heikkinen, Miss. Laina  female  26.0      0   \n",
       "4                            Allen, Mr. William Henry    male  35.0      0   \n",
       "6                             McCarthy, Mr. Timothy J    male  54.0      0   \n",
       "8   Johnson, Mrs. Oscar W (Elisabeth Vilhelmina Berg)  female  27.0      0   \n",
       "9                 Nasser, Mrs. Nicholas (Adele Achem)  female  14.0      1   \n",
       "10                    Sandstrom, Miss. Marguerite Rut  female   4.0      1   \n",
       "11                           Bonnell, Miss. Elizabeth  female  58.0      0   \n",
       "12                     Saundercock, Mr. William Henry    male  20.0      0   \n",
       "13                        Andersson, Mr. Anders Johan    male  39.0      1   \n",
       "\n",
       "    Parch            Ticket     Fare Cabin Embarked  \n",
       "0       0         A/5 21171   7.2500   NaN        S  \n",
       "2       0  STON/O2. 3101282   7.9250   NaN        S  \n",
       "4       0            373450   8.0500   NaN        S  \n",
       "6       0             17463  51.8625   E46        S  \n",
       "8       2            347742  11.1333   NaN        S  \n",
       "9       0            237736  30.0708   NaN        C  \n",
       "10      1           PP 9549  16.7000    G6        S  \n",
       "11      0            113783  26.5500  C103        S  \n",
       "12      0         A/5. 2151   8.0500   NaN        S  \n",
       "13      5            347082  31.2750   NaN        S  "
      ]
     },
     "execution_count": 137,
     "metadata": {},
     "output_type": "execute_result"
    }
   ],
   "source": [
    "delete_indexes = [1, 3, 5, 7]\n",
    "\n",
    "df.drop(delete_indexes, axis=0).head(10)"
   ]
  },
  {
   "cell_type": "markdown",
   "id": "4ccbda9b",
   "metadata": {
    "papermill": {
     "duration": 0.068963,
     "end_time": "2023-10-11T14:44:45.939778",
     "exception": false,
     "start_time": "2023-10-11T14:44:45.870815",
     "status": "completed"
    },
    "tags": []
   },
   "source": [
    "* **Converting Variable to Index:**"
   ]
  },
  {
   "cell_type": "code",
   "execution_count": 138,
   "id": "30de6ad6",
   "metadata": {
    "execution": {
     "iopub.execute_input": "2023-10-11T14:44:46.081699Z",
     "iopub.status.busy": "2023-10-11T14:44:46.080893Z",
     "iopub.status.idle": "2023-10-11T14:44:46.089623Z",
     "shell.execute_reply": "2023-10-11T14:44:46.088331Z"
    },
    "papermill": {
     "duration": 0.083357,
     "end_time": "2023-10-11T14:44:46.092625",
     "exception": false,
     "start_time": "2023-10-11T14:44:46.009268",
     "status": "completed"
    },
    "tags": []
   },
   "outputs": [
    {
     "data": {
      "text/plain": [
       "0    22.0\n",
       "1    38.0\n",
       "2    26.0\n",
       "3    35.0\n",
       "4    35.0\n",
       "Name: Age, dtype: float64"
      ]
     },
     "execution_count": 138,
     "metadata": {},
     "output_type": "execute_result"
    }
   ],
   "source": [
    "df[\"Age\"].head()"
   ]
  },
  {
   "cell_type": "code",
   "execution_count": 139,
   "id": "aacba409",
   "metadata": {
    "execution": {
     "iopub.execute_input": "2023-10-11T14:44:46.237522Z",
     "iopub.status.busy": "2023-10-11T14:44:46.236860Z",
     "iopub.status.idle": "2023-10-11T14:44:46.242359Z",
     "shell.execute_reply": "2023-10-11T14:44:46.240850Z"
    },
    "papermill": {
     "duration": 0.08105,
     "end_time": "2023-10-11T14:44:46.245201",
     "exception": false,
     "start_time": "2023-10-11T14:44:46.164151",
     "status": "completed"
    },
    "tags": []
   },
   "outputs": [],
   "source": [
    "df.index = df[\"Age\"]"
   ]
  },
  {
   "cell_type": "code",
   "execution_count": 140,
   "id": "2a0c9f57",
   "metadata": {
    "execution": {
     "iopub.execute_input": "2023-10-11T14:44:46.390901Z",
     "iopub.status.busy": "2023-10-11T14:44:46.390273Z",
     "iopub.status.idle": "2023-10-11T14:44:46.406034Z",
     "shell.execute_reply": "2023-10-11T14:44:46.405136Z"
    },
    "papermill": {
     "duration": 0.09235,
     "end_time": "2023-10-11T14:44:46.408508",
     "exception": false,
     "start_time": "2023-10-11T14:44:46.316158",
     "status": "completed"
    },
    "tags": []
   },
   "outputs": [
    {
     "data": {
      "text/html": [
       "<div>\n",
       "<style scoped>\n",
       "    .dataframe tbody tr th:only-of-type {\n",
       "        vertical-align: middle;\n",
       "    }\n",
       "\n",
       "    .dataframe tbody tr th {\n",
       "        vertical-align: top;\n",
       "    }\n",
       "\n",
       "    .dataframe thead th {\n",
       "        text-align: right;\n",
       "    }\n",
       "</style>\n",
       "<table border=\"1\" class=\"dataframe\">\n",
       "  <thead>\n",
       "    <tr style=\"text-align: right;\">\n",
       "      <th></th>\n",
       "      <th>PassengerId</th>\n",
       "      <th>Survived</th>\n",
       "      <th>Pclass</th>\n",
       "      <th>Name</th>\n",
       "      <th>Sex</th>\n",
       "      <th>SibSp</th>\n",
       "      <th>Parch</th>\n",
       "      <th>Ticket</th>\n",
       "      <th>Fare</th>\n",
       "      <th>Cabin</th>\n",
       "      <th>Embarked</th>\n",
       "    </tr>\n",
       "    <tr>\n",
       "      <th>Age</th>\n",
       "      <th></th>\n",
       "      <th></th>\n",
       "      <th></th>\n",
       "      <th></th>\n",
       "      <th></th>\n",
       "      <th></th>\n",
       "      <th></th>\n",
       "      <th></th>\n",
       "      <th></th>\n",
       "      <th></th>\n",
       "      <th></th>\n",
       "    </tr>\n",
       "  </thead>\n",
       "  <tbody>\n",
       "    <tr>\n",
       "      <th>22.0</th>\n",
       "      <td>1</td>\n",
       "      <td>0</td>\n",
       "      <td>3</td>\n",
       "      <td>Braund, Mr. Owen Harris</td>\n",
       "      <td>male</td>\n",
       "      <td>1</td>\n",
       "      <td>0</td>\n",
       "      <td>A/5 21171</td>\n",
       "      <td>7.2500</td>\n",
       "      <td>NaN</td>\n",
       "      <td>S</td>\n",
       "    </tr>\n",
       "    <tr>\n",
       "      <th>38.0</th>\n",
       "      <td>2</td>\n",
       "      <td>1</td>\n",
       "      <td>1</td>\n",
       "      <td>Cumings, Mrs. John Bradley (Florence Briggs Th...</td>\n",
       "      <td>female</td>\n",
       "      <td>1</td>\n",
       "      <td>0</td>\n",
       "      <td>PC 17599</td>\n",
       "      <td>71.2833</td>\n",
       "      <td>C85</td>\n",
       "      <td>C</td>\n",
       "    </tr>\n",
       "    <tr>\n",
       "      <th>26.0</th>\n",
       "      <td>3</td>\n",
       "      <td>1</td>\n",
       "      <td>3</td>\n",
       "      <td>Heikkinen, Miss. Laina</td>\n",
       "      <td>female</td>\n",
       "      <td>0</td>\n",
       "      <td>0</td>\n",
       "      <td>STON/O2. 3101282</td>\n",
       "      <td>7.9250</td>\n",
       "      <td>NaN</td>\n",
       "      <td>S</td>\n",
       "    </tr>\n",
       "    <tr>\n",
       "      <th>35.0</th>\n",
       "      <td>4</td>\n",
       "      <td>1</td>\n",
       "      <td>1</td>\n",
       "      <td>Futrelle, Mrs. Jacques Heath (Lily May Peel)</td>\n",
       "      <td>female</td>\n",
       "      <td>1</td>\n",
       "      <td>0</td>\n",
       "      <td>113803</td>\n",
       "      <td>53.1000</td>\n",
       "      <td>C123</td>\n",
       "      <td>S</td>\n",
       "    </tr>\n",
       "    <tr>\n",
       "      <th>35.0</th>\n",
       "      <td>5</td>\n",
       "      <td>0</td>\n",
       "      <td>3</td>\n",
       "      <td>Allen, Mr. William Henry</td>\n",
       "      <td>male</td>\n",
       "      <td>0</td>\n",
       "      <td>0</td>\n",
       "      <td>373450</td>\n",
       "      <td>8.0500</td>\n",
       "      <td>NaN</td>\n",
       "      <td>S</td>\n",
       "    </tr>\n",
       "  </tbody>\n",
       "</table>\n",
       "</div>"
      ],
      "text/plain": [
       "      PassengerId  Survived  Pclass  \\\n",
       "Age                                   \n",
       "22.0            1         0       3   \n",
       "38.0            2         1       1   \n",
       "26.0            3         1       3   \n",
       "35.0            4         1       1   \n",
       "35.0            5         0       3   \n",
       "\n",
       "                                                   Name     Sex  SibSp  Parch  \\\n",
       "Age                                                                             \n",
       "22.0                            Braund, Mr. Owen Harris    male      1      0   \n",
       "38.0  Cumings, Mrs. John Bradley (Florence Briggs Th...  female      1      0   \n",
       "26.0                             Heikkinen, Miss. Laina  female      0      0   \n",
       "35.0       Futrelle, Mrs. Jacques Heath (Lily May Peel)  female      1      0   \n",
       "35.0                           Allen, Mr. William Henry    male      0      0   \n",
       "\n",
       "                Ticket     Fare Cabin Embarked  \n",
       "Age                                             \n",
       "22.0         A/5 21171   7.2500   NaN        S  \n",
       "38.0          PC 17599  71.2833   C85        C  \n",
       "26.0  STON/O2. 3101282   7.9250   NaN        S  \n",
       "35.0            113803  53.1000  C123        S  \n",
       "35.0            373450   8.0500   NaN        S  "
      ]
     },
     "execution_count": 140,
     "metadata": {},
     "output_type": "execute_result"
    }
   ],
   "source": [
    "df.drop(\"Age\", axis=1).head()"
   ]
  },
  {
   "cell_type": "code",
   "execution_count": 141,
   "id": "800fa073",
   "metadata": {
    "execution": {
     "iopub.execute_input": "2023-10-11T14:44:46.555098Z",
     "iopub.status.busy": "2023-10-11T14:44:46.554714Z",
     "iopub.status.idle": "2023-10-11T14:44:46.572701Z",
     "shell.execute_reply": "2023-10-11T14:44:46.571756Z"
    },
    "papermill": {
     "duration": 0.092575,
     "end_time": "2023-10-11T14:44:46.574959",
     "exception": false,
     "start_time": "2023-10-11T14:44:46.482384",
     "status": "completed"
    },
    "tags": []
   },
   "outputs": [
    {
     "data": {
      "text/html": [
       "<div>\n",
       "<style scoped>\n",
       "    .dataframe tbody tr th:only-of-type {\n",
       "        vertical-align: middle;\n",
       "    }\n",
       "\n",
       "    .dataframe tbody tr th {\n",
       "        vertical-align: top;\n",
       "    }\n",
       "\n",
       "    .dataframe thead th {\n",
       "        text-align: right;\n",
       "    }\n",
       "</style>\n",
       "<table border=\"1\" class=\"dataframe\">\n",
       "  <thead>\n",
       "    <tr style=\"text-align: right;\">\n",
       "      <th></th>\n",
       "      <th>PassengerId</th>\n",
       "      <th>Survived</th>\n",
       "      <th>Pclass</th>\n",
       "      <th>Name</th>\n",
       "      <th>Sex</th>\n",
       "      <th>SibSp</th>\n",
       "      <th>Parch</th>\n",
       "      <th>Ticket</th>\n",
       "      <th>Fare</th>\n",
       "      <th>Cabin</th>\n",
       "      <th>Embarked</th>\n",
       "    </tr>\n",
       "    <tr>\n",
       "      <th>Age</th>\n",
       "      <th></th>\n",
       "      <th></th>\n",
       "      <th></th>\n",
       "      <th></th>\n",
       "      <th></th>\n",
       "      <th></th>\n",
       "      <th></th>\n",
       "      <th></th>\n",
       "      <th></th>\n",
       "      <th></th>\n",
       "      <th></th>\n",
       "    </tr>\n",
       "  </thead>\n",
       "  <tbody>\n",
       "    <tr>\n",
       "      <th>22.0</th>\n",
       "      <td>1</td>\n",
       "      <td>0</td>\n",
       "      <td>3</td>\n",
       "      <td>Braund, Mr. Owen Harris</td>\n",
       "      <td>male</td>\n",
       "      <td>1</td>\n",
       "      <td>0</td>\n",
       "      <td>A/5 21171</td>\n",
       "      <td>7.2500</td>\n",
       "      <td>NaN</td>\n",
       "      <td>S</td>\n",
       "    </tr>\n",
       "    <tr>\n",
       "      <th>38.0</th>\n",
       "      <td>2</td>\n",
       "      <td>1</td>\n",
       "      <td>1</td>\n",
       "      <td>Cumings, Mrs. John Bradley (Florence Briggs Th...</td>\n",
       "      <td>female</td>\n",
       "      <td>1</td>\n",
       "      <td>0</td>\n",
       "      <td>PC 17599</td>\n",
       "      <td>71.2833</td>\n",
       "      <td>C85</td>\n",
       "      <td>C</td>\n",
       "    </tr>\n",
       "    <tr>\n",
       "      <th>26.0</th>\n",
       "      <td>3</td>\n",
       "      <td>1</td>\n",
       "      <td>3</td>\n",
       "      <td>Heikkinen, Miss. Laina</td>\n",
       "      <td>female</td>\n",
       "      <td>0</td>\n",
       "      <td>0</td>\n",
       "      <td>STON/O2. 3101282</td>\n",
       "      <td>7.9250</td>\n",
       "      <td>NaN</td>\n",
       "      <td>S</td>\n",
       "    </tr>\n",
       "    <tr>\n",
       "      <th>35.0</th>\n",
       "      <td>4</td>\n",
       "      <td>1</td>\n",
       "      <td>1</td>\n",
       "      <td>Futrelle, Mrs. Jacques Heath (Lily May Peel)</td>\n",
       "      <td>female</td>\n",
       "      <td>1</td>\n",
       "      <td>0</td>\n",
       "      <td>113803</td>\n",
       "      <td>53.1000</td>\n",
       "      <td>C123</td>\n",
       "      <td>S</td>\n",
       "    </tr>\n",
       "    <tr>\n",
       "      <th>35.0</th>\n",
       "      <td>5</td>\n",
       "      <td>0</td>\n",
       "      <td>3</td>\n",
       "      <td>Allen, Mr. William Henry</td>\n",
       "      <td>male</td>\n",
       "      <td>0</td>\n",
       "      <td>0</td>\n",
       "      <td>373450</td>\n",
       "      <td>8.0500</td>\n",
       "      <td>NaN</td>\n",
       "      <td>S</td>\n",
       "    </tr>\n",
       "  </tbody>\n",
       "</table>\n",
       "</div>"
      ],
      "text/plain": [
       "      PassengerId  Survived  Pclass  \\\n",
       "Age                                   \n",
       "22.0            1         0       3   \n",
       "38.0            2         1       1   \n",
       "26.0            3         1       3   \n",
       "35.0            4         1       1   \n",
       "35.0            5         0       3   \n",
       "\n",
       "                                                   Name     Sex  SibSp  Parch  \\\n",
       "Age                                                                             \n",
       "22.0                            Braund, Mr. Owen Harris    male      1      0   \n",
       "38.0  Cumings, Mrs. John Bradley (Florence Briggs Th...  female      1      0   \n",
       "26.0                             Heikkinen, Miss. Laina  female      0      0   \n",
       "35.0       Futrelle, Mrs. Jacques Heath (Lily May Peel)  female      1      0   \n",
       "35.0                           Allen, Mr. William Henry    male      0      0   \n",
       "\n",
       "                Ticket     Fare Cabin Embarked  \n",
       "Age                                             \n",
       "22.0         A/5 21171   7.2500   NaN        S  \n",
       "38.0          PC 17599  71.2833   C85        C  \n",
       "26.0  STON/O2. 3101282   7.9250   NaN        S  \n",
       "35.0            113803  53.1000  C123        S  \n",
       "35.0            373450   8.0500   NaN        S  "
      ]
     },
     "execution_count": 141,
     "metadata": {},
     "output_type": "execute_result"
    }
   ],
   "source": [
    "df.drop(\"Age\", axis=1, inplace=True)\n",
    "\n",
    "df.head()"
   ]
  },
  {
   "cell_type": "markdown",
   "id": "932b1c59",
   "metadata": {
    "papermill": {
     "duration": 0.072122,
     "end_time": "2023-10-11T14:44:46.718127",
     "exception": false,
     "start_time": "2023-10-11T14:44:46.646005",
     "status": "completed"
    },
    "tags": []
   },
   "source": [
    "* **Convert index to variable:**"
   ]
  },
  {
   "cell_type": "code",
   "execution_count": 142,
   "id": "ba61495f",
   "metadata": {
    "execution": {
     "iopub.execute_input": "2023-10-11T14:44:46.867700Z",
     "iopub.status.busy": "2023-10-11T14:44:46.867281Z",
     "iopub.status.idle": "2023-10-11T14:44:46.874774Z",
     "shell.execute_reply": "2023-10-11T14:44:46.873646Z"
    },
    "papermill": {
     "duration": 0.084603,
     "end_time": "2023-10-11T14:44:46.877010",
     "exception": false,
     "start_time": "2023-10-11T14:44:46.792407",
     "status": "completed"
    },
    "tags": []
   },
   "outputs": [
    {
     "data": {
      "text/plain": [
       "Float64Index([22.0, 38.0, 26.0, 35.0, 35.0,  nan, 54.0,  2.0, 27.0, 14.0,\n",
       "              ...\n",
       "              33.0, 22.0, 28.0, 25.0, 39.0, 27.0, 19.0,  nan, 26.0, 32.0],\n",
       "             dtype='float64', name='Age', length=891)"
      ]
     },
     "execution_count": 142,
     "metadata": {},
     "output_type": "execute_result"
    }
   ],
   "source": [
    "df.index"
   ]
  },
  {
   "cell_type": "code",
   "execution_count": 143,
   "id": "e217efa7",
   "metadata": {
    "execution": {
     "iopub.execute_input": "2023-10-11T14:44:47.029646Z",
     "iopub.status.busy": "2023-10-11T14:44:47.028937Z",
     "iopub.status.idle": "2023-10-11T14:44:47.037068Z",
     "shell.execute_reply": "2023-10-11T14:44:47.035795Z"
    },
    "papermill": {
     "duration": 0.089373,
     "end_time": "2023-10-11T14:44:47.040322",
     "exception": false,
     "start_time": "2023-10-11T14:44:46.950949",
     "status": "completed"
    },
    "tags": []
   },
   "outputs": [],
   "source": [
    "df[\"Age\"] = df.index"
   ]
  },
  {
   "cell_type": "code",
   "execution_count": 144,
   "id": "241a3ea3",
   "metadata": {
    "execution": {
     "iopub.execute_input": "2023-10-11T14:44:47.188094Z",
     "iopub.status.busy": "2023-10-11T14:44:47.187687Z",
     "iopub.status.idle": "2023-10-11T14:44:47.203879Z",
     "shell.execute_reply": "2023-10-11T14:44:47.202951Z"
    },
    "papermill": {
     "duration": 0.092983,
     "end_time": "2023-10-11T14:44:47.206273",
     "exception": false,
     "start_time": "2023-10-11T14:44:47.113290",
     "status": "completed"
    },
    "tags": []
   },
   "outputs": [
    {
     "data": {
      "text/html": [
       "<div>\n",
       "<style scoped>\n",
       "    .dataframe tbody tr th:only-of-type {\n",
       "        vertical-align: middle;\n",
       "    }\n",
       "\n",
       "    .dataframe tbody tr th {\n",
       "        vertical-align: top;\n",
       "    }\n",
       "\n",
       "    .dataframe thead th {\n",
       "        text-align: right;\n",
       "    }\n",
       "</style>\n",
       "<table border=\"1\" class=\"dataframe\">\n",
       "  <thead>\n",
       "    <tr style=\"text-align: right;\">\n",
       "      <th></th>\n",
       "      <th>PassengerId</th>\n",
       "      <th>Survived</th>\n",
       "      <th>Pclass</th>\n",
       "      <th>Name</th>\n",
       "      <th>Sex</th>\n",
       "      <th>SibSp</th>\n",
       "      <th>Parch</th>\n",
       "      <th>Ticket</th>\n",
       "      <th>Fare</th>\n",
       "      <th>Cabin</th>\n",
       "      <th>Embarked</th>\n",
       "      <th>Age</th>\n",
       "    </tr>\n",
       "    <tr>\n",
       "      <th>Age</th>\n",
       "      <th></th>\n",
       "      <th></th>\n",
       "      <th></th>\n",
       "      <th></th>\n",
       "      <th></th>\n",
       "      <th></th>\n",
       "      <th></th>\n",
       "      <th></th>\n",
       "      <th></th>\n",
       "      <th></th>\n",
       "      <th></th>\n",
       "      <th></th>\n",
       "    </tr>\n",
       "  </thead>\n",
       "  <tbody>\n",
       "    <tr>\n",
       "      <th>22.0</th>\n",
       "      <td>1</td>\n",
       "      <td>0</td>\n",
       "      <td>3</td>\n",
       "      <td>Braund, Mr. Owen Harris</td>\n",
       "      <td>male</td>\n",
       "      <td>1</td>\n",
       "      <td>0</td>\n",
       "      <td>A/5 21171</td>\n",
       "      <td>7.2500</td>\n",
       "      <td>NaN</td>\n",
       "      <td>S</td>\n",
       "      <td>22.0</td>\n",
       "    </tr>\n",
       "    <tr>\n",
       "      <th>38.0</th>\n",
       "      <td>2</td>\n",
       "      <td>1</td>\n",
       "      <td>1</td>\n",
       "      <td>Cumings, Mrs. John Bradley (Florence Briggs Th...</td>\n",
       "      <td>female</td>\n",
       "      <td>1</td>\n",
       "      <td>0</td>\n",
       "      <td>PC 17599</td>\n",
       "      <td>71.2833</td>\n",
       "      <td>C85</td>\n",
       "      <td>C</td>\n",
       "      <td>38.0</td>\n",
       "    </tr>\n",
       "    <tr>\n",
       "      <th>26.0</th>\n",
       "      <td>3</td>\n",
       "      <td>1</td>\n",
       "      <td>3</td>\n",
       "      <td>Heikkinen, Miss. Laina</td>\n",
       "      <td>female</td>\n",
       "      <td>0</td>\n",
       "      <td>0</td>\n",
       "      <td>STON/O2. 3101282</td>\n",
       "      <td>7.9250</td>\n",
       "      <td>NaN</td>\n",
       "      <td>S</td>\n",
       "      <td>26.0</td>\n",
       "    </tr>\n",
       "    <tr>\n",
       "      <th>35.0</th>\n",
       "      <td>4</td>\n",
       "      <td>1</td>\n",
       "      <td>1</td>\n",
       "      <td>Futrelle, Mrs. Jacques Heath (Lily May Peel)</td>\n",
       "      <td>female</td>\n",
       "      <td>1</td>\n",
       "      <td>0</td>\n",
       "      <td>113803</td>\n",
       "      <td>53.1000</td>\n",
       "      <td>C123</td>\n",
       "      <td>S</td>\n",
       "      <td>35.0</td>\n",
       "    </tr>\n",
       "    <tr>\n",
       "      <th>35.0</th>\n",
       "      <td>5</td>\n",
       "      <td>0</td>\n",
       "      <td>3</td>\n",
       "      <td>Allen, Mr. William Henry</td>\n",
       "      <td>male</td>\n",
       "      <td>0</td>\n",
       "      <td>0</td>\n",
       "      <td>373450</td>\n",
       "      <td>8.0500</td>\n",
       "      <td>NaN</td>\n",
       "      <td>S</td>\n",
       "      <td>35.0</td>\n",
       "    </tr>\n",
       "  </tbody>\n",
       "</table>\n",
       "</div>"
      ],
      "text/plain": [
       "      PassengerId  Survived  Pclass  \\\n",
       "Age                                   \n",
       "22.0            1         0       3   \n",
       "38.0            2         1       1   \n",
       "26.0            3         1       3   \n",
       "35.0            4         1       1   \n",
       "35.0            5         0       3   \n",
       "\n",
       "                                                   Name     Sex  SibSp  Parch  \\\n",
       "Age                                                                             \n",
       "22.0                            Braund, Mr. Owen Harris    male      1      0   \n",
       "38.0  Cumings, Mrs. John Bradley (Florence Briggs Th...  female      1      0   \n",
       "26.0                             Heikkinen, Miss. Laina  female      0      0   \n",
       "35.0       Futrelle, Mrs. Jacques Heath (Lily May Peel)  female      1      0   \n",
       "35.0                           Allen, Mr. William Henry    male      0      0   \n",
       "\n",
       "                Ticket     Fare Cabin Embarked   Age  \n",
       "Age                                                   \n",
       "22.0         A/5 21171   7.2500   NaN        S  22.0  \n",
       "38.0          PC 17599  71.2833   C85        C  38.0  \n",
       "26.0  STON/O2. 3101282   7.9250   NaN        S  26.0  \n",
       "35.0            113803  53.1000  C123        S  35.0  \n",
       "35.0            373450   8.0500   NaN        S  35.0  "
      ]
     },
     "execution_count": 144,
     "metadata": {},
     "output_type": "execute_result"
    }
   ],
   "source": [
    "df.head()"
   ]
  },
  {
   "cell_type": "code",
   "execution_count": 145,
   "id": "4059b1a7",
   "metadata": {
    "execution": {
     "iopub.execute_input": "2023-10-11T14:44:47.352791Z",
     "iopub.status.busy": "2023-10-11T14:44:47.352452Z",
     "iopub.status.idle": "2023-10-11T14:44:47.357859Z",
     "shell.execute_reply": "2023-10-11T14:44:47.356694Z"
    },
    "papermill": {
     "duration": 0.081066,
     "end_time": "2023-10-11T14:44:47.360051",
     "exception": false,
     "start_time": "2023-10-11T14:44:47.278985",
     "status": "completed"
    },
    "tags": []
   },
   "outputs": [],
   "source": [
    "df.drop(\"Age\", axis=1, inplace=True)"
   ]
  },
  {
   "cell_type": "code",
   "execution_count": 146,
   "id": "f389f8b7",
   "metadata": {
    "execution": {
     "iopub.execute_input": "2023-10-11T14:44:47.507266Z",
     "iopub.status.busy": "2023-10-11T14:44:47.506537Z",
     "iopub.status.idle": "2023-10-11T14:44:47.521925Z",
     "shell.execute_reply": "2023-10-11T14:44:47.520787Z"
    },
    "papermill": {
     "duration": 0.09027,
     "end_time": "2023-10-11T14:44:47.524009",
     "exception": false,
     "start_time": "2023-10-11T14:44:47.433739",
     "status": "completed"
    },
    "tags": []
   },
   "outputs": [
    {
     "data": {
      "text/html": [
       "<div>\n",
       "<style scoped>\n",
       "    .dataframe tbody tr th:only-of-type {\n",
       "        vertical-align: middle;\n",
       "    }\n",
       "\n",
       "    .dataframe tbody tr th {\n",
       "        vertical-align: top;\n",
       "    }\n",
       "\n",
       "    .dataframe thead th {\n",
       "        text-align: right;\n",
       "    }\n",
       "</style>\n",
       "<table border=\"1\" class=\"dataframe\">\n",
       "  <thead>\n",
       "    <tr style=\"text-align: right;\">\n",
       "      <th></th>\n",
       "      <th>Age</th>\n",
       "      <th>PassengerId</th>\n",
       "      <th>Survived</th>\n",
       "      <th>Pclass</th>\n",
       "      <th>Name</th>\n",
       "      <th>Sex</th>\n",
       "      <th>SibSp</th>\n",
       "      <th>Parch</th>\n",
       "      <th>Ticket</th>\n",
       "      <th>Fare</th>\n",
       "      <th>Cabin</th>\n",
       "      <th>Embarked</th>\n",
       "    </tr>\n",
       "  </thead>\n",
       "  <tbody>\n",
       "    <tr>\n",
       "      <th>0</th>\n",
       "      <td>22.0</td>\n",
       "      <td>1</td>\n",
       "      <td>0</td>\n",
       "      <td>3</td>\n",
       "      <td>Braund, Mr. Owen Harris</td>\n",
       "      <td>male</td>\n",
       "      <td>1</td>\n",
       "      <td>0</td>\n",
       "      <td>A/5 21171</td>\n",
       "      <td>7.2500</td>\n",
       "      <td>NaN</td>\n",
       "      <td>S</td>\n",
       "    </tr>\n",
       "    <tr>\n",
       "      <th>1</th>\n",
       "      <td>38.0</td>\n",
       "      <td>2</td>\n",
       "      <td>1</td>\n",
       "      <td>1</td>\n",
       "      <td>Cumings, Mrs. John Bradley (Florence Briggs Th...</td>\n",
       "      <td>female</td>\n",
       "      <td>1</td>\n",
       "      <td>0</td>\n",
       "      <td>PC 17599</td>\n",
       "      <td>71.2833</td>\n",
       "      <td>C85</td>\n",
       "      <td>C</td>\n",
       "    </tr>\n",
       "    <tr>\n",
       "      <th>2</th>\n",
       "      <td>26.0</td>\n",
       "      <td>3</td>\n",
       "      <td>1</td>\n",
       "      <td>3</td>\n",
       "      <td>Heikkinen, Miss. Laina</td>\n",
       "      <td>female</td>\n",
       "      <td>0</td>\n",
       "      <td>0</td>\n",
       "      <td>STON/O2. 3101282</td>\n",
       "      <td>7.9250</td>\n",
       "      <td>NaN</td>\n",
       "      <td>S</td>\n",
       "    </tr>\n",
       "    <tr>\n",
       "      <th>3</th>\n",
       "      <td>35.0</td>\n",
       "      <td>4</td>\n",
       "      <td>1</td>\n",
       "      <td>1</td>\n",
       "      <td>Futrelle, Mrs. Jacques Heath (Lily May Peel)</td>\n",
       "      <td>female</td>\n",
       "      <td>1</td>\n",
       "      <td>0</td>\n",
       "      <td>113803</td>\n",
       "      <td>53.1000</td>\n",
       "      <td>C123</td>\n",
       "      <td>S</td>\n",
       "    </tr>\n",
       "    <tr>\n",
       "      <th>4</th>\n",
       "      <td>35.0</td>\n",
       "      <td>5</td>\n",
       "      <td>0</td>\n",
       "      <td>3</td>\n",
       "      <td>Allen, Mr. William Henry</td>\n",
       "      <td>male</td>\n",
       "      <td>0</td>\n",
       "      <td>0</td>\n",
       "      <td>373450</td>\n",
       "      <td>8.0500</td>\n",
       "      <td>NaN</td>\n",
       "      <td>S</td>\n",
       "    </tr>\n",
       "  </tbody>\n",
       "</table>\n",
       "</div>"
      ],
      "text/plain": [
       "    Age  PassengerId  Survived  Pclass  \\\n",
       "0  22.0            1         0       3   \n",
       "1  38.0            2         1       1   \n",
       "2  26.0            3         1       3   \n",
       "3  35.0            4         1       1   \n",
       "4  35.0            5         0       3   \n",
       "\n",
       "                                                Name     Sex  SibSp  Parch  \\\n",
       "0                            Braund, Mr. Owen Harris    male      1      0   \n",
       "1  Cumings, Mrs. John Bradley (Florence Briggs Th...  female      1      0   \n",
       "2                             Heikkinen, Miss. Laina  female      0      0   \n",
       "3       Futrelle, Mrs. Jacques Heath (Lily May Peel)  female      1      0   \n",
       "4                           Allen, Mr. William Henry    male      0      0   \n",
       "\n",
       "             Ticket     Fare Cabin Embarked  \n",
       "0         A/5 21171   7.2500   NaN        S  \n",
       "1          PC 17599  71.2833   C85        C  \n",
       "2  STON/O2. 3101282   7.9250   NaN        S  \n",
       "3            113803  53.1000  C123        S  \n",
       "4            373450   8.0500   NaN        S  "
      ]
     },
     "execution_count": 146,
     "metadata": {},
     "output_type": "execute_result"
    }
   ],
   "source": [
    "df.reset_index().head()"
   ]
  },
  {
   "cell_type": "code",
   "execution_count": 147,
   "id": "0abac15f",
   "metadata": {
    "execution": {
     "iopub.execute_input": "2023-10-11T14:44:47.678127Z",
     "iopub.status.busy": "2023-10-11T14:44:47.677376Z",
     "iopub.status.idle": "2023-10-11T14:44:47.683939Z",
     "shell.execute_reply": "2023-10-11T14:44:47.682778Z"
    },
    "papermill": {
     "duration": 0.088403,
     "end_time": "2023-10-11T14:44:47.687179",
     "exception": false,
     "start_time": "2023-10-11T14:44:47.598776",
     "status": "completed"
    },
    "tags": []
   },
   "outputs": [],
   "source": [
    "df = df.reset_index()"
   ]
  },
  {
   "cell_type": "markdown",
   "id": "546af4d1",
   "metadata": {
    "papermill": {
     "duration": 0.071132,
     "end_time": "2023-10-11T14:44:47.829584",
     "exception": false,
     "start_time": "2023-10-11T14:44:47.758452",
     "status": "completed"
    },
    "tags": []
   },
   "source": [
    "* **Operations on Variables:**"
   ]
  },
  {
   "cell_type": "code",
   "execution_count": 148,
   "id": "f977df13",
   "metadata": {
    "execution": {
     "iopub.execute_input": "2023-10-11T14:44:47.976825Z",
     "iopub.status.busy": "2023-10-11T14:44:47.975762Z",
     "iopub.status.idle": "2023-10-11T14:44:47.982636Z",
     "shell.execute_reply": "2023-10-11T14:44:47.981761Z"
    },
    "papermill": {
     "duration": 0.081755,
     "end_time": "2023-10-11T14:44:47.984740",
     "exception": false,
     "start_time": "2023-10-11T14:44:47.902985",
     "status": "completed"
    },
    "tags": []
   },
   "outputs": [
    {
     "data": {
      "text/plain": [
       "True"
      ]
     },
     "execution_count": 148,
     "metadata": {},
     "output_type": "execute_result"
    }
   ],
   "source": [
    "\"Age\" in df"
   ]
  },
  {
   "cell_type": "code",
   "execution_count": 149,
   "id": "2f2c0ee8",
   "metadata": {
    "execution": {
     "iopub.execute_input": "2023-10-11T14:44:48.126018Z",
     "iopub.status.busy": "2023-10-11T14:44:48.125283Z",
     "iopub.status.idle": "2023-10-11T14:44:48.133287Z",
     "shell.execute_reply": "2023-10-11T14:44:48.132327Z"
    },
    "papermill": {
     "duration": 0.08094,
     "end_time": "2023-10-11T14:44:48.135409",
     "exception": false,
     "start_time": "2023-10-11T14:44:48.054469",
     "status": "completed"
    },
    "tags": []
   },
   "outputs": [
    {
     "data": {
      "text/plain": [
       "0    22.0\n",
       "1    38.0\n",
       "2    26.0\n",
       "3    35.0\n",
       "4    35.0\n",
       "Name: Age, dtype: float64"
      ]
     },
     "execution_count": 149,
     "metadata": {},
     "output_type": "execute_result"
    }
   ],
   "source": [
    "df[\"Age\"].head()"
   ]
  },
  {
   "cell_type": "code",
   "execution_count": 150,
   "id": "974319e6",
   "metadata": {
    "execution": {
     "iopub.execute_input": "2023-10-11T14:44:48.345941Z",
     "iopub.status.busy": "2023-10-11T14:44:48.345149Z",
     "iopub.status.idle": "2023-10-11T14:44:48.354019Z",
     "shell.execute_reply": "2023-10-11T14:44:48.352771Z"
    },
    "papermill": {
     "duration": 0.083547,
     "end_time": "2023-10-11T14:44:48.356750",
     "exception": false,
     "start_time": "2023-10-11T14:44:48.273203",
     "status": "completed"
    },
    "tags": []
   },
   "outputs": [
    {
     "data": {
      "text/plain": [
       "0    22.0\n",
       "1    38.0\n",
       "2    26.0\n",
       "3    35.0\n",
       "4    35.0\n",
       "Name: Age, dtype: float64"
      ]
     },
     "execution_count": 150,
     "metadata": {},
     "output_type": "execute_result"
    }
   ],
   "source": [
    "df.Age.head()"
   ]
  },
  {
   "cell_type": "code",
   "execution_count": 151,
   "id": "1a0845fa",
   "metadata": {
    "execution": {
     "iopub.execute_input": "2023-10-11T14:44:48.503496Z",
     "iopub.status.busy": "2023-10-11T14:44:48.503112Z",
     "iopub.status.idle": "2023-10-11T14:44:48.509421Z",
     "shell.execute_reply": "2023-10-11T14:44:48.508316Z"
    },
    "papermill": {
     "duration": 0.083673,
     "end_time": "2023-10-11T14:44:48.511940",
     "exception": false,
     "start_time": "2023-10-11T14:44:48.428267",
     "status": "completed"
    },
    "tags": []
   },
   "outputs": [
    {
     "data": {
      "text/plain": [
       "pandas.core.series.Series"
      ]
     },
     "execution_count": 151,
     "metadata": {},
     "output_type": "execute_result"
    }
   ],
   "source": [
    "type(df[\"Age\"].head())"
   ]
  },
  {
   "cell_type": "code",
   "execution_count": 152,
   "id": "b71c31b2",
   "metadata": {
    "execution": {
     "iopub.execute_input": "2023-10-11T14:44:48.656627Z",
     "iopub.status.busy": "2023-10-11T14:44:48.655929Z",
     "iopub.status.idle": "2023-10-11T14:44:48.665909Z",
     "shell.execute_reply": "2023-10-11T14:44:48.664911Z"
    },
    "papermill": {
     "duration": 0.084217,
     "end_time": "2023-10-11T14:44:48.668430",
     "exception": false,
     "start_time": "2023-10-11T14:44:48.584213",
     "status": "completed"
    },
    "tags": []
   },
   "outputs": [
    {
     "data": {
      "text/html": [
       "<div>\n",
       "<style scoped>\n",
       "    .dataframe tbody tr th:only-of-type {\n",
       "        vertical-align: middle;\n",
       "    }\n",
       "\n",
       "    .dataframe tbody tr th {\n",
       "        vertical-align: top;\n",
       "    }\n",
       "\n",
       "    .dataframe thead th {\n",
       "        text-align: right;\n",
       "    }\n",
       "</style>\n",
       "<table border=\"1\" class=\"dataframe\">\n",
       "  <thead>\n",
       "    <tr style=\"text-align: right;\">\n",
       "      <th></th>\n",
       "      <th>Age</th>\n",
       "    </tr>\n",
       "  </thead>\n",
       "  <tbody>\n",
       "    <tr>\n",
       "      <th>0</th>\n",
       "      <td>22.0</td>\n",
       "    </tr>\n",
       "    <tr>\n",
       "      <th>1</th>\n",
       "      <td>38.0</td>\n",
       "    </tr>\n",
       "    <tr>\n",
       "      <th>2</th>\n",
       "      <td>26.0</td>\n",
       "    </tr>\n",
       "    <tr>\n",
       "      <th>3</th>\n",
       "      <td>35.0</td>\n",
       "    </tr>\n",
       "    <tr>\n",
       "      <th>4</th>\n",
       "      <td>35.0</td>\n",
       "    </tr>\n",
       "  </tbody>\n",
       "</table>\n",
       "</div>"
      ],
      "text/plain": [
       "    Age\n",
       "0  22.0\n",
       "1  38.0\n",
       "2  26.0\n",
       "3  35.0\n",
       "4  35.0"
      ]
     },
     "execution_count": 152,
     "metadata": {},
     "output_type": "execute_result"
    }
   ],
   "source": [
    "df[[\"Age\"]].head()"
   ]
  },
  {
   "cell_type": "code",
   "execution_count": 153,
   "id": "7b14d869",
   "metadata": {
    "execution": {
     "iopub.execute_input": "2023-10-11T14:44:48.813993Z",
     "iopub.status.busy": "2023-10-11T14:44:48.813287Z",
     "iopub.status.idle": "2023-10-11T14:44:48.820929Z",
     "shell.execute_reply": "2023-10-11T14:44:48.819813Z"
    },
    "papermill": {
     "duration": 0.08353,
     "end_time": "2023-10-11T14:44:48.823637",
     "exception": false,
     "start_time": "2023-10-11T14:44:48.740107",
     "status": "completed"
    },
    "tags": []
   },
   "outputs": [
    {
     "data": {
      "text/plain": [
       "pandas.core.frame.DataFrame"
      ]
     },
     "execution_count": 153,
     "metadata": {},
     "output_type": "execute_result"
    }
   ],
   "source": [
    "type(df[[\"Age\"]].head())"
   ]
  },
  {
   "cell_type": "code",
   "execution_count": 154,
   "id": "e1455930",
   "metadata": {
    "execution": {
     "iopub.execute_input": "2023-10-11T14:44:48.968787Z",
     "iopub.status.busy": "2023-10-11T14:44:48.968406Z",
     "iopub.status.idle": "2023-10-11T14:44:48.974500Z",
     "shell.execute_reply": "2023-10-11T14:44:48.973182Z"
    },
    "papermill": {
     "duration": 0.082052,
     "end_time": "2023-10-11T14:44:48.976934",
     "exception": false,
     "start_time": "2023-10-11T14:44:48.894882",
     "status": "completed"
    },
    "tags": []
   },
   "outputs": [],
   "source": [
    "df[\"Age2\"] = df[\"Age\"]**2"
   ]
  },
  {
   "cell_type": "code",
   "execution_count": 155,
   "id": "911811d8",
   "metadata": {
    "execution": {
     "iopub.execute_input": "2023-10-11T14:44:49.123931Z",
     "iopub.status.busy": "2023-10-11T14:44:49.123186Z",
     "iopub.status.idle": "2023-10-11T14:44:49.129115Z",
     "shell.execute_reply": "2023-10-11T14:44:49.128321Z"
    },
    "papermill": {
     "duration": 0.081641,
     "end_time": "2023-10-11T14:44:49.131555",
     "exception": false,
     "start_time": "2023-10-11T14:44:49.049914",
     "status": "completed"
    },
    "tags": []
   },
   "outputs": [],
   "source": [
    "df[\"Age3\"] = df[\"Age\"] / df[\"Age2\"]"
   ]
  },
  {
   "cell_type": "code",
   "execution_count": 156,
   "id": "f803d265",
   "metadata": {
    "execution": {
     "iopub.execute_input": "2023-10-11T14:44:49.279348Z",
     "iopub.status.busy": "2023-10-11T14:44:49.278675Z",
     "iopub.status.idle": "2023-10-11T14:44:49.295147Z",
     "shell.execute_reply": "2023-10-11T14:44:49.294049Z"
    },
    "papermill": {
     "duration": 0.09254,
     "end_time": "2023-10-11T14:44:49.297365",
     "exception": false,
     "start_time": "2023-10-11T14:44:49.204825",
     "status": "completed"
    },
    "tags": []
   },
   "outputs": [
    {
     "data": {
      "text/html": [
       "<div>\n",
       "<style scoped>\n",
       "    .dataframe tbody tr th:only-of-type {\n",
       "        vertical-align: middle;\n",
       "    }\n",
       "\n",
       "    .dataframe tbody tr th {\n",
       "        vertical-align: top;\n",
       "    }\n",
       "\n",
       "    .dataframe thead th {\n",
       "        text-align: right;\n",
       "    }\n",
       "</style>\n",
       "<table border=\"1\" class=\"dataframe\">\n",
       "  <thead>\n",
       "    <tr style=\"text-align: right;\">\n",
       "      <th></th>\n",
       "      <th>Age</th>\n",
       "      <th>PassengerId</th>\n",
       "      <th>Survived</th>\n",
       "      <th>Pclass</th>\n",
       "      <th>Name</th>\n",
       "      <th>Sex</th>\n",
       "      <th>SibSp</th>\n",
       "      <th>Parch</th>\n",
       "      <th>Ticket</th>\n",
       "      <th>Fare</th>\n",
       "      <th>Cabin</th>\n",
       "      <th>Embarked</th>\n",
       "      <th>Age2</th>\n",
       "      <th>Age3</th>\n",
       "    </tr>\n",
       "  </thead>\n",
       "  <tbody>\n",
       "    <tr>\n",
       "      <th>0</th>\n",
       "      <td>22.0</td>\n",
       "      <td>1</td>\n",
       "      <td>0</td>\n",
       "      <td>3</td>\n",
       "      <td>Braund, Mr. Owen Harris</td>\n",
       "      <td>male</td>\n",
       "      <td>1</td>\n",
       "      <td>0</td>\n",
       "      <td>A/5 21171</td>\n",
       "      <td>7.2500</td>\n",
       "      <td>NaN</td>\n",
       "      <td>S</td>\n",
       "      <td>484.0</td>\n",
       "      <td>0.045455</td>\n",
       "    </tr>\n",
       "    <tr>\n",
       "      <th>1</th>\n",
       "      <td>38.0</td>\n",
       "      <td>2</td>\n",
       "      <td>1</td>\n",
       "      <td>1</td>\n",
       "      <td>Cumings, Mrs. John Bradley (Florence Briggs Th...</td>\n",
       "      <td>female</td>\n",
       "      <td>1</td>\n",
       "      <td>0</td>\n",
       "      <td>PC 17599</td>\n",
       "      <td>71.2833</td>\n",
       "      <td>C85</td>\n",
       "      <td>C</td>\n",
       "      <td>1444.0</td>\n",
       "      <td>0.026316</td>\n",
       "    </tr>\n",
       "    <tr>\n",
       "      <th>2</th>\n",
       "      <td>26.0</td>\n",
       "      <td>3</td>\n",
       "      <td>1</td>\n",
       "      <td>3</td>\n",
       "      <td>Heikkinen, Miss. Laina</td>\n",
       "      <td>female</td>\n",
       "      <td>0</td>\n",
       "      <td>0</td>\n",
       "      <td>STON/O2. 3101282</td>\n",
       "      <td>7.9250</td>\n",
       "      <td>NaN</td>\n",
       "      <td>S</td>\n",
       "      <td>676.0</td>\n",
       "      <td>0.038462</td>\n",
       "    </tr>\n",
       "    <tr>\n",
       "      <th>3</th>\n",
       "      <td>35.0</td>\n",
       "      <td>4</td>\n",
       "      <td>1</td>\n",
       "      <td>1</td>\n",
       "      <td>Futrelle, Mrs. Jacques Heath (Lily May Peel)</td>\n",
       "      <td>female</td>\n",
       "      <td>1</td>\n",
       "      <td>0</td>\n",
       "      <td>113803</td>\n",
       "      <td>53.1000</td>\n",
       "      <td>C123</td>\n",
       "      <td>S</td>\n",
       "      <td>1225.0</td>\n",
       "      <td>0.028571</td>\n",
       "    </tr>\n",
       "    <tr>\n",
       "      <th>4</th>\n",
       "      <td>35.0</td>\n",
       "      <td>5</td>\n",
       "      <td>0</td>\n",
       "      <td>3</td>\n",
       "      <td>Allen, Mr. William Henry</td>\n",
       "      <td>male</td>\n",
       "      <td>0</td>\n",
       "      <td>0</td>\n",
       "      <td>373450</td>\n",
       "      <td>8.0500</td>\n",
       "      <td>NaN</td>\n",
       "      <td>S</td>\n",
       "      <td>1225.0</td>\n",
       "      <td>0.028571</td>\n",
       "    </tr>\n",
       "  </tbody>\n",
       "</table>\n",
       "</div>"
      ],
      "text/plain": [
       "    Age  PassengerId  Survived  Pclass  \\\n",
       "0  22.0            1         0       3   \n",
       "1  38.0            2         1       1   \n",
       "2  26.0            3         1       3   \n",
       "3  35.0            4         1       1   \n",
       "4  35.0            5         0       3   \n",
       "\n",
       "                                                Name     Sex  SibSp  Parch  \\\n",
       "0                            Braund, Mr. Owen Harris    male      1      0   \n",
       "1  Cumings, Mrs. John Bradley (Florence Briggs Th...  female      1      0   \n",
       "2                             Heikkinen, Miss. Laina  female      0      0   \n",
       "3       Futrelle, Mrs. Jacques Heath (Lily May Peel)  female      1      0   \n",
       "4                           Allen, Mr. William Henry    male      0      0   \n",
       "\n",
       "             Ticket     Fare Cabin Embarked    Age2      Age3  \n",
       "0         A/5 21171   7.2500   NaN        S   484.0  0.045455  \n",
       "1          PC 17599  71.2833   C85        C  1444.0  0.026316  \n",
       "2  STON/O2. 3101282   7.9250   NaN        S   676.0  0.038462  \n",
       "3            113803  53.1000  C123        S  1225.0  0.028571  \n",
       "4            373450   8.0500   NaN        S  1225.0  0.028571  "
      ]
     },
     "execution_count": 156,
     "metadata": {},
     "output_type": "execute_result"
    }
   ],
   "source": [
    "df.head()"
   ]
  },
  {
   "cell_type": "code",
   "execution_count": 157,
   "id": "0486d8d8",
   "metadata": {
    "execution": {
     "iopub.execute_input": "2023-10-11T14:44:49.446617Z",
     "iopub.status.busy": "2023-10-11T14:44:49.445942Z",
     "iopub.status.idle": "2023-10-11T14:44:49.452807Z",
     "shell.execute_reply": "2023-10-11T14:44:49.451861Z"
    },
    "papermill": {
     "duration": 0.084777,
     "end_time": "2023-10-11T14:44:49.455179",
     "exception": false,
     "start_time": "2023-10-11T14:44:49.370402",
     "status": "completed"
    },
    "tags": []
   },
   "outputs": [],
   "source": [
    "df = df.drop([\"Age3\",\"Age2\"], axis=1)"
   ]
  },
  {
   "cell_type": "code",
   "execution_count": 158,
   "id": "85c0b452",
   "metadata": {
    "execution": {
     "iopub.execute_input": "2023-10-11T14:44:49.607032Z",
     "iopub.status.busy": "2023-10-11T14:44:49.606345Z",
     "iopub.status.idle": "2023-10-11T14:44:49.619549Z",
     "shell.execute_reply": "2023-10-11T14:44:49.618678Z"
    },
    "papermill": {
     "duration": 0.093813,
     "end_time": "2023-10-11T14:44:49.621788",
     "exception": false,
     "start_time": "2023-10-11T14:44:49.527975",
     "status": "completed"
    },
    "tags": []
   },
   "outputs": [
    {
     "data": {
      "text/html": [
       "<div>\n",
       "<style scoped>\n",
       "    .dataframe tbody tr th:only-of-type {\n",
       "        vertical-align: middle;\n",
       "    }\n",
       "\n",
       "    .dataframe tbody tr th {\n",
       "        vertical-align: top;\n",
       "    }\n",
       "\n",
       "    .dataframe thead th {\n",
       "        text-align: right;\n",
       "    }\n",
       "</style>\n",
       "<table border=\"1\" class=\"dataframe\">\n",
       "  <thead>\n",
       "    <tr style=\"text-align: right;\">\n",
       "      <th></th>\n",
       "      <th>Age</th>\n",
       "      <th>PassengerId</th>\n",
       "      <th>Survived</th>\n",
       "      <th>Pclass</th>\n",
       "      <th>Name</th>\n",
       "      <th>Sex</th>\n",
       "      <th>SibSp</th>\n",
       "      <th>Parch</th>\n",
       "      <th>Ticket</th>\n",
       "      <th>Fare</th>\n",
       "      <th>Cabin</th>\n",
       "      <th>Embarked</th>\n",
       "    </tr>\n",
       "  </thead>\n",
       "  <tbody>\n",
       "    <tr>\n",
       "      <th>0</th>\n",
       "      <td>22.0</td>\n",
       "      <td>1</td>\n",
       "      <td>0</td>\n",
       "      <td>3</td>\n",
       "      <td>Braund, Mr. Owen Harris</td>\n",
       "      <td>male</td>\n",
       "      <td>1</td>\n",
       "      <td>0</td>\n",
       "      <td>A/5 21171</td>\n",
       "      <td>7.2500</td>\n",
       "      <td>NaN</td>\n",
       "      <td>S</td>\n",
       "    </tr>\n",
       "    <tr>\n",
       "      <th>1</th>\n",
       "      <td>38.0</td>\n",
       "      <td>2</td>\n",
       "      <td>1</td>\n",
       "      <td>1</td>\n",
       "      <td>Cumings, Mrs. John Bradley (Florence Briggs Th...</td>\n",
       "      <td>female</td>\n",
       "      <td>1</td>\n",
       "      <td>0</td>\n",
       "      <td>PC 17599</td>\n",
       "      <td>71.2833</td>\n",
       "      <td>C85</td>\n",
       "      <td>C</td>\n",
       "    </tr>\n",
       "    <tr>\n",
       "      <th>2</th>\n",
       "      <td>26.0</td>\n",
       "      <td>3</td>\n",
       "      <td>1</td>\n",
       "      <td>3</td>\n",
       "      <td>Heikkinen, Miss. Laina</td>\n",
       "      <td>female</td>\n",
       "      <td>0</td>\n",
       "      <td>0</td>\n",
       "      <td>STON/O2. 3101282</td>\n",
       "      <td>7.9250</td>\n",
       "      <td>NaN</td>\n",
       "      <td>S</td>\n",
       "    </tr>\n",
       "    <tr>\n",
       "      <th>3</th>\n",
       "      <td>35.0</td>\n",
       "      <td>4</td>\n",
       "      <td>1</td>\n",
       "      <td>1</td>\n",
       "      <td>Futrelle, Mrs. Jacques Heath (Lily May Peel)</td>\n",
       "      <td>female</td>\n",
       "      <td>1</td>\n",
       "      <td>0</td>\n",
       "      <td>113803</td>\n",
       "      <td>53.1000</td>\n",
       "      <td>C123</td>\n",
       "      <td>S</td>\n",
       "    </tr>\n",
       "    <tr>\n",
       "      <th>4</th>\n",
       "      <td>35.0</td>\n",
       "      <td>5</td>\n",
       "      <td>0</td>\n",
       "      <td>3</td>\n",
       "      <td>Allen, Mr. William Henry</td>\n",
       "      <td>male</td>\n",
       "      <td>0</td>\n",
       "      <td>0</td>\n",
       "      <td>373450</td>\n",
       "      <td>8.0500</td>\n",
       "      <td>NaN</td>\n",
       "      <td>S</td>\n",
       "    </tr>\n",
       "  </tbody>\n",
       "</table>\n",
       "</div>"
      ],
      "text/plain": [
       "    Age  PassengerId  Survived  Pclass  \\\n",
       "0  22.0            1         0       3   \n",
       "1  38.0            2         1       1   \n",
       "2  26.0            3         1       3   \n",
       "3  35.0            4         1       1   \n",
       "4  35.0            5         0       3   \n",
       "\n",
       "                                                Name     Sex  SibSp  Parch  \\\n",
       "0                            Braund, Mr. Owen Harris    male      1      0   \n",
       "1  Cumings, Mrs. John Bradley (Florence Briggs Th...  female      1      0   \n",
       "2                             Heikkinen, Miss. Laina  female      0      0   \n",
       "3       Futrelle, Mrs. Jacques Heath (Lily May Peel)  female      1      0   \n",
       "4                           Allen, Mr. William Henry    male      0      0   \n",
       "\n",
       "             Ticket     Fare Cabin Embarked  \n",
       "0         A/5 21171   7.2500   NaN        S  \n",
       "1          PC 17599  71.2833   C85        C  \n",
       "2  STON/O2. 3101282   7.9250   NaN        S  \n",
       "3            113803  53.1000  C123        S  \n",
       "4            373450   8.0500   NaN        S  "
      ]
     },
     "execution_count": 158,
     "metadata": {},
     "output_type": "execute_result"
    }
   ],
   "source": [
    "df.head()"
   ]
  },
  {
   "cell_type": "code",
   "execution_count": 159,
   "id": "8012ec5a",
   "metadata": {
    "execution": {
     "iopub.execute_input": "2023-10-11T14:44:49.771482Z",
     "iopub.status.busy": "2023-10-11T14:44:49.771085Z",
     "iopub.status.idle": "2023-10-11T14:44:49.786859Z",
     "shell.execute_reply": "2023-10-11T14:44:49.785740Z"
    },
    "papermill": {
     "duration": 0.092318,
     "end_time": "2023-10-11T14:44:49.788963",
     "exception": false,
     "start_time": "2023-10-11T14:44:49.696645",
     "status": "completed"
    },
    "tags": []
   },
   "outputs": [
    {
     "data": {
      "text/html": [
       "<div>\n",
       "<style scoped>\n",
       "    .dataframe tbody tr th:only-of-type {\n",
       "        vertical-align: middle;\n",
       "    }\n",
       "\n",
       "    .dataframe tbody tr th {\n",
       "        vertical-align: top;\n",
       "    }\n",
       "\n",
       "    .dataframe thead th {\n",
       "        text-align: right;\n",
       "    }\n",
       "</style>\n",
       "<table border=\"1\" class=\"dataframe\">\n",
       "  <thead>\n",
       "    <tr style=\"text-align: right;\">\n",
       "      <th></th>\n",
       "      <th>PassengerId</th>\n",
       "      <th>Survived</th>\n",
       "      <th>Pclass</th>\n",
       "      <th>Name</th>\n",
       "      <th>Sex</th>\n",
       "      <th>SibSp</th>\n",
       "      <th>Parch</th>\n",
       "      <th>Ticket</th>\n",
       "      <th>Fare</th>\n",
       "      <th>Cabin</th>\n",
       "      <th>Embarked</th>\n",
       "    </tr>\n",
       "  </thead>\n",
       "  <tbody>\n",
       "    <tr>\n",
       "      <th>0</th>\n",
       "      <td>1</td>\n",
       "      <td>0</td>\n",
       "      <td>3</td>\n",
       "      <td>Braund, Mr. Owen Harris</td>\n",
       "      <td>male</td>\n",
       "      <td>1</td>\n",
       "      <td>0</td>\n",
       "      <td>A/5 21171</td>\n",
       "      <td>7.2500</td>\n",
       "      <td>NaN</td>\n",
       "      <td>S</td>\n",
       "    </tr>\n",
       "    <tr>\n",
       "      <th>1</th>\n",
       "      <td>2</td>\n",
       "      <td>1</td>\n",
       "      <td>1</td>\n",
       "      <td>Cumings, Mrs. John Bradley (Florence Briggs Th...</td>\n",
       "      <td>female</td>\n",
       "      <td>1</td>\n",
       "      <td>0</td>\n",
       "      <td>PC 17599</td>\n",
       "      <td>71.2833</td>\n",
       "      <td>C85</td>\n",
       "      <td>C</td>\n",
       "    </tr>\n",
       "    <tr>\n",
       "      <th>2</th>\n",
       "      <td>3</td>\n",
       "      <td>1</td>\n",
       "      <td>3</td>\n",
       "      <td>Heikkinen, Miss. Laina</td>\n",
       "      <td>female</td>\n",
       "      <td>0</td>\n",
       "      <td>0</td>\n",
       "      <td>STON/O2. 3101282</td>\n",
       "      <td>7.9250</td>\n",
       "      <td>NaN</td>\n",
       "      <td>S</td>\n",
       "    </tr>\n",
       "    <tr>\n",
       "      <th>3</th>\n",
       "      <td>4</td>\n",
       "      <td>1</td>\n",
       "      <td>1</td>\n",
       "      <td>Futrelle, Mrs. Jacques Heath (Lily May Peel)</td>\n",
       "      <td>female</td>\n",
       "      <td>1</td>\n",
       "      <td>0</td>\n",
       "      <td>113803</td>\n",
       "      <td>53.1000</td>\n",
       "      <td>C123</td>\n",
       "      <td>S</td>\n",
       "    </tr>\n",
       "    <tr>\n",
       "      <th>4</th>\n",
       "      <td>5</td>\n",
       "      <td>0</td>\n",
       "      <td>3</td>\n",
       "      <td>Allen, Mr. William Henry</td>\n",
       "      <td>male</td>\n",
       "      <td>0</td>\n",
       "      <td>0</td>\n",
       "      <td>373450</td>\n",
       "      <td>8.0500</td>\n",
       "      <td>NaN</td>\n",
       "      <td>S</td>\n",
       "    </tr>\n",
       "  </tbody>\n",
       "</table>\n",
       "</div>"
      ],
      "text/plain": [
       "   PassengerId  Survived  Pclass  \\\n",
       "0            1         0       3   \n",
       "1            2         1       1   \n",
       "2            3         1       3   \n",
       "3            4         1       1   \n",
       "4            5         0       3   \n",
       "\n",
       "                                                Name     Sex  SibSp  Parch  \\\n",
       "0                            Braund, Mr. Owen Harris    male      1      0   \n",
       "1  Cumings, Mrs. John Bradley (Florence Briggs Th...  female      1      0   \n",
       "2                             Heikkinen, Miss. Laina  female      0      0   \n",
       "3       Futrelle, Mrs. Jacques Heath (Lily May Peel)  female      1      0   \n",
       "4                           Allen, Mr. William Henry    male      0      0   \n",
       "\n",
       "             Ticket     Fare Cabin Embarked  \n",
       "0         A/5 21171   7.2500   NaN        S  \n",
       "1          PC 17599  71.2833   C85        C  \n",
       "2  STON/O2. 3101282   7.9250   NaN        S  \n",
       "3            113803  53.1000  C123        S  \n",
       "4            373450   8.0500   NaN        S  "
      ]
     },
     "execution_count": 159,
     "metadata": {},
     "output_type": "execute_result"
    }
   ],
   "source": [
    "df.loc[:, ~df.columns.str.contains(\"Age\")].head() # It is used to capture suffixes and contains, except ~ statement."
   ]
  },
  {
   "cell_type": "markdown",
   "id": "9a54b3da",
   "metadata": {
    "papermill": {
     "duration": 0.077234,
     "end_time": "2023-10-11T14:44:49.940943",
     "exception": false,
     "start_time": "2023-10-11T14:44:49.863709",
     "status": "completed"
    },
    "tags": []
   },
   "source": [
    "<div style=\"border-radius:10px; border:#DEB887 solid; padding: 15px; background-color: #FFFAF0; font-size:100%; text-align:left\">\n",
    "\n",
    "<h3 align=\"left\"><font color='#DEB887'>💡 Notes: </font></h3>\n",
    "    \n",
    "Explanation of how this code works:\n",
    "\n",
    "1. `df` represents a pandas DataFrame object. We want to perform operations on this DataFrame.\n",
    "\n",
    "2. The `.loc[]` method allows you to access specific rows and columns in the DataFrame. Here, we want to filter only the columns, so we select all rows using \":\".\n",
    "\n",
    "3. The expression `~df.columns.str.contains(\"Age\")` checks the column names in the DataFrame and aims to select columns that do not contain the word \"Age.\"\n",
    "\n",
    "   - `df.columns` represents an Index object containing column names.\n",
    "   - The `.str.contains(\"Age\")` method is used to check if column names contain the word \"Age\" and returns a boolean (True/False) value for each column.\n",
    "   - The `~` symbol negates these boolean values, so columns that don't contain the word \"Age\" are marked as `True`, and columns containing \"Age\" are marked as `False`.\n",
    "\n",
    "4. As a result, the `.loc[:, ~df.columns.str.contains(\"Age\")]` expression selects all rows and the columns that do not contain the word \"Age.\"\n",
    "\n",
    "5. The `.head()` method returns the first few rows (by default, the first 5 rows) of this filtered DataFrame."
   ]
  },
  {
   "cell_type": "markdown",
   "id": "de911181",
   "metadata": {
    "papermill": {
     "duration": 0.073985,
     "end_time": "2023-10-11T14:44:50.088779",
     "exception": false,
     "start_time": "2023-10-11T14:44:50.014794",
     "status": "completed"
    },
    "tags": []
   },
   "source": [
    "<a id = \"19\"></a><br>\n",
    "<h1 style=\"background-color:#77BFC7;font-family:courier;font-size:250%;font-style: oblique;font-weight: bold;font-variant: small-caps;text-align:center;border-radius: 15px 50px;\"> loc - iloc </h1>\n",
    "\n",
    "First, Let's talk about indexes.\n",
    "\n",
    "In pandas, an index is a unique identifier for rows in a DataFrame. It provides a way to access and reference data in a more meaningful and efficient manner. By default, when you create a DataFrame, pandas assigns a numerical index starting from 0 to the rows. However, you can also specify a column or multiple columns from the DataFrame to use as the index.\n",
    "\n",
    "Some key points about DataFrame indexes in pandas:\n",
    "\n",
    "* **Default Index:** When you create a DataFrame without specifying an index, pandas automatically assigns a default numerical index starting from 0 and incrementing by 1 for each row.\n",
    "\n",
    "* **Specifying Index:** You can explicitly set an existing column as the index during DataFrame creation using the index parameter. For example: df = pd.DataFrame(data, index=my_index_column).\n",
    "\n",
    "* **Setting Index Later:** You can also set the index later using the set_index() method of the DataFrame. For example: df.set_index('column_name', inplace=True).\n",
    "\n",
    "* **Multi-level Index:** A DataFrame can have a multi-level index, where you can use multiple columns as the index, creating a hierarchical structure.\n",
    "\n",
    "* **Accessing Rows with Index:** Once you set an index, you can use it to access rows in a DataFrame using loc[] method. For example: df.loc['index_value'].\n",
    "\n",
    "* **Resetting Index:** If you want to remove the current index and revert to the default numerical index, you can use the reset_index() method."
   ]
  },
  {
   "cell_type": "markdown",
   "id": "5cb46cb9",
   "metadata": {
    "papermill": {
     "duration": 0.075562,
     "end_time": "2023-10-11T14:44:50.240949",
     "exception": false,
     "start_time": "2023-10-11T14:44:50.165387",
     "status": "completed"
    },
    "tags": []
   },
   "source": [
    "---"
   ]
  },
  {
   "cell_type": "code",
   "execution_count": 160,
   "id": "9814c47e",
   "metadata": {
    "execution": {
     "iopub.execute_input": "2023-10-11T14:44:50.417795Z",
     "iopub.status.busy": "2023-10-11T14:44:50.416644Z",
     "iopub.status.idle": "2023-10-11T14:44:50.431941Z",
     "shell.execute_reply": "2023-10-11T14:44:50.430862Z"
    },
    "papermill": {
     "duration": 0.107368,
     "end_time": "2023-10-11T14:44:50.434093",
     "exception": false,
     "start_time": "2023-10-11T14:44:50.326725",
     "status": "completed"
    },
    "tags": []
   },
   "outputs": [
    {
     "data": {
      "text/html": [
       "<div>\n",
       "<style scoped>\n",
       "    .dataframe tbody tr th:only-of-type {\n",
       "        vertical-align: middle;\n",
       "    }\n",
       "\n",
       "    .dataframe tbody tr th {\n",
       "        vertical-align: top;\n",
       "    }\n",
       "\n",
       "    .dataframe thead th {\n",
       "        text-align: right;\n",
       "    }\n",
       "</style>\n",
       "<table border=\"1\" class=\"dataframe\">\n",
       "  <thead>\n",
       "    <tr style=\"text-align: right;\">\n",
       "      <th></th>\n",
       "      <th>Name</th>\n",
       "      <th>Age</th>\n",
       "      <th>City</th>\n",
       "    </tr>\n",
       "  </thead>\n",
       "  <tbody>\n",
       "    <tr>\n",
       "      <th>A</th>\n",
       "      <td>Alice</td>\n",
       "      <td>25</td>\n",
       "      <td>New York</td>\n",
       "    </tr>\n",
       "    <tr>\n",
       "      <th>B</th>\n",
       "      <td>Bob</td>\n",
       "      <td>30</td>\n",
       "      <td>San Francisco</td>\n",
       "    </tr>\n",
       "    <tr>\n",
       "      <th>C</th>\n",
       "      <td>Charlie</td>\n",
       "      <td>35</td>\n",
       "      <td>Los Angeles</td>\n",
       "    </tr>\n",
       "    <tr>\n",
       "      <th>D</th>\n",
       "      <td>David</td>\n",
       "      <td>28</td>\n",
       "      <td>Chicago</td>\n",
       "    </tr>\n",
       "  </tbody>\n",
       "</table>\n",
       "</div>"
      ],
      "text/plain": [
       "      Name  Age           City\n",
       "A    Alice   25       New York\n",
       "B      Bob   30  San Francisco\n",
       "C  Charlie   35    Los Angeles\n",
       "D    David   28        Chicago"
      ]
     },
     "execution_count": 160,
     "metadata": {},
     "output_type": "execute_result"
    }
   ],
   "source": [
    "import pandas as pd\n",
    "\n",
    "data = {\n",
    "    'Name': ['Alice', 'Bob', 'Charlie', 'David'],\n",
    "    'Age': [25, 30, 35, 28],\n",
    "    'City': ['New York', 'San Francisco', 'Los Angeles', 'Chicago']\n",
    "}\n",
    "\n",
    "# Creating a DataFrame with 'Name' column as the index:\n",
    "\n",
    "df = pd.DataFrame(data, index=['A', 'B', 'C', 'D'])\n",
    "\n",
    "df"
   ]
  },
  {
   "cell_type": "markdown",
   "id": "34e5a43f",
   "metadata": {
    "papermill": {
     "duration": 0.090475,
     "end_time": "2023-10-11T14:44:50.607358",
     "exception": false,
     "start_time": "2023-10-11T14:44:50.516883",
     "status": "completed"
    },
    "tags": []
   },
   "source": [
    "<div style=\"border-radius:10px; border:#DEB887 solid; padding: 15px; background-color: #FFFAF0; font-size:100%; text-align:left\">\n",
    "\n",
    "<h3 align=\"left\"><font color='#DEB887'>💡 Notes: </font></h3>\n",
    "\n",
    "**1. DataFrame loc[] method:**\n",
    "\n",
    "* The loc[] method is used to access rows and columns by their label names.\n",
    "* It allows you to perform selection based on the labels of the rows and columns.\n",
    "* loc[] is used for label-based operations.\n",
    "* The method works with labels and always returns a DataFrame containing the specified labels of rows and columns.\n",
    "* The result of the operation is a subset of rows and columns containing the specified labels.\n",
    "\n",
    "**2. DataFrame iloc[] method:**\n",
    "\n",
    "* The iloc[] method is used to access rows and columns by their integer-based positions.\n",
    "* It allows you to perform selection based on the integer index of the rows and columns.\n",
    "* iloc[] is used for integer-based operations.\n",
    "* The method works with integer indexes and always returns a DataFrame containing the specified integer indexes of rows and columns.\n",
    "* The result of the operation is a subset of rows and columns containing the specified integer indexes."
   ]
  },
  {
   "cell_type": "markdown",
   "id": "31568d85",
   "metadata": {
    "papermill": {
     "duration": 0.101722,
     "end_time": "2023-10-11T14:44:50.796551",
     "exception": false,
     "start_time": "2023-10-11T14:44:50.694829",
     "status": "completed"
    },
    "tags": []
   },
   "source": [
    "---"
   ]
  },
  {
   "cell_type": "code",
   "execution_count": 161,
   "id": "8ebb634c",
   "metadata": {
    "execution": {
     "iopub.execute_input": "2023-10-11T14:44:51.019568Z",
     "iopub.status.busy": "2023-10-11T14:44:51.018868Z",
     "iopub.status.idle": "2023-10-11T14:44:51.029136Z",
     "shell.execute_reply": "2023-10-11T14:44:51.028180Z"
    },
    "papermill": {
     "duration": 0.092333,
     "end_time": "2023-10-11T14:44:51.031268",
     "exception": false,
     "start_time": "2023-10-11T14:44:50.938935",
     "status": "completed"
    },
    "tags": []
   },
   "outputs": [
    {
     "data": {
      "text/plain": [
       "0    25\n",
       "1    30\n",
       "2    22\n",
       "3    28\n",
       "Name: Age, dtype: int64"
      ]
     },
     "execution_count": 161,
     "metadata": {},
     "output_type": "execute_result"
    }
   ],
   "source": [
    "import pandas as pd\n",
    "\n",
    "# Let's create a DataFrame:\n",
    "\n",
    "data = {\n",
    "    'Name': ['John', 'Jane', 'Mike', 'Emily'],\n",
    "    'Age': [25, 30, 22, 28],\n",
    "    'City': ['New York', 'London', 'Paris', 'Sydney']\n",
    "}\n",
    "\n",
    "df = pd.DataFrame(data)\n",
    "\n",
    "# loc[] for label-based operation:\n",
    "\n",
    "df.loc[0:3,\"Age\"]    # Retrieves the row with label 'Jane'"
   ]
  },
  {
   "cell_type": "code",
   "execution_count": 162,
   "id": "bf660f1d",
   "metadata": {
    "execution": {
     "iopub.execute_input": "2023-10-11T14:44:51.185737Z",
     "iopub.status.busy": "2023-10-11T14:44:51.184960Z",
     "iopub.status.idle": "2023-10-11T14:44:51.195828Z",
     "shell.execute_reply": "2023-10-11T14:44:51.194728Z"
    },
    "papermill": {
     "duration": 0.092055,
     "end_time": "2023-10-11T14:44:51.197966",
     "exception": false,
     "start_time": "2023-10-11T14:44:51.105911",
     "status": "completed"
    },
    "tags": []
   },
   "outputs": [
    {
     "data": {
      "text/html": [
       "<div>\n",
       "<style scoped>\n",
       "    .dataframe tbody tr th:only-of-type {\n",
       "        vertical-align: middle;\n",
       "    }\n",
       "\n",
       "    .dataframe tbody tr th {\n",
       "        vertical-align: top;\n",
       "    }\n",
       "\n",
       "    .dataframe thead th {\n",
       "        text-align: right;\n",
       "    }\n",
       "</style>\n",
       "<table border=\"1\" class=\"dataframe\">\n",
       "  <thead>\n",
       "    <tr style=\"text-align: right;\">\n",
       "      <th></th>\n",
       "      <th>Name</th>\n",
       "      <th>Age</th>\n",
       "      <th>City</th>\n",
       "    </tr>\n",
       "  </thead>\n",
       "  <tbody>\n",
       "    <tr>\n",
       "      <th>0</th>\n",
       "      <td>John</td>\n",
       "      <td>25</td>\n",
       "      <td>New York</td>\n",
       "    </tr>\n",
       "    <tr>\n",
       "      <th>1</th>\n",
       "      <td>Jane</td>\n",
       "      <td>30</td>\n",
       "      <td>London</td>\n",
       "    </tr>\n",
       "    <tr>\n",
       "      <th>2</th>\n",
       "      <td>Mike</td>\n",
       "      <td>22</td>\n",
       "      <td>Paris</td>\n",
       "    </tr>\n",
       "  </tbody>\n",
       "</table>\n",
       "</div>"
      ],
      "text/plain": [
       "   Name  Age      City\n",
       "0  John   25  New York\n",
       "1  Jane   30    London\n",
       "2  Mike   22     Paris"
      ]
     },
     "execution_count": 162,
     "metadata": {},
     "output_type": "execute_result"
    }
   ],
   "source": [
    "# iloc[] for integer-based operation:\n",
    "\n",
    "df.iloc[0:3]   # Retrieves the row at index 1"
   ]
  },
  {
   "cell_type": "markdown",
   "id": "c595501e",
   "metadata": {
    "papermill": {
     "duration": 0.076059,
     "end_time": "2023-10-11T14:44:51.349578",
     "exception": false,
     "start_time": "2023-10-11T14:44:51.273519",
     "status": "completed"
    },
    "tags": []
   },
   "source": [
    "---"
   ]
  },
  {
   "cell_type": "code",
   "execution_count": 163,
   "id": "8ebc7193",
   "metadata": {
    "execution": {
     "iopub.execute_input": "2023-10-11T14:44:51.508879Z",
     "iopub.status.busy": "2023-10-11T14:44:51.508524Z",
     "iopub.status.idle": "2023-10-11T14:44:51.521513Z",
     "shell.execute_reply": "2023-10-11T14:44:51.520320Z"
    },
    "papermill": {
     "duration": 0.095558,
     "end_time": "2023-10-11T14:44:51.524315",
     "exception": false,
     "start_time": "2023-10-11T14:44:51.428757",
     "status": "completed"
    },
    "tags": []
   },
   "outputs": [],
   "source": [
    "import pandas as pd\n",
    "import seaborn as sns\n",
    "\n",
    "df = pd.read_csv('/kaggle/input/titanic/train.csv')"
   ]
  },
  {
   "cell_type": "code",
   "execution_count": 164,
   "id": "6df25b9b",
   "metadata": {
    "execution": {
     "iopub.execute_input": "2023-10-11T14:44:51.673535Z",
     "iopub.status.busy": "2023-10-11T14:44:51.673146Z",
     "iopub.status.idle": "2023-10-11T14:44:51.687298Z",
     "shell.execute_reply": "2023-10-11T14:44:51.686325Z"
    },
    "papermill": {
     "duration": 0.090285,
     "end_time": "2023-10-11T14:44:51.689303",
     "exception": false,
     "start_time": "2023-10-11T14:44:51.599018",
     "status": "completed"
    },
    "tags": []
   },
   "outputs": [
    {
     "data": {
      "text/html": [
       "<div>\n",
       "<style scoped>\n",
       "    .dataframe tbody tr th:only-of-type {\n",
       "        vertical-align: middle;\n",
       "    }\n",
       "\n",
       "    .dataframe tbody tr th {\n",
       "        vertical-align: top;\n",
       "    }\n",
       "\n",
       "    .dataframe thead th {\n",
       "        text-align: right;\n",
       "    }\n",
       "</style>\n",
       "<table border=\"1\" class=\"dataframe\">\n",
       "  <thead>\n",
       "    <tr style=\"text-align: right;\">\n",
       "      <th></th>\n",
       "      <th>PassengerId</th>\n",
       "      <th>Survived</th>\n",
       "      <th>Pclass</th>\n",
       "      <th>Name</th>\n",
       "      <th>Sex</th>\n",
       "      <th>Age</th>\n",
       "      <th>SibSp</th>\n",
       "      <th>Parch</th>\n",
       "      <th>Ticket</th>\n",
       "      <th>Fare</th>\n",
       "      <th>Cabin</th>\n",
       "      <th>Embarked</th>\n",
       "    </tr>\n",
       "  </thead>\n",
       "  <tbody>\n",
       "    <tr>\n",
       "      <th>0</th>\n",
       "      <td>1</td>\n",
       "      <td>0</td>\n",
       "      <td>3</td>\n",
       "      <td>Braund, Mr. Owen Harris</td>\n",
       "      <td>male</td>\n",
       "      <td>22.0</td>\n",
       "      <td>1</td>\n",
       "      <td>0</td>\n",
       "      <td>A/5 21171</td>\n",
       "      <td>7.2500</td>\n",
       "      <td>NaN</td>\n",
       "      <td>S</td>\n",
       "    </tr>\n",
       "    <tr>\n",
       "      <th>1</th>\n",
       "      <td>2</td>\n",
       "      <td>1</td>\n",
       "      <td>1</td>\n",
       "      <td>Cumings, Mrs. John Bradley (Florence Briggs Th...</td>\n",
       "      <td>female</td>\n",
       "      <td>38.0</td>\n",
       "      <td>1</td>\n",
       "      <td>0</td>\n",
       "      <td>PC 17599</td>\n",
       "      <td>71.2833</td>\n",
       "      <td>C85</td>\n",
       "      <td>C</td>\n",
       "    </tr>\n",
       "    <tr>\n",
       "      <th>2</th>\n",
       "      <td>3</td>\n",
       "      <td>1</td>\n",
       "      <td>3</td>\n",
       "      <td>Heikkinen, Miss. Laina</td>\n",
       "      <td>female</td>\n",
       "      <td>26.0</td>\n",
       "      <td>0</td>\n",
       "      <td>0</td>\n",
       "      <td>STON/O2. 3101282</td>\n",
       "      <td>7.9250</td>\n",
       "      <td>NaN</td>\n",
       "      <td>S</td>\n",
       "    </tr>\n",
       "  </tbody>\n",
       "</table>\n",
       "</div>"
      ],
      "text/plain": [
       "   PassengerId  Survived  Pclass  \\\n",
       "0            1         0       3   \n",
       "1            2         1       1   \n",
       "2            3         1       3   \n",
       "\n",
       "                                                Name     Sex   Age  SibSp  \\\n",
       "0                            Braund, Mr. Owen Harris    male  22.0      1   \n",
       "1  Cumings, Mrs. John Bradley (Florence Briggs Th...  female  38.0      1   \n",
       "2                             Heikkinen, Miss. Laina  female  26.0      0   \n",
       "\n",
       "   Parch            Ticket     Fare Cabin Embarked  \n",
       "0      0         A/5 21171   7.2500   NaN        S  \n",
       "1      0          PC 17599  71.2833   C85        C  \n",
       "2      0  STON/O2. 3101282   7.9250   NaN        S  "
      ]
     },
     "execution_count": 164,
     "metadata": {},
     "output_type": "execute_result"
    }
   ],
   "source": [
    "# iloc: integer based selection\n",
    "\n",
    "df.iloc[0:3]"
   ]
  },
  {
   "cell_type": "code",
   "execution_count": 165,
   "id": "f3314547",
   "metadata": {
    "execution": {
     "iopub.execute_input": "2023-10-11T14:44:51.848588Z",
     "iopub.status.busy": "2023-10-11T14:44:51.848221Z",
     "iopub.status.idle": "2023-10-11T14:44:51.854832Z",
     "shell.execute_reply": "2023-10-11T14:44:51.853676Z"
    },
    "papermill": {
     "duration": 0.089387,
     "end_time": "2023-10-11T14:44:51.856937",
     "exception": false,
     "start_time": "2023-10-11T14:44:51.767550",
     "status": "completed"
    },
    "tags": []
   },
   "outputs": [
    {
     "data": {
      "text/plain": [
       "1"
      ]
     },
     "execution_count": 165,
     "metadata": {},
     "output_type": "execute_result"
    }
   ],
   "source": [
    "df.iloc[0, 0]"
   ]
  },
  {
   "cell_type": "code",
   "execution_count": 166,
   "id": "35ef1355",
   "metadata": {
    "execution": {
     "iopub.execute_input": "2023-10-11T14:44:52.008631Z",
     "iopub.status.busy": "2023-10-11T14:44:52.007605Z",
     "iopub.status.idle": "2023-10-11T14:44:52.024995Z",
     "shell.execute_reply": "2023-10-11T14:44:52.023779Z"
    },
    "papermill": {
     "duration": 0.095083,
     "end_time": "2023-10-11T14:44:52.027344",
     "exception": false,
     "start_time": "2023-10-11T14:44:51.932261",
     "status": "completed"
    },
    "tags": []
   },
   "outputs": [
    {
     "data": {
      "text/html": [
       "<div>\n",
       "<style scoped>\n",
       "    .dataframe tbody tr th:only-of-type {\n",
       "        vertical-align: middle;\n",
       "    }\n",
       "\n",
       "    .dataframe tbody tr th {\n",
       "        vertical-align: top;\n",
       "    }\n",
       "\n",
       "    .dataframe thead th {\n",
       "        text-align: right;\n",
       "    }\n",
       "</style>\n",
       "<table border=\"1\" class=\"dataframe\">\n",
       "  <thead>\n",
       "    <tr style=\"text-align: right;\">\n",
       "      <th></th>\n",
       "      <th>PassengerId</th>\n",
       "      <th>Survived</th>\n",
       "      <th>Pclass</th>\n",
       "      <th>Name</th>\n",
       "      <th>Sex</th>\n",
       "      <th>Age</th>\n",
       "      <th>SibSp</th>\n",
       "      <th>Parch</th>\n",
       "      <th>Ticket</th>\n",
       "      <th>Fare</th>\n",
       "      <th>Cabin</th>\n",
       "      <th>Embarked</th>\n",
       "    </tr>\n",
       "  </thead>\n",
       "  <tbody>\n",
       "    <tr>\n",
       "      <th>0</th>\n",
       "      <td>1</td>\n",
       "      <td>0</td>\n",
       "      <td>3</td>\n",
       "      <td>Braund, Mr. Owen Harris</td>\n",
       "      <td>male</td>\n",
       "      <td>22.0</td>\n",
       "      <td>1</td>\n",
       "      <td>0</td>\n",
       "      <td>A/5 21171</td>\n",
       "      <td>7.2500</td>\n",
       "      <td>NaN</td>\n",
       "      <td>S</td>\n",
       "    </tr>\n",
       "    <tr>\n",
       "      <th>1</th>\n",
       "      <td>2</td>\n",
       "      <td>1</td>\n",
       "      <td>1</td>\n",
       "      <td>Cumings, Mrs. John Bradley (Florence Briggs Th...</td>\n",
       "      <td>female</td>\n",
       "      <td>38.0</td>\n",
       "      <td>1</td>\n",
       "      <td>0</td>\n",
       "      <td>PC 17599</td>\n",
       "      <td>71.2833</td>\n",
       "      <td>C85</td>\n",
       "      <td>C</td>\n",
       "    </tr>\n",
       "    <tr>\n",
       "      <th>2</th>\n",
       "      <td>3</td>\n",
       "      <td>1</td>\n",
       "      <td>3</td>\n",
       "      <td>Heikkinen, Miss. Laina</td>\n",
       "      <td>female</td>\n",
       "      <td>26.0</td>\n",
       "      <td>0</td>\n",
       "      <td>0</td>\n",
       "      <td>STON/O2. 3101282</td>\n",
       "      <td>7.9250</td>\n",
       "      <td>NaN</td>\n",
       "      <td>S</td>\n",
       "    </tr>\n",
       "    <tr>\n",
       "      <th>3</th>\n",
       "      <td>4</td>\n",
       "      <td>1</td>\n",
       "      <td>1</td>\n",
       "      <td>Futrelle, Mrs. Jacques Heath (Lily May Peel)</td>\n",
       "      <td>female</td>\n",
       "      <td>35.0</td>\n",
       "      <td>1</td>\n",
       "      <td>0</td>\n",
       "      <td>113803</td>\n",
       "      <td>53.1000</td>\n",
       "      <td>C123</td>\n",
       "      <td>S</td>\n",
       "    </tr>\n",
       "  </tbody>\n",
       "</table>\n",
       "</div>"
      ],
      "text/plain": [
       "   PassengerId  Survived  Pclass  \\\n",
       "0            1         0       3   \n",
       "1            2         1       1   \n",
       "2            3         1       3   \n",
       "3            4         1       1   \n",
       "\n",
       "                                                Name     Sex   Age  SibSp  \\\n",
       "0                            Braund, Mr. Owen Harris    male  22.0      1   \n",
       "1  Cumings, Mrs. John Bradley (Florence Briggs Th...  female  38.0      1   \n",
       "2                             Heikkinen, Miss. Laina  female  26.0      0   \n",
       "3       Futrelle, Mrs. Jacques Heath (Lily May Peel)  female  35.0      1   \n",
       "\n",
       "   Parch            Ticket     Fare Cabin Embarked  \n",
       "0      0         A/5 21171   7.2500   NaN        S  \n",
       "1      0          PC 17599  71.2833   C85        C  \n",
       "2      0  STON/O2. 3101282   7.9250   NaN        S  \n",
       "3      0            113803  53.1000  C123        S  "
      ]
     },
     "execution_count": 166,
     "metadata": {},
     "output_type": "execute_result"
    }
   ],
   "source": [
    "# loc: label based selection\n",
    "\n",
    "df.loc[0:3]"
   ]
  },
  {
   "cell_type": "code",
   "execution_count": 167,
   "id": "2523d6ad",
   "metadata": {
    "execution": {
     "iopub.execute_input": "2023-10-11T14:44:52.186559Z",
     "iopub.status.busy": "2023-10-11T14:44:52.185200Z",
     "iopub.status.idle": "2023-10-11T14:44:52.195766Z",
     "shell.execute_reply": "2023-10-11T14:44:52.194698Z"
    },
    "papermill": {
     "duration": 0.093507,
     "end_time": "2023-10-11T14:44:52.197945",
     "exception": false,
     "start_time": "2023-10-11T14:44:52.104438",
     "status": "completed"
    },
    "tags": []
   },
   "outputs": [
    {
     "data": {
      "text/html": [
       "<div>\n",
       "<style scoped>\n",
       "    .dataframe tbody tr th:only-of-type {\n",
       "        vertical-align: middle;\n",
       "    }\n",
       "\n",
       "    .dataframe tbody tr th {\n",
       "        vertical-align: top;\n",
       "    }\n",
       "\n",
       "    .dataframe thead th {\n",
       "        text-align: right;\n",
       "    }\n",
       "</style>\n",
       "<table border=\"1\" class=\"dataframe\">\n",
       "  <thead>\n",
       "    <tr style=\"text-align: right;\">\n",
       "      <th></th>\n",
       "      <th>PassengerId</th>\n",
       "      <th>Survived</th>\n",
       "      <th>Pclass</th>\n",
       "    </tr>\n",
       "  </thead>\n",
       "  <tbody>\n",
       "    <tr>\n",
       "      <th>0</th>\n",
       "      <td>1</td>\n",
       "      <td>0</td>\n",
       "      <td>3</td>\n",
       "    </tr>\n",
       "    <tr>\n",
       "      <th>1</th>\n",
       "      <td>2</td>\n",
       "      <td>1</td>\n",
       "      <td>1</td>\n",
       "    </tr>\n",
       "    <tr>\n",
       "      <th>2</th>\n",
       "      <td>3</td>\n",
       "      <td>1</td>\n",
       "      <td>3</td>\n",
       "    </tr>\n",
       "  </tbody>\n",
       "</table>\n",
       "</div>"
      ],
      "text/plain": [
       "   PassengerId  Survived  Pclass\n",
       "0            1         0       3\n",
       "1            2         1       1\n",
       "2            3         1       3"
      ]
     },
     "execution_count": 167,
     "metadata": {},
     "output_type": "execute_result"
    }
   ],
   "source": [
    "df.iloc[0:3, 0:3]"
   ]
  },
  {
   "cell_type": "code",
   "execution_count": 168,
   "id": "1785eece",
   "metadata": {
    "execution": {
     "iopub.execute_input": "2023-10-11T14:44:52.354120Z",
     "iopub.status.busy": "2023-10-11T14:44:52.353410Z",
     "iopub.status.idle": "2023-10-11T14:44:52.360910Z",
     "shell.execute_reply": "2023-10-11T14:44:52.359997Z"
    },
    "papermill": {
     "duration": 0.086389,
     "end_time": "2023-10-11T14:44:52.363309",
     "exception": false,
     "start_time": "2023-10-11T14:44:52.276920",
     "status": "completed"
    },
    "tags": []
   },
   "outputs": [
    {
     "data": {
      "text/plain": [
       "0    22.0\n",
       "1    38.0\n",
       "2    26.0\n",
       "3    35.0\n",
       "Name: Age, dtype: float64"
      ]
     },
     "execution_count": 168,
     "metadata": {},
     "output_type": "execute_result"
    }
   ],
   "source": [
    "df.loc[0:3, \"Age\"]"
   ]
  },
  {
   "cell_type": "markdown",
   "id": "54103a5e",
   "metadata": {
    "papermill": {
     "duration": 0.077487,
     "end_time": "2023-10-11T14:44:52.519926",
     "exception": false,
     "start_time": "2023-10-11T14:44:52.442439",
     "status": "completed"
    },
    "tags": []
   },
   "source": [
    "<a id = \"20\"></a><br>\n",
    "<h1 style=\"background-color:#77BFC7;font-family:courier;font-size:250%;font-style: oblique;font-weight: bold;font-variant: small-caps;text-align:center;border-radius: 15px 50px;\"> Conditional Element Operations </h1>\n",
    "\n",
    "1. **Conditional Selection:**\n",
    "\n",
    "Conditional selection is used to select rows or columns in a DataFrame that satisfy a specific condition.\n",
    "\n",
    "2. **Conditional Filtering:**\n",
    "\n",
    "Conditional filtering is used to filter rows or columns in a DataFrame based on a specific condition.\n",
    "\n",
    "3. **Reassignment:**\n",
    "\n",
    "Reassignment is used to update the values of elements that satisfy a specific condition in a DataFrame.\n",
    "\n",
    "4. **Handling NaN Values:**\n",
    "\n",
    "Handling NaN (Not a Number) values is used to replace or remove NaN values in a DataFrame."
   ]
  },
  {
   "cell_type": "markdown",
   "id": "a353796c",
   "metadata": {
    "papermill": {
     "duration": 0.072608,
     "end_time": "2023-10-11T14:44:52.668156",
     "exception": false,
     "start_time": "2023-10-11T14:44:52.595548",
     "status": "completed"
    },
    "tags": []
   },
   "source": [
    "---"
   ]
  },
  {
   "cell_type": "code",
   "execution_count": 169,
   "id": "d703b25b",
   "metadata": {
    "execution": {
     "iopub.execute_input": "2023-10-11T14:44:52.818932Z",
     "iopub.status.busy": "2023-10-11T14:44:52.818262Z",
     "iopub.status.idle": "2023-10-11T14:44:52.830670Z",
     "shell.execute_reply": "2023-10-11T14:44:52.829791Z"
    },
    "papermill": {
     "duration": 0.090969,
     "end_time": "2023-10-11T14:44:52.832792",
     "exception": false,
     "start_time": "2023-10-11T14:44:52.741823",
     "status": "completed"
    },
    "tags": []
   },
   "outputs": [
    {
     "data": {
      "text/html": [
       "<div>\n",
       "<style scoped>\n",
       "    .dataframe tbody tr th:only-of-type {\n",
       "        vertical-align: middle;\n",
       "    }\n",
       "\n",
       "    .dataframe tbody tr th {\n",
       "        vertical-align: top;\n",
       "    }\n",
       "\n",
       "    .dataframe thead th {\n",
       "        text-align: right;\n",
       "    }\n",
       "</style>\n",
       "<table border=\"1\" class=\"dataframe\">\n",
       "  <thead>\n",
       "    <tr style=\"text-align: right;\">\n",
       "      <th></th>\n",
       "      <th>Name</th>\n",
       "      <th>Age</th>\n",
       "      <th>City</th>\n",
       "    </tr>\n",
       "  </thead>\n",
       "  <tbody>\n",
       "    <tr>\n",
       "      <th>1</th>\n",
       "      <td>Jane</td>\n",
       "      <td>30</td>\n",
       "      <td>London</td>\n",
       "    </tr>\n",
       "    <tr>\n",
       "      <th>3</th>\n",
       "      <td>Emily</td>\n",
       "      <td>28</td>\n",
       "      <td>Sydney</td>\n",
       "    </tr>\n",
       "  </tbody>\n",
       "</table>\n",
       "</div>"
      ],
      "text/plain": [
       "    Name  Age    City\n",
       "1   Jane   30  London\n",
       "3  Emily   28  Sydney"
      ]
     },
     "execution_count": 169,
     "metadata": {},
     "output_type": "execute_result"
    }
   ],
   "source": [
    "import pandas as pd\n",
    "\n",
    "# Let's create a DataFrame:\n",
    "\n",
    "data = {\n",
    "    'Name': ['John', 'Jane', 'Mike', 'Emily'],\n",
    "    'Age': [25, 30, 22, 28],\n",
    "    'City': ['New York', 'London', 'Paris', 'Sydney']\n",
    "}\n",
    "\n",
    "df = pd.DataFrame(data)\n",
    "\n",
    "# Select people older than 25:\n",
    "\n",
    "df[df['Age'] > 25]"
   ]
  },
  {
   "cell_type": "code",
   "execution_count": 170,
   "id": "36ecf29f",
   "metadata": {
    "execution": {
     "iopub.execute_input": "2023-10-11T14:44:52.982411Z",
     "iopub.status.busy": "2023-10-11T14:44:52.981830Z",
     "iopub.status.idle": "2023-10-11T14:44:52.992435Z",
     "shell.execute_reply": "2023-10-11T14:44:52.991331Z"
    },
    "papermill": {
     "duration": 0.087385,
     "end_time": "2023-10-11T14:44:52.994630",
     "exception": false,
     "start_time": "2023-10-11T14:44:52.907245",
     "status": "completed"
    },
    "tags": []
   },
   "outputs": [
    {
     "data": {
      "text/html": [
       "<div>\n",
       "<style scoped>\n",
       "    .dataframe tbody tr th:only-of-type {\n",
       "        vertical-align: middle;\n",
       "    }\n",
       "\n",
       "    .dataframe tbody tr th {\n",
       "        vertical-align: top;\n",
       "    }\n",
       "\n",
       "    .dataframe thead th {\n",
       "        text-align: right;\n",
       "    }\n",
       "</style>\n",
       "<table border=\"1\" class=\"dataframe\">\n",
       "  <thead>\n",
       "    <tr style=\"text-align: right;\">\n",
       "      <th></th>\n",
       "      <th>Name</th>\n",
       "      <th>Age</th>\n",
       "      <th>City</th>\n",
       "    </tr>\n",
       "  </thead>\n",
       "  <tbody>\n",
       "    <tr>\n",
       "      <th>1</th>\n",
       "      <td>Jane</td>\n",
       "      <td>30</td>\n",
       "      <td>London</td>\n",
       "    </tr>\n",
       "  </tbody>\n",
       "</table>\n",
       "</div>"
      ],
      "text/plain": [
       "   Name  Age    City\n",
       "1  Jane   30  London"
      ]
     },
     "execution_count": 170,
     "metadata": {},
     "output_type": "execute_result"
    }
   ],
   "source": [
    "# Filter people living in \"London\":\n",
    "\n",
    "df[df['City'] == 'London']"
   ]
  },
  {
   "cell_type": "code",
   "execution_count": 171,
   "id": "d336cd65",
   "metadata": {
    "execution": {
     "iopub.execute_input": "2023-10-11T14:44:53.155436Z",
     "iopub.status.busy": "2023-10-11T14:44:53.155062Z",
     "iopub.status.idle": "2023-10-11T14:44:53.165558Z",
     "shell.execute_reply": "2023-10-11T14:44:53.164275Z"
    },
    "papermill": {
     "duration": 0.095254,
     "end_time": "2023-10-11T14:44:53.167634",
     "exception": false,
     "start_time": "2023-10-11T14:44:53.072380",
     "status": "completed"
    },
    "tags": []
   },
   "outputs": [
    {
     "data": {
      "text/html": [
       "<div>\n",
       "<style scoped>\n",
       "    .dataframe tbody tr th:only-of-type {\n",
       "        vertical-align: middle;\n",
       "    }\n",
       "\n",
       "    .dataframe tbody tr th {\n",
       "        vertical-align: top;\n",
       "    }\n",
       "\n",
       "    .dataframe thead th {\n",
       "        text-align: right;\n",
       "    }\n",
       "</style>\n",
       "<table border=\"1\" class=\"dataframe\">\n",
       "  <thead>\n",
       "    <tr style=\"text-align: right;\">\n",
       "      <th></th>\n",
       "      <th>Name</th>\n",
       "      <th>Age</th>\n",
       "      <th>City</th>\n",
       "    </tr>\n",
       "  </thead>\n",
       "  <tbody>\n",
       "    <tr>\n",
       "      <th>0</th>\n",
       "      <td>John</td>\n",
       "      <td>25</td>\n",
       "      <td>New York</td>\n",
       "    </tr>\n",
       "    <tr>\n",
       "      <th>1</th>\n",
       "      <td>Jane</td>\n",
       "      <td>35</td>\n",
       "      <td>London</td>\n",
       "    </tr>\n",
       "    <tr>\n",
       "      <th>2</th>\n",
       "      <td>Mike</td>\n",
       "      <td>22</td>\n",
       "      <td>Paris</td>\n",
       "    </tr>\n",
       "    <tr>\n",
       "      <th>3</th>\n",
       "      <td>Emily</td>\n",
       "      <td>28</td>\n",
       "      <td>Sydney</td>\n",
       "    </tr>\n",
       "  </tbody>\n",
       "</table>\n",
       "</div>"
      ],
      "text/plain": [
       "    Name  Age      City\n",
       "0   John   25  New York\n",
       "1   Jane   35    London\n",
       "2   Mike   22     Paris\n",
       "3  Emily   28    Sydney"
      ]
     },
     "execution_count": 171,
     "metadata": {},
     "output_type": "execute_result"
    }
   ],
   "source": [
    "# Update the age of \"Jane\" to 35:\n",
    "\n",
    "df.loc[df['Name'] == 'Jane', 'Age'] = 35\n",
    "\n",
    "df"
   ]
  },
  {
   "cell_type": "code",
   "execution_count": 172,
   "id": "ab3f71ce",
   "metadata": {
    "execution": {
     "iopub.execute_input": "2023-10-11T14:44:53.321205Z",
     "iopub.status.busy": "2023-10-11T14:44:53.320066Z",
     "iopub.status.idle": "2023-10-11T14:44:53.325671Z",
     "shell.execute_reply": "2023-10-11T14:44:53.324749Z"
    },
    "papermill": {
     "duration": 0.085243,
     "end_time": "2023-10-11T14:44:53.327835",
     "exception": false,
     "start_time": "2023-10-11T14:44:53.242592",
     "status": "completed"
    },
    "tags": []
   },
   "outputs": [],
   "source": [
    "# Replace NaN values with \"Unknown\":\n",
    "\n",
    "df.fillna('Unknown', inplace=True)"
   ]
  },
  {
   "cell_type": "code",
   "execution_count": 173,
   "id": "04c392e4",
   "metadata": {
    "execution": {
     "iopub.execute_input": "2023-10-11T14:44:53.487649Z",
     "iopub.status.busy": "2023-10-11T14:44:53.487287Z",
     "iopub.status.idle": "2023-10-11T14:44:53.493335Z",
     "shell.execute_reply": "2023-10-11T14:44:53.492181Z"
    },
    "papermill": {
     "duration": 0.091568,
     "end_time": "2023-10-11T14:44:53.495558",
     "exception": false,
     "start_time": "2023-10-11T14:44:53.403990",
     "status": "completed"
    },
    "tags": []
   },
   "outputs": [],
   "source": [
    "# Drop rows containing NaN values:\n",
    "\n",
    "df.dropna(inplace=True)"
   ]
  },
  {
   "cell_type": "markdown",
   "id": "ba7fbe37",
   "metadata": {
    "papermill": {
     "duration": 0.075407,
     "end_time": "2023-10-11T14:44:53.647393",
     "exception": false,
     "start_time": "2023-10-11T14:44:53.571986",
     "status": "completed"
    },
    "tags": []
   },
   "source": [
    "---"
   ]
  },
  {
   "cell_type": "code",
   "execution_count": 174,
   "id": "0f06a5c0",
   "metadata": {
    "execution": {
     "iopub.execute_input": "2023-10-11T14:44:53.823024Z",
     "iopub.status.busy": "2023-10-11T14:44:53.822617Z",
     "iopub.status.idle": "2023-10-11T14:44:53.835160Z",
     "shell.execute_reply": "2023-10-11T14:44:53.834003Z"
    },
    "papermill": {
     "duration": 0.109548,
     "end_time": "2023-10-11T14:44:53.838268",
     "exception": false,
     "start_time": "2023-10-11T14:44:53.728720",
     "status": "completed"
    },
    "tags": []
   },
   "outputs": [],
   "source": [
    "import pandas as pd\n",
    "import seaborn as sns\n",
    "\n",
    "df = pd.read_csv('/kaggle/input/titanic/train.csv')"
   ]
  },
  {
   "cell_type": "code",
   "execution_count": 175,
   "id": "5de0bbee",
   "metadata": {
    "execution": {
     "iopub.execute_input": "2023-10-11T14:44:54.000473Z",
     "iopub.status.busy": "2023-10-11T14:44:53.999135Z",
     "iopub.status.idle": "2023-10-11T14:44:54.013775Z",
     "shell.execute_reply": "2023-10-11T14:44:54.012718Z"
    },
    "papermill": {
     "duration": 0.09468,
     "end_time": "2023-10-11T14:44:54.016100",
     "exception": false,
     "start_time": "2023-10-11T14:44:53.921420",
     "status": "completed"
    },
    "tags": []
   },
   "outputs": [
    {
     "data": {
      "text/html": [
       "<div>\n",
       "<style scoped>\n",
       "    .dataframe tbody tr th:only-of-type {\n",
       "        vertical-align: middle;\n",
       "    }\n",
       "\n",
       "    .dataframe tbody tr th {\n",
       "        vertical-align: top;\n",
       "    }\n",
       "\n",
       "    .dataframe thead th {\n",
       "        text-align: right;\n",
       "    }\n",
       "</style>\n",
       "<table border=\"1\" class=\"dataframe\">\n",
       "  <thead>\n",
       "    <tr style=\"text-align: right;\">\n",
       "      <th></th>\n",
       "      <th>PassengerId</th>\n",
       "      <th>Survived</th>\n",
       "      <th>Pclass</th>\n",
       "      <th>Name</th>\n",
       "      <th>Sex</th>\n",
       "      <th>Age</th>\n",
       "      <th>SibSp</th>\n",
       "      <th>Parch</th>\n",
       "      <th>Ticket</th>\n",
       "      <th>Fare</th>\n",
       "      <th>Cabin</th>\n",
       "      <th>Embarked</th>\n",
       "    </tr>\n",
       "  </thead>\n",
       "  <tbody>\n",
       "    <tr>\n",
       "      <th>0</th>\n",
       "      <td>1</td>\n",
       "      <td>0</td>\n",
       "      <td>3</td>\n",
       "      <td>Braund, Mr. Owen Harris</td>\n",
       "      <td>male</td>\n",
       "      <td>22.0</td>\n",
       "      <td>1</td>\n",
       "      <td>0</td>\n",
       "      <td>A/5 21171</td>\n",
       "      <td>7.2500</td>\n",
       "      <td>NaN</td>\n",
       "      <td>S</td>\n",
       "    </tr>\n",
       "    <tr>\n",
       "      <th>1</th>\n",
       "      <td>2</td>\n",
       "      <td>1</td>\n",
       "      <td>1</td>\n",
       "      <td>Cumings, Mrs. John Bradley (Florence Briggs Th...</td>\n",
       "      <td>female</td>\n",
       "      <td>38.0</td>\n",
       "      <td>1</td>\n",
       "      <td>0</td>\n",
       "      <td>PC 17599</td>\n",
       "      <td>71.2833</td>\n",
       "      <td>C85</td>\n",
       "      <td>C</td>\n",
       "    </tr>\n",
       "    <tr>\n",
       "      <th>2</th>\n",
       "      <td>3</td>\n",
       "      <td>1</td>\n",
       "      <td>3</td>\n",
       "      <td>Heikkinen, Miss. Laina</td>\n",
       "      <td>female</td>\n",
       "      <td>26.0</td>\n",
       "      <td>0</td>\n",
       "      <td>0</td>\n",
       "      <td>STON/O2. 3101282</td>\n",
       "      <td>7.9250</td>\n",
       "      <td>NaN</td>\n",
       "      <td>S</td>\n",
       "    </tr>\n",
       "    <tr>\n",
       "      <th>3</th>\n",
       "      <td>4</td>\n",
       "      <td>1</td>\n",
       "      <td>1</td>\n",
       "      <td>Futrelle, Mrs. Jacques Heath (Lily May Peel)</td>\n",
       "      <td>female</td>\n",
       "      <td>35.0</td>\n",
       "      <td>1</td>\n",
       "      <td>0</td>\n",
       "      <td>113803</td>\n",
       "      <td>53.1000</td>\n",
       "      <td>C123</td>\n",
       "      <td>S</td>\n",
       "    </tr>\n",
       "    <tr>\n",
       "      <th>4</th>\n",
       "      <td>5</td>\n",
       "      <td>0</td>\n",
       "      <td>3</td>\n",
       "      <td>Allen, Mr. William Henry</td>\n",
       "      <td>male</td>\n",
       "      <td>35.0</td>\n",
       "      <td>0</td>\n",
       "      <td>0</td>\n",
       "      <td>373450</td>\n",
       "      <td>8.0500</td>\n",
       "      <td>NaN</td>\n",
       "      <td>S</td>\n",
       "    </tr>\n",
       "  </tbody>\n",
       "</table>\n",
       "</div>"
      ],
      "text/plain": [
       "   PassengerId  Survived  Pclass  \\\n",
       "0            1         0       3   \n",
       "1            2         1       1   \n",
       "2            3         1       3   \n",
       "3            4         1       1   \n",
       "4            5         0       3   \n",
       "\n",
       "                                                Name     Sex   Age  SibSp  \\\n",
       "0                            Braund, Mr. Owen Harris    male  22.0      1   \n",
       "1  Cumings, Mrs. John Bradley (Florence Briggs Th...  female  38.0      1   \n",
       "2                             Heikkinen, Miss. Laina  female  26.0      0   \n",
       "3       Futrelle, Mrs. Jacques Heath (Lily May Peel)  female  35.0      1   \n",
       "4                           Allen, Mr. William Henry    male  35.0      0   \n",
       "\n",
       "   Parch            Ticket     Fare Cabin Embarked  \n",
       "0      0         A/5 21171   7.2500   NaN        S  \n",
       "1      0          PC 17599  71.2833   C85        C  \n",
       "2      0  STON/O2. 3101282   7.9250   NaN        S  \n",
       "3      0            113803  53.1000  C123        S  \n",
       "4      0            373450   8.0500   NaN        S  "
      ]
     },
     "execution_count": 175,
     "metadata": {},
     "output_type": "execute_result"
    }
   ],
   "source": [
    "df.head()"
   ]
  },
  {
   "cell_type": "code",
   "execution_count": 176,
   "id": "2235bee7",
   "metadata": {
    "execution": {
     "iopub.execute_input": "2023-10-11T14:44:54.170492Z",
     "iopub.status.busy": "2023-10-11T14:44:54.169187Z",
     "iopub.status.idle": "2023-10-11T14:44:54.180993Z",
     "shell.execute_reply": "2023-10-11T14:44:54.180141Z"
    },
    "papermill": {
     "duration": 0.091091,
     "end_time": "2023-10-11T14:44:54.183155",
     "exception": false,
     "start_time": "2023-10-11T14:44:54.092064",
     "status": "completed"
    },
    "tags": []
   },
   "outputs": [
    {
     "data": {
      "text/html": [
       "<div>\n",
       "<style scoped>\n",
       "    .dataframe tbody tr th:only-of-type {\n",
       "        vertical-align: middle;\n",
       "    }\n",
       "\n",
       "    .dataframe tbody tr th {\n",
       "        vertical-align: top;\n",
       "    }\n",
       "\n",
       "    .dataframe thead th {\n",
       "        text-align: right;\n",
       "    }\n",
       "</style>\n",
       "<table border=\"1\" class=\"dataframe\">\n",
       "  <thead>\n",
       "    <tr style=\"text-align: right;\">\n",
       "      <th></th>\n",
       "      <th>Age</th>\n",
       "      <th>Pclass</th>\n",
       "    </tr>\n",
       "  </thead>\n",
       "  <tbody>\n",
       "    <tr>\n",
       "      <th>6</th>\n",
       "      <td>54.0</td>\n",
       "      <td>1</td>\n",
       "    </tr>\n",
       "    <tr>\n",
       "      <th>11</th>\n",
       "      <td>58.0</td>\n",
       "      <td>1</td>\n",
       "    </tr>\n",
       "    <tr>\n",
       "      <th>15</th>\n",
       "      <td>55.0</td>\n",
       "      <td>2</td>\n",
       "    </tr>\n",
       "    <tr>\n",
       "      <th>33</th>\n",
       "      <td>66.0</td>\n",
       "      <td>2</td>\n",
       "    </tr>\n",
       "    <tr>\n",
       "      <th>54</th>\n",
       "      <td>65.0</td>\n",
       "      <td>1</td>\n",
       "    </tr>\n",
       "  </tbody>\n",
       "</table>\n",
       "</div>"
      ],
      "text/plain": [
       "     Age  Pclass\n",
       "6   54.0       1\n",
       "11  58.0       1\n",
       "15  55.0       2\n",
       "33  66.0       2\n",
       "54  65.0       1"
      ]
     },
     "execution_count": 176,
     "metadata": {},
     "output_type": "execute_result"
    }
   ],
   "source": [
    "df.loc[df[\"Age\"] > 50, [\"Age\", \"Pclass\"]].head()"
   ]
  },
  {
   "cell_type": "code",
   "execution_count": 177,
   "id": "b90f8644",
   "metadata": {
    "execution": {
     "iopub.execute_input": "2023-10-11T14:44:54.338947Z",
     "iopub.status.busy": "2023-10-11T14:44:54.337922Z",
     "iopub.status.idle": "2023-10-11T14:44:54.351746Z",
     "shell.execute_reply": "2023-10-11T14:44:54.350336Z"
    },
    "papermill": {
     "duration": 0.095349,
     "end_time": "2023-10-11T14:44:54.354183",
     "exception": false,
     "start_time": "2023-10-11T14:44:54.258834",
     "status": "completed"
    },
    "tags": []
   },
   "outputs": [
    {
     "data": {
      "text/html": [
       "<div>\n",
       "<style scoped>\n",
       "    .dataframe tbody tr th:only-of-type {\n",
       "        vertical-align: middle;\n",
       "    }\n",
       "\n",
       "    .dataframe tbody tr th {\n",
       "        vertical-align: top;\n",
       "    }\n",
       "\n",
       "    .dataframe thead th {\n",
       "        text-align: right;\n",
       "    }\n",
       "</style>\n",
       "<table border=\"1\" class=\"dataframe\">\n",
       "  <thead>\n",
       "    <tr style=\"text-align: right;\">\n",
       "      <th></th>\n",
       "      <th>Age</th>\n",
       "      <th>Pclass</th>\n",
       "    </tr>\n",
       "  </thead>\n",
       "  <tbody>\n",
       "    <tr>\n",
       "      <th>6</th>\n",
       "      <td>54.0</td>\n",
       "      <td>1</td>\n",
       "    </tr>\n",
       "    <tr>\n",
       "      <th>33</th>\n",
       "      <td>66.0</td>\n",
       "      <td>2</td>\n",
       "    </tr>\n",
       "    <tr>\n",
       "      <th>54</th>\n",
       "      <td>65.0</td>\n",
       "      <td>1</td>\n",
       "    </tr>\n",
       "    <tr>\n",
       "      <th>94</th>\n",
       "      <td>59.0</td>\n",
       "      <td>3</td>\n",
       "    </tr>\n",
       "    <tr>\n",
       "      <th>96</th>\n",
       "      <td>71.0</td>\n",
       "      <td>1</td>\n",
       "    </tr>\n",
       "  </tbody>\n",
       "</table>\n",
       "</div>"
      ],
      "text/plain": [
       "     Age  Pclass\n",
       "6   54.0       1\n",
       "33  66.0       2\n",
       "54  65.0       1\n",
       "94  59.0       3\n",
       "96  71.0       1"
      ]
     },
     "execution_count": 177,
     "metadata": {},
     "output_type": "execute_result"
    }
   ],
   "source": [
    "df.loc[(df[\"Age\"] > 50) & (df[\"Sex\"] == \"male\"), [\"Age\", \"Pclass\"]].head()"
   ]
  },
  {
   "cell_type": "code",
   "execution_count": 178,
   "id": "bb4dad94",
   "metadata": {
    "execution": {
     "iopub.execute_input": "2023-10-11T14:44:54.513306Z",
     "iopub.status.busy": "2023-10-11T14:44:54.512101Z",
     "iopub.status.idle": "2023-10-11T14:44:54.530124Z",
     "shell.execute_reply": "2023-10-11T14:44:54.528818Z"
    },
    "papermill": {
     "duration": 0.100192,
     "end_time": "2023-10-11T14:44:54.532553",
     "exception": false,
     "start_time": "2023-10-11T14:44:54.432361",
     "status": "completed"
    },
    "tags": []
   },
   "outputs": [
    {
     "data": {
      "text/html": [
       "<div>\n",
       "<style scoped>\n",
       "    .dataframe tbody tr th:only-of-type {\n",
       "        vertical-align: middle;\n",
       "    }\n",
       "\n",
       "    .dataframe tbody tr th {\n",
       "        vertical-align: top;\n",
       "    }\n",
       "\n",
       "    .dataframe thead th {\n",
       "        text-align: right;\n",
       "    }\n",
       "</style>\n",
       "<table border=\"1\" class=\"dataframe\">\n",
       "  <thead>\n",
       "    <tr style=\"text-align: right;\">\n",
       "      <th></th>\n",
       "      <th>Age</th>\n",
       "      <th>Pclass</th>\n",
       "      <th>Embarked</th>\n",
       "    </tr>\n",
       "  </thead>\n",
       "  <tbody>\n",
       "    <tr>\n",
       "      <th>6</th>\n",
       "      <td>54.0</td>\n",
       "      <td>1</td>\n",
       "      <td>S</td>\n",
       "    </tr>\n",
       "    <tr>\n",
       "      <th>33</th>\n",
       "      <td>66.0</td>\n",
       "      <td>2</td>\n",
       "      <td>S</td>\n",
       "    </tr>\n",
       "    <tr>\n",
       "      <th>54</th>\n",
       "      <td>65.0</td>\n",
       "      <td>1</td>\n",
       "      <td>C</td>\n",
       "    </tr>\n",
       "    <tr>\n",
       "      <th>94</th>\n",
       "      <td>59.0</td>\n",
       "      <td>3</td>\n",
       "      <td>S</td>\n",
       "    </tr>\n",
       "    <tr>\n",
       "      <th>96</th>\n",
       "      <td>71.0</td>\n",
       "      <td>1</td>\n",
       "      <td>C</td>\n",
       "    </tr>\n",
       "  </tbody>\n",
       "</table>\n",
       "</div>"
      ],
      "text/plain": [
       "     Age  Pclass Embarked\n",
       "6   54.0       1        S\n",
       "33  66.0       2        S\n",
       "54  65.0       1        C\n",
       "94  59.0       3        S\n",
       "96  71.0       1        C"
      ]
     },
     "execution_count": 178,
     "metadata": {},
     "output_type": "execute_result"
    }
   ],
   "source": [
    "df.loc[(df[\"Age\"] > 50) & (df[\"Sex\"] == \"male\") & ((df[\"Embarked\"] == \"C\") | (df[\"Embarked\"] == \"S\")), [\"Age\", \"Pclass\", \"Embarked\"]].head()"
   ]
  },
  {
   "cell_type": "markdown",
   "id": "400b3c1d",
   "metadata": {
    "papermill": {
     "duration": 0.076574,
     "end_time": "2023-10-11T14:44:54.686696",
     "exception": false,
     "start_time": "2023-10-11T14:44:54.610122",
     "status": "completed"
    },
    "tags": []
   },
   "source": [
    "<a id = \"21\"></a><br>\n",
    "<h1 style=\"background-color:#77BFC7;font-family:courier;font-size:250%;font-style: oblique;font-weight: bold;font-variant: small-caps;text-align:center;border-radius: 15px 50px;\"> Merging </h1>\n",
    "\n",
    "1. **concat():** The concat() method is used to concatenate multiple DataFrames along a specified axis (rows or columns). It combines the data either row-wise (along rows) or column-wise (along columns).\n",
    "\n",
    "2. **merge():** The merge() method is used to merge two DataFrames based on specific columns. This method is similar to the \"join\" operation in SQL, and it combines the data based on the overlapping columns.\n",
    "\n",
    "3. **join():** The join() method is used to merge two DataFrames based on their indices. Unlike the merge() method, join() performs merging based on the DataFrame indices."
   ]
  },
  {
   "cell_type": "markdown",
   "id": "4c2b13c8",
   "metadata": {
    "papermill": {
     "duration": 0.078595,
     "end_time": "2023-10-11T14:44:54.841404",
     "exception": false,
     "start_time": "2023-10-11T14:44:54.762809",
     "status": "completed"
    },
    "tags": []
   },
   "source": [
    "---"
   ]
  },
  {
   "cell_type": "code",
   "execution_count": 179,
   "id": "b9af8952",
   "metadata": {
    "execution": {
     "iopub.execute_input": "2023-10-11T14:44:54.999408Z",
     "iopub.status.busy": "2023-10-11T14:44:54.998764Z",
     "iopub.status.idle": "2023-10-11T14:44:55.006797Z",
     "shell.execute_reply": "2023-10-11T14:44:55.005798Z"
    },
    "papermill": {
     "duration": 0.090617,
     "end_time": "2023-10-11T14:44:55.009145",
     "exception": false,
     "start_time": "2023-10-11T14:44:54.918528",
     "status": "completed"
    },
    "tags": []
   },
   "outputs": [],
   "source": [
    "# Let's create DataFrames:\n",
    "\n",
    "df1 = pd.DataFrame({'A': ['A0', 'A1', 'A2'],\n",
    "                    'B': ['B0', 'B1', 'B2'],\n",
    "                    'C': ['C0', 'C1', 'C2']},\n",
    "                   index=[0, 1, 2])\n",
    "\n",
    "df2 = pd.DataFrame({'A': ['A3', 'A4', 'A5'],\n",
    "                    'B': ['B3', 'B4', 'B5'],\n",
    "                    'C': ['C3', 'C4', 'C5']},\n",
    "                   index=[3, 4, 5])"
   ]
  },
  {
   "cell_type": "code",
   "execution_count": 180,
   "id": "ab65d6b5",
   "metadata": {
    "execution": {
     "iopub.execute_input": "2023-10-11T14:44:55.242221Z",
     "iopub.status.busy": "2023-10-11T14:44:55.241659Z",
     "iopub.status.idle": "2023-10-11T14:44:55.251240Z",
     "shell.execute_reply": "2023-10-11T14:44:55.250145Z"
    },
    "papermill": {
     "duration": 0.162832,
     "end_time": "2023-10-11T14:44:55.253293",
     "exception": false,
     "start_time": "2023-10-11T14:44:55.090461",
     "status": "completed"
    },
    "tags": []
   },
   "outputs": [
    {
     "data": {
      "text/html": [
       "<div>\n",
       "<style scoped>\n",
       "    .dataframe tbody tr th:only-of-type {\n",
       "        vertical-align: middle;\n",
       "    }\n",
       "\n",
       "    .dataframe tbody tr th {\n",
       "        vertical-align: top;\n",
       "    }\n",
       "\n",
       "    .dataframe thead th {\n",
       "        text-align: right;\n",
       "    }\n",
       "</style>\n",
       "<table border=\"1\" class=\"dataframe\">\n",
       "  <thead>\n",
       "    <tr style=\"text-align: right;\">\n",
       "      <th></th>\n",
       "      <th>A</th>\n",
       "      <th>B</th>\n",
       "      <th>C</th>\n",
       "    </tr>\n",
       "  </thead>\n",
       "  <tbody>\n",
       "    <tr>\n",
       "      <th>0</th>\n",
       "      <td>A0</td>\n",
       "      <td>B0</td>\n",
       "      <td>C0</td>\n",
       "    </tr>\n",
       "    <tr>\n",
       "      <th>1</th>\n",
       "      <td>A1</td>\n",
       "      <td>B1</td>\n",
       "      <td>C1</td>\n",
       "    </tr>\n",
       "    <tr>\n",
       "      <th>2</th>\n",
       "      <td>A2</td>\n",
       "      <td>B2</td>\n",
       "      <td>C2</td>\n",
       "    </tr>\n",
       "  </tbody>\n",
       "</table>\n",
       "</div>"
      ],
      "text/plain": [
       "    A   B   C\n",
       "0  A0  B0  C0\n",
       "1  A1  B1  C1\n",
       "2  A2  B2  C2"
      ]
     },
     "execution_count": 180,
     "metadata": {},
     "output_type": "execute_result"
    }
   ],
   "source": [
    "df1"
   ]
  },
  {
   "cell_type": "code",
   "execution_count": 181,
   "id": "abd6babe",
   "metadata": {
    "execution": {
     "iopub.execute_input": "2023-10-11T14:44:55.413702Z",
     "iopub.status.busy": "2023-10-11T14:44:55.413101Z",
     "iopub.status.idle": "2023-10-11T14:44:55.422789Z",
     "shell.execute_reply": "2023-10-11T14:44:55.421710Z"
    },
    "papermill": {
     "duration": 0.0922,
     "end_time": "2023-10-11T14:44:55.425024",
     "exception": false,
     "start_time": "2023-10-11T14:44:55.332824",
     "status": "completed"
    },
    "tags": []
   },
   "outputs": [
    {
     "data": {
      "text/html": [
       "<div>\n",
       "<style scoped>\n",
       "    .dataframe tbody tr th:only-of-type {\n",
       "        vertical-align: middle;\n",
       "    }\n",
       "\n",
       "    .dataframe tbody tr th {\n",
       "        vertical-align: top;\n",
       "    }\n",
       "\n",
       "    .dataframe thead th {\n",
       "        text-align: right;\n",
       "    }\n",
       "</style>\n",
       "<table border=\"1\" class=\"dataframe\">\n",
       "  <thead>\n",
       "    <tr style=\"text-align: right;\">\n",
       "      <th></th>\n",
       "      <th>A</th>\n",
       "      <th>B</th>\n",
       "      <th>C</th>\n",
       "    </tr>\n",
       "  </thead>\n",
       "  <tbody>\n",
       "    <tr>\n",
       "      <th>3</th>\n",
       "      <td>A3</td>\n",
       "      <td>B3</td>\n",
       "      <td>C3</td>\n",
       "    </tr>\n",
       "    <tr>\n",
       "      <th>4</th>\n",
       "      <td>A4</td>\n",
       "      <td>B4</td>\n",
       "      <td>C4</td>\n",
       "    </tr>\n",
       "    <tr>\n",
       "      <th>5</th>\n",
       "      <td>A5</td>\n",
       "      <td>B5</td>\n",
       "      <td>C5</td>\n",
       "    </tr>\n",
       "  </tbody>\n",
       "</table>\n",
       "</div>"
      ],
      "text/plain": [
       "    A   B   C\n",
       "3  A3  B3  C3\n",
       "4  A4  B4  C4\n",
       "5  A5  B5  C5"
      ]
     },
     "execution_count": 181,
     "metadata": {},
     "output_type": "execute_result"
    }
   ],
   "source": [
    "df2"
   ]
  },
  {
   "cell_type": "code",
   "execution_count": 182,
   "id": "0daeb665",
   "metadata": {
    "execution": {
     "iopub.execute_input": "2023-10-11T14:44:55.585051Z",
     "iopub.status.busy": "2023-10-11T14:44:55.584719Z",
     "iopub.status.idle": "2023-10-11T14:44:55.595797Z",
     "shell.execute_reply": "2023-10-11T14:44:55.594631Z"
    },
    "papermill": {
     "duration": 0.09255,
     "end_time": "2023-10-11T14:44:55.598174",
     "exception": false,
     "start_time": "2023-10-11T14:44:55.505624",
     "status": "completed"
    },
    "tags": []
   },
   "outputs": [
    {
     "data": {
      "text/html": [
       "<div>\n",
       "<style scoped>\n",
       "    .dataframe tbody tr th:only-of-type {\n",
       "        vertical-align: middle;\n",
       "    }\n",
       "\n",
       "    .dataframe tbody tr th {\n",
       "        vertical-align: top;\n",
       "    }\n",
       "\n",
       "    .dataframe thead th {\n",
       "        text-align: right;\n",
       "    }\n",
       "</style>\n",
       "<table border=\"1\" class=\"dataframe\">\n",
       "  <thead>\n",
       "    <tr style=\"text-align: right;\">\n",
       "      <th></th>\n",
       "      <th>A</th>\n",
       "      <th>B</th>\n",
       "      <th>C</th>\n",
       "    </tr>\n",
       "  </thead>\n",
       "  <tbody>\n",
       "    <tr>\n",
       "      <th>0</th>\n",
       "      <td>A0</td>\n",
       "      <td>B0</td>\n",
       "      <td>C0</td>\n",
       "    </tr>\n",
       "    <tr>\n",
       "      <th>1</th>\n",
       "      <td>A1</td>\n",
       "      <td>B1</td>\n",
       "      <td>C1</td>\n",
       "    </tr>\n",
       "    <tr>\n",
       "      <th>2</th>\n",
       "      <td>A2</td>\n",
       "      <td>B2</td>\n",
       "      <td>C2</td>\n",
       "    </tr>\n",
       "    <tr>\n",
       "      <th>3</th>\n",
       "      <td>A3</td>\n",
       "      <td>B3</td>\n",
       "      <td>C3</td>\n",
       "    </tr>\n",
       "    <tr>\n",
       "      <th>4</th>\n",
       "      <td>A4</td>\n",
       "      <td>B4</td>\n",
       "      <td>C4</td>\n",
       "    </tr>\n",
       "    <tr>\n",
       "      <th>5</th>\n",
       "      <td>A5</td>\n",
       "      <td>B5</td>\n",
       "      <td>C5</td>\n",
       "    </tr>\n",
       "  </tbody>\n",
       "</table>\n",
       "</div>"
      ],
      "text/plain": [
       "    A   B   C\n",
       "0  A0  B0  C0\n",
       "1  A1  B1  C1\n",
       "2  A2  B2  C2\n",
       "3  A3  B3  C3\n",
       "4  A4  B4  C4\n",
       "5  A5  B5  C5"
      ]
     },
     "execution_count": 182,
     "metadata": {},
     "output_type": "execute_result"
    }
   ],
   "source": [
    "# Concatenate DataFrames row-wise:\n",
    "\n",
    "result_concat_row = pd.concat([df1, df2])\n",
    "\n",
    "result_concat_row"
   ]
  },
  {
   "cell_type": "code",
   "execution_count": 183,
   "id": "dcf51382",
   "metadata": {
    "execution": {
     "iopub.execute_input": "2023-10-11T14:44:55.756489Z",
     "iopub.status.busy": "2023-10-11T14:44:55.755777Z",
     "iopub.status.idle": "2023-10-11T14:44:55.771074Z",
     "shell.execute_reply": "2023-10-11T14:44:55.770321Z"
    },
    "papermill": {
     "duration": 0.098797,
     "end_time": "2023-10-11T14:44:55.773727",
     "exception": false,
     "start_time": "2023-10-11T14:44:55.674930",
     "status": "completed"
    },
    "tags": []
   },
   "outputs": [
    {
     "data": {
      "text/html": [
       "<div>\n",
       "<style scoped>\n",
       "    .dataframe tbody tr th:only-of-type {\n",
       "        vertical-align: middle;\n",
       "    }\n",
       "\n",
       "    .dataframe tbody tr th {\n",
       "        vertical-align: top;\n",
       "    }\n",
       "\n",
       "    .dataframe thead th {\n",
       "        text-align: right;\n",
       "    }\n",
       "</style>\n",
       "<table border=\"1\" class=\"dataframe\">\n",
       "  <thead>\n",
       "    <tr style=\"text-align: right;\">\n",
       "      <th></th>\n",
       "      <th>A</th>\n",
       "      <th>B</th>\n",
       "      <th>C</th>\n",
       "      <th>A</th>\n",
       "      <th>B</th>\n",
       "      <th>C</th>\n",
       "    </tr>\n",
       "  </thead>\n",
       "  <tbody>\n",
       "    <tr>\n",
       "      <th>0</th>\n",
       "      <td>A0</td>\n",
       "      <td>B0</td>\n",
       "      <td>C0</td>\n",
       "      <td>NaN</td>\n",
       "      <td>NaN</td>\n",
       "      <td>NaN</td>\n",
       "    </tr>\n",
       "    <tr>\n",
       "      <th>1</th>\n",
       "      <td>A1</td>\n",
       "      <td>B1</td>\n",
       "      <td>C1</td>\n",
       "      <td>NaN</td>\n",
       "      <td>NaN</td>\n",
       "      <td>NaN</td>\n",
       "    </tr>\n",
       "    <tr>\n",
       "      <th>2</th>\n",
       "      <td>A2</td>\n",
       "      <td>B2</td>\n",
       "      <td>C2</td>\n",
       "      <td>NaN</td>\n",
       "      <td>NaN</td>\n",
       "      <td>NaN</td>\n",
       "    </tr>\n",
       "    <tr>\n",
       "      <th>3</th>\n",
       "      <td>NaN</td>\n",
       "      <td>NaN</td>\n",
       "      <td>NaN</td>\n",
       "      <td>A3</td>\n",
       "      <td>B3</td>\n",
       "      <td>C3</td>\n",
       "    </tr>\n",
       "    <tr>\n",
       "      <th>4</th>\n",
       "      <td>NaN</td>\n",
       "      <td>NaN</td>\n",
       "      <td>NaN</td>\n",
       "      <td>A4</td>\n",
       "      <td>B4</td>\n",
       "      <td>C4</td>\n",
       "    </tr>\n",
       "    <tr>\n",
       "      <th>5</th>\n",
       "      <td>NaN</td>\n",
       "      <td>NaN</td>\n",
       "      <td>NaN</td>\n",
       "      <td>A5</td>\n",
       "      <td>B5</td>\n",
       "      <td>C5</td>\n",
       "    </tr>\n",
       "  </tbody>\n",
       "</table>\n",
       "</div>"
      ],
      "text/plain": [
       "     A    B    C    A    B    C\n",
       "0   A0   B0   C0  NaN  NaN  NaN\n",
       "1   A1   B1   C1  NaN  NaN  NaN\n",
       "2   A2   B2   C2  NaN  NaN  NaN\n",
       "3  NaN  NaN  NaN   A3   B3   C3\n",
       "4  NaN  NaN  NaN   A4   B4   C4\n",
       "5  NaN  NaN  NaN   A5   B5   C5"
      ]
     },
     "execution_count": 183,
     "metadata": {},
     "output_type": "execute_result"
    }
   ],
   "source": [
    "# Concatenate DataFrames column-wise:\n",
    "\n",
    "result_concat_column = pd.concat([df1, df2], axis=1)\n",
    "\n",
    "result_concat_column"
   ]
  },
  {
   "cell_type": "markdown",
   "id": "3249928e",
   "metadata": {
    "papermill": {
     "duration": 0.076432,
     "end_time": "2023-10-11T14:44:55.927317",
     "exception": false,
     "start_time": "2023-10-11T14:44:55.850885",
     "status": "completed"
    },
    "tags": []
   },
   "source": [
    "----"
   ]
  },
  {
   "cell_type": "code",
   "execution_count": 184,
   "id": "493890d9",
   "metadata": {
    "_kg_hide-input": true,
    "execution": {
     "iopub.execute_input": "2023-10-11T14:44:56.084081Z",
     "iopub.status.busy": "2023-10-11T14:44:56.083677Z",
     "iopub.status.idle": "2023-10-11T14:44:56.090593Z",
     "shell.execute_reply": "2023-10-11T14:44:56.089312Z"
    },
    "papermill": {
     "duration": 0.088802,
     "end_time": "2023-10-11T14:44:56.093047",
     "exception": false,
     "start_time": "2023-10-11T14:44:56.004245",
     "status": "completed"
    },
    "tags": []
   },
   "outputs": [],
   "source": [
    "# Let's create DataFrames:\n",
    "\n",
    "df1 = pd.DataFrame({'A': ['A0', 'A1', 'A2'],\n",
    "                    'B': ['B0', 'B1', 'B2'],\n",
    "                    'key': ['K0', 'K1', 'K2']})\n",
    "\n",
    "df2 = pd.DataFrame({'C': ['C0', 'C1', 'C2'],\n",
    "                    'D': ['D0', 'D1', 'D2'],\n",
    "                    'key': ['K0', 'K1', 'K2']})"
   ]
  },
  {
   "cell_type": "code",
   "execution_count": 185,
   "id": "0b345d8c",
   "metadata": {
    "execution": {
     "iopub.execute_input": "2023-10-11T14:44:56.250011Z",
     "iopub.status.busy": "2023-10-11T14:44:56.249293Z",
     "iopub.status.idle": "2023-10-11T14:44:56.258667Z",
     "shell.execute_reply": "2023-10-11T14:44:56.257635Z"
    },
    "papermill": {
     "duration": 0.08971,
     "end_time": "2023-10-11T14:44:56.260741",
     "exception": false,
     "start_time": "2023-10-11T14:44:56.171031",
     "status": "completed"
    },
    "tags": []
   },
   "outputs": [
    {
     "data": {
      "text/html": [
       "<div>\n",
       "<style scoped>\n",
       "    .dataframe tbody tr th:only-of-type {\n",
       "        vertical-align: middle;\n",
       "    }\n",
       "\n",
       "    .dataframe tbody tr th {\n",
       "        vertical-align: top;\n",
       "    }\n",
       "\n",
       "    .dataframe thead th {\n",
       "        text-align: right;\n",
       "    }\n",
       "</style>\n",
       "<table border=\"1\" class=\"dataframe\">\n",
       "  <thead>\n",
       "    <tr style=\"text-align: right;\">\n",
       "      <th></th>\n",
       "      <th>A</th>\n",
       "      <th>B</th>\n",
       "      <th>key</th>\n",
       "    </tr>\n",
       "  </thead>\n",
       "  <tbody>\n",
       "    <tr>\n",
       "      <th>0</th>\n",
       "      <td>A0</td>\n",
       "      <td>B0</td>\n",
       "      <td>K0</td>\n",
       "    </tr>\n",
       "    <tr>\n",
       "      <th>1</th>\n",
       "      <td>A1</td>\n",
       "      <td>B1</td>\n",
       "      <td>K1</td>\n",
       "    </tr>\n",
       "    <tr>\n",
       "      <th>2</th>\n",
       "      <td>A2</td>\n",
       "      <td>B2</td>\n",
       "      <td>K2</td>\n",
       "    </tr>\n",
       "  </tbody>\n",
       "</table>\n",
       "</div>"
      ],
      "text/plain": [
       "    A   B key\n",
       "0  A0  B0  K0\n",
       "1  A1  B1  K1\n",
       "2  A2  B2  K2"
      ]
     },
     "execution_count": 185,
     "metadata": {},
     "output_type": "execute_result"
    }
   ],
   "source": [
    "df1"
   ]
  },
  {
   "cell_type": "code",
   "execution_count": 186,
   "id": "66e28130",
   "metadata": {
    "execution": {
     "iopub.execute_input": "2023-10-11T14:44:56.423102Z",
     "iopub.status.busy": "2023-10-11T14:44:56.422417Z",
     "iopub.status.idle": "2023-10-11T14:44:56.433787Z",
     "shell.execute_reply": "2023-10-11T14:44:56.432553Z"
    },
    "papermill": {
     "duration": 0.094494,
     "end_time": "2023-10-11T14:44:56.436368",
     "exception": false,
     "start_time": "2023-10-11T14:44:56.341874",
     "status": "completed"
    },
    "tags": []
   },
   "outputs": [
    {
     "data": {
      "text/html": [
       "<div>\n",
       "<style scoped>\n",
       "    .dataframe tbody tr th:only-of-type {\n",
       "        vertical-align: middle;\n",
       "    }\n",
       "\n",
       "    .dataframe tbody tr th {\n",
       "        vertical-align: top;\n",
       "    }\n",
       "\n",
       "    .dataframe thead th {\n",
       "        text-align: right;\n",
       "    }\n",
       "</style>\n",
       "<table border=\"1\" class=\"dataframe\">\n",
       "  <thead>\n",
       "    <tr style=\"text-align: right;\">\n",
       "      <th></th>\n",
       "      <th>C</th>\n",
       "      <th>D</th>\n",
       "      <th>key</th>\n",
       "    </tr>\n",
       "  </thead>\n",
       "  <tbody>\n",
       "    <tr>\n",
       "      <th>0</th>\n",
       "      <td>C0</td>\n",
       "      <td>D0</td>\n",
       "      <td>K0</td>\n",
       "    </tr>\n",
       "    <tr>\n",
       "      <th>1</th>\n",
       "      <td>C1</td>\n",
       "      <td>D1</td>\n",
       "      <td>K1</td>\n",
       "    </tr>\n",
       "    <tr>\n",
       "      <th>2</th>\n",
       "      <td>C2</td>\n",
       "      <td>D2</td>\n",
       "      <td>K2</td>\n",
       "    </tr>\n",
       "  </tbody>\n",
       "</table>\n",
       "</div>"
      ],
      "text/plain": [
       "    C   D key\n",
       "0  C0  D0  K0\n",
       "1  C1  D1  K1\n",
       "2  C2  D2  K2"
      ]
     },
     "execution_count": 186,
     "metadata": {},
     "output_type": "execute_result"
    }
   ],
   "source": [
    "df2"
   ]
  },
  {
   "cell_type": "code",
   "execution_count": 187,
   "id": "9423351c",
   "metadata": {
    "execution": {
     "iopub.execute_input": "2023-10-11T14:44:56.596469Z",
     "iopub.status.busy": "2023-10-11T14:44:56.595825Z",
     "iopub.status.idle": "2023-10-11T14:44:56.616309Z",
     "shell.execute_reply": "2023-10-11T14:44:56.615132Z"
    },
    "papermill": {
     "duration": 0.102505,
     "end_time": "2023-10-11T14:44:56.618607",
     "exception": false,
     "start_time": "2023-10-11T14:44:56.516102",
     "status": "completed"
    },
    "tags": []
   },
   "outputs": [
    {
     "data": {
      "text/html": [
       "<div>\n",
       "<style scoped>\n",
       "    .dataframe tbody tr th:only-of-type {\n",
       "        vertical-align: middle;\n",
       "    }\n",
       "\n",
       "    .dataframe tbody tr th {\n",
       "        vertical-align: top;\n",
       "    }\n",
       "\n",
       "    .dataframe thead th {\n",
       "        text-align: right;\n",
       "    }\n",
       "</style>\n",
       "<table border=\"1\" class=\"dataframe\">\n",
       "  <thead>\n",
       "    <tr style=\"text-align: right;\">\n",
       "      <th></th>\n",
       "      <th>A</th>\n",
       "      <th>B</th>\n",
       "      <th>key</th>\n",
       "      <th>C</th>\n",
       "      <th>D</th>\n",
       "    </tr>\n",
       "  </thead>\n",
       "  <tbody>\n",
       "    <tr>\n",
       "      <th>0</th>\n",
       "      <td>A0</td>\n",
       "      <td>B0</td>\n",
       "      <td>K0</td>\n",
       "      <td>C0</td>\n",
       "      <td>D0</td>\n",
       "    </tr>\n",
       "    <tr>\n",
       "      <th>1</th>\n",
       "      <td>A1</td>\n",
       "      <td>B1</td>\n",
       "      <td>K1</td>\n",
       "      <td>C1</td>\n",
       "      <td>D1</td>\n",
       "    </tr>\n",
       "    <tr>\n",
       "      <th>2</th>\n",
       "      <td>A2</td>\n",
       "      <td>B2</td>\n",
       "      <td>K2</td>\n",
       "      <td>C2</td>\n",
       "      <td>D2</td>\n",
       "    </tr>\n",
       "  </tbody>\n",
       "</table>\n",
       "</div>"
      ],
      "text/plain": [
       "    A   B key   C   D\n",
       "0  A0  B0  K0  C0  D0\n",
       "1  A1  B1  K1  C1  D1\n",
       "2  A2  B2  K2  C2  D2"
      ]
     },
     "execution_count": 187,
     "metadata": {},
     "output_type": "execute_result"
    }
   ],
   "source": [
    "# Merge DataFrames based on the 'key' column:\n",
    "\n",
    "result_merge = pd.merge(df1, df2, on='key')\n",
    "\n",
    "result_merge"
   ]
  },
  {
   "cell_type": "markdown",
   "id": "7680ed0b",
   "metadata": {
    "papermill": {
     "duration": 0.078726,
     "end_time": "2023-10-11T14:44:56.777251",
     "exception": false,
     "start_time": "2023-10-11T14:44:56.698525",
     "status": "completed"
    },
    "tags": []
   },
   "source": [
    "---"
   ]
  },
  {
   "cell_type": "code",
   "execution_count": 188,
   "id": "3691e7a3",
   "metadata": {
    "execution": {
     "iopub.execute_input": "2023-10-11T14:44:56.934490Z",
     "iopub.status.busy": "2023-10-11T14:44:56.934097Z",
     "iopub.status.idle": "2023-10-11T14:44:56.941963Z",
     "shell.execute_reply": "2023-10-11T14:44:56.940570Z"
    },
    "papermill": {
     "duration": 0.088937,
     "end_time": "2023-10-11T14:44:56.944422",
     "exception": false,
     "start_time": "2023-10-11T14:44:56.855485",
     "status": "completed"
    },
    "tags": []
   },
   "outputs": [],
   "source": [
    "# Let's create DataFrames:\n",
    "\n",
    "df1 = pd.DataFrame({'A': ['A0', 'A1', 'A2'],\n",
    "                    'B': ['B0', 'B1', 'B2']},\n",
    "                   index=['K0', 'K1', 'K2'])\n",
    "\n",
    "df2 = pd.DataFrame({'C': ['C0', 'C1', 'C2'],\n",
    "                    'D': ['D0', 'D1', 'D2']},\n",
    "                   index=['K0', 'K1', 'K3'])"
   ]
  },
  {
   "cell_type": "code",
   "execution_count": 189,
   "id": "5208c23b",
   "metadata": {
    "execution": {
     "iopub.execute_input": "2023-10-11T14:44:57.104870Z",
     "iopub.status.busy": "2023-10-11T14:44:57.104530Z",
     "iopub.status.idle": "2023-10-11T14:44:57.118735Z",
     "shell.execute_reply": "2023-10-11T14:44:57.117414Z"
    },
    "papermill": {
     "duration": 0.09719,
     "end_time": "2023-10-11T14:44:57.121159",
     "exception": false,
     "start_time": "2023-10-11T14:44:57.023969",
     "status": "completed"
    },
    "tags": []
   },
   "outputs": [
    {
     "data": {
      "text/html": [
       "<div>\n",
       "<style scoped>\n",
       "    .dataframe tbody tr th:only-of-type {\n",
       "        vertical-align: middle;\n",
       "    }\n",
       "\n",
       "    .dataframe tbody tr th {\n",
       "        vertical-align: top;\n",
       "    }\n",
       "\n",
       "    .dataframe thead th {\n",
       "        text-align: right;\n",
       "    }\n",
       "</style>\n",
       "<table border=\"1\" class=\"dataframe\">\n",
       "  <thead>\n",
       "    <tr style=\"text-align: right;\">\n",
       "      <th></th>\n",
       "      <th>A</th>\n",
       "      <th>B</th>\n",
       "      <th>C</th>\n",
       "      <th>D</th>\n",
       "    </tr>\n",
       "  </thead>\n",
       "  <tbody>\n",
       "    <tr>\n",
       "      <th>K0</th>\n",
       "      <td>A0</td>\n",
       "      <td>B0</td>\n",
       "      <td>C0</td>\n",
       "      <td>D0</td>\n",
       "    </tr>\n",
       "    <tr>\n",
       "      <th>K1</th>\n",
       "      <td>A1</td>\n",
       "      <td>B1</td>\n",
       "      <td>C1</td>\n",
       "      <td>D1</td>\n",
       "    </tr>\n",
       "    <tr>\n",
       "      <th>K2</th>\n",
       "      <td>A2</td>\n",
       "      <td>B2</td>\n",
       "      <td>NaN</td>\n",
       "      <td>NaN</td>\n",
       "    </tr>\n",
       "    <tr>\n",
       "      <th>K3</th>\n",
       "      <td>NaN</td>\n",
       "      <td>NaN</td>\n",
       "      <td>C2</td>\n",
       "      <td>D2</td>\n",
       "    </tr>\n",
       "  </tbody>\n",
       "</table>\n",
       "</div>"
      ],
      "text/plain": [
       "      A    B    C    D\n",
       "K0   A0   B0   C0   D0\n",
       "K1   A1   B1   C1   D1\n",
       "K2   A2   B2  NaN  NaN\n",
       "K3  NaN  NaN   C2   D2"
      ]
     },
     "execution_count": 189,
     "metadata": {},
     "output_type": "execute_result"
    }
   ],
   "source": [
    "# Join DataFrames based on their indices:\n",
    "\n",
    "result_join = df1.join(df2, how='outer')\n",
    "\n",
    "result_join"
   ]
  },
  {
   "cell_type": "markdown",
   "id": "0d7b7df4",
   "metadata": {
    "papermill": {
     "duration": 0.076159,
     "end_time": "2023-10-11T14:44:57.276414",
     "exception": false,
     "start_time": "2023-10-11T14:44:57.200255",
     "status": "completed"
    },
    "tags": []
   },
   "source": [
    "---"
   ]
  },
  {
   "cell_type": "code",
   "execution_count": 190,
   "id": "f20bb241",
   "metadata": {
    "execution": {
     "iopub.execute_input": "2023-10-11T14:44:57.437110Z",
     "iopub.status.busy": "2023-10-11T14:44:57.436766Z",
     "iopub.status.idle": "2023-10-11T14:44:57.442852Z",
     "shell.execute_reply": "2023-10-11T14:44:57.441642Z"
    },
    "papermill": {
     "duration": 0.088758,
     "end_time": "2023-10-11T14:44:57.445272",
     "exception": false,
     "start_time": "2023-10-11T14:44:57.356514",
     "status": "completed"
    },
    "tags": []
   },
   "outputs": [],
   "source": [
    "df1 = pd.DataFrame({'employees': ['john', 'dennis', 'mark', 'maria'],\n",
    "                    'group': ['accounting', 'engineering', 'engineering', 'hr']})\n",
    "\n",
    "df2 = pd.DataFrame({'employees': ['mark', 'john', 'dennis', 'maria'],\n",
    "                    'start_date': [2010, 2009, 2014, 2019]})"
   ]
  },
  {
   "cell_type": "code",
   "execution_count": 191,
   "id": "ac7f345f",
   "metadata": {
    "execution": {
     "iopub.execute_input": "2023-10-11T14:44:57.608620Z",
     "iopub.status.busy": "2023-10-11T14:44:57.608266Z",
     "iopub.status.idle": "2023-10-11T14:44:57.617861Z",
     "shell.execute_reply": "2023-10-11T14:44:57.616700Z"
    },
    "papermill": {
     "duration": 0.092748,
     "end_time": "2023-10-11T14:44:57.620176",
     "exception": false,
     "start_time": "2023-10-11T14:44:57.527428",
     "status": "completed"
    },
    "tags": []
   },
   "outputs": [
    {
     "data": {
      "text/html": [
       "<div>\n",
       "<style scoped>\n",
       "    .dataframe tbody tr th:only-of-type {\n",
       "        vertical-align: middle;\n",
       "    }\n",
       "\n",
       "    .dataframe tbody tr th {\n",
       "        vertical-align: top;\n",
       "    }\n",
       "\n",
       "    .dataframe thead th {\n",
       "        text-align: right;\n",
       "    }\n",
       "</style>\n",
       "<table border=\"1\" class=\"dataframe\">\n",
       "  <thead>\n",
       "    <tr style=\"text-align: right;\">\n",
       "      <th></th>\n",
       "      <th>employees</th>\n",
       "      <th>group</th>\n",
       "    </tr>\n",
       "  </thead>\n",
       "  <tbody>\n",
       "    <tr>\n",
       "      <th>0</th>\n",
       "      <td>john</td>\n",
       "      <td>accounting</td>\n",
       "    </tr>\n",
       "    <tr>\n",
       "      <th>1</th>\n",
       "      <td>dennis</td>\n",
       "      <td>engineering</td>\n",
       "    </tr>\n",
       "    <tr>\n",
       "      <th>2</th>\n",
       "      <td>mark</td>\n",
       "      <td>engineering</td>\n",
       "    </tr>\n",
       "    <tr>\n",
       "      <th>3</th>\n",
       "      <td>maria</td>\n",
       "      <td>hr</td>\n",
       "    </tr>\n",
       "  </tbody>\n",
       "</table>\n",
       "</div>"
      ],
      "text/plain": [
       "  employees        group\n",
       "0      john   accounting\n",
       "1    dennis  engineering\n",
       "2      mark  engineering\n",
       "3     maria           hr"
      ]
     },
     "execution_count": 191,
     "metadata": {},
     "output_type": "execute_result"
    }
   ],
   "source": [
    "df1"
   ]
  },
  {
   "cell_type": "code",
   "execution_count": 192,
   "id": "be1d00b1",
   "metadata": {
    "execution": {
     "iopub.execute_input": "2023-10-11T14:44:57.782575Z",
     "iopub.status.busy": "2023-10-11T14:44:57.781846Z",
     "iopub.status.idle": "2023-10-11T14:44:57.791154Z",
     "shell.execute_reply": "2023-10-11T14:44:57.790036Z"
    },
    "papermill": {
     "duration": 0.093092,
     "end_time": "2023-10-11T14:44:57.793549",
     "exception": false,
     "start_time": "2023-10-11T14:44:57.700457",
     "status": "completed"
    },
    "tags": []
   },
   "outputs": [
    {
     "data": {
      "text/html": [
       "<div>\n",
       "<style scoped>\n",
       "    .dataframe tbody tr th:only-of-type {\n",
       "        vertical-align: middle;\n",
       "    }\n",
       "\n",
       "    .dataframe tbody tr th {\n",
       "        vertical-align: top;\n",
       "    }\n",
       "\n",
       "    .dataframe thead th {\n",
       "        text-align: right;\n",
       "    }\n",
       "</style>\n",
       "<table border=\"1\" class=\"dataframe\">\n",
       "  <thead>\n",
       "    <tr style=\"text-align: right;\">\n",
       "      <th></th>\n",
       "      <th>employees</th>\n",
       "      <th>start_date</th>\n",
       "    </tr>\n",
       "  </thead>\n",
       "  <tbody>\n",
       "    <tr>\n",
       "      <th>0</th>\n",
       "      <td>mark</td>\n",
       "      <td>2010</td>\n",
       "    </tr>\n",
       "    <tr>\n",
       "      <th>1</th>\n",
       "      <td>john</td>\n",
       "      <td>2009</td>\n",
       "    </tr>\n",
       "    <tr>\n",
       "      <th>2</th>\n",
       "      <td>dennis</td>\n",
       "      <td>2014</td>\n",
       "    </tr>\n",
       "    <tr>\n",
       "      <th>3</th>\n",
       "      <td>maria</td>\n",
       "      <td>2019</td>\n",
       "    </tr>\n",
       "  </tbody>\n",
       "</table>\n",
       "</div>"
      ],
      "text/plain": [
       "  employees  start_date\n",
       "0      mark        2010\n",
       "1      john        2009\n",
       "2    dennis        2014\n",
       "3     maria        2019"
      ]
     },
     "execution_count": 192,
     "metadata": {},
     "output_type": "execute_result"
    }
   ],
   "source": [
    "df2"
   ]
  },
  {
   "cell_type": "code",
   "execution_count": 193,
   "id": "158ecc9c",
   "metadata": {
    "execution": {
     "iopub.execute_input": "2023-10-11T14:44:57.954100Z",
     "iopub.status.busy": "2023-10-11T14:44:57.953424Z",
     "iopub.status.idle": "2023-10-11T14:44:57.966913Z",
     "shell.execute_reply": "2023-10-11T14:44:57.965782Z"
    },
    "papermill": {
     "duration": 0.09577,
     "end_time": "2023-10-11T14:44:57.969060",
     "exception": false,
     "start_time": "2023-10-11T14:44:57.873290",
     "status": "completed"
    },
    "tags": []
   },
   "outputs": [
    {
     "data": {
      "text/html": [
       "<div>\n",
       "<style scoped>\n",
       "    .dataframe tbody tr th:only-of-type {\n",
       "        vertical-align: middle;\n",
       "    }\n",
       "\n",
       "    .dataframe tbody tr th {\n",
       "        vertical-align: top;\n",
       "    }\n",
       "\n",
       "    .dataframe thead th {\n",
       "        text-align: right;\n",
       "    }\n",
       "</style>\n",
       "<table border=\"1\" class=\"dataframe\">\n",
       "  <thead>\n",
       "    <tr style=\"text-align: right;\">\n",
       "      <th></th>\n",
       "      <th>employees</th>\n",
       "      <th>group</th>\n",
       "      <th>start_date</th>\n",
       "    </tr>\n",
       "  </thead>\n",
       "  <tbody>\n",
       "    <tr>\n",
       "      <th>0</th>\n",
       "      <td>john</td>\n",
       "      <td>accounting</td>\n",
       "      <td>2009</td>\n",
       "    </tr>\n",
       "    <tr>\n",
       "      <th>1</th>\n",
       "      <td>dennis</td>\n",
       "      <td>engineering</td>\n",
       "      <td>2014</td>\n",
       "    </tr>\n",
       "    <tr>\n",
       "      <th>2</th>\n",
       "      <td>mark</td>\n",
       "      <td>engineering</td>\n",
       "      <td>2010</td>\n",
       "    </tr>\n",
       "    <tr>\n",
       "      <th>3</th>\n",
       "      <td>maria</td>\n",
       "      <td>hr</td>\n",
       "      <td>2019</td>\n",
       "    </tr>\n",
       "  </tbody>\n",
       "</table>\n",
       "</div>"
      ],
      "text/plain": [
       "  employees        group  start_date\n",
       "0      john   accounting        2009\n",
       "1    dennis  engineering        2014\n",
       "2      mark  engineering        2010\n",
       "3     maria           hr        2019"
      ]
     },
     "execution_count": 193,
     "metadata": {},
     "output_type": "execute_result"
    }
   ],
   "source": [
    "pd.merge(df1, df2, on=\"employees\")"
   ]
  },
  {
   "cell_type": "code",
   "execution_count": 194,
   "id": "0333f5bd",
   "metadata": {
    "execution": {
     "iopub.execute_input": "2023-10-11T14:44:58.130645Z",
     "iopub.status.busy": "2023-10-11T14:44:58.130302Z",
     "iopub.status.idle": "2023-10-11T14:44:58.137773Z",
     "shell.execute_reply": "2023-10-11T14:44:58.136937Z"
    },
    "papermill": {
     "duration": 0.090855,
     "end_time": "2023-10-11T14:44:58.140114",
     "exception": false,
     "start_time": "2023-10-11T14:44:58.049259",
     "status": "completed"
    },
    "tags": []
   },
   "outputs": [],
   "source": [
    "df3 = pd.merge(df1, df2)"
   ]
  },
  {
   "cell_type": "code",
   "execution_count": 195,
   "id": "d568c37c",
   "metadata": {
    "execution": {
     "iopub.execute_input": "2023-10-11T14:44:58.301386Z",
     "iopub.status.busy": "2023-10-11T14:44:58.300882Z",
     "iopub.status.idle": "2023-10-11T14:44:58.305782Z",
     "shell.execute_reply": "2023-10-11T14:44:58.304861Z"
    },
    "papermill": {
     "duration": 0.089409,
     "end_time": "2023-10-11T14:44:58.307877",
     "exception": false,
     "start_time": "2023-10-11T14:44:58.218468",
     "status": "completed"
    },
    "tags": []
   },
   "outputs": [],
   "source": [
    "df4 = pd.DataFrame({'group': ['accounting', 'engineering', 'hr'],\n",
    "                    'manager': ['Caner', 'Mustafa', 'Berkcan']})"
   ]
  },
  {
   "cell_type": "code",
   "execution_count": 196,
   "id": "7ff44e08",
   "metadata": {
    "execution": {
     "iopub.execute_input": "2023-10-11T14:44:58.476831Z",
     "iopub.status.busy": "2023-10-11T14:44:58.476273Z",
     "iopub.status.idle": "2023-10-11T14:44:58.489821Z",
     "shell.execute_reply": "2023-10-11T14:44:58.488920Z"
    },
    "papermill": {
     "duration": 0.098918,
     "end_time": "2023-10-11T14:44:58.492070",
     "exception": false,
     "start_time": "2023-10-11T14:44:58.393152",
     "status": "completed"
    },
    "tags": []
   },
   "outputs": [
    {
     "data": {
      "text/html": [
       "<div>\n",
       "<style scoped>\n",
       "    .dataframe tbody tr th:only-of-type {\n",
       "        vertical-align: middle;\n",
       "    }\n",
       "\n",
       "    .dataframe tbody tr th {\n",
       "        vertical-align: top;\n",
       "    }\n",
       "\n",
       "    .dataframe thead th {\n",
       "        text-align: right;\n",
       "    }\n",
       "</style>\n",
       "<table border=\"1\" class=\"dataframe\">\n",
       "  <thead>\n",
       "    <tr style=\"text-align: right;\">\n",
       "      <th></th>\n",
       "      <th>employees</th>\n",
       "      <th>group</th>\n",
       "      <th>start_date</th>\n",
       "      <th>manager</th>\n",
       "    </tr>\n",
       "  </thead>\n",
       "  <tbody>\n",
       "    <tr>\n",
       "      <th>0</th>\n",
       "      <td>john</td>\n",
       "      <td>accounting</td>\n",
       "      <td>2009</td>\n",
       "      <td>Caner</td>\n",
       "    </tr>\n",
       "    <tr>\n",
       "      <th>1</th>\n",
       "      <td>dennis</td>\n",
       "      <td>engineering</td>\n",
       "      <td>2014</td>\n",
       "      <td>Mustafa</td>\n",
       "    </tr>\n",
       "    <tr>\n",
       "      <th>2</th>\n",
       "      <td>mark</td>\n",
       "      <td>engineering</td>\n",
       "      <td>2010</td>\n",
       "      <td>Mustafa</td>\n",
       "    </tr>\n",
       "    <tr>\n",
       "      <th>3</th>\n",
       "      <td>maria</td>\n",
       "      <td>hr</td>\n",
       "      <td>2019</td>\n",
       "      <td>Berkcan</td>\n",
       "    </tr>\n",
       "  </tbody>\n",
       "</table>\n",
       "</div>"
      ],
      "text/plain": [
       "  employees        group  start_date  manager\n",
       "0      john   accounting        2009    Caner\n",
       "1    dennis  engineering        2014  Mustafa\n",
       "2      mark  engineering        2010  Mustafa\n",
       "3     maria           hr        2019  Berkcan"
      ]
     },
     "execution_count": 196,
     "metadata": {},
     "output_type": "execute_result"
    }
   ],
   "source": [
    "pd.merge(df3, df4)"
   ]
  },
  {
   "cell_type": "markdown",
   "id": "11488f2f",
   "metadata": {
    "papermill": {
     "duration": 0.07767,
     "end_time": "2023-10-11T14:44:58.650753",
     "exception": false,
     "start_time": "2023-10-11T14:44:58.573083",
     "status": "completed"
    },
    "tags": []
   },
   "source": [
    "<a id = \"22\"></a><br>\n",
    "<h1 style=\"background-color:#77BFC7;font-family:courier;font-size:250%;font-style: oblique;font-weight: bold;font-variant: small-caps;text-align:center;border-radius: 15px 50px;\"> Aggregation & Grouping </h1>"
   ]
  },
  {
   "cell_type": "markdown",
   "id": "67b02185",
   "metadata": {
    "papermill": {
     "duration": 0.080127,
     "end_time": "2023-10-11T14:44:58.810920",
     "exception": false,
     "start_time": "2023-10-11T14:44:58.730793",
     "status": "completed"
    },
    "tags": []
   },
   "source": [
    "**1. Grouping Operations**\n",
    "\n",
    "Pandas DataFrame grouping operations involve dividing the data into groups based on specific columns or multiple columns and performing operations on each group independently. Grouping allows you to analyze and summarize data within each group separately.\n",
    "\n",
    "Next, you can use **groupby()** method of the DataFrame to group the data based on one or more columns. **groupby()** method returns a DataFrameGroupBy object that represents the grouped data.\n",
    "\n",
    "Once you have the grouped DataFrame, you can perform various aggregation or transformation operations on it. Aggregation functions calculate summary statistics on each group, while transformation functions perform group-wise operations and return a DataFrame with the same shape as the original."
   ]
  },
  {
   "cell_type": "markdown",
   "id": "35aa8837",
   "metadata": {
    "papermill": {
     "duration": 0.081179,
     "end_time": "2023-10-11T14:44:58.972893",
     "exception": false,
     "start_time": "2023-10-11T14:44:58.891714",
     "status": "completed"
    },
    "tags": []
   },
   "source": [
    "**2. Aggregation Functions**\n",
    "\n",
    "DataFrame aggregation functions in pandas are used to compute summary statistics on the data in each group after performing grouping operations. These functions aggregate the data into a single value for each group, allowing you to quickly analyze and summarize data based on specific categories or groups."
   ]
  },
  {
   "cell_type": "markdown",
   "id": "9c0d539c",
   "metadata": {
    "papermill": {
     "duration": 0.080115,
     "end_time": "2023-10-11T14:44:59.137004",
     "exception": false,
     "start_time": "2023-10-11T14:44:59.056889",
     "status": "completed"
    },
    "tags": []
   },
   "source": [
    "<div style=\"border-radius:10px; border:#DEB887 solid; padding: 15px; background-color: #FFFAF0; font-size:100%; text-align:left\">\n",
    "\n",
    "<h3 align=\"left\"><font color='#DEB887'>💡 Notes: </font></h3>\n",
    "    \n",
    "* **sum():** Calculates the sum of values in each group.\n",
    "* **mean():** Calculates the mean (average) of values in each group.\n",
    "* **median():** Calculates the median of values in each group.\n",
    "* **min():** Calculates the minimum value in each group.\n",
    "* **max():** Calculates the maximum value in each group.\n",
    "* **count():** Counts the number of occurrences in each group.\n",
    "* **first():** Returns the first element of each group.\n",
    "* **last():** Returns the last element of each group.\n",
    "* **var():** Computes the variance of each group.\n",
    "* **std():** Computes the standard deviation of each group."
   ]
  },
  {
   "cell_type": "code",
   "execution_count": 197,
   "id": "d802eaec",
   "metadata": {
    "execution": {
     "iopub.execute_input": "2023-10-11T14:44:59.302207Z",
     "iopub.status.busy": "2023-10-11T14:44:59.301616Z",
     "iopub.status.idle": "2023-10-11T14:44:59.307823Z",
     "shell.execute_reply": "2023-10-11T14:44:59.306173Z"
    },
    "papermill": {
     "duration": 0.090766,
     "end_time": "2023-10-11T14:44:59.310127",
     "exception": false,
     "start_time": "2023-10-11T14:44:59.219361",
     "status": "completed"
    },
    "tags": []
   },
   "outputs": [],
   "source": [
    "import pandas as pd\n",
    "\n",
    "data = {\n",
    "    'Category': ['A', 'A', 'B', 'B', 'A', 'B'],\n",
    "    'Value': [10, 20, 15, 25, 5, 30]\n",
    "}\n",
    "\n",
    "df = pd.DataFrame(data)"
   ]
  },
  {
   "cell_type": "code",
   "execution_count": 198,
   "id": "96042109",
   "metadata": {
    "execution": {
     "iopub.execute_input": "2023-10-11T14:44:59.475606Z",
     "iopub.status.busy": "2023-10-11T14:44:59.474998Z",
     "iopub.status.idle": "2023-10-11T14:44:59.483873Z",
     "shell.execute_reply": "2023-10-11T14:44:59.482646Z"
    },
    "papermill": {
     "duration": 0.094854,
     "end_time": "2023-10-11T14:44:59.486469",
     "exception": false,
     "start_time": "2023-10-11T14:44:59.391615",
     "status": "completed"
    },
    "tags": []
   },
   "outputs": [
    {
     "data": {
      "text/plain": [
       "Category\n",
       "A    35\n",
       "B    70\n",
       "Name: Value, dtype: int64"
      ]
     },
     "execution_count": 198,
     "metadata": {},
     "output_type": "execute_result"
    }
   ],
   "source": [
    "df.groupby('Category')['Value'].sum()"
   ]
  },
  {
   "cell_type": "code",
   "execution_count": 199,
   "id": "c0af3813",
   "metadata": {
    "execution": {
     "iopub.execute_input": "2023-10-11T14:44:59.718326Z",
     "iopub.status.busy": "2023-10-11T14:44:59.717367Z",
     "iopub.status.idle": "2023-10-11T14:44:59.726018Z",
     "shell.execute_reply": "2023-10-11T14:44:59.725010Z"
    },
    "papermill": {
     "duration": 0.160996,
     "end_time": "2023-10-11T14:44:59.728593",
     "exception": false,
     "start_time": "2023-10-11T14:44:59.567597",
     "status": "completed"
    },
    "tags": []
   },
   "outputs": [
    {
     "data": {
      "text/plain": [
       "Category\n",
       "A    11.666667\n",
       "B    23.333333\n",
       "Name: Value, dtype: float64"
      ]
     },
     "execution_count": 199,
     "metadata": {},
     "output_type": "execute_result"
    }
   ],
   "source": [
    "df.groupby('Category')['Value'].mean()"
   ]
  },
  {
   "cell_type": "code",
   "execution_count": 200,
   "id": "4599e56c",
   "metadata": {
    "execution": {
     "iopub.execute_input": "2023-10-11T14:44:59.892451Z",
     "iopub.status.busy": "2023-10-11T14:44:59.892033Z",
     "iopub.status.idle": "2023-10-11T14:44:59.903953Z",
     "shell.execute_reply": "2023-10-11T14:44:59.902614Z"
    },
    "papermill": {
     "duration": 0.096564,
     "end_time": "2023-10-11T14:44:59.906649",
     "exception": false,
     "start_time": "2023-10-11T14:44:59.810085",
     "status": "completed"
    },
    "tags": []
   },
   "outputs": [
    {
     "data": {
      "text/plain": [
       "Category\n",
       "A    10.0\n",
       "B    25.0\n",
       "Name: Value, dtype: float64"
      ]
     },
     "execution_count": 200,
     "metadata": {},
     "output_type": "execute_result"
    }
   ],
   "source": [
    "df.groupby('Category')['Value'].median()"
   ]
  },
  {
   "cell_type": "code",
   "execution_count": 201,
   "id": "c266c3b1",
   "metadata": {
    "execution": {
     "iopub.execute_input": "2023-10-11T14:45:00.065931Z",
     "iopub.status.busy": "2023-10-11T14:45:00.064936Z",
     "iopub.status.idle": "2023-10-11T14:45:00.075922Z",
     "shell.execute_reply": "2023-10-11T14:45:00.075061Z"
    },
    "papermill": {
     "duration": 0.092496,
     "end_time": "2023-10-11T14:45:00.078083",
     "exception": false,
     "start_time": "2023-10-11T14:44:59.985587",
     "status": "completed"
    },
    "tags": []
   },
   "outputs": [
    {
     "data": {
      "text/plain": [
       "Category\n",
       "A     5\n",
       "B    15\n",
       "Name: Value, dtype: int64"
      ]
     },
     "execution_count": 201,
     "metadata": {},
     "output_type": "execute_result"
    }
   ],
   "source": [
    "df.groupby('Category')['Value'].min()"
   ]
  },
  {
   "cell_type": "code",
   "execution_count": 202,
   "id": "3b1e3944",
   "metadata": {
    "execution": {
     "iopub.execute_input": "2023-10-11T14:45:00.240173Z",
     "iopub.status.busy": "2023-10-11T14:45:00.239625Z",
     "iopub.status.idle": "2023-10-11T14:45:00.250356Z",
     "shell.execute_reply": "2023-10-11T14:45:00.249129Z"
    },
    "papermill": {
     "duration": 0.095869,
     "end_time": "2023-10-11T14:45:00.253320",
     "exception": false,
     "start_time": "2023-10-11T14:45:00.157451",
     "status": "completed"
    },
    "tags": []
   },
   "outputs": [
    {
     "data": {
      "text/plain": [
       "Category\n",
       "A    20\n",
       "B    30\n",
       "Name: Value, dtype: int64"
      ]
     },
     "execution_count": 202,
     "metadata": {},
     "output_type": "execute_result"
    }
   ],
   "source": [
    "df.groupby('Category')['Value'].max()"
   ]
  },
  {
   "cell_type": "code",
   "execution_count": 203,
   "id": "7687b8fe",
   "metadata": {
    "execution": {
     "iopub.execute_input": "2023-10-11T14:45:00.419393Z",
     "iopub.status.busy": "2023-10-11T14:45:00.419009Z",
     "iopub.status.idle": "2023-10-11T14:45:00.427530Z",
     "shell.execute_reply": "2023-10-11T14:45:00.426349Z"
    },
    "papermill": {
     "duration": 0.094316,
     "end_time": "2023-10-11T14:45:00.429853",
     "exception": false,
     "start_time": "2023-10-11T14:45:00.335537",
     "status": "completed"
    },
    "tags": []
   },
   "outputs": [
    {
     "data": {
      "text/plain": [
       "Category\n",
       "A    3\n",
       "B    3\n",
       "Name: Value, dtype: int64"
      ]
     },
     "execution_count": 203,
     "metadata": {},
     "output_type": "execute_result"
    }
   ],
   "source": [
    "df.groupby('Category')['Value'].count()"
   ]
  },
  {
   "cell_type": "code",
   "execution_count": 204,
   "id": "3cba2e91",
   "metadata": {
    "execution": {
     "iopub.execute_input": "2023-10-11T14:45:00.593652Z",
     "iopub.status.busy": "2023-10-11T14:45:00.593302Z",
     "iopub.status.idle": "2023-10-11T14:45:00.605102Z",
     "shell.execute_reply": "2023-10-11T14:45:00.603613Z"
    },
    "papermill": {
     "duration": 0.098523,
     "end_time": "2023-10-11T14:45:00.607523",
     "exception": false,
     "start_time": "2023-10-11T14:45:00.509000",
     "status": "completed"
    },
    "tags": []
   },
   "outputs": [
    {
     "data": {
      "text/plain": [
       "Category\n",
       "A    10\n",
       "B    15\n",
       "Name: Value, dtype: int64"
      ]
     },
     "execution_count": 204,
     "metadata": {},
     "output_type": "execute_result"
    }
   ],
   "source": [
    "df.groupby('Category')['Value'].first()"
   ]
  },
  {
   "cell_type": "code",
   "execution_count": 205,
   "id": "bd8d7d59",
   "metadata": {
    "execution": {
     "iopub.execute_input": "2023-10-11T14:45:00.773006Z",
     "iopub.status.busy": "2023-10-11T14:45:00.771910Z",
     "iopub.status.idle": "2023-10-11T14:45:00.782145Z",
     "shell.execute_reply": "2023-10-11T14:45:00.781346Z"
    },
    "papermill": {
     "duration": 0.095884,
     "end_time": "2023-10-11T14:45:00.784334",
     "exception": false,
     "start_time": "2023-10-11T14:45:00.688450",
     "status": "completed"
    },
    "tags": []
   },
   "outputs": [
    {
     "data": {
      "text/plain": [
       "Category\n",
       "A     5\n",
       "B    30\n",
       "Name: Value, dtype: int64"
      ]
     },
     "execution_count": 205,
     "metadata": {},
     "output_type": "execute_result"
    }
   ],
   "source": [
    "df.groupby('Category')['Value'].last()"
   ]
  },
  {
   "cell_type": "code",
   "execution_count": 206,
   "id": "5600ee8f",
   "metadata": {
    "execution": {
     "iopub.execute_input": "2023-10-11T14:45:00.951406Z",
     "iopub.status.busy": "2023-10-11T14:45:00.951016Z",
     "iopub.status.idle": "2023-10-11T14:45:00.960840Z",
     "shell.execute_reply": "2023-10-11T14:45:00.959505Z"
    },
    "papermill": {
     "duration": 0.096014,
     "end_time": "2023-10-11T14:45:00.963053",
     "exception": false,
     "start_time": "2023-10-11T14:45:00.867039",
     "status": "completed"
    },
    "tags": []
   },
   "outputs": [
    {
     "data": {
      "text/plain": [
       "Category\n",
       "A    58.333333\n",
       "B    58.333333\n",
       "Name: Value, dtype: float64"
      ]
     },
     "execution_count": 206,
     "metadata": {},
     "output_type": "execute_result"
    }
   ],
   "source": [
    "df.groupby('Category')['Value'].var()"
   ]
  },
  {
   "cell_type": "code",
   "execution_count": 207,
   "id": "84d49504",
   "metadata": {
    "execution": {
     "iopub.execute_input": "2023-10-11T14:45:01.131574Z",
     "iopub.status.busy": "2023-10-11T14:45:01.131183Z",
     "iopub.status.idle": "2023-10-11T14:45:01.141492Z",
     "shell.execute_reply": "2023-10-11T14:45:01.139888Z"
    },
    "papermill": {
     "duration": 0.096191,
     "end_time": "2023-10-11T14:45:01.143802",
     "exception": false,
     "start_time": "2023-10-11T14:45:01.047611",
     "status": "completed"
    },
    "tags": []
   },
   "outputs": [
    {
     "data": {
      "text/plain": [
       "Category\n",
       "A    7.637626\n",
       "B    7.637626\n",
       "Name: Value, dtype: float64"
      ]
     },
     "execution_count": 207,
     "metadata": {},
     "output_type": "execute_result"
    }
   ],
   "source": [
    "df.groupby('Category')['Value'].std()"
   ]
  },
  {
   "cell_type": "markdown",
   "id": "90fb0e38",
   "metadata": {
    "papermill": {
     "duration": 0.078614,
     "end_time": "2023-10-11T14:45:01.302048",
     "exception": false,
     "start_time": "2023-10-11T14:45:01.223434",
     "status": "completed"
    },
    "tags": []
   },
   "source": [
    "---"
   ]
  },
  {
   "cell_type": "markdown",
   "id": "8e6f9085",
   "metadata": {
    "papermill": {
     "duration": 0.078098,
     "end_time": "2023-10-11T14:45:01.463576",
     "exception": false,
     "start_time": "2023-10-11T14:45:01.385478",
     "status": "completed"
    },
    "tags": []
   },
   "source": [
    "<div style=\"border-radius:10px; border:#DEB887 solid; padding: 15px; background-color: #FFFAF0; font-size:100%; text-align:left\">\n",
    "\n",
    "<h3 align=\"left\"><font color='#DEB887'>💡 Notes: </font></h3>\n",
    "\n",
    "* **aggregate():** The aggregate() function in pandas is used for performing aggregation operations on the data in a DataFrame. It allows you to apply multiple aggregation functions to different columns of the DataFrame at the same time. You can pass a dictionary of column names and corresponding aggregation functions to the aggregate() function.\n",
    "\n",
    "* **filter():** The filter() function is used to filter data from a DataFrame based on specific conditions. It allows you to filter rows or columns of a DataFrame based on a function, a condition, or the presence of specific values.\n",
    "\n",
    "* **apply():** The apply() function is used to apply a function along the axis of a DataFrame. It allows you to apply a custom function to each row or column of the DataFrame."
   ]
  },
  {
   "cell_type": "markdown",
   "id": "95875466",
   "metadata": {
    "papermill": {
     "duration": 0.079337,
     "end_time": "2023-10-11T14:45:01.624448",
     "exception": false,
     "start_time": "2023-10-11T14:45:01.545111",
     "status": "completed"
    },
    "tags": []
   },
   "source": [
    "---"
   ]
  },
  {
   "cell_type": "code",
   "execution_count": 208,
   "id": "f2734e81",
   "metadata": {
    "execution": {
     "iopub.execute_input": "2023-10-11T14:45:01.788348Z",
     "iopub.status.busy": "2023-10-11T14:45:01.787894Z",
     "iopub.status.idle": "2023-10-11T14:45:01.794307Z",
     "shell.execute_reply": "2023-10-11T14:45:01.792923Z"
    },
    "papermill": {
     "duration": 0.090809,
     "end_time": "2023-10-11T14:45:01.796632",
     "exception": false,
     "start_time": "2023-10-11T14:45:01.705823",
     "status": "completed"
    },
    "tags": []
   },
   "outputs": [],
   "source": [
    "import pandas as pd\n",
    "\n",
    "data = {\n",
    "    'Category': ['A', 'A', 'B', 'B', 'A', 'B'],\n",
    "    'Value': [10, 20, 15, 25, 5, 30]\n",
    "}\n",
    "\n",
    "df = pd.DataFrame(data)"
   ]
  },
  {
   "cell_type": "code",
   "execution_count": 209,
   "id": "5533ebfa",
   "metadata": {
    "execution": {
     "iopub.execute_input": "2023-10-11T14:45:01.963517Z",
     "iopub.status.busy": "2023-10-11T14:45:01.962319Z",
     "iopub.status.idle": "2023-10-11T14:45:01.979323Z",
     "shell.execute_reply": "2023-10-11T14:45:01.978491Z"
    },
    "papermill": {
     "duration": 0.102052,
     "end_time": "2023-10-11T14:45:01.981490",
     "exception": false,
     "start_time": "2023-10-11T14:45:01.879438",
     "status": "completed"
    },
    "tags": []
   },
   "outputs": [
    {
     "data": {
      "text/html": [
       "<div>\n",
       "<style scoped>\n",
       "    .dataframe tbody tr th:only-of-type {\n",
       "        vertical-align: middle;\n",
       "    }\n",
       "\n",
       "    .dataframe tbody tr th {\n",
       "        vertical-align: top;\n",
       "    }\n",
       "\n",
       "    .dataframe thead tr th {\n",
       "        text-align: left;\n",
       "    }\n",
       "\n",
       "    .dataframe thead tr:last-of-type th {\n",
       "        text-align: right;\n",
       "    }\n",
       "</style>\n",
       "<table border=\"1\" class=\"dataframe\">\n",
       "  <thead>\n",
       "    <tr>\n",
       "      <th></th>\n",
       "      <th colspan=\"3\" halign=\"left\">Value</th>\n",
       "    </tr>\n",
       "    <tr>\n",
       "      <th></th>\n",
       "      <th>sum</th>\n",
       "      <th>mean</th>\n",
       "      <th>max</th>\n",
       "    </tr>\n",
       "    <tr>\n",
       "      <th>Category</th>\n",
       "      <th></th>\n",
       "      <th></th>\n",
       "      <th></th>\n",
       "    </tr>\n",
       "  </thead>\n",
       "  <tbody>\n",
       "    <tr>\n",
       "      <th>A</th>\n",
       "      <td>35</td>\n",
       "      <td>11.666667</td>\n",
       "      <td>20</td>\n",
       "    </tr>\n",
       "    <tr>\n",
       "      <th>B</th>\n",
       "      <td>70</td>\n",
       "      <td>23.333333</td>\n",
       "      <td>30</td>\n",
       "    </tr>\n",
       "  </tbody>\n",
       "</table>\n",
       "</div>"
      ],
      "text/plain": [
       "         Value               \n",
       "           sum       mean max\n",
       "Category                     \n",
       "A           35  11.666667  20\n",
       "B           70  23.333333  30"
      ]
     },
     "execution_count": 209,
     "metadata": {},
     "output_type": "execute_result"
    }
   ],
   "source": [
    "# Apply multiple aggregation functions to the 'Value' column:\n",
    "\n",
    "df.groupby('Category').agg({'Value': ['sum', 'mean', 'max']})"
   ]
  },
  {
   "cell_type": "code",
   "execution_count": 210,
   "id": "5281b153",
   "metadata": {
    "execution": {
     "iopub.execute_input": "2023-10-11T14:45:02.148209Z",
     "iopub.status.busy": "2023-10-11T14:45:02.147716Z",
     "iopub.status.idle": "2023-10-11T14:45:02.158305Z",
     "shell.execute_reply": "2023-10-11T14:45:02.157486Z"
    },
    "papermill": {
     "duration": 0.098029,
     "end_time": "2023-10-11T14:45:02.160693",
     "exception": false,
     "start_time": "2023-10-11T14:45:02.062664",
     "status": "completed"
    },
    "tags": []
   },
   "outputs": [
    {
     "data": {
      "text/html": [
       "<div>\n",
       "<style scoped>\n",
       "    .dataframe tbody tr th:only-of-type {\n",
       "        vertical-align: middle;\n",
       "    }\n",
       "\n",
       "    .dataframe tbody tr th {\n",
       "        vertical-align: top;\n",
       "    }\n",
       "\n",
       "    .dataframe thead th {\n",
       "        text-align: right;\n",
       "    }\n",
       "</style>\n",
       "<table border=\"1\" class=\"dataframe\">\n",
       "  <thead>\n",
       "    <tr style=\"text-align: right;\">\n",
       "      <th></th>\n",
       "      <th>Category</th>\n",
       "      <th>Value</th>\n",
       "    </tr>\n",
       "  </thead>\n",
       "  <tbody>\n",
       "    <tr>\n",
       "      <th>2</th>\n",
       "      <td>B</td>\n",
       "      <td>15</td>\n",
       "    </tr>\n",
       "    <tr>\n",
       "      <th>3</th>\n",
       "      <td>B</td>\n",
       "      <td>25</td>\n",
       "    </tr>\n",
       "    <tr>\n",
       "      <th>5</th>\n",
       "      <td>B</td>\n",
       "      <td>30</td>\n",
       "    </tr>\n",
       "  </tbody>\n",
       "</table>\n",
       "</div>"
      ],
      "text/plain": [
       "  Category  Value\n",
       "2        B     15\n",
       "3        B     25\n",
       "5        B     30"
      ]
     },
     "execution_count": 210,
     "metadata": {},
     "output_type": "execute_result"
    }
   ],
   "source": [
    "# Filter rows where the sum of 'Value' in each group is greater than 40:\n",
    "\n",
    "df.groupby('Category').filter(lambda x: x['Value'].sum() > 40)"
   ]
  },
  {
   "cell_type": "markdown",
   "id": "d544ad29",
   "metadata": {
    "papermill": {
     "duration": 0.086328,
     "end_time": "2023-10-11T14:45:02.328482",
     "exception": false,
     "start_time": "2023-10-11T14:45:02.242154",
     "status": "completed"
    },
    "tags": []
   },
   "source": [
    "---"
   ]
  },
  {
   "cell_type": "code",
   "execution_count": 211,
   "id": "f80ed2aa",
   "metadata": {
    "execution": {
     "iopub.execute_input": "2023-10-11T14:45:02.501450Z",
     "iopub.status.busy": "2023-10-11T14:45:02.501062Z",
     "iopub.status.idle": "2023-10-11T14:45:02.524309Z",
     "shell.execute_reply": "2023-10-11T14:45:02.522380Z"
    },
    "papermill": {
     "duration": 0.112573,
     "end_time": "2023-10-11T14:45:02.526912",
     "exception": false,
     "start_time": "2023-10-11T14:45:02.414339",
     "status": "completed"
    },
    "tags": []
   },
   "outputs": [
    {
     "data": {
      "text/html": [
       "<div>\n",
       "<style scoped>\n",
       "    .dataframe tbody tr th:only-of-type {\n",
       "        vertical-align: middle;\n",
       "    }\n",
       "\n",
       "    .dataframe tbody tr th {\n",
       "        vertical-align: top;\n",
       "    }\n",
       "\n",
       "    .dataframe thead th {\n",
       "        text-align: right;\n",
       "    }\n",
       "</style>\n",
       "<table border=\"1\" class=\"dataframe\">\n",
       "  <thead>\n",
       "    <tr style=\"text-align: right;\">\n",
       "      <th></th>\n",
       "      <th>PassengerId</th>\n",
       "      <th>Survived</th>\n",
       "      <th>Pclass</th>\n",
       "      <th>Name</th>\n",
       "      <th>Sex</th>\n",
       "      <th>Age</th>\n",
       "      <th>SibSp</th>\n",
       "      <th>Parch</th>\n",
       "      <th>Ticket</th>\n",
       "      <th>Fare</th>\n",
       "      <th>Cabin</th>\n",
       "      <th>Embarked</th>\n",
       "    </tr>\n",
       "  </thead>\n",
       "  <tbody>\n",
       "    <tr>\n",
       "      <th>0</th>\n",
       "      <td>1</td>\n",
       "      <td>0</td>\n",
       "      <td>3</td>\n",
       "      <td>Braund, Mr. Owen Harris</td>\n",
       "      <td>male</td>\n",
       "      <td>22.0</td>\n",
       "      <td>1</td>\n",
       "      <td>0</td>\n",
       "      <td>A/5 21171</td>\n",
       "      <td>7.2500</td>\n",
       "      <td>NaN</td>\n",
       "      <td>S</td>\n",
       "    </tr>\n",
       "    <tr>\n",
       "      <th>1</th>\n",
       "      <td>2</td>\n",
       "      <td>1</td>\n",
       "      <td>1</td>\n",
       "      <td>Cumings, Mrs. John Bradley (Florence Briggs Th...</td>\n",
       "      <td>female</td>\n",
       "      <td>38.0</td>\n",
       "      <td>1</td>\n",
       "      <td>0</td>\n",
       "      <td>PC 17599</td>\n",
       "      <td>71.2833</td>\n",
       "      <td>C85</td>\n",
       "      <td>C</td>\n",
       "    </tr>\n",
       "    <tr>\n",
       "      <th>2</th>\n",
       "      <td>3</td>\n",
       "      <td>1</td>\n",
       "      <td>3</td>\n",
       "      <td>Heikkinen, Miss. Laina</td>\n",
       "      <td>female</td>\n",
       "      <td>26.0</td>\n",
       "      <td>0</td>\n",
       "      <td>0</td>\n",
       "      <td>STON/O2. 3101282</td>\n",
       "      <td>7.9250</td>\n",
       "      <td>NaN</td>\n",
       "      <td>S</td>\n",
       "    </tr>\n",
       "    <tr>\n",
       "      <th>3</th>\n",
       "      <td>4</td>\n",
       "      <td>1</td>\n",
       "      <td>1</td>\n",
       "      <td>Futrelle, Mrs. Jacques Heath (Lily May Peel)</td>\n",
       "      <td>female</td>\n",
       "      <td>35.0</td>\n",
       "      <td>1</td>\n",
       "      <td>0</td>\n",
       "      <td>113803</td>\n",
       "      <td>53.1000</td>\n",
       "      <td>C123</td>\n",
       "      <td>S</td>\n",
       "    </tr>\n",
       "    <tr>\n",
       "      <th>4</th>\n",
       "      <td>5</td>\n",
       "      <td>0</td>\n",
       "      <td>3</td>\n",
       "      <td>Allen, Mr. William Henry</td>\n",
       "      <td>male</td>\n",
       "      <td>35.0</td>\n",
       "      <td>0</td>\n",
       "      <td>0</td>\n",
       "      <td>373450</td>\n",
       "      <td>8.0500</td>\n",
       "      <td>NaN</td>\n",
       "      <td>S</td>\n",
       "    </tr>\n",
       "  </tbody>\n",
       "</table>\n",
       "</div>"
      ],
      "text/plain": [
       "   PassengerId  Survived  Pclass  \\\n",
       "0            1         0       3   \n",
       "1            2         1       1   \n",
       "2            3         1       3   \n",
       "3            4         1       1   \n",
       "4            5         0       3   \n",
       "\n",
       "                                                Name     Sex   Age  SibSp  \\\n",
       "0                            Braund, Mr. Owen Harris    male  22.0      1   \n",
       "1  Cumings, Mrs. John Bradley (Florence Briggs Th...  female  38.0      1   \n",
       "2                             Heikkinen, Miss. Laina  female  26.0      0   \n",
       "3       Futrelle, Mrs. Jacques Heath (Lily May Peel)  female  35.0      1   \n",
       "4                           Allen, Mr. William Henry    male  35.0      0   \n",
       "\n",
       "   Parch            Ticket     Fare Cabin Embarked  \n",
       "0      0         A/5 21171   7.2500   NaN        S  \n",
       "1      0          PC 17599  71.2833   C85        C  \n",
       "2      0  STON/O2. 3101282   7.9250   NaN        S  \n",
       "3      0            113803  53.1000  C123        S  \n",
       "4      0            373450   8.0500   NaN        S  "
      ]
     },
     "execution_count": 211,
     "metadata": {},
     "output_type": "execute_result"
    }
   ],
   "source": [
    "import pandas as pd\n",
    "import seaborn as sns\n",
    "\n",
    "df = pd.read_csv('/kaggle/input/titanic/train.csv')\n",
    "\n",
    "df.head()"
   ]
  },
  {
   "cell_type": "code",
   "execution_count": 212,
   "id": "0bb37a55",
   "metadata": {
    "execution": {
     "iopub.execute_input": "2023-10-11T14:45:02.692159Z",
     "iopub.status.busy": "2023-10-11T14:45:02.691786Z",
     "iopub.status.idle": "2023-10-11T14:45:02.699149Z",
     "shell.execute_reply": "2023-10-11T14:45:02.698031Z"
    },
    "papermill": {
     "duration": 0.091988,
     "end_time": "2023-10-11T14:45:02.701418",
     "exception": false,
     "start_time": "2023-10-11T14:45:02.609430",
     "status": "completed"
    },
    "tags": []
   },
   "outputs": [
    {
     "data": {
      "text/plain": [
       "29.69911764705882"
      ]
     },
     "execution_count": 212,
     "metadata": {},
     "output_type": "execute_result"
    }
   ],
   "source": [
    "df[\"Age\"].mean()"
   ]
  },
  {
   "cell_type": "code",
   "execution_count": 213,
   "id": "561bced5",
   "metadata": {
    "execution": {
     "iopub.execute_input": "2023-10-11T14:45:02.864575Z",
     "iopub.status.busy": "2023-10-11T14:45:02.864195Z",
     "iopub.status.idle": "2023-10-11T14:45:02.874436Z",
     "shell.execute_reply": "2023-10-11T14:45:02.873317Z"
    },
    "papermill": {
     "duration": 0.0965,
     "end_time": "2023-10-11T14:45:02.876850",
     "exception": false,
     "start_time": "2023-10-11T14:45:02.780350",
     "status": "completed"
    },
    "tags": []
   },
   "outputs": [
    {
     "data": {
      "text/plain": [
       "Sex\n",
       "female    27.915709\n",
       "male      30.726645\n",
       "Name: Age, dtype: float64"
      ]
     },
     "execution_count": 213,
     "metadata": {},
     "output_type": "execute_result"
    }
   ],
   "source": [
    "df.groupby(\"Sex\")[\"Age\"].mean()"
   ]
  },
  {
   "cell_type": "code",
   "execution_count": 214,
   "id": "63b5b04c",
   "metadata": {
    "execution": {
     "iopub.execute_input": "2023-10-11T14:45:03.041673Z",
     "iopub.status.busy": "2023-10-11T14:45:03.041326Z",
     "iopub.status.idle": "2023-10-11T14:45:03.057076Z",
     "shell.execute_reply": "2023-10-11T14:45:03.055613Z"
    },
    "papermill": {
     "duration": 0.100913,
     "end_time": "2023-10-11T14:45:03.059935",
     "exception": false,
     "start_time": "2023-10-11T14:45:02.959022",
     "status": "completed"
    },
    "tags": []
   },
   "outputs": [
    {
     "data": {
      "text/html": [
       "<div>\n",
       "<style scoped>\n",
       "    .dataframe tbody tr th:only-of-type {\n",
       "        vertical-align: middle;\n",
       "    }\n",
       "\n",
       "    .dataframe tbody tr th {\n",
       "        vertical-align: top;\n",
       "    }\n",
       "\n",
       "    .dataframe thead tr th {\n",
       "        text-align: left;\n",
       "    }\n",
       "\n",
       "    .dataframe thead tr:last-of-type th {\n",
       "        text-align: right;\n",
       "    }\n",
       "</style>\n",
       "<table border=\"1\" class=\"dataframe\">\n",
       "  <thead>\n",
       "    <tr>\n",
       "      <th></th>\n",
       "      <th colspan=\"2\" halign=\"left\">Age</th>\n",
       "    </tr>\n",
       "    <tr>\n",
       "      <th></th>\n",
       "      <th>mean</th>\n",
       "      <th>sum</th>\n",
       "    </tr>\n",
       "    <tr>\n",
       "      <th>Sex</th>\n",
       "      <th></th>\n",
       "      <th></th>\n",
       "    </tr>\n",
       "  </thead>\n",
       "  <tbody>\n",
       "    <tr>\n",
       "      <th>female</th>\n",
       "      <td>27.915709</td>\n",
       "      <td>7286.00</td>\n",
       "    </tr>\n",
       "    <tr>\n",
       "      <th>male</th>\n",
       "      <td>30.726645</td>\n",
       "      <td>13919.17</td>\n",
       "    </tr>\n",
       "  </tbody>\n",
       "</table>\n",
       "</div>"
      ],
      "text/plain": [
       "              Age          \n",
       "             mean       sum\n",
       "Sex                        \n",
       "female  27.915709   7286.00\n",
       "male    30.726645  13919.17"
      ]
     },
     "execution_count": 214,
     "metadata": {},
     "output_type": "execute_result"
    }
   ],
   "source": [
    "df.groupby(\"Sex\").agg({\"Age\": [\"mean\", \"sum\"]})"
   ]
  },
  {
   "cell_type": "code",
   "execution_count": 215,
   "id": "d6b0c9b7",
   "metadata": {
    "execution": {
     "iopub.execute_input": "2023-10-11T14:45:03.227467Z",
     "iopub.status.busy": "2023-10-11T14:45:03.227054Z",
     "iopub.status.idle": "2023-10-11T14:45:03.243510Z",
     "shell.execute_reply": "2023-10-11T14:45:03.242333Z"
    },
    "papermill": {
     "duration": 0.10149,
     "end_time": "2023-10-11T14:45:03.245818",
     "exception": false,
     "start_time": "2023-10-11T14:45:03.144328",
     "status": "completed"
    },
    "tags": []
   },
   "outputs": [
    {
     "data": {
      "text/html": [
       "<div>\n",
       "<style scoped>\n",
       "    .dataframe tbody tr th:only-of-type {\n",
       "        vertical-align: middle;\n",
       "    }\n",
       "\n",
       "    .dataframe tbody tr th {\n",
       "        vertical-align: top;\n",
       "    }\n",
       "\n",
       "    .dataframe thead tr th {\n",
       "        text-align: left;\n",
       "    }\n",
       "\n",
       "    .dataframe thead tr:last-of-type th {\n",
       "        text-align: right;\n",
       "    }\n",
       "</style>\n",
       "<table border=\"1\" class=\"dataframe\">\n",
       "  <thead>\n",
       "    <tr>\n",
       "      <th></th>\n",
       "      <th colspan=\"2\" halign=\"left\">Age</th>\n",
       "      <th>Survived</th>\n",
       "    </tr>\n",
       "    <tr>\n",
       "      <th></th>\n",
       "      <th>mean</th>\n",
       "      <th>sum</th>\n",
       "      <th>mean</th>\n",
       "    </tr>\n",
       "    <tr>\n",
       "      <th>Sex</th>\n",
       "      <th></th>\n",
       "      <th></th>\n",
       "      <th></th>\n",
       "    </tr>\n",
       "  </thead>\n",
       "  <tbody>\n",
       "    <tr>\n",
       "      <th>female</th>\n",
       "      <td>27.915709</td>\n",
       "      <td>7286.00</td>\n",
       "      <td>0.742038</td>\n",
       "    </tr>\n",
       "    <tr>\n",
       "      <th>male</th>\n",
       "      <td>30.726645</td>\n",
       "      <td>13919.17</td>\n",
       "      <td>0.188908</td>\n",
       "    </tr>\n",
       "  </tbody>\n",
       "</table>\n",
       "</div>"
      ],
      "text/plain": [
       "              Age            Survived\n",
       "             mean       sum      mean\n",
       "Sex                                  \n",
       "female  27.915709   7286.00  0.742038\n",
       "male    30.726645  13919.17  0.188908"
      ]
     },
     "execution_count": 215,
     "metadata": {},
     "output_type": "execute_result"
    }
   ],
   "source": [
    "df.groupby(\"Sex\").agg({\"Age\": [\"mean\", \"sum\"],\"Survived\": \"mean\"})"
   ]
  },
  {
   "cell_type": "code",
   "execution_count": 216,
   "id": "8acf4612",
   "metadata": {
    "execution": {
     "iopub.execute_input": "2023-10-11T14:45:03.410912Z",
     "iopub.status.busy": "2023-10-11T14:45:03.410559Z",
     "iopub.status.idle": "2023-10-11T14:45:03.425628Z",
     "shell.execute_reply": "2023-10-11T14:45:03.424784Z"
    },
    "papermill": {
     "duration": 0.103943,
     "end_time": "2023-10-11T14:45:03.427856",
     "exception": false,
     "start_time": "2023-10-11T14:45:03.323913",
     "status": "completed"
    },
    "tags": []
   },
   "outputs": [
    {
     "data": {
      "text/html": [
       "<div>\n",
       "<style scoped>\n",
       "    .dataframe tbody tr th:only-of-type {\n",
       "        vertical-align: middle;\n",
       "    }\n",
       "\n",
       "    .dataframe tbody tr th {\n",
       "        vertical-align: top;\n",
       "    }\n",
       "\n",
       "    .dataframe thead tr th {\n",
       "        text-align: left;\n",
       "    }\n",
       "\n",
       "    .dataframe thead tr:last-of-type th {\n",
       "        text-align: right;\n",
       "    }\n",
       "</style>\n",
       "<table border=\"1\" class=\"dataframe\">\n",
       "  <thead>\n",
       "    <tr>\n",
       "      <th></th>\n",
       "      <th></th>\n",
       "      <th>Age</th>\n",
       "      <th>Survived</th>\n",
       "    </tr>\n",
       "    <tr>\n",
       "      <th></th>\n",
       "      <th></th>\n",
       "      <th>mean</th>\n",
       "      <th>mean</th>\n",
       "    </tr>\n",
       "    <tr>\n",
       "      <th>Sex</th>\n",
       "      <th>Embarked</th>\n",
       "      <th></th>\n",
       "      <th></th>\n",
       "    </tr>\n",
       "  </thead>\n",
       "  <tbody>\n",
       "    <tr>\n",
       "      <th rowspan=\"3\" valign=\"top\">female</th>\n",
       "      <th>C</th>\n",
       "      <td>28.344262</td>\n",
       "      <td>0.876712</td>\n",
       "    </tr>\n",
       "    <tr>\n",
       "      <th>Q</th>\n",
       "      <td>24.291667</td>\n",
       "      <td>0.750000</td>\n",
       "    </tr>\n",
       "    <tr>\n",
       "      <th>S</th>\n",
       "      <td>27.771505</td>\n",
       "      <td>0.689655</td>\n",
       "    </tr>\n",
       "    <tr>\n",
       "      <th rowspan=\"3\" valign=\"top\">male</th>\n",
       "      <th>C</th>\n",
       "      <td>32.998841</td>\n",
       "      <td>0.305263</td>\n",
       "    </tr>\n",
       "    <tr>\n",
       "      <th>Q</th>\n",
       "      <td>30.937500</td>\n",
       "      <td>0.073171</td>\n",
       "    </tr>\n",
       "    <tr>\n",
       "      <th>S</th>\n",
       "      <td>30.291440</td>\n",
       "      <td>0.174603</td>\n",
       "    </tr>\n",
       "  </tbody>\n",
       "</table>\n",
       "</div>"
      ],
      "text/plain": [
       "                       Age  Survived\n",
       "                      mean      mean\n",
       "Sex    Embarked                     \n",
       "female C         28.344262  0.876712\n",
       "       Q         24.291667  0.750000\n",
       "       S         27.771505  0.689655\n",
       "male   C         32.998841  0.305263\n",
       "       Q         30.937500  0.073171\n",
       "       S         30.291440  0.174603"
      ]
     },
     "execution_count": 216,
     "metadata": {},
     "output_type": "execute_result"
    }
   ],
   "source": [
    "df.groupby([\"Sex\", \"Embarked\"]).agg({\"Age\": [\"mean\"],\"Survived\": \"mean\"})"
   ]
  },
  {
   "cell_type": "code",
   "execution_count": 217,
   "id": "1ef21ecb",
   "metadata": {
    "execution": {
     "iopub.execute_input": "2023-10-11T14:45:03.606606Z",
     "iopub.status.busy": "2023-10-11T14:45:03.605929Z",
     "iopub.status.idle": "2023-10-11T14:45:03.628858Z",
     "shell.execute_reply": "2023-10-11T14:45:03.627740Z"
    },
    "papermill": {
     "duration": 0.112774,
     "end_time": "2023-10-11T14:45:03.631210",
     "exception": false,
     "start_time": "2023-10-11T14:45:03.518436",
     "status": "completed"
    },
    "tags": []
   },
   "outputs": [
    {
     "data": {
      "text/html": [
       "<div>\n",
       "<style scoped>\n",
       "    .dataframe tbody tr th:only-of-type {\n",
       "        vertical-align: middle;\n",
       "    }\n",
       "\n",
       "    .dataframe tbody tr th {\n",
       "        vertical-align: top;\n",
       "    }\n",
       "\n",
       "    .dataframe thead tr th {\n",
       "        text-align: left;\n",
       "    }\n",
       "\n",
       "    .dataframe thead tr:last-of-type th {\n",
       "        text-align: right;\n",
       "    }\n",
       "</style>\n",
       "<table border=\"1\" class=\"dataframe\">\n",
       "  <thead>\n",
       "    <tr>\n",
       "      <th></th>\n",
       "      <th></th>\n",
       "      <th></th>\n",
       "      <th>Age</th>\n",
       "      <th>Survived</th>\n",
       "      <th>Sex</th>\n",
       "    </tr>\n",
       "    <tr>\n",
       "      <th></th>\n",
       "      <th></th>\n",
       "      <th></th>\n",
       "      <th>mean</th>\n",
       "      <th>mean</th>\n",
       "      <th>count</th>\n",
       "    </tr>\n",
       "    <tr>\n",
       "      <th>Sex</th>\n",
       "      <th>Embarked</th>\n",
       "      <th>Pclass</th>\n",
       "      <th></th>\n",
       "      <th></th>\n",
       "      <th></th>\n",
       "    </tr>\n",
       "  </thead>\n",
       "  <tbody>\n",
       "    <tr>\n",
       "      <th rowspan=\"9\" valign=\"top\">female</th>\n",
       "      <th rowspan=\"3\" valign=\"top\">C</th>\n",
       "      <th>1</th>\n",
       "      <td>36.052632</td>\n",
       "      <td>0.976744</td>\n",
       "      <td>43</td>\n",
       "    </tr>\n",
       "    <tr>\n",
       "      <th>2</th>\n",
       "      <td>19.142857</td>\n",
       "      <td>1.000000</td>\n",
       "      <td>7</td>\n",
       "    </tr>\n",
       "    <tr>\n",
       "      <th>3</th>\n",
       "      <td>14.062500</td>\n",
       "      <td>0.652174</td>\n",
       "      <td>23</td>\n",
       "    </tr>\n",
       "    <tr>\n",
       "      <th rowspan=\"3\" valign=\"top\">Q</th>\n",
       "      <th>1</th>\n",
       "      <td>33.000000</td>\n",
       "      <td>1.000000</td>\n",
       "      <td>1</td>\n",
       "    </tr>\n",
       "    <tr>\n",
       "      <th>2</th>\n",
       "      <td>30.000000</td>\n",
       "      <td>1.000000</td>\n",
       "      <td>2</td>\n",
       "    </tr>\n",
       "    <tr>\n",
       "      <th>3</th>\n",
       "      <td>22.850000</td>\n",
       "      <td>0.727273</td>\n",
       "      <td>33</td>\n",
       "    </tr>\n",
       "    <tr>\n",
       "      <th rowspan=\"3\" valign=\"top\">S</th>\n",
       "      <th>1</th>\n",
       "      <td>32.704545</td>\n",
       "      <td>0.958333</td>\n",
       "      <td>48</td>\n",
       "    </tr>\n",
       "    <tr>\n",
       "      <th>2</th>\n",
       "      <td>29.719697</td>\n",
       "      <td>0.910448</td>\n",
       "      <td>67</td>\n",
       "    </tr>\n",
       "    <tr>\n",
       "      <th>3</th>\n",
       "      <td>23.223684</td>\n",
       "      <td>0.375000</td>\n",
       "      <td>88</td>\n",
       "    </tr>\n",
       "    <tr>\n",
       "      <th rowspan=\"9\" valign=\"top\">male</th>\n",
       "      <th rowspan=\"3\" valign=\"top\">C</th>\n",
       "      <th>1</th>\n",
       "      <td>40.111111</td>\n",
       "      <td>0.404762</td>\n",
       "      <td>42</td>\n",
       "    </tr>\n",
       "    <tr>\n",
       "      <th>2</th>\n",
       "      <td>25.937500</td>\n",
       "      <td>0.200000</td>\n",
       "      <td>10</td>\n",
       "    </tr>\n",
       "    <tr>\n",
       "      <th>3</th>\n",
       "      <td>25.016800</td>\n",
       "      <td>0.232558</td>\n",
       "      <td>43</td>\n",
       "    </tr>\n",
       "    <tr>\n",
       "      <th rowspan=\"3\" valign=\"top\">Q</th>\n",
       "      <th>1</th>\n",
       "      <td>44.000000</td>\n",
       "      <td>0.000000</td>\n",
       "      <td>1</td>\n",
       "    </tr>\n",
       "    <tr>\n",
       "      <th>2</th>\n",
       "      <td>57.000000</td>\n",
       "      <td>0.000000</td>\n",
       "      <td>1</td>\n",
       "    </tr>\n",
       "    <tr>\n",
       "      <th>3</th>\n",
       "      <td>28.142857</td>\n",
       "      <td>0.076923</td>\n",
       "      <td>39</td>\n",
       "    </tr>\n",
       "    <tr>\n",
       "      <th rowspan=\"3\" valign=\"top\">S</th>\n",
       "      <th>1</th>\n",
       "      <td>41.897188</td>\n",
       "      <td>0.354430</td>\n",
       "      <td>79</td>\n",
       "    </tr>\n",
       "    <tr>\n",
       "      <th>2</th>\n",
       "      <td>30.875889</td>\n",
       "      <td>0.154639</td>\n",
       "      <td>97</td>\n",
       "    </tr>\n",
       "    <tr>\n",
       "      <th>3</th>\n",
       "      <td>26.574766</td>\n",
       "      <td>0.128302</td>\n",
       "      <td>265</td>\n",
       "    </tr>\n",
       "  </tbody>\n",
       "</table>\n",
       "</div>"
      ],
      "text/plain": [
       "                              Age  Survived   Sex\n",
       "                             mean      mean count\n",
       "Sex    Embarked Pclass                           \n",
       "female C        1       36.052632  0.976744    43\n",
       "                2       19.142857  1.000000     7\n",
       "                3       14.062500  0.652174    23\n",
       "       Q        1       33.000000  1.000000     1\n",
       "                2       30.000000  1.000000     2\n",
       "                3       22.850000  0.727273    33\n",
       "       S        1       32.704545  0.958333    48\n",
       "                2       29.719697  0.910448    67\n",
       "                3       23.223684  0.375000    88\n",
       "male   C        1       40.111111  0.404762    42\n",
       "                2       25.937500  0.200000    10\n",
       "                3       25.016800  0.232558    43\n",
       "       Q        1       44.000000  0.000000     1\n",
       "                2       57.000000  0.000000     1\n",
       "                3       28.142857  0.076923    39\n",
       "       S        1       41.897188  0.354430    79\n",
       "                2       30.875889  0.154639    97\n",
       "                3       26.574766  0.128302   265"
      ]
     },
     "execution_count": 217,
     "metadata": {},
     "output_type": "execute_result"
    }
   ],
   "source": [
    "df.groupby([\"Sex\", \"Embarked\", \"Pclass\"]).agg({\"Age\": [\"mean\"],\"Survived\": \"mean\",\"Sex\": \"count\"})"
   ]
  },
  {
   "cell_type": "markdown",
   "id": "cdf6bc12",
   "metadata": {
    "papermill": {
     "duration": 0.094109,
     "end_time": "2023-10-11T14:45:03.815263",
     "exception": false,
     "start_time": "2023-10-11T14:45:03.721154",
     "status": "completed"
    },
    "tags": []
   },
   "source": [
    "---"
   ]
  },
  {
   "cell_type": "code",
   "execution_count": 218,
   "id": "0a33272f",
   "metadata": {
    "execution": {
     "iopub.execute_input": "2023-10-11T14:45:04.057554Z",
     "iopub.status.busy": "2023-10-11T14:45:04.056393Z",
     "iopub.status.idle": "2023-10-11T14:45:04.074495Z",
     "shell.execute_reply": "2023-10-11T14:45:04.072762Z"
    },
    "papermill": {
     "duration": 0.102377,
     "end_time": "2023-10-11T14:45:04.076885",
     "exception": false,
     "start_time": "2023-10-11T14:45:03.974508",
     "status": "completed"
    },
    "tags": []
   },
   "outputs": [
    {
     "data": {
      "text/html": [
       "<div>\n",
       "<style scoped>\n",
       "    .dataframe tbody tr th:only-of-type {\n",
       "        vertical-align: middle;\n",
       "    }\n",
       "\n",
       "    .dataframe tbody tr th {\n",
       "        vertical-align: top;\n",
       "    }\n",
       "\n",
       "    .dataframe thead th {\n",
       "        text-align: right;\n",
       "    }\n",
       "</style>\n",
       "<table border=\"1\" class=\"dataframe\">\n",
       "  <thead>\n",
       "    <tr style=\"text-align: right;\">\n",
       "      <th></th>\n",
       "      <th>PassengerId</th>\n",
       "      <th>Survived</th>\n",
       "      <th>Pclass</th>\n",
       "      <th>Name</th>\n",
       "      <th>Sex</th>\n",
       "      <th>Age</th>\n",
       "      <th>SibSp</th>\n",
       "      <th>Parch</th>\n",
       "      <th>Ticket</th>\n",
       "      <th>Fare</th>\n",
       "      <th>Cabin</th>\n",
       "      <th>Embarked</th>\n",
       "    </tr>\n",
       "  </thead>\n",
       "  <tbody>\n",
       "    <tr>\n",
       "      <th>0</th>\n",
       "      <td>1</td>\n",
       "      <td>0</td>\n",
       "      <td>3</td>\n",
       "      <td>Braund, Mr. Owen Harris</td>\n",
       "      <td>male</td>\n",
       "      <td>22.0</td>\n",
       "      <td>1</td>\n",
       "      <td>0</td>\n",
       "      <td>A/5 21171</td>\n",
       "      <td>7.2500</td>\n",
       "      <td>NaN</td>\n",
       "      <td>S</td>\n",
       "    </tr>\n",
       "    <tr>\n",
       "      <th>1</th>\n",
       "      <td>2</td>\n",
       "      <td>1</td>\n",
       "      <td>1</td>\n",
       "      <td>Cumings, Mrs. John Bradley (Florence Briggs Th...</td>\n",
       "      <td>female</td>\n",
       "      <td>38.0</td>\n",
       "      <td>1</td>\n",
       "      <td>0</td>\n",
       "      <td>PC 17599</td>\n",
       "      <td>71.2833</td>\n",
       "      <td>C85</td>\n",
       "      <td>C</td>\n",
       "    </tr>\n",
       "    <tr>\n",
       "      <th>2</th>\n",
       "      <td>3</td>\n",
       "      <td>1</td>\n",
       "      <td>3</td>\n",
       "      <td>Heikkinen, Miss. Laina</td>\n",
       "      <td>female</td>\n",
       "      <td>26.0</td>\n",
       "      <td>0</td>\n",
       "      <td>0</td>\n",
       "      <td>STON/O2. 3101282</td>\n",
       "      <td>7.9250</td>\n",
       "      <td>NaN</td>\n",
       "      <td>S</td>\n",
       "    </tr>\n",
       "    <tr>\n",
       "      <th>3</th>\n",
       "      <td>4</td>\n",
       "      <td>1</td>\n",
       "      <td>1</td>\n",
       "      <td>Futrelle, Mrs. Jacques Heath (Lily May Peel)</td>\n",
       "      <td>female</td>\n",
       "      <td>35.0</td>\n",
       "      <td>1</td>\n",
       "      <td>0</td>\n",
       "      <td>113803</td>\n",
       "      <td>53.1000</td>\n",
       "      <td>C123</td>\n",
       "      <td>S</td>\n",
       "    </tr>\n",
       "    <tr>\n",
       "      <th>4</th>\n",
       "      <td>5</td>\n",
       "      <td>0</td>\n",
       "      <td>3</td>\n",
       "      <td>Allen, Mr. William Henry</td>\n",
       "      <td>male</td>\n",
       "      <td>35.0</td>\n",
       "      <td>0</td>\n",
       "      <td>0</td>\n",
       "      <td>373450</td>\n",
       "      <td>8.0500</td>\n",
       "      <td>NaN</td>\n",
       "      <td>S</td>\n",
       "    </tr>\n",
       "  </tbody>\n",
       "</table>\n",
       "</div>"
      ],
      "text/plain": [
       "   PassengerId  Survived  Pclass  \\\n",
       "0            1         0       3   \n",
       "1            2         1       1   \n",
       "2            3         1       3   \n",
       "3            4         1       1   \n",
       "4            5         0       3   \n",
       "\n",
       "                                                Name     Sex   Age  SibSp  \\\n",
       "0                            Braund, Mr. Owen Harris    male  22.0      1   \n",
       "1  Cumings, Mrs. John Bradley (Florence Briggs Th...  female  38.0      1   \n",
       "2                             Heikkinen, Miss. Laina  female  26.0      0   \n",
       "3       Futrelle, Mrs. Jacques Heath (Lily May Peel)  female  35.0      1   \n",
       "4                           Allen, Mr. William Henry    male  35.0      0   \n",
       "\n",
       "   Parch            Ticket     Fare Cabin Embarked  \n",
       "0      0         A/5 21171   7.2500   NaN        S  \n",
       "1      0          PC 17599  71.2833   C85        C  \n",
       "2      0  STON/O2. 3101282   7.9250   NaN        S  \n",
       "3      0            113803  53.1000  C123        S  \n",
       "4      0            373450   8.0500   NaN        S  "
      ]
     },
     "execution_count": 218,
     "metadata": {},
     "output_type": "execute_result"
    }
   ],
   "source": [
    "df.head()"
   ]
  },
  {
   "cell_type": "code",
   "execution_count": 219,
   "id": "22faf6d7",
   "metadata": {
    "execution": {
     "iopub.execute_input": "2023-10-11T14:45:04.239704Z",
     "iopub.status.busy": "2023-10-11T14:45:04.239340Z",
     "iopub.status.idle": "2023-10-11T14:45:04.246176Z",
     "shell.execute_reply": "2023-10-11T14:45:04.244697Z"
    },
    "papermill": {
     "duration": 0.089047,
     "end_time": "2023-10-11T14:45:04.248593",
     "exception": false,
     "start_time": "2023-10-11T14:45:04.159546",
     "status": "completed"
    },
    "tags": []
   },
   "outputs": [],
   "source": [
    "df[\"Age2\"] = df[\"Age\"]*2\n",
    "df[\"Age3\"] = df[\"Age\"]*5"
   ]
  },
  {
   "cell_type": "code",
   "execution_count": 220,
   "id": "3de95cfd",
   "metadata": {
    "execution": {
     "iopub.execute_input": "2023-10-11T14:45:04.415723Z",
     "iopub.status.busy": "2023-10-11T14:45:04.415378Z",
     "iopub.status.idle": "2023-10-11T14:45:04.425584Z",
     "shell.execute_reply": "2023-10-11T14:45:04.424400Z"
    },
    "papermill": {
     "duration": 0.095211,
     "end_time": "2023-10-11T14:45:04.428054",
     "exception": false,
     "start_time": "2023-10-11T14:45:04.332843",
     "status": "completed"
    },
    "tags": []
   },
   "outputs": [
    {
     "name": "stdout",
     "output_type": "stream",
     "text": [
      "Age\n",
      "Age2\n",
      "Age3\n",
      "0    2.2\n",
      "1    3.8\n",
      "2    2.6\n",
      "3    3.5\n",
      "4    3.5\n",
      "Name: Age, dtype: float64\n",
      "0    4.4\n",
      "1    7.6\n",
      "2    5.2\n",
      "3    7.0\n",
      "4    7.0\n",
      "Name: Age2, dtype: float64\n",
      "0    11.0\n",
      "1    19.0\n",
      "2    13.0\n",
      "3    17.5\n",
      "4    17.5\n",
      "Name: Age3, dtype: float64\n"
     ]
    }
   ],
   "source": [
    "for col in df.columns:\n",
    "    if \"Age\" in col:\n",
    "        print(col)\n",
    "\n",
    "for col in df.columns:\n",
    "    if \"Age\" in col:\n",
    "        print((df[col]/10).head())\n",
    "\n",
    "for col in df.columns:\n",
    "    if \"Age\" in col:\n",
    "        df[col] = df[col]/10"
   ]
  },
  {
   "cell_type": "code",
   "execution_count": 221,
   "id": "8a43e380",
   "metadata": {
    "execution": {
     "iopub.execute_input": "2023-10-11T14:45:04.597091Z",
     "iopub.status.busy": "2023-10-11T14:45:04.596704Z",
     "iopub.status.idle": "2023-10-11T14:45:04.612113Z",
     "shell.execute_reply": "2023-10-11T14:45:04.610941Z"
    },
    "papermill": {
     "duration": 0.104331,
     "end_time": "2023-10-11T14:45:04.614400",
     "exception": false,
     "start_time": "2023-10-11T14:45:04.510069",
     "status": "completed"
    },
    "tags": []
   },
   "outputs": [
    {
     "data": {
      "text/html": [
       "<div>\n",
       "<style scoped>\n",
       "    .dataframe tbody tr th:only-of-type {\n",
       "        vertical-align: middle;\n",
       "    }\n",
       "\n",
       "    .dataframe tbody tr th {\n",
       "        vertical-align: top;\n",
       "    }\n",
       "\n",
       "    .dataframe thead th {\n",
       "        text-align: right;\n",
       "    }\n",
       "</style>\n",
       "<table border=\"1\" class=\"dataframe\">\n",
       "  <thead>\n",
       "    <tr style=\"text-align: right;\">\n",
       "      <th></th>\n",
       "      <th>Age</th>\n",
       "      <th>Age2</th>\n",
       "      <th>Age3</th>\n",
       "    </tr>\n",
       "  </thead>\n",
       "  <tbody>\n",
       "    <tr>\n",
       "      <th>0</th>\n",
       "      <td>0.22</td>\n",
       "      <td>0.44</td>\n",
       "      <td>1.10</td>\n",
       "    </tr>\n",
       "    <tr>\n",
       "      <th>1</th>\n",
       "      <td>0.38</td>\n",
       "      <td>0.76</td>\n",
       "      <td>1.90</td>\n",
       "    </tr>\n",
       "    <tr>\n",
       "      <th>2</th>\n",
       "      <td>0.26</td>\n",
       "      <td>0.52</td>\n",
       "      <td>1.30</td>\n",
       "    </tr>\n",
       "    <tr>\n",
       "      <th>3</th>\n",
       "      <td>0.35</td>\n",
       "      <td>0.70</td>\n",
       "      <td>1.75</td>\n",
       "    </tr>\n",
       "    <tr>\n",
       "      <th>4</th>\n",
       "      <td>0.35</td>\n",
       "      <td>0.70</td>\n",
       "      <td>1.75</td>\n",
       "    </tr>\n",
       "  </tbody>\n",
       "</table>\n",
       "</div>"
      ],
      "text/plain": [
       "    Age  Age2  Age3\n",
       "0  0.22  0.44  1.10\n",
       "1  0.38  0.76  1.90\n",
       "2  0.26  0.52  1.30\n",
       "3  0.35  0.70  1.75\n",
       "4  0.35  0.70  1.75"
      ]
     },
     "execution_count": 221,
     "metadata": {},
     "output_type": "execute_result"
    }
   ],
   "source": [
    "df[[\"Age\", \"Age2\", \"Age3\"]].apply(lambda x: x/10).head()"
   ]
  },
  {
   "cell_type": "code",
   "execution_count": 222,
   "id": "56574d86",
   "metadata": {
    "execution": {
     "iopub.execute_input": "2023-10-11T14:45:04.781711Z",
     "iopub.status.busy": "2023-10-11T14:45:04.781376Z",
     "iopub.status.idle": "2023-10-11T14:45:04.794580Z",
     "shell.execute_reply": "2023-10-11T14:45:04.793448Z"
    },
    "papermill": {
     "duration": 0.099151,
     "end_time": "2023-10-11T14:45:04.796863",
     "exception": false,
     "start_time": "2023-10-11T14:45:04.697712",
     "status": "completed"
    },
    "tags": []
   },
   "outputs": [
    {
     "data": {
      "text/html": [
       "<div>\n",
       "<style scoped>\n",
       "    .dataframe tbody tr th:only-of-type {\n",
       "        vertical-align: middle;\n",
       "    }\n",
       "\n",
       "    .dataframe tbody tr th {\n",
       "        vertical-align: top;\n",
       "    }\n",
       "\n",
       "    .dataframe thead th {\n",
       "        text-align: right;\n",
       "    }\n",
       "</style>\n",
       "<table border=\"1\" class=\"dataframe\">\n",
       "  <thead>\n",
       "    <tr style=\"text-align: right;\">\n",
       "      <th></th>\n",
       "      <th>Age</th>\n",
       "      <th>Age2</th>\n",
       "      <th>Age3</th>\n",
       "    </tr>\n",
       "  </thead>\n",
       "  <tbody>\n",
       "    <tr>\n",
       "      <th>0</th>\n",
       "      <td>0.22</td>\n",
       "      <td>0.44</td>\n",
       "      <td>1.10</td>\n",
       "    </tr>\n",
       "    <tr>\n",
       "      <th>1</th>\n",
       "      <td>0.38</td>\n",
       "      <td>0.76</td>\n",
       "      <td>1.90</td>\n",
       "    </tr>\n",
       "    <tr>\n",
       "      <th>2</th>\n",
       "      <td>0.26</td>\n",
       "      <td>0.52</td>\n",
       "      <td>1.30</td>\n",
       "    </tr>\n",
       "    <tr>\n",
       "      <th>3</th>\n",
       "      <td>0.35</td>\n",
       "      <td>0.70</td>\n",
       "      <td>1.75</td>\n",
       "    </tr>\n",
       "    <tr>\n",
       "      <th>4</th>\n",
       "      <td>0.35</td>\n",
       "      <td>0.70</td>\n",
       "      <td>1.75</td>\n",
       "    </tr>\n",
       "  </tbody>\n",
       "</table>\n",
       "</div>"
      ],
      "text/plain": [
       "    Age  Age2  Age3\n",
       "0  0.22  0.44  1.10\n",
       "1  0.38  0.76  1.90\n",
       "2  0.26  0.52  1.30\n",
       "3  0.35  0.70  1.75\n",
       "4  0.35  0.70  1.75"
      ]
     },
     "execution_count": 222,
     "metadata": {},
     "output_type": "execute_result"
    }
   ],
   "source": [
    "df.loc[:, df.columns.str.contains(\"Age\")].apply(lambda x: x/10).head()"
   ]
  },
  {
   "cell_type": "code",
   "execution_count": 223,
   "id": "2d0b0430",
   "metadata": {
    "execution": {
     "iopub.execute_input": "2023-10-11T14:45:04.971114Z",
     "iopub.status.busy": "2023-10-11T14:45:04.970737Z",
     "iopub.status.idle": "2023-10-11T14:45:04.986857Z",
     "shell.execute_reply": "2023-10-11T14:45:04.985698Z"
    },
    "papermill": {
     "duration": 0.103592,
     "end_time": "2023-10-11T14:45:04.989179",
     "exception": false,
     "start_time": "2023-10-11T14:45:04.885587",
     "status": "completed"
    },
    "tags": []
   },
   "outputs": [
    {
     "data": {
      "text/html": [
       "<div>\n",
       "<style scoped>\n",
       "    .dataframe tbody tr th:only-of-type {\n",
       "        vertical-align: middle;\n",
       "    }\n",
       "\n",
       "    .dataframe tbody tr th {\n",
       "        vertical-align: top;\n",
       "    }\n",
       "\n",
       "    .dataframe thead th {\n",
       "        text-align: right;\n",
       "    }\n",
       "</style>\n",
       "<table border=\"1\" class=\"dataframe\">\n",
       "  <thead>\n",
       "    <tr style=\"text-align: right;\">\n",
       "      <th></th>\n",
       "      <th>Age</th>\n",
       "      <th>Age2</th>\n",
       "      <th>Age3</th>\n",
       "    </tr>\n",
       "  </thead>\n",
       "  <tbody>\n",
       "    <tr>\n",
       "      <th>0</th>\n",
       "      <td>-0.530005</td>\n",
       "      <td>-0.530005</td>\n",
       "      <td>-0.530005</td>\n",
       "    </tr>\n",
       "    <tr>\n",
       "      <th>1</th>\n",
       "      <td>0.571430</td>\n",
       "      <td>0.571430</td>\n",
       "      <td>0.571430</td>\n",
       "    </tr>\n",
       "    <tr>\n",
       "      <th>2</th>\n",
       "      <td>-0.254646</td>\n",
       "      <td>-0.254646</td>\n",
       "      <td>-0.254646</td>\n",
       "    </tr>\n",
       "    <tr>\n",
       "      <th>3</th>\n",
       "      <td>0.364911</td>\n",
       "      <td>0.364911</td>\n",
       "      <td>0.364911</td>\n",
       "    </tr>\n",
       "    <tr>\n",
       "      <th>4</th>\n",
       "      <td>0.364911</td>\n",
       "      <td>0.364911</td>\n",
       "      <td>0.364911</td>\n",
       "    </tr>\n",
       "  </tbody>\n",
       "</table>\n",
       "</div>"
      ],
      "text/plain": [
       "        Age      Age2      Age3\n",
       "0 -0.530005 -0.530005 -0.530005\n",
       "1  0.571430  0.571430  0.571430\n",
       "2 -0.254646 -0.254646 -0.254646\n",
       "3  0.364911  0.364911  0.364911\n",
       "4  0.364911  0.364911  0.364911"
      ]
     },
     "execution_count": 223,
     "metadata": {},
     "output_type": "execute_result"
    }
   ],
   "source": [
    "df.loc[:, df.columns.str.contains(\"Age\")].apply(lambda x: (x - x.mean()) / x.std()).head()"
   ]
  },
  {
   "cell_type": "code",
   "execution_count": 224,
   "id": "da3ca6d5",
   "metadata": {
    "execution": {
     "iopub.execute_input": "2023-10-11T14:45:05.157013Z",
     "iopub.status.busy": "2023-10-11T14:45:05.156667Z",
     "iopub.status.idle": "2023-10-11T14:45:05.172093Z",
     "shell.execute_reply": "2023-10-11T14:45:05.171100Z"
    },
    "papermill": {
     "duration": 0.101296,
     "end_time": "2023-10-11T14:45:05.174471",
     "exception": false,
     "start_time": "2023-10-11T14:45:05.073175",
     "status": "completed"
    },
    "tags": []
   },
   "outputs": [
    {
     "data": {
      "text/html": [
       "<div>\n",
       "<style scoped>\n",
       "    .dataframe tbody tr th:only-of-type {\n",
       "        vertical-align: middle;\n",
       "    }\n",
       "\n",
       "    .dataframe tbody tr th {\n",
       "        vertical-align: top;\n",
       "    }\n",
       "\n",
       "    .dataframe thead th {\n",
       "        text-align: right;\n",
       "    }\n",
       "</style>\n",
       "<table border=\"1\" class=\"dataframe\">\n",
       "  <thead>\n",
       "    <tr style=\"text-align: right;\">\n",
       "      <th></th>\n",
       "      <th>Age</th>\n",
       "      <th>Age2</th>\n",
       "      <th>Age3</th>\n",
       "    </tr>\n",
       "  </thead>\n",
       "  <tbody>\n",
       "    <tr>\n",
       "      <th>0</th>\n",
       "      <td>-0.530005</td>\n",
       "      <td>-0.530005</td>\n",
       "      <td>-0.530005</td>\n",
       "    </tr>\n",
       "    <tr>\n",
       "      <th>1</th>\n",
       "      <td>0.571430</td>\n",
       "      <td>0.571430</td>\n",
       "      <td>0.571430</td>\n",
       "    </tr>\n",
       "    <tr>\n",
       "      <th>2</th>\n",
       "      <td>-0.254646</td>\n",
       "      <td>-0.254646</td>\n",
       "      <td>-0.254646</td>\n",
       "    </tr>\n",
       "    <tr>\n",
       "      <th>3</th>\n",
       "      <td>0.364911</td>\n",
       "      <td>0.364911</td>\n",
       "      <td>0.364911</td>\n",
       "    </tr>\n",
       "    <tr>\n",
       "      <th>4</th>\n",
       "      <td>0.364911</td>\n",
       "      <td>0.364911</td>\n",
       "      <td>0.364911</td>\n",
       "    </tr>\n",
       "  </tbody>\n",
       "</table>\n",
       "</div>"
      ],
      "text/plain": [
       "        Age      Age2      Age3\n",
       "0 -0.530005 -0.530005 -0.530005\n",
       "1  0.571430  0.571430  0.571430\n",
       "2 -0.254646 -0.254646 -0.254646\n",
       "3  0.364911  0.364911  0.364911\n",
       "4  0.364911  0.364911  0.364911"
      ]
     },
     "execution_count": 224,
     "metadata": {},
     "output_type": "execute_result"
    }
   ],
   "source": [
    "def standart_scaler(col_name):\n",
    "    return (col_name - col_name.mean()) / col_name.std()\n",
    "\n",
    "df.loc[:, df.columns.str.contains(\"Age\")].apply(standart_scaler).head()"
   ]
  },
  {
   "cell_type": "markdown",
   "id": "b32164ec",
   "metadata": {
    "papermill": {
     "duration": 0.080702,
     "end_time": "2023-10-11T14:45:05.336064",
     "exception": false,
     "start_time": "2023-10-11T14:45:05.255362",
     "status": "completed"
    },
    "tags": []
   },
   "source": [
    "---"
   ]
  },
  {
   "cell_type": "code",
   "execution_count": 225,
   "id": "c84ff1e8",
   "metadata": {
    "execution": {
     "iopub.execute_input": "2023-10-11T14:45:05.511956Z",
     "iopub.status.busy": "2023-10-11T14:45:05.511271Z",
     "iopub.status.idle": "2023-10-11T14:45:06.033741Z",
     "shell.execute_reply": "2023-10-11T14:45:06.032928Z"
    },
    "papermill": {
     "duration": 0.612174,
     "end_time": "2023-10-11T14:45:06.035800",
     "exception": false,
     "start_time": "2023-10-11T14:45:05.423626",
     "status": "completed"
    },
    "tags": []
   },
   "outputs": [
    {
     "data": {
      "text/html": [
       "<div>\n",
       "<style scoped>\n",
       "    .dataframe tbody tr th:only-of-type {\n",
       "        vertical-align: middle;\n",
       "    }\n",
       "\n",
       "    .dataframe tbody tr th {\n",
       "        vertical-align: top;\n",
       "    }\n",
       "\n",
       "    .dataframe thead th {\n",
       "        text-align: right;\n",
       "    }\n",
       "</style>\n",
       "<table border=\"1\" class=\"dataframe\">\n",
       "  <thead>\n",
       "    <tr style=\"text-align: right;\">\n",
       "      <th></th>\n",
       "      <th>total_bill</th>\n",
       "      <th>tip</th>\n",
       "      <th>sex</th>\n",
       "      <th>smoker</th>\n",
       "      <th>day</th>\n",
       "      <th>time</th>\n",
       "      <th>size</th>\n",
       "    </tr>\n",
       "  </thead>\n",
       "  <tbody>\n",
       "    <tr>\n",
       "      <th>0</th>\n",
       "      <td>16.99</td>\n",
       "      <td>1.01</td>\n",
       "      <td>Female</td>\n",
       "      <td>No</td>\n",
       "      <td>Sun</td>\n",
       "      <td>Dinner</td>\n",
       "      <td>2</td>\n",
       "    </tr>\n",
       "    <tr>\n",
       "      <th>1</th>\n",
       "      <td>10.34</td>\n",
       "      <td>1.66</td>\n",
       "      <td>Male</td>\n",
       "      <td>No</td>\n",
       "      <td>Sun</td>\n",
       "      <td>Dinner</td>\n",
       "      <td>3</td>\n",
       "    </tr>\n",
       "    <tr>\n",
       "      <th>2</th>\n",
       "      <td>21.01</td>\n",
       "      <td>3.50</td>\n",
       "      <td>Male</td>\n",
       "      <td>No</td>\n",
       "      <td>Sun</td>\n",
       "      <td>Dinner</td>\n",
       "      <td>3</td>\n",
       "    </tr>\n",
       "    <tr>\n",
       "      <th>3</th>\n",
       "      <td>23.68</td>\n",
       "      <td>3.31</td>\n",
       "      <td>Male</td>\n",
       "      <td>No</td>\n",
       "      <td>Sun</td>\n",
       "      <td>Dinner</td>\n",
       "      <td>2</td>\n",
       "    </tr>\n",
       "    <tr>\n",
       "      <th>4</th>\n",
       "      <td>24.59</td>\n",
       "      <td>3.61</td>\n",
       "      <td>Female</td>\n",
       "      <td>No</td>\n",
       "      <td>Sun</td>\n",
       "      <td>Dinner</td>\n",
       "      <td>4</td>\n",
       "    </tr>\n",
       "  </tbody>\n",
       "</table>\n",
       "</div>"
      ],
      "text/plain": [
       "   total_bill   tip     sex smoker  day    time  size\n",
       "0       16.99  1.01  Female     No  Sun  Dinner     2\n",
       "1       10.34  1.66    Male     No  Sun  Dinner     3\n",
       "2       21.01  3.50    Male     No  Sun  Dinner     3\n",
       "3       23.68  3.31    Male     No  Sun  Dinner     2\n",
       "4       24.59  3.61  Female     No  Sun  Dinner     4"
      ]
     },
     "execution_count": 225,
     "metadata": {},
     "output_type": "execute_result"
    }
   ],
   "source": [
    "data = sns.load_dataset(\"tips\")\n",
    "\n",
    "data.head()"
   ]
  },
  {
   "cell_type": "code",
   "execution_count": 226,
   "id": "a6f9fc5a",
   "metadata": {
    "execution": {
     "iopub.execute_input": "2023-10-11T14:45:06.202418Z",
     "iopub.status.busy": "2023-10-11T14:45:06.201763Z",
     "iopub.status.idle": "2023-10-11T14:45:06.219876Z",
     "shell.execute_reply": "2023-10-11T14:45:06.219166Z"
    },
    "papermill": {
     "duration": 0.101214,
     "end_time": "2023-10-11T14:45:06.221698",
     "exception": false,
     "start_time": "2023-10-11T14:45:06.120484",
     "status": "completed"
    },
    "tags": []
   },
   "outputs": [
    {
     "data": {
      "text/html": [
       "<div>\n",
       "<style scoped>\n",
       "    .dataframe tbody tr th:only-of-type {\n",
       "        vertical-align: middle;\n",
       "    }\n",
       "\n",
       "    .dataframe tbody tr th {\n",
       "        vertical-align: top;\n",
       "    }\n",
       "\n",
       "    .dataframe thead tr th {\n",
       "        text-align: left;\n",
       "    }\n",
       "\n",
       "    .dataframe thead tr:last-of-type th {\n",
       "        text-align: right;\n",
       "    }\n",
       "</style>\n",
       "<table border=\"1\" class=\"dataframe\">\n",
       "  <thead>\n",
       "    <tr>\n",
       "      <th></th>\n",
       "      <th colspan=\"4\" halign=\"left\">total_bill</th>\n",
       "    </tr>\n",
       "    <tr>\n",
       "      <th></th>\n",
       "      <th>sum</th>\n",
       "      <th>min</th>\n",
       "      <th>max</th>\n",
       "      <th>mean</th>\n",
       "    </tr>\n",
       "    <tr>\n",
       "      <th>time</th>\n",
       "      <th></th>\n",
       "      <th></th>\n",
       "      <th></th>\n",
       "      <th></th>\n",
       "    </tr>\n",
       "  </thead>\n",
       "  <tbody>\n",
       "    <tr>\n",
       "      <th>Lunch</th>\n",
       "      <td>1167.47</td>\n",
       "      <td>7.51</td>\n",
       "      <td>43.11</td>\n",
       "      <td>17.168676</td>\n",
       "    </tr>\n",
       "    <tr>\n",
       "      <th>Dinner</th>\n",
       "      <td>3660.30</td>\n",
       "      <td>3.07</td>\n",
       "      <td>50.81</td>\n",
       "      <td>20.797159</td>\n",
       "    </tr>\n",
       "  </tbody>\n",
       "</table>\n",
       "</div>"
      ],
      "text/plain": [
       "       total_bill                        \n",
       "              sum   min    max       mean\n",
       "time                                     \n",
       "Lunch     1167.47  7.51  43.11  17.168676\n",
       "Dinner    3660.30  3.07  50.81  20.797159"
      ]
     },
     "execution_count": 226,
     "metadata": {},
     "output_type": "execute_result"
    }
   ],
   "source": [
    "data.groupby('time').agg({\"total_bill\" : ['sum', 'min', 'max', 'mean']})"
   ]
  },
  {
   "cell_type": "code",
   "execution_count": 227,
   "id": "a0fee2fe",
   "metadata": {
    "execution": {
     "iopub.execute_input": "2023-10-11T14:45:06.395105Z",
     "iopub.status.busy": "2023-10-11T14:45:06.394369Z",
     "iopub.status.idle": "2023-10-11T14:45:06.428801Z",
     "shell.execute_reply": "2023-10-11T14:45:06.427660Z"
    },
    "papermill": {
     "duration": 0.126889,
     "end_time": "2023-10-11T14:45:06.430914",
     "exception": false,
     "start_time": "2023-10-11T14:45:06.304025",
     "status": "completed"
    },
    "tags": []
   },
   "outputs": [
    {
     "data": {
      "text/html": [
       "<div>\n",
       "<style scoped>\n",
       "    .dataframe tbody tr th:only-of-type {\n",
       "        vertical-align: middle;\n",
       "    }\n",
       "\n",
       "    .dataframe tbody tr th {\n",
       "        vertical-align: top;\n",
       "    }\n",
       "\n",
       "    .dataframe thead tr th {\n",
       "        text-align: left;\n",
       "    }\n",
       "\n",
       "    .dataframe thead tr:last-of-type th {\n",
       "        text-align: right;\n",
       "    }\n",
       "</style>\n",
       "<table border=\"1\" class=\"dataframe\">\n",
       "  <thead>\n",
       "    <tr>\n",
       "      <th></th>\n",
       "      <th></th>\n",
       "      <th colspan=\"4\" halign=\"left\">total_bill</th>\n",
       "    </tr>\n",
       "    <tr>\n",
       "      <th></th>\n",
       "      <th></th>\n",
       "      <th>sum</th>\n",
       "      <th>min</th>\n",
       "      <th>max</th>\n",
       "      <th>mean</th>\n",
       "    </tr>\n",
       "    <tr>\n",
       "      <th>day</th>\n",
       "      <th>time</th>\n",
       "      <th></th>\n",
       "      <th></th>\n",
       "      <th></th>\n",
       "      <th></th>\n",
       "    </tr>\n",
       "  </thead>\n",
       "  <tbody>\n",
       "    <tr>\n",
       "      <th rowspan=\"2\" valign=\"top\">Thur</th>\n",
       "      <th>Lunch</th>\n",
       "      <td>1077.55</td>\n",
       "      <td>7.51</td>\n",
       "      <td>43.11</td>\n",
       "      <td>17.664754</td>\n",
       "    </tr>\n",
       "    <tr>\n",
       "      <th>Dinner</th>\n",
       "      <td>18.78</td>\n",
       "      <td>18.78</td>\n",
       "      <td>18.78</td>\n",
       "      <td>18.780000</td>\n",
       "    </tr>\n",
       "    <tr>\n",
       "      <th rowspan=\"2\" valign=\"top\">Fri</th>\n",
       "      <th>Lunch</th>\n",
       "      <td>89.92</td>\n",
       "      <td>8.58</td>\n",
       "      <td>16.27</td>\n",
       "      <td>12.845714</td>\n",
       "    </tr>\n",
       "    <tr>\n",
       "      <th>Dinner</th>\n",
       "      <td>235.96</td>\n",
       "      <td>5.75</td>\n",
       "      <td>40.17</td>\n",
       "      <td>19.663333</td>\n",
       "    </tr>\n",
       "    <tr>\n",
       "      <th rowspan=\"2\" valign=\"top\">Sat</th>\n",
       "      <th>Lunch</th>\n",
       "      <td>0.00</td>\n",
       "      <td>NaN</td>\n",
       "      <td>NaN</td>\n",
       "      <td>NaN</td>\n",
       "    </tr>\n",
       "    <tr>\n",
       "      <th>Dinner</th>\n",
       "      <td>1778.40</td>\n",
       "      <td>3.07</td>\n",
       "      <td>50.81</td>\n",
       "      <td>20.441379</td>\n",
       "    </tr>\n",
       "    <tr>\n",
       "      <th rowspan=\"2\" valign=\"top\">Sun</th>\n",
       "      <th>Lunch</th>\n",
       "      <td>0.00</td>\n",
       "      <td>NaN</td>\n",
       "      <td>NaN</td>\n",
       "      <td>NaN</td>\n",
       "    </tr>\n",
       "    <tr>\n",
       "      <th>Dinner</th>\n",
       "      <td>1627.16</td>\n",
       "      <td>7.25</td>\n",
       "      <td>48.17</td>\n",
       "      <td>21.410000</td>\n",
       "    </tr>\n",
       "  </tbody>\n",
       "</table>\n",
       "</div>"
      ],
      "text/plain": [
       "            total_bill                         \n",
       "                   sum    min    max       mean\n",
       "day  time                                      \n",
       "Thur Lunch     1077.55   7.51  43.11  17.664754\n",
       "     Dinner      18.78  18.78  18.78  18.780000\n",
       "Fri  Lunch       89.92   8.58  16.27  12.845714\n",
       "     Dinner     235.96   5.75  40.17  19.663333\n",
       "Sat  Lunch        0.00    NaN    NaN        NaN\n",
       "     Dinner    1778.40   3.07  50.81  20.441379\n",
       "Sun  Lunch        0.00    NaN    NaN        NaN\n",
       "     Dinner    1627.16   7.25  48.17  21.410000"
      ]
     },
     "execution_count": 227,
     "metadata": {},
     "output_type": "execute_result"
    }
   ],
   "source": [
    "data.groupby([\"day\",\"time\"]).agg({\"total_bill\" :['sum', 'min', 'max', 'mean']})"
   ]
  },
  {
   "cell_type": "code",
   "execution_count": 228,
   "id": "13f094a7",
   "metadata": {
    "execution": {
     "iopub.execute_input": "2023-10-11T14:45:06.607481Z",
     "iopub.status.busy": "2023-10-11T14:45:06.606014Z",
     "iopub.status.idle": "2023-10-11T14:45:06.629832Z",
     "shell.execute_reply": "2023-10-11T14:45:06.628883Z"
    },
    "papermill": {
     "duration": 0.113203,
     "end_time": "2023-10-11T14:45:06.632073",
     "exception": false,
     "start_time": "2023-10-11T14:45:06.518870",
     "status": "completed"
    },
    "tags": []
   },
   "outputs": [
    {
     "data": {
      "text/html": [
       "<div>\n",
       "<style scoped>\n",
       "    .dataframe tbody tr th:only-of-type {\n",
       "        vertical-align: middle;\n",
       "    }\n",
       "\n",
       "    .dataframe tbody tr th {\n",
       "        vertical-align: top;\n",
       "    }\n",
       "\n",
       "    .dataframe thead tr th {\n",
       "        text-align: left;\n",
       "    }\n",
       "\n",
       "    .dataframe thead tr:last-of-type th {\n",
       "        text-align: right;\n",
       "    }\n",
       "</style>\n",
       "<table border=\"1\" class=\"dataframe\">\n",
       "  <thead>\n",
       "    <tr>\n",
       "      <th></th>\n",
       "      <th colspan=\"4\" halign=\"left\">total_bill</th>\n",
       "      <th colspan=\"4\" halign=\"left\">tip</th>\n",
       "    </tr>\n",
       "    <tr>\n",
       "      <th></th>\n",
       "      <th>sum</th>\n",
       "      <th>min</th>\n",
       "      <th>max</th>\n",
       "      <th>mean</th>\n",
       "      <th>sum</th>\n",
       "      <th>min</th>\n",
       "      <th>max</th>\n",
       "      <th>mean</th>\n",
       "    </tr>\n",
       "    <tr>\n",
       "      <th>day</th>\n",
       "      <th></th>\n",
       "      <th></th>\n",
       "      <th></th>\n",
       "      <th></th>\n",
       "      <th></th>\n",
       "      <th></th>\n",
       "      <th></th>\n",
       "      <th></th>\n",
       "    </tr>\n",
       "  </thead>\n",
       "  <tbody>\n",
       "    <tr>\n",
       "      <th>Thur</th>\n",
       "      <td>516.11</td>\n",
       "      <td>8.35</td>\n",
       "      <td>43.11</td>\n",
       "      <td>16.64871</td>\n",
       "      <td>79.42</td>\n",
       "      <td>1.25</td>\n",
       "      <td>5.17</td>\n",
       "      <td>2.561935</td>\n",
       "    </tr>\n",
       "    <tr>\n",
       "      <th>Fri</th>\n",
       "      <td>55.76</td>\n",
       "      <td>10.09</td>\n",
       "      <td>16.27</td>\n",
       "      <td>13.94000</td>\n",
       "      <td>10.98</td>\n",
       "      <td>2.00</td>\n",
       "      <td>3.48</td>\n",
       "      <td>2.745000</td>\n",
       "    </tr>\n",
       "    <tr>\n",
       "      <th>Sat</th>\n",
       "      <td>0.00</td>\n",
       "      <td>NaN</td>\n",
       "      <td>NaN</td>\n",
       "      <td>NaN</td>\n",
       "      <td>0.00</td>\n",
       "      <td>NaN</td>\n",
       "      <td>NaN</td>\n",
       "      <td>NaN</td>\n",
       "    </tr>\n",
       "    <tr>\n",
       "      <th>Sun</th>\n",
       "      <td>0.00</td>\n",
       "      <td>NaN</td>\n",
       "      <td>NaN</td>\n",
       "      <td>NaN</td>\n",
       "      <td>0.00</td>\n",
       "      <td>NaN</td>\n",
       "      <td>NaN</td>\n",
       "      <td>NaN</td>\n",
       "    </tr>\n",
       "  </tbody>\n",
       "</table>\n",
       "</div>"
      ],
      "text/plain": [
       "     total_bill                            tip                      \n",
       "            sum    min    max      mean    sum   min   max      mean\n",
       "day                                                                 \n",
       "Thur     516.11   8.35  43.11  16.64871  79.42  1.25  5.17  2.561935\n",
       "Fri       55.76  10.09  16.27  13.94000  10.98  2.00  3.48  2.745000\n",
       "Sat        0.00    NaN    NaN       NaN   0.00   NaN   NaN       NaN\n",
       "Sun        0.00    NaN    NaN       NaN   0.00   NaN   NaN       NaN"
      ]
     },
     "execution_count": 228,
     "metadata": {},
     "output_type": "execute_result"
    }
   ],
   "source": [
    "data1 = data[(data['time'] == 'Lunch') & (data['sex'] == 'Female')]\n",
    "\n",
    "data1.groupby([\"day\"]).agg({\"total_bill\" : ['sum', 'min', 'max', 'mean'], \"tip\" : ['sum', 'min', 'max', 'mean']})"
   ]
  },
  {
   "cell_type": "code",
   "execution_count": 229,
   "id": "b556ab7a",
   "metadata": {
    "execution": {
     "iopub.execute_input": "2023-10-11T14:45:06.804339Z",
     "iopub.status.busy": "2023-10-11T14:45:06.803926Z",
     "iopub.status.idle": "2023-10-11T14:45:06.817315Z",
     "shell.execute_reply": "2023-10-11T14:45:06.815975Z"
    },
    "papermill": {
     "duration": 0.100731,
     "end_time": "2023-10-11T14:45:06.819745",
     "exception": false,
     "start_time": "2023-10-11T14:45:06.719014",
     "status": "completed"
    },
    "tags": []
   },
   "outputs": [
    {
     "data": {
      "text/html": [
       "<div>\n",
       "<style scoped>\n",
       "    .dataframe tbody tr th:only-of-type {\n",
       "        vertical-align: middle;\n",
       "    }\n",
       "\n",
       "    .dataframe tbody tr th {\n",
       "        vertical-align: top;\n",
       "    }\n",
       "\n",
       "    .dataframe thead th {\n",
       "        text-align: right;\n",
       "    }\n",
       "</style>\n",
       "<table border=\"1\" class=\"dataframe\">\n",
       "  <thead>\n",
       "    <tr style=\"text-align: right;\">\n",
       "      <th></th>\n",
       "      <th>total_bill</th>\n",
       "    </tr>\n",
       "  </thead>\n",
       "  <tbody>\n",
       "    <tr>\n",
       "      <th>mean</th>\n",
       "      <td>17.184965</td>\n",
       "    </tr>\n",
       "  </tbody>\n",
       "</table>\n",
       "</div>"
      ],
      "text/plain": [
       "      total_bill\n",
       "mean   17.184965"
      ]
     },
     "execution_count": 229,
     "metadata": {},
     "output_type": "execute_result"
    }
   ],
   "source": [
    "data[(data[\"size\"] < 3) & (data[\"total_bill\"] > 10)].agg({\"total_bill\" : [\"mean\"]})"
   ]
  },
  {
   "cell_type": "code",
   "execution_count": 230,
   "id": "2772bda6",
   "metadata": {
    "execution": {
     "iopub.execute_input": "2023-10-11T14:45:06.991939Z",
     "iopub.status.busy": "2023-10-11T14:45:06.990898Z",
     "iopub.status.idle": "2023-10-11T14:45:06.998532Z",
     "shell.execute_reply": "2023-10-11T14:45:06.996672Z"
    },
    "papermill": {
     "duration": 0.096097,
     "end_time": "2023-10-11T14:45:07.001178",
     "exception": false,
     "start_time": "2023-10-11T14:45:06.905081",
     "status": "completed"
    },
    "tags": []
   },
   "outputs": [],
   "source": [
    "data[\"total_bill_tip_sum\"] = data['total_bill'] + data['tip']"
   ]
  },
  {
   "cell_type": "code",
   "execution_count": 231,
   "id": "e917cad9",
   "metadata": {
    "execution": {
     "iopub.execute_input": "2023-10-11T14:45:07.236666Z",
     "iopub.status.busy": "2023-10-11T14:45:07.236271Z",
     "iopub.status.idle": "2023-10-11T14:45:07.254095Z",
     "shell.execute_reply": "2023-10-11T14:45:07.253003Z"
    },
    "papermill": {
     "duration": 0.170785,
     "end_time": "2023-10-11T14:45:07.255902",
     "exception": false,
     "start_time": "2023-10-11T14:45:07.085117",
     "status": "completed"
    },
    "tags": []
   },
   "outputs": [
    {
     "data": {
      "text/html": [
       "<div>\n",
       "<style scoped>\n",
       "    .dataframe tbody tr th:only-of-type {\n",
       "        vertical-align: middle;\n",
       "    }\n",
       "\n",
       "    .dataframe tbody tr th {\n",
       "        vertical-align: top;\n",
       "    }\n",
       "\n",
       "    .dataframe thead th {\n",
       "        text-align: right;\n",
       "    }\n",
       "</style>\n",
       "<table border=\"1\" class=\"dataframe\">\n",
       "  <thead>\n",
       "    <tr style=\"text-align: right;\">\n",
       "      <th></th>\n",
       "      <th>total_bill</th>\n",
       "      <th>tip</th>\n",
       "      <th>sex</th>\n",
       "      <th>smoker</th>\n",
       "      <th>day</th>\n",
       "      <th>time</th>\n",
       "      <th>size</th>\n",
       "      <th>total_bill_tip_sum</th>\n",
       "    </tr>\n",
       "  </thead>\n",
       "  <tbody>\n",
       "    <tr>\n",
       "      <th>0</th>\n",
       "      <td>50.81</td>\n",
       "      <td>10.00</td>\n",
       "      <td>Male</td>\n",
       "      <td>Yes</td>\n",
       "      <td>Sat</td>\n",
       "      <td>Dinner</td>\n",
       "      <td>3</td>\n",
       "      <td>60.81</td>\n",
       "    </tr>\n",
       "    <tr>\n",
       "      <th>1</th>\n",
       "      <td>48.33</td>\n",
       "      <td>9.00</td>\n",
       "      <td>Male</td>\n",
       "      <td>No</td>\n",
       "      <td>Sat</td>\n",
       "      <td>Dinner</td>\n",
       "      <td>4</td>\n",
       "      <td>57.33</td>\n",
       "    </tr>\n",
       "    <tr>\n",
       "      <th>2</th>\n",
       "      <td>48.27</td>\n",
       "      <td>6.73</td>\n",
       "      <td>Male</td>\n",
       "      <td>No</td>\n",
       "      <td>Sat</td>\n",
       "      <td>Dinner</td>\n",
       "      <td>4</td>\n",
       "      <td>55.00</td>\n",
       "    </tr>\n",
       "    <tr>\n",
       "      <th>3</th>\n",
       "      <td>48.17</td>\n",
       "      <td>5.00</td>\n",
       "      <td>Male</td>\n",
       "      <td>No</td>\n",
       "      <td>Sun</td>\n",
       "      <td>Dinner</td>\n",
       "      <td>6</td>\n",
       "      <td>53.17</td>\n",
       "    </tr>\n",
       "    <tr>\n",
       "      <th>4</th>\n",
       "      <td>45.35</td>\n",
       "      <td>3.50</td>\n",
       "      <td>Male</td>\n",
       "      <td>Yes</td>\n",
       "      <td>Sun</td>\n",
       "      <td>Dinner</td>\n",
       "      <td>3</td>\n",
       "      <td>48.85</td>\n",
       "    </tr>\n",
       "    <tr>\n",
       "      <th>5</th>\n",
       "      <td>43.11</td>\n",
       "      <td>5.00</td>\n",
       "      <td>Female</td>\n",
       "      <td>Yes</td>\n",
       "      <td>Thur</td>\n",
       "      <td>Lunch</td>\n",
       "      <td>4</td>\n",
       "      <td>48.11</td>\n",
       "    </tr>\n",
       "    <tr>\n",
       "      <th>6</th>\n",
       "      <td>39.42</td>\n",
       "      <td>7.58</td>\n",
       "      <td>Male</td>\n",
       "      <td>No</td>\n",
       "      <td>Sat</td>\n",
       "      <td>Dinner</td>\n",
       "      <td>4</td>\n",
       "      <td>47.00</td>\n",
       "    </tr>\n",
       "    <tr>\n",
       "      <th>7</th>\n",
       "      <td>44.30</td>\n",
       "      <td>2.50</td>\n",
       "      <td>Female</td>\n",
       "      <td>Yes</td>\n",
       "      <td>Sat</td>\n",
       "      <td>Dinner</td>\n",
       "      <td>3</td>\n",
       "      <td>46.80</td>\n",
       "    </tr>\n",
       "    <tr>\n",
       "      <th>8</th>\n",
       "      <td>41.19</td>\n",
       "      <td>5.00</td>\n",
       "      <td>Male</td>\n",
       "      <td>No</td>\n",
       "      <td>Thur</td>\n",
       "      <td>Lunch</td>\n",
       "      <td>5</td>\n",
       "      <td>46.19</td>\n",
       "    </tr>\n",
       "    <tr>\n",
       "      <th>9</th>\n",
       "      <td>40.17</td>\n",
       "      <td>4.73</td>\n",
       "      <td>Male</td>\n",
       "      <td>Yes</td>\n",
       "      <td>Fri</td>\n",
       "      <td>Dinner</td>\n",
       "      <td>4</td>\n",
       "      <td>44.90</td>\n",
       "    </tr>\n",
       "  </tbody>\n",
       "</table>\n",
       "</div>"
      ],
      "text/plain": [
       "   total_bill    tip     sex smoker   day    time  size  total_bill_tip_sum\n",
       "0       50.81  10.00    Male    Yes   Sat  Dinner     3               60.81\n",
       "1       48.33   9.00    Male     No   Sat  Dinner     4               57.33\n",
       "2       48.27   6.73    Male     No   Sat  Dinner     4               55.00\n",
       "3       48.17   5.00    Male     No   Sun  Dinner     6               53.17\n",
       "4       45.35   3.50    Male    Yes   Sun  Dinner     3               48.85\n",
       "5       43.11   5.00  Female    Yes  Thur   Lunch     4               48.11\n",
       "6       39.42   7.58    Male     No   Sat  Dinner     4               47.00\n",
       "7       44.30   2.50  Female    Yes   Sat  Dinner     3               46.80\n",
       "8       41.19   5.00    Male     No  Thur   Lunch     5               46.19\n",
       "9       40.17   4.73    Male    Yes   Fri  Dinner     4               44.90"
      ]
     },
     "execution_count": 231,
     "metadata": {},
     "output_type": "execute_result"
    }
   ],
   "source": [
    "data.sort_values(by = \"total_bill_tip_sum\",ascending=False, ignore_index=True).head(10)"
   ]
  },
  {
   "cell_type": "markdown",
   "id": "01e1492f",
   "metadata": {
    "papermill": {
     "duration": 0.088042,
     "end_time": "2023-10-11T14:45:07.426050",
     "exception": false,
     "start_time": "2023-10-11T14:45:07.338008",
     "status": "completed"
    },
    "tags": []
   },
   "source": [
    "<a id = \"23\"></a><br>\n",
    "<h1 style=\"background-color:#77BFC7;font-family:courier;font-size:250%;font-style: oblique;font-weight: bold;font-variant: small-caps;text-align:center;border-radius: 15px 50px;\"> Pivot Table </h1>\n",
    "\n",
    "In pandas, a pivot table is a powerful data manipulation tool that allows you to summarize and reshape data by performing aggregation operations on it. It takes a DataFrame as input and returns a new DataFrame where the rows and columns have been rearranged based on specified criteria. **pivot_table()** function in pandas is used to create pivot tables."
   ]
  },
  {
   "cell_type": "code",
   "execution_count": 232,
   "id": "13c77a3d",
   "metadata": {
    "execution": {
     "iopub.execute_input": "2023-10-11T14:45:07.600444Z",
     "iopub.status.busy": "2023-10-11T14:45:07.599752Z",
     "iopub.status.idle": "2023-10-11T14:45:07.604803Z",
     "shell.execute_reply": "2023-10-11T14:45:07.603599Z"
    },
    "papermill": {
     "duration": 0.093023,
     "end_time": "2023-10-11T14:45:07.607038",
     "exception": false,
     "start_time": "2023-10-11T14:45:07.514015",
     "status": "completed"
    },
    "tags": []
   },
   "outputs": [],
   "source": [
    "# pd.pivot_table(\n",
    "#     data,               # The DataFrame to use for creating the pivot table\n",
    "#     values=None,        # The column to aggregate. Can be a list for multiple columns.\n",
    "#     index=None,         # The column(s) to use as index (rows) of the pivot table.\n",
    "#     columns=None,       # The column(s) to use as columns of the pivot table.\n",
    "#     aggfunc='mean',     # The aggregation function(s) to apply to the values. Default is 'mean'.\n",
    "#     fill_value=None,    # The value to replace missing values. Default is None.\n",
    "#     margins=False,      # If True, add a row and a column containing the grand total. Default is False.\n",
    "#     margins_name='All'  # The name of the row/column that contains the grand total. Default is 'All'.\n",
    "# )"
   ]
  },
  {
   "cell_type": "markdown",
   "id": "8b70fb9b",
   "metadata": {
    "papermill": {
     "duration": 0.085657,
     "end_time": "2023-10-11T14:45:07.777594",
     "exception": false,
     "start_time": "2023-10-11T14:45:07.691937",
     "status": "completed"
    },
    "tags": []
   },
   "source": [
    "<div style=\"border-radius:10px; border:#DEB887 solid; padding: 15px; background-color: #FFFAF0; font-size:100%; text-align:left\">\n",
    "\n",
    "<h3 align=\"left\"><font color='#DEB887'>💡 Notes: </font></h3>\n",
    "\n",
    "* **data:** The DataFrame that contains the data to be used for creating the pivot table.\n",
    "* **values:** The column(s) for which you want to calculate the summary statistics. It can be a single column or a list of columns for multiple values.\n",
    "* **index:** The column(s) to use as the index (rows) of the pivot table.\n",
    "* **columns:** The column(s) to use as the columns of the pivot table.\n",
    "* **aggfunc:** The aggregation function(s) to apply to the values. By default, it is set to 'mean', but you can use other functions such as 'sum', 'count', 'min', 'max', or even custom functions.\n",
    "* **fill_value:** The value to replace missing or NaN values in the resulting pivot table.\n",
    "* **margins:** If True, it adds a row and a column containing the grand total. The default is False.\n",
    "* **margins_name:** The name of the row/column that contains the grand total. The default is 'All'."
   ]
  },
  {
   "cell_type": "code",
   "execution_count": 233,
   "id": "b3bde48c",
   "metadata": {
    "execution": {
     "iopub.execute_input": "2023-10-11T14:45:07.949111Z",
     "iopub.status.busy": "2023-10-11T14:45:07.948719Z",
     "iopub.status.idle": "2023-10-11T14:45:07.955365Z",
     "shell.execute_reply": "2023-10-11T14:45:07.953974Z"
    },
    "papermill": {
     "duration": 0.096853,
     "end_time": "2023-10-11T14:45:07.957956",
     "exception": false,
     "start_time": "2023-10-11T14:45:07.861103",
     "status": "completed"
    },
    "tags": []
   },
   "outputs": [],
   "source": [
    "# Let's say we have a DataFrame containing sales data:\n",
    "\n",
    "data = {\n",
    "    'Category': ['Electronics', 'Clothing', 'Electronics', 'Clothing', 'Electronics', 'Clothing'],\n",
    "    'City': ['New York', 'New York', 'Los Angeles', 'Los Angeles', 'Chicago', 'Chicago'],\n",
    "    'Sales': [1000, 500, 800, 300, 600, 200]\n",
    "}\n",
    "\n",
    "df = pd.DataFrame(data)"
   ]
  },
  {
   "cell_type": "code",
   "execution_count": 234,
   "id": "d261103e",
   "metadata": {
    "execution": {
     "iopub.execute_input": "2023-10-11T14:45:08.126543Z",
     "iopub.status.busy": "2023-10-11T14:45:08.125314Z",
     "iopub.status.idle": "2023-10-11T14:45:08.148569Z",
     "shell.execute_reply": "2023-10-11T14:45:08.147171Z"
    },
    "papermill": {
     "duration": 0.109266,
     "end_time": "2023-10-11T14:45:08.150964",
     "exception": false,
     "start_time": "2023-10-11T14:45:08.041698",
     "status": "completed"
    },
    "tags": []
   },
   "outputs": [
    {
     "data": {
      "text/html": [
       "<div>\n",
       "<style scoped>\n",
       "    .dataframe tbody tr th:only-of-type {\n",
       "        vertical-align: middle;\n",
       "    }\n",
       "\n",
       "    .dataframe tbody tr th {\n",
       "        vertical-align: top;\n",
       "    }\n",
       "\n",
       "    .dataframe thead th {\n",
       "        text-align: right;\n",
       "    }\n",
       "</style>\n",
       "<table border=\"1\" class=\"dataframe\">\n",
       "  <thead>\n",
       "    <tr style=\"text-align: right;\">\n",
       "      <th>City</th>\n",
       "      <th>Chicago</th>\n",
       "      <th>Los Angeles</th>\n",
       "      <th>New York</th>\n",
       "    </tr>\n",
       "    <tr>\n",
       "      <th>Category</th>\n",
       "      <th></th>\n",
       "      <th></th>\n",
       "      <th></th>\n",
       "    </tr>\n",
       "  </thead>\n",
       "  <tbody>\n",
       "    <tr>\n",
       "      <th>Clothing</th>\n",
       "      <td>200</td>\n",
       "      <td>300</td>\n",
       "      <td>500</td>\n",
       "    </tr>\n",
       "    <tr>\n",
       "      <th>Electronics</th>\n",
       "      <td>600</td>\n",
       "      <td>800</td>\n",
       "      <td>1000</td>\n",
       "    </tr>\n",
       "  </tbody>\n",
       "</table>\n",
       "</div>"
      ],
      "text/plain": [
       "City         Chicago  Los Angeles  New York\n",
       "Category                                   \n",
       "Clothing         200          300       500\n",
       "Electronics      600          800      1000"
      ]
     },
     "execution_count": 234,
     "metadata": {},
     "output_type": "execute_result"
    }
   ],
   "source": [
    "# We can create a pivot table to summarize the total sales for each category and city:\n",
    "\n",
    "pivot_table = pd.pivot_table(df, values='Sales', index='Category', columns='City', aggfunc='sum')\n",
    "\n",
    "pivot_table"
   ]
  },
  {
   "cell_type": "markdown",
   "id": "6612288b",
   "metadata": {
    "papermill": {
     "duration": 0.086392,
     "end_time": "2023-10-11T14:45:08.322630",
     "exception": false,
     "start_time": "2023-10-11T14:45:08.236238",
     "status": "completed"
    },
    "tags": []
   },
   "source": [
    "---"
   ]
  },
  {
   "cell_type": "code",
   "execution_count": 235,
   "id": "87cfb5dc",
   "metadata": {
    "execution": {
     "iopub.execute_input": "2023-10-11T14:45:08.496906Z",
     "iopub.status.busy": "2023-10-11T14:45:08.496063Z",
     "iopub.status.idle": "2023-10-11T14:45:08.518879Z",
     "shell.execute_reply": "2023-10-11T14:45:08.517635Z"
    },
    "papermill": {
     "duration": 0.11342,
     "end_time": "2023-10-11T14:45:08.521690",
     "exception": false,
     "start_time": "2023-10-11T14:45:08.408270",
     "status": "completed"
    },
    "tags": []
   },
   "outputs": [
    {
     "data": {
      "text/html": [
       "<div>\n",
       "<style scoped>\n",
       "    .dataframe tbody tr th:only-of-type {\n",
       "        vertical-align: middle;\n",
       "    }\n",
       "\n",
       "    .dataframe tbody tr th {\n",
       "        vertical-align: top;\n",
       "    }\n",
       "\n",
       "    .dataframe thead th {\n",
       "        text-align: right;\n",
       "    }\n",
       "</style>\n",
       "<table border=\"1\" class=\"dataframe\">\n",
       "  <thead>\n",
       "    <tr style=\"text-align: right;\">\n",
       "      <th></th>\n",
       "      <th>PassengerId</th>\n",
       "      <th>Survived</th>\n",
       "      <th>Pclass</th>\n",
       "      <th>Name</th>\n",
       "      <th>Sex</th>\n",
       "      <th>Age</th>\n",
       "      <th>SibSp</th>\n",
       "      <th>Parch</th>\n",
       "      <th>Ticket</th>\n",
       "      <th>Fare</th>\n",
       "      <th>Cabin</th>\n",
       "      <th>Embarked</th>\n",
       "    </tr>\n",
       "  </thead>\n",
       "  <tbody>\n",
       "    <tr>\n",
       "      <th>0</th>\n",
       "      <td>1</td>\n",
       "      <td>0</td>\n",
       "      <td>3</td>\n",
       "      <td>Braund, Mr. Owen Harris</td>\n",
       "      <td>male</td>\n",
       "      <td>22.0</td>\n",
       "      <td>1</td>\n",
       "      <td>0</td>\n",
       "      <td>A/5 21171</td>\n",
       "      <td>7.2500</td>\n",
       "      <td>NaN</td>\n",
       "      <td>S</td>\n",
       "    </tr>\n",
       "    <tr>\n",
       "      <th>1</th>\n",
       "      <td>2</td>\n",
       "      <td>1</td>\n",
       "      <td>1</td>\n",
       "      <td>Cumings, Mrs. John Bradley (Florence Briggs Th...</td>\n",
       "      <td>female</td>\n",
       "      <td>38.0</td>\n",
       "      <td>1</td>\n",
       "      <td>0</td>\n",
       "      <td>PC 17599</td>\n",
       "      <td>71.2833</td>\n",
       "      <td>C85</td>\n",
       "      <td>C</td>\n",
       "    </tr>\n",
       "    <tr>\n",
       "      <th>2</th>\n",
       "      <td>3</td>\n",
       "      <td>1</td>\n",
       "      <td>3</td>\n",
       "      <td>Heikkinen, Miss. Laina</td>\n",
       "      <td>female</td>\n",
       "      <td>26.0</td>\n",
       "      <td>0</td>\n",
       "      <td>0</td>\n",
       "      <td>STON/O2. 3101282</td>\n",
       "      <td>7.9250</td>\n",
       "      <td>NaN</td>\n",
       "      <td>S</td>\n",
       "    </tr>\n",
       "    <tr>\n",
       "      <th>3</th>\n",
       "      <td>4</td>\n",
       "      <td>1</td>\n",
       "      <td>1</td>\n",
       "      <td>Futrelle, Mrs. Jacques Heath (Lily May Peel)</td>\n",
       "      <td>female</td>\n",
       "      <td>35.0</td>\n",
       "      <td>1</td>\n",
       "      <td>0</td>\n",
       "      <td>113803</td>\n",
       "      <td>53.1000</td>\n",
       "      <td>C123</td>\n",
       "      <td>S</td>\n",
       "    </tr>\n",
       "    <tr>\n",
       "      <th>4</th>\n",
       "      <td>5</td>\n",
       "      <td>0</td>\n",
       "      <td>3</td>\n",
       "      <td>Allen, Mr. William Henry</td>\n",
       "      <td>male</td>\n",
       "      <td>35.0</td>\n",
       "      <td>0</td>\n",
       "      <td>0</td>\n",
       "      <td>373450</td>\n",
       "      <td>8.0500</td>\n",
       "      <td>NaN</td>\n",
       "      <td>S</td>\n",
       "    </tr>\n",
       "  </tbody>\n",
       "</table>\n",
       "</div>"
      ],
      "text/plain": [
       "   PassengerId  Survived  Pclass  \\\n",
       "0            1         0       3   \n",
       "1            2         1       1   \n",
       "2            3         1       3   \n",
       "3            4         1       1   \n",
       "4            5         0       3   \n",
       "\n",
       "                                                Name     Sex   Age  SibSp  \\\n",
       "0                            Braund, Mr. Owen Harris    male  22.0      1   \n",
       "1  Cumings, Mrs. John Bradley (Florence Briggs Th...  female  38.0      1   \n",
       "2                             Heikkinen, Miss. Laina  female  26.0      0   \n",
       "3       Futrelle, Mrs. Jacques Heath (Lily May Peel)  female  35.0      1   \n",
       "4                           Allen, Mr. William Henry    male  35.0      0   \n",
       "\n",
       "   Parch            Ticket     Fare Cabin Embarked  \n",
       "0      0         A/5 21171   7.2500   NaN        S  \n",
       "1      0          PC 17599  71.2833   C85        C  \n",
       "2      0  STON/O2. 3101282   7.9250   NaN        S  \n",
       "3      0            113803  53.1000  C123        S  \n",
       "4      0            373450   8.0500   NaN        S  "
      ]
     },
     "execution_count": 235,
     "metadata": {},
     "output_type": "execute_result"
    }
   ],
   "source": [
    "import pandas as pd\n",
    "import seaborn as sns\n",
    "\n",
    "df = pd.read_csv('/kaggle/input/titanic/train.csv')\n",
    "\n",
    "df.head()"
   ]
  },
  {
   "cell_type": "code",
   "execution_count": 236,
   "id": "bfd6e759",
   "metadata": {
    "execution": {
     "iopub.execute_input": "2023-10-11T14:45:08.693752Z",
     "iopub.status.busy": "2023-10-11T14:45:08.692978Z",
     "iopub.status.idle": "2023-10-11T14:45:08.711489Z",
     "shell.execute_reply": "2023-10-11T14:45:08.710307Z"
    },
    "papermill": {
     "duration": 0.10803,
     "end_time": "2023-10-11T14:45:08.713819",
     "exception": false,
     "start_time": "2023-10-11T14:45:08.605789",
     "status": "completed"
    },
    "tags": []
   },
   "outputs": [
    {
     "data": {
      "text/html": [
       "<div>\n",
       "<style scoped>\n",
       "    .dataframe tbody tr th:only-of-type {\n",
       "        vertical-align: middle;\n",
       "    }\n",
       "\n",
       "    .dataframe tbody tr th {\n",
       "        vertical-align: top;\n",
       "    }\n",
       "\n",
       "    .dataframe thead th {\n",
       "        text-align: right;\n",
       "    }\n",
       "</style>\n",
       "<table border=\"1\" class=\"dataframe\">\n",
       "  <thead>\n",
       "    <tr style=\"text-align: right;\">\n",
       "      <th>Embarked</th>\n",
       "      <th>C</th>\n",
       "      <th>Q</th>\n",
       "      <th>S</th>\n",
       "    </tr>\n",
       "    <tr>\n",
       "      <th>Sex</th>\n",
       "      <th></th>\n",
       "      <th></th>\n",
       "      <th></th>\n",
       "    </tr>\n",
       "  </thead>\n",
       "  <tbody>\n",
       "    <tr>\n",
       "      <th>female</th>\n",
       "      <td>0.876712</td>\n",
       "      <td>0.750000</td>\n",
       "      <td>0.689655</td>\n",
       "    </tr>\n",
       "    <tr>\n",
       "      <th>male</th>\n",
       "      <td>0.305263</td>\n",
       "      <td>0.073171</td>\n",
       "      <td>0.174603</td>\n",
       "    </tr>\n",
       "  </tbody>\n",
       "</table>\n",
       "</div>"
      ],
      "text/plain": [
       "Embarked         C         Q         S\n",
       "Sex                                   \n",
       "female    0.876712  0.750000  0.689655\n",
       "male      0.305263  0.073171  0.174603"
      ]
     },
     "execution_count": 236,
     "metadata": {},
     "output_type": "execute_result"
    }
   ],
   "source": [
    "df.pivot_table(\"Survived\", \"Sex\", \"Embarked\")"
   ]
  },
  {
   "cell_type": "code",
   "execution_count": 237,
   "id": "27f1640e",
   "metadata": {
    "execution": {
     "iopub.execute_input": "2023-10-11T14:45:08.886100Z",
     "iopub.status.busy": "2023-10-11T14:45:08.885717Z",
     "iopub.status.idle": "2023-10-11T14:45:08.913018Z",
     "shell.execute_reply": "2023-10-11T14:45:08.911342Z"
    },
    "papermill": {
     "duration": 0.116746,
     "end_time": "2023-10-11T14:45:08.915515",
     "exception": false,
     "start_time": "2023-10-11T14:45:08.798769",
     "status": "completed"
    },
    "tags": []
   },
   "outputs": [
    {
     "data": {
      "text/html": [
       "<div>\n",
       "<style scoped>\n",
       "    .dataframe tbody tr th:only-of-type {\n",
       "        vertical-align: middle;\n",
       "    }\n",
       "\n",
       "    .dataframe tbody tr th {\n",
       "        vertical-align: top;\n",
       "    }\n",
       "\n",
       "    .dataframe thead tr th {\n",
       "        text-align: left;\n",
       "    }\n",
       "\n",
       "    .dataframe thead tr:last-of-type th {\n",
       "        text-align: right;\n",
       "    }\n",
       "</style>\n",
       "<table border=\"1\" class=\"dataframe\">\n",
       "  <thead>\n",
       "    <tr>\n",
       "      <th>Embarked</th>\n",
       "      <th colspan=\"3\" halign=\"left\">C</th>\n",
       "      <th colspan=\"3\" halign=\"left\">Q</th>\n",
       "      <th colspan=\"3\" halign=\"left\">S</th>\n",
       "    </tr>\n",
       "    <tr>\n",
       "      <th>Pclass</th>\n",
       "      <th>1</th>\n",
       "      <th>2</th>\n",
       "      <th>3</th>\n",
       "      <th>1</th>\n",
       "      <th>2</th>\n",
       "      <th>3</th>\n",
       "      <th>1</th>\n",
       "      <th>2</th>\n",
       "      <th>3</th>\n",
       "    </tr>\n",
       "    <tr>\n",
       "      <th>Sex</th>\n",
       "      <th></th>\n",
       "      <th></th>\n",
       "      <th></th>\n",
       "      <th></th>\n",
       "      <th></th>\n",
       "      <th></th>\n",
       "      <th></th>\n",
       "      <th></th>\n",
       "      <th></th>\n",
       "    </tr>\n",
       "  </thead>\n",
       "  <tbody>\n",
       "    <tr>\n",
       "      <th>female</th>\n",
       "      <td>0.976744</td>\n",
       "      <td>1.0</td>\n",
       "      <td>0.652174</td>\n",
       "      <td>1.0</td>\n",
       "      <td>1.0</td>\n",
       "      <td>0.727273</td>\n",
       "      <td>0.958333</td>\n",
       "      <td>0.910448</td>\n",
       "      <td>0.375000</td>\n",
       "    </tr>\n",
       "    <tr>\n",
       "      <th>male</th>\n",
       "      <td>0.404762</td>\n",
       "      <td>0.2</td>\n",
       "      <td>0.232558</td>\n",
       "      <td>0.0</td>\n",
       "      <td>0.0</td>\n",
       "      <td>0.076923</td>\n",
       "      <td>0.354430</td>\n",
       "      <td>0.154639</td>\n",
       "      <td>0.128302</td>\n",
       "    </tr>\n",
       "  </tbody>\n",
       "</table>\n",
       "</div>"
      ],
      "text/plain": [
       "Embarked         C                   Q                        S            \\\n",
       "Pclass           1    2         3    1    2         3         1         2   \n",
       "Sex                                                                         \n",
       "female    0.976744  1.0  0.652174  1.0  1.0  0.727273  0.958333  0.910448   \n",
       "male      0.404762  0.2  0.232558  0.0  0.0  0.076923  0.354430  0.154639   \n",
       "\n",
       "Embarked            \n",
       "Pclass           3  \n",
       "Sex                 \n",
       "female    0.375000  \n",
       "male      0.128302  "
      ]
     },
     "execution_count": 237,
     "metadata": {},
     "output_type": "execute_result"
    }
   ],
   "source": [
    "df.pivot_table(\"Survived\", \"Sex\", [\"Embarked\", \"Pclass\"])"
   ]
  },
  {
   "cell_type": "code",
   "execution_count": 238,
   "id": "495d0b99",
   "metadata": {
    "execution": {
     "iopub.execute_input": "2023-10-11T14:45:09.091434Z",
     "iopub.status.busy": "2023-10-11T14:45:09.091002Z",
     "iopub.status.idle": "2023-10-11T14:45:09.104788Z",
     "shell.execute_reply": "2023-10-11T14:45:09.103338Z"
    },
    "papermill": {
     "duration": 0.105819,
     "end_time": "2023-10-11T14:45:09.107762",
     "exception": false,
     "start_time": "2023-10-11T14:45:09.001943",
     "status": "completed"
    },
    "tags": []
   },
   "outputs": [],
   "source": [
    "df[\"new_age\"] = pd.cut(df[\"Age\"], [0, 10, 18, 25, 40, 90])"
   ]
  },
  {
   "cell_type": "code",
   "execution_count": 239,
   "id": "631713b3",
   "metadata": {
    "execution": {
     "iopub.execute_input": "2023-10-11T14:45:09.280054Z",
     "iopub.status.busy": "2023-10-11T14:45:09.279478Z",
     "iopub.status.idle": "2023-10-11T14:45:09.319143Z",
     "shell.execute_reply": "2023-10-11T14:45:09.317936Z"
    },
    "papermill": {
     "duration": 0.128824,
     "end_time": "2023-10-11T14:45:09.321575",
     "exception": false,
     "start_time": "2023-10-11T14:45:09.192751",
     "status": "completed"
    },
    "tags": []
   },
   "outputs": [
    {
     "data": {
      "text/html": [
       "<div>\n",
       "<style scoped>\n",
       "    .dataframe tbody tr th:only-of-type {\n",
       "        vertical-align: middle;\n",
       "    }\n",
       "\n",
       "    .dataframe tbody tr th {\n",
       "        vertical-align: top;\n",
       "    }\n",
       "\n",
       "    .dataframe thead tr th {\n",
       "        text-align: left;\n",
       "    }\n",
       "\n",
       "    .dataframe thead tr:last-of-type th {\n",
       "        text-align: right;\n",
       "    }\n",
       "</style>\n",
       "<table border=\"1\" class=\"dataframe\">\n",
       "  <thead>\n",
       "    <tr>\n",
       "      <th>new_age</th>\n",
       "      <th colspan=\"3\" halign=\"left\">(0, 10]</th>\n",
       "      <th colspan=\"3\" halign=\"left\">(10, 18]</th>\n",
       "      <th colspan=\"3\" halign=\"left\">(18, 25]</th>\n",
       "      <th colspan=\"3\" halign=\"left\">(25, 40]</th>\n",
       "      <th colspan=\"3\" halign=\"left\">(40, 90]</th>\n",
       "    </tr>\n",
       "    <tr>\n",
       "      <th>Pclass</th>\n",
       "      <th>1</th>\n",
       "      <th>2</th>\n",
       "      <th>3</th>\n",
       "      <th>1</th>\n",
       "      <th>2</th>\n",
       "      <th>3</th>\n",
       "      <th>1</th>\n",
       "      <th>2</th>\n",
       "      <th>3</th>\n",
       "      <th>1</th>\n",
       "      <th>2</th>\n",
       "      <th>3</th>\n",
       "      <th>1</th>\n",
       "      <th>2</th>\n",
       "      <th>3</th>\n",
       "    </tr>\n",
       "    <tr>\n",
       "      <th>Sex</th>\n",
       "      <th></th>\n",
       "      <th></th>\n",
       "      <th></th>\n",
       "      <th></th>\n",
       "      <th></th>\n",
       "      <th></th>\n",
       "      <th></th>\n",
       "      <th></th>\n",
       "      <th></th>\n",
       "      <th></th>\n",
       "      <th></th>\n",
       "      <th></th>\n",
       "      <th></th>\n",
       "      <th></th>\n",
       "      <th></th>\n",
       "    </tr>\n",
       "  </thead>\n",
       "  <tbody>\n",
       "    <tr>\n",
       "      <th>female</th>\n",
       "      <td>0.0</td>\n",
       "      <td>1.0</td>\n",
       "      <td>0.500000</td>\n",
       "      <td>1.000000</td>\n",
       "      <td>1.0</td>\n",
       "      <td>0.523810</td>\n",
       "      <td>0.941176</td>\n",
       "      <td>0.933333</td>\n",
       "      <td>0.500000</td>\n",
       "      <td>1.000000</td>\n",
       "      <td>0.906250</td>\n",
       "      <td>0.464286</td>\n",
       "      <td>0.961538</td>\n",
       "      <td>0.846154</td>\n",
       "      <td>0.111111</td>\n",
       "    </tr>\n",
       "    <tr>\n",
       "      <th>male</th>\n",
       "      <td>1.0</td>\n",
       "      <td>1.0</td>\n",
       "      <td>0.363636</td>\n",
       "      <td>0.666667</td>\n",
       "      <td>0.0</td>\n",
       "      <td>0.103448</td>\n",
       "      <td>0.333333</td>\n",
       "      <td>0.047619</td>\n",
       "      <td>0.115385</td>\n",
       "      <td>0.513514</td>\n",
       "      <td>0.071429</td>\n",
       "      <td>0.172043</td>\n",
       "      <td>0.280000</td>\n",
       "      <td>0.095238</td>\n",
       "      <td>0.064516</td>\n",
       "    </tr>\n",
       "  </tbody>\n",
       "</table>\n",
       "</div>"
      ],
      "text/plain": [
       "new_age (0, 10]                 (10, 18]                 (18, 25]            \\\n",
       "Pclass        1    2         3         1    2         3         1         2   \n",
       "Sex                                                                           \n",
       "female      0.0  1.0  0.500000  1.000000  1.0  0.523810  0.941176  0.933333   \n",
       "male        1.0  1.0  0.363636  0.666667  0.0  0.103448  0.333333  0.047619   \n",
       "\n",
       "new_age            (25, 40]                      (40, 90]                      \n",
       "Pclass          3         1         2         3         1         2         3  \n",
       "Sex                                                                            \n",
       "female   0.500000  1.000000  0.906250  0.464286  0.961538  0.846154  0.111111  \n",
       "male     0.115385  0.513514  0.071429  0.172043  0.280000  0.095238  0.064516  "
      ]
     },
     "execution_count": 239,
     "metadata": {},
     "output_type": "execute_result"
    }
   ],
   "source": [
    "df.pivot_table(\"Survived\", \"Sex\", [\"new_age\", \"Pclass\"])"
   ]
  },
  {
   "cell_type": "markdown",
   "id": "12e8f0b3",
   "metadata": {
    "papermill": {
     "duration": 0.08745,
     "end_time": "2023-10-11T14:45:09.499474",
     "exception": false,
     "start_time": "2023-10-11T14:45:09.412024",
     "status": "completed"
    },
    "tags": []
   },
   "source": [
    "<a id = \"24\"></a><br>\n",
    "<h1 style=\"background-color:#77BFC7;font-family:courier;font-size:250%;font-style: oblique;font-weight: bold;font-variant: small-caps;text-align:center;border-radius: 15px 50px;\"> Reading Data </h1>\n",
    "\n",
    "The **read_csv(**) function in pandas is used to read data from a CSV (Comma-Separated Values) file and create a DataFrame. It is one of the most commonly used functions in pandas for importing data from external sources. Here is the syntax of the read_csv() function with its common arguments:"
   ]
  },
  {
   "cell_type": "code",
   "execution_count": 240,
   "id": "ecbb743a",
   "metadata": {
    "execution": {
     "iopub.execute_input": "2023-10-11T14:45:09.681333Z",
     "iopub.status.busy": "2023-10-11T14:45:09.680663Z",
     "iopub.status.idle": "2023-10-11T14:45:09.686338Z",
     "shell.execute_reply": "2023-10-11T14:45:09.685479Z"
    },
    "papermill": {
     "duration": 0.097132,
     "end_time": "2023-10-11T14:45:09.688538",
     "exception": false,
     "start_time": "2023-10-11T14:45:09.591406",
     "status": "completed"
    },
    "tags": []
   },
   "outputs": [],
   "source": [
    "# pd.read_csv(\n",
    "#     filepath_or_buffer, # The path or URL to the CSV file or a file-like object containing the CSV data.\n",
    "#     sep=',',            # The delimiter used to separate values in the CSV file. Default is ','.\n",
    "#     header='infer',     # The row number(s) to use as column names. Default is 'infer'.\n",
    "#     names=None,         # A list of column names to use. If not specified, header row(s) will be used as column names.\n",
    "#     index_col=None,     # The column(s) to use as the index (row labels) of the DataFrame. Default is None.\n",
    "#     usecols=None,       # A list of column names to read from the file. Default is None (read all columns).\n",
    "#     dtype=None,         # Data type to force for specified columns.\n",
    "#     parse_dates=False,  # List of column names to parse as dates. Default is False (no date parsing).\n",
    "#     na_values=None,     # Additional strings to recognize as NaN (Not a Number) values.\n",
    "#     skiprows=None,      # Number of rows to skip at the beginning of the file.\n",
    "#     nrows=None,         # Number of rows to read from the file.\n",
    "#     skip_blank_lines=True,  # If True, skip over blank lines rather than interpreting them as NaN values.\n",
    "#     encoding='utf-8',   # File encoding to use (e.g., 'utf-8', 'latin-1', etc.). Default is 'utf-8'.\n",
    "#     thousands=None,     # Character to use as thousands separator when parsing numeric data.\n",
    "#     decimal='.',        # Character to use as the decimal point when parsing numeric data.\n",
    "#     header=None,        # The row number(s) to use as the column names (deprecated; use `header='infer'` instead).\n",
    "#     comment=None,       # Character(s) to use as a comment indicator. Lines starting with this character will be ignored.\n",
    "#     skipfooter=0,       # Number of lines to skip at the end of the file.\n",
    "#     engine='c',         # Parser engine to use. The 'c' engine is faster, while the 'python' engine is more feature-rich.\n",
    "# )"
   ]
  },
  {
   "cell_type": "markdown",
   "id": "b5446d57",
   "metadata": {
    "papermill": {
     "duration": 0.085547,
     "end_time": "2023-10-11T14:45:09.861482",
     "exception": false,
     "start_time": "2023-10-11T14:45:09.775935",
     "status": "completed"
    },
    "tags": []
   },
   "source": [
    "<a id = \"25\"></a><br>\n",
    "<h1 style=\"background-color:#77BFC7;font-family:courier;font-size:250%;font-style: oblique;font-weight: bold;font-variant: small-caps;text-align:center;border-radius: 15px 50px;\"> Rule Based Classification </h1>"
   ]
  },
  {
   "cell_type": "code",
   "execution_count": 241,
   "id": "5c2ac8e0",
   "metadata": {
    "execution": {
     "iopub.execute_input": "2023-10-11T14:45:10.036629Z",
     "iopub.status.busy": "2023-10-11T14:45:10.035935Z",
     "iopub.status.idle": "2023-10-11T14:45:10.052644Z",
     "shell.execute_reply": "2023-10-11T14:45:10.051481Z"
    },
    "papermill": {
     "duration": 0.106999,
     "end_time": "2023-10-11T14:45:10.055150",
     "exception": false,
     "start_time": "2023-10-11T14:45:09.948151",
     "status": "completed"
    },
    "tags": []
   },
   "outputs": [],
   "source": [
    "df = pd.read_csv(\"/kaggle/input/persona/week_02_data.csv\")"
   ]
  },
  {
   "cell_type": "markdown",
   "id": "af679f99",
   "metadata": {
    "papermill": {
     "duration": 0.087566,
     "end_time": "2023-10-11T14:45:10.233114",
     "exception": false,
     "start_time": "2023-10-11T14:45:10.145548",
     "status": "completed"
    },
    "tags": []
   },
   "source": [
    "* **First look**"
   ]
  },
  {
   "cell_type": "code",
   "execution_count": 242,
   "id": "1babbc4c",
   "metadata": {
    "execution": {
     "iopub.execute_input": "2023-10-11T14:45:10.412331Z",
     "iopub.status.busy": "2023-10-11T14:45:10.411697Z",
     "iopub.status.idle": "2023-10-11T14:45:10.422459Z",
     "shell.execute_reply": "2023-10-11T14:45:10.421277Z"
    },
    "papermill": {
     "duration": 0.103905,
     "end_time": "2023-10-11T14:45:10.424462",
     "exception": false,
     "start_time": "2023-10-11T14:45:10.320557",
     "status": "completed"
    },
    "tags": []
   },
   "outputs": [
    {
     "data": {
      "text/html": [
       "<div>\n",
       "<style scoped>\n",
       "    .dataframe tbody tr th:only-of-type {\n",
       "        vertical-align: middle;\n",
       "    }\n",
       "\n",
       "    .dataframe tbody tr th {\n",
       "        vertical-align: top;\n",
       "    }\n",
       "\n",
       "    .dataframe thead th {\n",
       "        text-align: right;\n",
       "    }\n",
       "</style>\n",
       "<table border=\"1\" class=\"dataframe\">\n",
       "  <thead>\n",
       "    <tr style=\"text-align: right;\">\n",
       "      <th></th>\n",
       "      <th>PRICE</th>\n",
       "      <th>SOURCE</th>\n",
       "      <th>SEX</th>\n",
       "      <th>COUNTRY</th>\n",
       "      <th>AGE</th>\n",
       "    </tr>\n",
       "  </thead>\n",
       "  <tbody>\n",
       "    <tr>\n",
       "      <th>0</th>\n",
       "      <td>39</td>\n",
       "      <td>android</td>\n",
       "      <td>male</td>\n",
       "      <td>bra</td>\n",
       "      <td>17</td>\n",
       "    </tr>\n",
       "    <tr>\n",
       "      <th>1</th>\n",
       "      <td>39</td>\n",
       "      <td>android</td>\n",
       "      <td>male</td>\n",
       "      <td>bra</td>\n",
       "      <td>17</td>\n",
       "    </tr>\n",
       "    <tr>\n",
       "      <th>2</th>\n",
       "      <td>49</td>\n",
       "      <td>android</td>\n",
       "      <td>male</td>\n",
       "      <td>bra</td>\n",
       "      <td>17</td>\n",
       "    </tr>\n",
       "    <tr>\n",
       "      <th>3</th>\n",
       "      <td>29</td>\n",
       "      <td>android</td>\n",
       "      <td>male</td>\n",
       "      <td>tur</td>\n",
       "      <td>17</td>\n",
       "    </tr>\n",
       "    <tr>\n",
       "      <th>4</th>\n",
       "      <td>49</td>\n",
       "      <td>android</td>\n",
       "      <td>male</td>\n",
       "      <td>tur</td>\n",
       "      <td>17</td>\n",
       "    </tr>\n",
       "  </tbody>\n",
       "</table>\n",
       "</div>"
      ],
      "text/plain": [
       "   PRICE   SOURCE   SEX COUNTRY  AGE\n",
       "0     39  android  male     bra   17\n",
       "1     39  android  male     bra   17\n",
       "2     49  android  male     bra   17\n",
       "3     29  android  male     tur   17\n",
       "4     49  android  male     tur   17"
      ]
     },
     "execution_count": 242,
     "metadata": {},
     "output_type": "execute_result"
    }
   ],
   "source": [
    "df.head()"
   ]
  },
  {
   "cell_type": "code",
   "execution_count": 243,
   "id": "2032de6f",
   "metadata": {
    "execution": {
     "iopub.execute_input": "2023-10-11T14:45:10.670429Z",
     "iopub.status.busy": "2023-10-11T14:45:10.670049Z",
     "iopub.status.idle": "2023-10-11T14:45:10.686813Z",
     "shell.execute_reply": "2023-10-11T14:45:10.684468Z"
    },
    "papermill": {
     "duration": 0.176006,
     "end_time": "2023-10-11T14:45:10.689449",
     "exception": false,
     "start_time": "2023-10-11T14:45:10.513443",
     "status": "completed"
    },
    "tags": []
   },
   "outputs": [
    {
     "name": "stdout",
     "output_type": "stream",
     "text": [
      "<class 'pandas.core.frame.DataFrame'>\n",
      "Int64Index: 5000 entries, 0 to 4999\n",
      "Data columns (total 5 columns):\n",
      " #   Column   Non-Null Count  Dtype \n",
      "---  ------   --------------  ----- \n",
      " 0   PRICE    5000 non-null   int64 \n",
      " 1   SOURCE   5000 non-null   object\n",
      " 2   SEX      5000 non-null   object\n",
      " 3   COUNTRY  5000 non-null   object\n",
      " 4   AGE      5000 non-null   int64 \n",
      "dtypes: int64(2), object(3)\n",
      "memory usage: 234.4+ KB\n"
     ]
    }
   ],
   "source": [
    "df.info()"
   ]
  },
  {
   "cell_type": "code",
   "execution_count": 244,
   "id": "a25f2880",
   "metadata": {
    "execution": {
     "iopub.execute_input": "2023-10-11T14:45:10.863785Z",
     "iopub.status.busy": "2023-10-11T14:45:10.863403Z",
     "iopub.status.idle": "2023-10-11T14:45:10.884212Z",
     "shell.execute_reply": "2023-10-11T14:45:10.883031Z"
    },
    "papermill": {
     "duration": 0.109289,
     "end_time": "2023-10-11T14:45:10.886271",
     "exception": false,
     "start_time": "2023-10-11T14:45:10.776982",
     "status": "completed"
    },
    "tags": []
   },
   "outputs": [
    {
     "data": {
      "text/html": [
       "<div>\n",
       "<style scoped>\n",
       "    .dataframe tbody tr th:only-of-type {\n",
       "        vertical-align: middle;\n",
       "    }\n",
       "\n",
       "    .dataframe tbody tr th {\n",
       "        vertical-align: top;\n",
       "    }\n",
       "\n",
       "    .dataframe thead th {\n",
       "        text-align: right;\n",
       "    }\n",
       "</style>\n",
       "<table border=\"1\" class=\"dataframe\">\n",
       "  <thead>\n",
       "    <tr style=\"text-align: right;\">\n",
       "      <th></th>\n",
       "      <th>count</th>\n",
       "      <th>mean</th>\n",
       "      <th>std</th>\n",
       "      <th>min</th>\n",
       "      <th>25%</th>\n",
       "      <th>50%</th>\n",
       "      <th>75%</th>\n",
       "      <th>max</th>\n",
       "    </tr>\n",
       "  </thead>\n",
       "  <tbody>\n",
       "    <tr>\n",
       "      <th>PRICE</th>\n",
       "      <td>5000.0</td>\n",
       "      <td>34.1320</td>\n",
       "      <td>12.464897</td>\n",
       "      <td>9.0</td>\n",
       "      <td>29.0</td>\n",
       "      <td>39.0</td>\n",
       "      <td>39.0</td>\n",
       "      <td>59.0</td>\n",
       "    </tr>\n",
       "    <tr>\n",
       "      <th>AGE</th>\n",
       "      <td>5000.0</td>\n",
       "      <td>23.5814</td>\n",
       "      <td>8.995908</td>\n",
       "      <td>15.0</td>\n",
       "      <td>17.0</td>\n",
       "      <td>21.0</td>\n",
       "      <td>27.0</td>\n",
       "      <td>66.0</td>\n",
       "    </tr>\n",
       "  </tbody>\n",
       "</table>\n",
       "</div>"
      ],
      "text/plain": [
       "        count     mean        std   min   25%   50%   75%   max\n",
       "PRICE  5000.0  34.1320  12.464897   9.0  29.0  39.0  39.0  59.0\n",
       "AGE    5000.0  23.5814   8.995908  15.0  17.0  21.0  27.0  66.0"
      ]
     },
     "execution_count": 244,
     "metadata": {},
     "output_type": "execute_result"
    }
   ],
   "source": [
    "df.describe().T"
   ]
  },
  {
   "cell_type": "code",
   "execution_count": 245,
   "id": "dc18049f",
   "metadata": {
    "execution": {
     "iopub.execute_input": "2023-10-11T14:45:11.064343Z",
     "iopub.status.busy": "2023-10-11T14:45:11.063718Z",
     "iopub.status.idle": "2023-10-11T14:45:11.074176Z",
     "shell.execute_reply": "2023-10-11T14:45:11.073318Z"
    },
    "papermill": {
     "duration": 0.103077,
     "end_time": "2023-10-11T14:45:11.077008",
     "exception": false,
     "start_time": "2023-10-11T14:45:10.973931",
     "status": "completed"
    },
    "tags": []
   },
   "outputs": [
    {
     "data": {
      "text/plain": [
       "PRICE      0\n",
       "SOURCE     0\n",
       "SEX        0\n",
       "COUNTRY    0\n",
       "AGE        0\n",
       "dtype: int64"
      ]
     },
     "execution_count": 245,
     "metadata": {},
     "output_type": "execute_result"
    }
   ],
   "source": [
    "df.isnull().sum()"
   ]
  },
  {
   "cell_type": "code",
   "execution_count": 246,
   "id": "4da1932f",
   "metadata": {
    "execution": {
     "iopub.execute_input": "2023-10-11T14:45:11.267531Z",
     "iopub.status.busy": "2023-10-11T14:45:11.267169Z",
     "iopub.status.idle": "2023-10-11T14:45:11.286100Z",
     "shell.execute_reply": "2023-10-11T14:45:11.285220Z"
    },
    "papermill": {
     "duration": 0.114978,
     "end_time": "2023-10-11T14:45:11.288513",
     "exception": false,
     "start_time": "2023-10-11T14:45:11.173535",
     "status": "completed"
    },
    "tags": []
   },
   "outputs": [
    {
     "data": {
      "text/html": [
       "<div>\n",
       "<style scoped>\n",
       "    .dataframe tbody tr th:only-of-type {\n",
       "        vertical-align: middle;\n",
       "    }\n",
       "\n",
       "    .dataframe tbody tr th {\n",
       "        vertical-align: top;\n",
       "    }\n",
       "\n",
       "    .dataframe thead th {\n",
       "        text-align: right;\n",
       "    }\n",
       "</style>\n",
       "<table border=\"1\" class=\"dataframe\">\n",
       "  <thead>\n",
       "    <tr style=\"text-align: right;\">\n",
       "      <th></th>\n",
       "      <th>count</th>\n",
       "      <th>unique</th>\n",
       "      <th>top</th>\n",
       "      <th>freq</th>\n",
       "    </tr>\n",
       "  </thead>\n",
       "  <tbody>\n",
       "    <tr>\n",
       "      <th>SOURCE</th>\n",
       "      <td>5000</td>\n",
       "      <td>2</td>\n",
       "      <td>android</td>\n",
       "      <td>2974</td>\n",
       "    </tr>\n",
       "    <tr>\n",
       "      <th>SEX</th>\n",
       "      <td>5000</td>\n",
       "      <td>2</td>\n",
       "      <td>female</td>\n",
       "      <td>2621</td>\n",
       "    </tr>\n",
       "    <tr>\n",
       "      <th>COUNTRY</th>\n",
       "      <td>5000</td>\n",
       "      <td>6</td>\n",
       "      <td>usa</td>\n",
       "      <td>2065</td>\n",
       "    </tr>\n",
       "  </tbody>\n",
       "</table>\n",
       "</div>"
      ],
      "text/plain": [
       "        count unique      top  freq\n",
       "SOURCE   5000      2  android  2974\n",
       "SEX      5000      2   female  2621\n",
       "COUNTRY  5000      6      usa  2065"
      ]
     },
     "execution_count": 246,
     "metadata": {},
     "output_type": "execute_result"
    }
   ],
   "source": [
    "df.describe(include=[object]).T"
   ]
  },
  {
   "cell_type": "markdown",
   "id": "7a02fccf",
   "metadata": {
    "papermill": {
     "duration": 0.09472,
     "end_time": "2023-10-11T14:45:11.474477",
     "exception": false,
     "start_time": "2023-10-11T14:45:11.379757",
     "status": "completed"
    },
    "tags": []
   },
   "source": [
    "* **How many unique SOURCE in data?**"
   ]
  },
  {
   "cell_type": "code",
   "execution_count": 247,
   "id": "cd0863b1",
   "metadata": {
    "execution": {
     "iopub.execute_input": "2023-10-11T14:45:11.665495Z",
     "iopub.status.busy": "2023-10-11T14:45:11.664809Z",
     "iopub.status.idle": "2023-10-11T14:45:11.675205Z",
     "shell.execute_reply": "2023-10-11T14:45:11.673565Z"
    },
    "papermill": {
     "duration": 0.106196,
     "end_time": "2023-10-11T14:45:11.677752",
     "exception": false,
     "start_time": "2023-10-11T14:45:11.571556",
     "status": "completed"
    },
    "tags": []
   },
   "outputs": [
    {
     "data": {
      "text/plain": [
       "android    2974\n",
       "ios        2026\n",
       "Name: SOURCE, dtype: int64"
      ]
     },
     "execution_count": 247,
     "metadata": {},
     "output_type": "execute_result"
    }
   ],
   "source": [
    "df[\"SOURCE\"].value_counts()"
   ]
  },
  {
   "cell_type": "code",
   "execution_count": 248,
   "id": "d3780bc8",
   "metadata": {
    "execution": {
     "iopub.execute_input": "2023-10-11T14:45:11.855282Z",
     "iopub.status.busy": "2023-10-11T14:45:11.854896Z",
     "iopub.status.idle": "2023-10-11T14:45:11.862984Z",
     "shell.execute_reply": "2023-10-11T14:45:11.861869Z"
    },
    "papermill": {
     "duration": 0.097159,
     "end_time": "2023-10-11T14:45:11.865319",
     "exception": false,
     "start_time": "2023-10-11T14:45:11.768160",
     "status": "completed"
    },
    "tags": []
   },
   "outputs": [
    {
     "data": {
      "text/plain": [
       "0    android\n",
       "Name: SOURCE, dtype: object"
      ]
     },
     "execution_count": 248,
     "metadata": {},
     "output_type": "execute_result"
    }
   ],
   "source": [
    "df[\"SOURCE\"].mode()"
   ]
  },
  {
   "cell_type": "markdown",
   "id": "67225da3",
   "metadata": {
    "papermill": {
     "duration": 0.086734,
     "end_time": "2023-10-11T14:45:12.042990",
     "exception": false,
     "start_time": "2023-10-11T14:45:11.956256",
     "status": "completed"
    },
    "tags": []
   },
   "source": [
    "* **How many unique PRICE in data?**"
   ]
  },
  {
   "cell_type": "code",
   "execution_count": 249,
   "id": "a59d2a10",
   "metadata": {
    "execution": {
     "iopub.execute_input": "2023-10-11T14:45:12.217787Z",
     "iopub.status.busy": "2023-10-11T14:45:12.217179Z",
     "iopub.status.idle": "2023-10-11T14:45:12.223826Z",
     "shell.execute_reply": "2023-10-11T14:45:12.222772Z"
    },
    "papermill": {
     "duration": 0.096278,
     "end_time": "2023-10-11T14:45:12.225918",
     "exception": false,
     "start_time": "2023-10-11T14:45:12.129640",
     "status": "completed"
    },
    "tags": []
   },
   "outputs": [
    {
     "data": {
      "text/plain": [
       "6"
      ]
     },
     "execution_count": 249,
     "metadata": {},
     "output_type": "execute_result"
    }
   ],
   "source": [
    "df[\"PRICE\"].nunique()"
   ]
  },
  {
   "cell_type": "markdown",
   "id": "ef5634c5",
   "metadata": {
    "papermill": {
     "duration": 0.086635,
     "end_time": "2023-10-11T14:45:12.399360",
     "exception": false,
     "start_time": "2023-10-11T14:45:12.312725",
     "status": "completed"
    },
    "tags": []
   },
   "source": [
    "* **Sales quantities of PRICE quantities?**"
   ]
  },
  {
   "cell_type": "code",
   "execution_count": 250,
   "id": "52d842c9",
   "metadata": {
    "execution": {
     "iopub.execute_input": "2023-10-11T14:45:12.580139Z",
     "iopub.status.busy": "2023-10-11T14:45:12.579402Z",
     "iopub.status.idle": "2023-10-11T14:45:12.587878Z",
     "shell.execute_reply": "2023-10-11T14:45:12.586706Z"
    },
    "papermill": {
     "duration": 0.103015,
     "end_time": "2023-10-11T14:45:12.589938",
     "exception": false,
     "start_time": "2023-10-11T14:45:12.486923",
     "status": "completed"
    },
    "tags": []
   },
   "outputs": [
    {
     "data": {
      "text/plain": [
       "29    1305\n",
       "39    1260\n",
       "49    1031\n",
       "19     992\n",
       "59     212\n",
       "9      200\n",
       "Name: PRICE, dtype: int64"
      ]
     },
     "execution_count": 250,
     "metadata": {},
     "output_type": "execute_result"
    }
   ],
   "source": [
    "df[\"PRICE\"].value_counts()"
   ]
  },
  {
   "cell_type": "markdown",
   "id": "dd0866b3",
   "metadata": {
    "papermill": {
     "duration": 0.085044,
     "end_time": "2023-10-11T14:45:12.762413",
     "exception": false,
     "start_time": "2023-10-11T14:45:12.677369",
     "status": "completed"
    },
    "tags": []
   },
   "source": [
    "* **How many sales were made from which country?**"
   ]
  },
  {
   "cell_type": "code",
   "execution_count": 251,
   "id": "fa20b1c9",
   "metadata": {
    "execution": {
     "iopub.execute_input": "2023-10-11T14:45:12.943500Z",
     "iopub.status.busy": "2023-10-11T14:45:12.942932Z",
     "iopub.status.idle": "2023-10-11T14:45:12.950655Z",
     "shell.execute_reply": "2023-10-11T14:45:12.949561Z"
    },
    "papermill": {
     "duration": 0.10176,
     "end_time": "2023-10-11T14:45:12.952605",
     "exception": false,
     "start_time": "2023-10-11T14:45:12.850845",
     "status": "completed"
    },
    "tags": []
   },
   "outputs": [
    {
     "data": {
      "text/plain": [
       "usa    2065\n",
       "bra    1496\n",
       "deu     455\n",
       "tur     451\n",
       "fra     303\n",
       "can     230\n",
       "Name: COUNTRY, dtype: int64"
      ]
     },
     "execution_count": 251,
     "metadata": {},
     "output_type": "execute_result"
    }
   ],
   "source": [
    "df[\"COUNTRY\"].value_counts()"
   ]
  },
  {
   "cell_type": "markdown",
   "id": "c0d0369b",
   "metadata": {
    "papermill": {
     "duration": 0.153016,
     "end_time": "2023-10-11T14:45:13.193027",
     "exception": false,
     "start_time": "2023-10-11T14:45:13.040011",
     "status": "completed"
    },
    "tags": []
   },
   "source": [
    "* **How much profit was made from total sales by country?**"
   ]
  },
  {
   "cell_type": "code",
   "execution_count": 252,
   "id": "7da13102",
   "metadata": {
    "execution": {
     "iopub.execute_input": "2023-10-11T14:45:13.372114Z",
     "iopub.status.busy": "2023-10-11T14:45:13.371533Z",
     "iopub.status.idle": "2023-10-11T14:45:13.384257Z",
     "shell.execute_reply": "2023-10-11T14:45:13.382975Z"
    },
    "papermill": {
     "duration": 0.105861,
     "end_time": "2023-10-11T14:45:13.386397",
     "exception": false,
     "start_time": "2023-10-11T14:45:13.280536",
     "status": "completed"
    },
    "tags": []
   },
   "outputs": [
    {
     "data": {
      "text/html": [
       "<div>\n",
       "<style scoped>\n",
       "    .dataframe tbody tr th:only-of-type {\n",
       "        vertical-align: middle;\n",
       "    }\n",
       "\n",
       "    .dataframe tbody tr th {\n",
       "        vertical-align: top;\n",
       "    }\n",
       "\n",
       "    .dataframe thead th {\n",
       "        text-align: right;\n",
       "    }\n",
       "</style>\n",
       "<table border=\"1\" class=\"dataframe\">\n",
       "  <thead>\n",
       "    <tr style=\"text-align: right;\">\n",
       "      <th></th>\n",
       "      <th>PRICE</th>\n",
       "    </tr>\n",
       "    <tr>\n",
       "      <th>COUNTRY</th>\n",
       "      <th></th>\n",
       "    </tr>\n",
       "  </thead>\n",
       "  <tbody>\n",
       "    <tr>\n",
       "      <th>bra</th>\n",
       "      <td>51354</td>\n",
       "    </tr>\n",
       "    <tr>\n",
       "      <th>can</th>\n",
       "      <td>7730</td>\n",
       "    </tr>\n",
       "    <tr>\n",
       "      <th>deu</th>\n",
       "      <td>15485</td>\n",
       "    </tr>\n",
       "    <tr>\n",
       "      <th>fra</th>\n",
       "      <td>10177</td>\n",
       "    </tr>\n",
       "    <tr>\n",
       "      <th>tur</th>\n",
       "      <td>15689</td>\n",
       "    </tr>\n",
       "    <tr>\n",
       "      <th>usa</th>\n",
       "      <td>70225</td>\n",
       "    </tr>\n",
       "  </tbody>\n",
       "</table>\n",
       "</div>"
      ],
      "text/plain": [
       "         PRICE\n",
       "COUNTRY       \n",
       "bra      51354\n",
       "can       7730\n",
       "deu      15485\n",
       "fra      10177\n",
       "tur      15689\n",
       "usa      70225"
      ]
     },
     "execution_count": 252,
     "metadata": {},
     "output_type": "execute_result"
    }
   ],
   "source": [
    "df.groupby(\"COUNTRY\").agg({\"PRICE\": \"sum\"})"
   ]
  },
  {
   "cell_type": "markdown",
   "id": "20e012ce",
   "metadata": {
    "papermill": {
     "duration": 0.090636,
     "end_time": "2023-10-11T14:45:13.567533",
     "exception": false,
     "start_time": "2023-10-11T14:45:13.476897",
     "status": "completed"
    },
    "tags": []
   },
   "source": [
    "* **What are the sales figures by RESOURCE types?**"
   ]
  },
  {
   "cell_type": "code",
   "execution_count": 253,
   "id": "814a6ea1",
   "metadata": {
    "execution": {
     "iopub.execute_input": "2023-10-11T14:45:13.758807Z",
     "iopub.status.busy": "2023-10-11T14:45:13.757983Z",
     "iopub.status.idle": "2023-10-11T14:45:13.775865Z",
     "shell.execute_reply": "2023-10-11T14:45:13.774358Z"
    },
    "papermill": {
     "duration": 0.112268,
     "end_time": "2023-10-11T14:45:13.778341",
     "exception": false,
     "start_time": "2023-10-11T14:45:13.666073",
     "status": "completed"
    },
    "tags": []
   },
   "outputs": [
    {
     "data": {
      "text/html": [
       "<div>\n",
       "<style scoped>\n",
       "    .dataframe tbody tr th:only-of-type {\n",
       "        vertical-align: middle;\n",
       "    }\n",
       "\n",
       "    .dataframe tbody tr th {\n",
       "        vertical-align: top;\n",
       "    }\n",
       "\n",
       "    .dataframe thead th {\n",
       "        text-align: right;\n",
       "    }\n",
       "</style>\n",
       "<table border=\"1\" class=\"dataframe\">\n",
       "  <thead>\n",
       "    <tr style=\"text-align: right;\">\n",
       "      <th></th>\n",
       "      <th>Sales_Amount</th>\n",
       "    </tr>\n",
       "    <tr>\n",
       "      <th>SOURCE</th>\n",
       "      <th></th>\n",
       "    </tr>\n",
       "  </thead>\n",
       "  <tbody>\n",
       "    <tr>\n",
       "      <th>android</th>\n",
       "      <td>2974</td>\n",
       "    </tr>\n",
       "    <tr>\n",
       "      <th>ios</th>\n",
       "      <td>2026</td>\n",
       "    </tr>\n",
       "  </tbody>\n",
       "</table>\n",
       "</div>"
      ],
      "text/plain": [
       "         Sales_Amount\n",
       "SOURCE               \n",
       "android          2974\n",
       "ios              2026"
      ]
     },
     "execution_count": 253,
     "metadata": {},
     "output_type": "execute_result"
    }
   ],
   "source": [
    "df.groupby(\"SOURCE\")[\"SOURCE\"].agg([(\"Sales_Amount\",\"count\")])"
   ]
  },
  {
   "cell_type": "markdown",
   "id": "4cffe94d",
   "metadata": {
    "papermill": {
     "duration": 0.091256,
     "end_time": "2023-10-11T14:45:13.981982",
     "exception": false,
     "start_time": "2023-10-11T14:45:13.890726",
     "status": "completed"
    },
    "tags": []
   },
   "source": [
    "* **What are the PRICE averages by country?**"
   ]
  },
  {
   "cell_type": "code",
   "execution_count": 254,
   "id": "9431bd0b",
   "metadata": {
    "execution": {
     "iopub.execute_input": "2023-10-11T14:45:14.159877Z",
     "iopub.status.busy": "2023-10-11T14:45:14.158839Z",
     "iopub.status.idle": "2023-10-11T14:45:14.170117Z",
     "shell.execute_reply": "2023-10-11T14:45:14.168916Z"
    },
    "papermill": {
     "duration": 0.103222,
     "end_time": "2023-10-11T14:45:14.172251",
     "exception": false,
     "start_time": "2023-10-11T14:45:14.069029",
     "status": "completed"
    },
    "tags": []
   },
   "outputs": [
    {
     "data": {
      "text/html": [
       "<div>\n",
       "<style scoped>\n",
       "    .dataframe tbody tr th:only-of-type {\n",
       "        vertical-align: middle;\n",
       "    }\n",
       "\n",
       "    .dataframe tbody tr th {\n",
       "        vertical-align: top;\n",
       "    }\n",
       "\n",
       "    .dataframe thead th {\n",
       "        text-align: right;\n",
       "    }\n",
       "</style>\n",
       "<table border=\"1\" class=\"dataframe\">\n",
       "  <thead>\n",
       "    <tr style=\"text-align: right;\">\n",
       "      <th></th>\n",
       "      <th>Price_Averages</th>\n",
       "    </tr>\n",
       "    <tr>\n",
       "      <th>COUNTRY</th>\n",
       "      <th></th>\n",
       "    </tr>\n",
       "  </thead>\n",
       "  <tbody>\n",
       "    <tr>\n",
       "      <th>bra</th>\n",
       "      <td>34.327540</td>\n",
       "    </tr>\n",
       "    <tr>\n",
       "      <th>can</th>\n",
       "      <td>33.608696</td>\n",
       "    </tr>\n",
       "    <tr>\n",
       "      <th>deu</th>\n",
       "      <td>34.032967</td>\n",
       "    </tr>\n",
       "    <tr>\n",
       "      <th>fra</th>\n",
       "      <td>33.587459</td>\n",
       "    </tr>\n",
       "    <tr>\n",
       "      <th>tur</th>\n",
       "      <td>34.787140</td>\n",
       "    </tr>\n",
       "    <tr>\n",
       "      <th>usa</th>\n",
       "      <td>34.007264</td>\n",
       "    </tr>\n",
       "  </tbody>\n",
       "</table>\n",
       "</div>"
      ],
      "text/plain": [
       "         Price_Averages\n",
       "COUNTRY                \n",
       "bra           34.327540\n",
       "can           33.608696\n",
       "deu           34.032967\n",
       "fra           33.587459\n",
       "tur           34.787140\n",
       "usa           34.007264"
      ]
     },
     "execution_count": 254,
     "metadata": {},
     "output_type": "execute_result"
    }
   ],
   "source": [
    "df.groupby(\"COUNTRY\")[\"PRICE\"].agg([(\"Price_Averages\",\"mean\")])"
   ]
  },
  {
   "cell_type": "markdown",
   "id": "b6365922",
   "metadata": {
    "papermill": {
     "duration": 0.089413,
     "end_time": "2023-10-11T14:45:14.350882",
     "exception": false,
     "start_time": "2023-10-11T14:45:14.261469",
     "status": "completed"
    },
    "tags": []
   },
   "source": [
    "* **What are the PRICE averages according to SOURCEs?**"
   ]
  },
  {
   "cell_type": "code",
   "execution_count": 255,
   "id": "a2959f4c",
   "metadata": {
    "execution": {
     "iopub.execute_input": "2023-10-11T14:45:14.531297Z",
     "iopub.status.busy": "2023-10-11T14:45:14.530712Z",
     "iopub.status.idle": "2023-10-11T14:45:14.542739Z",
     "shell.execute_reply": "2023-10-11T14:45:14.541584Z"
    },
    "papermill": {
     "duration": 0.106187,
     "end_time": "2023-10-11T14:45:14.545205",
     "exception": false,
     "start_time": "2023-10-11T14:45:14.439018",
     "status": "completed"
    },
    "tags": []
   },
   "outputs": [
    {
     "data": {
      "text/html": [
       "<div>\n",
       "<style scoped>\n",
       "    .dataframe tbody tr th:only-of-type {\n",
       "        vertical-align: middle;\n",
       "    }\n",
       "\n",
       "    .dataframe tbody tr th {\n",
       "        vertical-align: top;\n",
       "    }\n",
       "\n",
       "    .dataframe thead th {\n",
       "        text-align: right;\n",
       "    }\n",
       "</style>\n",
       "<table border=\"1\" class=\"dataframe\">\n",
       "  <thead>\n",
       "    <tr style=\"text-align: right;\">\n",
       "      <th></th>\n",
       "      <th>PRICE</th>\n",
       "    </tr>\n",
       "    <tr>\n",
       "      <th>SOURCE</th>\n",
       "      <th></th>\n",
       "    </tr>\n",
       "  </thead>\n",
       "  <tbody>\n",
       "    <tr>\n",
       "      <th>android</th>\n",
       "      <td>34.174849</td>\n",
       "    </tr>\n",
       "    <tr>\n",
       "      <th>ios</th>\n",
       "      <td>34.069102</td>\n",
       "    </tr>\n",
       "  </tbody>\n",
       "</table>\n",
       "</div>"
      ],
      "text/plain": [
       "             PRICE\n",
       "SOURCE            \n",
       "android  34.174849\n",
       "ios      34.069102"
      ]
     },
     "execution_count": 255,
     "metadata": {},
     "output_type": "execute_result"
    }
   ],
   "source": [
    "df.groupby(\"SOURCE\").agg({\"PRICE\": \"mean\"})"
   ]
  },
  {
   "cell_type": "markdown",
   "id": "642d8034",
   "metadata": {
    "papermill": {
     "duration": 0.089437,
     "end_time": "2023-10-11T14:45:14.722117",
     "exception": false,
     "start_time": "2023-10-11T14:45:14.632680",
     "status": "completed"
    },
    "tags": []
   },
   "source": [
    "* **What are the PRICE averages in the COUNTRY-SOURCE breakdown?**"
   ]
  },
  {
   "cell_type": "code",
   "execution_count": 256,
   "id": "ee664b1d",
   "metadata": {
    "execution": {
     "iopub.execute_input": "2023-10-11T14:45:14.898722Z",
     "iopub.status.busy": "2023-10-11T14:45:14.898374Z",
     "iopub.status.idle": "2023-10-11T14:45:14.914241Z",
     "shell.execute_reply": "2023-10-11T14:45:14.913014Z"
    },
    "papermill": {
     "duration": 0.107388,
     "end_time": "2023-10-11T14:45:14.916767",
     "exception": false,
     "start_time": "2023-10-11T14:45:14.809379",
     "status": "completed"
    },
    "tags": []
   },
   "outputs": [
    {
     "data": {
      "text/html": [
       "<div>\n",
       "<style scoped>\n",
       "    .dataframe tbody tr th:only-of-type {\n",
       "        vertical-align: middle;\n",
       "    }\n",
       "\n",
       "    .dataframe tbody tr th {\n",
       "        vertical-align: top;\n",
       "    }\n",
       "\n",
       "    .dataframe thead th {\n",
       "        text-align: right;\n",
       "    }\n",
       "</style>\n",
       "<table border=\"1\" class=\"dataframe\">\n",
       "  <thead>\n",
       "    <tr style=\"text-align: right;\">\n",
       "      <th></th>\n",
       "      <th></th>\n",
       "      <th>PRICE</th>\n",
       "    </tr>\n",
       "    <tr>\n",
       "      <th>COUNTRY</th>\n",
       "      <th>SOURCE</th>\n",
       "      <th></th>\n",
       "    </tr>\n",
       "  </thead>\n",
       "  <tbody>\n",
       "    <tr>\n",
       "      <th rowspan=\"2\" valign=\"top\">bra</th>\n",
       "      <th>android</th>\n",
       "      <td>34.387029</td>\n",
       "    </tr>\n",
       "    <tr>\n",
       "      <th>ios</th>\n",
       "      <td>34.222222</td>\n",
       "    </tr>\n",
       "    <tr>\n",
       "      <th rowspan=\"2\" valign=\"top\">can</th>\n",
       "      <th>android</th>\n",
       "      <td>33.330709</td>\n",
       "    </tr>\n",
       "    <tr>\n",
       "      <th>ios</th>\n",
       "      <td>33.951456</td>\n",
       "    </tr>\n",
       "    <tr>\n",
       "      <th rowspan=\"2\" valign=\"top\">deu</th>\n",
       "      <th>android</th>\n",
       "      <td>33.869888</td>\n",
       "    </tr>\n",
       "    <tr>\n",
       "      <th>ios</th>\n",
       "      <td>34.268817</td>\n",
       "    </tr>\n",
       "    <tr>\n",
       "      <th rowspan=\"2\" valign=\"top\">fra</th>\n",
       "      <th>android</th>\n",
       "      <td>34.312500</td>\n",
       "    </tr>\n",
       "    <tr>\n",
       "      <th>ios</th>\n",
       "      <td>32.776224</td>\n",
       "    </tr>\n",
       "    <tr>\n",
       "      <th rowspan=\"2\" valign=\"top\">tur</th>\n",
       "      <th>android</th>\n",
       "      <td>36.229437</td>\n",
       "    </tr>\n",
       "    <tr>\n",
       "      <th>ios</th>\n",
       "      <td>33.272727</td>\n",
       "    </tr>\n",
       "    <tr>\n",
       "      <th rowspan=\"2\" valign=\"top\">usa</th>\n",
       "      <th>android</th>\n",
       "      <td>33.760357</td>\n",
       "    </tr>\n",
       "    <tr>\n",
       "      <th>ios</th>\n",
       "      <td>34.371703</td>\n",
       "    </tr>\n",
       "  </tbody>\n",
       "</table>\n",
       "</div>"
      ],
      "text/plain": [
       "                     PRICE\n",
       "COUNTRY SOURCE            \n",
       "bra     android  34.387029\n",
       "        ios      34.222222\n",
       "can     android  33.330709\n",
       "        ios      33.951456\n",
       "deu     android  33.869888\n",
       "        ios      34.268817\n",
       "fra     android  34.312500\n",
       "        ios      32.776224\n",
       "tur     android  36.229437\n",
       "        ios      33.272727\n",
       "usa     android  33.760357\n",
       "        ios      34.371703"
      ]
     },
     "execution_count": 256,
     "metadata": {},
     "output_type": "execute_result"
    }
   ],
   "source": [
    "df.groupby([\"COUNTRY\",\"SOURCE\"]).agg({\"PRICE\": \"mean\"})"
   ]
  },
  {
   "cell_type": "markdown",
   "id": "d64ef559",
   "metadata": {
    "papermill": {
     "duration": 0.089317,
     "end_time": "2023-10-11T14:45:15.094628",
     "exception": false,
     "start_time": "2023-10-11T14:45:15.005311",
     "status": "completed"
    },
    "tags": []
   },
   "source": [
    "* **What are the average earnings in the COUNTRY, SOURCE, SEX, AGE breakdown?**"
   ]
  },
  {
   "cell_type": "code",
   "execution_count": 257,
   "id": "0e5d33c0",
   "metadata": {
    "execution": {
     "iopub.execute_input": "2023-10-11T14:45:15.273488Z",
     "iopub.status.busy": "2023-10-11T14:45:15.272841Z",
     "iopub.status.idle": "2023-10-11T14:45:15.292917Z",
     "shell.execute_reply": "2023-10-11T14:45:15.291554Z"
    },
    "papermill": {
     "duration": 0.111781,
     "end_time": "2023-10-11T14:45:15.295411",
     "exception": false,
     "start_time": "2023-10-11T14:45:15.183630",
     "status": "completed"
    },
    "tags": []
   },
   "outputs": [
    {
     "data": {
      "text/html": [
       "<div>\n",
       "<style scoped>\n",
       "    .dataframe tbody tr th:only-of-type {\n",
       "        vertical-align: middle;\n",
       "    }\n",
       "\n",
       "    .dataframe tbody tr th {\n",
       "        vertical-align: top;\n",
       "    }\n",
       "\n",
       "    .dataframe thead th {\n",
       "        text-align: right;\n",
       "    }\n",
       "</style>\n",
       "<table border=\"1\" class=\"dataframe\">\n",
       "  <thead>\n",
       "    <tr style=\"text-align: right;\">\n",
       "      <th></th>\n",
       "      <th></th>\n",
       "      <th></th>\n",
       "      <th></th>\n",
       "      <th>PRICE</th>\n",
       "    </tr>\n",
       "    <tr>\n",
       "      <th>COUNTRY</th>\n",
       "      <th>SOURCE</th>\n",
       "      <th>SEX</th>\n",
       "      <th>AGE</th>\n",
       "      <th></th>\n",
       "    </tr>\n",
       "  </thead>\n",
       "  <tbody>\n",
       "    <tr>\n",
       "      <th rowspan=\"5\" valign=\"top\">bra</th>\n",
       "      <th rowspan=\"5\" valign=\"top\">android</th>\n",
       "      <th rowspan=\"5\" valign=\"top\">female</th>\n",
       "      <th>15</th>\n",
       "      <td>38.714286</td>\n",
       "    </tr>\n",
       "    <tr>\n",
       "      <th>16</th>\n",
       "      <td>35.944444</td>\n",
       "    </tr>\n",
       "    <tr>\n",
       "      <th>17</th>\n",
       "      <td>35.666667</td>\n",
       "    </tr>\n",
       "    <tr>\n",
       "      <th>18</th>\n",
       "      <td>32.255814</td>\n",
       "    </tr>\n",
       "    <tr>\n",
       "      <th>19</th>\n",
       "      <td>35.206897</td>\n",
       "    </tr>\n",
       "    <tr>\n",
       "      <th>...</th>\n",
       "      <th>...</th>\n",
       "      <th>...</th>\n",
       "      <th>...</th>\n",
       "      <td>...</td>\n",
       "    </tr>\n",
       "    <tr>\n",
       "      <th rowspan=\"5\" valign=\"top\">usa</th>\n",
       "      <th rowspan=\"5\" valign=\"top\">ios</th>\n",
       "      <th rowspan=\"5\" valign=\"top\">male</th>\n",
       "      <th>42</th>\n",
       "      <td>30.250000</td>\n",
       "    </tr>\n",
       "    <tr>\n",
       "      <th>50</th>\n",
       "      <td>39.000000</td>\n",
       "    </tr>\n",
       "    <tr>\n",
       "      <th>53</th>\n",
       "      <td>34.000000</td>\n",
       "    </tr>\n",
       "    <tr>\n",
       "      <th>55</th>\n",
       "      <td>29.000000</td>\n",
       "    </tr>\n",
       "    <tr>\n",
       "      <th>59</th>\n",
       "      <td>46.500000</td>\n",
       "    </tr>\n",
       "  </tbody>\n",
       "</table>\n",
       "<p>348 rows × 1 columns</p>\n",
       "</div>"
      ],
      "text/plain": [
       "                                PRICE\n",
       "COUNTRY SOURCE  SEX    AGE           \n",
       "bra     android female 15   38.714286\n",
       "                       16   35.944444\n",
       "                       17   35.666667\n",
       "                       18   32.255814\n",
       "                       19   35.206897\n",
       "...                               ...\n",
       "usa     ios     male   42   30.250000\n",
       "                       50   39.000000\n",
       "                       53   34.000000\n",
       "                       55   29.000000\n",
       "                       59   46.500000\n",
       "\n",
       "[348 rows x 1 columns]"
      ]
     },
     "execution_count": 257,
     "metadata": {},
     "output_type": "execute_result"
    }
   ],
   "source": [
    "df.groupby([\"COUNTRY\",\"SOURCE\",\"SEX\",\"AGE\"]).agg({\"PRICE\": \"mean\"})"
   ]
  },
  {
   "cell_type": "code",
   "execution_count": 258,
   "id": "1a8054b6",
   "metadata": {
    "execution": {
     "iopub.execute_input": "2023-10-11T14:45:15.473436Z",
     "iopub.status.busy": "2023-10-11T14:45:15.473038Z",
     "iopub.status.idle": "2023-10-11T14:45:15.520158Z",
     "shell.execute_reply": "2023-10-11T14:45:15.519088Z"
    },
    "papermill": {
     "duration": 0.13615,
     "end_time": "2023-10-11T14:45:15.522426",
     "exception": false,
     "start_time": "2023-10-11T14:45:15.386276",
     "status": "completed"
    },
    "tags": []
   },
   "outputs": [
    {
     "data": {
      "text/plain": [
       "[                                PRICE\n",
       " COUNTRY SOURCE  SEX    AGE           \n",
       " can     android female 15   25.666667\n",
       "                        16   29.689655\n",
       "                        18   37.333333\n",
       "                        19   32.529412\n",
       "                        20   31.500000,\n",
       "                                 PRICE\n",
       " COUNTRY SOURCE  SEX    AGE           \n",
       " fra     android female 15   37.571429\n",
       "                        16   36.727273\n",
       "                        17   34.652174\n",
       "                        19   27.333333\n",
       "                        21   39.000000,\n",
       "                                 PRICE\n",
       " COUNTRY SOURCE  SEX    AGE           \n",
       " bra     android female 15   38.714286\n",
       "                        16   35.944444\n",
       "                        17   35.666667\n",
       "                        18   32.255814\n",
       "                        19   35.206897,\n",
       "                                 PRICE\n",
       " COUNTRY SOURCE  SEX    AGE           \n",
       " deu     android female 15   32.000000\n",
       "                        16   27.000000\n",
       "                        17   33.736842\n",
       "                        21   31.000000\n",
       "                        22   35.000000,\n",
       "                                 PRICE\n",
       " COUNTRY SOURCE  SEX    AGE           \n",
       " tur     android female 15   41.000000\n",
       "                        16   34.555556\n",
       "                        17   33.687500\n",
       "                        18   41.500000\n",
       "                        19   31.000000,\n",
       "                                 PRICE\n",
       " COUNTRY SOURCE  SEX    AGE           \n",
       " usa     android female 15   32.666667\n",
       "                        16   34.901639\n",
       "                        17   34.625000\n",
       "                        18   32.404255\n",
       "                        19   35.764706]"
      ]
     },
     "execution_count": 258,
     "metadata": {},
     "output_type": "execute_result"
    }
   ],
   "source": [
    "[df.groupby([\"COUNTRY\",\"SOURCE\",\"SEX\",\"AGE\"])[[\"PRICE\"]].mean().apply(lambda x : x.loc[[i]].head(5)) for i in set(df.COUNTRY)]"
   ]
  },
  {
   "cell_type": "markdown",
   "id": "f609d6ca",
   "metadata": {
    "papermill": {
     "duration": 0.093144,
     "end_time": "2023-10-11T14:45:15.707426",
     "exception": false,
     "start_time": "2023-10-11T14:45:15.614282",
     "status": "completed"
    },
    "tags": []
   },
   "source": [
    "* **Sort the output by PRICE.**"
   ]
  },
  {
   "cell_type": "code",
   "execution_count": 259,
   "id": "09715e4a",
   "metadata": {
    "execution": {
     "iopub.execute_input": "2023-10-11T14:45:15.959612Z",
     "iopub.status.busy": "2023-10-11T14:45:15.959193Z",
     "iopub.status.idle": "2023-10-11T14:45:15.969249Z",
     "shell.execute_reply": "2023-10-11T14:45:15.968444Z"
    },
    "papermill": {
     "duration": 0.171454,
     "end_time": "2023-10-11T14:45:15.971552",
     "exception": false,
     "start_time": "2023-10-11T14:45:15.800098",
     "status": "completed"
    },
    "tags": []
   },
   "outputs": [],
   "source": [
    "agg_df = df.groupby([\"COUNTRY\",\"SOURCE\",\"SEX\",\"AGE\"]).agg({\"PRICE\": \"mean\"}).sort_values(by=\"PRICE\",ascending=False)"
   ]
  },
  {
   "cell_type": "markdown",
   "id": "ecea4e2c",
   "metadata": {
    "papermill": {
     "duration": 0.089645,
     "end_time": "2023-10-11T14:45:16.150979",
     "exception": false,
     "start_time": "2023-10-11T14:45:16.061334",
     "status": "completed"
    },
    "tags": []
   },
   "source": [
    "* **Convert the names in the directory to variable names.**"
   ]
  },
  {
   "cell_type": "code",
   "execution_count": 260,
   "id": "179680f4",
   "metadata": {
    "execution": {
     "iopub.execute_input": "2023-10-11T14:45:16.333163Z",
     "iopub.status.busy": "2023-10-11T14:45:16.331889Z",
     "iopub.status.idle": "2023-10-11T14:45:16.343324Z",
     "shell.execute_reply": "2023-10-11T14:45:16.342342Z"
    },
    "papermill": {
     "duration": 0.105819,
     "end_time": "2023-10-11T14:45:16.345652",
     "exception": false,
     "start_time": "2023-10-11T14:45:16.239833",
     "status": "completed"
    },
    "tags": []
   },
   "outputs": [
    {
     "data": {
      "text/html": [
       "<div>\n",
       "<style scoped>\n",
       "    .dataframe tbody tr th:only-of-type {\n",
       "        vertical-align: middle;\n",
       "    }\n",
       "\n",
       "    .dataframe tbody tr th {\n",
       "        vertical-align: top;\n",
       "    }\n",
       "\n",
       "    .dataframe thead th {\n",
       "        text-align: right;\n",
       "    }\n",
       "</style>\n",
       "<table border=\"1\" class=\"dataframe\">\n",
       "  <thead>\n",
       "    <tr style=\"text-align: right;\">\n",
       "      <th></th>\n",
       "      <th></th>\n",
       "      <th></th>\n",
       "      <th></th>\n",
       "      <th>PRICE</th>\n",
       "    </tr>\n",
       "    <tr>\n",
       "      <th>COUNTRY</th>\n",
       "      <th>SOURCE</th>\n",
       "      <th>SEX</th>\n",
       "      <th>AGE</th>\n",
       "      <th></th>\n",
       "    </tr>\n",
       "  </thead>\n",
       "  <tbody>\n",
       "    <tr>\n",
       "      <th>bra</th>\n",
       "      <th>android</th>\n",
       "      <th>male</th>\n",
       "      <th>46</th>\n",
       "      <td>59.0</td>\n",
       "    </tr>\n",
       "    <tr>\n",
       "      <th>usa</th>\n",
       "      <th>android</th>\n",
       "      <th>male</th>\n",
       "      <th>36</th>\n",
       "      <td>59.0</td>\n",
       "    </tr>\n",
       "    <tr>\n",
       "      <th>fra</th>\n",
       "      <th>android</th>\n",
       "      <th>female</th>\n",
       "      <th>24</th>\n",
       "      <td>59.0</td>\n",
       "    </tr>\n",
       "    <tr>\n",
       "      <th>usa</th>\n",
       "      <th>ios</th>\n",
       "      <th>male</th>\n",
       "      <th>32</th>\n",
       "      <td>54.0</td>\n",
       "    </tr>\n",
       "    <tr>\n",
       "      <th>deu</th>\n",
       "      <th>android</th>\n",
       "      <th>female</th>\n",
       "      <th>36</th>\n",
       "      <td>49.0</td>\n",
       "    </tr>\n",
       "  </tbody>\n",
       "</table>\n",
       "</div>"
      ],
      "text/plain": [
       "                            PRICE\n",
       "COUNTRY SOURCE  SEX    AGE       \n",
       "bra     android male   46    59.0\n",
       "usa     android male   36    59.0\n",
       "fra     android female 24    59.0\n",
       "usa     ios     male   32    54.0\n",
       "deu     android female 36    49.0"
      ]
     },
     "execution_count": 260,
     "metadata": {},
     "output_type": "execute_result"
    }
   ],
   "source": [
    "agg_df.head()"
   ]
  },
  {
   "cell_type": "code",
   "execution_count": 261,
   "id": "5e8228fc",
   "metadata": {
    "execution": {
     "iopub.execute_input": "2023-10-11T14:45:16.529489Z",
     "iopub.status.busy": "2023-10-11T14:45:16.529118Z",
     "iopub.status.idle": "2023-10-11T14:45:16.535054Z",
     "shell.execute_reply": "2023-10-11T14:45:16.534323Z"
    },
    "papermill": {
     "duration": 0.100463,
     "end_time": "2023-10-11T14:45:16.537300",
     "exception": false,
     "start_time": "2023-10-11T14:45:16.436837",
     "status": "completed"
    },
    "tags": []
   },
   "outputs": [],
   "source": [
    "agg_df.reset_index(inplace=True)"
   ]
  },
  {
   "cell_type": "code",
   "execution_count": 262,
   "id": "afe3d938",
   "metadata": {
    "execution": {
     "iopub.execute_input": "2023-10-11T14:45:16.720770Z",
     "iopub.status.busy": "2023-10-11T14:45:16.720066Z",
     "iopub.status.idle": "2023-10-11T14:45:16.730422Z",
     "shell.execute_reply": "2023-10-11T14:45:16.729504Z"
    },
    "papermill": {
     "duration": 0.104765,
     "end_time": "2023-10-11T14:45:16.732536",
     "exception": false,
     "start_time": "2023-10-11T14:45:16.627771",
     "status": "completed"
    },
    "tags": []
   },
   "outputs": [
    {
     "data": {
      "text/html": [
       "<div>\n",
       "<style scoped>\n",
       "    .dataframe tbody tr th:only-of-type {\n",
       "        vertical-align: middle;\n",
       "    }\n",
       "\n",
       "    .dataframe tbody tr th {\n",
       "        vertical-align: top;\n",
       "    }\n",
       "\n",
       "    .dataframe thead th {\n",
       "        text-align: right;\n",
       "    }\n",
       "</style>\n",
       "<table border=\"1\" class=\"dataframe\">\n",
       "  <thead>\n",
       "    <tr style=\"text-align: right;\">\n",
       "      <th></th>\n",
       "      <th>COUNTRY</th>\n",
       "      <th>SOURCE</th>\n",
       "      <th>SEX</th>\n",
       "      <th>AGE</th>\n",
       "      <th>PRICE</th>\n",
       "    </tr>\n",
       "  </thead>\n",
       "  <tbody>\n",
       "    <tr>\n",
       "      <th>0</th>\n",
       "      <td>bra</td>\n",
       "      <td>android</td>\n",
       "      <td>male</td>\n",
       "      <td>46</td>\n",
       "      <td>59.0</td>\n",
       "    </tr>\n",
       "    <tr>\n",
       "      <th>1</th>\n",
       "      <td>usa</td>\n",
       "      <td>android</td>\n",
       "      <td>male</td>\n",
       "      <td>36</td>\n",
       "      <td>59.0</td>\n",
       "    </tr>\n",
       "    <tr>\n",
       "      <th>2</th>\n",
       "      <td>fra</td>\n",
       "      <td>android</td>\n",
       "      <td>female</td>\n",
       "      <td>24</td>\n",
       "      <td>59.0</td>\n",
       "    </tr>\n",
       "    <tr>\n",
       "      <th>3</th>\n",
       "      <td>usa</td>\n",
       "      <td>ios</td>\n",
       "      <td>male</td>\n",
       "      <td>32</td>\n",
       "      <td>54.0</td>\n",
       "    </tr>\n",
       "    <tr>\n",
       "      <th>4</th>\n",
       "      <td>deu</td>\n",
       "      <td>android</td>\n",
       "      <td>female</td>\n",
       "      <td>36</td>\n",
       "      <td>49.0</td>\n",
       "    </tr>\n",
       "  </tbody>\n",
       "</table>\n",
       "</div>"
      ],
      "text/plain": [
       "  COUNTRY   SOURCE     SEX  AGE  PRICE\n",
       "0     bra  android    male   46   59.0\n",
       "1     usa  android    male   36   59.0\n",
       "2     fra  android  female   24   59.0\n",
       "3     usa      ios    male   32   54.0\n",
       "4     deu  android  female   36   49.0"
      ]
     },
     "execution_count": 262,
     "metadata": {},
     "output_type": "execute_result"
    }
   ],
   "source": [
    "agg_df.head()"
   ]
  },
  {
   "cell_type": "markdown",
   "id": "404a92d4",
   "metadata": {
    "papermill": {
     "duration": 0.08907,
     "end_time": "2023-10-11T14:45:16.910687",
     "exception": false,
     "start_time": "2023-10-11T14:45:16.821617",
     "status": "completed"
    },
    "tags": []
   },
   "source": [
    "* **Convert the AGE variable to a categorical variable and add it to agg_df.**"
   ]
  },
  {
   "cell_type": "code",
   "execution_count": 263,
   "id": "c80c95c0",
   "metadata": {
    "execution": {
     "iopub.execute_input": "2023-10-11T14:45:17.090276Z",
     "iopub.status.busy": "2023-10-11T14:45:17.089524Z",
     "iopub.status.idle": "2023-10-11T14:45:17.097784Z",
     "shell.execute_reply": "2023-10-11T14:45:17.096976Z"
    },
    "papermill": {
     "duration": 0.101406,
     "end_time": "2023-10-11T14:45:17.099977",
     "exception": false,
     "start_time": "2023-10-11T14:45:16.998571",
     "status": "completed"
    },
    "tags": []
   },
   "outputs": [],
   "source": [
    "agg_df[\"AGE_CAT\"] = pd.cut(agg_df[\"AGE\"],bins=[0,18,23,30,40,agg_df[\"AGE\"].max()],\n",
    "                                        labels=['0_18', '19_23', '24_30', '31_40', f'41_{agg_df[\"AGE\"].max()}'])"
   ]
  },
  {
   "cell_type": "code",
   "execution_count": 264,
   "id": "888683ce",
   "metadata": {
    "execution": {
     "iopub.execute_input": "2023-10-11T14:45:17.278970Z",
     "iopub.status.busy": "2023-10-11T14:45:17.278619Z",
     "iopub.status.idle": "2023-10-11T14:45:17.287628Z",
     "shell.execute_reply": "2023-10-11T14:45:17.286315Z"
    },
    "papermill": {
     "duration": 0.10197,
     "end_time": "2023-10-11T14:45:17.289916",
     "exception": false,
     "start_time": "2023-10-11T14:45:17.187946",
     "status": "completed"
    },
    "tags": []
   },
   "outputs": [
    {
     "data": {
      "text/plain": [
       "24_30    78\n",
       "0_18     77\n",
       "19_23    71\n",
       "31_40    65\n",
       "41_66    57\n",
       "Name: AGE_CAT, dtype: int64"
      ]
     },
     "execution_count": 264,
     "metadata": {},
     "output_type": "execute_result"
    }
   ],
   "source": [
    "agg_df[\"AGE_CAT\"].value_counts()"
   ]
  },
  {
   "cell_type": "markdown",
   "id": "1667fba2",
   "metadata": {
    "papermill": {
     "duration": 0.089246,
     "end_time": "2023-10-11T14:45:17.468727",
     "exception": false,
     "start_time": "2023-10-11T14:45:17.379481",
     "status": "completed"
    },
    "tags": []
   },
   "source": [
    "* **Define new level based customers and add them to the data set as a variable.**"
   ]
  },
  {
   "cell_type": "code",
   "execution_count": 265,
   "id": "3b98a275",
   "metadata": {
    "execution": {
     "iopub.execute_input": "2023-10-11T14:45:17.651786Z",
     "iopub.status.busy": "2023-10-11T14:45:17.651429Z",
     "iopub.status.idle": "2023-10-11T14:45:17.659112Z",
     "shell.execute_reply": "2023-10-11T14:45:17.657546Z"
    },
    "papermill": {
     "duration": 0.101138,
     "end_time": "2023-10-11T14:45:17.661516",
     "exception": false,
     "start_time": "2023-10-11T14:45:17.560378",
     "status": "completed"
    },
    "tags": []
   },
   "outputs": [],
   "source": [
    "agg_df[\"customers_level_based\"] = [f\"{COUNTRY}_{SOURCE}_{SEX}_{AGE_CAT}\".upper()\n",
    "                                 for COUNTRY,SOURCE,SEX,AGE_CAT\n",
    "                                 in zip(agg_df[\"COUNTRY\"],agg_df[\"SOURCE\"],agg_df[\"SEX\"],agg_df[\"AGE_CAT\"])]"
   ]
  },
  {
   "cell_type": "code",
   "execution_count": 266,
   "id": "098f3fc3",
   "metadata": {
    "execution": {
     "iopub.execute_input": "2023-10-11T14:45:17.838921Z",
     "iopub.status.busy": "2023-10-11T14:45:17.837781Z",
     "iopub.status.idle": "2023-10-11T14:45:17.845712Z",
     "shell.execute_reply": "2023-10-11T14:45:17.844686Z"
    },
    "papermill": {
     "duration": 0.098812,
     "end_time": "2023-10-11T14:45:17.848157",
     "exception": false,
     "start_time": "2023-10-11T14:45:17.749345",
     "status": "completed"
    },
    "tags": []
   },
   "outputs": [],
   "source": [
    "agg_df = agg_df.groupby(\"customers_level_based\").agg({\"PRICE\":\"mean\"})"
   ]
  },
  {
   "cell_type": "markdown",
   "id": "6fa6265d",
   "metadata": {
    "papermill": {
     "duration": 0.088353,
     "end_time": "2023-10-11T14:45:18.027346",
     "exception": false,
     "start_time": "2023-10-11T14:45:17.938993",
     "status": "completed"
    },
    "tags": []
   },
   "source": [
    "* **Segment new customers (USA_ANDROID_MALE_0_18).**"
   ]
  },
  {
   "cell_type": "code",
   "execution_count": 267,
   "id": "59823df2",
   "metadata": {
    "execution": {
     "iopub.execute_input": "2023-10-11T14:45:18.207943Z",
     "iopub.status.busy": "2023-10-11T14:45:18.207150Z",
     "iopub.status.idle": "2023-10-11T14:45:18.214458Z",
     "shell.execute_reply": "2023-10-11T14:45:18.213574Z"
    },
    "papermill": {
     "duration": 0.10055,
     "end_time": "2023-10-11T14:45:18.216736",
     "exception": false,
     "start_time": "2023-10-11T14:45:18.116186",
     "status": "completed"
    },
    "tags": []
   },
   "outputs": [],
   "source": [
    "agg_df[\"SEGMENT\"] = pd.qcut(agg_df[\"PRICE\"],q=4,labels=[\"D\",\"C\",\"B\",\"A\"])"
   ]
  },
  {
   "cell_type": "markdown",
   "id": "b004ac69",
   "metadata": {
    "papermill": {
     "duration": 0.158129,
     "end_time": "2023-10-11T14:45:18.463955",
     "exception": false,
     "start_time": "2023-10-11T14:45:18.305826",
     "status": "completed"
    },
    "tags": []
   },
   "source": [
    "* **Categorize new customers and estimate how much revenue they could bring in**."
   ]
  },
  {
   "cell_type": "code",
   "execution_count": 268,
   "id": "23af49f1",
   "metadata": {
    "execution": {
     "iopub.execute_input": "2023-10-11T14:45:18.643314Z",
     "iopub.status.busy": "2023-10-11T14:45:18.642517Z",
     "iopub.status.idle": "2023-10-11T14:45:18.647557Z",
     "shell.execute_reply": "2023-10-11T14:45:18.646643Z"
    },
    "papermill": {
     "duration": 0.096692,
     "end_time": "2023-10-11T14:45:18.649886",
     "exception": false,
     "start_time": "2023-10-11T14:45:18.553194",
     "status": "completed"
    },
    "tags": []
   },
   "outputs": [],
   "source": [
    "reseted_df = agg_df.reset_index()"
   ]
  },
  {
   "cell_type": "code",
   "execution_count": 269,
   "id": "7956bf18",
   "metadata": {
    "execution": {
     "iopub.execute_input": "2023-10-11T14:45:18.830787Z",
     "iopub.status.busy": "2023-10-11T14:45:18.829732Z",
     "iopub.status.idle": "2023-10-11T14:45:18.834648Z",
     "shell.execute_reply": "2023-10-11T14:45:18.833680Z"
    },
    "papermill": {
     "duration": 0.096772,
     "end_time": "2023-10-11T14:45:18.836847",
     "exception": false,
     "start_time": "2023-10-11T14:45:18.740075",
     "status": "completed"
    },
    "tags": []
   },
   "outputs": [],
   "source": [
    "new_customer = \"TUR_ANDROID_FEMALE_31_40\""
   ]
  },
  {
   "cell_type": "code",
   "execution_count": 270,
   "id": "faf24b1f",
   "metadata": {
    "execution": {
     "iopub.execute_input": "2023-10-11T14:45:19.016987Z",
     "iopub.status.busy": "2023-10-11T14:45:19.016342Z",
     "iopub.status.idle": "2023-10-11T14:45:19.023632Z",
     "shell.execute_reply": "2023-10-11T14:45:19.022700Z"
    },
    "papermill": {
     "duration": 0.100822,
     "end_time": "2023-10-11T14:45:19.025815",
     "exception": false,
     "start_time": "2023-10-11T14:45:18.924993",
     "status": "completed"
    },
    "tags": []
   },
   "outputs": [
    {
     "data": {
      "text/plain": [
       "PRICE      41.833333\n",
       "SEGMENT            A\n",
       "Name: TUR_ANDROID_FEMALE_31_40, dtype: object"
      ]
     },
     "execution_count": 270,
     "metadata": {},
     "output_type": "execute_result"
    }
   ],
   "source": [
    "agg_df.loc[new_customer]"
   ]
  },
  {
   "cell_type": "code",
   "execution_count": 271,
   "id": "1e74c121",
   "metadata": {
    "execution": {
     "iopub.execute_input": "2023-10-11T14:45:19.206389Z",
     "iopub.status.busy": "2023-10-11T14:45:19.205640Z",
     "iopub.status.idle": "2023-10-11T14:45:19.216632Z",
     "shell.execute_reply": "2023-10-11T14:45:19.215703Z"
    },
    "papermill": {
     "duration": 0.103598,
     "end_time": "2023-10-11T14:45:19.218873",
     "exception": false,
     "start_time": "2023-10-11T14:45:19.115275",
     "status": "completed"
    },
    "tags": []
   },
   "outputs": [
    {
     "data": {
      "text/html": [
       "<div>\n",
       "<style scoped>\n",
       "    .dataframe tbody tr th:only-of-type {\n",
       "        vertical-align: middle;\n",
       "    }\n",
       "\n",
       "    .dataframe tbody tr th {\n",
       "        vertical-align: top;\n",
       "    }\n",
       "\n",
       "    .dataframe thead th {\n",
       "        text-align: right;\n",
       "    }\n",
       "</style>\n",
       "<table border=\"1\" class=\"dataframe\">\n",
       "  <thead>\n",
       "    <tr style=\"text-align: right;\">\n",
       "      <th></th>\n",
       "      <th>PRICE</th>\n",
       "      <th>SEGMENT</th>\n",
       "    </tr>\n",
       "  </thead>\n",
       "  <tbody>\n",
       "    <tr>\n",
       "      <th>72</th>\n",
       "      <td>41.833333</td>\n",
       "      <td>A</td>\n",
       "    </tr>\n",
       "  </tbody>\n",
       "</table>\n",
       "</div>"
      ],
      "text/plain": [
       "        PRICE SEGMENT\n",
       "72  41.833333       A"
      ]
     },
     "execution_count": 271,
     "metadata": {},
     "output_type": "execute_result"
    }
   ],
   "source": [
    "reseted_df[reseted_df[\"customers_level_based\"]==new_customer][[\"PRICE\",\"SEGMENT\"]]"
   ]
  },
  {
   "cell_type": "markdown",
   "id": "5a6e3530",
   "metadata": {
    "papermill": {
     "duration": 0.088339,
     "end_time": "2023-10-11T14:45:19.395006",
     "exception": false,
     "start_time": "2023-10-11T14:45:19.306667",
     "status": "completed"
    },
    "tags": []
   },
   "source": [
    "* **All in One Function**"
   ]
  },
  {
   "cell_type": "code",
   "execution_count": 272,
   "id": "eaeb394d",
   "metadata": {
    "execution": {
     "iopub.execute_input": "2023-10-11T14:45:19.575157Z",
     "iopub.status.busy": "2023-10-11T14:45:19.574451Z",
     "iopub.status.idle": "2023-10-11T14:45:19.600280Z",
     "shell.execute_reply": "2023-10-11T14:45:19.598538Z"
    },
    "papermill": {
     "duration": 0.119238,
     "end_time": "2023-10-11T14:45:19.602675",
     "exception": false,
     "start_time": "2023-10-11T14:45:19.483437",
     "status": "completed"
    },
    "tags": []
   },
   "outputs": [
    {
     "data": {
      "text/plain": [
       "'FRA_IOS_FEMALE_31_40 Average Income: 32.82, Segment: C'"
      ]
     },
     "execution_count": 272,
     "metadata": {},
     "output_type": "execute_result"
    }
   ],
   "source": [
    "def all_in_one(df , customer):\n",
    "    df = df.groupby([\"COUNTRY\",\"SOURCE\",\"SEX\",\"AGE\"]).agg({\"PRICE\": \"mean\"}).sort_values(by=\"PRICE\",ascending=False).reset_index()\n",
    "    df[\"AGE_CAT\"] = pd.cut(df[\"AGE\"], bins=[0, 18, 23, 30, 40, df[\"AGE\"].max()],\n",
    "                                        labels=['0_18', '19_23', '24_30', '31_40', f'41_{df[\"AGE\"].max()}'])\n",
    "    df[\"customers_level_based\"] = [f\"{i[0]}_{i[1]}_{i[2]}_{i[5]}\".upper() for i in df.values]\n",
    "    df = df.groupby(\"customers_level_based\").agg({\"PRICE\": \"mean\"})\n",
    "    df[\"SEGMENT\"] = pd.qcut(df[\"PRICE\"], q=4, labels=[\"D\", \"C\", \"B\", \"A\"])\n",
    "    df.reset_index(inplace=True)\n",
    "    result = df[df[\"customers_level_based\"] == customer][[\"PRICE\", \"SEGMENT\"]]\n",
    "    return (f\"{new_customer} Average Income: {result.iloc[0][0].round(2)}, Segment: {result.iloc[0][1]}\")\n",
    "\n",
    "\n",
    "new_customer = \"TUR_ANDROID_FEMALE_31_40\"\n",
    "new_customer = \"FRA_IOS_FEMALE_31_40\"\n",
    "\n",
    "all_in_one(df,new_customer)"
   ]
  }
 ],
 "metadata": {
  "kernelspec": {
   "display_name": "Python 3",
   "language": "python",
   "name": "python3"
  },
  "language_info": {
   "codemirror_mode": {
    "name": "ipython",
    "version": 3
   },
   "file_extension": ".py",
   "mimetype": "text/x-python",
   "name": "python",
   "nbconvert_exporter": "python",
   "pygments_lexer": "ipython3",
   "version": "3.10.12"
  },
  "papermill": {
   "default_parameters": {},
   "duration": 74.654734,
   "end_time": "2023-10-11T14:45:20.716521",
   "environment_variables": {},
   "exception": null,
   "input_path": "__notebook__.ipynb",
   "output_path": "__notebook__.ipynb",
   "parameters": {},
   "start_time": "2023-10-11T14:44:06.061787",
   "version": "2.4.0"
  }
 },
 "nbformat": 4,
 "nbformat_minor": 5
}
