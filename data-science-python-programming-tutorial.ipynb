{
 "cells": [
  {
   "cell_type": "markdown",
   "id": "39583f6e",
   "metadata": {
    "papermill": {
     "duration": 0.038717,
     "end_time": "2023-10-15T10:14:46.406709",
     "exception": false,
     "start_time": "2023-10-15T10:14:46.367992",
     "status": "completed"
    },
    "tags": []
   },
   "source": [
    "<h1 style=\"background-color:#3d85c6;font-family:courier;font-size:350%;font-style: oblique;font-weight: bold;font-variant: small-caps;text-align:center;border-radius: 15px 50px;\"> Python Programming Tutorial </h1>"
   ]
  },
  {
   "cell_type": "markdown",
   "id": "63faadbe",
   "metadata": {
    "papermill": {
     "duration": 0.034972,
     "end_time": "2023-10-15T10:14:46.476101",
     "exception": false,
     "start_time": "2023-10-15T10:14:46.441129",
     "status": "completed"
    },
    "tags": []
   },
   "source": [
    "# Content\n",
    "\n",
    "1. [Introduction](#1)\n",
    "1. [Python Basics](#2)\n",
    "    * [Numbers](#3)\n",
    "    * [Strings](#4)\n",
    "    * [Variables](#5)\n",
    "    * [Mathematical Operators](#6)\n",
    "    * [Print](#7)\n",
    "    * [Lists](#8)\n",
    "    * [Tuples](#9)\n",
    "    * [Dictionaries](#10)\n",
    "    * [Sets](#11)\n",
    "    * [Comparing Data Structures](#12)\n",
    "1. [Functions](#13)\n",
    "    * [Overview](#14)\n",
    "    * [Local & Global Variables](#15)\n",
    "1. [Conditional Statements & Loops](#16)\n",
    "    * [True & False](#17)\n",
    "    * [If - Elif - Else](#18)\n",
    "    * [For - While](#19)\n",
    "1. [Classes](#20)\n",
    "1. [Comprehensions](#21)\n",
    "1. [Functional Programming](#22)\n",
    "1. [Exception/Error Types](#23)\n",
    "1. [Virtual Environment & Package Management](#24)"
   ]
  },
  {
   "cell_type": "markdown",
   "id": "a308fe19",
   "metadata": {
    "papermill": {
     "duration": 0.034064,
     "end_time": "2023-10-15T10:14:46.544421",
     "exception": false,
     "start_time": "2023-10-15T10:14:46.510357",
     "status": "completed"
    },
    "tags": []
   },
   "source": [
    "<a id = \"1\"></a><br>\n",
    "<h1 style=\"background-color:#fbb714;font-family:courier;font-size:300%;font-style: oblique;font-weight: bold;font-variant: small-caps;text-align:center;border-radius: 15px 50px;\"> Introduction </h1>"
   ]
  },
  {
   "cell_type": "markdown",
   "id": "d2daa407",
   "metadata": {
    "papermill": {
     "duration": 0.035191,
     "end_time": "2023-10-15T10:14:46.616509",
     "exception": false,
     "start_time": "2023-10-15T10:14:46.581318",
     "status": "completed"
    },
    "tags": []
   },
   "source": [
    "Python is a high-level, interpreted, and dynamically typed programming language. It was created by Guido van Rossum and first released in 1991. Python is known for its simplicity, readability, and ease of use, making it a popular choice for beginners and experienced developers alike.\n",
    "\n",
    "* Key features of Python:\n",
    "\n",
    "**Easy to Learn and Read:** Python has a clear and concise syntax that emphasizes readability. This reduces the cost of program maintenance and makes it easier for developers to understand each other's code.\n",
    "\n",
    "**Interpreted Language:** Python does not require a separate compilation step. Instead, it is interpreted, meaning that the Python interpreter reads and executes the code line by line.\n",
    "\n",
    "**Dynamically Typed:** Python uses dynamic typing, which means you don't need to specify the data types of variables explicitly. The data type is determined during runtime.\n",
    "\n",
    "**Versatile and General-Purpose:** Python is a general-purpose programming language, meaning it can be used for a wide range of applications, including web development, data analysis, artificial intelligence, automation, scientific computing, and more.\n",
    "\n",
    "**Large Standard Library:** Python comes with a large standard library that provides numerous modules and packages, making it easy to perform various tasks without writing additional code.\n",
    "\n",
    "**Object-Oriented and Functional Programming:** Python supports both object-oriented programming (OOP) and functional programming paradigms, allowing developers to use different programming styles based on their needs.\n",
    "\n",
    "**Cross-Platform:** Python code is portable and can run on various operating systems, including Windows, macOS, and Linux.\n",
    "\n",
    "**Community and Ecosystem:** Python has a vibrant and active community, which contributes to its popularity. There is a vast ecosystem of third-party libraries and frameworks that extend Python's capabilities.\n",
    "\n",
    "**Indentation and Readability:** Python enforces code indentation to define blocks of code, making the code structure visually clear and enhancing readability."
   ]
  },
  {
   "cell_type": "markdown",
   "id": "fb1d3a82",
   "metadata": {
    "papermill": {
     "duration": 0.034338,
     "end_time": "2023-10-15T10:14:46.685501",
     "exception": false,
     "start_time": "2023-10-15T10:14:46.651163",
     "status": "completed"
    },
    "tags": []
   },
   "source": [
    "<a id = \"2\"></a><br>\n",
    "<h1 style=\"background-color:#fbb714;font-family:courier;font-size:300%;font-style: oblique;font-weight: bold;font-variant: small-caps;text-align:center;border-radius: 15px 50px;\"> Python Basics </h1>"
   ]
  },
  {
   "cell_type": "markdown",
   "id": "99086999",
   "metadata": {
    "papermill": {
     "duration": 0.034554,
     "end_time": "2023-10-15T10:14:46.756714",
     "exception": false,
     "start_time": "2023-10-15T10:14:46.722160",
     "status": "completed"
    },
    "tags": []
   },
   "source": [
    "<a id = \"3\"></a><br>\n",
    "<h1 style=\"background-color:#ADD8E6;font-family:courier;font-size:250%;font-style: oblique;font-weight: bold;font-variant: small-caps;text-align:center;border-radius: 15px 50px;\"> Numbers </h1>\n",
    "\n",
    "In Python, \"numbers\" refer to the data type used to represent numerical values. Python provides several built-in numeric data types that allow you to work with different kinds of numbers.\n",
    "\n",
    "* The main numeric data types in Python are:\n",
    "\n",
    "    1. **Integers:** Integers are whole numbers, such as -2, -1, 0, 1, 2, etc. In Python, integers have unlimited precision, meaning they can be as large as your system's memory allows.\n",
    "\n",
    "    2. **Floating-Point Numbers:** Floating-point numbers are decimal numbers, like 3.14, 2.71828, -1.5, etc. Python follows the IEEE 754 standard for floating-point representation, which provides a certain precision for these numbers.\n",
    "\n",
    "    3. **Complex Numbers:** Complex numbers are represented as a combination of a real part and an imaginary part. They are written in the form a + bj, where a is the real part, b is the imaginary part, and j represents the square root of -1.\n",
    "\n",
    "Python supports arithmetic operations for these numeric types, such as addition, subtraction, multiplication, division, and more. The numeric data types in Python are essential for performing mathematical calculations and are widely used in various applications, including scientific computing, data analysis, and general-purpose programming."
   ]
  },
  {
   "cell_type": "code",
   "execution_count": 1,
   "id": "48587e0f",
   "metadata": {
    "execution": {
     "iopub.execute_input": "2023-10-15T10:14:46.827263Z",
     "iopub.status.busy": "2023-10-15T10:14:46.826751Z",
     "iopub.status.idle": "2023-10-15T10:14:46.838746Z",
     "shell.execute_reply": "2023-10-15T10:14:46.837836Z"
    },
    "papermill": {
     "duration": 0.04992,
     "end_time": "2023-10-15T10:14:46.841019",
     "exception": false,
     "start_time": "2023-10-15T10:14:46.791099",
     "status": "completed"
    },
    "tags": []
   },
   "outputs": [],
   "source": [
    "# Example of using numbers\n",
    "\n",
    "# Integers\n",
    "\n",
    "x = 10\n",
    "y = -5"
   ]
  },
  {
   "cell_type": "code",
   "execution_count": 2,
   "id": "e6b57d76",
   "metadata": {
    "execution": {
     "iopub.execute_input": "2023-10-15T10:14:46.912773Z",
     "iopub.status.busy": "2023-10-15T10:14:46.912319Z",
     "iopub.status.idle": "2023-10-15T10:14:46.916783Z",
     "shell.execute_reply": "2023-10-15T10:14:46.915910Z"
    },
    "papermill": {
     "duration": 0.043404,
     "end_time": "2023-10-15T10:14:46.918567",
     "exception": false,
     "start_time": "2023-10-15T10:14:46.875163",
     "status": "completed"
    },
    "tags": []
   },
   "outputs": [],
   "source": [
    "# Floating-point numbers\n",
    "\n",
    "pi = 3.14159\n",
    "e = 2.71828"
   ]
  },
  {
   "cell_type": "code",
   "execution_count": 3,
   "id": "3152c30f",
   "metadata": {
    "execution": {
     "iopub.execute_input": "2023-10-15T10:14:46.989241Z",
     "iopub.status.busy": "2023-10-15T10:14:46.988800Z",
     "iopub.status.idle": "2023-10-15T10:14:46.993885Z",
     "shell.execute_reply": "2023-10-15T10:14:46.992809Z"
    },
    "papermill": {
     "duration": 0.042768,
     "end_time": "2023-10-15T10:14:46.996068",
     "exception": false,
     "start_time": "2023-10-15T10:14:46.953300",
     "status": "completed"
    },
    "tags": []
   },
   "outputs": [],
   "source": [
    "# Complex numbers\n",
    "\n",
    "z = 2 + 3j\n",
    "w = -1.5 + 2.5j"
   ]
  },
  {
   "cell_type": "markdown",
   "id": "18785238",
   "metadata": {
    "papermill": {
     "duration": 0.034694,
     "end_time": "2023-10-15T10:14:47.065819",
     "exception": false,
     "start_time": "2023-10-15T10:14:47.031125",
     "status": "completed"
    },
    "tags": []
   },
   "source": [
    "<a id = \"4\"></a><br>\n",
    "<h1 style=\"background-color:#ADD8E6;font-family:courier;font-size:250%;font-style: oblique;font-weight: bold;font-variant: small-caps;text-align:center;border-radius: 15px 50px;\"> Strings </h1>\n",
    "\n",
    "In Python, a \"string\" is a sequence of characters enclosed within either single **quotes (')** or **double quotes (\")**. Strings are used to represent textual data and are one of the fundamental data types in Python. They can contain letters, numbers, symbols, spaces, and special characters."
   ]
  },
  {
   "cell_type": "code",
   "execution_count": 4,
   "id": "47e4ac44",
   "metadata": {
    "execution": {
     "iopub.execute_input": "2023-10-15T10:14:47.136588Z",
     "iopub.status.busy": "2023-10-15T10:14:47.135825Z",
     "iopub.status.idle": "2023-10-15T10:14:47.140330Z",
     "shell.execute_reply": "2023-10-15T10:14:47.139420Z"
    },
    "papermill": {
     "duration": 0.042429,
     "end_time": "2023-10-15T10:14:47.142319",
     "exception": false,
     "start_time": "2023-10-15T10:14:47.099890",
     "status": "completed"
    },
    "tags": []
   },
   "outputs": [],
   "source": [
    "# Examples of strings\n",
    "\n",
    "name = 'John'\n",
    "message = \"Hello, World!\"\n",
    "address = '123 Main Street'\n",
    "description = \"It's a beautiful day.\""
   ]
  },
  {
   "cell_type": "markdown",
   "id": "bd815fde",
   "metadata": {
    "papermill": {
     "duration": 0.034106,
     "end_time": "2023-10-15T10:14:47.210577",
     "exception": false,
     "start_time": "2023-10-15T10:14:47.176471",
     "status": "completed"
    },
    "tags": []
   },
   "source": [
    "* Strings in Python are immutable, which means once a string is created, you cannot change its individual characters. However, you can perform various operations on strings, such as concatenation (combining strings), slicing (extracting a portion of a string), and formatting (using placeholders to insert values into a string)."
   ]
  },
  {
   "cell_type": "code",
   "execution_count": 5,
   "id": "50b01733",
   "metadata": {
    "execution": {
     "iopub.execute_input": "2023-10-15T10:14:47.281929Z",
     "iopub.status.busy": "2023-10-15T10:14:47.281113Z",
     "iopub.status.idle": "2023-10-15T10:14:47.286312Z",
     "shell.execute_reply": "2023-10-15T10:14:47.285655Z"
    },
    "papermill": {
     "duration": 0.043364,
     "end_time": "2023-10-15T10:14:47.288226",
     "exception": false,
     "start_time": "2023-10-15T10:14:47.244862",
     "status": "completed"
    },
    "tags": []
   },
   "outputs": [
    {
     "name": "stdout",
     "output_type": "stream",
     "text": [
      "John Doe\n"
     ]
    }
   ],
   "source": [
    "# Example of string concatenation\n",
    "\n",
    "first_name = \"John\"\n",
    "last_name = \"Doe\"\n",
    "full_name = first_name + \" \" + last_name\n",
    "print(full_name)  # Output: \"John Doe\""
   ]
  },
  {
   "cell_type": "code",
   "execution_count": 6,
   "id": "320e269d",
   "metadata": {
    "execution": {
     "iopub.execute_input": "2023-10-15T10:14:47.363688Z",
     "iopub.status.busy": "2023-10-15T10:14:47.362939Z",
     "iopub.status.idle": "2023-10-15T10:14:47.368876Z",
     "shell.execute_reply": "2023-10-15T10:14:47.367299Z"
    },
    "papermill": {
     "duration": 0.045901,
     "end_time": "2023-10-15T10:14:47.371134",
     "exception": false,
     "start_time": "2023-10-15T10:14:47.325233",
     "status": "completed"
    },
    "tags": []
   },
   "outputs": [
    {
     "name": "stdout",
     "output_type": "stream",
     "text": [
      "Hello\n",
      "World!\n"
     ]
    }
   ],
   "source": [
    "# Example of string slicing\n",
    "\n",
    "text = \"Hello, World!\"\n",
    "print(text[0:5])  # Output: \"Hello\"\n",
    "print(text[7:])   # Output: \"World!\""
   ]
  },
  {
   "cell_type": "markdown",
   "id": "c35246c2",
   "metadata": {
    "papermill": {
     "duration": 0.034158,
     "end_time": "2023-10-15T10:14:47.441223",
     "exception": false,
     "start_time": "2023-10-15T10:14:47.407065",
     "status": "completed"
    },
    "tags": []
   },
   "source": [
    "<div style=\"border-radius:10px; border:#DEB887 solid; padding: 15px; background-color: #FFFAF0; font-size:100%; text-align:left\">\n",
    "\n",
    "<h3 align=\"left\"><font color='#DEB887'>💡 Notes: </font></h3>\n",
    "    \n",
    "* Strings also have numerous built-in methods that allow you to manipulate and transform strings easily:\n",
    "\n",
    "    1. **len():** Returns the length (number of characters) of the string.\n",
    "    2. **lower(), upper():** Converts the string to lowercase or uppercase, respectively.\n",
    "    3. **strip(), lstrip(), rstrip():** Removes leading/trailing whitespaces from the string.\n",
    "    4. **replace(old, new):** Replaces occurrences of a substring with another substring.\n",
    "    5. **find(substring), index(substring):** Searches for the first occurrence of a substring and returns its starting index. The difference is that find() returns -1 if the substring is not found, while index() raises a ValueError in that case.\n",
    "    6. **startswith(prefix), endswith(suffix):** Checks if the string starts with a specific prefix or ends with a specific suffix.\n",
    "    7. **split(separator):** Splits the string into a list of substrings based on the provided separator.\n",
    "    8. **join(iterable):** Joins elements of an iterable (like a list) into a single string using the string as a separator.\n",
    "\n",
    "These are just a few of the most commonly used string methods in Python. There are many more available, each serving different purposes, and you can find them in Python's official documentation. Using these methods, you can easily manipulate and process strings in various ways to suit your needs."
   ]
  },
  {
   "cell_type": "code",
   "execution_count": 7,
   "id": "a3a208ac",
   "metadata": {
    "execution": {
     "iopub.execute_input": "2023-10-15T10:14:47.514762Z",
     "iopub.status.busy": "2023-10-15T10:14:47.514000Z",
     "iopub.status.idle": "2023-10-15T10:14:47.519309Z",
     "shell.execute_reply": "2023-10-15T10:14:47.517970Z"
    },
    "papermill": {
     "duration": 0.045939,
     "end_time": "2023-10-15T10:14:47.521986",
     "exception": false,
     "start_time": "2023-10-15T10:14:47.476047",
     "status": "completed"
    },
    "tags": []
   },
   "outputs": [
    {
     "name": "stdout",
     "output_type": "stream",
     "text": [
      "13\n"
     ]
    }
   ],
   "source": [
    "# Examples of string methods\n",
    "\n",
    "# len():\n",
    "\n",
    "text = \"Hello, World!\"\n",
    "print(len(text))  # Output: 13"
   ]
  },
  {
   "cell_type": "code",
   "execution_count": 8,
   "id": "3b73945f",
   "metadata": {
    "execution": {
     "iopub.execute_input": "2023-10-15T10:14:47.596443Z",
     "iopub.status.busy": "2023-10-15T10:14:47.595967Z",
     "iopub.status.idle": "2023-10-15T10:14:47.602762Z",
     "shell.execute_reply": "2023-10-15T10:14:47.601277Z"
    },
    "papermill": {
     "duration": 0.045927,
     "end_time": "2023-10-15T10:14:47.604703",
     "exception": false,
     "start_time": "2023-10-15T10:14:47.558776",
     "status": "completed"
    },
    "tags": []
   },
   "outputs": [
    {
     "name": "stdout",
     "output_type": "stream",
     "text": [
      "hello, python!\n",
      "HELLO, PYTHON!\n"
     ]
    }
   ],
   "source": [
    "# lower(), upper()\n",
    "\n",
    "text = \"Hello, Python!\"\n",
    "print(text.lower())  # Output: \"hello, python!\"\n",
    "print(text.upper())  # Output: \"HELLO, PYTHON!\""
   ]
  },
  {
   "cell_type": "code",
   "execution_count": 9,
   "id": "0d9cd230",
   "metadata": {
    "execution": {
     "iopub.execute_input": "2023-10-15T10:14:47.676968Z",
     "iopub.status.busy": "2023-10-15T10:14:47.675539Z",
     "iopub.status.idle": "2023-10-15T10:14:47.682386Z",
     "shell.execute_reply": "2023-10-15T10:14:47.680795Z"
    },
    "papermill": {
     "duration": 0.045384,
     "end_time": "2023-10-15T10:14:47.684593",
     "exception": false,
     "start_time": "2023-10-15T10:14:47.639209",
     "status": "completed"
    },
    "tags": []
   },
   "outputs": [
    {
     "name": "stdout",
     "output_type": "stream",
     "text": [
      "Hello, Python!\n",
      "Hello, Python!   \n",
      "   Hello, Python!\n"
     ]
    }
   ],
   "source": [
    "# strip(), lstrip(), rstrip()\n",
    "\n",
    "text = \"   Hello, Python!   \"\n",
    "print(text.strip())   # Output: \"Hello, Python!\"\n",
    "print(text.lstrip())  # Output: \"Hello, Python!   \"\n",
    "print(text.rstrip())  # Output: \"   Hello, Python!\""
   ]
  },
  {
   "cell_type": "code",
   "execution_count": 10,
   "id": "8919e696",
   "metadata": {
    "execution": {
     "iopub.execute_input": "2023-10-15T10:14:47.758628Z",
     "iopub.status.busy": "2023-10-15T10:14:47.758197Z",
     "iopub.status.idle": "2023-10-15T10:14:47.763832Z",
     "shell.execute_reply": "2023-10-15T10:14:47.762693Z"
    },
    "papermill": {
     "duration": 0.045307,
     "end_time": "2023-10-15T10:14:47.766013",
     "exception": false,
     "start_time": "2023-10-15T10:14:47.720706",
     "status": "completed"
    },
    "tags": []
   },
   "outputs": [
    {
     "name": "stdout",
     "output_type": "stream",
     "text": [
      "Hello, World!\n"
     ]
    }
   ],
   "source": [
    "# replace(old, new)\n",
    "\n",
    "text = \"Hello, Python!\"\n",
    "new_text = text.replace(\"Python\", \"World\")\n",
    "print(new_text)  # Output: \"Hello, World!\""
   ]
  },
  {
   "cell_type": "code",
   "execution_count": 11,
   "id": "2fa234df",
   "metadata": {
    "execution": {
     "iopub.execute_input": "2023-10-15T10:14:47.839415Z",
     "iopub.status.busy": "2023-10-15T10:14:47.838689Z",
     "iopub.status.idle": "2023-10-15T10:14:47.844268Z",
     "shell.execute_reply": "2023-10-15T10:14:47.843203Z"
    },
    "papermill": {
     "duration": 0.044585,
     "end_time": "2023-10-15T10:14:47.846116",
     "exception": false,
     "start_time": "2023-10-15T10:14:47.801531",
     "status": "completed"
    },
    "tags": []
   },
   "outputs": [
    {
     "name": "stdout",
     "output_type": "stream",
     "text": [
      "7\n",
      "7\n"
     ]
    }
   ],
   "source": [
    "# find(substring), index(substring)\n",
    "\n",
    "text = \"Hello, Python!\"\n",
    "print(text.find(\"Python\"))  # Output: 7\n",
    "print(text.index(\"Python\")) # Output: 7"
   ]
  },
  {
   "cell_type": "code",
   "execution_count": 12,
   "id": "f50bd7f6",
   "metadata": {
    "execution": {
     "iopub.execute_input": "2023-10-15T10:14:47.920285Z",
     "iopub.status.busy": "2023-10-15T10:14:47.919833Z",
     "iopub.status.idle": "2023-10-15T10:14:47.925664Z",
     "shell.execute_reply": "2023-10-15T10:14:47.924594Z"
    },
    "papermill": {
     "duration": 0.046282,
     "end_time": "2023-10-15T10:14:47.928273",
     "exception": false,
     "start_time": "2023-10-15T10:14:47.881991",
     "status": "completed"
    },
    "tags": []
   },
   "outputs": [
    {
     "name": "stdout",
     "output_type": "stream",
     "text": [
      "True\n",
      "True\n"
     ]
    }
   ],
   "source": [
    "# startswith(prefix), endswith(suffix)\n",
    "\n",
    "text = \"Hello, Python!\"\n",
    "print(text.startswith(\"Hello\"))  # Output: True\n",
    "print(text.endswith(\"Python!\"))  # Output: True"
   ]
  },
  {
   "cell_type": "code",
   "execution_count": 13,
   "id": "82f9f47a",
   "metadata": {
    "execution": {
     "iopub.execute_input": "2023-10-15T10:14:48.006215Z",
     "iopub.status.busy": "2023-10-15T10:14:48.005851Z",
     "iopub.status.idle": "2023-10-15T10:14:48.012113Z",
     "shell.execute_reply": "2023-10-15T10:14:48.011080Z"
    },
    "papermill": {
     "duration": 0.048287,
     "end_time": "2023-10-15T10:14:48.014124",
     "exception": false,
     "start_time": "2023-10-15T10:14:47.965837",
     "status": "completed"
    },
    "tags": []
   },
   "outputs": [
    {
     "name": "stdout",
     "output_type": "stream",
     "text": [
      "['apple', 'banana', 'orange']\n"
     ]
    }
   ],
   "source": [
    "# split(separator)\n",
    "\n",
    "text = \"apple, banana, orange\"\n",
    "fruits = text.split(\", \")\n",
    "print(fruits)  # Output: ['apple', 'banana', 'orange']"
   ]
  },
  {
   "cell_type": "code",
   "execution_count": 14,
   "id": "82b7fa62",
   "metadata": {
    "execution": {
     "iopub.execute_input": "2023-10-15T10:14:48.089581Z",
     "iopub.status.busy": "2023-10-15T10:14:48.089199Z",
     "iopub.status.idle": "2023-10-15T10:14:48.095273Z",
     "shell.execute_reply": "2023-10-15T10:14:48.094163Z"
    },
    "papermill": {
     "duration": 0.046969,
     "end_time": "2023-10-15T10:14:48.097958",
     "exception": false,
     "start_time": "2023-10-15T10:14:48.050989",
     "status": "completed"
    },
    "tags": []
   },
   "outputs": [
    {
     "name": "stdout",
     "output_type": "stream",
     "text": [
      "apple, banana, orange\n"
     ]
    }
   ],
   "source": [
    "# join(iterable)\n",
    "\n",
    "fruits = ['apple', 'banana', 'orange']\n",
    "text = \", \".join(fruits)\n",
    "print(text)  # Output: \"apple, banana, orange\""
   ]
  },
  {
   "cell_type": "markdown",
   "id": "70fb2e84",
   "metadata": {
    "papermill": {
     "duration": 0.038046,
     "end_time": "2023-10-15T10:14:48.172284",
     "exception": false,
     "start_time": "2023-10-15T10:14:48.134238",
     "status": "completed"
    },
    "tags": []
   },
   "source": [
    "* Now let's learn about substrings. A \"substring\" is a contiguous sequence of characters within a larger string. In other words, a substring is a part of a string that appears consecutively within the original string. For example, consider the string \"Python\" - it has several possible substrings, including \"P\", \"Py\", \"yth\", \"thon\", \"Python\", etc.\n",
    "\n",
    "* In Python, you can extract substrings from a string using slicing. Slicing allows you to specify a range of indices to extract a portion of the original string. The syntax for slicing is as follows:\n",
    "\n",
    "string[start_index:end_index]\n",
    "\n",
    "* Here, start_index is the index of the first character of the substring (inclusive), and end_index is the index of the character just after the last character of the substring (exclusive)."
   ]
  },
  {
   "cell_type": "code",
   "execution_count": 15,
   "id": "271b2dd1",
   "metadata": {
    "execution": {
     "iopub.execute_input": "2023-10-15T10:14:48.247951Z",
     "iopub.status.busy": "2023-10-15T10:14:48.247561Z",
     "iopub.status.idle": "2023-10-15T10:14:48.253332Z",
     "shell.execute_reply": "2023-10-15T10:14:48.252149Z"
    },
    "papermill": {
     "duration": 0.045845,
     "end_time": "2023-10-15T10:14:48.255515",
     "exception": false,
     "start_time": "2023-10-15T10:14:48.209670",
     "status": "completed"
    },
    "tags": []
   },
   "outputs": [],
   "source": [
    "# Example of substrings\n",
    "\n",
    "text = \"Hello, World!\"\n",
    "substring1 = text[0:5]  # \"Hello\"\n",
    "substring2 = text[7:]   # \"World!\""
   ]
  },
  {
   "cell_type": "markdown",
   "id": "dcb03b53",
   "metadata": {
    "papermill": {
     "duration": 0.035222,
     "end_time": "2023-10-15T10:14:48.326669",
     "exception": false,
     "start_time": "2023-10-15T10:14:48.291447",
     "status": "completed"
    },
    "tags": []
   },
   "source": [
    "* In this example, substring1 extracts characters from index 0 to index 4 (inclusive) from the text string, resulting in \"Hello\". substring2 extracts characters from index 7 to the end of the string, resulting in \"World!\".\n",
    "\n",
    "* You can also use negative indices for slicing, where -1 refers to the last character, -2 to the second-to-last character, and so on. If you omit the start_index, Python will assume it as 0, and if you omit the end_index, Python will assume it as the length of the string."
   ]
  },
  {
   "cell_type": "code",
   "execution_count": 16,
   "id": "d816baed",
   "metadata": {
    "execution": {
     "iopub.execute_input": "2023-10-15T10:14:48.401015Z",
     "iopub.status.busy": "2023-10-15T10:14:48.400531Z",
     "iopub.status.idle": "2023-10-15T10:14:48.406481Z",
     "shell.execute_reply": "2023-10-15T10:14:48.405086Z"
    },
    "papermill": {
     "duration": 0.045499,
     "end_time": "2023-10-15T10:14:48.409035",
     "exception": false,
     "start_time": "2023-10-15T10:14:48.363536",
     "status": "completed"
    },
    "tags": []
   },
   "outputs": [],
   "source": [
    "long_str = \"\"\"Veri Yapıları: Hızlı Özet, \n",
    "Sayılar (Numbers): int, float, complex, \n",
    "Karakter Dizileri (Strings): str, \n",
    "List, Dictionary, Tuple, Set, \n",
    "Boolean (TRUE-FALSE): bool\"\"\""
   ]
  },
  {
   "cell_type": "code",
   "execution_count": 17,
   "id": "f85f996a",
   "metadata": {
    "execution": {
     "iopub.execute_input": "2023-10-15T10:14:48.486461Z",
     "iopub.status.busy": "2023-10-15T10:14:48.486072Z",
     "iopub.status.idle": "2023-10-15T10:14:48.493094Z",
     "shell.execute_reply": "2023-10-15T10:14:48.491835Z"
    },
    "papermill": {
     "duration": 0.049295,
     "end_time": "2023-10-15T10:14:48.495428",
     "exception": false,
     "start_time": "2023-10-15T10:14:48.446133",
     "status": "completed"
    },
    "tags": []
   },
   "outputs": [
    {
     "data": {
      "text/plain": [
       "False"
      ]
     },
     "execution_count": 17,
     "metadata": {},
     "output_type": "execute_result"
    }
   ],
   "source": [
    "\"veri\" in long_str # False"
   ]
  },
  {
   "cell_type": "code",
   "execution_count": 18,
   "id": "31baee82",
   "metadata": {
    "execution": {
     "iopub.execute_input": "2023-10-15T10:14:48.572442Z",
     "iopub.status.busy": "2023-10-15T10:14:48.571998Z",
     "iopub.status.idle": "2023-10-15T10:14:48.579435Z",
     "shell.execute_reply": "2023-10-15T10:14:48.578195Z"
    },
    "papermill": {
     "duration": 0.048304,
     "end_time": "2023-10-15T10:14:48.581805",
     "exception": false,
     "start_time": "2023-10-15T10:14:48.533501",
     "status": "completed"
    },
    "tags": []
   },
   "outputs": [
    {
     "data": {
      "text/plain": [
       "True"
      ]
     },
     "execution_count": 18,
     "metadata": {},
     "output_type": "execute_result"
    }
   ],
   "source": [
    "\"Veri\" in long_str # True"
   ]
  },
  {
   "cell_type": "code",
   "execution_count": 19,
   "id": "1ba6324d",
   "metadata": {
    "execution": {
     "iopub.execute_input": "2023-10-15T10:14:48.658286Z",
     "iopub.status.busy": "2023-10-15T10:14:48.657427Z",
     "iopub.status.idle": "2023-10-15T10:14:48.664828Z",
     "shell.execute_reply": "2023-10-15T10:14:48.663646Z"
    },
    "papermill": {
     "duration": 0.046895,
     "end_time": "2023-10-15T10:14:48.667154",
     "exception": false,
     "start_time": "2023-10-15T10:14:48.620259",
     "status": "completed"
    },
    "tags": []
   },
   "outputs": [
    {
     "data": {
      "text/plain": [
       "True"
      ]
     },
     "execution_count": 19,
     "metadata": {},
     "output_type": "execute_result"
    }
   ],
   "source": [
    "\"bool\" in long_str # True"
   ]
  },
  {
   "cell_type": "code",
   "execution_count": 20,
   "id": "a2345dbd",
   "metadata": {
    "execution": {
     "iopub.execute_input": "2023-10-15T10:14:48.744718Z",
     "iopub.status.busy": "2023-10-15T10:14:48.744333Z",
     "iopub.status.idle": "2023-10-15T10:14:48.752137Z",
     "shell.execute_reply": "2023-10-15T10:14:48.750840Z"
    },
    "papermill": {
     "duration": 0.048542,
     "end_time": "2023-10-15T10:14:48.754092",
     "exception": false,
     "start_time": "2023-10-15T10:14:48.705550",
     "status": "completed"
    },
    "tags": []
   },
   "outputs": [
    {
     "data": {
      "text/plain": [
       "'Foo'"
      ]
     },
     "execution_count": 20,
     "metadata": {},
     "output_type": "execute_result"
    }
   ],
   "source": [
    "\"foo\".capitalize() # \"Foo\" - capitalize the first letter"
   ]
  },
  {
   "cell_type": "code",
   "execution_count": 21,
   "id": "3a8e9658",
   "metadata": {
    "execution": {
     "iopub.execute_input": "2023-10-15T10:14:48.830956Z",
     "iopub.status.busy": "2023-10-15T10:14:48.830142Z",
     "iopub.status.idle": "2023-10-15T10:14:48.834643Z",
     "shell.execute_reply": "2023-10-15T10:14:48.833822Z"
    },
    "papermill": {
     "duration": 0.045915,
     "end_time": "2023-10-15T10:14:48.837073",
     "exception": false,
     "start_time": "2023-10-15T10:14:48.791158",
     "status": "completed"
    },
    "tags": []
   },
   "outputs": [],
   "source": [
    "text = \"Hello, World!\"\n",
    "\n",
    "substring1 = text[:5]     # \"Hello\"\n",
    "substring2 = text[7:-1]   # \"World\""
   ]
  },
  {
   "cell_type": "markdown",
   "id": "67580c2c",
   "metadata": {
    "papermill": {
     "duration": 0.045726,
     "end_time": "2023-10-15T10:14:48.924427",
     "exception": false,
     "start_time": "2023-10-15T10:14:48.878701",
     "status": "completed"
    },
    "tags": []
   },
   "source": [
    "* Remember that when using slicing, the original string remains unchanged, and a new substring is created as a result of the slicing operation.\n",
    "\n",
    "* In addition to using slicing, you can also find substrings within a string using methods like find() or index(), as mentioned in the previous explanation of string methods. These methods allow you to locate the starting index of a specific substring within the original string."
   ]
  },
  {
   "cell_type": "code",
   "execution_count": 22,
   "id": "aeb0d59f",
   "metadata": {
    "execution": {
     "iopub.execute_input": "2023-10-15T10:14:49.007641Z",
     "iopub.status.busy": "2023-10-15T10:14:49.006207Z",
     "iopub.status.idle": "2023-10-15T10:14:49.016772Z",
     "shell.execute_reply": "2023-10-15T10:14:49.014682Z"
    },
    "papermill": {
     "duration": 0.058811,
     "end_time": "2023-10-15T10:14:49.020474",
     "exception": false,
     "start_time": "2023-10-15T10:14:48.961663",
     "status": "completed"
    },
    "tags": []
   },
   "outputs": [
    {
     "name": "stdout",
     "output_type": "stream",
     "text": [
      "['THE', 'GOAL', 'IS', 'TO', 'TURN', 'DATA', 'INTO', 'INFORMATION', 'AND', 'INFORMATION', 'INTO', 'INSIGHT']\n"
     ]
    }
   ],
   "source": [
    "text = \"The goal is to turn data into information, and information into insight.\"\n",
    "\n",
    "new_text = text.upper().replace(\".\", \" \").replace(\",\", \"\").strip().split(\" \")\n",
    "\n",
    "print(new_text)\n",
    "\n",
    "# ['THE', 'GOAL', 'IS', 'TO', 'TURN', 'DATA', 'INTO', 'INFORMATION', 'AND', 'INFORMATION', 'INTO', 'INSIGHT']"
   ]
  },
  {
   "cell_type": "markdown",
   "id": "6ca72781",
   "metadata": {
    "papermill": {
     "duration": 0.03651,
     "end_time": "2023-10-15T10:14:49.095263",
     "exception": false,
     "start_time": "2023-10-15T10:14:49.058753",
     "status": "completed"
    },
    "tags": []
   },
   "source": [
    "<a id = \"5\"></a><br>\n",
    "<h1 style=\"background-color:#ADD8E6;font-family:courier;font-size:250%;font-style: oblique;font-weight: bold;font-variant: small-caps;text-align:center;border-radius: 15px 50px;\"> Variables </h1>\n",
    "\n",
    "In Python, a \"variable\" is a name that refers to a value stored in memory. It serves as a way to label and reference data in the computer's memory. Variables allow you to store and manipulate data, making it easier to work with values throughout your Python programs."
   ]
  },
  {
   "cell_type": "markdown",
   "id": "a3c6dcbc",
   "metadata": {
    "papermill": {
     "duration": 0.037314,
     "end_time": "2023-10-15T10:14:49.187504",
     "exception": false,
     "start_time": "2023-10-15T10:14:49.150190",
     "status": "completed"
    },
    "tags": []
   },
   "source": [
    "**Variable Naming Rules:**\n",
    "\n",
    "* A variable name can contain letters (a-z, A-Z), digits (0-9), and underscores (_).\n",
    "* The first character of the variable name cannot be a digit.\n",
    "* Variable names are case-sensitive (e.g., myVar, myvar, and MYVAR are distinct variables).\n",
    "* Certain words are reserved for Python keywords (e.g., if, else, while, for, etc.) and cannot be used as variable names.\n",
    "\n",
    "**Variable Assignment:**\n",
    "\n",
    "* To create a variable and assign a value to it, you simply use the = operator.\n",
    "\n",
    "**Dynamic Typing:**\n",
    "\n",
    "* Python is dynamically typed, meaning you do not need to explicitly declare the data type of a variable. The data type is determined at runtime based on the value assigned to the variable.\n",
    "\n",
    "**Reassigning Variables:**\n",
    "\n",
    "* You can change the value of a variable by assigning a new value to it.\n",
    "\n",
    "**Variable Scope:**\n",
    "\n",
    "* The scope of a variable refers to the part of the program where the variable is accessible. Variables declared inside a function have local scope and are only accessible within that function. Variables declared outside any function have global scope and can be accessed throughout the entire program.\n",
    "\n",
    "**Variable Naming Conventions:**\n",
    "\n",
    "* While Python allows various naming styles for variables, it is common to use lowercase names for regular variables and uppercase names for constants. For multi-word variable names, the convention is to use underscores (_) to separate words (e.g., my_variable, CONSTANT_VALUE).\n",
    "\n",
    "**Multiple Assignment:**\n",
    "\n",
    "* Python supports multiple assignment, where you can assign values to multiple variables in a single line."
   ]
  },
  {
   "cell_type": "code",
   "execution_count": 23,
   "id": "d3081537",
   "metadata": {
    "execution": {
     "iopub.execute_input": "2023-10-15T10:14:49.266159Z",
     "iopub.status.busy": "2023-10-15T10:14:49.265443Z",
     "iopub.status.idle": "2023-10-15T10:14:49.270534Z",
     "shell.execute_reply": "2023-10-15T10:14:49.269721Z"
    },
    "papermill": {
     "duration": 0.047644,
     "end_time": "2023-10-15T10:14:49.272812",
     "exception": false,
     "start_time": "2023-10-15T10:14:49.225168",
     "status": "completed"
    },
    "tags": []
   },
   "outputs": [],
   "source": [
    "# In this example, three variables (x, name, and pi) are created and assigned different values;\n",
    "\n",
    "x = 42\n",
    "name = \"John\"\n",
    "pi = 3.14"
   ]
  },
  {
   "cell_type": "code",
   "execution_count": 24,
   "id": "dbdd3077",
   "metadata": {
    "execution": {
     "iopub.execute_input": "2023-10-15T10:14:49.373793Z",
     "iopub.status.busy": "2023-10-15T10:14:49.372989Z",
     "iopub.status.idle": "2023-10-15T10:14:49.377775Z",
     "shell.execute_reply": "2023-10-15T10:14:49.376959Z"
    },
    "papermill": {
     "duration": 0.056409,
     "end_time": "2023-10-15T10:14:49.380085",
     "exception": false,
     "start_time": "2023-10-15T10:14:49.323676",
     "status": "completed"
    },
    "tags": []
   },
   "outputs": [],
   "source": [
    "x = 42     # x is an integer\n",
    "name = \"John\"  # name is a string\n",
    "pi = 3.14  # pi is a floating-point number"
   ]
  },
  {
   "cell_type": "code",
   "execution_count": 25,
   "id": "c3ee5bba",
   "metadata": {
    "execution": {
     "iopub.execute_input": "2023-10-15T10:14:49.461677Z",
     "iopub.status.busy": "2023-10-15T10:14:49.461090Z",
     "iopub.status.idle": "2023-10-15T10:14:49.466962Z",
     "shell.execute_reply": "2023-10-15T10:14:49.465793Z"
    },
    "papermill": {
     "duration": 0.046602,
     "end_time": "2023-10-15T10:14:49.468854",
     "exception": false,
     "start_time": "2023-10-15T10:14:49.422252",
     "status": "completed"
    },
    "tags": []
   },
   "outputs": [],
   "source": [
    "x = 42\n",
    "x = x + 10  # Now x is 52"
   ]
  },
  {
   "cell_type": "code",
   "execution_count": 26,
   "id": "945454c8",
   "metadata": {
    "execution": {
     "iopub.execute_input": "2023-10-15T10:14:49.544993Z",
     "iopub.status.busy": "2023-10-15T10:14:49.544595Z",
     "iopub.status.idle": "2023-10-15T10:14:49.549283Z",
     "shell.execute_reply": "2023-10-15T10:14:49.548274Z"
    },
    "papermill": {
     "duration": 0.04507,
     "end_time": "2023-10-15T10:14:49.551296",
     "exception": false,
     "start_time": "2023-10-15T10:14:49.506226",
     "status": "completed"
    },
    "tags": []
   },
   "outputs": [],
   "source": [
    "a, b, c = 1, 2, 3\n",
    "\n",
    "# Here, a will be assigned 1, b will be assigned 2, and c will be assigned 3."
   ]
  },
  {
   "cell_type": "markdown",
   "id": "bb8b2247",
   "metadata": {
    "papermill": {
     "duration": 0.040065,
     "end_time": "2023-10-15T10:14:49.631006",
     "exception": false,
     "start_time": "2023-10-15T10:14:49.590941",
     "status": "completed"
    },
    "tags": []
   },
   "source": [
    "* Variables play a crucial role in Python programming as they enable data storage, retrieval, and manipulation, making it easier to write and understand code."
   ]
  },
  {
   "cell_type": "markdown",
   "id": "fad816d2",
   "metadata": {
    "papermill": {
     "duration": 0.039463,
     "end_time": "2023-10-15T10:14:49.711658",
     "exception": false,
     "start_time": "2023-10-15T10:14:49.672195",
     "status": "completed"
    },
    "tags": []
   },
   "source": [
    "<div style=\"border-radius:10px; border:#DEB887 solid; padding: 15px; background-color: #FFFAF0; font-size:100%; text-align:left\">\n",
    "\n",
    "<h3 align=\"left\"><font color='#DEB887'>💡 Variable Type Conversion: </font></h3>\n",
    "\n",
    "* **int():** Converts a value to an integer data type.\n",
    "* **float():** Converts a value to a floating-point data type.\n",
    "* **str():** Converts a value to a string data type.\n",
    "* **bool():** Converts a value to a boolean data type.\n",
    "* **list(), tuple(), set():** Converts a value to a list, tuple, or set data type, respectively.\n",
    "* **dict():** Converts a value to a dictionary data type. Note that the value must be an iterable of key-value pairs, such as a list of tuples.\n",
    "* **type():** returns the data type of the specified value"
   ]
  },
  {
   "cell_type": "code",
   "execution_count": 27,
   "id": "40f48a45",
   "metadata": {
    "execution": {
     "iopub.execute_input": "2023-10-15T10:14:49.794596Z",
     "iopub.status.busy": "2023-10-15T10:14:49.793660Z",
     "iopub.status.idle": "2023-10-15T10:14:49.803353Z",
     "shell.execute_reply": "2023-10-15T10:14:49.802117Z"
    },
    "papermill": {
     "duration": 0.054582,
     "end_time": "2023-10-15T10:14:49.805799",
     "exception": false,
     "start_time": "2023-10-15T10:14:49.751217",
     "status": "completed"
    },
    "tags": []
   },
   "outputs": [
    {
     "name": "stdout",
     "output_type": "stream",
     "text": [
      "<class 'int'>\n",
      "<class 'str'>\n",
      "<class 'list'>\n",
      "<class 'float'>\n"
     ]
    }
   ],
   "source": [
    "# int():\n",
    "\n",
    "x = \"42\"\n",
    "int_x = int(x)  # int_x will be 42 (an integer)\n",
    "\n",
    "# float():\n",
    "\n",
    "y = \"3.14\"\n",
    "float_y = float(y)  # float_y will be 3.14 (a floating-point number)\n",
    "\n",
    "# str():\n",
    "\n",
    "z = 42\n",
    "str_z = str(z)  # str_z will be \"42\" (a string)\n",
    "\n",
    "# bool():\n",
    "\n",
    "number = 10\n",
    "is_positive = bool(number)  # is_positive will be True\n",
    "zero = 0\n",
    "is_zero = bool(zero)  # is_zero will be False\n",
    "\n",
    "# list(), tuple(), set():\n",
    "\n",
    "string = \"Hello\"\n",
    "list_string = list(string)  # list_string will be ['H', 'e', 'l', 'l', 'o']\n",
    "tuple_string = tuple(string)  # tuple_string will be ('H', 'e', 'l', 'l', 'o')\n",
    "set_string = set(string)  # set_string will be {'H', 'e', 'l', 'o'}\n",
    "\n",
    "# dict():\n",
    "\n",
    "pairs = [(\"a\", 1), (\"b\", 2), (\"c\", 3)]\n",
    "dictionary = dict(pairs)  # dictionary will be {'a': 1, 'b': 2, 'c': 3}\n",
    "\n",
    "# type():\n",
    "\n",
    "x = 42\n",
    "y = \"Hello, World!\"\n",
    "z = [1, 2, 3]\n",
    "pi = 3.14\n",
    "\n",
    "print(type(x))   # Output: <class 'int'>\n",
    "print(type(y))   # Output: <class 'str'>\n",
    "print(type(z))   # Output: <class 'list'>\n",
    "print(type(pi))  # Output: <class 'float'>"
   ]
  },
  {
   "cell_type": "markdown",
   "id": "8d0f5d86",
   "metadata": {
    "papermill": {
     "duration": 0.038664,
     "end_time": "2023-10-15T10:14:49.883238",
     "exception": false,
     "start_time": "2023-10-15T10:14:49.844574",
     "status": "completed"
    },
    "tags": []
   },
   "source": [
    "<a id = \"6\"></a><br>\n",
    "<h1 style=\"background-color:#ADD8E6;font-family:courier;font-size:250%;font-style: oblique;font-weight: bold;font-variant: small-caps;text-align:center;border-radius: 15px 50px;\"> Mathematical Operators </h1>\n",
    "\n",
    "In Python, mathematical operators are used to perform various arithmetic operations on numbers and variables. Python supports the standard set of arithmetic operators that you would find in most programming languages. \n",
    "\n",
    "* Here are the common mathematical operators in Python:"
   ]
  },
  {
   "cell_type": "code",
   "execution_count": 28,
   "id": "c68739a9",
   "metadata": {
    "execution": {
     "iopub.execute_input": "2023-10-15T10:14:49.972011Z",
     "iopub.status.busy": "2023-10-15T10:14:49.971103Z",
     "iopub.status.idle": "2023-10-15T10:14:49.977222Z",
     "shell.execute_reply": "2023-10-15T10:14:49.976107Z"
    },
    "papermill": {
     "duration": 0.05115,
     "end_time": "2023-10-15T10:14:49.979653",
     "exception": false,
     "start_time": "2023-10-15T10:14:49.928503",
     "status": "completed"
    },
    "tags": []
   },
   "outputs": [],
   "source": [
    "# Addition +:\n",
    "\n",
    "x = 5 + 3   # Result: 8\n",
    "y = \"Hello, \" + \"world!\"   # Result: \"Hello, world!\""
   ]
  },
  {
   "cell_type": "code",
   "execution_count": 29,
   "id": "7626822a",
   "metadata": {
    "execution": {
     "iopub.execute_input": "2023-10-15T10:14:50.163753Z",
     "iopub.status.busy": "2023-10-15T10:14:50.162874Z",
     "iopub.status.idle": "2023-10-15T10:14:50.168601Z",
     "shell.execute_reply": "2023-10-15T10:14:50.167637Z"
    },
    "papermill": {
     "duration": 0.147102,
     "end_time": "2023-10-15T10:14:50.171164",
     "exception": false,
     "start_time": "2023-10-15T10:14:50.024062",
     "status": "completed"
    },
    "tags": []
   },
   "outputs": [],
   "source": [
    "# Subtraction -:\n",
    "\n",
    "x = 10 - 4   # Result: 6"
   ]
  },
  {
   "cell_type": "code",
   "execution_count": 30,
   "id": "ae713195",
   "metadata": {
    "execution": {
     "iopub.execute_input": "2023-10-15T10:14:50.255084Z",
     "iopub.status.busy": "2023-10-15T10:14:50.254605Z",
     "iopub.status.idle": "2023-10-15T10:14:50.259819Z",
     "shell.execute_reply": "2023-10-15T10:14:50.258856Z"
    },
    "papermill": {
     "duration": 0.050944,
     "end_time": "2023-10-15T10:14:50.261857",
     "exception": false,
     "start_time": "2023-10-15T10:14:50.210913",
     "status": "completed"
    },
    "tags": []
   },
   "outputs": [],
   "source": [
    "# Multiplication *:\n",
    "\n",
    "x = 5 * 3   # Result: 15\n",
    "y = \"abc\" * 3   # Result: \"abcabcabc\""
   ]
  },
  {
   "cell_type": "code",
   "execution_count": 31,
   "id": "7238ffb6",
   "metadata": {
    "execution": {
     "iopub.execute_input": "2023-10-15T10:14:50.342279Z",
     "iopub.status.busy": "2023-10-15T10:14:50.341838Z",
     "iopub.status.idle": "2023-10-15T10:14:50.347583Z",
     "shell.execute_reply": "2023-10-15T10:14:50.346169Z"
    },
    "papermill": {
     "duration": 0.048503,
     "end_time": "2023-10-15T10:14:50.349839",
     "exception": false,
     "start_time": "2023-10-15T10:14:50.301336",
     "status": "completed"
    },
    "tags": []
   },
   "outputs": [],
   "source": [
    "# Division /:\n",
    "\n",
    "x = 10 / 2   # Result: 5.0"
   ]
  },
  {
   "cell_type": "code",
   "execution_count": 32,
   "id": "151fd135",
   "metadata": {
    "execution": {
     "iopub.execute_input": "2023-10-15T10:14:50.437803Z",
     "iopub.status.busy": "2023-10-15T10:14:50.437428Z",
     "iopub.status.idle": "2023-10-15T10:14:50.442795Z",
     "shell.execute_reply": "2023-10-15T10:14:50.441484Z"
    },
    "papermill": {
     "duration": 0.051951,
     "end_time": "2023-10-15T10:14:50.444923",
     "exception": false,
     "start_time": "2023-10-15T10:14:50.392972",
     "status": "completed"
    },
    "tags": []
   },
   "outputs": [],
   "source": [
    "# Integer Division //:\n",
    "\n",
    "x = 10 // 3   # Result: 3"
   ]
  },
  {
   "cell_type": "code",
   "execution_count": 33,
   "id": "16e64398",
   "metadata": {
    "execution": {
     "iopub.execute_input": "2023-10-15T10:14:50.526268Z",
     "iopub.status.busy": "2023-10-15T10:14:50.525917Z",
     "iopub.status.idle": "2023-10-15T10:14:50.531170Z",
     "shell.execute_reply": "2023-10-15T10:14:50.529718Z"
    },
    "papermill": {
     "duration": 0.048114,
     "end_time": "2023-10-15T10:14:50.533414",
     "exception": false,
     "start_time": "2023-10-15T10:14:50.485300",
     "status": "completed"
    },
    "tags": []
   },
   "outputs": [],
   "source": [
    "# Modulus %:\n",
    "\n",
    "x = 10 % 3   # Result: 1 (remainder of 10 divided by 3)"
   ]
  },
  {
   "cell_type": "code",
   "execution_count": 34,
   "id": "ff41d625",
   "metadata": {
    "execution": {
     "iopub.execute_input": "2023-10-15T10:14:50.617614Z",
     "iopub.status.busy": "2023-10-15T10:14:50.617209Z",
     "iopub.status.idle": "2023-10-15T10:14:50.622969Z",
     "shell.execute_reply": "2023-10-15T10:14:50.621254Z"
    },
    "papermill": {
     "duration": 0.051258,
     "end_time": "2023-10-15T10:14:50.625566",
     "exception": false,
     "start_time": "2023-10-15T10:14:50.574308",
     "status": "completed"
    },
    "tags": []
   },
   "outputs": [],
   "source": [
    "# Exponentiation **:\n",
    "\n",
    "x = 2 ** 3   # Result: 8 (2 raised to the power of 3)"
   ]
  },
  {
   "cell_type": "code",
   "execution_count": 35,
   "id": "b5ac14cb",
   "metadata": {
    "execution": {
     "iopub.execute_input": "2023-10-15T10:14:50.703436Z",
     "iopub.status.busy": "2023-10-15T10:14:50.702485Z",
     "iopub.status.idle": "2023-10-15T10:14:50.707350Z",
     "shell.execute_reply": "2023-10-15T10:14:50.706271Z"
    },
    "papermill": {
     "duration": 0.046432,
     "end_time": "2023-10-15T10:14:50.709373",
     "exception": false,
     "start_time": "2023-10-15T10:14:50.662941",
     "status": "completed"
    },
    "tags": []
   },
   "outputs": [],
   "source": [
    "# Assignment =:\n",
    "\n",
    "x = 10   # Assigns the value 10 to the variable x\n",
    "\n",
    "x = 5 + 3 * 2   # Result: 11 (3 * 2 is evaluated first, then added to 5)\n",
    "y = (5 + 3) * 2   # Result: 16 (5 + 3 is evaluated first, then multiplied by 2)"
   ]
  },
  {
   "cell_type": "code",
   "execution_count": 36,
   "id": "0376eb68",
   "metadata": {
    "execution": {
     "iopub.execute_input": "2023-10-15T10:14:50.785547Z",
     "iopub.status.busy": "2023-10-15T10:14:50.784864Z",
     "iopub.status.idle": "2023-10-15T10:14:50.790024Z",
     "shell.execute_reply": "2023-10-15T10:14:50.788666Z"
    },
    "papermill": {
     "duration": 0.045972,
     "end_time": "2023-10-15T10:14:50.791919",
     "exception": false,
     "start_time": "2023-10-15T10:14:50.745947",
     "status": "completed"
    },
    "tags": []
   },
   "outputs": [
    {
     "name": "stdout",
     "output_type": "stream",
     "text": [
      "True\n"
     ]
    }
   ],
   "source": [
    "# Equal (==):\n",
    "\n",
    "x = 5\n",
    "y = 5\n",
    "is_equal = x == y\n",
    "print(is_equal)  # Output: True"
   ]
  },
  {
   "cell_type": "code",
   "execution_count": 37,
   "id": "fb5a2a35",
   "metadata": {
    "execution": {
     "iopub.execute_input": "2023-10-15T10:14:50.868666Z",
     "iopub.status.busy": "2023-10-15T10:14:50.868140Z",
     "iopub.status.idle": "2023-10-15T10:14:50.873176Z",
     "shell.execute_reply": "2023-10-15T10:14:50.871985Z"
    },
    "papermill": {
     "duration": 0.046636,
     "end_time": "2023-10-15T10:14:50.875346",
     "exception": false,
     "start_time": "2023-10-15T10:14:50.828710",
     "status": "completed"
    },
    "tags": []
   },
   "outputs": [
    {
     "name": "stdout",
     "output_type": "stream",
     "text": [
      "True\n"
     ]
    }
   ],
   "source": [
    "# Not Equal (!=):\n",
    "\n",
    "x = 5\n",
    "y = 3\n",
    "is_not_equal = x != y\n",
    "print(is_not_equal)  # Output: True"
   ]
  },
  {
   "cell_type": "code",
   "execution_count": 38,
   "id": "513be786",
   "metadata": {
    "execution": {
     "iopub.execute_input": "2023-10-15T10:14:50.954054Z",
     "iopub.status.busy": "2023-10-15T10:14:50.953367Z",
     "iopub.status.idle": "2023-10-15T10:14:50.959572Z",
     "shell.execute_reply": "2023-10-15T10:14:50.958411Z"
    },
    "papermill": {
     "duration": 0.049397,
     "end_time": "2023-10-15T10:14:50.961985",
     "exception": false,
     "start_time": "2023-10-15T10:14:50.912588",
     "status": "completed"
    },
    "tags": []
   },
   "outputs": [
    {
     "name": "stdout",
     "output_type": "stream",
     "text": [
      "True\n"
     ]
    }
   ],
   "source": [
    "# Greater Than (>):\n",
    "\n",
    "x = 7\n",
    "y = 3\n",
    "is_greater = x > y\n",
    "print(is_greater)  # Output: True"
   ]
  },
  {
   "cell_type": "code",
   "execution_count": 39,
   "id": "da267bf5",
   "metadata": {
    "execution": {
     "iopub.execute_input": "2023-10-15T10:14:51.038782Z",
     "iopub.status.busy": "2023-10-15T10:14:51.038371Z",
     "iopub.status.idle": "2023-10-15T10:14:51.043947Z",
     "shell.execute_reply": "2023-10-15T10:14:51.042822Z"
    },
    "papermill": {
     "duration": 0.046859,
     "end_time": "2023-10-15T10:14:51.046018",
     "exception": false,
     "start_time": "2023-10-15T10:14:50.999159",
     "status": "completed"
    },
    "tags": []
   },
   "outputs": [
    {
     "name": "stdout",
     "output_type": "stream",
     "text": [
      "True\n"
     ]
    }
   ],
   "source": [
    "# Less Than (<):\n",
    "\n",
    "x = 7\n",
    "y = 10\n",
    "is_less = x < y\n",
    "print(is_less)  # Output: True"
   ]
  },
  {
   "cell_type": "code",
   "execution_count": 40,
   "id": "5b55adc0",
   "metadata": {
    "execution": {
     "iopub.execute_input": "2023-10-15T10:14:51.122408Z",
     "iopub.status.busy": "2023-10-15T10:14:51.121686Z",
     "iopub.status.idle": "2023-10-15T10:14:51.126958Z",
     "shell.execute_reply": "2023-10-15T10:14:51.125710Z"
    },
    "papermill": {
     "duration": 0.045337,
     "end_time": "2023-10-15T10:14:51.128913",
     "exception": false,
     "start_time": "2023-10-15T10:14:51.083576",
     "status": "completed"
    },
    "tags": []
   },
   "outputs": [
    {
     "name": "stdout",
     "output_type": "stream",
     "text": [
      "True\n"
     ]
    }
   ],
   "source": [
    "# Greater Than or Equal To (>=):\n",
    "\n",
    "x = 7\n",
    "y = 7\n",
    "is_greater_or_equal = x >= y\n",
    "print(is_greater_or_equal)  # Output: True"
   ]
  },
  {
   "cell_type": "code",
   "execution_count": 41,
   "id": "ecfaec10",
   "metadata": {
    "execution": {
     "iopub.execute_input": "2023-10-15T10:14:51.206627Z",
     "iopub.status.busy": "2023-10-15T10:14:51.205528Z",
     "iopub.status.idle": "2023-10-15T10:14:51.210997Z",
     "shell.execute_reply": "2023-10-15T10:14:51.209803Z"
    },
    "papermill": {
     "duration": 0.045844,
     "end_time": "2023-10-15T10:14:51.213147",
     "exception": false,
     "start_time": "2023-10-15T10:14:51.167303",
     "status": "completed"
    },
    "tags": []
   },
   "outputs": [
    {
     "name": "stdout",
     "output_type": "stream",
     "text": [
      "True\n"
     ]
    }
   ],
   "source": [
    "# Less Than or Equal To (<=):\n",
    "\n",
    "x = 5\n",
    "y = 7\n",
    "is_less_or_equal = x <= y\n",
    "print(is_less_or_equal)  # Output: True"
   ]
  },
  {
   "cell_type": "markdown",
   "id": "45f1ac78",
   "metadata": {
    "papermill": {
     "duration": 0.03746,
     "end_time": "2023-10-15T10:14:51.288601",
     "exception": false,
     "start_time": "2023-10-15T10:14:51.251141",
     "status": "completed"
    },
    "tags": []
   },
   "source": [
    "<a id = \"7\"></a><br>\n",
    "<h1 style=\"background-color:#ADD8E6;font-family:courier;font-size:250%;font-style: oblique;font-weight: bold;font-variant: small-caps;text-align:center;border-radius: 15px 50px;\"> Print </h1>\n",
    "\n",
    "In Python, the print() function is used to display output on the screen or to write data to the console. It allows you to print text, variables, and other information to the standard output.\n",
    "\n",
    "* The basic syntax of the print() function is as follows:"
   ]
  },
  {
   "cell_type": "code",
   "execution_count": 42,
   "id": "6c542c69",
   "metadata": {
    "execution": {
     "iopub.execute_input": "2023-10-15T10:14:51.366839Z",
     "iopub.status.busy": "2023-10-15T10:14:51.365624Z",
     "iopub.status.idle": "2023-10-15T10:14:51.369963Z",
     "shell.execute_reply": "2023-10-15T10:14:51.369183Z"
    },
    "papermill": {
     "duration": 0.045295,
     "end_time": "2023-10-15T10:14:51.371919",
     "exception": false,
     "start_time": "2023-10-15T10:14:51.326624",
     "status": "completed"
    },
    "tags": []
   },
   "outputs": [],
   "source": [
    "# print(value1, value2, ..., sep=' ', end='\\n')"
   ]
  },
  {
   "cell_type": "markdown",
   "id": "0bf3a224",
   "metadata": {
    "papermill": {
     "duration": 0.046576,
     "end_time": "2023-10-15T10:14:51.456532",
     "exception": false,
     "start_time": "2023-10-15T10:14:51.409956",
     "status": "completed"
    },
    "tags": []
   },
   "source": [
    "* Here's what each parameter means:\n",
    "\n",
    "    * **value1, value2, ...:** The values or expressions you want to print. You can provide one or more values separated by commas. These values will be converted to strings and displayed on the screen.\n",
    "\n",
    "    * **sep:** (Optional) The separator that is used to separate the values when they are printed. By default, it is a single space ' ', but you can change it to any string you like.\n",
    "\n",
    "    * **end:** (Optional) The character(s) to be printed at the end of the output. By default, it is a newline '\\n', which means each print() call ends with a new line. You can change it to any string you like to control the ending character(s) of the output."
   ]
  },
  {
   "cell_type": "code",
   "execution_count": 43,
   "id": "e306ff87",
   "metadata": {
    "execution": {
     "iopub.execute_input": "2023-10-15T10:14:51.537969Z",
     "iopub.status.busy": "2023-10-15T10:14:51.537204Z",
     "iopub.status.idle": "2023-10-15T10:14:51.543158Z",
     "shell.execute_reply": "2023-10-15T10:14:51.541957Z"
    },
    "papermill": {
     "duration": 0.047879,
     "end_time": "2023-10-15T10:14:51.545083",
     "exception": false,
     "start_time": "2023-10-15T10:14:51.497204",
     "status": "completed"
    },
    "tags": []
   },
   "outputs": [
    {
     "name": "stdout",
     "output_type": "stream",
     "text": [
      "Hello, Python!\n"
     ]
    }
   ],
   "source": [
    "# Examples:\n",
    "\n",
    "# Printing a string\n",
    "\n",
    "print(\"Hello, Python!\")"
   ]
  },
  {
   "cell_type": "code",
   "execution_count": 44,
   "id": "7064f1f2",
   "metadata": {
    "execution": {
     "iopub.execute_input": "2023-10-15T10:14:51.626772Z",
     "iopub.status.busy": "2023-10-15T10:14:51.625806Z",
     "iopub.status.idle": "2023-10-15T10:14:51.631698Z",
     "shell.execute_reply": "2023-10-15T10:14:51.630402Z"
    },
    "papermill": {
     "duration": 0.049346,
     "end_time": "2023-10-15T10:14:51.633944",
     "exception": false,
     "start_time": "2023-10-15T10:14:51.584598",
     "status": "completed"
    },
    "tags": []
   },
   "outputs": [
    {
     "name": "stdout",
     "output_type": "stream",
     "text": [
      "42 World\n"
     ]
    }
   ],
   "source": [
    "# Printing multiple values\n",
    "\n",
    "x = 42\n",
    "y = \"World\"\n",
    "\n",
    "print(x, y)  # Output: 42 World"
   ]
  },
  {
   "cell_type": "code",
   "execution_count": 45,
   "id": "fa82066d",
   "metadata": {
    "execution": {
     "iopub.execute_input": "2023-10-15T10:14:51.711707Z",
     "iopub.status.busy": "2023-10-15T10:14:51.711280Z",
     "iopub.status.idle": "2023-10-15T10:14:51.717453Z",
     "shell.execute_reply": "2023-10-15T10:14:51.715977Z"
    },
    "papermill": {
     "duration": 0.047869,
     "end_time": "2023-10-15T10:14:51.719683",
     "exception": false,
     "start_time": "2023-10-15T10:14:51.671814",
     "status": "completed"
    },
    "tags": []
   },
   "outputs": [
    {
     "name": "stdout",
     "output_type": "stream",
     "text": [
      "John - 30\n"
     ]
    }
   ],
   "source": [
    "# Using the 'sep' parameter to change the separator\n",
    "\n",
    "name = \"John\"\n",
    "age = 30\n",
    "\n",
    "print(name, age, sep=' - ')  # Output: John - 30"
   ]
  },
  {
   "cell_type": "code",
   "execution_count": 46,
   "id": "5e5a249b",
   "metadata": {
    "execution": {
     "iopub.execute_input": "2023-10-15T10:14:51.797234Z",
     "iopub.status.busy": "2023-10-15T10:14:51.796765Z",
     "iopub.status.idle": "2023-10-15T10:14:51.802875Z",
     "shell.execute_reply": "2023-10-15T10:14:51.801602Z"
    },
    "papermill": {
     "duration": 0.047153,
     "end_time": "2023-10-15T10:14:51.805013",
     "exception": false,
     "start_time": "2023-10-15T10:14:51.757860",
     "status": "completed"
    },
    "tags": []
   },
   "outputs": [
    {
     "name": "stdout",
     "output_type": "stream",
     "text": [
      "Hello, Python!\n"
     ]
    }
   ],
   "source": [
    "# Using the 'end' parameter to change the ending character(s)\n",
    "\n",
    "print(\"Hello, \", end='')\n",
    "print(\"Python!\")  # Output: Hello, Python!"
   ]
  },
  {
   "cell_type": "markdown",
   "id": "ed7c6b71",
   "metadata": {
    "papermill": {
     "duration": 0.037957,
     "end_time": "2023-10-15T10:14:51.882431",
     "exception": false,
     "start_time": "2023-10-15T10:14:51.844474",
     "status": "completed"
    },
    "tags": []
   },
   "source": [
    "* You can also use formatted strings (f-strings) with the print() function to include variables or expressions within the output."
   ]
  },
  {
   "cell_type": "code",
   "execution_count": 47,
   "id": "2453339c",
   "metadata": {
    "execution": {
     "iopub.execute_input": "2023-10-15T10:14:51.962958Z",
     "iopub.status.busy": "2023-10-15T10:14:51.962481Z",
     "iopub.status.idle": "2023-10-15T10:14:51.969201Z",
     "shell.execute_reply": "2023-10-15T10:14:51.967697Z"
    },
    "papermill": {
     "duration": 0.050045,
     "end_time": "2023-10-15T10:14:51.971126",
     "exception": false,
     "start_time": "2023-10-15T10:14:51.921081",
     "status": "completed"
    },
    "tags": []
   },
   "outputs": [
    {
     "name": "stdout",
     "output_type": "stream",
     "text": [
      "My name is Alice and I am 25 years old.\n"
     ]
    }
   ],
   "source": [
    "name = \"Alice\"\n",
    "age = 25\n",
    "\n",
    "print(f\"My name is {name} and I am {age} years old.\")  # Output: My name is Alice and I am 25 years old."
   ]
  },
  {
   "cell_type": "markdown",
   "id": "ddd049dd",
   "metadata": {
    "papermill": {
     "duration": 0.037838,
     "end_time": "2023-10-15T10:14:52.047499",
     "exception": false,
     "start_time": "2023-10-15T10:14:52.009661",
     "status": "completed"
    },
    "tags": []
   },
   "source": [
    "* The print() function is a versatile and essential tool for displaying information during program execution and is commonly used for debugging, outputting results, and providing user feedback."
   ]
  },
  {
   "cell_type": "markdown",
   "id": "d293e453",
   "metadata": {
    "papermill": {
     "duration": 0.037138,
     "end_time": "2023-10-15T10:14:52.122165",
     "exception": false,
     "start_time": "2023-10-15T10:14:52.085027",
     "status": "completed"
    },
    "tags": []
   },
   "source": [
    "<a id = \"8\"></a><br>\n",
    "<h1 style=\"background-color:#ADD8E6;font-family:courier;font-size:250%;font-style: oblique;font-weight: bold;font-variant: small-caps;text-align:center;border-radius: 15px 50px;\"> Lists </h1>\n",
    "\n",
    "In Python, a \"list\" is a versatile and widely used data type that represents an ordered collection of elements. Lists are mutable, which means you can modify them after they are created. They are one of the fundamental data structures in Python and are used to store a collection of items, such as numbers, strings, or other lists.\n",
    "\n",
    "* Here are some key points to understand about lists in Python:"
   ]
  },
  {
   "cell_type": "markdown",
   "id": "47457d03",
   "metadata": {
    "papermill": {
     "duration": 0.037551,
     "end_time": "2023-10-15T10:14:52.197517",
     "exception": false,
     "start_time": "2023-10-15T10:14:52.159966",
     "status": "completed"
    },
    "tags": []
   },
   "source": [
    "**List Creation:**\n",
    "\n",
    "* You can create a list by enclosing elements in square brackets [], separated by commas."
   ]
  },
  {
   "cell_type": "code",
   "execution_count": 48,
   "id": "0705c8d7",
   "metadata": {
    "execution": {
     "iopub.execute_input": "2023-10-15T10:14:52.276654Z",
     "iopub.status.busy": "2023-10-15T10:14:52.276254Z",
     "iopub.status.idle": "2023-10-15T10:14:52.281676Z",
     "shell.execute_reply": "2023-10-15T10:14:52.280461Z"
    },
    "papermill": {
     "duration": 0.048406,
     "end_time": "2023-10-15T10:14:52.283974",
     "exception": false,
     "start_time": "2023-10-15T10:14:52.235568",
     "status": "completed"
    },
    "tags": []
   },
   "outputs": [],
   "source": [
    "my_list = [1, 2, 3, 4, 5]\n",
    "names = [\"Alice\", \"Bob\", \"Charlie\"]\n",
    "mixed_list = [1, \"apple\", True, 3.14]"
   ]
  },
  {
   "cell_type": "markdown",
   "id": "60d6ea7d",
   "metadata": {
    "papermill": {
     "duration": 0.038052,
     "end_time": "2023-10-15T10:14:52.361976",
     "exception": false,
     "start_time": "2023-10-15T10:14:52.323924",
     "status": "completed"
    },
    "tags": []
   },
   "source": [
    "**List Indexing and Slicing:**\n",
    "\n",
    "* Elements in a list are indexed starting from 0. You can access individual elements using square brackets and the index."
   ]
  },
  {
   "cell_type": "code",
   "execution_count": 49,
   "id": "b2481d5a",
   "metadata": {
    "execution": {
     "iopub.execute_input": "2023-10-15T10:14:52.440472Z",
     "iopub.status.busy": "2023-10-15T10:14:52.440057Z",
     "iopub.status.idle": "2023-10-15T10:14:52.446221Z",
     "shell.execute_reply": "2023-10-15T10:14:52.445117Z"
    },
    "papermill": {
     "duration": 0.048346,
     "end_time": "2023-10-15T10:14:52.448463",
     "exception": false,
     "start_time": "2023-10-15T10:14:52.400117",
     "status": "completed"
    },
    "tags": []
   },
   "outputs": [
    {
     "name": "stdout",
     "output_type": "stream",
     "text": [
      "10\n",
      "30\n",
      "[20, 30, 40]\n"
     ]
    }
   ],
   "source": [
    "my_list = [10, 20, 30, 40, 50]\n",
    "\n",
    "print(my_list[0])  # Output: 10\n",
    "print(my_list[2])  # Output: 30\n",
    "\n",
    "# You can also use slicing to extract a portion of the list.\n",
    "\n",
    "print(my_list[1:4])  # Output: [20, 30, 40]"
   ]
  },
  {
   "cell_type": "markdown",
   "id": "da2a2e67",
   "metadata": {
    "papermill": {
     "duration": 0.04002,
     "end_time": "2023-10-15T10:14:52.527647",
     "exception": false,
     "start_time": "2023-10-15T10:14:52.487627",
     "status": "completed"
    },
    "tags": []
   },
   "source": [
    "**List Operations:**\n",
    "\n",
    "* Lists support various operations, such as concatenation, repetition, and membership testing."
   ]
  },
  {
   "cell_type": "code",
   "execution_count": 50,
   "id": "c7fef745",
   "metadata": {
    "execution": {
     "iopub.execute_input": "2023-10-15T10:14:52.608154Z",
     "iopub.status.busy": "2023-10-15T10:14:52.607667Z",
     "iopub.status.idle": "2023-10-15T10:14:52.614932Z",
     "shell.execute_reply": "2023-10-15T10:14:52.613709Z"
    },
    "papermill": {
     "duration": 0.050211,
     "end_time": "2023-10-15T10:14:52.617664",
     "exception": false,
     "start_time": "2023-10-15T10:14:52.567453",
     "status": "completed"
    },
    "tags": []
   },
   "outputs": [
    {
     "name": "stdout",
     "output_type": "stream",
     "text": [
      "True\n",
      "False\n"
     ]
    }
   ],
   "source": [
    "list1 = [1, 2, 3]\n",
    "list2 = [4, 5, 6]\n",
    "\n",
    "# Concatenation:\n",
    "\n",
    "result = list1 + list2  # Output: [1, 2, 3, 4, 5, 6]\n",
    "\n",
    "# Repetition:\n",
    "\n",
    "repeated_list = list1 * 3  # Output: [1, 2, 3, 1, 2, 3, 1, 2, 3]\n",
    "\n",
    "# Membership testing:\n",
    "\n",
    "print(2 in list1)  # Output: True\n",
    "print(7 in list1)  # Output: False"
   ]
  },
  {
   "cell_type": "markdown",
   "id": "7b77da60",
   "metadata": {
    "papermill": {
     "duration": 0.04058,
     "end_time": "2023-10-15T10:14:52.701444",
     "exception": false,
     "start_time": "2023-10-15T10:14:52.660864",
     "status": "completed"
    },
    "tags": []
   },
   "source": [
    "**List Methods:**\n",
    "\n",
    "* Lists have numerous built-in methods that allow you to manipulate and work with them easily. Some common list methods include append(), insert(), pop(), remove(), sort(), reverse(), and more."
   ]
  },
  {
   "cell_type": "code",
   "execution_count": 51,
   "id": "d28969d0",
   "metadata": {
    "execution": {
     "iopub.execute_input": "2023-10-15T10:14:52.782239Z",
     "iopub.status.busy": "2023-10-15T10:14:52.781691Z",
     "iopub.status.idle": "2023-10-15T10:14:52.788960Z",
     "shell.execute_reply": "2023-10-15T10:14:52.787627Z"
    },
    "papermill": {
     "duration": 0.049406,
     "end_time": "2023-10-15T10:14:52.790937",
     "exception": false,
     "start_time": "2023-10-15T10:14:52.741531",
     "status": "completed"
    },
    "tags": []
   },
   "outputs": [],
   "source": [
    "my_list = [3, 1, 4, 1, 5, 9, 2]\n",
    "\n",
    "my_list.append(6)      # Output: [3,1,4,1,5,9,2,6] , Adds 6 to the end of the list\n",
    "my_list.insert(1, 8)   # Output: [3,8,1,4,1,5,9,2,6] , Inserts 8 at index 1\n",
    "my_list.pop()          # Output: [3,8,1,4,1,5,9,2] , Removes and returns the last element, or add index number\n",
    "my_list.remove(1)      # Output: [3,8,4,1,5,9,2] , Removes the first occurrence of 1\n",
    "my_list.sort()         # Output: [1,2,3,4,5,8,9] Sorts the list in ascending order\n",
    "my_list.reverse()      # Output: [9,8,5,4,3,2,1] , Reverses the order of the list\n",
    "my_list.count(1)       # Output: 1 , How many times the specified element appears in the list\n",
    "my_list.index(1)       # Output: 6 , Returns the index of the first occurrence of the specified element\n",
    "\n",
    "add_list = [7,8,9]\n",
    "\n",
    "my_list.extend(add_list) # Output: [9,8,5,4,3,2,1,7,8,9] , Appends elements from another list to the end of the list."
   ]
  },
  {
   "cell_type": "markdown",
   "id": "d7d97f5a",
   "metadata": {
    "papermill": {
     "duration": 0.037872,
     "end_time": "2023-10-15T10:14:52.866957",
     "exception": false,
     "start_time": "2023-10-15T10:14:52.829085",
     "status": "completed"
    },
    "tags": []
   },
   "source": [
    "**List Length:**\n",
    "\n",
    "* You can find the length of a list using the len() function."
   ]
  },
  {
   "cell_type": "code",
   "execution_count": 52,
   "id": "fef20bc8",
   "metadata": {
    "execution": {
     "iopub.execute_input": "2023-10-15T10:14:52.950928Z",
     "iopub.status.busy": "2023-10-15T10:14:52.950456Z",
     "iopub.status.idle": "2023-10-15T10:14:52.957154Z",
     "shell.execute_reply": "2023-10-15T10:14:52.955697Z"
    },
    "papermill": {
     "duration": 0.049924,
     "end_time": "2023-10-15T10:14:52.959058",
     "exception": false,
     "start_time": "2023-10-15T10:14:52.909134",
     "status": "completed"
    },
    "tags": []
   },
   "outputs": [
    {
     "name": "stdout",
     "output_type": "stream",
     "text": [
      "5\n"
     ]
    }
   ],
   "source": [
    "my_list = [10, 20, 30, 40, 50]\n",
    "\n",
    "print(len(my_list))  # Output: 5"
   ]
  },
  {
   "cell_type": "markdown",
   "id": "f31deea2",
   "metadata": {
    "papermill": {
     "duration": 0.038132,
     "end_time": "2023-10-15T10:14:53.035727",
     "exception": false,
     "start_time": "2023-10-15T10:14:52.997595",
     "status": "completed"
    },
    "tags": []
   },
   "source": [
    "* Lists are widely used in Python for data storage, iteration, and manipulation. They are essential for various programming tasks and are an integral part of many Python programs."
   ]
  },
  {
   "cell_type": "markdown",
   "id": "5de88a89",
   "metadata": {
    "papermill": {
     "duration": 0.037512,
     "end_time": "2023-10-15T10:14:53.112395",
     "exception": false,
     "start_time": "2023-10-15T10:14:53.074883",
     "status": "completed"
    },
    "tags": []
   },
   "source": [
    "<a id = \"9\"></a><br>\n",
    "<h1 style=\"background-color:#ADD8E6;font-family:courier;font-size:250%;font-style: oblique;font-weight: bold;font-variant: small-caps;text-align:center;border-radius: 15px 50px;\"> Tuples </h1>\n",
    "\n",
    "In Python, a \"tuple\" is similar to a list, but unlike lists, tuples are immutable, which means their elements cannot be changed or modified after creation. Tuples are represented by parentheses () and are used to store an ordered collection of items, just like lists. However, since tuples are immutable, they are typically used to represent fixed collections of elements that should not be changed.\n",
    "\n",
    "* Here are some key points to understand about tuples in Python:"
   ]
  },
  {
   "cell_type": "markdown",
   "id": "6d2f5114",
   "metadata": {
    "papermill": {
     "duration": 0.037608,
     "end_time": "2023-10-15T10:14:53.188265",
     "exception": false,
     "start_time": "2023-10-15T10:14:53.150657",
     "status": "completed"
    },
    "tags": []
   },
   "source": [
    "**Tuple Creation:**\n",
    "\n",
    "* You can create a tuple by enclosing elements in parentheses (), separated by commas."
   ]
  },
  {
   "cell_type": "code",
   "execution_count": 53,
   "id": "d5421cea",
   "metadata": {
    "execution": {
     "iopub.execute_input": "2023-10-15T10:14:53.266896Z",
     "iopub.status.busy": "2023-10-15T10:14:53.266390Z",
     "iopub.status.idle": "2023-10-15T10:14:53.272045Z",
     "shell.execute_reply": "2023-10-15T10:14:53.270847Z"
    },
    "papermill": {
     "duration": 0.047838,
     "end_time": "2023-10-15T10:14:53.274393",
     "exception": false,
     "start_time": "2023-10-15T10:14:53.226555",
     "status": "completed"
    },
    "tags": []
   },
   "outputs": [],
   "source": [
    "my_tuple = (1, 2, 3)\n",
    "names = (\"Alice\", \"Bob\", \"Charlie\")\n",
    "mixed_tuple = (1, \"apple\", True, 3.14)"
   ]
  },
  {
   "cell_type": "markdown",
   "id": "362c3d43",
   "metadata": {
    "papermill": {
     "duration": 0.038546,
     "end_time": "2023-10-15T10:14:53.350945",
     "exception": false,
     "start_time": "2023-10-15T10:14:53.312399",
     "status": "completed"
    },
    "tags": []
   },
   "source": [
    "**Tuple Indexing and Slicing:**\n",
    "\n",
    "* Elements in a tuple are also indexed starting from 0, and you can access individual elements using square brackets and the index, just like lists."
   ]
  },
  {
   "cell_type": "code",
   "execution_count": 54,
   "id": "fcc1c46f",
   "metadata": {
    "execution": {
     "iopub.execute_input": "2023-10-15T10:14:53.431441Z",
     "iopub.status.busy": "2023-10-15T10:14:53.430643Z",
     "iopub.status.idle": "2023-10-15T10:14:53.437581Z",
     "shell.execute_reply": "2023-10-15T10:14:53.435912Z"
    },
    "papermill": {
     "duration": 0.049998,
     "end_time": "2023-10-15T10:14:53.439699",
     "exception": false,
     "start_time": "2023-10-15T10:14:53.389701",
     "status": "completed"
    },
    "tags": []
   },
   "outputs": [
    {
     "name": "stdout",
     "output_type": "stream",
     "text": [
      "10\n",
      "30\n",
      "(2, 3, 4)\n"
     ]
    }
   ],
   "source": [
    "my_tuple = (10, 20, 30, 40, 50)\n",
    "\n",
    "print(my_tuple[0])  # Output: 10\n",
    "print(my_tuple[2])  # Output: 30\n",
    "\n",
    "# You can also use slicing to extract a portion of the tuple\n",
    "\n",
    "my_tuple = (1, 2, 3, 4, 5)\n",
    "print(my_tuple[1:4])  # Output: (2, 3, 4)"
   ]
  },
  {
   "cell_type": "markdown",
   "id": "6fd6242c",
   "metadata": {
    "papermill": {
     "duration": 0.039991,
     "end_time": "2023-10-15T10:14:53.520315",
     "exception": false,
     "start_time": "2023-10-15T10:14:53.480324",
     "status": "completed"
    },
    "tags": []
   },
   "source": [
    "**Tuple Operations:**\n",
    "\n",
    "* Tuples support various operations, such as concatenation and repetition, just like lists."
   ]
  },
  {
   "cell_type": "code",
   "execution_count": 55,
   "id": "7f1277ca",
   "metadata": {
    "execution": {
     "iopub.execute_input": "2023-10-15T10:14:53.601763Z",
     "iopub.status.busy": "2023-10-15T10:14:53.600696Z",
     "iopub.status.idle": "2023-10-15T10:14:53.607340Z",
     "shell.execute_reply": "2023-10-15T10:14:53.606152Z"
    },
    "papermill": {
     "duration": 0.050383,
     "end_time": "2023-10-15T10:14:53.609800",
     "exception": false,
     "start_time": "2023-10-15T10:14:53.559417",
     "status": "completed"
    },
    "tags": []
   },
   "outputs": [],
   "source": [
    "tuple1 = (1, 2, 3)\n",
    "tuple2 = (4, 5, 6)\n",
    "\n",
    "# Concatenation\n",
    "\n",
    "result = tuple1 + tuple2  # Output: (1, 2, 3, 4, 5, 6)\n",
    "\n",
    "# Repetition\n",
    "\n",
    "repeated_tuple = tuple1 * 3  # Output: (1, 2, 3, 1, 2, 3, 1, 2, 3)"
   ]
  },
  {
   "cell_type": "markdown",
   "id": "5b770b28",
   "metadata": {
    "papermill": {
     "duration": 0.039513,
     "end_time": "2023-10-15T10:14:53.690537",
     "exception": false,
     "start_time": "2023-10-15T10:14:53.651024",
     "status": "completed"
    },
    "tags": []
   },
   "source": [
    "**Tuple Length:**\n",
    "\n",
    "* You can find the length of a tuple using the len() function, just like with lists."
   ]
  },
  {
   "cell_type": "code",
   "execution_count": 56,
   "id": "113856ae",
   "metadata": {
    "execution": {
     "iopub.execute_input": "2023-10-15T10:14:53.772116Z",
     "iopub.status.busy": "2023-10-15T10:14:53.771401Z",
     "iopub.status.idle": "2023-10-15T10:14:53.776845Z",
     "shell.execute_reply": "2023-10-15T10:14:53.775822Z"
    },
    "papermill": {
     "duration": 0.047077,
     "end_time": "2023-10-15T10:14:53.778715",
     "exception": false,
     "start_time": "2023-10-15T10:14:53.731638",
     "status": "completed"
    },
    "tags": []
   },
   "outputs": [
    {
     "name": "stdout",
     "output_type": "stream",
     "text": [
      "5\n"
     ]
    }
   ],
   "source": [
    "my_tuple = (10, 20, 30, 40, 50)\n",
    "\n",
    "print(len(my_tuple))  # Output: 5"
   ]
  },
  {
   "cell_type": "markdown",
   "id": "c11501e6",
   "metadata": {
    "papermill": {
     "duration": 0.038606,
     "end_time": "2023-10-15T10:14:53.855659",
     "exception": false,
     "start_time": "2023-10-15T10:14:53.817053",
     "status": "completed"
    },
    "tags": []
   },
   "source": [
    "**Tuples as Immutable Data Structures:**\n",
    "\n",
    "* As mentioned earlier, tuples are immutable, which means you cannot change or modify their elements after creation. Once a tuple is created, its elements remain fixed."
   ]
  },
  {
   "cell_type": "code",
   "execution_count": 57,
   "id": "5d0870b7",
   "metadata": {
    "execution": {
     "iopub.execute_input": "2023-10-15T10:14:53.940232Z",
     "iopub.status.busy": "2023-10-15T10:14:53.939888Z",
     "iopub.status.idle": "2023-10-15T10:14:53.945328Z",
     "shell.execute_reply": "2023-10-15T10:14:53.944169Z"
    },
    "papermill": {
     "duration": 0.048261,
     "end_time": "2023-10-15T10:14:53.947545",
     "exception": false,
     "start_time": "2023-10-15T10:14:53.899284",
     "status": "completed"
    },
    "tags": []
   },
   "outputs": [],
   "source": [
    "my_tuple = (1, 2, 3)\n",
    "\n",
    "# my_tuple[0] = 10  # This will raise a TypeError since tuples are immutable"
   ]
  },
  {
   "cell_type": "markdown",
   "id": "d94d13f8",
   "metadata": {
    "papermill": {
     "duration": 0.052549,
     "end_time": "2023-10-15T10:14:54.051161",
     "exception": false,
     "start_time": "2023-10-15T10:14:53.998612",
     "status": "completed"
    },
    "tags": []
   },
   "source": [
    "* Tuples are useful when you want to ensure that the data remains unchanged throughout the program execution or when you need to use hashable data structures (since tuples are hashable, they can be used as keys in dictionaries). If you have data that should not be modified, tuples are a great choice."
   ]
  },
  {
   "cell_type": "markdown",
   "id": "035d8dd5",
   "metadata": {
    "papermill": {
     "duration": 0.038212,
     "end_time": "2023-10-15T10:14:54.141497",
     "exception": false,
     "start_time": "2023-10-15T10:14:54.103285",
     "status": "completed"
    },
    "tags": []
   },
   "source": [
    "<a id = \"10\"></a><br>\n",
    "<h1 style=\"background-color:#ADD8E6;font-family:courier;font-size:250%;font-style: oblique;font-weight: bold;font-variant: small-caps;text-align:center;border-radius: 15px 50px;\"> Dictionaries </h1>\n",
    "\n",
    "In Python, a \"dictionary\" is a powerful and versatile data structure that is used to store and organize data in the form of key-value pairs. Dictionaries are also known as \"associative arrays\" or \"hash maps\" in other programming languages. Unlike sequences (lists and tuples) that are indexed by a range of numbers, dictionaries are indexed by keys, which can be of any immutable data type, such as strings, numbers, or tuples.\n",
    "\n",
    "* Here are some key points to understand about dictionaries in Python:"
   ]
  },
  {
   "cell_type": "markdown",
   "id": "40a217dc",
   "metadata": {
    "papermill": {
     "duration": 0.039759,
     "end_time": "2023-10-15T10:14:54.221015",
     "exception": false,
     "start_time": "2023-10-15T10:14:54.181256",
     "status": "completed"
    },
    "tags": []
   },
   "source": [
    "**Dictionary Creation:**\n",
    "\n",
    "* You can create a dictionary using curly braces {} and specifying key-value pairs separated by colons :. Each key-value pair is separated by commas."
   ]
  },
  {
   "cell_type": "code",
   "execution_count": 58,
   "id": "6be73377",
   "metadata": {
    "execution": {
     "iopub.execute_input": "2023-10-15T10:14:54.299898Z",
     "iopub.status.busy": "2023-10-15T10:14:54.299505Z",
     "iopub.status.idle": "2023-10-15T10:14:54.304579Z",
     "shell.execute_reply": "2023-10-15T10:14:54.303183Z"
    },
    "papermill": {
     "duration": 0.047756,
     "end_time": "2023-10-15T10:14:54.306956",
     "exception": false,
     "start_time": "2023-10-15T10:14:54.259200",
     "status": "completed"
    },
    "tags": []
   },
   "outputs": [],
   "source": [
    "my_dict = {\"name\": \"Alice\", \"age\": 30, \"city\": \"New York\"}\n",
    "\n",
    "empty_dict = {}"
   ]
  },
  {
   "cell_type": "markdown",
   "id": "432d8534",
   "metadata": {
    "papermill": {
     "duration": 0.039207,
     "end_time": "2023-10-15T10:14:54.385682",
     "exception": false,
     "start_time": "2023-10-15T10:14:54.346475",
     "status": "completed"
    },
    "tags": []
   },
   "source": [
    "**Accessing Values in a Dictionary:**\n",
    "\n",
    "* You can access the value associated with a specific key by using square brackets [] and providing the key."
   ]
  },
  {
   "cell_type": "code",
   "execution_count": 59,
   "id": "6ad80293",
   "metadata": {
    "execution": {
     "iopub.execute_input": "2023-10-15T10:14:54.464255Z",
     "iopub.status.busy": "2023-10-15T10:14:54.463852Z",
     "iopub.status.idle": "2023-10-15T10:14:54.470119Z",
     "shell.execute_reply": "2023-10-15T10:14:54.468704Z"
    },
    "papermill": {
     "duration": 0.048952,
     "end_time": "2023-10-15T10:14:54.472574",
     "exception": false,
     "start_time": "2023-10-15T10:14:54.423622",
     "status": "completed"
    },
    "tags": []
   },
   "outputs": [
    {
     "name": "stdout",
     "output_type": "stream",
     "text": [
      "Alice\n",
      "30\n",
      "Alice\n",
      "None\n"
     ]
    }
   ],
   "source": [
    "my_dict = {\"name\": \"Alice\", \"age\": 30, \"city\": \"New York\"}\n",
    "\n",
    "print(my_dict[\"name\"])  # Output: \"Alice\"\n",
    "print(my_dict[\"age\"])   # Output: 30\n",
    "\n",
    "# If the specified key is not present in the dictionary, it will raise a KeyError. To avoid this, you can use the get() method.\n",
    "\n",
    "print(my_dict.get(\"name\"))  # Output: \"Alice\"\n",
    "print(my_dict.get(\"gender\"))  # Output: None (key not found, returns None)"
   ]
  },
  {
   "cell_type": "markdown",
   "id": "f49999da",
   "metadata": {
    "papermill": {
     "duration": 0.039066,
     "end_time": "2023-10-15T10:14:54.551462",
     "exception": false,
     "start_time": "2023-10-15T10:14:54.512396",
     "status": "completed"
    },
    "tags": []
   },
   "source": [
    "**Dictionary Operations:**\n",
    "\n",
    "* Dictionaries support various operations, such as adding new key-value pairs, updating values, and removing key-value pairs."
   ]
  },
  {
   "cell_type": "code",
   "execution_count": 60,
   "id": "dc8add43",
   "metadata": {
    "execution": {
     "iopub.execute_input": "2023-10-15T10:14:54.637042Z",
     "iopub.status.busy": "2023-10-15T10:14:54.635529Z",
     "iopub.status.idle": "2023-10-15T10:14:54.642338Z",
     "shell.execute_reply": "2023-10-15T10:14:54.641122Z"
    },
    "papermill": {
     "duration": 0.054133,
     "end_time": "2023-10-15T10:14:54.644756",
     "exception": false,
     "start_time": "2023-10-15T10:14:54.590623",
     "status": "completed"
    },
    "tags": []
   },
   "outputs": [],
   "source": [
    "# Adding a new key-value pair:\n",
    "\n",
    "my_dict = {\"name\": \"Alice\", \"age\": 30}\n",
    "\n",
    "my_dict[\"city\"] = \"New York\"  # Output: {'name': 'Alice', 'age': 30, 'city': 'New York'} , Adds a new key-value pair\n",
    "\n",
    "# Updating the value of an existing key:\n",
    "\n",
    "my_dict[\"age\"] = 31  # Output: {'name': 'Alice', 'age': 31, 'city': 'New York'} , Updates the value of the \"age\" key\n",
    "\n",
    "# Removing a key-value pair:\n",
    "\n",
    "del my_dict[\"age\"]  # Output: {'name': 'Alice','city': 'New York'} , Removes the key-value pair with key \"age\""
   ]
  },
  {
   "cell_type": "code",
   "execution_count": 61,
   "id": "fff88f2a",
   "metadata": {
    "execution": {
     "iopub.execute_input": "2023-10-15T10:14:54.725857Z",
     "iopub.status.busy": "2023-10-15T10:14:54.725480Z",
     "iopub.status.idle": "2023-10-15T10:14:54.730776Z",
     "shell.execute_reply": "2023-10-15T10:14:54.729861Z"
    },
    "papermill": {
     "duration": 0.047852,
     "end_time": "2023-10-15T10:14:54.732782",
     "exception": false,
     "start_time": "2023-10-15T10:14:54.684930",
     "status": "completed"
    },
    "tags": []
   },
   "outputs": [],
   "source": [
    "dictionary = {\"REG\": [\"RMSE\", 10],\n",
    "              \"LOG\": [\"MSE\", 20],\n",
    "              \"CART\": [\"SSE\", 30]}\n",
    "\n",
    "dictionary[\"REG\"] = [\"YSA\", 10] # {'REG': ['YSA', 10], 'LOG': ['MSE', 20], 'CART': ['SSE', 30]}"
   ]
  },
  {
   "cell_type": "markdown",
   "id": "012763dd",
   "metadata": {
    "papermill": {
     "duration": 0.037892,
     "end_time": "2023-10-15T10:14:54.810537",
     "exception": false,
     "start_time": "2023-10-15T10:14:54.772645",
     "status": "completed"
    },
    "tags": []
   },
   "source": [
    "**Dictionary Methods:**\n",
    "\n",
    "* Dictionaries have several built-in methods that allow you to perform various operations on them. Some common dictionary methods include keys(), values(), items(), clear(), and more."
   ]
  },
  {
   "cell_type": "code",
   "execution_count": 62,
   "id": "4ca31aa1",
   "metadata": {
    "execution": {
     "iopub.execute_input": "2023-10-15T10:14:54.968020Z",
     "iopub.status.busy": "2023-10-15T10:14:54.967237Z",
     "iopub.status.idle": "2023-10-15T10:14:54.972135Z",
     "shell.execute_reply": "2023-10-15T10:14:54.971364Z"
    },
    "papermill": {
     "duration": 0.124807,
     "end_time": "2023-10-15T10:14:54.974177",
     "exception": false,
     "start_time": "2023-10-15T10:14:54.849370",
     "status": "completed"
    },
    "tags": []
   },
   "outputs": [],
   "source": [
    "my_dict = {\"name\": \"Alice\", \"age\": 30, \"city\": \"New York\"}\n",
    "\n",
    "# Get a list of all keys:\n",
    "\n",
    "keys_list = my_dict.keys()  # Output: [\"name\", \"age\", \"city\"]\n",
    "\n",
    "# Get a list of all values:\n",
    "\n",
    "values_list = my_dict.values()  # Output: [\"Alice\", 30, \"New York\"]\n",
    "\n",
    "# Get a list of all key-value pairs as tuples:\n",
    "\n",
    "items_list = my_dict.items()  # Output: [(\"name\", \"Alice\"), (\"age\", 30), (\"city\", \"New York\")]\n",
    "\n",
    "# Remove all items from the dictionary:\n",
    "\n",
    "my_dict.clear()  # Result: {}"
   ]
  },
  {
   "cell_type": "markdown",
   "id": "df3804df",
   "metadata": {
    "papermill": {
     "duration": 0.03863,
     "end_time": "2023-10-15T10:14:55.052480",
     "exception": false,
     "start_time": "2023-10-15T10:14:55.013850",
     "status": "completed"
    },
    "tags": []
   },
   "source": [
    "* Dictionaries are widely used in Python for various applications, such as storing configuration settings, representing JSON data, creating data structures like graphs, and much more. They are efficient for looking up values by their keys and offer a convenient way to organize and manipulate data in a flexible manner."
   ]
  },
  {
   "cell_type": "code",
   "execution_count": 63,
   "id": "be2f107c",
   "metadata": {
    "execution": {
     "iopub.execute_input": "2023-10-15T10:14:55.130589Z",
     "iopub.status.busy": "2023-10-15T10:14:55.129829Z",
     "iopub.status.idle": "2023-10-15T10:14:55.137268Z",
     "shell.execute_reply": "2023-10-15T10:14:55.135748Z"
    },
    "papermill": {
     "duration": 0.048878,
     "end_time": "2023-10-15T10:14:55.139306",
     "exception": false,
     "start_time": "2023-10-15T10:14:55.090428",
     "status": "completed"
    },
    "tags": []
   },
   "outputs": [
    {
     "name": "stdout",
     "output_type": "stream",
     "text": [
      "{'Christian': ['America', 18], 'Daisy': ['England', 13], 'Antonio': ['Spain', 22], 'Dante': ['Italy', 25]}\n",
      "{'Christian': ['America', 18], 'Daisy': ['England', 13], 'Antonio': ['Spain', 22], 'Dante': ['Italy', 25], 'Ahmet': ['Turkey', 24]}\n",
      "{'Christian': ['America', 18], 'Daisy': ['England', 13], 'Dante': ['Italy', 25], 'Ahmet': ['Turkey', 24]}\n"
     ]
    }
   ],
   "source": [
    "dict = {'Christian': [\"America\", 18],\n",
    "        'Daisy': [\"England\", 12],\n",
    "        'Antonio': [\"Spain\", 22],\n",
    "        'Dante': [\"Italy\", 25]}\n",
    "\n",
    "dict.keys() # dict_keys(['Christian', 'Daisy', 'Antonio', 'Dante'])\n",
    "dict.values() # dict_values([['America', 18], ['England', 12], ['Spain', 22], ['Italy', 25]])\n",
    "\n",
    "dict[\"Daisy\"][1] = 13\n",
    "print(dict) \n",
    "\n",
    "# {'Christian': ['America', 18], 'Daisy': ['England', 13], 'Antonio': ['Spain', 22], 'Dante': ['Italy', 25]}\n",
    "\n",
    "dict[\"Ahmet\"] = [\"Turkey\", 24]\n",
    "print(dict) \n",
    "\n",
    "# {'Christian': ['America', 18], 'Daisy': ['England', 13], 'Antonio': ['Spain', 22], 'Dante': ['Italy', 25], 'Ahmet': ['Turkey', 24]}\n",
    "\n",
    "del dict[\"Antonio\"]\n",
    "print(dict)\n",
    "\n",
    "# {'Christian': ['America', 18], 'Daisy': ['England', 13], 'Dante': ['Italy', 25], 'Ahmet': ['Turkey', 24]}"
   ]
  },
  {
   "cell_type": "markdown",
   "id": "e6cf5722",
   "metadata": {
    "papermill": {
     "duration": 0.038897,
     "end_time": "2023-10-15T10:14:55.217660",
     "exception": false,
     "start_time": "2023-10-15T10:14:55.178763",
     "status": "completed"
    },
    "tags": []
   },
   "source": [
    "<a id = \"11\"></a><br>\n",
    "<h1 style=\"background-color:#ADD8E6;font-family:courier;font-size:250%;font-style: oblique;font-weight: bold;font-variant: small-caps;text-align:center;border-radius: 15px 50px;\"> Sets </h1>\n",
    "\n",
    "In Python, a \"set\" is an unordered and mutable collection of unique elements. Sets are useful when you need to store a collection of items, but you want to ensure that each element is unique. Sets are represented by curly braces {} or by using the set() constructor.\n",
    "\n",
    "* Here are some key points to understand about sets in Python:"
   ]
  },
  {
   "cell_type": "markdown",
   "id": "1f3497ec",
   "metadata": {
    "papermill": {
     "duration": 0.038063,
     "end_time": "2023-10-15T10:14:55.294274",
     "exception": false,
     "start_time": "2023-10-15T10:14:55.256211",
     "status": "completed"
    },
    "tags": []
   },
   "source": [
    "**Set Creation:**\n",
    "\n",
    "* You can create a set using curly braces {} and listing unique elements separated by commas."
   ]
  },
  {
   "cell_type": "code",
   "execution_count": 64,
   "id": "9c1ac571",
   "metadata": {
    "execution": {
     "iopub.execute_input": "2023-10-15T10:14:55.375149Z",
     "iopub.status.busy": "2023-10-15T10:14:55.374273Z",
     "iopub.status.idle": "2023-10-15T10:14:55.380237Z",
     "shell.execute_reply": "2023-10-15T10:14:55.378984Z"
    },
    "papermill": {
     "duration": 0.049491,
     "end_time": "2023-10-15T10:14:55.382495",
     "exception": false,
     "start_time": "2023-10-15T10:14:55.333004",
     "status": "completed"
    },
    "tags": []
   },
   "outputs": [],
   "source": [
    "my_set = {1, 2, 3}\n",
    "\n",
    "names_set = {\"Alice\", \"Bob\", \"Charlie\"}\n",
    "\n",
    "# Alternatively, you can use the set() constructor to create a set.\n",
    "\n",
    "list1 = [1,2,3,4,1,2]\n",
    "\n",
    "set1 = set(list1) # Output: {1, 2, 3, 4}"
   ]
  },
  {
   "cell_type": "markdown",
   "id": "19f599af",
   "metadata": {
    "papermill": {
     "duration": 0.039636,
     "end_time": "2023-10-15T10:14:55.462172",
     "exception": false,
     "start_time": "2023-10-15T10:14:55.422536",
     "status": "completed"
    },
    "tags": []
   },
   "source": [
    "**Set Operations:**\n",
    "\n",
    "* Sets support various mathematical set operations, such as union, intersection, difference, and more."
   ]
  },
  {
   "cell_type": "code",
   "execution_count": 65,
   "id": "f84a0d5b",
   "metadata": {
    "execution": {
     "iopub.execute_input": "2023-10-15T10:14:55.546291Z",
     "iopub.status.busy": "2023-10-15T10:14:55.545874Z",
     "iopub.status.idle": "2023-10-15T10:14:55.551614Z",
     "shell.execute_reply": "2023-10-15T10:14:55.550604Z"
    },
    "papermill": {
     "duration": 0.051282,
     "end_time": "2023-10-15T10:14:55.553762",
     "exception": false,
     "start_time": "2023-10-15T10:14:55.502480",
     "status": "completed"
    },
    "tags": []
   },
   "outputs": [],
   "source": [
    "set1 = {1, 2, 3}\n",
    "set2 = {3, 4, 5}\n",
    "\n",
    "# Union (|): Combines elements from multiple sets, excluding duplicates:\n",
    "\n",
    "union_set = set1 | set2  # Output: {1, 2, 3, 4, 5}\n",
    "\n",
    "# Intersection (&): Retrieves elements that are common in multiple sets:\n",
    "\n",
    "intersection_set = set1 & set2  # Output: {3}\n",
    "\n",
    "# Difference (-): Retrieves elements that are unique to a specific set:\n",
    "\n",
    "difference_set = set1 - set2  # Output: {1, 2}\n",
    "\n",
    "# Symmetric Difference (^): Retrieves elements that are present in either set, but not in both:\n",
    "\n",
    "symmetric_difference_set = set1 ^ set2  # Output: {1, 2, 4, 5}"
   ]
  },
  {
   "cell_type": "markdown",
   "id": "3c83b080",
   "metadata": {
    "papermill": {
     "duration": 0.040011,
     "end_time": "2023-10-15T10:14:55.633928",
     "exception": false,
     "start_time": "2023-10-15T10:14:55.593917",
     "status": "completed"
    },
    "tags": []
   },
   "source": [
    "**Set Methods:**\n",
    "\n",
    "* Sets have several built-in methods that allow you to perform various operations on them. Some common set methods include add(), remove(), discard(), pop(), clear(), and more."
   ]
  },
  {
   "cell_type": "code",
   "execution_count": 66,
   "id": "21186f35",
   "metadata": {
    "execution": {
     "iopub.execute_input": "2023-10-15T10:14:55.712473Z",
     "iopub.status.busy": "2023-10-15T10:14:55.712117Z",
     "iopub.status.idle": "2023-10-15T10:14:55.719368Z",
     "shell.execute_reply": "2023-10-15T10:14:55.718343Z"
    },
    "papermill": {
     "duration": 0.049092,
     "end_time": "2023-10-15T10:14:55.721403",
     "exception": false,
     "start_time": "2023-10-15T10:14:55.672311",
     "status": "completed"
    },
    "tags": []
   },
   "outputs": [
    {
     "data": {
      "text/plain": [
       "{1, 4}"
      ]
     },
     "execution_count": 66,
     "metadata": {},
     "output_type": "execute_result"
    }
   ],
   "source": [
    "my_set = {1, 2, 3}\n",
    "\n",
    "my_set.add(4)\n",
    "\n",
    "my_set.remove(2)\n",
    "\n",
    "my_set.discard(3)\n",
    "\n",
    "my_set"
   ]
  },
  {
   "cell_type": "code",
   "execution_count": 67,
   "id": "3e8cd1b9",
   "metadata": {
    "execution": {
     "iopub.execute_input": "2023-10-15T10:14:55.799907Z",
     "iopub.status.busy": "2023-10-15T10:14:55.799034Z",
     "iopub.status.idle": "2023-10-15T10:14:55.807253Z",
     "shell.execute_reply": "2023-10-15T10:14:55.806371Z"
    },
    "papermill": {
     "duration": 0.049524,
     "end_time": "2023-10-15T10:14:55.809249",
     "exception": false,
     "start_time": "2023-10-15T10:14:55.759725",
     "status": "completed"
    },
    "tags": []
   },
   "outputs": [],
   "source": [
    "my_set = {1, 2, 3}\n",
    "\n",
    "my_set.add(4)                   # {1, 2, 3, 4} - Adds an element to the set\n",
    "my_set.remove(2)                # {1, 3, 4} - Removes an element; raises KeyError if element not found\n",
    "my_set.discard(3)               # {1, 4} - Removes an element if it exists; does nothing if element not found\n",
    "popped_element = my_set.pop()   # Removes and returns an arbitrary element from the set\n",
    "my_set.clear()                  # Removes all elements from the set\n",
    "\n",
    "# isdisjoint() method is used to check whether two sets are disjoint or not:\n",
    "\n",
    "set1 = {1, 2, 3}\n",
    "set2 = {4, 5, 6}\n",
    "set3 = {3, 6, 9}\n",
    "\n",
    "result1 = set1.isdisjoint(set2)  # True (No common elements)\n",
    "result2 = set1.isdisjoint(set3)  # False (Common element: 3)\n",
    "\n",
    "# issubset() method is used to check whether a set is a subset of another set,\n",
    "# issuperset() method is used to check whether a set is a superset of another set:\n",
    "\n",
    "set1 = {1, 2}\n",
    "set2 = {1, 2, 3, 4}\n",
    "set3 = {5, 6}\n",
    "\n",
    "result1 = set1.issubset(set2)  # True (set1 is a subset of set2)\n",
    "result2 = set1.issubset(set3)  # False (set1 is not a subset of set3)\n",
    "\n",
    "result3 = set2.issuperset(set1)  # True (set2 is a superset of set1)\n",
    "result4 = set2.issuperset(set3)  # False (set2 is not a superset of set3)\n"
   ]
  },
  {
   "cell_type": "markdown",
   "id": "ee18e968",
   "metadata": {
    "papermill": {
     "duration": 0.037624,
     "end_time": "2023-10-15T10:14:55.884837",
     "exception": false,
     "start_time": "2023-10-15T10:14:55.847213",
     "status": "completed"
    },
    "tags": []
   },
   "source": [
    "**Frozensets:**\n",
    "\n",
    "* A frozenset is an immutable version of a set. Once a frozenset is created, its elements cannot be changed. Frozensets are created using the frozenset() constructor."
   ]
  },
  {
   "cell_type": "code",
   "execution_count": 68,
   "id": "68b07102",
   "metadata": {
    "execution": {
     "iopub.execute_input": "2023-10-15T10:14:55.969009Z",
     "iopub.status.busy": "2023-10-15T10:14:55.968538Z",
     "iopub.status.idle": "2023-10-15T10:14:55.973708Z",
     "shell.execute_reply": "2023-10-15T10:14:55.972388Z"
    },
    "papermill": {
     "duration": 0.053182,
     "end_time": "2023-10-15T10:14:55.976009",
     "exception": false,
     "start_time": "2023-10-15T10:14:55.922827",
     "status": "completed"
    },
    "tags": []
   },
   "outputs": [],
   "source": [
    "my_frozenset = frozenset([1, 2, 3])"
   ]
  },
  {
   "cell_type": "markdown",
   "id": "3574d537",
   "metadata": {
    "papermill": {
     "duration": 0.03941,
     "end_time": "2023-10-15T10:14:56.054944",
     "exception": false,
     "start_time": "2023-10-15T10:14:56.015534",
     "status": "completed"
    },
    "tags": []
   },
   "source": [
    "* Sets are useful in various scenarios, such as removing duplicates from a list, testing membership in a collection, performing set operations, and more. Their ability to store unique elements and their support for mathematical set operations make them a valuable tool for certain programming tasks."
   ]
  },
  {
   "cell_type": "markdown",
   "id": "89a15b38",
   "metadata": {
    "papermill": {
     "duration": 0.037894,
     "end_time": "2023-10-15T10:14:56.131106",
     "exception": false,
     "start_time": "2023-10-15T10:14:56.093212",
     "status": "completed"
    },
    "tags": []
   },
   "source": [
    "<a id = \"12\"></a><br>\n",
    "<h1 style=\"background-color:#ADD8E6;font-family:courier;font-size:250%;font-style: oblique;font-weight: bold;font-variant: small-caps;text-align:center;border-radius: 15px 50px;\"> Comparing Data Structures </h1>\n",
    "\n",
    "**1. Mutability:**\n",
    "\n",
    "* Lists: Mutable (you can modify, add, or remove elements after creation).\n",
    "* Tuples: Immutable (elements cannot be changed after creation).\n",
    "* Dictionaries: Mutable (you can add, update, or delete key-value pairs after creation).\n",
    "* Sets: Mutable (you can add or remove elements after creation).\n",
    "\n",
    "**2. Ordered vs. Unordered:**\n",
    "\n",
    "* Lists: Ordered (elements have a specific order and can be accessed by index).\n",
    "* Tuples: Ordered (elements have a specific order and can be accessed by index).\n",
    "* Dictionaries: Unordered (elements are stored as key-value pairs, not in a specific order).\n",
    "* Sets: Unordered (elements are not stored in a specific order).\n",
    "\n",
    "**3. Duplicates:**\n",
    "\n",
    "* Lists: Allow duplicates (you can have the same value multiple times in a list).\n",
    "* Tuples: Allow duplicates (same as lists).\n",
    "* Dictionaries: Do not allow duplicate keys (each key must be unique).\n",
    "* Sets: Do not allow duplicates (each element must be unique).\n",
    "\n",
    "**4. Supported Data Types:**\n",
    "\n",
    "* Lists: Can store any data type, including other lists, tuples, dictionaries, etc.\n",
    "* Tuples: Can store any data type, including other tuples, lists, dictionaries, etc.\n",
    "* Dictionaries: Keys must be of an immutable data type (e.g., strings, numbers, tuples), values can be any data type.\n",
    "* Sets: Can store any hashable data type (e.g., strings, numbers, tuples), but not other sets or dictionaries.\n",
    "\n",
    "**5. Use Cases:**\n",
    "\n",
    "* Lists: General-purpose data structure for ordered collections that may change in size or content.\n",
    "* Tuples: Useful when you need an immutable and ordered collection of elements, especially when used as keys in dictionaries or as parts of a larger data structure.\n",
    "* Dictionaries: Used for key-value pairs, mapping elements to corresponding values. Ideal for quick lookups and organizing data.\n",
    "* Sets: Ideal for storing unique elements and performing set operations like union, intersection, etc.\n",
    "\n",
    "**6. Memory Efficiency:**\n",
    "\n",
    "* Lists: Use more memory because they are mutable and require additional space for dynamic resizing.\n",
    "* Tuples: Use less memory compared to lists due to immutability and fixed size.\n",
    "* Dictionaries: Use more memory due to the need to store both keys and values.\n",
    "* Sets: Use more memory than lists or tuples, but less than dictionaries, especially for large collections of unique elements."
   ]
  },
  {
   "cell_type": "markdown",
   "id": "41f34517",
   "metadata": {
    "papermill": {
     "duration": 0.038,
     "end_time": "2023-10-15T10:14:56.207422",
     "exception": false,
     "start_time": "2023-10-15T10:14:56.169422",
     "status": "completed"
    },
    "tags": []
   },
   "source": [
    "<a id = \"13\"></a><br>\n",
    "<h1 style=\"background-color:#fbb714;font-family:courier;font-size:300%;font-style: oblique;font-weight: bold;font-variant: small-caps;text-align:center;border-radius: 15px 50px;\"> Functions </h1>"
   ]
  },
  {
   "cell_type": "markdown",
   "id": "f217f928",
   "metadata": {
    "papermill": {
     "duration": 0.037834,
     "end_time": "2023-10-15T10:14:56.283272",
     "exception": false,
     "start_time": "2023-10-15T10:14:56.245438",
     "status": "completed"
    },
    "tags": []
   },
   "source": [
    "<a id = \"14\"></a><br>\n",
    "<h1 style=\"background-color:#ADD8E6;font-family:courier;font-size:250%;font-style: oblique;font-weight: bold;font-variant: small-caps;text-align:center;border-radius: 15px 50px;\"> Overview </h1>\n",
    "\n",
    "In Python, a function is a block of reusable code that performs a specific task or set of tasks. Functions allow you to break down your code into smaller, more manageable pieces, making your code more organized, modular, and easier to understand. \n",
    "\n",
    "Functions are defined using the def keyword, followed by the function name, a set of parentheses (), and a colon :. The body of the function is indented below the def statement.\n",
    "\n",
    "* Here's the basic syntax of a function in Python:"
   ]
  },
  {
   "cell_type": "code",
   "execution_count": 69,
   "id": "0edbcb45",
   "metadata": {
    "execution": {
     "iopub.execute_input": "2023-10-15T10:14:56.362514Z",
     "iopub.status.busy": "2023-10-15T10:14:56.362110Z",
     "iopub.status.idle": "2023-10-15T10:14:56.367243Z",
     "shell.execute_reply": "2023-10-15T10:14:56.365871Z"
    },
    "papermill": {
     "duration": 0.047634,
     "end_time": "2023-10-15T10:14:56.369801",
     "exception": false,
     "start_time": "2023-10-15T10:14:56.322167",
     "status": "completed"
    },
    "tags": []
   },
   "outputs": [],
   "source": [
    "# def function_name(parameter1, parameter2, ...):\n",
    "    \n",
    "    # Function body\n",
    "    # Code to perform the task\n",
    "    # Optional return statement\n",
    "    \n",
    "# function_name: The name you give to your function.\n",
    "# parameter1, parameter2, ...: Input parameters (arguments) that the function accepts. These are optional and can be used to pass data into the function.\n",
    "# return: An optional statement used to return a value from the function back to the caller. If no return statement is specified, the function returns None by default."
   ]
  },
  {
   "cell_type": "code",
   "execution_count": 70,
   "id": "1080c5ca",
   "metadata": {
    "execution": {
     "iopub.execute_input": "2023-10-15T10:14:56.457000Z",
     "iopub.status.busy": "2023-10-15T10:14:56.456568Z",
     "iopub.status.idle": "2023-10-15T10:14:56.463527Z",
     "shell.execute_reply": "2023-10-15T10:14:56.461828Z"
    },
    "papermill": {
     "duration": 0.057664,
     "end_time": "2023-10-15T10:14:56.465758",
     "exception": false,
     "start_time": "2023-10-15T10:14:56.408094",
     "status": "completed"
    },
    "tags": []
   },
   "outputs": [
    {
     "name": "stdout",
     "output_type": "stream",
     "text": [
      "8\n"
     ]
    }
   ],
   "source": [
    "def add_numbers(a, b):    \n",
    "    result = a + b    \n",
    "    return result\n",
    "\n",
    "# Call the function and store the result in a variable\n",
    "\n",
    "sum_result = add_numbers(5, 3)\n",
    "print(sum_result)  # Output: 8"
   ]
  },
  {
   "cell_type": "markdown",
   "id": "6e4f5706",
   "metadata": {
    "papermill": {
     "duration": 0.040039,
     "end_time": "2023-10-15T10:14:56.545517",
     "exception": false,
     "start_time": "2023-10-15T10:14:56.505478",
     "status": "completed"
    },
    "tags": []
   },
   "source": [
    "* In this example, we define a function called add_numbers that takes two parameters a and b, adds them together, and returns the result using the return statement. We then call the function with arguments 5 and 3, and the result is stored in the variable sum_result, which is then printed to the console."
   ]
  },
  {
   "cell_type": "code",
   "execution_count": 71,
   "id": "99ab35dd",
   "metadata": {
    "execution": {
     "iopub.execute_input": "2023-10-15T10:14:56.627003Z",
     "iopub.status.busy": "2023-10-15T10:14:56.626566Z",
     "iopub.status.idle": "2023-10-15T10:14:56.633336Z",
     "shell.execute_reply": "2023-10-15T10:14:56.631931Z"
    },
    "papermill": {
     "duration": 0.050939,
     "end_time": "2023-10-15T10:14:56.636234",
     "exception": false,
     "start_time": "2023-10-15T10:14:56.585295",
     "status": "completed"
    },
    "tags": []
   },
   "outputs": [
    {
     "name": "stdout",
     "output_type": "stream",
     "text": [
      "[8]\n",
      "[8, 144]\n",
      "[8, 144, 1800]\n"
     ]
    }
   ],
   "source": [
    "list_store = []\n",
    "\n",
    "def add_element(a, b):\n",
    "    c = a * b\n",
    "    list_store.append(c)\n",
    "    print(list_store)\n",
    "\n",
    "\n",
    "add_element(1, 8)\n",
    "add_element(18, 8)\n",
    "add_element(180, 10)\n",
    "\n",
    "# [8]\n",
    "# [8, 144]\n",
    "# [8, 144, 1800]"
   ]
  },
  {
   "cell_type": "code",
   "execution_count": 72,
   "id": "1ed423a5",
   "metadata": {
    "execution": {
     "iopub.execute_input": "2023-10-15T10:14:56.721347Z",
     "iopub.status.busy": "2023-10-15T10:14:56.721003Z",
     "iopub.status.idle": "2023-10-15T10:14:56.726975Z",
     "shell.execute_reply": "2023-10-15T10:14:56.725846Z"
    },
    "papermill": {
     "duration": 0.05066,
     "end_time": "2023-10-15T10:14:56.729447",
     "exception": false,
     "start_time": "2023-10-15T10:14:56.678787",
     "status": "completed"
    },
    "tags": []
   },
   "outputs": [
    {
     "name": "stdout",
     "output_type": "stream",
     "text": [
      "1.4102564102564104\n"
     ]
    }
   ],
   "source": [
    "def calculate(varm, moisture, charge):\n",
    "    print((varm + moisture) / charge)\n",
    "\n",
    "\n",
    "calculate(98, 12, 78)"
   ]
  },
  {
   "cell_type": "code",
   "execution_count": 73,
   "id": "f3a56be9",
   "metadata": {
    "execution": {
     "iopub.execute_input": "2023-10-15T10:14:56.813715Z",
     "iopub.status.busy": "2023-10-15T10:14:56.813374Z",
     "iopub.status.idle": "2023-10-15T10:14:56.819480Z",
     "shell.execute_reply": "2023-10-15T10:14:56.818339Z"
    },
    "papermill": {
     "duration": 0.050108,
     "end_time": "2023-10-15T10:14:56.821543",
     "exception": false,
     "start_time": "2023-10-15T10:14:56.771435",
     "status": "completed"
    },
    "tags": []
   },
   "outputs": [],
   "source": [
    "def calculate(varm, moisture, charge):\n",
    "    varm = varm * 2\n",
    "    moisture = moisture * 2\n",
    "    charge = charge * 2\n",
    "    output = (varm + moisture) / charge\n",
    "    return varm, moisture, charge, output\n",
    "\n",
    "\n",
    "type(calculate(98, 12, 78))\n",
    "\n",
    "varma, moisturea, chargea, outputa = calculate(98, 12, 78)"
   ]
  },
  {
   "cell_type": "code",
   "execution_count": 74,
   "id": "d9811ccd",
   "metadata": {
    "execution": {
     "iopub.execute_input": "2023-10-15T10:14:56.899568Z",
     "iopub.status.busy": "2023-10-15T10:14:56.899214Z",
     "iopub.status.idle": "2023-10-15T10:14:56.906474Z",
     "shell.execute_reply": "2023-10-15T10:14:56.905116Z"
    },
    "papermill": {
     "duration": 0.0485,
     "end_time": "2023-10-15T10:14:56.908468",
     "exception": false,
     "start_time": "2023-10-15T10:14:56.859968",
     "status": "completed"
    },
    "tags": []
   },
   "outputs": [
    {
     "data": {
      "text/plain": [
       "80"
      ]
     },
     "execution_count": 74,
     "metadata": {},
     "output_type": "execute_result"
    }
   ],
   "source": [
    "# Function in fuction\n",
    "\n",
    "def calculate(varm, moisture, charge):\n",
    "    return int((varm + moisture) / charge)\n",
    "\n",
    "\n",
    "calculate(90, 12, 12) * 10 # 80"
   ]
  },
  {
   "cell_type": "code",
   "execution_count": 75,
   "id": "0632558f",
   "metadata": {
    "execution": {
     "iopub.execute_input": "2023-10-15T10:14:56.991780Z",
     "iopub.status.busy": "2023-10-15T10:14:56.991355Z",
     "iopub.status.idle": "2023-10-15T10:14:56.997573Z",
     "shell.execute_reply": "2023-10-15T10:14:56.996813Z"
    },
    "papermill": {
     "duration": 0.051839,
     "end_time": "2023-10-15T10:14:56.999633",
     "exception": false,
     "start_time": "2023-10-15T10:14:56.947794",
     "status": "completed"
    },
    "tags": []
   },
   "outputs": [
    {
     "data": {
      "text/plain": [
       "4.5"
      ]
     },
     "execution_count": 75,
     "metadata": {},
     "output_type": "execute_result"
    }
   ],
   "source": [
    "def standardization(a, p):\n",
    "    return a * 10 / 100 * p * p\n",
    "\n",
    "\n",
    "standardization(45, 1) # 4.5"
   ]
  },
  {
   "cell_type": "code",
   "execution_count": 76,
   "id": "2629aea1",
   "metadata": {
    "execution": {
     "iopub.execute_input": "2023-10-15T10:14:57.084528Z",
     "iopub.status.busy": "2023-10-15T10:14:57.084201Z",
     "iopub.status.idle": "2023-10-15T10:14:57.091397Z",
     "shell.execute_reply": "2023-10-15T10:14:57.090098Z"
    },
    "papermill": {
     "duration": 0.052733,
     "end_time": "2023-10-15T10:14:57.093586",
     "exception": false,
     "start_time": "2023-10-15T10:14:57.040853",
     "status": "completed"
    },
    "tags": []
   },
   "outputs": [
    {
     "name": "stdout",
     "output_type": "stream",
     "text": [
      "0.0\n"
     ]
    }
   ],
   "source": [
    "def calculate(varm, moisture, charge):\n",
    "    return int((varm + moisture) / charge)\n",
    "\n",
    "def standardization(a, p):\n",
    "    return a * 10 / 100 * p * p\n",
    "\n",
    "def all_calculation(varm, moisture, charge, p):\n",
    "    a = calculate(varm, moisture, charge)\n",
    "    b = standardization(a, p)\n",
    "    print(b * 10)\n",
    "\n",
    "\n",
    "all_calculation(1, 3, 5, 12) # 0.0"
   ]
  },
  {
   "cell_type": "code",
   "execution_count": 77,
   "id": "0dcccedb",
   "metadata": {
    "execution": {
     "iopub.execute_input": "2023-10-15T10:14:57.180345Z",
     "iopub.status.busy": "2023-10-15T10:14:57.179955Z",
     "iopub.status.idle": "2023-10-15T10:14:57.186263Z",
     "shell.execute_reply": "2023-10-15T10:14:57.185225Z"
    },
    "papermill": {
     "duration": 0.05229,
     "end_time": "2023-10-15T10:14:57.189352",
     "exception": false,
     "start_time": "2023-10-15T10:14:57.137062",
     "status": "completed"
    },
    "tags": []
   },
   "outputs": [
    {
     "name": "stdout",
     "output_type": "stream",
     "text": [
      "[13, 93]\n",
      "[2, 18, 22]\n"
     ]
    }
   ],
   "source": [
    "l = [2, 13, 18, 93, 22]\n",
    "\n",
    "def tek_cift(l):\n",
    "    tek = []\n",
    "    cift = []\n",
    "\n",
    "    for i in l:\n",
    "        if i % 2 == 0:\n",
    "            cift.append(i)\n",
    "        else:\n",
    "            tek.append(i)\n",
    "    return tek, cift\n",
    "\n",
    "tek, cift = tek_cift(l)\n",
    "\n",
    "print(tek) # [13, 93]\n",
    "print(cift) # [2, 18, 22]"
   ]
  },
  {
   "cell_type": "markdown",
   "id": "a3b6126e",
   "metadata": {
    "papermill": {
     "duration": 0.038773,
     "end_time": "2023-10-15T10:14:57.269136",
     "exception": false,
     "start_time": "2023-10-15T10:14:57.230363",
     "status": "completed"
    },
    "tags": []
   },
   "source": [
    "<div style=\"border-radius:10px; border:#DEB887 solid; padding: 15px; background-color: #FFFAF0; font-size:100%; text-align:left\">\n",
    "\n",
    "<h3 align=\"left\"><font color='#DEB887'>💡 Reasons to use Functions: </font></h3>\n",
    "\n",
    "**1. Modularity and Reusability:**\n",
    "\n",
    "Functions allow you to break down your code into smaller, self-contained modules. Each function performs a specific task or set of tasks, making the code easier to understand, test, and maintain. Once you define a function, you can reuse it in different parts of your program or even in other programs, promoting code reusability.\n",
    "\n",
    "**2. Code Organization:**\n",
    "\n",
    "Functions help organize your code into logical blocks, making it more structured and easier to manage. Instead of writing all the code in a single block, you can divide it into functions, each responsible for a specific part of the program's functionality. This modular approach improves code readability and maintainability.\n",
    "\n",
    "**3. Abstraction and Encapsulation:**\n",
    "\n",
    "Functions provide a level of abstraction, hiding the implementation details from the caller. Users of the function only need to know what the function does and how to call it, without worrying about the internal details of the function's code. This encapsulation makes the code more manageable and reduces complexity.\n",
    "\n",
    "**4. Code Reuse and DRY Principle:**\n",
    "\n",
    "DRY stands for \"Don't Repeat Yourself,\" which is a principle in software development that encourages avoiding duplication of code. By using functions, you can write a piece of code once and reuse it multiple times throughout your program, avoiding redundancy and making maintenance easier.\n",
    "\n",
    "**5. Testing and Debugging:**\n",
    "\n",
    "Functions simplify testing and debugging because you can test each function individually. When a function is not working correctly, you can focus on debugging that specific function, which is often easier than debugging the entire program.\n",
    "\n",
    "**6. Readability and Maintainability:**\n",
    "\n",
    "Well-structured functions with clear names and purpose make the code more readable and maintainable. Other developers (including your future self) can understand the code more easily, leading to better collaboration and smoother code maintenance.\n",
    "\n",
    "**7. Code Performance:**\n",
    "\n",
    "Functions can improve code performance by optimizing reusable parts of the code. For example, you can avoid redundant calculations by putting them in a function, reducing computation time and making the program more efficient."
   ]
  },
  {
   "cell_type": "markdown",
   "id": "b196bbdb",
   "metadata": {
    "papermill": {
     "duration": 0.03939,
     "end_time": "2023-10-15T10:14:57.349193",
     "exception": false,
     "start_time": "2023-10-15T10:14:57.309803",
     "status": "completed"
    },
    "tags": []
   },
   "source": [
    "<a id = \"15\"></a><br>\n",
    "<h1 style=\"background-color:#ADD8E6;font-family:courier;font-size:250%;font-style: oblique;font-weight: bold;font-variant: small-caps;text-align:center;border-radius: 15px 50px;\"> Local & Global Variables </h1>"
   ]
  },
  {
   "cell_type": "markdown",
   "id": "341b7aa8",
   "metadata": {
    "papermill": {
     "duration": 0.039982,
     "end_time": "2023-10-15T10:14:57.429695",
     "exception": false,
     "start_time": "2023-10-15T10:14:57.389713",
     "status": "completed"
    },
    "tags": []
   },
   "source": [
    "In Python, variables can have different scopes, which determine where the variable is accessible or visible within the code. The two main types of variable scopes are local variables and global variables."
   ]
  },
  {
   "cell_type": "markdown",
   "id": "9d4e8f21",
   "metadata": {
    "papermill": {
     "duration": 0.039182,
     "end_time": "2023-10-15T10:14:57.507852",
     "exception": false,
     "start_time": "2023-10-15T10:14:57.468670",
     "status": "completed"
    },
    "tags": []
   },
   "source": [
    "**Local Variables:**\n",
    "\n",
    "* Local variables are defined within the body of a function or a block (indicated by indentation) and are only accessible within that specific function or block.\n",
    "* These variables are created when the function or block is entered and destroyed when it exits.\n",
    "* Local variables cannot be accessed from outside the function or block in which they are defined.\n",
    "* Each function call or block execution creates its own instance of local variables, independent of other function calls or blocks."
   ]
  },
  {
   "cell_type": "code",
   "execution_count": 78,
   "id": "959c985b",
   "metadata": {
    "execution": {
     "iopub.execute_input": "2023-10-15T10:14:57.587563Z",
     "iopub.status.busy": "2023-10-15T10:14:57.587135Z",
     "iopub.status.idle": "2023-10-15T10:14:57.594025Z",
     "shell.execute_reply": "2023-10-15T10:14:57.592494Z"
    },
    "papermill": {
     "duration": 0.049399,
     "end_time": "2023-10-15T10:14:57.596215",
     "exception": false,
     "start_time": "2023-10-15T10:14:57.546816",
     "status": "completed"
    },
    "tags": []
   },
   "outputs": [
    {
     "name": "stdout",
     "output_type": "stream",
     "text": [
      "10\n",
      "42\n"
     ]
    }
   ],
   "source": [
    "def my_function():\n",
    "    x = 10   # Local variable\n",
    "    print(x)\n",
    "\n",
    "my_function()   # Output: 10\n",
    "\n",
    "# Accessing the local variable outside the function will raise an error\n",
    "\n",
    "print(x)   # NameError: name 'x' is not defined"
   ]
  },
  {
   "cell_type": "markdown",
   "id": "06d3548f",
   "metadata": {
    "papermill": {
     "duration": 0.040033,
     "end_time": "2023-10-15T10:14:57.679150",
     "exception": false,
     "start_time": "2023-10-15T10:14:57.639117",
     "status": "completed"
    },
    "tags": []
   },
   "source": [
    "* In this example, the variable x is a local variable defined within the function my_function(). It is accessible and can be used only within the scope of the function. Trying to access x outside the function will result in a NameError since the variable is not defined in the global scope."
   ]
  },
  {
   "cell_type": "markdown",
   "id": "7b3c207d",
   "metadata": {
    "papermill": {
     "duration": 0.040486,
     "end_time": "2023-10-15T10:14:57.761020",
     "exception": false,
     "start_time": "2023-10-15T10:14:57.720534",
     "status": "completed"
    },
    "tags": []
   },
   "source": [
    "**Global Variables:**\n",
    "\n",
    "* Global variables are defined at the top-level of a script or module, outside any function or block.\n",
    "* These variables are accessible from any part of the code, including inside functions, as long as they are not shadowed by local variables with the same name.\n",
    "* Global variables remain in memory throughout the entire execution of the program, and their values persist across function calls and blocks.\n",
    "* To modify a global variable from within a function, you need to use the global keyword to indicate that you are referring to the global variable and not creating a new local variable."
   ]
  },
  {
   "cell_type": "code",
   "execution_count": 79,
   "id": "0257163c",
   "metadata": {
    "execution": {
     "iopub.execute_input": "2023-10-15T10:14:57.841307Z",
     "iopub.status.busy": "2023-10-15T10:14:57.840969Z",
     "iopub.status.idle": "2023-10-15T10:14:57.846086Z",
     "shell.execute_reply": "2023-10-15T10:14:57.845157Z"
    },
    "papermill": {
     "duration": 0.048292,
     "end_time": "2023-10-15T10:14:57.849132",
     "exception": false,
     "start_time": "2023-10-15T10:14:57.800840",
     "status": "completed"
    },
    "tags": []
   },
   "outputs": [
    {
     "name": "stdout",
     "output_type": "stream",
     "text": [
      "21\n"
     ]
    }
   ],
   "source": [
    "global_var = 20   # Global variable\n",
    "\n",
    "def my_function():\n",
    "    local_var = 30   # Local variable\n",
    "    global global_var   # Using the global keyword to modify the global variable\n",
    "    global_var += 1\n",
    "\n",
    "my_function()\n",
    "\n",
    "print(global_var)   # Output: 21"
   ]
  },
  {
   "cell_type": "markdown",
   "id": "d2adee82",
   "metadata": {
    "papermill": {
     "duration": 0.040779,
     "end_time": "2023-10-15T10:14:57.932309",
     "exception": false,
     "start_time": "2023-10-15T10:14:57.891530",
     "status": "completed"
    },
    "tags": []
   },
   "source": [
    "* In this example, global_var is a global variable defined outside the function, and local_var is a local variable defined within the function. The function modifies the global variable global_var using the global keyword, and its value is updated even after the function call."
   ]
  },
  {
   "cell_type": "markdown",
   "id": "0a707a71",
   "metadata": {
    "papermill": {
     "duration": 0.041709,
     "end_time": "2023-10-15T10:14:58.016309",
     "exception": false,
     "start_time": "2023-10-15T10:14:57.974600",
     "status": "completed"
    },
    "tags": []
   },
   "source": [
    "<a id = \"16\"></a><br>\n",
    "<h1 style=\"background-color:#fbb714;font-family:courier;font-size:300%;font-style: oblique;font-weight: bold;font-variant: small-caps;text-align:center;border-radius: 15px 50px;\"> Conditional Statements & Loops </h1>"
   ]
  },
  {
   "cell_type": "markdown",
   "id": "915deb53",
   "metadata": {
    "papermill": {
     "duration": 0.04142,
     "end_time": "2023-10-15T10:14:58.099794",
     "exception": false,
     "start_time": "2023-10-15T10:14:58.058374",
     "status": "completed"
    },
    "tags": []
   },
   "source": [
    "<a id = \"17\"></a><br>\n",
    "<h1 style=\"background-color:#ADD8E6;font-family:courier;font-size:250%;font-style: oblique;font-weight: bold;font-variant: small-caps;text-align:center;border-radius: 15px 50px;\"> True & False </h1>\n",
    "\n",
    "In Python, True and False are the two boolean values representing the truthfulness or falseness of a condition. Booleans are a data type that can only have two possible values: True or False. They are used in conditional statements and logical operations to make decisions and control the flow of the program.\n",
    "\n",
    "1. True: Represents a condition that is considered true or valid.\n",
    "2. False: Represents a condition that is considered false or invalid.\n",
    "\n",
    "* Boolean values are the result of comparisons or logical operations. For example, the following comparison operations return boolean values:"
   ]
  },
  {
   "cell_type": "code",
   "execution_count": 80,
   "id": "bc7c1351",
   "metadata": {
    "execution": {
     "iopub.execute_input": "2023-10-15T10:14:58.186073Z",
     "iopub.status.busy": "2023-10-15T10:14:58.185604Z",
     "iopub.status.idle": "2023-10-15T10:14:58.191428Z",
     "shell.execute_reply": "2023-10-15T10:14:58.190141Z"
    },
    "papermill": {
     "duration": 0.052473,
     "end_time": "2023-10-15T10:14:58.193915",
     "exception": false,
     "start_time": "2023-10-15T10:14:58.141442",
     "status": "completed"
    },
    "tags": []
   },
   "outputs": [],
   "source": [
    "x = 5\n",
    "y = 10\n",
    "\n",
    "result1 = x < y   # True (5 is less than 10)\n",
    "result2 = x == y  # False (5 is not equal to 10)\n",
    "result3 = x >= y  # False (5 is not greater than or equal to 10)"
   ]
  },
  {
   "cell_type": "markdown",
   "id": "9de069c3",
   "metadata": {
    "papermill": {
     "duration": 0.040742,
     "end_time": "2023-10-15T10:14:58.276700",
     "exception": false,
     "start_time": "2023-10-15T10:14:58.235958",
     "status": "completed"
    },
    "tags": []
   },
   "source": [
    "* Logical operations also produce boolean values:"
   ]
  },
  {
   "cell_type": "code",
   "execution_count": 81,
   "id": "92a1cd7e",
   "metadata": {
    "execution": {
     "iopub.execute_input": "2023-10-15T10:14:58.360498Z",
     "iopub.status.busy": "2023-10-15T10:14:58.360092Z",
     "iopub.status.idle": "2023-10-15T10:14:58.366079Z",
     "shell.execute_reply": "2023-10-15T10:14:58.364767Z"
    },
    "papermill": {
     "duration": 0.050418,
     "end_time": "2023-10-15T10:14:58.368211",
     "exception": false,
     "start_time": "2023-10-15T10:14:58.317793",
     "status": "completed"
    },
    "tags": []
   },
   "outputs": [],
   "source": [
    "a = True\n",
    "b = False\n",
    "\n",
    "result4 = a and b  # False (Logical AND - both a and b are False)\n",
    "result5 = a or b   # True (Logical OR - at least one of a or b is True)\n",
    "result6 = not b    # True (Logical NOT - negation of b, which is False)"
   ]
  },
  {
   "cell_type": "markdown",
   "id": "31231b8a",
   "metadata": {
    "papermill": {
     "duration": 0.041002,
     "end_time": "2023-10-15T10:14:58.451216",
     "exception": false,
     "start_time": "2023-10-15T10:14:58.410214",
     "status": "completed"
    },
    "tags": []
   },
   "source": [
    "* These boolean values are fundamental in conditional statements (if, elif, else) and loops (while, for), where they determine which blocks of code to execute based on the truthfulness of certain conditions.\n",
    "\n",
    "* It's important to note that Python is case-sensitive, so **True** and **False** must be written with an uppercase **\"T\"** and **\"F\"** respectively. Writing them as true or false (with lowercase) will raise a NameError because Python will treat them as undefined variables."
   ]
  },
  {
   "cell_type": "markdown",
   "id": "636577b3",
   "metadata": {
    "papermill": {
     "duration": 0.041569,
     "end_time": "2023-10-15T10:14:58.534218",
     "exception": false,
     "start_time": "2023-10-15T10:14:58.492649",
     "status": "completed"
    },
    "tags": []
   },
   "source": [
    "<a id = \"18\"></a><br>\n",
    "<h1 style=\"background-color:#ADD8E6;font-family:courier;font-size:250%;font-style: oblique;font-weight: bold;font-variant: small-caps;text-align:center;border-radius: 15px 50px;\"> If - Elif - Else </h1>\n",
    "\n",
    "Conditional statements in Python allow you to control the flow of your program based on certain conditions. They help your program make decisions and execute different blocks of code depending on whether specific conditions are true or false. The primary conditional statements in Python are if, elif (short for \"else if\"), and else.\n",
    "\n",
    "* Here's the basic syntax of conditional statements in Python:"
   ]
  },
  {
   "cell_type": "code",
   "execution_count": 82,
   "id": "52321352",
   "metadata": {
    "execution": {
     "iopub.execute_input": "2023-10-15T10:14:58.619350Z",
     "iopub.status.busy": "2023-10-15T10:14:58.619021Z",
     "iopub.status.idle": "2023-10-15T10:14:58.623502Z",
     "shell.execute_reply": "2023-10-15T10:14:58.622422Z"
    },
    "papermill": {
     "duration": 0.050436,
     "end_time": "2023-10-15T10:14:58.625778",
     "exception": false,
     "start_time": "2023-10-15T10:14:58.575342",
     "status": "completed"
    },
    "tags": []
   },
   "outputs": [],
   "source": [
    "# if condition1:\n",
    "    # Code block to execute if condition1 is True\n",
    "# elif condition2:\n",
    "    # Code block to execute if condition1 is False and condition2 is True\n",
    "# else:\n",
    "    # Code block to execute if both condition1 and condition2 are False"
   ]
  },
  {
   "cell_type": "markdown",
   "id": "b7bb421b",
   "metadata": {
    "papermill": {
     "duration": 0.041721,
     "end_time": "2023-10-15T10:14:58.709911",
     "exception": false,
     "start_time": "2023-10-15T10:14:58.668190",
     "status": "completed"
    },
    "tags": []
   },
   "source": [
    "* condition1, condition2: These are expressions that evaluate to either True or False. If the condition is True, the corresponding code block following the condition is executed. If the condition is False, the program moves to the next condition or the else block if present."
   ]
  },
  {
   "cell_type": "code",
   "execution_count": 83,
   "id": "04cbe7e3",
   "metadata": {
    "execution": {
     "iopub.execute_input": "2023-10-15T10:14:58.796720Z",
     "iopub.status.busy": "2023-10-15T10:14:58.796355Z",
     "iopub.status.idle": "2023-10-15T10:14:58.802634Z",
     "shell.execute_reply": "2023-10-15T10:14:58.801525Z"
    },
    "papermill": {
     "duration": 0.05376,
     "end_time": "2023-10-15T10:14:58.804900",
     "exception": false,
     "start_time": "2023-10-15T10:14:58.751140",
     "status": "completed"
    },
    "tags": []
   },
   "outputs": [
    {
     "name": "stdout",
     "output_type": "stream",
     "text": [
      "x is positive\n"
     ]
    }
   ],
   "source": [
    "x = 10\n",
    "\n",
    "if x > 0:\n",
    "    print(\"x is positive\")\n",
    "elif x < 0:\n",
    "    print(\"x is negative\")\n",
    "else:\n",
    "    print(\"x is zero\")\n",
    "    \n",
    "# x is positive"
   ]
  },
  {
   "cell_type": "markdown",
   "id": "4a77b267",
   "metadata": {
    "papermill": {
     "duration": 0.041021,
     "end_time": "2023-10-15T10:14:58.888636",
     "exception": false,
     "start_time": "2023-10-15T10:14:58.847615",
     "status": "completed"
    },
    "tags": []
   },
   "source": [
    "In this example, the program checks the value of the variable x and executes the appropriate block of code based on the value:\n",
    "\n",
    "* If x is greater than 0, it prints \"x is positive.\"\n",
    "* If x is less than 0, it prints \"x is negative.\"\n",
    "* If neither condition is true (i.e., x is 0), it prints \"x is zero.\""
   ]
  },
  {
   "cell_type": "markdown",
   "id": "b5e8ce3d",
   "metadata": {
    "papermill": {
     "duration": 0.045459,
     "end_time": "2023-10-15T10:14:58.975934",
     "exception": false,
     "start_time": "2023-10-15T10:14:58.930475",
     "status": "completed"
    },
    "tags": []
   },
   "source": [
    "* You can also use logical operators like **and, or, and not** to combine multiple conditions. "
   ]
  },
  {
   "cell_type": "code",
   "execution_count": 84,
   "id": "919d436b",
   "metadata": {
    "execution": {
     "iopub.execute_input": "2023-10-15T10:14:59.064429Z",
     "iopub.status.busy": "2023-10-15T10:14:59.064091Z",
     "iopub.status.idle": "2023-10-15T10:14:59.070132Z",
     "shell.execute_reply": "2023-10-15T10:14:59.068833Z"
    },
    "papermill": {
     "duration": 0.053509,
     "end_time": "2023-10-15T10:14:59.072533",
     "exception": false,
     "start_time": "2023-10-15T10:14:59.019024",
     "status": "completed"
    },
    "tags": []
   },
   "outputs": [
    {
     "name": "stdout",
     "output_type": "stream",
     "text": [
      "Both x and y are positive\n"
     ]
    }
   ],
   "source": [
    "x = 5\n",
    "y = 10\n",
    "\n",
    "if x > 0 and y > 0:\n",
    "    print(\"Both x and y are positive\")\n",
    "elif x > 0 or y > 0:\n",
    "    print(\"At least one of x or y is positive\")\n",
    "else:\n",
    "    print(\"Neither x nor y is positive\")\n",
    "    \n",
    "# Both x and y are positive"
   ]
  },
  {
   "cell_type": "markdown",
   "id": "8d12fab0",
   "metadata": {
    "papermill": {
     "duration": 0.04165,
     "end_time": "2023-10-15T10:14:59.155946",
     "exception": false,
     "start_time": "2023-10-15T10:14:59.114296",
     "status": "completed"
    },
    "tags": []
   },
   "source": [
    "* In this case, the code block will be executed if x is greater than 0 and less than 10, meaning it is a single-digit positive number.\n",
    "\n",
    "* You can nest conditional statements within each other to handle more complex decision-making scenarios. Be mindful of proper indentation when using nested statements.\n",
    "\n",
    "* Conditional statements are a fundamental part of programming, as they enable your code to make dynamic choices based on data and conditions, making your programs more flexible and responsive to different inputs and scenarios."
   ]
  },
  {
   "cell_type": "code",
   "execution_count": 85,
   "id": "303a7148",
   "metadata": {
    "execution": {
     "iopub.execute_input": "2023-10-15T10:14:59.240884Z",
     "iopub.status.busy": "2023-10-15T10:14:59.240534Z",
     "iopub.status.idle": "2023-10-15T10:14:59.245430Z",
     "shell.execute_reply": "2023-10-15T10:14:59.244588Z"
    },
    "papermill": {
     "duration": 0.051109,
     "end_time": "2023-10-15T10:14:59.248558",
     "exception": false,
     "start_time": "2023-10-15T10:14:59.197449",
     "status": "completed"
    },
    "tags": []
   },
   "outputs": [
    {
     "name": "stdout",
     "output_type": "stream",
     "text": [
      "number is not 10\n"
     ]
    }
   ],
   "source": [
    "def number_check(number):\n",
    "    if number == 10:\n",
    "        print(\"number is 10\")\n",
    "    else:\n",
    "        print(\"number is not 10\")\n",
    "\n",
    "number_check(12)\n",
    "\n",
    "# number is not 10"
   ]
  },
  {
   "cell_type": "code",
   "execution_count": 86,
   "id": "31eefd77",
   "metadata": {
    "execution": {
     "iopub.execute_input": "2023-10-15T10:14:59.335832Z",
     "iopub.status.busy": "2023-10-15T10:14:59.335433Z",
     "iopub.status.idle": "2023-10-15T10:14:59.341613Z",
     "shell.execute_reply": "2023-10-15T10:14:59.340562Z"
    },
    "papermill": {
     "duration": 0.052297,
     "end_time": "2023-10-15T10:14:59.343819",
     "exception": false,
     "start_time": "2023-10-15T10:14:59.291522",
     "status": "completed"
    },
    "tags": []
   },
   "outputs": [
    {
     "name": "stdout",
     "output_type": "stream",
     "text": [
      "less than 10\n"
     ]
    }
   ],
   "source": [
    "def number_check(number):\n",
    "    if number > 10:\n",
    "        print(\"greater than 10\")\n",
    "    elif number < 10:\n",
    "        print(\"less than 10\")\n",
    "    else:\n",
    "        print(\"equal to 10\")\n",
    "\n",
    "number_check(6)\n",
    "\n",
    "# less than 10"
   ]
  },
  {
   "cell_type": "markdown",
   "id": "6944f09d",
   "metadata": {
    "papermill": {
     "duration": 0.041986,
     "end_time": "2023-10-15T10:14:59.427980",
     "exception": false,
     "start_time": "2023-10-15T10:14:59.385994",
     "status": "completed"
    },
    "tags": []
   },
   "source": [
    "<a id = \"19\"></a><br>\n",
    "<h1 style=\"background-color:#ADD8E6;font-family:courier;font-size:250%;font-style: oblique;font-weight: bold;font-variant: small-caps;text-align:center;border-radius: 15px 50px;\"> For - While </h1>\n",
    "\n",
    "In Python, loops are used to repeat a block of code multiple times. They allow you to iterate over data structures, perform repetitive tasks, and process data efficiently. There are two main types of loops in Python: for loop and while loop."
   ]
  },
  {
   "cell_type": "markdown",
   "id": "58281a17",
   "metadata": {
    "papermill": {
     "duration": 0.0408,
     "end_time": "2023-10-15T10:14:59.510016",
     "exception": false,
     "start_time": "2023-10-15T10:14:59.469216",
     "status": "completed"
    },
    "tags": []
   },
   "source": [
    "**for Loop:**\n",
    "\n",
    "* The for loop is used to iterate over a sequence (e.g., a list, tuple, string, or dictionary). It executes the code block for each item in the sequence."
   ]
  },
  {
   "cell_type": "code",
   "execution_count": 87,
   "id": "c194c795",
   "metadata": {
    "execution": {
     "iopub.execute_input": "2023-10-15T10:14:59.594197Z",
     "iopub.status.busy": "2023-10-15T10:14:59.593866Z",
     "iopub.status.idle": "2023-10-15T10:14:59.598161Z",
     "shell.execute_reply": "2023-10-15T10:14:59.597352Z"
    },
    "papermill": {
     "duration": 0.049605,
     "end_time": "2023-10-15T10:14:59.600853",
     "exception": false,
     "start_time": "2023-10-15T10:14:59.551248",
     "status": "completed"
    },
    "tags": []
   },
   "outputs": [
    {
     "name": "stdout",
     "output_type": "stream",
     "text": [
      "apple\n",
      "banana\n",
      "cherry\n"
     ]
    }
   ],
   "source": [
    "# Syntax:\n",
    "\n",
    "# for item in sequence:\n",
    "    \n",
    "    # Code block to be executed for each item\n",
    "    \n",
    "# Example:\n",
    "\n",
    "fruits = [\"apple\", \"banana\", \"cherry\"]\n",
    "\n",
    "for fruit in fruits:\n",
    "    \n",
    "    print(fruit)\n",
    "    \n",
    "# Output:\n",
    "\n",
    "# apple\n",
    "# banana\n",
    "# cherry"
   ]
  },
  {
   "cell_type": "markdown",
   "id": "a774487d",
   "metadata": {
    "papermill": {
     "duration": 0.13772,
     "end_time": "2023-10-15T10:14:59.780786",
     "exception": false,
     "start_time": "2023-10-15T10:14:59.643066",
     "status": "completed"
    },
    "tags": []
   },
   "source": [
    "* **range():** The range() function generates a sequence of numbers that can be used as an iterable in the for loop."
   ]
  },
  {
   "cell_type": "code",
   "execution_count": 88,
   "id": "b6167e03",
   "metadata": {
    "execution": {
     "iopub.execute_input": "2023-10-15T10:14:59.867593Z",
     "iopub.status.busy": "2023-10-15T10:14:59.866822Z",
     "iopub.status.idle": "2023-10-15T10:14:59.872772Z",
     "shell.execute_reply": "2023-10-15T10:14:59.871373Z"
    },
    "papermill": {
     "duration": 0.052247,
     "end_time": "2023-10-15T10:14:59.874657",
     "exception": false,
     "start_time": "2023-10-15T10:14:59.822410",
     "status": "completed"
    },
    "tags": []
   },
   "outputs": [
    {
     "name": "stdout",
     "output_type": "stream",
     "text": [
      "0\n",
      "1\n",
      "2\n",
      "3\n",
      "4\n"
     ]
    }
   ],
   "source": [
    "for i in range(5):  # Iterates from 0 to 4 (5 is not included)\n",
    "    \n",
    "    print(i)\n",
    "    \n",
    "# Output: 0 1 2 3 4"
   ]
  },
  {
   "cell_type": "markdown",
   "id": "ce961003",
   "metadata": {
    "papermill": {
     "duration": 0.039471,
     "end_time": "2023-10-15T10:14:59.954625",
     "exception": false,
     "start_time": "2023-10-15T10:14:59.915154",
     "status": "completed"
    },
    "tags": []
   },
   "source": [
    "* **enumerate():** The enumerate() function allows you to loop over both the items and their indices."
   ]
  },
  {
   "cell_type": "code",
   "execution_count": 89,
   "id": "dbf88b12",
   "metadata": {
    "execution": {
     "iopub.execute_input": "2023-10-15T10:15:00.037560Z",
     "iopub.status.busy": "2023-10-15T10:15:00.037087Z",
     "iopub.status.idle": "2023-10-15T10:15:00.043360Z",
     "shell.execute_reply": "2023-10-15T10:15:00.042140Z"
    },
    "papermill": {
     "duration": 0.051129,
     "end_time": "2023-10-15T10:15:00.046260",
     "exception": false,
     "start_time": "2023-10-15T10:14:59.995131",
     "status": "completed"
    },
    "tags": []
   },
   "outputs": [
    {
     "name": "stdout",
     "output_type": "stream",
     "text": [
      "Index 0: apple\n",
      "Index 1: banana\n",
      "Index 2: orange\n"
     ]
    }
   ],
   "source": [
    "fruits = [\"apple\", \"banana\", \"orange\"]\n",
    "\n",
    "for index, fruit in enumerate(fruits):\n",
    "    \n",
    "    print(f\"Index {index}: {fruit}\")\n",
    "    \n",
    "# Output: Index 0: apple\n",
    "#         Index 1: banana\n",
    "#         Index 2: orange"
   ]
  },
  {
   "cell_type": "code",
   "execution_count": 90,
   "id": "054a2ac1",
   "metadata": {
    "execution": {
     "iopub.execute_input": "2023-10-15T10:15:00.138481Z",
     "iopub.status.busy": "2023-10-15T10:15:00.137713Z",
     "iopub.status.idle": "2023-10-15T10:15:00.145706Z",
     "shell.execute_reply": "2023-10-15T10:15:00.144191Z"
    },
    "papermill": {
     "duration": 0.058698,
     "end_time": "2023-10-15T10:15:00.148468",
     "exception": false,
     "start_time": "2023-10-15T10:15:00.089770",
     "status": "completed"
    },
    "tags": []
   },
   "outputs": [
    {
     "name": "stdout",
     "output_type": "stream",
     "text": [
      "John\n",
      "Mark\n",
      "Venessa\n",
      "Mariam\n",
      "JOHN\n",
      "MARK\n",
      "VENESSA\n",
      "MARIAM\n"
     ]
    }
   ],
   "source": [
    "students = [\"John\", \"Mark\", \"Venessa\", \"Mariam\"]\n",
    "\n",
    "for student in students:\n",
    "    print(student)\n",
    "    \n",
    "# John\n",
    "# Mark\n",
    "# Venessa\n",
    "# Mariam\n",
    "\n",
    "for i in students:\n",
    "    print(i.upper())\n",
    "    \n",
    "# JOHN\n",
    "# MARK\n",
    "# VENESSA\n",
    "# MARIAM"
   ]
  },
  {
   "cell_type": "code",
   "execution_count": 91,
   "id": "5616ffe3",
   "metadata": {
    "execution": {
     "iopub.execute_input": "2023-10-15T10:15:00.236088Z",
     "iopub.status.busy": "2023-10-15T10:15:00.235707Z",
     "iopub.status.idle": "2023-10-15T10:15:00.244134Z",
     "shell.execute_reply": "2023-10-15T10:15:00.242887Z"
    },
    "papermill": {
     "duration": 0.054647,
     "end_time": "2023-10-15T10:15:00.246416",
     "exception": false,
     "start_time": "2023-10-15T10:15:00.191769",
     "status": "completed"
    },
    "tags": []
   },
   "outputs": [
    {
     "data": {
      "text/plain": [
       "2400"
      ]
     },
     "execution_count": 91,
     "metadata": {},
     "output_type": "execute_result"
    }
   ],
   "source": [
    "def new_salary(salary, rate):\n",
    "    return int(salary*rate/100 + salary)\n",
    "\n",
    "new_salary(1500, 10) # 1650\n",
    "new_salary(2000, 20) # 2400"
   ]
  },
  {
   "cell_type": "code",
   "execution_count": 92,
   "id": "cb27614b",
   "metadata": {
    "execution": {
     "iopub.execute_input": "2023-10-15T10:15:00.332942Z",
     "iopub.status.busy": "2023-10-15T10:15:00.332585Z",
     "iopub.status.idle": "2023-10-15T10:15:00.340537Z",
     "shell.execute_reply": "2023-10-15T10:15:00.338983Z"
    },
    "papermill": {
     "duration": 0.05474,
     "end_time": "2023-10-15T10:15:00.343207",
     "exception": false,
     "start_time": "2023-10-15T10:15:00.288467",
     "status": "completed"
    },
    "tags": []
   },
   "outputs": [
    {
     "name": "stdout",
     "output_type": "stream",
     "text": [
      "0\n",
      "1\n",
      "2\n",
      "3\n",
      "4\n",
      "5\n",
      "6\n",
      "7\n",
      "8\n",
      "ExCeLlEnT\n"
     ]
    }
   ],
   "source": [
    "range(len(\"excellent\")) # range(0, 9)\n",
    "\n",
    "for i in range(len(\"excellent\")):\n",
    "    print(i)\n",
    "    \n",
    "# 0\n",
    "# 1\n",
    "# 2\n",
    "# 3\n",
    "# 4\n",
    "# 5\n",
    "# 6\n",
    "# 7\n",
    "# 8\n",
    "\n",
    "def alternating(string):\n",
    "    new_string = \"\"\n",
    "    # Browse the indexes of the entered string\n",
    "    for string_index in range(len(string)):\n",
    "        # If the index is even, convert it to uppercase\n",
    "        if string_index % 2 == 0:\n",
    "            new_string += string[string_index].upper()\n",
    "        # If the index is odd, convert it to lowercase\n",
    "        else:\n",
    "            new_string += string[string_index].lower()\n",
    "    print(new_string)\n",
    "\n",
    "alternating(\"excellent\") # ExCeLlEnT"
   ]
  },
  {
   "cell_type": "code",
   "execution_count": 93,
   "id": "254febf9",
   "metadata": {
    "execution": {
     "iopub.execute_input": "2023-10-15T10:15:00.431289Z",
     "iopub.status.busy": "2023-10-15T10:15:00.430892Z",
     "iopub.status.idle": "2023-10-15T10:15:00.436979Z",
     "shell.execute_reply": "2023-10-15T10:15:00.436164Z"
    },
    "papermill": {
     "duration": 0.05349,
     "end_time": "2023-10-15T10:15:00.439463",
     "exception": false,
     "start_time": "2023-10-15T10:15:00.385973",
     "status": "completed"
    },
    "tags": []
   },
   "outputs": [
    {
     "name": "stdout",
     "output_type": "stream",
     "text": [
      "ExCeLlEnT\n"
     ]
    }
   ],
   "source": [
    "def alternating(string):\n",
    "    new_string = \"\"\n",
    "    # Browse the indexes of the entered string\n",
    "    for string_index in range(len(string)):\n",
    "        # If the index is even, convert it to uppercase\n",
    "        if string_index % 2 == 0:\n",
    "            new_string += string[string_index].upper()\n",
    "        # If the index is odd, convert it to lowercase\n",
    "        else:\n",
    "            new_string += string[string_index].lower()\n",
    "    print(new_string)\n",
    "\n",
    "alternating(\"excellent\") # ExCeLlEnT"
   ]
  },
  {
   "cell_type": "code",
   "execution_count": 94,
   "id": "db5b7f03",
   "metadata": {
    "execution": {
     "iopub.execute_input": "2023-10-15T10:15:00.529382Z",
     "iopub.status.busy": "2023-10-15T10:15:00.529027Z",
     "iopub.status.idle": "2023-10-15T10:15:00.535759Z",
     "shell.execute_reply": "2023-10-15T10:15:00.534925Z"
    },
    "papermill": {
     "duration": 0.054172,
     "end_time": "2023-10-15T10:15:00.538408",
     "exception": false,
     "start_time": "2023-10-15T10:15:00.484236",
     "status": "completed"
    },
    "tags": []
   },
   "outputs": [
    {
     "name": "stdout",
     "output_type": "stream",
     "text": [
      "Most Powerful 1 . Member of Government: Imu\n",
      "Most Powerful 2 . Member of Government: Gorosei\n",
      "Most Powerful 3 . Member of Government: Admirals\n",
      "Most Powerful 1 . Straw Hats Member: Luffy\n",
      "Most Powerful 2 . Straw Hats Member: Zoro\n",
      "Most Powerful 3 . Straw Hats Member: Sanji\n"
     ]
    }
   ],
   "source": [
    "persons = [\"Luffy\", \"Zoro\", \"Sanji\", \"Imu\", \"Gorosei\", \"Admirals\"]\n",
    "\n",
    "straw_hat = persons[:3]\n",
    "navy = persons[3:]\n",
    "\n",
    "for index, member in enumerate(navy, 1):\n",
    "    print(f\"Most Powerful {index} . Member of Government: {member}\")\n",
    "\n",
    "for index, member in enumerate(straw_hat, 1):\n",
    "    print(f\"Most Powerful {index} . Straw Hats Member: {member}\")\n",
    "    \n",
    "# Most Powerful 1 . Member of Government: Imu\n",
    "# Most Powerful 2 . Member of Government: Gorosei\n",
    "# Most Powerful 3 . Member of Government: Admirals\n",
    "# Most Powerful 1 . Straw Hats Member: Luffy\n",
    "# Most Powerful 2 . Straw Hats Member: Zoro\n",
    "# Most Powerful 3 . Straw Hats Member: Sanji"
   ]
  },
  {
   "cell_type": "markdown",
   "id": "18d409fc",
   "metadata": {
    "papermill": {
     "duration": 0.046482,
     "end_time": "2023-10-15T10:15:00.628939",
     "exception": false,
     "start_time": "2023-10-15T10:15:00.582457",
     "status": "completed"
    },
    "tags": []
   },
   "source": [
    "**while Loop:**\n",
    "\n",
    "* The while loop is used to execute a code block repeatedly as long as a certain condition is True. It continues to execute the code block until the condition becomes False."
   ]
  },
  {
   "cell_type": "code",
   "execution_count": 95,
   "id": "fcafea04",
   "metadata": {
    "execution": {
     "iopub.execute_input": "2023-10-15T10:15:00.725617Z",
     "iopub.status.busy": "2023-10-15T10:15:00.725196Z",
     "iopub.status.idle": "2023-10-15T10:15:00.731124Z",
     "shell.execute_reply": "2023-10-15T10:15:00.730025Z"
    },
    "papermill": {
     "duration": 0.057122,
     "end_time": "2023-10-15T10:15:00.733648",
     "exception": false,
     "start_time": "2023-10-15T10:15:00.676526",
     "status": "completed"
    },
    "tags": []
   },
   "outputs": [
    {
     "name": "stdout",
     "output_type": "stream",
     "text": [
      "Count is: 1\n",
      "Count is: 2\n",
      "Count is: 3\n",
      "Count is: 4\n",
      "Count is: 5\n"
     ]
    }
   ],
   "source": [
    "# Syntax:\n",
    "\n",
    "# while condition:\n",
    "    \n",
    "    # Code block to be executed as long as the condition is True\n",
    "\n",
    "# Example:\n",
    "\n",
    "count = 1\n",
    "\n",
    "while count <= 5:\n",
    "    \n",
    "    print(\"Count is:\", count)\n",
    "    count += 1\n",
    "    \n",
    "# Output:\n",
    "\n",
    "# Count is: 1\n",
    "# Count is: 2\n",
    "# Count is: 3\n",
    "# Count is: 4\n",
    "# Count is: 5"
   ]
  },
  {
   "cell_type": "markdown",
   "id": "234c3021",
   "metadata": {
    "papermill": {
     "duration": 0.041833,
     "end_time": "2023-10-15T10:15:00.818088",
     "exception": false,
     "start_time": "2023-10-15T10:15:00.776255",
     "status": "completed"
    },
    "tags": []
   },
   "source": [
    "* Loops are powerful constructs that help you avoid writing repetitive code and process large amounts of data efficiently. They are often used in combination with conditional statements to create more complex and dynamic behavior in programs.\n",
    "\n",
    "* Additionally, you can use the break statement to exit a loop prematurely and the continue statement to skip the current iteration and move to the next one."
   ]
  },
  {
   "cell_type": "code",
   "execution_count": 96,
   "id": "0624f4f3",
   "metadata": {
    "execution": {
     "iopub.execute_input": "2023-10-15T10:15:00.906438Z",
     "iopub.status.busy": "2023-10-15T10:15:00.906062Z",
     "iopub.status.idle": "2023-10-15T10:15:00.912166Z",
     "shell.execute_reply": "2023-10-15T10:15:00.911076Z"
    },
    "papermill": {
     "duration": 0.051646,
     "end_time": "2023-10-15T10:15:00.914602",
     "exception": false,
     "start_time": "2023-10-15T10:15:00.862956",
     "status": "completed"
    },
    "tags": []
   },
   "outputs": [
    {
     "name": "stdout",
     "output_type": "stream",
     "text": [
      "1\n",
      "3\n"
     ]
    }
   ],
   "source": [
    "numbers = [1, 2, 3, 4, 5, 6]\n",
    "\n",
    "for num in numbers:\n",
    "    \n",
    "    if num == 4:\n",
    "        break\n",
    "        \n",
    "    if num % 2 == 0:\n",
    "        continue\n",
    "        \n",
    "    print(num)\n",
    "\n",
    "# Output:\n",
    "\n",
    "# 1\n",
    "# 3"
   ]
  },
  {
   "cell_type": "markdown",
   "id": "1f7206a8",
   "metadata": {
    "papermill": {
     "duration": 0.043967,
     "end_time": "2023-10-15T10:15:01.002130",
     "exception": false,
     "start_time": "2023-10-15T10:15:00.958163",
     "status": "completed"
    },
    "tags": []
   },
   "source": [
    "* In this example, the loop iterates through the numbers list. When it encounters the value 4, the break statement is executed, and the loop is exited early. When the loop reaches the value 2, the continue statement is executed, skipping the even number 2 and moving to the next iteration.\n",
    "\n",
    "* Loops are a fundamental part of programming, and mastering them allows you to handle repetitive tasks, process data efficiently, and create more dynamic and interactive programs."
   ]
  },
  {
   "cell_type": "markdown",
   "id": "7e816f4c",
   "metadata": {
    "papermill": {
     "duration": 0.039943,
     "end_time": "2023-10-15T10:15:01.082871",
     "exception": false,
     "start_time": "2023-10-15T10:15:01.042928",
     "status": "completed"
    },
    "tags": []
   },
   "source": [
    "**enumerate:**"
   ]
  },
  {
   "cell_type": "code",
   "execution_count": 97,
   "id": "7ab25b63",
   "metadata": {
    "execution": {
     "iopub.execute_input": "2023-10-15T10:15:01.165539Z",
     "iopub.status.busy": "2023-10-15T10:15:01.165221Z",
     "iopub.status.idle": "2023-10-15T10:15:01.173529Z",
     "shell.execute_reply": "2023-10-15T10:15:01.171555Z"
    },
    "papermill": {
     "duration": 0.052612,
     "end_time": "2023-10-15T10:15:01.176038",
     "exception": false,
     "start_time": "2023-10-15T10:15:01.123426",
     "status": "completed"
    },
    "tags": []
   },
   "outputs": [
    {
     "name": "stdout",
     "output_type": "stream",
     "text": [
      "John\n",
      "Mark\n",
      "Venessa\n",
      "Mariam\n",
      "0 John\n",
      "1 Mark\n",
      "2 Venessa\n",
      "3 Mariam\n"
     ]
    }
   ],
   "source": [
    "students = [\"John\", \"Mark\", \"Venessa\", \"Mariam\"]\n",
    "\n",
    "for student in students:\n",
    "    print(student)\n",
    "    \n",
    "# John\n",
    "# Mark\n",
    "# Venessa\n",
    "# Mariam\n",
    "\n",
    "for index, student in enumerate(students):\n",
    "    print(index, student)\n",
    "    \n",
    "# 0 John\n",
    "# 1 Mark\n",
    "# 2 Venessa\n",
    "# 3 Mariam\n",
    "\n",
    "A = [] # ['John', 'Venessa']\n",
    "B = [] # ['Mark', 'Mariam']\n",
    "\n",
    "for index, student in enumerate(students):\n",
    "    if index % 2 == 0:\n",
    "        A.append(student)\n",
    "    else:\n",
    "        B.append(student)"
   ]
  },
  {
   "cell_type": "code",
   "execution_count": 98,
   "id": "57f1d5c0",
   "metadata": {
    "execution": {
     "iopub.execute_input": "2023-10-15T10:15:01.267884Z",
     "iopub.status.busy": "2023-10-15T10:15:01.267458Z",
     "iopub.status.idle": "2023-10-15T10:15:01.273137Z",
     "shell.execute_reply": "2023-10-15T10:15:01.271838Z"
    },
    "papermill": {
     "duration": 0.053703,
     "end_time": "2023-10-15T10:15:01.275287",
     "exception": false,
     "start_time": "2023-10-15T10:15:01.221584",
     "status": "completed"
    },
    "tags": []
   },
   "outputs": [],
   "source": [
    "A = [] # ['John', 'Venessa']\n",
    "B = [] # ['Mark', 'Mariam']\n",
    "\n",
    "for index, student in enumerate(students):\n",
    "    if index % 2 == 0:\n",
    "        A.append(student)\n",
    "    else:\n",
    "        B.append(student)"
   ]
  },
  {
   "cell_type": "code",
   "execution_count": 99,
   "id": "316f6832",
   "metadata": {
    "execution": {
     "iopub.execute_input": "2023-10-15T10:15:01.361389Z",
     "iopub.status.busy": "2023-10-15T10:15:01.361033Z",
     "iopub.status.idle": "2023-10-15T10:15:01.368141Z",
     "shell.execute_reply": "2023-10-15T10:15:01.367170Z"
    },
    "papermill": {
     "duration": 0.051666,
     "end_time": "2023-10-15T10:15:01.370438",
     "exception": false,
     "start_time": "2023-10-15T10:15:01.318772",
     "status": "completed"
    },
    "tags": []
   },
   "outputs": [
    {
     "name": "stdout",
     "output_type": "stream",
     "text": [
      "[['John', 'Venessa'], ['Mark', 'Mariam']]\n"
     ]
    }
   ],
   "source": [
    "def divide_students(students):\n",
    "    groups = [[], []]\n",
    "    for index, student in enumerate(students):\n",
    "        if index % 2 == 0:\n",
    "            groups[0].append(student)\n",
    "        else:\n",
    "            groups[1].append(student)\n",
    "    print(groups)\n",
    "    return groups\n",
    "\n",
    "st = divide_students(students) # [['John', 'Venessa'], ['Mark', 'Mariam']]"
   ]
  },
  {
   "cell_type": "code",
   "execution_count": 100,
   "id": "8fd5bd2b",
   "metadata": {
    "execution": {
     "iopub.execute_input": "2023-10-15T10:15:01.459263Z",
     "iopub.status.busy": "2023-10-15T10:15:01.458910Z",
     "iopub.status.idle": "2023-10-15T10:15:01.465828Z",
     "shell.execute_reply": "2023-10-15T10:15:01.464212Z"
    },
    "papermill": {
     "duration": 0.055355,
     "end_time": "2023-10-15T10:15:01.468548",
     "exception": false,
     "start_time": "2023-10-15T10:15:01.413193",
     "status": "completed"
    },
    "tags": []
   },
   "outputs": [
    {
     "name": "stdout",
     "output_type": "stream",
     "text": [
      "Hi mY NaMe iS JoHn aNd i aM LeArNiNg pYtHoN\n"
     ]
    }
   ],
   "source": [
    "def alternating_with_enumerate(string):\n",
    "    new_string = \"\"\n",
    "    for i, letter in enumerate(string):\n",
    "        if i % 2 == 0:\n",
    "            new_string += letter.upper()\n",
    "        else:\n",
    "            new_string += letter.lower()\n",
    "    print(new_string)\n",
    "\n",
    "alternating_with_enumerate(\"hi my name is john and i am learning python\")\n",
    "\n",
    "# Hi mY NaMe iS JoHn aNd i aM LeArNiNg pYtHoN"
   ]
  },
  {
   "cell_type": "markdown",
   "id": "005cdbca",
   "metadata": {
    "papermill": {
     "duration": 0.040566,
     "end_time": "2023-10-15T10:15:01.559115",
     "exception": false,
     "start_time": "2023-10-15T10:15:01.518549",
     "status": "completed"
    },
    "tags": []
   },
   "source": [
    "**zip:**"
   ]
  },
  {
   "cell_type": "code",
   "execution_count": 101,
   "id": "e25f0c5d",
   "metadata": {
    "execution": {
     "iopub.execute_input": "2023-10-15T10:15:01.643326Z",
     "iopub.status.busy": "2023-10-15T10:15:01.642621Z",
     "iopub.status.idle": "2023-10-15T10:15:01.650320Z",
     "shell.execute_reply": "2023-10-15T10:15:01.649070Z"
    },
    "papermill": {
     "duration": 0.051694,
     "end_time": "2023-10-15T10:15:01.652512",
     "exception": false,
     "start_time": "2023-10-15T10:15:01.600818",
     "status": "completed"
    },
    "tags": []
   },
   "outputs": [
    {
     "data": {
      "text/plain": [
       "[('John', 'mathematics', 23),\n",
       " ('Mark', 'statistics', 30),\n",
       " ('Venessa', 'physics', 26),\n",
       " ('Mariam', 'astronomy', 22)]"
      ]
     },
     "execution_count": 101,
     "metadata": {},
     "output_type": "execute_result"
    }
   ],
   "source": [
    "students = [\"John\", \"Mark\", \"Venessa\", \"Mariam\"]\n",
    "\n",
    "departments = [\"mathematics\", \"statistics\", \"physics\", \"astronomy\"]\n",
    "\n",
    "ages = [23, 30, 26, 22]\n",
    "\n",
    "list(zip(students, departments, ages))\n",
    "\n",
    "# [('John', 'mathematics', 23),('Mark', 'statistics', 30),('Venessa', 'physics', 26),('Mariam', 'astronomy', 22)]"
   ]
  },
  {
   "cell_type": "markdown",
   "id": "7b5d0dda",
   "metadata": {
    "papermill": {
     "duration": 0.040116,
     "end_time": "2023-10-15T10:15:01.734167",
     "exception": false,
     "start_time": "2023-10-15T10:15:01.694051",
     "status": "completed"
    },
    "tags": []
   },
   "source": [
    "<a id = \"20\"></a><br>\n",
    "<h1 style=\"background-color:#fbb714;font-family:courier;font-size:300%;font-style: oblique;font-weight: bold;font-variant: small-caps;text-align:center;border-radius: 15px 50px;\"> Classes </h1>"
   ]
  },
  {
   "cell_type": "markdown",
   "id": "c3b1b11a",
   "metadata": {
    "papermill": {
     "duration": 0.039561,
     "end_time": "2023-10-15T10:15:01.813934",
     "exception": false,
     "start_time": "2023-10-15T10:15:01.774373",
     "status": "completed"
    },
    "tags": []
   },
   "source": [
    "Classes are a fundamental concept in object-oriented programming (OOP), which is a programming paradigm that emphasizes the use of objects and their interactions to build applications."
   ]
  },
  {
   "cell_type": "markdown",
   "id": "39b2a068",
   "metadata": {
    "papermill": {
     "duration": 0.04417,
     "end_time": "2023-10-15T10:15:01.899690",
     "exception": false,
     "start_time": "2023-10-15T10:15:01.855520",
     "status": "completed"
    },
    "tags": []
   },
   "source": [
    "**Defining a Class:**\n",
    "\n",
    "* To create a class in Python, you use the class keyword, followed by the name of the class (by convention, class names are written in CamelCase). The class body is indented, and it contains class variables (attributes) and methods (functions)."
   ]
  },
  {
   "cell_type": "code",
   "execution_count": 102,
   "id": "e2e105d8",
   "metadata": {
    "execution": {
     "iopub.execute_input": "2023-10-15T10:15:01.997683Z",
     "iopub.status.busy": "2023-10-15T10:15:01.997319Z",
     "iopub.status.idle": "2023-10-15T10:15:02.002698Z",
     "shell.execute_reply": "2023-10-15T10:15:02.001290Z"
    },
    "papermill": {
     "duration": 0.061031,
     "end_time": "2023-10-15T10:15:02.005277",
     "exception": false,
     "start_time": "2023-10-15T10:15:01.944246",
     "status": "completed"
    },
    "tags": []
   },
   "outputs": [],
   "source": [
    "# class ClassName:\n",
    "#     # Class variables (attributes)\n",
    "#     attribute1 = value1\n",
    "#     attribute2 = value2\n",
    "# \n",
    "#     # Class methods\n",
    "#     def method1(self, parameters):\n",
    "#         # Method body\n",
    "#         pass\n",
    "# \n",
    "#     def method2(self, parameters):\n",
    "#         # Method body\n",
    "#         pass\n",
    "\n",
    "    # More methods and attributes can be defined here"
   ]
  },
  {
   "cell_type": "markdown",
   "id": "1aafd043",
   "metadata": {
    "papermill": {
     "duration": 0.043653,
     "end_time": "2023-10-15T10:15:02.092258",
     "exception": false,
     "start_time": "2023-10-15T10:15:02.048605",
     "status": "completed"
    },
    "tags": []
   },
   "source": [
    "**Class Attributes:**\n",
    "\n",
    "* Class attributes are variables that belong to the class rather than instances (objects) of the class. They are shared by all instances of the class. You define class attributes directly within the class body, outside of any methods."
   ]
  },
  {
   "cell_type": "code",
   "execution_count": 103,
   "id": "d5c57aad",
   "metadata": {
    "execution": {
     "iopub.execute_input": "2023-10-15T10:15:02.186576Z",
     "iopub.status.busy": "2023-10-15T10:15:02.185847Z",
     "iopub.status.idle": "2023-10-15T10:15:02.191638Z",
     "shell.execute_reply": "2023-10-15T10:15:02.190866Z"
    },
    "papermill": {
     "duration": 0.052426,
     "end_time": "2023-10-15T10:15:02.193804",
     "exception": false,
     "start_time": "2023-10-15T10:15:02.141378",
     "status": "completed"
    },
    "tags": []
   },
   "outputs": [
    {
     "name": "stdout",
     "output_type": "stream",
     "text": [
      "This is a class attribute\n",
      "This is a class attribute\n"
     ]
    }
   ],
   "source": [
    "class MyClass:\n",
    "    class_attribute = \"This is a class attribute\"\n",
    "\n",
    "\n",
    "print(MyClass.class_attribute)  # Output: This is a class attribute\n",
    "\n",
    "obj = MyClass()\n",
    "\n",
    "print(obj.class_attribute)  # Output: This is a class attribute"
   ]
  },
  {
   "cell_type": "markdown",
   "id": "b99cb698",
   "metadata": {
    "papermill": {
     "duration": 0.046311,
     "end_time": "2023-10-15T10:15:02.283426",
     "exception": false,
     "start_time": "2023-10-15T10:15:02.237115",
     "status": "completed"
    },
    "tags": []
   },
   "source": [
    "**Instance Attributes:**\n",
    "\n",
    "* Instance attributes are variables specific to each instance (object) of the class. They are defined within the __init__ method (constructor) using the **self** keyword. Each object can have different values for its instance attributes."
   ]
  },
  {
   "cell_type": "code",
   "execution_count": 104,
   "id": "3d46325e",
   "metadata": {
    "execution": {
     "iopub.execute_input": "2023-10-15T10:15:02.376331Z",
     "iopub.status.busy": "2023-10-15T10:15:02.375374Z",
     "iopub.status.idle": "2023-10-15T10:15:02.382124Z",
     "shell.execute_reply": "2023-10-15T10:15:02.381022Z"
    },
    "papermill": {
     "duration": 0.056157,
     "end_time": "2023-10-15T10:15:02.384596",
     "exception": false,
     "start_time": "2023-10-15T10:15:02.328439",
     "status": "completed"
    },
    "tags": []
   },
   "outputs": [
    {
     "name": "stdout",
     "output_type": "stream",
     "text": [
      "Hello, my name is Alice, and I am 30 years old.\n",
      "Hello, my name is Bob, and I am 25 years old.\n"
     ]
    }
   ],
   "source": [
    "# Example:\n",
    "# Let's create a simple Person class with attributes like name and age and a method to introduce the person:\n",
    "\n",
    "class Person:\n",
    "    # Class variables (attributes)\n",
    "    def __init__(self, name, age):\n",
    "        self.name = name\n",
    "        self.age = age\n",
    "\n",
    "    # Class method\n",
    "    def introduce(self):\n",
    "        print(f\"Hello, my name is {self.name}, and I am {self.age} years old.\")\n",
    "\n",
    "# Creating objects (instances) of the Person class\n",
    "person1 = Person(\"Alice\", 30)\n",
    "person2 = Person(\"Bob\", 25)\n",
    "\n",
    "# Calling the introduce() method for each object\n",
    "person1.introduce()\n",
    "person2.introduce()\n",
    "\n",
    "# Output:\n",
    "    \n",
    "# Hello, my name is Alice, and I am 30 years old.\n",
    "# Hello, my name is Bob, and I am 25 years old."
   ]
  },
  {
   "cell_type": "markdown",
   "id": "4ee9b821",
   "metadata": {
    "papermill": {
     "duration": 0.04224,
     "end_time": "2023-10-15T10:15:02.469726",
     "exception": false,
     "start_time": "2023-10-15T10:15:02.427486",
     "status": "completed"
    },
    "tags": []
   },
   "source": [
    "* In this example, we defined a Person class with two attributes (name and age) and a method (introduce) that prints information about the person. We then created two objects (person1 and person2) of the Person class, initialized their attributes using the constructor (__init__ method), and called the introduce() method for each object."
   ]
  },
  {
   "cell_type": "markdown",
   "id": "64c61b4a",
   "metadata": {
    "papermill": {
     "duration": 0.042714,
     "end_time": "2023-10-15T10:15:02.555010",
     "exception": false,
     "start_time": "2023-10-15T10:15:02.512296",
     "status": "completed"
    },
    "tags": []
   },
   "source": [
    "**Static Methods:**\n",
    "\n",
    "* Static methods are functions defined within the class that do not operate on either the class or its instances. They are defined using the @staticmethod decorator. Static methods are often used for utility functions that don't need access to instance-specific or class-specific data."
   ]
  },
  {
   "cell_type": "code",
   "execution_count": 105,
   "id": "6080772c",
   "metadata": {
    "execution": {
     "iopub.execute_input": "2023-10-15T10:15:02.645279Z",
     "iopub.status.busy": "2023-10-15T10:15:02.644410Z",
     "iopub.status.idle": "2023-10-15T10:15:02.650291Z",
     "shell.execute_reply": "2023-10-15T10:15:02.648939Z"
    },
    "papermill": {
     "duration": 0.055227,
     "end_time": "2023-10-15T10:15:02.652821",
     "exception": false,
     "start_time": "2023-10-15T10:15:02.597594",
     "status": "completed"
    },
    "tags": []
   },
   "outputs": [
    {
     "name": "stdout",
     "output_type": "stream",
     "text": [
      "15\n"
     ]
    }
   ],
   "source": [
    "class MathOperations:\n",
    "    @staticmethod\n",
    "    def add(x, y):\n",
    "        \n",
    "        return x + y\n",
    "\n",
    "result = MathOperations.add(5, 10)\n",
    "\n",
    "print(result)  # Output: 15"
   ]
  },
  {
   "cell_type": "markdown",
   "id": "28fba944",
   "metadata": {
    "papermill": {
     "duration": 0.042031,
     "end_time": "2023-10-15T10:15:02.737676",
     "exception": false,
     "start_time": "2023-10-15T10:15:02.695645",
     "status": "completed"
    },
    "tags": []
   },
   "source": [
    "**Inheritance:**\n",
    "\n",
    "* Inheritance is a powerful feature in OOP that allows a class (subclass) to inherit the attributes and methods of another class (superclass). Subclasses can override or extend the behavior of the superclass. This promotes code reuse and allows you to model hierarchies of related classes."
   ]
  },
  {
   "cell_type": "code",
   "execution_count": 106,
   "id": "74ad5a99",
   "metadata": {
    "execution": {
     "iopub.execute_input": "2023-10-15T10:15:02.822537Z",
     "iopub.status.busy": "2023-10-15T10:15:02.822144Z",
     "iopub.status.idle": "2023-10-15T10:15:02.829215Z",
     "shell.execute_reply": "2023-10-15T10:15:02.827921Z"
    },
    "papermill": {
     "duration": 0.052673,
     "end_time": "2023-10-15T10:15:02.831384",
     "exception": false,
     "start_time": "2023-10-15T10:15:02.778711",
     "status": "completed"
    },
    "tags": []
   },
   "outputs": [
    {
     "name": "stdout",
     "output_type": "stream",
     "text": [
      "Dog barks\n"
     ]
    }
   ],
   "source": [
    "class Animal:\n",
    "    def speak(self):\n",
    "        print(\"Animal speaks\")\n",
    "\n",
    "class Dog(Animal):\n",
    "    def speak(self):\n",
    "        print(\"Dog barks\")\n",
    "\n",
    "dog = Dog()\n",
    "dog.speak()  # Output: Dog barks"
   ]
  },
  {
   "cell_type": "markdown",
   "id": "5e524122",
   "metadata": {
    "papermill": {
     "duration": 0.040523,
     "end_time": "2023-10-15T10:15:02.914805",
     "exception": false,
     "start_time": "2023-10-15T10:15:02.874282",
     "status": "completed"
    },
    "tags": []
   },
   "source": [
    "**Encapsulation:**\n",
    "\n",
    "* Encapsulation is the practice of bundling data (attributes) and methods that operate on that data within a class. It allows you to hide the internal implementation details of a class from external code. You can use access modifiers (e.g., private attributes with double underscores __) to control access to certain attributes and methods."
   ]
  },
  {
   "cell_type": "code",
   "execution_count": 107,
   "id": "bb8618ca",
   "metadata": {
    "execution": {
     "iopub.execute_input": "2023-10-15T10:15:03.000382Z",
     "iopub.status.busy": "2023-10-15T10:15:03.000035Z",
     "iopub.status.idle": "2023-10-15T10:15:03.007605Z",
     "shell.execute_reply": "2023-10-15T10:15:03.006132Z"
    },
    "papermill": {
     "duration": 0.053911,
     "end_time": "2023-10-15T10:15:03.009821",
     "exception": false,
     "start_time": "2023-10-15T10:15:02.955910",
     "status": "completed"
    },
    "tags": []
   },
   "outputs": [
    {
     "name": "stdout",
     "output_type": "stream",
     "text": [
      "1500\n"
     ]
    }
   ],
   "source": [
    "class BankAccount:\n",
    "    \n",
    "    def __init__(self, account_number, balance):\n",
    "        self.__account_number = account_number\n",
    "        self.__balance = balance\n",
    "\n",
    "    def get_balance(self):\n",
    "        return self.__balance\n",
    "\n",
    "    def deposit(self, amount):\n",
    "        self.__balance += amount\n",
    "\n",
    "account = BankAccount(\"12345\", 1000)\n",
    "account.deposit(500)\n",
    "print(account.get_balance())  # Output: 1500"
   ]
  },
  {
   "cell_type": "markdown",
   "id": "245211f2",
   "metadata": {
    "papermill": {
     "duration": 0.041854,
     "end_time": "2023-10-15T10:15:03.092355",
     "exception": false,
     "start_time": "2023-10-15T10:15:03.050501",
     "status": "completed"
    },
    "tags": []
   },
   "source": [
    "<a id = \"21\"></a><br>\n",
    "<h1 style=\"background-color:#fbb714;font-family:courier;font-size:300%;font-style: oblique;font-weight: bold;font-variant: small-caps;text-align:center;border-radius: 15px 50px;\"> Comprehensions </h1>\n",
    "\n",
    "1. **List Comprehension**:\n",
    "\n",
    "   List comprehension is used to create a list. It allows you to iterate over an existing iterable (e.g., a list or an array) and create a new list.\n",
    "\n",
    "2. **Dictionary Comprehension**:\n",
    "\n",
    "   Dictionary comprehension is used to create a dictionary. It enables you to create key-value pairs based on a specific condition or operation within a loop.\n",
    "\n",
    "3. **Set Comprehension**:\n",
    "\n",
    "   Set comprehension is used to create a set. It allows you to generate set elements based on a specific condition or operation within a loop."
   ]
  },
  {
   "cell_type": "markdown",
   "id": "23acdc7d",
   "metadata": {
    "papermill": {
     "duration": 0.040344,
     "end_time": "2023-10-15T10:15:03.173118",
     "exception": false,
     "start_time": "2023-10-15T10:15:03.132774",
     "status": "completed"
    },
    "tags": []
   },
   "source": [
    "**List Comprehension:**"
   ]
  },
  {
   "cell_type": "code",
   "execution_count": 108,
   "id": "fc82f2c5",
   "metadata": {
    "execution": {
     "iopub.execute_input": "2023-10-15T10:15:03.256872Z",
     "iopub.status.busy": "2023-10-15T10:15:03.256430Z",
     "iopub.status.idle": "2023-10-15T10:15:03.263396Z",
     "shell.execute_reply": "2023-10-15T10:15:03.261827Z"
    },
    "papermill": {
     "duration": 0.051981,
     "end_time": "2023-10-15T10:15:03.265530",
     "exception": false,
     "start_time": "2023-10-15T10:15:03.213549",
     "status": "completed"
    },
    "tags": []
   },
   "outputs": [
    {
     "name": "stdout",
     "output_type": "stream",
     "text": [
      "1200.0\n",
      "2400.0\n",
      "3600.0\n",
      "4800.0\n",
      "6000.0\n"
     ]
    }
   ],
   "source": [
    "salaries = [1000, 2000, 3000, 4000, 5000]\n",
    "\n",
    "def new_salary(x):\n",
    "    return x * 20 / 100 + x\n",
    "\n",
    "for salary in salaries:\n",
    "    print(new_salary(salary))\n",
    "\n",
    "# 1200.0\n",
    "# 2400.0\n",
    "# 3600.0\n",
    "# 4800.0\n",
    "# 6000.0"
   ]
  },
  {
   "cell_type": "code",
   "execution_count": 109,
   "id": "3aae7549",
   "metadata": {
    "execution": {
     "iopub.execute_input": "2023-10-15T10:15:03.350332Z",
     "iopub.status.busy": "2023-10-15T10:15:03.349578Z",
     "iopub.status.idle": "2023-10-15T10:15:03.359193Z",
     "shell.execute_reply": "2023-10-15T10:15:03.357764Z"
    },
    "papermill": {
     "duration": 0.054752,
     "end_time": "2023-10-15T10:15:03.361617",
     "exception": false,
     "start_time": "2023-10-15T10:15:03.306865",
     "status": "completed"
    },
    "tags": []
   },
   "outputs": [
    {
     "data": {
      "text/plain": [
       "[1200.0, 2400.0, 3600.0, 4800.0, 6000.0]"
      ]
     },
     "execution_count": 109,
     "metadata": {},
     "output_type": "execute_result"
    }
   ],
   "source": [
    "salaries = [1000, 2000, 3000, 4000, 5000]\n",
    "\n",
    "def new_salary(x):\n",
    "    return x * 20 / 100 + x\n",
    "\n",
    "null_list = []\n",
    "\n",
    "for salary in salaries:\n",
    "    null_list.append(new_salary(salary))\n",
    "\n",
    "null_list # [1200.0, 2400.0, 3600.0, 4800.0, 6000.0]"
   ]
  },
  {
   "cell_type": "code",
   "execution_count": 110,
   "id": "d5850f81",
   "metadata": {
    "execution": {
     "iopub.execute_input": "2023-10-15T10:15:03.445040Z",
     "iopub.status.busy": "2023-10-15T10:15:03.444160Z",
     "iopub.status.idle": "2023-10-15T10:15:03.453142Z",
     "shell.execute_reply": "2023-10-15T10:15:03.452004Z"
    },
    "papermill": {
     "duration": 0.052808,
     "end_time": "2023-10-15T10:15:03.455122",
     "exception": false,
     "start_time": "2023-10-15T10:15:03.402314",
     "status": "completed"
    },
    "tags": []
   },
   "outputs": [
    {
     "data": {
      "text/plain": [
       "[2400.0, 4800.0, 7200.0, 4800.0, 6000.0]"
      ]
     },
     "execution_count": 110,
     "metadata": {},
     "output_type": "execute_result"
    }
   ],
   "source": [
    "salaries = [1000, 2000, 3000, 4000, 5000]\n",
    "\n",
    "def new_salary(x):\n",
    "    return x * 20 / 100 + x\n",
    "\n",
    "null_list = []\n",
    "\n",
    "for salary in salaries:\n",
    "    if salary > 3000:\n",
    "        null_list.append(new_salary(salary))\n",
    "    else:\n",
    "        null_list.append(new_salary(salary * 2))\n",
    "        \n",
    "null_list # [2400.0, 4800.0, 7200.0, 4800.0, 6000.0]"
   ]
  },
  {
   "cell_type": "code",
   "execution_count": 111,
   "id": "9103c4b6",
   "metadata": {
    "execution": {
     "iopub.execute_input": "2023-10-15T10:15:03.539775Z",
     "iopub.status.busy": "2023-10-15T10:15:03.538590Z",
     "iopub.status.idle": "2023-10-15T10:15:03.546606Z",
     "shell.execute_reply": "2023-10-15T10:15:03.545556Z"
    },
    "papermill": {
     "duration": 0.052509,
     "end_time": "2023-10-15T10:15:03.548682",
     "exception": false,
     "start_time": "2023-10-15T10:15:03.496173",
     "status": "completed"
    },
    "tags": []
   },
   "outputs": [
    {
     "data": {
      "text/plain": [
       "[2400.0, 4800.0, 3600.0, 4800.0, 6000.0]"
      ]
     },
     "execution_count": 111,
     "metadata": {},
     "output_type": "execute_result"
    }
   ],
   "source": [
    "salaries = [1000, 2000, 3000, 4000, 5000]\n",
    "\n",
    "[new_salary(salary * 2) if salary < 3000 else new_salary(salary) for salary in salaries]\n",
    "\n",
    "# [2400.0, 4800.0, 3600.0, 4800.0, 6000.0]"
   ]
  },
  {
   "cell_type": "code",
   "execution_count": 112,
   "id": "bd3f21b7",
   "metadata": {
    "execution": {
     "iopub.execute_input": "2023-10-15T10:15:03.632408Z",
     "iopub.status.busy": "2023-10-15T10:15:03.631794Z",
     "iopub.status.idle": "2023-10-15T10:15:03.640673Z",
     "shell.execute_reply": "2023-10-15T10:15:03.639616Z"
    },
    "papermill": {
     "duration": 0.053788,
     "end_time": "2023-10-15T10:15:03.642983",
     "exception": false,
     "start_time": "2023-10-15T10:15:03.589195",
     "status": "completed"
    },
    "tags": []
   },
   "outputs": [
    {
     "data": {
      "text/plain": [
       "[2400.0, 4800.0, 720.0, 960.0, 1200.0]"
      ]
     },
     "execution_count": 112,
     "metadata": {},
     "output_type": "execute_result"
    }
   ],
   "source": [
    "[salary * 2 for salary in salaries] # [2000, 4000, 6000, 8000, 10000]\n",
    "\n",
    "[salary * 2 for salary in salaries if salary < 3000] # [2000, 4000]\n",
    "\n",
    "[salary * 2 if salary < 3000 else salary * 0 for salary in salaries] # [2000, 4000, 0, 0, 0]\n",
    "\n",
    "[new_salary(salary * 2) if salary < 3000 else new_salary(salary * 0.2) for salary in salaries] # [2400.0, 4800.0, 720.0, 960.0, 1200.0]"
   ]
  },
  {
   "cell_type": "code",
   "execution_count": 113,
   "id": "d6f23543",
   "metadata": {
    "execution": {
     "iopub.execute_input": "2023-10-15T10:15:03.727958Z",
     "iopub.status.busy": "2023-10-15T10:15:03.726641Z",
     "iopub.status.idle": "2023-10-15T10:15:03.734911Z",
     "shell.execute_reply": "2023-10-15T10:15:03.733915Z"
    },
    "papermill": {
     "duration": 0.052208,
     "end_time": "2023-10-15T10:15:03.736690",
     "exception": false,
     "start_time": "2023-10-15T10:15:03.684482",
     "status": "completed"
    },
    "tags": []
   },
   "outputs": [
    {
     "data": {
      "text/plain": [
       "['john', 'MARK', 'venessa', 'MARIAM']"
      ]
     },
     "execution_count": 113,
     "metadata": {},
     "output_type": "execute_result"
    }
   ],
   "source": [
    "students = [\"John\", \"Mark\", \"Venessa\", \"Mariam\"]\n",
    "students_no = [\"John\", \"Venessa\"]\n",
    "\n",
    "\n",
    "[student.lower() if student in students_no else student.upper() for student in students]\n",
    "[student.upper() if student not in students_no else student.lower() for student in students] # ['john', 'MARK', 'venessa', 'MARIAM']"
   ]
  },
  {
   "cell_type": "code",
   "execution_count": 114,
   "id": "cd49fc8a",
   "metadata": {
    "execution": {
     "iopub.execute_input": "2023-10-15T10:15:03.820444Z",
     "iopub.status.busy": "2023-10-15T10:15:03.820045Z",
     "iopub.status.idle": "2023-10-15T10:15:03.827185Z",
     "shell.execute_reply": "2023-10-15T10:15:03.825585Z"
    },
    "papermill": {
     "duration": 0.051944,
     "end_time": "2023-10-15T10:15:03.829276",
     "exception": false,
     "start_time": "2023-10-15T10:15:03.777332",
     "status": "completed"
    },
    "tags": []
   },
   "outputs": [
    {
     "name": "stdout",
     "output_type": "stream",
     "text": [
      "The quota of the CMP1005 coded course with 3 credits is 30 people.\n",
      "The quota of the PSY1001 coded course with 4 credits is 75 people.\n",
      "The quota of the HUK1005 coded course with 2 credits is 150 people.\n",
      "The quota of the SEN2204 coded course with 4 credits is 25 people.\n"
     ]
    }
   ],
   "source": [
    "lesson_code = [\"CMP1005\", \"PSY1001\", \"HUK1005\", \"SEN2204\"]\n",
    "credit = [3, 4, 2, 4]\n",
    "quota = [30, 75, 150, 25]\n",
    "\n",
    "for code, credits, quotas in zip(lesson_code, credit, quota):\n",
    "    print(f\"The quota of the {code} coded course with {credits} credits is {quotas} people.\")"
   ]
  },
  {
   "cell_type": "markdown",
   "id": "43747f65",
   "metadata": {
    "papermill": {
     "duration": 0.042819,
     "end_time": "2023-10-15T10:15:03.918512",
     "exception": false,
     "start_time": "2023-10-15T10:15:03.875693",
     "status": "completed"
    },
    "tags": []
   },
   "source": [
    "**Dictionary Comprehension:**"
   ]
  },
  {
   "cell_type": "code",
   "execution_count": 115,
   "id": "4bf78418",
   "metadata": {
    "execution": {
     "iopub.execute_input": "2023-10-15T10:15:04.017804Z",
     "iopub.status.busy": "2023-10-15T10:15:04.015654Z",
     "iopub.status.idle": "2023-10-15T10:15:04.027419Z",
     "shell.execute_reply": "2023-10-15T10:15:04.025613Z"
    },
    "papermill": {
     "duration": 0.069063,
     "end_time": "2023-10-15T10:15:04.030706",
     "exception": false,
     "start_time": "2023-10-15T10:15:03.961643",
     "status": "completed"
    },
    "tags": []
   },
   "outputs": [
    {
     "data": {
      "text/plain": [
       "dict_keys(['a', 'b', 'c', 'd'])"
      ]
     },
     "execution_count": 115,
     "metadata": {},
     "output_type": "execute_result"
    }
   ],
   "source": [
    "dictionary = {'a': 1,\n",
    "              'b': 2,\n",
    "              'c': 3,\n",
    "              'd': 4}\n",
    "\n",
    "dictionary.keys() # (['a', 'b', 'c', 'd'])"
   ]
  },
  {
   "cell_type": "code",
   "execution_count": 116,
   "id": "16004ace",
   "metadata": {
    "execution": {
     "iopub.execute_input": "2023-10-15T10:15:04.138279Z",
     "iopub.status.busy": "2023-10-15T10:15:04.137715Z",
     "iopub.status.idle": "2023-10-15T10:15:04.143146Z",
     "shell.execute_reply": "2023-10-15T10:15:04.141851Z"
    },
    "papermill": {
     "duration": 0.053758,
     "end_time": "2023-10-15T10:15:04.145101",
     "exception": false,
     "start_time": "2023-10-15T10:15:04.091343",
     "status": "completed"
    },
    "tags": []
   },
   "outputs": [
    {
     "data": {
      "text/plain": [
       "dict_values([1, 2, 3, 4])"
      ]
     },
     "execution_count": 116,
     "metadata": {},
     "output_type": "execute_result"
    }
   ],
   "source": [
    "dictionary.values() # ([1, 2, 3, 4])"
   ]
  },
  {
   "cell_type": "code",
   "execution_count": 117,
   "id": "3288b364",
   "metadata": {
    "execution": {
     "iopub.execute_input": "2023-10-15T10:15:04.236485Z",
     "iopub.status.busy": "2023-10-15T10:15:04.235891Z",
     "iopub.status.idle": "2023-10-15T10:15:04.241182Z",
     "shell.execute_reply": "2023-10-15T10:15:04.240083Z"
    },
    "papermill": {
     "duration": 0.053926,
     "end_time": "2023-10-15T10:15:04.243408",
     "exception": false,
     "start_time": "2023-10-15T10:15:04.189482",
     "status": "completed"
    },
    "tags": []
   },
   "outputs": [
    {
     "data": {
      "text/plain": [
       "dict_items([('a', 1), ('b', 2), ('c', 3), ('d', 4)])"
      ]
     },
     "execution_count": 117,
     "metadata": {},
     "output_type": "execute_result"
    }
   ],
   "source": [
    "dictionary.items() # ([('a', 1), ('b', 2), ('c', 3), ('d', 4)])"
   ]
  },
  {
   "cell_type": "code",
   "execution_count": 118,
   "id": "8320a7f1",
   "metadata": {
    "execution": {
     "iopub.execute_input": "2023-10-15T10:15:04.336531Z",
     "iopub.status.busy": "2023-10-15T10:15:04.335916Z",
     "iopub.status.idle": "2023-10-15T10:15:04.342241Z",
     "shell.execute_reply": "2023-10-15T10:15:04.341064Z"
    },
    "papermill": {
     "duration": 0.055781,
     "end_time": "2023-10-15T10:15:04.344452",
     "exception": false,
     "start_time": "2023-10-15T10:15:04.288671",
     "status": "completed"
    },
    "tags": []
   },
   "outputs": [
    {
     "data": {
      "text/plain": [
       "{'a': 1, 'b': 4, 'c': 9, 'd': 16}"
      ]
     },
     "execution_count": 118,
     "metadata": {},
     "output_type": "execute_result"
    }
   ],
   "source": [
    "{k: v ** 2 for (k, v) in dictionary.items()} # {'a': 1, 'b': 4, 'c': 9, 'd': 16}"
   ]
  },
  {
   "cell_type": "code",
   "execution_count": 119,
   "id": "8b544f19",
   "metadata": {
    "execution": {
     "iopub.execute_input": "2023-10-15T10:15:04.436265Z",
     "iopub.status.busy": "2023-10-15T10:15:04.435868Z",
     "iopub.status.idle": "2023-10-15T10:15:04.443152Z",
     "shell.execute_reply": "2023-10-15T10:15:04.442062Z"
    },
    "papermill": {
     "duration": 0.055426,
     "end_time": "2023-10-15T10:15:04.445640",
     "exception": false,
     "start_time": "2023-10-15T10:15:04.390214",
     "status": "completed"
    },
    "tags": []
   },
   "outputs": [
    {
     "data": {
      "text/plain": [
       "{'A': 1, 'B': 2, 'C': 3, 'D': 4}"
      ]
     },
     "execution_count": 119,
     "metadata": {},
     "output_type": "execute_result"
    }
   ],
   "source": [
    "{k.upper(): v for (k, v) in dictionary.items()} # {'A': 1, 'B': 2, 'C': 3, 'D': 4}"
   ]
  },
  {
   "cell_type": "code",
   "execution_count": 120,
   "id": "84098a57",
   "metadata": {
    "execution": {
     "iopub.execute_input": "2023-10-15T10:15:04.533062Z",
     "iopub.status.busy": "2023-10-15T10:15:04.532348Z",
     "iopub.status.idle": "2023-10-15T10:15:04.540028Z",
     "shell.execute_reply": "2023-10-15T10:15:04.538566Z"
    },
    "papermill": {
     "duration": 0.053783,
     "end_time": "2023-10-15T10:15:04.542396",
     "exception": false,
     "start_time": "2023-10-15T10:15:04.488613",
     "status": "completed"
    },
    "tags": []
   },
   "outputs": [
    {
     "data": {
      "text/plain": [
       "{'A': 2, 'B': 4, 'C': 6, 'D': 8}"
      ]
     },
     "execution_count": 120,
     "metadata": {},
     "output_type": "execute_result"
    }
   ],
   "source": [
    "{k.upper(): v*2 for (k, v) in dictionary.items()} # {'A': 2, 'B': 4, 'C': 6, 'D': 8}"
   ]
  },
  {
   "cell_type": "code",
   "execution_count": 121,
   "id": "e9354d76",
   "metadata": {
    "execution": {
     "iopub.execute_input": "2023-10-15T10:15:04.629422Z",
     "iopub.status.busy": "2023-10-15T10:15:04.629098Z",
     "iopub.status.idle": "2023-10-15T10:15:04.635813Z",
     "shell.execute_reply": "2023-10-15T10:15:04.634959Z"
    },
    "papermill": {
     "duration": 0.052753,
     "end_time": "2023-10-15T10:15:04.637596",
     "exception": false,
     "start_time": "2023-10-15T10:15:04.584843",
     "status": "completed"
    },
    "tags": []
   },
   "outputs": [
    {
     "data": {
      "text/plain": [
       "{0: 0, 2: 4, 4: 16, 6: 36, 8: 64}"
      ]
     },
     "execution_count": 121,
     "metadata": {},
     "output_type": "execute_result"
    }
   ],
   "source": [
    "numbers = range(10)\n",
    "new_dict = {}\n",
    "\n",
    "for n in numbers:\n",
    "    if n % 2 == 0:\n",
    "        new_dict[n] = n ** 2\n",
    "\n",
    "{n: n ** 2 for n in numbers if n % 2 == 0} # {0: 0, 2: 4, 4: 16, 6: 36, 8: 64}"
   ]
  },
  {
   "cell_type": "code",
   "execution_count": 122,
   "id": "f9a81ef7",
   "metadata": {
    "execution": {
     "iopub.execute_input": "2023-10-15T10:15:04.727168Z",
     "iopub.status.busy": "2023-10-15T10:15:04.725506Z",
     "iopub.status.idle": "2023-10-15T10:15:04.780720Z",
     "shell.execute_reply": "2023-10-15T10:15:04.779219Z"
    },
    "papermill": {
     "duration": 0.102892,
     "end_time": "2023-10-15T10:15:04.783297",
     "exception": false,
     "start_time": "2023-10-15T10:15:04.680405",
     "status": "completed"
    },
    "tags": []
   },
   "outputs": [
    {
     "data": {
      "text/plain": [
       "Index(['Name', 'Variation', 'DIY', 'Buy', 'Sell', 'Color 1', 'Color 2', 'Size',\n",
       "       'Miles Price', 'Source', 'Source Notes', 'Seasonal Availability',\n",
       "       'Mannequin Piece', 'Version', 'Style', 'Label Themes', 'Type',\n",
       "       'Villager Equippable', 'Catalog', 'Filename', 'Internal ID',\n",
       "       'Unique Entry ID'],\n",
       "      dtype='object')"
      ]
     },
     "execution_count": 122,
     "metadata": {},
     "output_type": "execute_result"
    }
   ],
   "source": [
    "import pandas as pd\n",
    "\n",
    "data = pd.read_csv(\"/kaggle/input/animal-crossing-new-horizons-nookplaza-dataset/accessories.csv\")\n",
    "\n",
    "data.columns\n",
    "\n",
    "# ['Name', 'Variation', 'DIY', 'Buy', 'Sell', 'Color 1', 'Color 2', 'Size', 'Miles Price', 'Source', 'Source Notes', 'Seasonal Availability','Mannequin Piece', 'Version', 'Style', 'Label Themes', 'Type','Villager Equippable', 'Catalog', 'Filename', 'Internal ID','Unique Entry ID']"
   ]
  },
  {
   "cell_type": "code",
   "execution_count": 123,
   "id": "8d4d8cc2",
   "metadata": {
    "execution": {
     "iopub.execute_input": "2023-10-15T10:15:04.872700Z",
     "iopub.status.busy": "2023-10-15T10:15:04.872336Z",
     "iopub.status.idle": "2023-10-15T10:15:04.878259Z",
     "shell.execute_reply": "2023-10-15T10:15:04.876875Z"
    },
    "papermill": {
     "duration": 0.053805,
     "end_time": "2023-10-15T10:15:04.880633",
     "exception": false,
     "start_time": "2023-10-15T10:15:04.826828",
     "status": "completed"
    },
    "tags": []
   },
   "outputs": [
    {
     "name": "stdout",
     "output_type": "stream",
     "text": [
      "NAME\n",
      "VARIATION\n",
      "DIY\n",
      "BUY\n",
      "SELL\n",
      "COLOR 1\n",
      "COLOR 2\n",
      "SIZE\n",
      "MILES PRICE\n",
      "SOURCE\n",
      "SOURCE NOTES\n",
      "SEASONAL AVAILABILITY\n",
      "MANNEQUIN PIECE\n",
      "VERSION\n",
      "STYLE\n",
      "LABEL THEMES\n",
      "TYPE\n",
      "VILLAGER EQUIPPABLE\n",
      "CATALOG\n",
      "FILENAME\n",
      "INTERNAL ID\n",
      "UNIQUE ENTRY ID\n"
     ]
    }
   ],
   "source": [
    "for col in data.columns:\n",
    "    print(col.upper())"
   ]
  },
  {
   "cell_type": "code",
   "execution_count": 124,
   "id": "1c2aa544",
   "metadata": {
    "execution": {
     "iopub.execute_input": "2023-10-15T10:15:04.968811Z",
     "iopub.status.busy": "2023-10-15T10:15:04.968421Z",
     "iopub.status.idle": "2023-10-15T10:15:04.974014Z",
     "shell.execute_reply": "2023-10-15T10:15:04.972831Z"
    },
    "papermill": {
     "duration": 0.052302,
     "end_time": "2023-10-15T10:15:04.976011",
     "exception": false,
     "start_time": "2023-10-15T10:15:04.923709",
     "status": "completed"
    },
    "tags": []
   },
   "outputs": [],
   "source": [
    "A = []\n",
    "\n",
    "for col in data.columns:\n",
    "    A.append(col.upper())"
   ]
  },
  {
   "cell_type": "code",
   "execution_count": 125,
   "id": "e42307fe",
   "metadata": {
    "execution": {
     "iopub.execute_input": "2023-10-15T10:15:05.139831Z",
     "iopub.status.busy": "2023-10-15T10:15:05.139053Z",
     "iopub.status.idle": "2023-10-15T10:15:05.144909Z",
     "shell.execute_reply": "2023-10-15T10:15:05.143770Z"
    },
    "papermill": {
     "duration": 0.052346,
     "end_time": "2023-10-15T10:15:05.147122",
     "exception": false,
     "start_time": "2023-10-15T10:15:05.094776",
     "status": "completed"
    },
    "tags": []
   },
   "outputs": [],
   "source": [
    "data.columns = [col.upper() for col in data.columns]"
   ]
  },
  {
   "cell_type": "code",
   "execution_count": 126,
   "id": "f0600383",
   "metadata": {
    "execution": {
     "iopub.execute_input": "2023-10-15T10:15:05.236089Z",
     "iopub.status.busy": "2023-10-15T10:15:05.235280Z",
     "iopub.status.idle": "2023-10-15T10:15:05.243026Z",
     "shell.execute_reply": "2023-10-15T10:15:05.241658Z"
    },
    "papermill": {
     "duration": 0.054422,
     "end_time": "2023-10-15T10:15:05.245135",
     "exception": false,
     "start_time": "2023-10-15T10:15:05.190713",
     "status": "completed"
    },
    "tags": []
   },
   "outputs": [
    {
     "data": {
      "text/plain": [
       "['SELL',\n",
       " 'SIZE',\n",
       " 'MILES PRICE',\n",
       " 'SOURCE',\n",
       " 'SOURCE NOTES',\n",
       " 'SEASONAL AVAILABILITY',\n",
       " 'VERSION',\n",
       " 'STYLE',\n",
       " 'LABEL THEMES']"
      ]
     },
     "execution_count": 126,
     "metadata": {},
     "output_type": "execute_result"
    }
   ],
   "source": [
    "[col for col in data.columns if \"S\" in col] # ['Sell', 'Size', 'Source', 'Source Notes', 'Seasonal Availability', 'Style']"
   ]
  },
  {
   "cell_type": "code",
   "execution_count": 127,
   "id": "a63b2a2f",
   "metadata": {
    "execution": {
     "iopub.execute_input": "2023-10-15T10:15:05.333280Z",
     "iopub.status.busy": "2023-10-15T10:15:05.332910Z",
     "iopub.status.idle": "2023-10-15T10:15:05.342429Z",
     "shell.execute_reply": "2023-10-15T10:15:05.340959Z"
    },
    "papermill": {
     "duration": 0.056552,
     "end_time": "2023-10-15T10:15:05.344912",
     "exception": false,
     "start_time": "2023-10-15T10:15:05.288360",
     "status": "completed"
    },
    "tags": []
   },
   "outputs": [
    {
     "data": {
      "text/plain": [
       "['FLAG_SELL',\n",
       " 'FLAG_SIZE',\n",
       " 'FLAG_MILES PRICE',\n",
       " 'FLAG_SOURCE',\n",
       " 'FLAG_SOURCE NOTES',\n",
       " 'FLAG_SEASONAL AVAILABILITY',\n",
       " 'FLAG_VERSION',\n",
       " 'FLAG_STYLE',\n",
       " 'FLAG_LABEL THEMES']"
      ]
     },
     "execution_count": 127,
     "metadata": {},
     "output_type": "execute_result"
    }
   ],
   "source": [
    "[\"FLAG_\" + col for col in data.columns if \"S\" in col] # ['FLAG_Sell','FLAG_Size','FLAG_Source','FLAG_Source Notes','FLAG_Seasonal Availability','FLAG_Style']"
   ]
  },
  {
   "cell_type": "code",
   "execution_count": 128,
   "id": "525e3ace",
   "metadata": {
    "execution": {
     "iopub.execute_input": "2023-10-15T10:15:05.436899Z",
     "iopub.status.busy": "2023-10-15T10:15:05.436428Z",
     "iopub.status.idle": "2023-10-15T10:15:05.445467Z",
     "shell.execute_reply": "2023-10-15T10:15:05.443911Z"
    },
    "papermill": {
     "duration": 0.059978,
     "end_time": "2023-10-15T10:15:05.448671",
     "exception": false,
     "start_time": "2023-10-15T10:15:05.388693",
     "status": "completed"
    },
    "tags": []
   },
   "outputs": [
    {
     "data": {
      "text/plain": [
       "['NO_FLAG_NAME',\n",
       " 'NO_FLAG_VARIATION',\n",
       " 'NO_FLAG_DIY',\n",
       " 'NO_FLAG_BUY',\n",
       " 'NO_FLAG_SELL',\n",
       " 'NO_FLAG_COLOR 1',\n",
       " 'NO_FLAG_COLOR 2',\n",
       " 'NO_FLAG_SIZE',\n",
       " 'NO_FLAG_MILES PRICE',\n",
       " 'NO_FLAG_SOURCE',\n",
       " 'NO_FLAG_SOURCE NOTES',\n",
       " 'NO_FLAG_SEASONAL AVAILABILITY',\n",
       " 'NO_FLAG_MANNEQUIN PIECE',\n",
       " 'NO_FLAG_VERSION',\n",
       " 'NO_FLAG_STYLE',\n",
       " 'NO_FLAG_LABEL THEMES',\n",
       " 'NO_FLAG_TYPE',\n",
       " 'NO_FLAG_VILLAGER EQUIPPABLE',\n",
       " 'NO_FLAG_CATALOG',\n",
       " 'NO_FLAG_FILENAME',\n",
       " 'NO_FLAG_INTERNAL ID',\n",
       " 'NO_FLAG_UNIQUE ENTRY ID']"
      ]
     },
     "execution_count": 128,
     "metadata": {},
     "output_type": "execute_result"
    }
   ],
   "source": [
    "[\"FLAG_\" + col if \"INS\" in col else \"NO_FLAG_\" + col for col in data.columns]"
   ]
  },
  {
   "cell_type": "code",
   "execution_count": 129,
   "id": "c6bc8464",
   "metadata": {
    "execution": {
     "iopub.execute_input": "2023-10-15T10:15:05.536115Z",
     "iopub.status.busy": "2023-10-15T10:15:05.535700Z",
     "iopub.status.idle": "2023-10-15T10:15:05.541367Z",
     "shell.execute_reply": "2023-10-15T10:15:05.540137Z"
    },
    "papermill": {
     "duration": 0.052312,
     "end_time": "2023-10-15T10:15:05.543629",
     "exception": false,
     "start_time": "2023-10-15T10:15:05.491317",
     "status": "completed"
    },
    "tags": []
   },
   "outputs": [],
   "source": [
    "columns = {'total': ['mean', 'min', 'max', 'var'],\n",
    " 'speeding': ['mean', 'min', 'max', 'var'],\n",
    " 'alcohol': ['mean', 'min', 'max', 'var'],\n",
    " 'not_distracted': ['mean', 'min', 'max', 'var'],\n",
    " 'no_previous': ['mean', 'min', 'max', 'var'],\n",
    " 'ins_premium': ['mean', 'min', 'max', 'var'],\n",
    " 'ins_losses': ['mean', 'min', 'max', 'var']}"
   ]
  },
  {
   "cell_type": "code",
   "execution_count": 130,
   "id": "0506c7b0",
   "metadata": {
    "execution": {
     "iopub.execute_input": "2023-10-15T10:15:05.640926Z",
     "iopub.status.busy": "2023-10-15T10:15:05.640531Z",
     "iopub.status.idle": "2023-10-15T10:15:05.652435Z",
     "shell.execute_reply": "2023-10-15T10:15:05.651393Z"
    },
    "papermill": {
     "duration": 0.065393,
     "end_time": "2023-10-15T10:15:05.654909",
     "exception": false,
     "start_time": "2023-10-15T10:15:05.589516",
     "status": "completed"
    },
    "tags": []
   },
   "outputs": [],
   "source": [
    "num_cols = [col for col in data.columns if data[col].dtype != \"O\"] # ['Sell', 'Miles Price', 'Internal ID']\n",
    "soz = {}\n",
    "agg_list = [\"mean\", \"min\", \"max\", \"sum\"]"
   ]
  },
  {
   "cell_type": "code",
   "execution_count": 131,
   "id": "94e28bae",
   "metadata": {
    "execution": {
     "iopub.execute_input": "2023-10-15T10:15:05.748999Z",
     "iopub.status.busy": "2023-10-15T10:15:05.748595Z",
     "iopub.status.idle": "2023-10-15T10:15:05.755815Z",
     "shell.execute_reply": "2023-10-15T10:15:05.754629Z"
    },
    "papermill": {
     "duration": 0.055527,
     "end_time": "2023-10-15T10:15:05.757922",
     "exception": false,
     "start_time": "2023-10-15T10:15:05.702395",
     "status": "completed"
    },
    "tags": []
   },
   "outputs": [
    {
     "data": {
      "text/plain": [
       "{'SELL': ['mean', 'min', 'max', 'sum'],\n",
       " 'MILES PRICE': ['mean', 'min', 'max', 'sum'],\n",
       " 'INTERNAL ID': ['mean', 'min', 'max', 'sum']}"
      ]
     },
     "execution_count": 131,
     "metadata": {},
     "output_type": "execute_result"
    }
   ],
   "source": [
    "for col in num_cols:\n",
    "    soz[col] = agg_list\n",
    "    \n",
    "soz\n",
    "\n",
    "# {'Sell': ['mean', 'min', 'max', 'sum'],\n",
    "#  'Miles Price': ['mean', 'min', 'max', 'sum'],\n",
    "#  'Internal ID': ['mean', 'min', 'max', 'sum']}"
   ]
  },
  {
   "cell_type": "code",
   "execution_count": 132,
   "id": "2bc8b8b0",
   "metadata": {
    "execution": {
     "iopub.execute_input": "2023-10-15T10:15:05.854304Z",
     "iopub.status.busy": "2023-10-15T10:15:05.853925Z",
     "iopub.status.idle": "2023-10-15T10:15:05.859449Z",
     "shell.execute_reply": "2023-10-15T10:15:05.858707Z"
    },
    "papermill": {
     "duration": 0.057059,
     "end_time": "2023-10-15T10:15:05.861576",
     "exception": false,
     "start_time": "2023-10-15T10:15:05.804517",
     "status": "completed"
    },
    "tags": []
   },
   "outputs": [
    {
     "name": "stdout",
     "output_type": "stream",
     "text": [
      "{'lambda', 'sharp', 'function', 'qcut'}\n"
     ]
    }
   ],
   "source": [
    "set1 = set([\"data\", \"python\"])\n",
    "set2 = set([\"data\", \"function\", \"qcut\", \"lambda\", \"python\", \"sharp\"])\n",
    "\n",
    "result = [print(set2.difference(set1)) if set2.issuperset(set1) else print(set2.intersection(set1)) in set1,\n",
    "          set2]\n",
    "\n",
    "# {'lambda', 'qcut', 'sharp', 'function'}"
   ]
  },
  {
   "cell_type": "code",
   "execution_count": 133,
   "id": "23d515fe",
   "metadata": {
    "execution": {
     "iopub.execute_input": "2023-10-15T10:15:05.957423Z",
     "iopub.status.busy": "2023-10-15T10:15:05.957034Z",
     "iopub.status.idle": "2023-10-15T10:15:05.963013Z",
     "shell.execute_reply": "2023-10-15T10:15:05.961964Z"
    },
    "papermill": {
     "duration": 0.056035,
     "end_time": "2023-10-15T10:15:05.965138",
     "exception": false,
     "start_time": "2023-10-15T10:15:05.909103",
     "status": "completed"
    },
    "tags": []
   },
   "outputs": [
    {
     "name": "stdout",
     "output_type": "stream",
     "text": [
      "{'lambda', 'sharp', 'function', 'qcut'}\n"
     ]
    }
   ],
   "source": [
    "def sets(x, y):\n",
    "    if x.issuperset(y):\n",
    "        print(x.intersection(y))\n",
    "    else:\n",
    "        print(y - x)\n",
    "\n",
    "\n",
    "sets(set1, set2) # {'lambda', 'qcut', 'sharp', 'function'}"
   ]
  },
  {
   "cell_type": "markdown",
   "id": "627b6ea3",
   "metadata": {
    "papermill": {
     "duration": 0.044132,
     "end_time": "2023-10-15T10:15:06.056230",
     "exception": false,
     "start_time": "2023-10-15T10:15:06.012098",
     "status": "completed"
    },
    "tags": []
   },
   "source": [
    "<a id = \"22\"></a><br>\n",
    "<h1 style=\"background-color:#fbb714;font-family:courier;font-size:300%;font-style: oblique;font-weight: bold;font-variant: small-caps;text-align:center;border-radius: 15px 50px;\"> Functional Programming </h1>"
   ]
  },
  {
   "cell_type": "markdown",
   "id": "94048984",
   "metadata": {
    "papermill": {
     "duration": 0.045365,
     "end_time": "2023-10-15T10:15:06.148171",
     "exception": false,
     "start_time": "2023-10-15T10:15:06.102806",
     "status": "completed"
    },
    "tags": []
   },
   "source": [
    "Functional programming is a programming paradigm that treats computation as the evaluation of mathematical functions and avoids changing state and mutable data. In Python, functional programming is supported to a great extent and can be achieved using several concepts and features. \n",
    "\n",
    "* Here are some key aspects of functional programming in Python:"
   ]
  },
  {
   "cell_type": "markdown",
   "id": "bf2cc70a",
   "metadata": {
    "papermill": {
     "duration": 0.042254,
     "end_time": "2023-10-15T10:15:06.234189",
     "exception": false,
     "start_time": "2023-10-15T10:15:06.191935",
     "status": "completed"
    },
    "tags": []
   },
   "source": [
    "**First-Class Functions:**\n",
    "\n",
    "* In Python, functions are first-class citizens, which means they can be treated as objects, assigned to variables, passed as arguments to other functions, and returned from functions."
   ]
  },
  {
   "cell_type": "code",
   "execution_count": 134,
   "id": "b625a522",
   "metadata": {
    "execution": {
     "iopub.execute_input": "2023-10-15T10:15:06.321544Z",
     "iopub.status.busy": "2023-10-15T10:15:06.321103Z",
     "iopub.status.idle": "2023-10-15T10:15:06.327327Z",
     "shell.execute_reply": "2023-10-15T10:15:06.325931Z"
    },
    "papermill": {
     "duration": 0.052886,
     "end_time": "2023-10-15T10:15:06.329526",
     "exception": false,
     "start_time": "2023-10-15T10:15:06.276640",
     "status": "completed"
    },
    "tags": []
   },
   "outputs": [],
   "source": [
    "def square(x):\n",
    "    return x ** 2\n",
    "\n",
    "def cube(x):\n",
    "    return x ** 3\n",
    "\n",
    "# Functions assigned to variables\n",
    "func1 = square\n",
    "func2 = cube\n",
    "\n",
    "# Functions as arguments\n",
    "def apply_operation(func, num):\n",
    "    return func(num)\n",
    "\n",
    "result1 = apply_operation(func1, 5)  # Result: 25\n",
    "result2 = apply_operation(func2, 3)  # Result: 27"
   ]
  },
  {
   "cell_type": "markdown",
   "id": "29fe49c9",
   "metadata": {
    "papermill": {
     "duration": 0.042177,
     "end_time": "2023-10-15T10:15:06.413756",
     "exception": false,
     "start_time": "2023-10-15T10:15:06.371579",
     "status": "completed"
    },
    "tags": []
   },
   "source": [
    "**Lambda Functions (Anonymous Functions):**\n",
    "\n",
    "* Lambda functions are small, anonymous functions that can have any number of arguments but only one expression. They are defined using the lambda keyword."
   ]
  },
  {
   "cell_type": "code",
   "execution_count": 135,
   "id": "d3d7d402",
   "metadata": {
    "execution": {
     "iopub.execute_input": "2023-10-15T10:15:06.513263Z",
     "iopub.status.busy": "2023-10-15T10:15:06.512827Z",
     "iopub.status.idle": "2023-10-15T10:15:06.518120Z",
     "shell.execute_reply": "2023-10-15T10:15:06.516998Z"
    },
    "papermill": {
     "duration": 0.063483,
     "end_time": "2023-10-15T10:15:06.520194",
     "exception": false,
     "start_time": "2023-10-15T10:15:06.456711",
     "status": "completed"
    },
    "tags": []
   },
   "outputs": [],
   "source": [
    "# Lambda function to calculate the square of a number\n",
    "square = lambda x: x ** 2\n",
    "\n",
    "result = square(4)  # Result: 16"
   ]
  },
  {
   "cell_type": "markdown",
   "id": "ad2ab5ac",
   "metadata": {
    "papermill": {
     "duration": 0.043197,
     "end_time": "2023-10-15T10:15:06.607588",
     "exception": false,
     "start_time": "2023-10-15T10:15:06.564391",
     "status": "completed"
    },
    "tags": []
   },
   "source": [
    "* Lambda functions are often used as arguments to higher-order functions like map(), filter(), and reduce();\n",
    "\n",
    "    * **map():** applies the given function to all items in an iterable (e.g., list, tuple) and returns a new iterable with the results.\n",
    "    * **filter():** filters the elements of an iterable based on the given function's output, returning a new iterable with only the items that evaluate to True.\n",
    "    * **sorted():** sorts the elements of an iterable based on a specified key function."
   ]
  },
  {
   "cell_type": "code",
   "execution_count": 136,
   "id": "f479348f",
   "metadata": {
    "execution": {
     "iopub.execute_input": "2023-10-15T10:15:06.695512Z",
     "iopub.status.busy": "2023-10-15T10:15:06.695120Z",
     "iopub.status.idle": "2023-10-15T10:15:06.702538Z",
     "shell.execute_reply": "2023-10-15T10:15:06.701203Z"
    },
    "papermill": {
     "duration": 0.055661,
     "end_time": "2023-10-15T10:15:06.705839",
     "exception": false,
     "start_time": "2023-10-15T10:15:06.650178",
     "status": "completed"
    },
    "tags": []
   },
   "outputs": [
    {
     "name": "stdout",
     "output_type": "stream",
     "text": [
      "[1, 4, 9, 16, 25]\n",
      "[2, 4]\n",
      "['apple', 'grape', 'banana', 'orange']\n"
     ]
    }
   ],
   "source": [
    "numbers = [1, 2, 3, 4, 5]\n",
    "squared_numbers = map(lambda x: x**2, numbers)\n",
    "\n",
    "print(list(squared_numbers))  # Output: [1, 4, 9, 16, 25]\n",
    "\n",
    "#\n",
    "\n",
    "numbers = [1, 2, 3, 4, 5]\n",
    "even_numbers = filter(lambda x: x % 2 == 0, numbers)\n",
    "\n",
    "print(list(even_numbers))  # Output: [2, 4]\n",
    "\n",
    "#\n",
    "\n",
    "words = [\"apple\", \"banana\", \"orange\", \"grape\"]\n",
    "sorted_words = sorted(words, key=lambda word: len(word))\n",
    "\n",
    "print(sorted_words)  # Output: ['grape', 'apple', 'banana', 'orange']"
   ]
  },
  {
   "cell_type": "markdown",
   "id": "550ae63a",
   "metadata": {
    "papermill": {
     "duration": 0.045474,
     "end_time": "2023-10-15T10:15:06.801720",
     "exception": false,
     "start_time": "2023-10-15T10:15:06.756246",
     "status": "completed"
    },
    "tags": []
   },
   "source": [
    "**Higher-Order Functions:**\n",
    "\n",
    "* Higher-order functions are functions that take one or more functions as arguments or return functions as results. They are a fundamental concept in functional programming."
   ]
  },
  {
   "cell_type": "code",
   "execution_count": 137,
   "id": "dc203180",
   "metadata": {
    "execution": {
     "iopub.execute_input": "2023-10-15T10:15:06.896082Z",
     "iopub.status.busy": "2023-10-15T10:15:06.895638Z",
     "iopub.status.idle": "2023-10-15T10:15:06.902000Z",
     "shell.execute_reply": "2023-10-15T10:15:06.900650Z"
    },
    "papermill": {
     "duration": 0.05678,
     "end_time": "2023-10-15T10:15:06.904361",
     "exception": false,
     "start_time": "2023-10-15T10:15:06.847581",
     "status": "completed"
    },
    "tags": []
   },
   "outputs": [],
   "source": [
    "# Example of map() function:\n",
    "\n",
    "numbers = [1, 2, 3, 4, 5]\n",
    "squared_numbers = map(lambda x: x ** 2, numbers)  # Result: [1, 4, 9, 16, 25]\n",
    "\n",
    "# Example of filter() function:\n",
    "\n",
    "even_numbers = filter(lambda x: x % 2 == 0, numbers)  # Result: [2, 4]\n",
    "\n",
    "# Example of reduce() function:\n",
    "\n",
    "from functools import reduce\n",
    "sum_of_numbers = reduce(lambda x, y: x + y, numbers)  # Result: 15 (1 + 2 + 3 + 4 + 5)"
   ]
  },
  {
   "cell_type": "markdown",
   "id": "27e1cbdd",
   "metadata": {
    "papermill": {
     "duration": 0.046263,
     "end_time": "2023-10-15T10:15:06.996348",
     "exception": false,
     "start_time": "2023-10-15T10:15:06.950085",
     "status": "completed"
    },
    "tags": []
   },
   "source": [
    "* **reduce() (from functools module):** applies the given function cumulatively to the items of the iterable from left to right, returning the final accumulated result.\n",
    "\n",
    "* \"functools.reduce(function, iterable[, initializer])\"\n",
    "\n",
    "    * function: The binary function that takes two arguments and returns a single value. It is applied cumulatively to the items of the iterable.\n",
    "    * \n",
    "    * iterable: The sequence of elements to be processed by the reduce() function.\n",
    "    * \n",
    "    * initializer (optional): An optional initial value for the accumulated result. If provided, the reduce() function uses this value as the first argument in the first function call. If not provided, the first two elements of the iterable will be used as the initial arguments.\n"
   ]
  },
  {
   "cell_type": "code",
   "execution_count": 138,
   "id": "23fcc2cb",
   "metadata": {
    "execution": {
     "iopub.execute_input": "2023-10-15T10:15:07.089409Z",
     "iopub.status.busy": "2023-10-15T10:15:07.089065Z",
     "iopub.status.idle": "2023-10-15T10:15:07.094604Z",
     "shell.execute_reply": "2023-10-15T10:15:07.093689Z"
    },
    "papermill": {
     "duration": 0.052561,
     "end_time": "2023-10-15T10:15:07.096959",
     "exception": false,
     "start_time": "2023-10-15T10:15:07.044398",
     "status": "completed"
    },
    "tags": []
   },
   "outputs": [
    {
     "name": "stdout",
     "output_type": "stream",
     "text": [
      "25\n"
     ]
    }
   ],
   "source": [
    "from functools import reduce\n",
    "\n",
    "numbers = [1, 2, 3, 4, 5]\n",
    "result = reduce(lambda x, y: x + y, numbers, 10)\n",
    "print(result)  # Output: 25 (10 + 1 + 2 + 3 + 4 + 5)"
   ]
  },
  {
   "cell_type": "markdown",
   "id": "00e9913e",
   "metadata": {
    "papermill": {
     "duration": 0.044229,
     "end_time": "2023-10-15T10:15:07.184595",
     "exception": false,
     "start_time": "2023-10-15T10:15:07.140366",
     "status": "completed"
    },
    "tags": []
   },
   "source": [
    "**Immutable Data Structures:**\n",
    "\n",
    "* Functional programming encourages the use of immutable data structures, where once created, the data cannot be changed. In Python, tuples and namedtuples are immutable data structures."
   ]
  },
  {
   "cell_type": "code",
   "execution_count": 139,
   "id": "73517fe6",
   "metadata": {
    "execution": {
     "iopub.execute_input": "2023-10-15T10:15:07.276097Z",
     "iopub.status.busy": "2023-10-15T10:15:07.275674Z",
     "iopub.status.idle": "2023-10-15T10:15:07.282873Z",
     "shell.execute_reply": "2023-10-15T10:15:07.281508Z"
    },
    "papermill": {
     "duration": 0.056604,
     "end_time": "2023-10-15T10:15:07.285370",
     "exception": false,
     "start_time": "2023-10-15T10:15:07.228766",
     "status": "completed"
    },
    "tags": []
   },
   "outputs": [],
   "source": [
    "# Tuple (immutable):\n",
    "\n",
    "person = (\"Alice\", 30)\n",
    "name, age = person  # Unpacking the tuple\n",
    "\n",
    "# NamedTuple (immutable):\n",
    "\n",
    "from collections import namedtuple\n",
    "\n",
    "Person = namedtuple(\"Person\", [\"name\", \"age\"])\n",
    "person = Person(\"Bob\", 25)\n",
    "name, age = person  # Unpacking the named tuple"
   ]
  },
  {
   "cell_type": "markdown",
   "id": "7f812ab2",
   "metadata": {
    "papermill": {
     "duration": 0.04359,
     "end_time": "2023-10-15T10:15:07.373410",
     "exception": false,
     "start_time": "2023-10-15T10:15:07.329820",
     "status": "completed"
    },
    "tags": []
   },
   "source": [
    "**Recursion:**\n",
    "\n",
    "* Functional programming often uses recursion for repetitive tasks instead of loops. Recursive functions call themselves to solve smaller subproblems."
   ]
  },
  {
   "cell_type": "code",
   "execution_count": 140,
   "id": "3a91e397",
   "metadata": {
    "execution": {
     "iopub.execute_input": "2023-10-15T10:15:07.465948Z",
     "iopub.status.busy": "2023-10-15T10:15:07.465577Z",
     "iopub.status.idle": "2023-10-15T10:15:07.471461Z",
     "shell.execute_reply": "2023-10-15T10:15:07.469690Z"
    },
    "papermill": {
     "duration": 0.055597,
     "end_time": "2023-10-15T10:15:07.474055",
     "exception": false,
     "start_time": "2023-10-15T10:15:07.418458",
     "status": "completed"
    },
    "tags": []
   },
   "outputs": [],
   "source": [
    "def factorial(n):\n",
    "    \n",
    "    if n == 0:\n",
    "        return 1\n",
    "    else:\n",
    "        return n * factorial(n - 1)\n",
    "\n",
    "result = factorial(5)  # Result: 120 (5! = 5 * 4 * 3 * 2 * 1)"
   ]
  },
  {
   "cell_type": "markdown",
   "id": "10dbed38",
   "metadata": {
    "papermill": {
     "duration": 0.04392,
     "end_time": "2023-10-15T10:15:07.564464",
     "exception": false,
     "start_time": "2023-10-15T10:15:07.520544",
     "status": "completed"
    },
    "tags": []
   },
   "source": [
    "<a id = \"23\"></a><br>\n",
    "<h1 style=\"background-color:#fbb714;font-family:courier;font-size:300%;font-style: oblique;font-weight: bold;font-variant: small-caps;text-align:center;border-radius: 15px 50px;\"> Exception/Error Types </h1>"
   ]
  },
  {
   "cell_type": "markdown",
   "id": "1cc0d5bf",
   "metadata": {
    "papermill": {
     "duration": 0.043138,
     "end_time": "2023-10-15T10:15:07.653488",
     "exception": false,
     "start_time": "2023-10-15T10:15:07.610350",
     "status": "completed"
    },
    "tags": []
   },
   "source": [
    "In Python, errors are known as exceptions, and they occur when the interpreter encounters a situation that it cannot handle during program execution. When an exception occurs, it interrupts the normal flow of the program and raises an error message, also known as a traceback, indicating the location and type of the exception.\n",
    "\n",
    "Python has several built-in exception types, and they are organized in a hierarchy. The most common exception types include:\n",
    "\n",
    "**SyntaxError:**\n",
    "\n",
    "* Syntax errors occur when the Python interpreter encounters invalid syntax in your code. These errors are typically raised before the program is executed.\n",
    "\n",
    "**IndentationError:**\n",
    "\n",
    "* Indentation errors occur when there is a problem with the indentation of your code, such as mixing tabs and spaces or mismatched indentation levels.\n",
    "\n",
    "**NameError:**\n",
    "\n",
    "* Name errors occur when you try to access a variable or function that has not been defined.\n",
    "\n",
    "**TypeError:**\n",
    "\n",
    "* Type errors occur when you use an inappropriate type for an operation or function. For example, trying to perform arithmetic on non-numeric data types.\n",
    "\n",
    "**ValueError:**\n",
    "\n",
    "* Value errors occur when a function receives an argument of the correct type, but the value of the argument is outside the expected range.\n",
    "\n",
    "**IndexError:**\n",
    "\n",
    "* Index errors occur when you try to access an index in a sequence (e.g., list, tuple) that does not exist.\n",
    "\n",
    "**KeyError:**\n",
    "\n",
    "* Key errors occur when you try to access a dictionary key that does not exist.\n",
    "\n",
    "**ZeroDivisionError:**\n",
    "\n",
    "* Zero division errors occur when you try to divide a number by zero.\n",
    "\n",
    "**FileNotFoundError:**\n",
    "\n",
    "* File not found errors occur when you try to open or access a file that does not exist.\n",
    "\n",
    "**ImportError:**\n",
    "\n",
    "* Import errors occur when there is an issue with importing modules or packages.\n",
    "\n",
    "These are just a few examples of common exception types in Python. Each exception type has a specific meaning and can help you identify and debug issues in your code. To handle exceptions and prevent your program from terminating abruptly, you can use **try, except, else, and finally** blocks to catch and manage exceptions gracefully."
   ]
  },
  {
   "cell_type": "code",
   "execution_count": 141,
   "id": "75abaee4",
   "metadata": {
    "execution": {
     "iopub.execute_input": "2023-10-15T10:15:07.746072Z",
     "iopub.status.busy": "2023-10-15T10:15:07.745700Z",
     "iopub.status.idle": "2023-10-15T10:15:07.751292Z",
     "shell.execute_reply": "2023-10-15T10:15:07.750253Z"
    },
    "papermill": {
     "duration": 0.053563,
     "end_time": "2023-10-15T10:15:07.753515",
     "exception": false,
     "start_time": "2023-10-15T10:15:07.699952",
     "status": "completed"
    },
    "tags": []
   },
   "outputs": [
    {
     "name": "stdout",
     "output_type": "stream",
     "text": [
      "Error: division by zero\n",
      "Finally block executed.\n"
     ]
    }
   ],
   "source": [
    "try:\n",
    "    x = 10 / 0\n",
    "except ZeroDivisionError as e:\n",
    "    print(\"Error:\", e)\n",
    "else:\n",
    "    print(\"Division successful!\")\n",
    "finally:\n",
    "    print(\"Finally block executed.\")"
   ]
  },
  {
   "cell_type": "markdown",
   "id": "27b93873",
   "metadata": {
    "papermill": {
     "duration": 0.042584,
     "end_time": "2023-10-15T10:15:07.840405",
     "exception": false,
     "start_time": "2023-10-15T10:15:07.797821",
     "status": "completed"
    },
    "tags": []
   },
   "source": [
    "In this example, a ZeroDivisionError is caught using the except block, and an error message is printed. The else block is executed if there is no exception, and the finally block is always executed, regardless of whether an exception occurred or not.\n",
    "\n",
    "Understanding error types and effectively handling exceptions is essential for writing robust and reliable Python code. It allows you to gracefully handle unexpected situations and provide meaningful feedback to users or log detailed information for debugging purposes."
   ]
  },
  {
   "cell_type": "markdown",
   "id": "078a7ff3",
   "metadata": {
    "papermill": {
     "duration": 0.045638,
     "end_time": "2023-10-15T10:15:07.930152",
     "exception": false,
     "start_time": "2023-10-15T10:15:07.884514",
     "status": "completed"
    },
    "tags": []
   },
   "source": [
    "<a id = \"24\"></a><br>\n",
    "<h1 style=\"background-color:#fbb714;font-family:courier;font-size:300%;font-style: oblique;font-weight: bold;font-variant: small-caps;text-align:center;border-radius: 15px 50px;\"> Virtual Environment & Package Management </h1>"
   ]
  },
  {
   "cell_type": "markdown",
   "id": "0c1ea36a",
   "metadata": {
    "papermill": {
     "duration": 0.046759,
     "end_time": "2023-10-15T10:15:08.021653",
     "exception": false,
     "start_time": "2023-10-15T10:15:07.974894",
     "status": "completed"
    },
    "tags": []
   },
   "source": [
    "**Virtual Enviroment**\n",
    "\n",
    "A virtual environment is a concept used in software development. It is typically associated with the Python programming language but similar concepts exist for other programming languages. A virtual environment is an isolated environment that can run independently on a computer's operating system and meet the requirements of a project.\n",
    "\n",
    "* Virtual environments serve various purposes:\n",
    "\n",
    "    1. Project Isolation: You can create a separate virtual environment for each project. This allows each project to have its independent dependencies and versions. It helps prevent conflicts or clashes between dependencies across projects.\n",
    "\n",
    "    2. Dependency Management: Virtual environments are used to manage project dependencies. Since each project has its isolated environment, one project's dependency does not affect other projects.\n",
    "\n",
    "    3. Version Control: Virtual environments ensure that your project code is compatible with a specific Python version. Each virtual environment includes its Python version and dependencies.\n",
    "\n",
    "In Python, tools like \"virtualenv\",\"venv\",\"pipenv\" and \"conda\" can be used to create virtual environments. Once you have created a virtual environment, you can run your project within it and install dependencies specific to that environment.\n",
    "\n",
    "**Package Management**\n",
    "\n",
    "Package management is the process of managing and distributing software packages used in software development and computer systems. These software packages can take various forms, including libraries, applications, tools, and other components. Package management facilitates the easy discovery, installation, updating, and removal of these software components.\n",
    "\n",
    "* The primary purposes of package management are as follows:\n",
    "\n",
    "    1. Dependency Management: Software projects often depend on other software components. Package management simplifies the management of complex dependency chains by automatically resolving and integrating dependencies into your project.\n",
    "\n",
    "    2. Version Control: Different versions of a software package may exist, and they may have differences in compatibility or security vulnerabilities. Package management helps determine which version to install and ensures compatibility with your project.\n",
    "\n",
    "    3. Security and Updates: Package management aids in applying security updates and easily updating to newer versions of software packages, keeping your software secure and up to date.\n",
    "\n",
    "    4. Distribution and Sharing: Package management is used to share software packages with others or distribute them to a broader user base. This allows software developers to share libraries or applications with others and enables users to easily install them.\n",
    "\n",
    "Package management tools may be specialized for a specific programming language or operating system. For example, \"pip (pypi - python package index)\" for Python, \"npm\" for JavaScript, \"apt\" or \"yum\" for Linux, and \"Homebrew\" for macOS are some examples of package management tools. These tools can be used through the command line or a graphical user interface to find, install, update, and remove software packages.\n",
    "\n",
    "Package Management tools, pip (requirements.txt), pipenv(Pipfile),conda (environment.yaml) for Python."
   ]
  },
  {
   "cell_type": "code",
   "execution_count": 142,
   "id": "8e8fc07d",
   "metadata": {
    "execution": {
     "iopub.execute_input": "2023-10-15T10:15:08.109327Z",
     "iopub.status.busy": "2023-10-15T10:15:08.108862Z",
     "iopub.status.idle": "2023-10-15T10:15:08.114957Z",
     "shell.execute_reply": "2023-10-15T10:15:08.113564Z"
    },
    "papermill": {
     "duration": 0.053412,
     "end_time": "2023-10-15T10:15:08.117608",
     "exception": false,
     "start_time": "2023-10-15T10:15:08.064196",
     "status": "completed"
    },
    "tags": []
   },
   "outputs": [],
   "source": [
    "# Listing virtual environments;\n",
    "# conda env list\n",
    "\n",
    "# Creating virtual environments;\n",
    "# conda create -n myenv\n",
    "\n",
    "# Activating a virtual environment;\n",
    "# conda activate environment_name\n",
    "\n",
    "# Deactivating the virtual environment;\n",
    "# conda deactivate\n",
    "\n",
    "# Installing a virtual library;\n",
    "# conda install library_name\n",
    "\n",
    "# To install multiple packages at the same time;\n",
    "# conda install first_library second_library .... (with a space between them)\n",
    "\n",
    "# Remove package;\n",
    "# conda remove package_name\n",
    "\n",
    "# Installing packages based on a specific version;\n",
    "# conda install numpy=1.20.1\n",
    "\n",
    "# Package upgrade;\n",
    "# conda upgrade package_name\n",
    "\n",
    "# Upgrading all packages;\n",
    "# conda upgrade -all\n",
    "\n",
    "# Remove environment;\n",
    "# conda env remove -n environment_name\n",
    "# and check if it is removed or not with \"conda env list\"\n",
    "\n",
    "# or with pip;\n",
    "\n",
    "# Installing package;\n",
    "# pip install package_name\n",
    "\n",
    "# Installing packages based on a specific version;\n",
    "# pip install pandas==1.2.1\n",
    "\n",
    "# File viewing is done with \"dir\" command in Windows. (\"ls\" for macOS)\n",
    "\n",
    "# To sending to someone who wanted to see versions of packages;\n",
    "# conda env export > environment_name.yaml\n",
    "\n",
    "# To restart any environment;\n",
    "# conda env create -f environment_name.yaml"
   ]
  },
  {
   "cell_type": "markdown",
   "id": "be189b69",
   "metadata": {
    "papermill": {
     "duration": 0.042937,
     "end_time": "2023-10-15T10:15:08.203628",
     "exception": false,
     "start_time": "2023-10-15T10:15:08.160691",
     "status": "completed"
    },
    "tags": []
   },
   "source": [
    "@ Created with the help of ChatGPT and the knowledge I gained from courses during my own learning process."
   ]
  }
 ],
 "metadata": {
  "kernelspec": {
   "display_name": "Python 3",
   "language": "python",
   "name": "python3"
  },
  "language_info": {
   "codemirror_mode": {
    "name": "ipython",
    "version": 3
   },
   "file_extension": ".py",
   "mimetype": "text/x-python",
   "name": "python",
   "nbconvert_exporter": "python",
   "pygments_lexer": "ipython3",
   "version": "3.10.12"
  },
  "papermill": {
   "default_parameters": {},
   "duration": 33.584935,
   "end_time": "2023-10-15T10:15:09.472831",
   "environment_variables": {},
   "exception": null,
   "input_path": "__notebook__.ipynb",
   "output_path": "__notebook__.ipynb",
   "parameters": {},
   "start_time": "2023-10-15T10:14:35.887896",
   "version": "2.4.0"
  }
 },
 "nbformat": 4,
 "nbformat_minor": 5
}
